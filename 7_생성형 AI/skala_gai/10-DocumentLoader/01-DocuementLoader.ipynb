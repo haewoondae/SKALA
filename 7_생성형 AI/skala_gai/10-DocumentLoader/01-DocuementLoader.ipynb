{
 "cells": [
  {
   "cell_type": "code",
   "execution_count": 1,
   "metadata": {},
   "outputs": [
    {
     "data": {
      "text/plain": [
       "True"
      ]
     },
     "execution_count": 1,
     "metadata": {},
     "output_type": "execute_result"
    }
   ],
   "source": [
    "# API KEY Loading\n",
    "from dotenv import load_dotenv\n",
    "\n",
    "load_dotenv()"
   ]
  },
  {
   "cell_type": "markdown",
   "metadata": {},
   "source": [
    "# Document Loaders \n",
    "\n",
    "파일로에서 텍스트 데이터를 구조화된 형태로 추출 \n",
    "\n",
    "- 주요 로더\n",
    "    - PyPDFLoader : PDF 파일 \n",
    "        - PDFPluberLoader : 메타정보를 더 많이 제공 \n",
    "        - PyMuPDFLoader\n",
    "    - CSVLoader : CSV 파일\n",
    "    - UnstructuredHTMLLoader : HTML 파일 \n",
    "    - JSONLoader : JSON 파일 \n",
    "    - TextLoader : TXT 파일 \n",
    "    - DirectoryLoader : 디렉토리 \n",
    "\n",
    "[Reference-1] 주요 로더 \n",
    "\n",
    "https://python.langchain.com/v0.1/docs/modules/data_connection/document_loaders/\n",
    "\n",
    "[Reference-2] 다양한 로더\n",
    "\n",
    "https://python.langchain.com/v0.1/docs/integrations/document_loaders/"
   ]
  },
  {
   "cell_type": "markdown",
   "metadata": {},
   "source": [
    "** 실습 자료 **\n",
    "\n",
    "소프트웨어정책연구소(SPRi), [AI Brief 스페셜] AI 에이전트 동향\n",
    "\n",
    "- 저자: 유재흥(AI정책연구실 책임연구원), 이해수(AI정책연구실 선임연구원)\n",
    "- 발생: 2024.12.10\n",
    "- 링크: https://spri.kr/posts/view/23798?code=AI-Brief&s_year=&data_page=1\n",
    "- 파일명: `SPRi AI Brief_Special_AI Agent_241209_F`\n",
    "\n",
    "(실습 준비)\n",
    "- `10-DocuementLoader` 폴더 하위에 `data` 폴더 생성 \n",
    "- 링크에서 다운로드 받은 파일을 `data` 폴더에 업로드 "
   ]
  },
  {
   "cell_type": "markdown",
   "metadata": {},
   "source": [
    "# Document \n",
    "\n",
    "- LangChain의 기본 문서 객체 "
   ]
  },
  {
   "cell_type": "code",
   "execution_count": 2,
   "metadata": {},
   "outputs": [],
   "source": [
    "from langchain_core.documents import Document"
   ]
  },
  {
   "cell_type": "code",
   "execution_count": 3,
   "metadata": {},
   "outputs": [],
   "source": [
    "document = Document(page_content=\"랭체인 도큐먼트 로더를 적용해 봅시다.\")"
   ]
  },
  {
   "cell_type": "code",
   "execution_count": 4,
   "metadata": {},
   "outputs": [
    {
     "data": {
      "text/plain": [
       "{'id': None,\n",
       " 'metadata': {},\n",
       " 'page_content': '랭체인 도큐먼트 로더를 적용해 봅시다.',\n",
       " 'type': 'Document'}"
      ]
     },
     "execution_count": 4,
     "metadata": {},
     "output_type": "execute_result"
    }
   ],
   "source": [
    "# 속성 확인\n",
    "document.__dict__"
   ]
  },
  {
   "cell_type": "code",
   "execution_count": 5,
   "metadata": {},
   "outputs": [
    {
     "data": {
      "text/plain": [
       "{}"
      ]
     },
     "execution_count": 5,
     "metadata": {},
     "output_type": "execute_result"
    }
   ],
   "source": [
    "# 메타정보 확인\n",
    "document.metadata"
   ]
  },
  {
   "cell_type": "code",
   "execution_count": 6,
   "metadata": {},
   "outputs": [],
   "source": [
    "# 메타정보 추가 반영\n",
    "document.metadata[\"source\"] = \"SKALA\"\n",
    "document.metadata[\"page\"] = 0\n",
    "document.metadata[\"autor\"] = \"김철수\""
   ]
  },
  {
   "cell_type": "code",
   "execution_count": 7,
   "metadata": {},
   "outputs": [
    {
     "data": {
      "text/plain": [
       "{'source': 'SKALA', 'page': 0, 'autor': '김철수'}"
      ]
     },
     "execution_count": 7,
     "metadata": {},
     "output_type": "execute_result"
    }
   ],
   "source": [
    "# 메타정보 확인\n",
    "document.metadata"
   ]
  },
  {
   "cell_type": "markdown",
   "metadata": {},
   "source": [
    "## loader.load()\n",
    "\n",
    "- 전체 문서 로딩\n",
    "- 전체 문서의 페이지 수 만큼 리스트 생성"
   ]
  },
  {
   "cell_type": "code",
   "execution_count": 9,
   "metadata": {},
   "outputs": [],
   "source": [
    "from langchain_community.document_loaders import PyPDFLoader"
   ]
  },
  {
   "cell_type": "code",
   "execution_count": 10,
   "metadata": {},
   "outputs": [],
   "source": [
    "# 실습 파일 정의\n",
    "file_path = \"./data/SPRi AI Brief_Special_AI Agent_241209_F.pdf\""
   ]
  },
  {
   "cell_type": "code",
   "execution_count": 12,
   "metadata": {},
   "outputs": [
    {
     "ename": "ValueError",
     "evalue": "File path ./data/SPRi AI Brief_Special_AI Agent_241209_F.pdf is not a valid file or url",
     "output_type": "error",
     "traceback": [
      "\u001b[31m---------------------------------------------------------------------------\u001b[39m",
      "\u001b[31mValueError\u001b[39m                                Traceback (most recent call last)",
      "\u001b[36mCell\u001b[39m\u001b[36m \u001b[39m\u001b[32mIn[12]\u001b[39m\u001b[32m, line 2\u001b[39m\n\u001b[32m      1\u001b[39m \u001b[38;5;66;03m# 로더 정의\u001b[39;00m\n\u001b[32m----> \u001b[39m\u001b[32m2\u001b[39m loader = \u001b[43mPyPDFLoader\u001b[49m\u001b[43m(\u001b[49m\u001b[43mfile_path\u001b[49m\u001b[43m)\u001b[49m\n\u001b[32m      4\u001b[39m \u001b[38;5;66;03m# 전체 문서 로딩\u001b[39;00m\n\u001b[32m      5\u001b[39m docs = loader.load()\n",
      "\u001b[36mFile \u001b[39m\u001b[32m/Library/Frameworks/Python.framework/Versions/3.11/lib/python3.11/site-packages/langchain_community/document_loaders/pdf.py:281\u001b[39m, in \u001b[36mPyPDFLoader.__init__\u001b[39m\u001b[34m(self, file_path, password, headers, extract_images, mode, images_parser, images_inner_format, pages_delimiter, extraction_mode, extraction_kwargs)\u001b[39m\n\u001b[32m    238\u001b[39m \u001b[38;5;28;01mdef\u001b[39;00m\u001b[38;5;250m \u001b[39m\u001b[34m__init__\u001b[39m(\n\u001b[32m    239\u001b[39m     \u001b[38;5;28mself\u001b[39m,\n\u001b[32m    240\u001b[39m     file_path: Union[\u001b[38;5;28mstr\u001b[39m, PurePath],\n\u001b[32m   (...)\u001b[39m\u001b[32m    250\u001b[39m     extraction_kwargs: Optional[\u001b[38;5;28mdict\u001b[39m] = \u001b[38;5;28;01mNone\u001b[39;00m,\n\u001b[32m    251\u001b[39m ) -> \u001b[38;5;28;01mNone\u001b[39;00m:\n\u001b[32m    252\u001b[39m \u001b[38;5;250m    \u001b[39m\u001b[33;03m\"\"\"Initialize with a file path.\u001b[39;00m\n\u001b[32m    253\u001b[39m \n\u001b[32m    254\u001b[39m \u001b[33;03m    Args:\u001b[39;00m\n\u001b[32m   (...)\u001b[39m\u001b[32m    279\u001b[39m \u001b[33;03m        `aload` methods to retrieve parsed documents with content and metadata.\u001b[39;00m\n\u001b[32m    280\u001b[39m \u001b[33;03m    \"\"\"\u001b[39;00m\n\u001b[32m--> \u001b[39m\u001b[32m281\u001b[39m     \u001b[38;5;28;43msuper\u001b[39;49m\u001b[43m(\u001b[49m\u001b[43m)\u001b[49m\u001b[43m.\u001b[49m\u001b[34;43m__init__\u001b[39;49m\u001b[43m(\u001b[49m\u001b[43mfile_path\u001b[49m\u001b[43m,\u001b[49m\u001b[43m \u001b[49m\u001b[43mheaders\u001b[49m\u001b[43m=\u001b[49m\u001b[43mheaders\u001b[49m\u001b[43m)\u001b[49m\n\u001b[32m    282\u001b[39m     \u001b[38;5;28mself\u001b[39m.parser = PyPDFParser(\n\u001b[32m    283\u001b[39m         password=password,\n\u001b[32m    284\u001b[39m         mode=mode,\n\u001b[32m   (...)\u001b[39m\u001b[32m    290\u001b[39m         extraction_kwargs=extraction_kwargs,\n\u001b[32m    291\u001b[39m     )\n",
      "\u001b[36mFile \u001b[39m\u001b[32m/Library/Frameworks/Python.framework/Versions/3.11/lib/python3.11/site-packages/langchain_community/document_loaders/pdf.py:140\u001b[39m, in \u001b[36mBasePDFLoader.__init__\u001b[39m\u001b[34m(self, file_path, headers)\u001b[39m\n\u001b[32m    138\u001b[39m         \u001b[38;5;28mself\u001b[39m.file_path = \u001b[38;5;28mstr\u001b[39m(temp_pdf)\n\u001b[32m    139\u001b[39m \u001b[38;5;28;01melif\u001b[39;00m \u001b[38;5;129;01mnot\u001b[39;00m os.path.isfile(\u001b[38;5;28mself\u001b[39m.file_path):\n\u001b[32m--> \u001b[39m\u001b[32m140\u001b[39m     \u001b[38;5;28;01mraise\u001b[39;00m \u001b[38;5;167;01mValueError\u001b[39;00m(\u001b[33m\"\u001b[39m\u001b[33mFile path \u001b[39m\u001b[38;5;132;01m%s\u001b[39;00m\u001b[33m is not a valid file or url\u001b[39m\u001b[33m\"\u001b[39m % \u001b[38;5;28mself\u001b[39m.file_path)\n",
      "\u001b[31mValueError\u001b[39m: File path ./data/SPRi AI Brief_Special_AI Agent_241209_F.pdf is not a valid file or url"
     ]
    }
   ],
   "source": [
    "# 로더 정의\n",
    "loader = PyPDFLoader(file_path)\n",
    "\n",
    "# 전체 문서 로딩\n",
    "docs = loader.load()\n",
    "\n",
    "# 로딩된 페이지수 확인\n",
    "len(docs)"
   ]
  },
  {
   "cell_type": "code",
   "execution_count": 11,
   "metadata": {},
   "outputs": [
    {
     "name": "stdout",
     "output_type": "stream",
     "text": [
      "page_content='[AI브리프 스페셜 ] AI 에이전트 동향\n",
      "2024 년 12월호' metadata={'source': './data/SPRi AI Brief_Special_AI Agent_241209_F.pdf', 'page': 0}\n"
     ]
    }
   ],
   "source": [
    "# 첫번째 문서 내용 확인\n",
    "print(docs[0])"
   ]
  },
  {
   "cell_type": "code",
   "execution_count": 12,
   "metadata": {},
   "outputs": [
    {
     "name": "stdout",
     "output_type": "stream",
     "text": [
      "page_content=' SPRi AI Brief Special |  2024-12 월호\n",
      "1AI 에이전트 동향\n",
      "– 빅테크 기업의 AI 에이전트 사례를 중심으로  \n",
      "최근 생성형 AI의 확산과 함께 인간과 상호작용이 가능한 AI 에이전트에 대한 관심이 \n",
      "급증하고 있으며 , 향후 몇 년 안에 관련 시장이 급속히 성장할 것으로 예상된다 . 빅테크 \n",
      "기업들이 AI 에이전트 시장에 잇따라 진출하며 다양한 수익 모델을 창출하고 있는 \n",
      "상황이다 . 그러나 AI 에이전트는 기술적 , 사회적 , 윤리적 , 법적 문제를 초래할 가능성도 \n",
      "내포하고 있다. 앞으로 AI 에이전트는 기술 혁신과 사회 변화를 주도하는 핵심 요소로 \n",
      "자리 잡으며 , 기업의 업무방식과 개인의 삶에 깊숙이 통합되어 획기적인 변화를 이끌어갈 \n",
      "것으로 전망된다 .\n",
      "1. AI 에이전트 (AI Agent) 의 도입 및 부상 \n",
      "1) AI 에이전트의 정의 \n",
      "£AI 에이전트에 대한 합의된 학술적 정의는 부재하나 , 관련 연구에서 는 AI 에이전트를  단순한 \n",
      "AI 모델이나 알고리즘과 구별하여  설명하 며, 특히 상호작용과 독립적 인 의사결정 능력을 강조 \n",
      "∙스튜어트 러셀(Stuart Russell) 과 피터 노비그 (Peter Norvig) 는 2021년 출판한 저서 ‘인공지능 – 현대적 \n",
      "접근법 ’에서 에이전트 (Agent) 는 센서를 통해 환경을 인식하고 센서가 액추에이터를 통해 해당 환경에 \n",
      "작용하는 것으로 , 합리적 에이전트 (Rational Agent) 는 최선의 결과를 달성하기 위해 행동하거나 , \n",
      "불확실성이 있는 경우 최선의 기대 결과를 얻기 위해 행동하는 행위자로 정의1) \n",
      "∙알란 찬(ALan Chan) 등은 2024년 발간된 연구논문인 ‘AI 에이전트에 대한 가시성 ’2)에서 많은 AI \n",
      "개발자들 이 더 큰 자율성 , 외부 도구나 서비스 접근, 장기적 목표 달성을 위해 안정적으로 적응하고 \n",
      "계획하 며 지속적  행동할 수 있는 능력 향상을 갖춘 시스템을 제작하고 있다고 설명하면서 이러한 시스템에 \n",
      "대해 AI 에이전트 (AI agents 또는 agentic systems) 라고 지칭\n",
      "1) Russell, S. J., & Norvig, P.  Artificial Intelligence: A Modern Approach (4th ed.). Pearson. 2021\n",
      "2) Alan Chan 외, Visibility into AI Agents, 2024' metadata={'source': './data/SPRi AI Brief_Special_AI Agent_241209_F.pdf', 'page': 1}\n"
     ]
    }
   ],
   "source": [
    "print(docs[1])"
   ]
  },
  {
   "cell_type": "markdown",
   "metadata": {},
   "source": [
    "1) Russell, S. J., & Norvig, P.  Artificial Intelligence: A Modern Approach (4th ed.). Pearson. 2021\n",
    "2) Alan Chan 외, Visibility into AI Agents, 2024' metadata={'source': './data/SPRi AI Brief_Special_AI Agent_241209_F.pdf', 'page': 1}\n",
    "\n",
    "이런건 주석인데 뭐가 중요한지, 잘라내야 하는지 확인하고 하자. "
   ]
  },
  {
   "cell_type": "markdown",
   "metadata": {},
   "source": [
    "### RecursiveCharacterTextSplitter\n",
    "\n",
    "1. 개요\n",
    "    - 텍스트 데이터가 너무 길어 AI모델이 처리할 수 없는 경우 적절히 분할 필요 \n",
    "    - 분할된 텍스트가 문장이나 단어와 같은 의미 단위를 유지하도록 보장 \n",
    "\n",
    "2. 특징\n",
    "    - 재귀적 방식:\n",
    "        - 큰 의미 단위(문단)를 기준으로 분할 시도 \n",
    "        - 문단 길이가 너무 길면 문장 단위, 단어 단위로 점진적으로 분할 \n",
    "    - 문맥 유지:\n",
    "        - 단순히 텍스트를 자르는 것이 아니라, 문맥을 보존할 수 있는 크기로 나눔 \n",
    "    - 파라미터:\n",
    "        - `chunk_size`, `chunk_overlap` 통해 분할 크기와 중복 정보 조절 \n",
    "        - 모델 입력 길이에 따라 적용 가능 \n",
    "\n",
    "[Reference] https://python.langchain.com/v0.1/docs/modules/data_connection/document_transformers/recursive_text_splitter/"
   ]
  },
  {
   "cell_type": "code",
   "execution_count": 13,
   "metadata": {},
   "outputs": [],
   "source": [
    "from langchain_text_splitters import RecursiveCharacterTextSplitter"
   ]
  },
  {
   "cell_type": "code",
   "execution_count": 14,
   "metadata": {},
   "outputs": [
    {
     "name": "stdout",
     "output_type": "stream",
     "text": [
      "문서의 길이: 212\n"
     ]
    }
   ],
   "source": [
    "# 분할기 정의\n",
    "text_splitter = RecursiveCharacterTextSplitter(chunk_size=200, chunk_overlap=0)\n",
    "\n",
    "# 문서 분할\n",
    "split_docs = loader.load_and_split(text_splitter=text_splitter)\n",
    "print(f\"문서의 길이: {len(split_docs)}\")"
   ]
  },
  {
   "cell_type": "code",
   "execution_count": 15,
   "metadata": {},
   "outputs": [
    {
     "name": "stdout",
     "output_type": "stream",
     "text": [
      "page_content='SPRi AI Brief Special |  2024-12 월호\n",
      "1AI 에이전트 동향\n",
      "– 빅테크 기업의 AI 에이전트 사례를 중심으로  \n",
      "최근 생성형 AI의 확산과 함께 인간과 상호작용이 가능한 AI 에이전트에 대한 관심이 \n",
      "급증하고 있으며 , 향후 몇 년 안에 관련 시장이 급속히 성장할 것으로 예상된다 . 빅테크' metadata={'source': './data/SPRi AI Brief_Special_AI Agent_241209_F.pdf', 'page': 1}\n"
     ]
    }
   ],
   "source": [
    "print(split_docs[1])"
   ]
  },
  {
   "cell_type": "code",
   "execution_count": 16,
   "metadata": {},
   "outputs": [
    {
     "name": "stdout",
     "output_type": "stream",
     "text": [
      "page_content='∙AWS는 Amazon 의 클라우드 서비스 플랫폼으로 , 고객 서비스 , 보안, 데이터 분석 등 여러 산업에 걸쳐 \n",
      "다양한 AI 기술을 활용\n",
      "∙Amazon Lex, Amazon Polly, Amazon Transcribe 와 같은 AWS의 AI 에이전트 기능은 음성 인식,' metadata={'source': './data/SPRi AI Brief_Special_AI Agent_241209_F.pdf', 'page': 13}\n"
     ]
    }
   ],
   "source": [
    "print(split_docs[100])"
   ]
  },
  {
   "cell_type": "markdown",
   "metadata": {},
   "source": [
    "## loader.lazy_load()\n",
    "\n",
    "- 문서 사이즈가 커서 메모리에 모두 올리기 어려운 경우 \n",
    "- 순차적으로 문서 처리 (generator 방식) 되도록 하여 메모리 절약 효과 "
   ]
  },
  {
   "cell_type": "code",
   "execution_count": 17,
   "metadata": {},
   "outputs": [
    {
     "name": "stdout",
     "output_type": "stream",
     "text": [
      "{'source': './data/SPRi AI Brief_Special_AI Agent_241209_F.pdf', 'page': 0}\n",
      "{'source': './data/SPRi AI Brief_Special_AI Agent_241209_F.pdf', 'page': 1}\n",
      "{'source': './data/SPRi AI Brief_Special_AI Agent_241209_F.pdf', 'page': 2}\n",
      "{'source': './data/SPRi AI Brief_Special_AI Agent_241209_F.pdf', 'page': 3}\n",
      "{'source': './data/SPRi AI Brief_Special_AI Agent_241209_F.pdf', 'page': 4}\n",
      "{'source': './data/SPRi AI Brief_Special_AI Agent_241209_F.pdf', 'page': 5}\n",
      "{'source': './data/SPRi AI Brief_Special_AI Agent_241209_F.pdf', 'page': 6}\n",
      "{'source': './data/SPRi AI Brief_Special_AI Agent_241209_F.pdf', 'page': 7}\n",
      "{'source': './data/SPRi AI Brief_Special_AI Agent_241209_F.pdf', 'page': 8}\n",
      "{'source': './data/SPRi AI Brief_Special_AI Agent_241209_F.pdf', 'page': 9}\n",
      "{'source': './data/SPRi AI Brief_Special_AI Agent_241209_F.pdf', 'page': 10}\n",
      "{'source': './data/SPRi AI Brief_Special_AI Agent_241209_F.pdf', 'page': 11}\n",
      "{'source': './data/SPRi AI Brief_Special_AI Agent_241209_F.pdf', 'page': 12}\n",
      "{'source': './data/SPRi AI Brief_Special_AI Agent_241209_F.pdf', 'page': 13}\n",
      "{'source': './data/SPRi AI Brief_Special_AI Agent_241209_F.pdf', 'page': 14}\n",
      "{'source': './data/SPRi AI Brief_Special_AI Agent_241209_F.pdf', 'page': 15}\n",
      "{'source': './data/SPRi AI Brief_Special_AI Agent_241209_F.pdf', 'page': 16}\n",
      "{'source': './data/SPRi AI Brief_Special_AI Agent_241209_F.pdf', 'page': 17}\n",
      "{'source': './data/SPRi AI Brief_Special_AI Agent_241209_F.pdf', 'page': 18}\n",
      "{'source': './data/SPRi AI Brief_Special_AI Agent_241209_F.pdf', 'page': 19}\n",
      "{'source': './data/SPRi AI Brief_Special_AI Agent_241209_F.pdf', 'page': 20}\n",
      "{'source': './data/SPRi AI Brief_Special_AI Agent_241209_F.pdf', 'page': 21}\n",
      "{'source': './data/SPRi AI Brief_Special_AI Agent_241209_F.pdf', 'page': 22}\n",
      "{'source': './data/SPRi AI Brief_Special_AI Agent_241209_F.pdf', 'page': 23}\n",
      "{'source': './data/SPRi AI Brief_Special_AI Agent_241209_F.pdf', 'page': 24}\n",
      "{'source': './data/SPRi AI Brief_Special_AI Agent_241209_F.pdf', 'page': 25}\n",
      "{'source': './data/SPRi AI Brief_Special_AI Agent_241209_F.pdf', 'page': 26}\n"
     ]
    }
   ],
   "source": [
    "for doc in loader.lazy_load():\n",
    "    print(doc.metadata)"
   ]
  },
  {
   "cell_type": "markdown",
   "metadata": {},
   "source": [
    "# loader.aload()\n",
    "\n",
    "- 비동기 방식으로 문서 로드 \n",
    "- 주로 다양한 입출력 작업이 벙렬로 이루어져야 하는 경우나 처리 시간이 오려 걸리는 작업에 적용 "
   ]
  },
  {
   "cell_type": "code",
   "execution_count": 18,
   "metadata": {},
   "outputs": [],
   "source": [
    "adocs = loader.aload()"
   ]
  },
  {
   "cell_type": "code",
   "execution_count": 19,
   "metadata": {},
   "outputs": [
    {
     "data": {
      "text/plain": [
       "[Document(metadata={'source': './data/SPRi AI Brief_Special_AI Agent_241209_F.pdf', 'page': 0}, page_content='[AI브리프 스페셜 ] AI 에이전트 동향\\n2024 년 12월호'),\n",
       " Document(metadata={'source': './data/SPRi AI Brief_Special_AI Agent_241209_F.pdf', 'page': 1}, page_content=' SPRi AI Brief Special |  2024-12 월호\\n1AI 에이전트 동향\\n– 빅테크 기업의 AI 에이전트 사례를 중심으로  \\n최근 생성형 AI의 확산과 함께 인간과 상호작용이 가능한 AI 에이전트에 대한 관심이 \\n급증하고 있으며 , 향후 몇 년 안에 관련 시장이 급속히 성장할 것으로 예상된다 . 빅테크 \\n기업들이 AI 에이전트 시장에 잇따라 진출하며 다양한 수익 모델을 창출하고 있는 \\n상황이다 . 그러나 AI 에이전트는 기술적 , 사회적 , 윤리적 , 법적 문제를 초래할 가능성도 \\n내포하고 있다. 앞으로 AI 에이전트는 기술 혁신과 사회 변화를 주도하는 핵심 요소로 \\n자리 잡으며 , 기업의 업무방식과 개인의 삶에 깊숙이 통합되어 획기적인 변화를 이끌어갈 \\n것으로 전망된다 .\\n1. AI 에이전트 (AI Agent) 의 도입 및 부상 \\n1) AI 에이전트의 정의 \\n£AI 에이전트에 대한 합의된 학술적 정의는 부재하나 , 관련 연구에서 는 AI 에이전트를  단순한 \\nAI 모델이나 알고리즘과 구별하여  설명하 며, 특히 상호작용과 독립적 인 의사결정 능력을 강조 \\n∙스튜어트 러셀(Stuart Russell) 과 피터 노비그 (Peter Norvig) 는 2021년 출판한 저서 ‘인공지능 – 현대적 \\n접근법 ’에서 에이전트 (Agent) 는 센서를 통해 환경을 인식하고 센서가 액추에이터를 통해 해당 환경에 \\n작용하는 것으로 , 합리적 에이전트 (Rational Agent) 는 최선의 결과를 달성하기 위해 행동하거나 , \\n불확실성이 있는 경우 최선의 기대 결과를 얻기 위해 행동하는 행위자로 정의1) \\n∙알란 찬(ALan Chan) 등은 2024년 발간된 연구논문인 ‘AI 에이전트에 대한 가시성 ’2)에서 많은 AI \\n개발자들 이 더 큰 자율성 , 외부 도구나 서비스 접근, 장기적 목표 달성을 위해 안정적으로 적응하고 \\n계획하 며 지속적  행동할 수 있는 능력 향상을 갖춘 시스템을 제작하고 있다고 설명하면서 이러한 시스템에 \\n대해 AI 에이전트 (AI agents 또는 agentic systems) 라고 지칭\\n1) Russell, S. J., & Norvig, P.  Artificial Intelligence: A Modern Approach (4th ed.). Pearson. 2021\\n2) Alan Chan 외, Visibility into AI Agents, 2024'),\n",
       " Document(metadata={'source': './data/SPRi AI Brief_Special_AI Agent_241209_F.pdf', 'page': 2}, page_content='SPRi AI Brief Special |  2024-12 월호\\n2£가트너는 AI 에이전트를 ‘에이젠틱 AI(Agentic AI)’로 칭하고 , AI 기술을 사용하여 작업을 \\n완료하고 목표를 달성하는 목표 중심 소프트웨어 엔터티로 정의3)\\n∙‘에이젠틱 AI’는 명시적 인 입력 없이 지침을 받고, 계획을 세우고, 도구를 사용하여 작업을 완료하 며, 미리 \\n정해진 출력을 생성하지 않고, 동적 출력을 생성할 수 있다고 설명\\n∙AI 에이전시  스펙트럼을 제시하면서 한쪽 끝에는 특정 작업을 제한적으로 수행하는 전통적인 시스템이 있고, 반대편에는 \\n환경에서 학습하고 독립적으로 결정 및 작업을 수행할 수 있는 완전한 에이전틱 AI 시스템이 있다고 설명 \\n<AI 에이전시 (AI Agency) 갭>\\n※ 출처: Gartner, Intelligent Agents in AI Really Can Work Alone. Here’s How, 2024.10.1\\n£ISO/IEC 는 AI 관련 표준에서 에이전트 (Agent) 와 AI 에이전트 (AI Agent) 를 구분하여  정의 \\n∙에이전트 (Agent) 는 ‘환경을 인식하고 목표를 달성하기 위해 조치를 취하는 자동화된 엔티티 ’라고 정의하고 , \\nAI 에이전트 (AI Agent) 는 “AI 기술을 사용하여 목표를 성공적으로 달성할 가능성을 최대화하는 \\n에이전트 ”라고 정의(ISO/IEC DIS 22989)4)\\n* ISO/IEC 22989 에서 AI 시스템 은 \"인간이 정의한 목표에 대해 콘텐츠 , 예측, 권장 사항 또는 결정과 같은 출력을 생성하는 \\n엔지니어링 시스템 ‘이라고 정의 \\n£AI 에이전트 관련 기능을 제공하는 기업들은 AI 에이전트 (또는 유사 개념)를 기업의 특성을 \\n반영하여 다양한 방식으로 정의 \\n∙세일즈포스는 AI 에이전트를 “인간의 개입 없이 고객 문의를 이해하고 응답할 수 있는 일종의 인공지능 \\n시스템 ”5)으로 정의\\n3) Gartner, Intelligent Agents in AI Really Can Work Alone. Here’s How, 2024.10.1\\n4) ISO, ISO/IEC DIS 22989(en), https://www.iso.org/obp/ui/#iso:std:iso-iec:22989:dis:ed-1:v1:en:sec:3.1.2'),\n",
       " Document(metadata={'source': './data/SPRi AI Brief_Special_AI Agent_241209_F.pdf', 'page': 3}, page_content=' SPRi AI Brief Special |  2024-12 월호\\n3∙IBM은 AI 에이전트를 ‘워크플로를 설계하고 사용 가능한 도구를 활용하여 사용자 또는 다른 시스템을 \\n대신하여 작업을 자율적으로 수행할 수 있는 시스템이나 프로그램 ’6)으로 정의  \\n2) AI 에이전트의 부상 배경 \\n£AI 에이전트는 AI 기술이 발전함에 따라 점차 많은 관심을 받고 있는 상황\\n∙클라우드 컴퓨팅과 엣지 컴퓨팅의 발전은 AI 에이전트가 실시간으로 데이터를 처리하고 빠르게 의사결정을 \\n내릴 수 있도록 지원\\n∙강화 학습(reinforcement learning), 자연어 처리(NLP), 컴퓨터 비전 등의 분야에서 AI 알고리즘이 \\n발전하면서 , AI 에이전트가 더욱 정교한  의사결정을 수행하고 다양한 상황에 서 유연한 대응이 가능\\n∙고객서비스 , 스마트홈 , 산업 자동화 등에서 사용자와의 자연스러운 상호작용을 요구하는 환경이 늘어나면서 \\nAI 에이전트의 수요가 확대\\n£더불어 AI 에이전트 관련 새로운  시장 기회와 가능성에 대한 기대가 증대\\n∙AI 에 이 전 트 는  고 객  서 비 스 와  개 인  비 서, 자 율 주 행  차 량, 스 마 트 팩 토 리  등  다 양 한  산 업 에  활 용 될  수  있 어서 시 장  기 회  확 대\\n∙AI 에이전트는 개인화 서비스 , 실시간 대응 및 상호작용 등 기존 기술로는 구현하기 어려운 혁신적인 \\n서비스를 제공하여 새로운 부가 가치 창출 가능\\n∙AI 에이전트 개발은 AI 기술의 발전뿐  아니라 데이터 과학, 컴퓨팅 하드웨어 , 클라우드 인프라 등의 다양한 \\n기술 생태계의 성장과도 밀접하게 연관되어 기술적 , 경제적 성장 기회 창출 전망 \\n3) AI 에이전트 시장 전망\\n£시장조사기관인 Markets&Markets 는 전 세계 AI 에이전트 시장이 2024년 51억 달러에서 20\\n30년 471억 달러로 빠르게 성장할 것으로 예상하고, 연평균 성장률 (CAGR) 은 44.8% 로 전망7)\\n∙AI 에이전트들이 더욱 정교한 상호작용과 맥락 인식을 가능하게 하여 고객 서비스 , 의료, 금융 분야에서의 \\n활용이 증가하고 , 다중 에이전트 시스템의 협력이 AI 시장 성장으로 주요 요인으로 작용 \\n∙AI 에이전트는 주로 NLP, 머신러닝 , 컴퓨터 비전 등을 포함하며 , 완전 자율부터 반자율 형태로 다양한 업무 \\n자동화와 데이터 분석을 지원하는 소프트웨어로 사용\\n5) Salesforce, What Are AI Agents? A Complete Guide, https://www.salesforce.com/agentforce/what-are-ai-agents/#what\\n6) IBM, What are AI agents?, https://www.ibm.com/think/topics/ai-agents\\n7) https://www.marketsandmarkets.com/Market-Reports/ai-agents-market-15761548.html'),\n",
       " Document(metadata={'source': './data/SPRi AI Brief_Special_AI Agent_241209_F.pdf', 'page': 4}, page_content='SPRi AI Brief Special |  2024-12 월호\\n4<AI 에이전트 시장 전망(2024~2023 )>\\n* 출처: Markets&Markets\\n£또 다른 시장조사기관 인 Grand View Research 도 글로벌 AI 에이전트 시장 규모를 \\n2023년에 38억 6천만 달러로 추정하고 , 2024년에서 2030년까지 연평균 성장률 (CAGR)  \\n45.1% 로 성장할 것으로 예상8)\\n∙개인화된 상호작용에 대한 소비자 기대, 데이터 활용을 통한 맞춤형 추천과 고객 지원, 전자 상거래와 의료 \\n분야에서의 고객 참여 및 운영 간소화 등이 AI 에이전트 시장 성장의 주요 동인으로 작용\\n∙또한 보안 시스템에서의 실시간 위협 대응과 이상 감지, 머신러닝 및 NLP 기술의 발전이 AI 에이전트 기능 \\n향상에 기여하여 , 복잡한 작업에서도 AI 에이전트의 도입이 증가\\n£Grand View Research 는 AI 에이전트의 시장에서 지역별로는 북미 지역, 산업별로는 \\n의료산업 이 시장 성장을 주도할 것으로 분석9)  \\n∙(지역) 북미 AI 에이전트 시장은 2023년 40.0% 가 넘는 매출 점유율로 글로벌 산업을 주도했으며 , \\nGoogle, Microsoft, IBM Corporation 을 포함한 주요 기술 회사가 AI 에이전트 기술 개발을 선도하고,   \\n스타트업 생태계를 보유하고 있어 금융 및 교육과 같은 다양한 부문에서 AI 에이전트 발전을 촉진\\n∙(산업) 의료 부문은 2030년까지 가장 높은 CAGR 을 보일 것으로 예상되며 , 환자 참여 개선, 운영 효율성 , \\n향상된 진단 및 의사 결정 지원, 웨어러블 기기와의 통합과 같은 다양한 요인이 의료 부문의 성장을 주도\\n8) Grand View Research, https://www.grandviewresearch.com/industry-analysis/ai-agents-market-report\\n9) Grand View Research, https://www.grandviewresearch.com/industry-analysis/ai-agents-market-report'),\n",
       " Document(metadata={'source': './data/SPRi AI Brief_Special_AI Agent_241209_F.pdf', 'page': 5}, page_content=' SPRi AI Brief Special |  2024-12 월호\\n52. AI 에이전트 주요 사례 \\n1) Microsoft\\n£(개요) Microsoft 는 클라우드 플랫폼 Azure 를 중심으로 강력한 AI 에이전트를 개발 및 \\n제공하며 , 특히 OpenAI 와의 파트너십을 통해 ChatGPT 와 기타 AI 모델을 Azure 에 \\n통합하여 다양한 상용화 제품을 출시\\n∙‘Power Virtual Agents’ 를 포함한 Microsoft 의 제품군 은 기업용 서비스 , 사무 자동화 , 개발자 지원 도구 \\n등 다양한 분야에 걸쳐 AI 에이전트와 같은 기능을 지원\\n※ Fortune 500 기업 중 60%가 Microsoft 365 Copilot 을 사용하여 비즈니스 혁신과 조직의 역량을 강화10)\\n<Microsoft 제품군 >  \\n*출처: microsoft.com\\n£(기능/기술) Microsoft 의 제품군 은 다양한 플랫폼과 통합되어 , 기업들이 AI 에이전트를 \\n활용해 업무 협업, 고객 응대 자동화 , 챗봇 구축 등을 쉽게 수행 지원\\n∙‘Copilot Studio’ 는 Microsoft 의 다양한 플랫폼 (예: Office 365, Teams, Power Platform) 과 통합되어 \\n있어, 기업의 업무 환경에서 사용자가 생성한 AI 에이전트와 협업할 수 있도록 지원\\n∙Microsoft 의 ‘Azure OpenAI Service’ 는 OpenAI 의 GPT 모델을 자사의 클라우드 플랫폼인 Azure 를 \\n통해 제공하여 사용자들은 대화형 응답, 자동화된 고객 서비스 , 정보 요약 등 여러 작업을 수행 가능11)\\n∙Microsoft 의 ‘Power Virtual Agents’ 로 기업 고객은 코딩 없이 인터페이스 를 AI 챗봇으로 쉽게 구축 가능 12)  \\n10) Microsoft, New autonomous agents scale your team like never before, 2024.10.21\\n11) Microsoft, Azure OpenAI Service, https://azure.microsoft.com/en-us/products/ai-services/openai-service'),\n",
       " Document(metadata={'source': './data/SPRi AI Brief_Special_AI Agent_241209_F.pdf', 'page': 6}, page_content=\"SPRi AI Brief Special |  2024-12 월호\\n6£(수익 모델) Microsoft 는 AI 관련 제품군 을 구독 모델로 제공하며 , 기업과 개인 사용자가 \\nAzure 클라우드를 통해 AI 기능을 필요에 따라 활용할 수 있도록 지원\\n∙Microsoft 는 OpenAI 의 모델을 Azure 클라우드에서 제공하며 , 기업 고객은 이 API를 구독하여 모델을 활용 가능\\n∙Office 365에 통합된 Copilot 기능은 상용화된 서비스로 , 기업 고객과 개인 사용자가 Copilot 의 생산성 \\n향상 기능을 사용하기 위해 추가 요금 지불\\n∙Power Virtual Agents 를 포함한 Power Platform 은 구독 모델로 제공되며 , 사용자는 다양한 비즈니스 \\n응용 프로그램에서 AI 기능을 활용 가능\\n£(최신 동정) Microsoft 는 새로운 단계의 Microsoft 365 Copilot 혁신 서비스들을 발표\\n∙2024년 9월 Microsoft 는 새로운 단계의 Microsoft 365 Copilot 혁신 서비스들을 발표하면서 , \\nMicrosoft Copilot Studio 로 구축되어 비즈니스를 혁신할 수 있는 Copilot 에이전트를 소개13)\\n※ Copilot 에이전트들은 이메일 보내기 , 레코드 업데이트 또는 지원 티켓 만들기와 같은 새로운 기술을 에이전트에게 제공하여 \\n에이전트의 기능을 확장할 수도 있음 \\n∙2024년 11월 20일, Microsoft 는 ‘Microsoft Ignite 2024’ 행사에서 AI 에이전트 시대를 열겠다고 \\n밝히면서 AI 기반 작업 도우미인 마이크로소프트 365 Copilot 의 신규 AI 에이전트와 기능, 자율 \\n에이전트 (autonomous agents) 등을 대거 선보임14) \\n※ ‘Microsoft Ignite 2024’ 행사에서 선보인 AI 에이전트 : 금융통찰력 에이전트 (Financial Insights Agent), 공장운영 \\n에이전트 (Factory Operations Agent), 공장안전 에이전트 (Factory Safety Agent), 개인쇼핑 에이전트 (Personalized \\nShopping Agent), 스토어 운영 에이전트 (Store Operations Agent), 대민 서비스 에이전트 (Citizen Services agent) 등 \\n2) Google\\n£(개요) Google 은 Google Assistant, Dialogflow, Duplex 등을 통해 사용자 경험을 \\n극대화하 고 있으며, 대화형 AI 생성 도구인 'Vertex AI Agent Builder' 를 제공하고 , \\n‘Project Astra’ 를 통해 보편적인 AI 에이전트를 개발 중 \\n∙Google 은 AI 기술을 활용하여 사용자 경험을 극대화하고 다양한 산업에  적용 가능한 AI 에이전트로  \\nGoogle Assistant, Dialogflow, Duplex 등을 제공하며 , 이러한 AI 에이전트는 자연어 처리와 음성 인식 \\n기술을 바탕으로 더욱 풍부한 사용자 경험을 제공\\n12) Microsoft, Power Virtual Agents (Preview), https://learn.microsoft.com/ko-kr/connectors/powervirtualagents/\\n13) Microsoft , Unveiling Copilot agents built with Microsoft Copilot Studio to supercharge your business, 2024.9.16\\n14) https://www.microsoft.com/en-us/industry/blog/general/2024/11/20/unlocking-the-future-ai-and-data-revolutionize\\n-industries-at-microsoft-ignite-2024/\"),\n",
       " Document(metadata={'source': './data/SPRi AI Brief_Special_AI Agent_241209_F.pdf', 'page': 7}, page_content=' SPRi AI Brief Special |  2024-12 월호\\n7∙최근 고급 챗봇과 대화형 AI 기능울 \\u200b생성할 수 있도록 지원하는 도구로 ‘Vertex AI Agent Builder’ 제공\\n∙Gemini 모델을 기반으로 한 ‘Project Astra’ 는 다중모드 정보를 처리하고 , 사용자의 상황을 이해하 며, \\n대화에서 자연스럽게 응답할 수 있는 AI 어시스턴트의 미래를 탐구\\n물리적 그림 설명 조망 그림 인식 물체 순서 기억\\n<구글의 Project Astra 활용 예시>\\n*출처: deepmind.google15)\\n£(기능/기술) Google 의 AI 에이전트들은 일정 관리, 챗봇, 전화 예약 등 다양한 작업을 지원\\n∙(Google Assistant) Google 의 대표적인 AI 에이전트로 , 사용자와의 음성 및 텍스트 대화를 통해 일상 \\n업무를 지원하 고, 스마트폰 , 스피커 , 스마트 디스플레이 등 다양한 디바이스에서 사용 가능하며 , 일정 관리, \\n정보 검색, 스마트홈 기기 제어, 번역 등의 기능을 제공\\n∙(Dialogflow) 비즈니스용 AI 챗봇을 쉽게 개발할 수 있는 Google 의 대화형 AI 플랫폼으료 , Dialogflow 를 \\n통해 구축된 챗봇은 고객의 질문을 이해하고 자동으로 응답을 생성하며 , FAQ 처리, 예약 관리와 같은 \\n구체적인 작업을 수행 가능\\n∙(Google Duplex) AI 기반 전화 응대 서비스로 , 사용자를 대신해 전화로 예약이나 문의를 수행할 수 있도록 \\n설계되었으며 , Duplex 는 자연스러운 음성 대화와 맥락 이해를 통해 사람처럼 전화 통화를 진행하며 , \\n음식점 예약, 미용실 예약 등의 작업에서 상황을 인식하고 사용자 대신 특정 작업을 수행할 수 있음\\n£(수익 모델) Google Assistant 와 관련된 검색 결과와 정보 제공 과정에서 광고를 통한 \\n수익 창출이 이루어짐 \\n∙Google 은 Dialogflow 를 구독 서비스 형태로 제공하여 기업이 챗봇을 쉽게 구축하고 API 사용량에 따라 \\n요금 부과\\n∙Google Assistant 와 관련된 검색 결과와 정보 제공 과정에서 광고를 통한 수익 창출이 이루어짐\\n15) Deepmind, Project Astra,  https://deepmind.google/technologies/gemini/project-astra'),\n",
       " Document(metadata={'source': './data/SPRi AI Brief_Special_AI Agent_241209_F.pdf', 'page': 8}, page_content=\"SPRi AI Brief Special |  2024-12 월호\\n8£(최신 동정) Google 의 ‘Vertex AI Agent Builder’ 등 최근의 제품군들은 고급 챗봇 및 \\n대화형 AI 기능을 강화\\n∙Google  클라우드는 2024년 4월 라스베이거스에서 열린 ‘Google Cloud Next '24’에서 고급 챗봇 및 \\n기타 대화형 AI 기능을 보다 쉽게 \\u200b\\u200b생성할 수 있도록 지원하는 ‘Vertex AI Agent Builder’ 를 발표16) \\n - ‘Vertex AI Agent Builder’ 는 머신러닝 기술이 제한적인  개발자 도 Google 의 파운데이션 모델, 검색 전문 \\n기술, 대화형 AI 기술을 활용하여 엔터프라이즈급 생성형 AI 애플리케이션을 만들 수 있도록 지원\\n∙2024년 4월 개최된 ‘Google I/O 2024’ 에서 미래의 AI 어시스턴트 개발 프로젝트 ‘Project Astra’ 을 발표\\n - 일상생활을 위한 AI 에이전트로 불리는 프로젝트 아스트라 (Project Astra )는 구글 렌즈와 같이 실시간 \\n비디오와 오디오를 이해하고 , 추론하고 , 반응할 수 있음\\n<구글의 고객 참여 및 대화 관련 AI 제품> \\n*출처: google.com17)\\n∙ ‘Gemini at Work’ 행사(2024 년 9월 개최)에서 새로운 Gemini 모델(Gemini 1.5 Flash 및  1.5 Pro)과 \\n함께 고객 참여 및 대화를 위해 설계된 AI 에이전트 제품군 출시18)\\n -‘Gemini at Work’ 에서 Google Cloud CEO(Thomas Kurian) 는 기조연설에서 고객 상담 AI 에이전트가 \\n고객과 자연스럽게 대화하고 상호작용 하여 올바른 답변을 제공할 것이라고 언급\\n∙2024년 11월, Google 은 웹을 검색하는 차기 AI 에이전트인 ‘Jarvis AI’를 개발 중인하고 있는 것으로 확인19)\\n - ‘Jarvis AI’는 사용자가 Google Chrome 에서 웹 브라우징 작업을 자동화하여 , AI 에이전트가 쇼핑이나  \\n항공편  예약과 같은 작업을 수행하는 동안 사용자가 더 중요한 일에 집중할 수 있도록 지원할 예정\\n16) TechTarget, Google Cloud debuts agent builder to ease GenAI adoption, 2024.4.10. \\n17) https://cloud.google.com/blog/products/ai-machine-learning/introducing-customer-engagement-suite-with-google-ai\\n18) Constellation Research, Google Cloud rolls out new Gemini models, AI agents, customer engagement suite, 2024.9.24\\n19) TechRadar, Jarvis AI is real – Google accidentally leaks its AI agent that browses the web for you, 2024.11.6. \"),\n",
       " Document(metadata={'source': './data/SPRi AI Brief_Special_AI Agent_241209_F.pdf', 'page': 9}, page_content=' SPRi AI Brief Special |  2024-12 월호\\n93) Apple\\n£(개요) Apple 은 시리(Siri)와 애플 인텔리전스 (Apple Intelligence )를 통해 개인정보 보호를 \\n중시하는 AI 에이전트를 제공하며 , 음성 인식과 온디바이스 학습으로 사용자 경험을 강화20)\\n∙Apple 은 AI와 머신러닝을 통한 AI 에이전트를 개발하고 있으며 , 대표적인 사례로 Siri가 있음\\n∙Apple 의 Siri는 음성 명령을 인식하고 , 사용자 요구에 맞게 다양한 작업을 수행하는 개인화된 AI 에이전트로 , \\niPhone, iPad, Mac, Apple Watch  등 자사 제품에 내장되어 사용자 경험을 강화 \\n∙최근 애플은 iPhone, iPad 및 Mac용 언어와 이미지를 이해하고 생성하고 , 개인 컨텍스트에서 일상적인 \\n작업을 지원하는 기능을 제공하는 Apple Intelligence 를 출시\\n∙Apple 의 AI 기술은 사용자의 개인정보 보호를 중시하며 온디바이스 학습 방식을 채택\\n<애플 인텔리전스 (Apple Intelligence) > \\n*출처: apple.com\\n£(기능/기술) Siri는 Apple 생태계 내에서 일정 관리, 알람 설정, 스마트홈 제어 등을 \\n지원하며 , Apple 은 사용자 개인정보 보호를 위해 Siri의 명령 처리를 온디바이스에서 수행\\n∙Siri는 음성 기반의 AI 비서로 , 사용자의 일상 활동인 일정 관리, 알람, 문자 전송, 음악 재생, 날씨 조회, \\n스마트홈 기기 제어 지원 \\n - Siri는 Apple 의 생태계 내에서 원활하게 작동하여 , iPhone 에서 Siri로 설정한 알람이 Apple Watch 등과 연동\\n∙Siri Shortcuts 는 탭 한 번으로 또는 Siri에게 요청하여 앱에서 작업을 완료하는 빠른 방법을 제공 \\n20) Apple, Apple Intelligence, https://www.apple.com/apple-intelligence/'),\n",
       " Document(metadata={'source': './data/SPRi AI Brief_Special_AI Agent_241209_F.pdf', 'page': 10}, page_content='SPRi AI Brief Special |  2024-12 월호\\n10 - Shortcuts 앱을 사용하면 좋아하는 앱에서 여러 단계로 개인용 단축키를 만들 수 있으며 , 갤러리에서 \\n수백 개의 예제를 시작하거나 드래그 앤 드롭하여 직접 만들 수 있음\\n∙ Apple 은 개인정보 보호를 위해 Siri의 음성 인식과 명령 처리를 디바이스 내에서 수행할 수 있도록 \\n설계하여 사용자 데이터가 Apple 서버로 전송되지 않고, 로컬에서 안전하게 처리\\n - Apple 은 Siri와 같은 AI 에이전트를 사용자 개인정보를 보호하는 방향으로 설계하여 , 대부분의 데이터 \\n처리를 사용자의 디바이스 내에서 수행해서 개인정보 보호와 높은 성능을 동시에 유지\\n∙Siri는 iPhone, iPad, Apple Watch, HomePod, Mac 등 다양한 Apple 기기에서 작동하며 , Apple ID를 \\n통해 기기 간 통합된 경험을 제공 \\n∙Apple 은 전용 칩(A15 Bionic, M4* 등)과 신경 엔진(Neural Engine) 을 통해 기계 학습 및 AI 작업을 \\n최적화하여 Siri의 성능을 높이고 있으며 , 이용자가 빠르고 일관된 응답을 받을 수 있도록 하고자 함 \\n* Apple이 2024년 5월 아이패드 신제품을 발표하면서 선보인 차세대 M4칩으로 역대 가장 빠른 신경 엔진(Neural Engine) 을 탑재\\n£(수익 모델) Siri는 Apple 생태계와 통합되어 사용자 경험을 향상시켜 고 브랜드 가치를 \\n높이며 , 또한, 개인정보  보호 원칙에 따라 개인 데이터 수집을 최소화하여 기기 판매와 \\nApple 생태계 에 대한 사용자  충성도를 강화\\n∙Siri는 Apple 의 모든 기기와 통합되어 Apple 생태계 내 사용자 경험을 향상시키며 , 이를 통해 Apple 제품의 \\n부가 가치를 높이는 기능으로 작용하여 기기 판매와 Apple 생태계 에 대한 사용자  충성도를 강화하는 데 기여 \\n∙Apple 의 고객 중심 개인정보  보호 전략에 따라 Siri는 사용자 데이터 수집을 최소화하며 , Google 이나 \\nAmazon 과 달리 광고 모델을 통해 수익 창출을 하지 않음\\n£(최신 동정) 2024년 6월 Apple 은 세계개발자대회 (WWDC) 에서 iPhone, iPad, Mac의 핵심 \\n기능으로  강력한 생성 모델을 적용한 개인 인텔리전스 시스템인 Apple Intelligence 를 소개21)\\n∙생성형 모델의 힘과 개인 맥락을 결합하여 사용자에게 유용하고 관련성 있는 인텔리전스를 제공 \\n∙2024년 10월 28일, Apple 은 Apple Intelligence 를 공식 출시하 였고, 사용자들은 이를 활용하여 \\n글쓰기를 다듬고 , 알림, 메일, 메시지를 요약하고 , 보다 자연스럽고 강력한 Siri를 경험하고 , Clean Up을 \\n사용하여 이미지에서 방해가 되는 물체를 제거하는 등의 작업을 수행 가능22)  \\n∙ CEO 팀 쿡(Tim Cook) 은 Apple Intelligence 가 완전히 새로운 경험과 도구를 제공하며 , 수년간의 AI 및 \\n머신러닝 혁신을 바탕으로 Apple 의 생성형 모델을 기기의 핵심에 배치해 개인 인텔리전스를 제공하는 \\n동시에 개인정보를 보호하여 사용자의 삶을 풍요롭게 할 수 있는 잠재력이 크다고 언급  \\n21) Apple, Introducing Apple Intelligence, the personal intelligence system that puts powerful generative models at the core of \\niPhone, iPad, and Mac, 2024.6.10\\n22) Apple, Apple Intelligence is available today on iPhone, iPad, and Mac, 2024.10.28'),\n",
       " Document(metadata={'source': './data/SPRi AI Brief_Special_AI Agent_241209_F.pdf', 'page': 11}, page_content=\" SPRi AI Brief Special |  2024-12 월호\\n114) Meta  \\n£(개요) Meta는 메타버스에서 몰입감 있는 경험을 제공하며 , Messenger 챗봇, 콘텐츠 추천, \\nMeta Llama 3 기반의 'Meta AI' 등을 다양한 플랫폼에서 실생활 작업을 지원하기 위해 활용\\n∙Meta( 구 Facebook) 는 AI를 활용해 사용자 간의 상호작용을 향상시키고 , 메타버스 내에서 보다 \\n자연스럽고 몰입감 있는 경험을 제공하기 위한 다양한 AI 에이전트를 개발 중 \\n∙Meta의 AI 에이전트는 Facebook Messenger 의 챗봇, AI 기반 콘텐츠 추천 시스템 , 메타버스 상 \\n아바타와의 상호작용을 위한 AI 기술로 구성\\n∙Meta Llama 3 기반의 AI 어시스턴트인 ‘Meta AI’는 Facebook, Instagram, WhatsApp, Messenger 에서 \\n이용자의 생활에서 이미지 , 영상, 정보 관련 다양한 실생활 작업을 지원  \\nMeta AI의 Imagine 기능 메타 AI에서 피드(Feed) Meta AI에 애니메이션을 요청\\n<Meta AI>\\n*출처: fb.com23)\\n23) Meta, Meet Your New Assistant: Meta AI, Built With Llama 3, 2024.4.18\"),\n",
       " Document(metadata={'source': './data/SPRi AI Brief_Special_AI Agent_241209_F.pdf', 'page': 12}, page_content='SPRi AI Brief Special |  2024-12 월호\\n12£(기능/기술) Meta 는 Messenger 에 AI 챗봇을 적용하고 , Facebook 과 Instagram 에서는 \\n머신러닝 기반 추천 엔진으로 맞춤형 콘텐츠를 제공하며 , Horizon Worlds 에서는 VR/AR \\n기반 AI 아바타로 메타버스 내 상호작용을 강화\\n∙Meta는 Messenger 플랫폼에 AI 기반의 챗봇을 적용하여 고객 서비스 , FAQ 처리 및 마케팅 메시지 \\n자동화와 같은 기능을 제공\\n - Meta의 언어 모델은 사용자 의도를 이해하고 응답하는 기능을 포함하며 , 대화의 일관성을 유지 \\n∙Meta의 AI 시스템은 사용자의 관심사와 상호작용 패턴을 분석하여 , Facebook 과 Instagram 피드에서 \\n맞춤형 콘텐츠를 추천\\n - Meta의 추천 엔진은 머신러닝과 딥러닝 기술을 사용해 게시물 , 광고, 추천 친구 등을 사용자에게 적합하게 \\n큐레이션 기능을 제공하여 사용자의 참여도를 향상\\n∙Meta는 Horizon Worlds 와 같은 메타버스 플랫폼에서 AI 아바타와 상호작용할 수 있도록 AI 에이전트  \\n개발을 추진\\n - Meta는 메타버스와 가상현실 환경에서 사용자와 상호작용할 수 있는 AI 아바타를 개발하기 위해 VR/AR 기술과 \\nAI를 결합하며 , 이 AI 아바타는 사용자가 몰입감 있는 경험을 할 수 있도록 다양한 상황에 적응하 여 상호작용 가능\\n - 사용자는 가상 공간에서 AI 캐릭터와 대화하거나 가이드 역할을 하는 아바타와 소통할 수 있음\\n£(수익 모델) Meta 는 Messenger 의 유료 챗봇 API, AI 기반 맞춤형 광고 시스템 , \\nHorizon Worlds 의 가상 상품 상거래 기능을 통해 수익을 창출\\n∙Meta는 Messenger 플랫폼에서 챗봇 API를 제공하여 기업들이 고객 서비스 및 마케팅 목적으로 사용할 수 \\n있도록 하고 있으며 , 일부 기능은 유료 서비스로 제공하여 API 사용 수수료 및 서비스 구독료 형태로 수익을 창출 \\n∙Meta의 AI 기반 콘텐츠 추천 시스템은 사용자의 관심사에 맞는 광고를 정확하게 타기팅 하여 노출함으로 써 \\n광고주의 광고 효과를 높이고 , 광고 수익을 창출 \\n∙Meta는 Horizon Worlds 와 같은 메타버스 플랫폼에서 상거래 기능을 도입하여 사용자가 가상 상품을 구매하거나 \\nAI 에이전트와의 상호작용 을 통해 새로운 상품을 발견할 수 있도록 하여 새로운 수익 창출 가능성을 모색 중  \\n£(최신 동정) Meta는 2024년 9월 ‘Connect’ 컨퍼런스에서 메타버스 아바타의 전면 개편 \\n계획을 발표하고 , 이후 10월 1일 차세대 메타 아바타 출시24) \\n∙Meta는 AI를 메타버스 환경에 통합하여 , Horizon Worlds 와 같은 가상 공간에서 사용자가 AI 캐릭터와 \\n몰입감 있는 상호작용을 가능하도록 지원\\n24) Meta, Meta Horizon Worlds v182 Release Notes, 2024. 10.1'),\n",
       " Document(metadata={'source': './data/SPRi AI Brief_Special_AI Agent_241209_F.pdf', 'page': 13}, page_content=' SPRi AI Brief Special |  2024-12 월호\\n13 - 새로운 아바타는 Meta Horizon OS(VR 운영 체제)와 Facebook, Instagram, Messenger 에서 사용\\n - Meta의 Horizon 팀 부사장 (Aigerim Shorman) 은 업그레이드된 아바타를 통해 사용자에게 눈 크기, 코 \\n모양, 체형과 같은 것을 미세 조정할 수 있는 새로운 방법을 제공할 것이라고 언급\\n∙2025년 후반에는 사용자가 생성 AI를 활용하는 프롬프트를 입력하고 원하는 것을 설명하여 아바타를 \\n생성할 수 있을 전망 \\n5) AWS(Amazon Web Services)25)\\n£(개요) AWS는 다양한 산업에서 AI 기술을 활용하여 고객 서비스 , 보안, 데이터 분석 등을 \\n지원하며 , Amazon Lex, Polly, Transcribe 를 통해 음성 인식, 텍스트 변환, 대화형 \\n인터페이스 기능을 제공하고 , Amazon Q를 통해 생성형 AI 기반 어시스턴트 기능을 제공26) \\n∙AWS는 Amazon 의 클라우드 서비스 플랫폼으로 , 고객 서비스 , 보안, 데이터 분석 등 여러 산업에 걸쳐 \\n다양한 AI 기술을 활용\\n∙Amazon Lex, Amazon Polly, Amazon Transcribe 와 같은 AWS의 AI 에이전트 기능은 음성 인식, \\n텍스트 변환, 대화형 인터페이스 , 이미지 및 비디오 분석 등 다양한 형태로 제공되어 , 기업들이 필요한 AI \\n기능을 자유롭게 사용할 수 있도록 지원\\n∙AWS 소프트웨어 개발을 가속화하고 회사의 내부 데이터를 활용하기 위한 가장 유능한 생성형 AI 기반 \\n어시스턴트 기능을 수행하는 ‘Amazon Q’ 제공\\n<Amazon Q 제품군 > \\n*출처: Amazon.com\\n25)  AWS, Start building on AWS today, https://aws.amazon.com/?nc2=h_lg\\n26)  AWS, Start building on AWS today, https://aws.amazon.com/?nc2=h_lg'),\n",
       " Document(metadata={'source': './data/SPRi AI Brief_Special_AI Agent_241209_F.pdf', 'page': 14}, page_content='SPRi AI Brief Special |  2024-12 월호\\n14£(기능/기술) AWS는 다양한 AI 서비스를 통해 기업이 AI 기능을 활용하도록 지원하고 \\n생성형 AI, 지능형 검색, 머신러닝 모델 구축을 지원하는 플랫폼을 제공 \\n∙Amazon Lex는 자연어 이해(NLU) 와 음성 인식을 지원하는 AI 챗봇 서비스로 , 고객 서비스 , FAQ 응답, \\n예약 시스템 등에서 사용될 수 있는 대화형 인터페이스를 제공\\n -Lex는 자연어를 인식하여 고객과의 상호작용을 자동화하고 , AWS Lambda 와 결합하여 복잡한 워크플로  \\n처리가 가능 \\n∙Amazon Polly는 텍스트를 음성으로 변환(TTS) 하는 AI 음성 생성기로 , 강력한 신경망과 생성형 음성 \\n엔진이 백그라운드에서 작동하여 음성을 합성27)\\n - Polly는 여러 언어와 음성을 제공하여 다국어 음성 응답 시스템을 구축할 수 있으며 , 고객 지원 및 교육 \\n콘텐츠 제작에서 주로 활용 \\n∙Amazon Transcribe 는 음성을 텍스트로 변환하는 자동 음성 인식(ASR) 서비스로 , 콜 트리밍 및 녹음된 \\n음성에 대한 고정확도 필사본을 제공하는 수십억 개의 매개변수 를 갖춘 차세대  음성 기반 모델로 구동28)\\n - Transcribe 는 실시간 스트리밍 또는 비디오 파일에서 텍스트 추출이 가능하여 , 텍스트 기반의 데이터 \\n분석에 활용\\n∙Amazon Rekognition 는 클라우드 기반 이미지 및 비디오 분석 서비스로 , Rekognition 의 API를 사용하여 \\n객체, 텍스트 , 안전하지 않은 콘텐츠를 감지하고 , 이미지 /비디오를 분석하고 , 얼굴을 비교하는 기능을 \\n애플리케이션에 추가할 수 있음29)\\n - Rekognition 서비스는 Amazon 의 컴퓨터 비전 과학자가 개발한 것과 동일한 검증되고 확장성이 뛰어난 \\n딥 러닝 기술을 기반으로 하여, 매일 수십억 개의 이미지와 비디오를 분석\\n∙이외에도 AWS는 AI 기능을 지원하는 Amazon Bedrock( 생성형 AI 플랫폼 ), Amazon Kendra( 지능형 \\n검색 서비스 ), Amazon SageMaker( 머신러닝 모델 구축 및 배포 플랫폼 ) 등 다양한 서비스 제공30) \\n - Amazon Bedrock 은 단일 API를 통해 AI21 Labs, Anthropic, Cohere, Meta, Mistral AI, Stability \\nAI, Amazon 과 같은 선도적인 AI 회사의 생성 AI 애플리케이션을 구축하는 데 필요한 광범위한 기능 제공\\n27) AWS, Amazon Polly, https://aws.amazon.com/ko/polly/\\n28) AWS, Amazon Transcribe, https://aws.amazon.com/transcribe/\\n29) AWS, What is Amazon Rekognition?, https://docs.aws.amazon.com/rekognition/latest/dg/what-is.html\\n30) AWS, Create a next generation chat assistant with Amazon Bedrock, Amazon Connect, Amazon Lex, LangChain, and What\\nsApp, 2024.10.23'),\n",
       " Document(metadata={'source': './data/SPRi AI Brief_Special_AI Agent_241209_F.pdf', 'page': 15}, page_content=' SPRi AI Brief Special |  2024-12 월호\\n15£(수익 모델) AI 서비스는 API 기반 사용량 요금제로 제공되며 , 데이터 저장, 보안, 분석을 \\n포함한 통합 클라우드 기능을 통해 기업들이 일관된 환경에서 워크플로 를 처리할 수 있도록 \\n지원 하여 추가 수익을 창출\\n∙Amazon Lex, Polly, Transcribe 등의 AI 에이전트 서비스는 API 기반으로 제공되며 , 사용량에 따른 \\n요금제로 운영되 어 고객이 필요에 따라 해당 AI 기능을 자신의 애플리케이션에 통합할 수 있음\\n∙AWS는 AI 서비스 외에도 데이터 저장, 보안, 분석 등 다양한 클라우드 기능을 통합 제공하여 기업 \\n고객들이 일관된 클라우드 환경에서 모든 워크플로 를 처리할 수 있도록 지원하여 추가 수익을 창출    \\n£(최신 동정) 2024년 10월, Amazon Q Developer 가 개발자 경험을 간소화하기 위해 \\n인라인 채팅 지원 기능 발표31)\\n - 2023년 11월 출시된 Amazon Q32)는 개발자가 코딩, 테스트 , 업그레이드 , 문제 해결 및 보안 스캐닝과 \\n같은 모든 작업에 사용할 수 있으며 , 맞춤형 대화, 문제를 해결하고 , 콘텐츠를 생성하는 등에 활용 가능  \\n - Amazon Q는 엔터프라이즈 데이터 저장소에 연결하고 데이터를 논리적으로 요약하여 기업 정책, 제품 \\n정보, 비즈니스 결과, 기타 여러 주제 전반에 걸쳐 질문에 대한 답변을 더 쉽게 얻을 수 있도록 지원 \\n - 인라인 채팅 기능을 사용하면 편집기 내에서 채팅을 시작하여 코드 최적화 ’, 주석 추가, 테스트 작성과 같은 \\n작업을 요청할 수 있음 \\n* Anthropic 의 Claude 3.5 Sonnet 의 최신 버전을 기반으로 인라인 채팅 지원을 통해 Q Developer 는 실시간으로 프롬프트를 \\n기반으로 인라인 코드 변경 뷰를 생성하고 코드 편집기에서 직접 제안을 쉽게 이해하고 평가할 수 있음\\n6) Salesforce\\n£(개요) Salesforce 는 AI 기반 CRM과 Agentforce 로 맞춤형 고객 관리와 지원을 제공33)\\n∙Salesforce 는 고객 관계 관리(CRM) 소프트웨어의 글로벌 리더로 , AI 기술을 통해 기업들이 고객 데이터를 \\n더욱 효율적으로 관리하고 , 맞춤형 고객 경험을 제공\\n∙Salesforce 의 CRM에 AI를 결합하여 판매, 마케팅 , 서비스 지원 등에 필요한 다양한 예측 기능을 제공\\n∙Salesforce 의 Agentforce 는 고객 서비스와 지원을 위한 AI 기반 솔루션으로 , Salesforce 의 CRM \\n플랫폼과 통합되어 고객 상담과 지원을 효율적으로 관리할 수 있도록 돕는 AI 에이전트 기능을 제공 \\n31) AWS, Amazon Q Developer announces support for inline chat to streamline the developer experience, 2024.10.29\\n32) AWS,  Amazon Q – Generative AI Assistant, https://aws.amazon.com/q/\\n33) Salesforce, Agentforce, https://www.salesforce.com/agentforce/'),\n",
       " Document(metadata={'source': './data/SPRi AI Brief_Special_AI Agent_241209_F.pdf', 'page': 16}, page_content='SPRi AI Brief Special |  2024-12 월호\\n16<Salesforce 플랫폼 > \\n*출처: salesforce.com34)\\n£(기능/기술) Salesforce Einstein 은 예측 분석, 음성 명령, AI 챗봇, 이미지 인식을 통해 \\nCRM 기능을 강화하고 , 이러한 기능을 통합하여 Agentforce 는 고객 서비스 자동화와 문제 \\n해결을 지원\\n∙Einstein Predictive Analytics 는 고객 데이터를 분석하고 , 판매 가능성 예측, 이탈 위험 고객 식별 등 \\n예측 분석 기능을 제공\\n  - 사용자의 데이터에 맞춰 자동으로 모델을 훈련하고 최적화할 수 있는 기능을 제공하여 기업들은 \\n머신러닝 에 대한 전문 지식 없이도 AI 모델을 쉽게 도입하고 , CRM 기능을 고도화할 수 있음 \\n∙Einstein Voice 는 음성 명령을 통해 CRM 데이터를 입력하고 , 판매 활동을 기록할 수 있는 기능으로 , 영업 \\n팀이 음성으로 업무를 관리할 수 있게 함 35)\\n∙Einstein Bots는 고객 서비스용 AI 챗봇으로 , 기본적인 고객 문의 응대, 예약 설정 등의 작업을 자동화할 수 있도록 지원 \\n∙Einstein Vision36)은 이미지 인식 기능으로 , 제품 식별, 이미지 내 텍스트 분석 등의 작업을 지원\\n∙Agentforce 은 직원이나 고객에게 전문적 지원을 제공하는 능동형 및 자율형 애플리케이션으로 , \\nEinstein 의 다양한 AI 기술을 활용해 고객 문의 응대, 문제 해결, 지원 요청 자동화 등을 수행37) \\n34) Salesforce, Build for the future on the Salesforce Platform, https://www.salesforce.com/platform/\\n35) Salesforce, Salesforce launches New Corporate Voice Assistant – Einstein Voice, https://dazeworks.com/blog/salesforce-  \\nlaunches-new-corporate-voice-assistant-einstein-voice-2/\\n36) Salesforce, Einstein Vision,  https://help.salesforce.com/s/articleView?id=release-notes.rn_einstein_vision.htm&release=2\\n38&type=5\\n37) Salesforce, Agentforce, https://www.salesforce.com/kr/agentforce/'),\n",
       " Document(metadata={'source': './data/SPRi AI Brief_Special_AI Agent_241209_F.pdf', 'page': 17}, page_content=' SPRi AI Brief Special |  2024-12 월호\\n17£(수익 모델) Salesforce 는 Agentforce 를 구독 서비스로 제공하고 , AppExchange 에서 \\n서드파티 앱과 Einstein 기능을 통합하여 추가 수익을 창출\\n∙Agentforce 는 CRM 플랫폼과 함께 구독 서비스 형태로 제공되며 , 고객은 사용량에 따라 맞춤형 AI 기능을 \\n구독할 수 있으며 , 이를 통해 수익을 창출38)\\n∙Salesforce 는 자체 앱스토어인 AppExchange 를 통해 다양한 서드파티 앱과 Einstein 기능을 통합하여 \\n제공하여 추가 수익을 창출\\n£(최신 동정) 2024년 9월 Salesforce 는 ‘Dreamforce 2024’ 행사에서 기존 Einstein \\nCopilot 를 개선하고 , 자율적인 AI 에이전트의 기능을 갖는 새로운 브랜드로 ‘Agentforce’ 출시39) \\n∙Salesforce 는 2024년 4월 Einstein Copilot 내부에 Actions* 를 도입하면서 대규모 언어 모델(LLM) 로 \\n구동되는 대화형 봇에서 이전에 작업을 활성화\\n  * Salesforce 워크플로에서 AI 모델을 만들고 , 사용자 정의하고 , 내장하기 위한 로우코드 도구인 Einstein 1 Studio 세트를 \\n통해 Copilot 내부에 구축할 수 있는 워크플로\\n∙Agentforce 를 통해 기업이 자체 에이전트를 개발할 수 있도록 하는 것 외에도 Salesforce 는 서비스 \\n에이전트와 구매자 , 쇼핑객 , 상인 및 캠페인을 위한 에이전트들을 출시 \\n - 서비스 에이전트들은 기존 챗봇을 사전 프로그래밍된 시나리오 없이 광범위한 서비스 문제를 처리할 수 \\n있는 AI로 대체하여 고객 서비스 효율성을 개선\\n<세일즈포스의 Agentforce > \\n*출처: salesforce.com\\n38) Salesforce , Agentforce Pricing, https://www.salesforce.com/ap/agentforce/pricing/\\n39) CIO, Salesforce unveils Agentforce to help create autonomous AI bots, 2024.9.2'),\n",
       " Document(metadata={'source': './data/SPRi AI Brief_Special_AI Agent_241209_F.pdf', 'page': 18}, page_content='SPRi AI Brief Special |  2024-12 월호\\n187) AI 에이전트 관련 주요 기업\\n£(OpenAI) OpenAI 는 현재까지  ‘AI 에이전트 ’라고 명명한 특정 제품이나 사례를 가지고 \\n있지 않지만, ChatGPT, Codex, DALL-E 같은 모델들이 AI 에이전트의 특성을 보유\\n∙OpenAI 는 AI 연구와 개발을 목표로 설립된 비영리 연구소에서 시작하여, 현재는 다양한 AI 제품을 \\n제공하는 선도적인 AI 연구 및 배포 회사로 성장하였으며 , OpenAI 의 모델들은 다양한 산업에서 활용됨\\n∙OpenAI 는 사용자가 특정 작업을 수행할 수 있도록 다양한 도구를 제공하며 , 일부 기능들이 AI 에이전트의 \\n특성(자율성 , 사용자 상호작용 , 학습 능력 등)을 보유하 고 있지만, 일반적으로 AI 에이전트 제품으로 \\n분류되지는 않음 \\n  - ChatGPT 는 OpenAI 의 대표적인 AI 모델로 , 언어 생성, 정보 제공, 질문 응답 등의 기능을 통해 교육, \\n고객 지원, 콘텐츠 생성 등 다양한 용도로 활용 \\n  - DALL-E 는 텍스트 입력으로 이미지를 생성하는 AI 모델로 , 창의적인 이미지 생성 작업을 자동화하는 데 사용 \\n  - Codex 는 프로그래밍 언어를 이해하고 코드를 생성할 수 있는 모델로 , GitHub Copilot 에 통합되어 \\n개발자들이 보다 효율적으로 코드를 작성할 수 있도록 지원 \\n∙OpenAI 는 ChatGPT 시리즈를 구독 형태로 제공하여 수익을 창출하고 , 기업들이 OpenAI 의 AI \\n모델을 자신들의 애플리케이션과 워크플로 에 통합할 수 있게 함으로써 , B2B 고객으로부터의 추가 \\n수익을 창출\\n∙2024년 10월 OpenAI 의 첫 DevDay 행사에서 CEO 샘 알트만 (Sam Altman) 은 2025년이 AI \\n에이전트가 본격적으로 작동하는 시기가 될 것이라고 언급하고 , 25년을 목표로 AI 에이전트 출시를  \\n준비하고 있다고 발표40) \\n£(NVIDIA) 엔비디아는 AI 에이전트 구현에 필요한 AI 반도체를 제공하며 , Omniverse 와 \\nDrive 플랫폼 등을 통해 다양한 산업에서 AI 에이전트를 활용할 수 있도록 지원 \\n∙NVIDIA 는 GPU 개발의 글로벌 선도 기업으로 , AI와 고성능 컴퓨팅 (HPC) 분야에서 중요한 비중을 차지\\n∙NVIDIA 는 Omniverse, Drive AGX 플랫폼 등을 통해 AI 에이전트의 다양한 산업 응용을 지원  \\n - Omniverse41)는 산업 디지털화와 생성형 물리적 AI*를 위한 OpenUSD 애플리케이션을 개발하기 위한 \\n플랫폼으로 , AI 에이전트가 가상 환경에서 학습하고 실험할 수 있도록 설계되어 , 제조, 건축, 로봇 개발 \\n등에서 사용되는 3D 시뮬레이션을 제공하며 , 다양한 산업의 전문가들이 협력할 수 있는 가상협업환경 지원 \\n*생성형 물리적 AI는 현실 세계의 물리적 환경을 모방하여 3D객체를 생성하고 , 이와 상호작용할 수 있는 AI 기술\\n40) Future US, OpenAI confirms AI agents are coming next year — what it means for you, 2024.10.2\\n41) NVIDIA, NVIDIA Omniverse, https://www.nvidia.com/en-us/omniverse/'),\n",
       " Document(metadata={'source': './data/SPRi AI Brief_Special_AI Agent_241209_F.pdf', 'page': 19}, page_content=' SPRi AI Brief Special |  2024-12 월호\\n19 - NVIDIA DRIVE AGX42) 플랫폼에는 자율주행 기능과 몰입형 차량 내 경험을 개발하는 데 필요한 모든 \\n하드웨어와 소프트웨어가 포함\\n - NVIDIA Clara43)는 NVIDIA 의 의료용 AI 플랫폼으로 , 영상 및 기기부터 유전체학 및 약물 발견에 \\n이르기까지 의료 및 생명 과학을 위한 AI 솔루션을 구동하는 컴퓨팅 플랫폼 , 소프트웨어 및 서비스 포함\\n∙NVIDIA 는 Omniverse 플랫폼을 구독 서비스 형태로 제공하여 , NVIDIA Drive 플랫폼은 자율주행차 \\n제조사와의 파트너십을 통해 라이선스 모델로 제공되며 , 특히 GPU 및 AI 가속기 판매를 통해 수익 창출 \\n∙2024년 8월 엔비디아는 기업이 자체 AI 앱을 구축할 수 있는 AI 에이전트에 대한 청사진으로 ‘NVIDIA \\nNIM Agent Blueprints’ 출시44)\\n - 이 청사진에는 기업 개발자가 맞춤형 생성 AI 애플리케이션을 구축하고 배포하는 데 필요한 도구들을 포함 \\n - 최초의 청사진으로 고객 서비스를 위한 디지털 휴먼, 가속화된 약물 발견을 위한 생성형 가상 스크리닝 * \\n등이 있음\\n*생성형 가상 스크리닝은 신약 개발 과정에서 유망한 화합물을 찾는 방법으로 , AI가 수많은 화합물 중 특정 질병에 효과가 있을 \\n가능성이 높은 후보물질을 가상 환경에서 시뮬레이션하고 선별하는 과정을 의미\\n42) NVIDIA, End-to-End Solutions for Autonomous Vehicles, https://developer.nvidia.com/drive\\n43) NVIDIA, AI-Powered Solutions for Healthcare, https://www.nvidia.com/en-us/clara/\\n44) NVIDIA, From Prototype to Prompt: NVIDIA NIM Agent Blueprints Fast-Forward Next Wave of Enterprise Generative AI, 2024.8.27'),\n",
       " Document(metadata={'source': './data/SPRi AI Brief_Special_AI Agent_241209_F.pdf', 'page': 20}, page_content='SPRi AI Brief Special |  2024-12 월호\\n203. AI 에이전트 관련 이슈 및 전망\\n1) 주요 이슈\\n£(기술적 문제) 데이터 편향과 정확성 문제\\n∙AI 에이전트는 대량의 데이터를 통해 학습하지만 , 데이터가 편향적일 경우 AI의 판단에도 왜곡이 발생할 수 있음\\n - 특히 대화형 AI 에이전트나 추천 시스템에서 는 편향된 결과로 인해 잘못된 정보가 제공될 위험 존재\\n∙AI 에이전트의 사례 중 하나인 챗봇은 사용자 인터페이스 모듈과 여러 내부 구성요소로 이루어져  있으며, \\n각 구성 요소는 여러 편향의 원인이  있을 수 있음45) \\n - (챗봇 설계) 개발팀의 개인적 편견은 개인적 경험, 가족 양육, 문화, 교육 등에 의해 영향을 받을 수 있으며 , \\n인터페이스 설계에서 챗봇의 속성이 고정관념과 편견이 포함될 수 있고, 내부 구성요소의 설계에서 제한된 \\n규칙과 미리 정의된 응답에서 편향이 발생할 가능성 존재\\n - (사용자 상호작용 ) 챗봇이 배포된 후 사용자와 상호작용 과정에서 편향이 강화될 수 있으며 , 사용자 가 \\n개발팀의 일원이 되어 데이터 주석에 기여함으로써  편향이 악순환으로 이어질 수 있음 \\n - (사회 배포) 편향은 챗봇이 배포되는 환경에서 발생할 수 있으며 , 예를 들어, 사람들의 챗봇에 대한 태도와 \\n챗봇이 사용되는 방식은 편향으로 이어질 수 있음 \\n<챗봇 시스템에서 편향의 원천>  \\n* 출처: Jintang Xue 외, Bias and Fairness in Chatbots: An Overview, 2023.12\\n45) Jintang Xue 외, Bias and Fairness in Chatbots: An Overview, 2023.12'),\n",
       " Document(metadata={'source': './data/SPRi AI Brief_Special_AI Agent_241209_F.pdf', 'page': 21}, page_content=' SPRi AI Brief Special |  2024-12 월호\\n21∙일부 대화형 AI가 학습 데이터의 한계로 인해 특정 인종이나 성별에 대해 편향적인 발언을 하거나 부적절한 \\n추천을 제공한 사례가 발생 \\n* 2016년 Microsoft 의 AI 챗봇 ‘Tay’가 트위터 에서 잘못된 데이터를 학습하 여 혐오 발언을 한 사례가 있으며 국내에서는 \\n2021년 AI 챗봇 ‘이루다 ’가 출시 20일 만에 협오 발언으로  인해 서비스가 중단된 것이 대표적  사례\\n£(사회적 영향) 일자리 대체와 경제적 불평등\\n∙AI 에이전트의 확산으로 인해 단순 반복 업무를 대체하는 사례가 증가하고 있으며 , 아직 전반적인 고용 \\n감소로 나타나고 있지는 않지만 , 일자리 대체와 직업의 성격 변화로 이어질 수 있음\\n - 특히 AI가 접목된 자동화 시스템은 고객 서비스 , 물류, 제조 등 다양한 분야에서 인간의 역할을 감소시킬 수 있음 \\n∙예를 들어, 46)\\n - 일부 노동자들은 AI와 자동화 시스템이 일자리를 위협한다고 우려하고 , 파업 등을 통해 고용불안을 \\n표출하고 있으며 , 이는 장기적으로 경제적 불평등을 심화시킬 가능성을 제기47)\\n£(윤리적 이슈) 개인정보  침해와 데이터 보안 문제 \\n∙AI 에이전트는 이용자 데이터를 대량 수집하여 분석함으로써 개인화된 서비스를 제공하며 , 이러한 데이터 \\n사용 과정에서 사용자 의 개인정보 가 침해될 우려가 있으며 , 데이터 유출 위험도 증가 \\n∙스마트홈 AI 에이전트가 사용자 음성 명령을 기록하고 저장하는 방식에서 개인정보  침해 이슈가 발생한 바 있음 \\n* 2023년 미국의 공정거래위원회 (FTC) 와 법무부 (DOJ) 는 Amazon 이 어린이의 Alexa 음성 녹음을 영구 보관하고 부모의 삭제 \\n요청을 훼손하여 아동 개인정보보호법을 위반했다고 기소하면서 2,500 만 달러를 벌금 부과48)  \\n£(법적 이슈) 법적 규제와 책임 소재 문제\\n∙AI 에이전트가 점점 더 많은 결정을 독립적으로 내리게 되면서 , 문제가 발생했을 경우 책임 소재를 명확히 \\n하기가 어려워지고 있음\\n - 특히 자율주행차나 의료 AI와 같이 생명과 안전에 직접적으로 영향을 미치는 AI 에이전트의 경우 법적 \\n규제가 중요하며 , AI 시스템의 판단 오류가 발생했을 때 책임자에 논의가 이어짐 \\n∙예를 들어, Uber 자율주행차의 사망 사고는 자율주행차와 관련된 책임 소재를 둘러싼 법적 문제를 제기49)\\n* 2023년 7월, 미국의 마리코파 (Maricopa) 고등 법원의 한 판사는 2018년 최초의 완전 자율 주행차  사망 사고로 , 보행자를 \\n치어 숨지게 한 Uber 자율주행차 의 시험 운전자 에게 위험 행위에 대해 유죄를 인정하고 , 3년의 보호관찰을 선고50)\\n46) CNBC, Amazon tests adding robot warehouses to Whole Foods so shoppers can pick up other orders at checkout, 2024.10.9\\n47) Guardian News & Media, Amazon treats me worse than the warehouse robots – that’s why I’m walking out, 2023.2.28\\n48)FTC, FTC and DOJ Charge Amazon with Violating Children’s Privacy Law by Keeping Kids’ Alexa Voice Recordings Forever \\nand Undermining Parents’ Deletion Requests, 2023.5.31\\n49) CNN, Uber self-driving car test driver pleads guilty to endangerment in pedestrian death case, 2023.7.29'),\n",
       " Document(metadata={'source': './data/SPRi AI Brief_Special_AI Agent_241209_F.pdf', 'page': 22}, page_content='SPRi AI Brief Special |  2024-12 월호\\n222) 향후 전망\\n£가트너는 2025년 최상위 10대 전략기술 트렌드 (2025 Top 10 Strategic Technology \\nTrends) 에서 최우선 기술로 AI 에이전트 (‘Agentic AI’, 또는 에이전트 AI)를 제시51)\\n∙가트너는 10대 전략적 기술 트렌드를 선정하면서 AI의 필수성과 위험, 컴퓨팅의 새로운 지평, 인간-기계 \\n시너지의 3개 주제 영역으로 분류하여 10대 트렌드 제시 \\n - AI 에이전트와 함께 AI 기술 발전에 따른 AI 거버넌스 플랫폼 , 다기능 로봇 등을 전략기술로 선정 \\n<2025 10대 전략기술 >\\n주제 전략기술 \\nAI의 필수성과 위험∙AI 에이전트 (Agentic AI)\\n∙AI 거버넌스 플랫폼 (AI governance platforms)\\n∙허위 정보 보안(Disinformation security)\\n컴퓨팅의 새로운 지평∙양자 이후 암호화 Post-quantum cryptography)\\n∙비가시 환경 지능(Ambient invisible intelligence)\\n∙에너지 효율 컴퓨팅 (Energy-efficient computing)\\n∙하이브리드 컴퓨팅 (Hybrid computing)\\n인간-기계 시너지∙공간 컴퓨팅 (Spatial computing)\\n∙다기능 로봇(Polyfunctional robots)\\n∙신경 향상(Neurological enhancement)\\n∙2028년까지 엔터프라이즈 소프트웨어 애플리케이션의 33%에 에이전트 AI가 포함될 것으로 예상되 며 \\n(2024 년에는 1% 미만), 이를 통해 일상적인 업무 결정의 15%를 자율적으로 내릴 수 있을 것으로 전망\\n∙AI 에이전트는 AI 어시스턴트에 통합되고 소프트웨어 , SaaS 플랫폼 , 사물 인터넷 기기 및 로봇에 내장될 것으로 전망 \\n£AI 에이전트는 기술적 혁신과 사회적 변화를 이끄는 주요 요소로 자리잡으며 , 기업의 업무와 \\n개인의 삶에 깊이 통합된 형태로 발전하 면서, 의사 결정에  혁신적인 변화를 가져올  가능성이 높음52) \\n∙(단기적 ) AI 에이전트는 향후 몇 년간 고객 지원, 데이터 분석, 대화형 인터페이스 등 상용화 가능성이 높은 \\n분야에서 빠르게 도입될 것으로 예상\\n - AI 에이전트가 고객 서비스 자동화 , 맞춤형 추천, 실시간 데이터 분석을 통해 효율성을 높이며 , 고객 경험 \\n강화와 비용 절감의 핵심 도구가 될 것으로 전망됨 \\n50) CNN, Uber self-driving car test driver pleads guilty to endangerment in pedestrian death case, 2023.7.29\\n51) Gartner, Gartner Top 10 Strategic Technology Trends for 2025, 2024.10.21\\n52) World Economic Forum, What is an AI agent and what will they do? Experts explain, 2024.7.24'),\n",
       " Document(metadata={'source': './data/SPRi AI Brief_Special_AI Agent_241209_F.pdf', 'page': 23}, page_content=' SPRi AI Brief Special |  2024-12 월호\\n23 - 기업들은 AI 에이전트를 활용하여 생산성을 향상하면서 AI 에이전트가 조직의 특수한 업무 프로세스에 활용  \\n∙(장기적 ) 장기적으로 AI 에이전트는 인간의 일상과 비즈니스 운영에 더욱 통합되고 자율성이 높아지 며, 의사 \\n결정 능력이 크게 향상될 것으로 전망   \\n - 기술의 발전과 함께 AI 에이전트는 더 복잡한 작업을 독립적으로 수행하게 될 것이며 , 이를 통해 사용자 \\n맞춤형 서비스가 고도화될 것으로 전망\\n - 자율주행 , 의료, 금융 등 고도화된 영역에서 AI 에이전트가 혁신적인 역할을 할 것이며 , AI의 발전에 따라 \\n인간-기계 협업 모델이 다양한 산업 전반에 확산할 것으로 전망\\n - 한편, 미래에 AI가 일자리를 대체한다는 우려는 지속될 것으로 예측되나 , 동시에 AI 에이전트가 인재 부족 \\n문제를 해결하고 성장을 촉진하면서 새로운 일자리를 창출하고 , 새로운 사회 시스템이 형성될 수 있음'),\n",
       " Document(metadata={'source': './data/SPRi AI Brief_Special_AI Agent_241209_F.pdf', 'page': 24}, page_content='SPRi AI Brief Special |  2024-12 월호\\n24[참고 문헌]\\n1.Alan Chan 외, Visibility into AI Agents, 2024\\n2.Apple, Apple Intelligence, https://www.apple.com/apple-intelligence/\\n3.Apple, Apple Intelligence is available today on iPhone, iPad, and Mac, 2024.10.28.\\n4.Apple, Introducing Apple Intelligence, the personal intelligence system that puts powerful \\ngenerative models at the core of iPhone, iPad, and Mac, 2024.6.10\\n5.AWS, Amazon Polly, https://aws.amazon.com/ko/polly\\n6.AWS, Amazon Q Developer announces support for inline chat to streamline the developer \\nexperience, 2024.10.29\\n7.AWS, Amazon Transcribe, https://aws.amazon.com/transcribe\\n8.AWS, Create a next generation chat assistant with Amazon Bedrock, Amazon Connect, \\nAmazon Lex, LangChain, and WhatsApp, 2024.10.23\\n9.AWS, Start building on AWS today, https://aws.amazon.com/?nc2=h_lg\\n10.AWS, What is Amazon Rekognition?, \\nhttps://docs.aws.amazon.com/rekognition/latest/dg/what-is.html\\n11.AWS, Amazon Q – Generative AI Assistant, https://aws.amazon.com/q/\\n12.CIO, Salesforce unveils Agentforce to help create autonomous AI bots, 2024.9.2\\n13.CNBC, Amazon tests adding robot warehouses to Whole Foods so shoppers can pick up \\nother orders at checkout, 2024.10.9\\n14.CNN, Uber self-driving car test driver pleads guilty to endangerment in pedestrian death \\ncase, 2023.7.29\\n15.Constellation Research, Google Cloud rolls out new Gemini models, AI agents, customer \\nengagement suite, 2024.9.24\\n16.Deepmind, Project Astra, https://deepmind.google/technologies/gemini/project-astra\\n17.FTC, FTC and DOJ Charge Amazon with Violating Children’s Privacy Law by Keeping Kids’ \\nAlexa Voice Recordings Forever and Undermining Parents’ Deletion Requests, 2023.5.31\\n18.Future US, OpenAI confirms AI agents are coming next year —  what it means for you, 2024.10.2\\n19.Gartner, Gartner Top 10 Strategic Technology Trends for 2025, 2024.10.21\\n20.Gartner, Intelligent Agents in AI Really Can Work Alone. Here’s How, 2024.10.1\\n21.Grand View Research, \\nhttps://www.grandviewresearch.com/industry-analysis/ai-agents-market-report\\n22.Guardian News & Media, Amazon treats me worse than the warehouse robots – that’s \\nwhy I’m walking out, 2023.2.28\\n23.IBM, What are AI agents?, https://www.ibm.com/think/topics/ai-agents\\n24.ISO, ISO/IEC DIS 22989(en), \\nhttps://www.iso.org/obp/ui/#iso:std:iso-iec:22989:dis:ed-1:v1:en:sec:3.1.2\\n25.Jintang Xue 외, Bias and Fairness in Chatbots: An Overview, 2023.12\\n26.Meta, Meet Your New Assistant: Meta AI, Built With Llama 3, 2024.4.18\\n27.Meta, Meta Horizon Worlds v182 Release Notes, 2024. 10.1'),\n",
       " Document(metadata={'source': './data/SPRi AI Brief_Special_AI Agent_241209_F.pdf', 'page': 25}, page_content=' SPRi AI Brief Special |  2024-12 월호\\n2528.Microsoft, Azure OpenAI Service, \\nhttps://azure.microsoft.com/en-us/products/ai-services/openai-service\\n29.Microsoft, New autonomous agents scale your team like never before, 2024.10.21\\n30.Microsoft, Power Virtual Agents (Preview), \\nhttps://learn.microsoft.com/ko-kr/connectors/powervirtualagents\\n31.Microsoft, Unveiling Copilot agents built with Microsoft Copilot Studio to supercharge your \\nbusiness, 2024.9.16\\n32.NVIDIA, AI-Powered Solutions for Healthcare, https://www.nvidia.com/en-us/clara/\\n33.NVIDIA, End-to-End Solutions for Autonomous Vehicles, https://developer.nvidia.com/drive\\n34.NVIDIA, From Prototype to Prompt: NVIDIA NIM Agent Blueprints Fast-Forward Next \\nWave of Enterprise Generative AI, 2024.8.27\\n35.NVIDIA, NVIDIA Omniverse, https://www.nvidia.com/en-us/omniverse/\\n36.Russell, S. J., & Norvig, P. Artificial Intelligence: A Modern Approach (4th ed.). Pearson. 2021\\n37.Salesforce, Agentforce, https://www.salesforce.com/kr/agentforce/\\n38.Salesforce, Build for the future on the Salesforce Platform, https://www.salesforce.com/platform\\n39.Salesforce, Einstein Vision, https://help.salesforce.com/s/articleView?id=release-notes.rn_\\neinstein_vision.htm&release=238&type=5\\n40.Salesforce, Salesforce launches New Corporate Voice Assistant – Einstein Voice, \\nhttps://dazeworks.com /blog/salesforce-launches-new-corporate-voice-assistant-einstein-voice-2\\n41.Salesforce, What Are AI Agents? A Complete Guide, \\nhttps://www.salesforce.com/agentforce/what-are-ai-agents/#what\\n42.Salesforce, Agentforce Pricing, https://www.salesforce.com/ap/agentforce/pricing/\\n43.TechRadar, Jarvis AI is real – Google accidentally leaks its AI agent that browses the web \\nfor you, 2024.11.6.\\n44.TechTarget, Google Cloud debuts agent builder to ease GenAI adoption, 2024.4.10.\\n45.World Economic Forum, What is an AI agent and what will they do? Experts explain, 2024.7.24\\n '),\n",
       " Document(metadata={'source': './data/SPRi AI Brief_Special_AI Agent_241209_F.pdf', 'page': 26}, page_content=' \\n홈페이지 : https://spri.kr/\\n보고서와 관련된 문의는 AI정책연구실 (hs.lee @spri.kr, 031-739-73 33)으로 연락주시기 바랍니다 .\\n(B)')]"
      ]
     },
     "execution_count": 19,
     "metadata": {},
     "output_type": "execute_result"
    }
   ],
   "source": [
    "# 문서 로드\n",
    "await adocs"
   ]
  },
  {
   "cell_type": "markdown",
   "metadata": {},
   "source": [
    "-----\n",
    "** End of Documents **"
   ]
  }
 ],
 "metadata": {
  "kernelspec": {
   "display_name": "Python 3",
   "language": "python",
   "name": "python3"
  },
  "language_info": {
   "codemirror_mode": {
    "name": "ipython",
    "version": 3
   },
   "file_extension": ".py",
   "mimetype": "text/x-python",
   "name": "python",
   "nbconvert_exporter": "python",
   "pygments_lexer": "ipython3",
   "version": "3.11.9"
  }
 },
 "nbformat": 4,
 "nbformat_minor": 2
}
