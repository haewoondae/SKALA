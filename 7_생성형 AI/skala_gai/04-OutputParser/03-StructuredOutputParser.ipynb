{
 "cells": [
  {
   "cell_type": "code",
   "execution_count": 1,
   "metadata": {},
   "outputs": [
    {
     "data": {
      "text/plain": [
       "True"
      ]
     },
     "execution_count": 1,
     "metadata": {},
     "output_type": "execute_result"
    }
   ],
   "source": [
    "# API KEY Loading\n",
    "from dotenv import load_dotenv\n",
    "\n",
    "load_dotenv()"
   ]
  },
  {
   "cell_type": "code",
   "execution_count": 2,
   "metadata": {},
   "outputs": [
    {
     "name": "stdout",
     "output_type": "stream",
     "text": [
      "LangSmith 추적을 시작합니다.\n",
      "[프로젝트명]\n",
      "CH03-OutputParser\n"
     ]
    }
   ],
   "source": [
    "from langchain_teddynote import logging\n",
    "\n",
    "logging.langsmith(\"CH03-OutputParser\")"
   ]
  },
  {
   "cell_type": "markdown",
   "metadata": {},
   "source": [
    "# StructuredOutputParser\n",
    "\n",
    "1. 입출력 형식 정의: \n",
    "    - 사용자가 JSON 스키마 통해 데이터 구조, 필드 이름, 데이터 타입 등을 정의 \n",
    "    - 모델 출력이 정의된 스키마에 따라 반환되도록 보장\n",
    "2. 유효성 검사: \n",
    "    - 출력 데이터가 정의된 스키마에 맞지 않을 경우 오류 반환\n",
    "3. 구조화된 출력:\n",
    "    - 테그트 응답을 정의된 구조로 변환하여 데이터 처리 및 후속 작업을 용이하게 만듦\n",
    "\n",
    "[Reference] https://python.langchain.com/v0.1/docs/modules/model_io/output_parsers/types/structured/"
   ]
  },
  {
   "cell_type": "code",
   "execution_count": 3,
   "metadata": {},
   "outputs": [],
   "source": [
    "from langchain_openai import ChatOpenAI\n",
    "from langchain_core.prompts import PromptTemplate\n",
    "from langchain.output_parsers import ResponseSchema, StructuredOutputParser"
   ]
  },
  {
   "cell_type": "code",
   "execution_count": 4,
   "metadata": {},
   "outputs": [],
   "source": [
    "# 답변 스키마 정의\n",
    "response_schemas = [\n",
    "    ResponseSchema(name=\"answer\", description=\"사용자 질문에 대한 답변\"),\n",
    "    ResponseSchema(\n",
    "        name=\"source\", description=\"질문에 답하기 위해 사용된 `출처`, `웹사이트주소`\"\n",
    "    ),\n",
    "]\n",
    "\n",
    "# 파서 정의\n",
    "output_parser = StructuredOutputParser.from_response_schemas(response_schemas)"
   ]
  },
  {
   "cell_type": "code",
   "execution_count": 5,
   "metadata": {},
   "outputs": [
    {
     "name": "stdout",
     "output_type": "stream",
     "text": [
      "response_schemas=[ResponseSchema(name='answer', description='사용자 질문에 대한 답변', type='string'), ResponseSchema(name='source', description='질문에 답하기 위해 사용된 `출처`, `웹사이트주소`', type='string')]\n"
     ]
    }
   ],
   "source": [
    "print(output_parser)"
   ]
  },
  {
   "cell_type": "code",
   "execution_count": null,
   "metadata": {},
   "outputs": [],
   "source": [
    "# 출력 지시사항\n",
    "format_instructions = output_parser.get_format_instructions()\n",
    "\n",
    "# 템플릿 정의\n",
    "prompt = PromptTemplate(\n",
    "    template=\"answer the users question as best as possible.\\n{format_instructions}\\n{question}\",\n",
    "    input_variables=[\"question\"],\n",
    "    partial_variables={\"format_instructions\": format_instructions},\n",
    ")"
   ]
  },
  {
   "cell_type": "code",
   "execution_count": 7,
   "metadata": {},
   "outputs": [
    {
     "name": "stdout",
     "output_type": "stream",
     "text": [
      "The output should be a markdown code snippet formatted in the following schema, including the leading and trailing \"```json\" and \"```\":\n",
      "\n",
      "```json\n",
      "{\n",
      "\t\"answer\": string  // 사용자 질문에 대한 답변\n",
      "\t\"source\": string  // 질문에 답하기 위해 사용된 `출처`, `웹사이트주소`\n",
      "}\n",
      "```\n"
     ]
    }
   ],
   "source": [
    "print(format_instructions)"
   ]
  },
  {
   "cell_type": "code",
   "execution_count": null,
   "metadata": {},
   "outputs": [
    {
     "data": {
      "text/plain": [
       "{'answer': '스페인의 대표 특산품은 햄(진행식 햄)과 와인입니다.',\n",
       " 'source': 'https://www.spain.info/ko/'}"
      ]
     },
     "execution_count": 10,
     "metadata": {},
     "output_type": "execute_result"
    }
   ],
   "source": [
    "# 모델 정의\n",
    "model = ChatOpenAI(temperature=0)\n",
    "\n",
    "# 체인 정의\n",
    "chain = prompt | model | output_parser\n",
    "\n",
    "# 실행\n",
    "chain.invoke({\"question\": \"스페인의 대표 특산품은 무엇인가요?\"})"
   ]
  },
  {
   "cell_type": "code",
   "execution_count": 11,
   "metadata": {},
   "outputs": [
    {
     "name": "stdout",
     "output_type": "stream",
     "text": [
      "{'answer': '스페인의 대표 특산품은 햄(진행햄)과 와인(산타 마리아 와인)입니다.', 'source': 'https://www.spain.info/ko/que-ver-en-espana/gastronomia/productos-tipicos.html'}\n"
     ]
    }
   ],
   "source": [
    "# 스트리밍 출력\n",
    "for a in chain.stream({\"question\": \"스페인의 대표 특산품은 무엇인가요?\"}):\n",
    "    print(a)"
   ]
  },
  {
   "cell_type": "markdown",
   "metadata": {},
   "source": [
    "-----\n",
    "** End of Documents **"
   ]
  }
 ],
 "metadata": {
  "kernelspec": {
   "display_name": "langchain-kr-t0JhnSEV-py3.11",
   "language": "python",
   "name": "python3"
  },
  "language_info": {
   "codemirror_mode": {
    "name": "ipython",
    "version": 3
   },
   "file_extension": ".py",
   "mimetype": "text/x-python",
   "name": "python",
   "nbconvert_exporter": "python",
   "pygments_lexer": "ipython3",
   "version": "3.11.9"
  }
 },
 "nbformat": 4,
 "nbformat_minor": 2
}
