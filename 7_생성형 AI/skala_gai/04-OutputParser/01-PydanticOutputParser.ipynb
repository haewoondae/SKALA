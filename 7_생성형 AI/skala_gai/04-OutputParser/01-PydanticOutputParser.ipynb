{
 "cells": [
  {
   "cell_type": "code",
   "execution_count": 1,
   "metadata": {},
   "outputs": [
    {
     "data": {
      "text/plain": [
       "True"
      ]
     },
     "execution_count": 1,
     "metadata": {},
     "output_type": "execute_result"
    }
   ],
   "source": [
    "# API KEY Loading\n",
    "from dotenv import load_dotenv\n",
    "\n",
    "load_dotenv()"
   ]
  },
  {
   "cell_type": "code",
   "execution_count": 2,
   "metadata": {},
   "outputs": [
    {
     "name": "stdout",
     "output_type": "stream",
     "text": [
      "LangSmith 추적을 시작합니다.\n",
      "[프로젝트명]\n",
      "CH03-OutputParser\n"
     ]
    }
   ],
   "source": [
    "from langchain_teddynote import logging\n",
    "\n",
    "logging.langsmith(\"CH03-OutputParser\")"
   ]
  },
  {
   "cell_type": "markdown",
   "metadata": {},
   "source": [
    "# PydanticOutputParser\n",
    "\n",
    "1. Pydantic 모델 활용:\n",
    "    - Python의 데이터 검증 및 설정 관리 위한 `Pydantic` 모델을 사용하여 출력 형식 정의\n",
    "    - 가령 문자열, 정수, 리스트 등의 데이터 타입 및 유효성 검사 설정  \n",
    "2. 출력 구조화:\n",
    "    - 텍스트 응답을 JSON 형태와 같은 구조화된 데이터로 변환 \n",
    "    - 변환된 데이터는 프로그래밍에 쉽게 활용 가능 \n",
    "3. 에러 처리:\n",
    "    - 출력이 정의된 포맷에 맞지 않을 경우 오류 반환 \n",
    "    - 디버깅 하거나 응답 품질 개선에 활용\n",
    "\n",
    "[Reference] https://python.langchain.com/api_reference/core/output_parsers/langchain_core.output_parsers.pydantic.PydanticOutputParser.html"
   ]
  },
  {
   "cell_type": "code",
   "execution_count": 11,
   "metadata": {},
   "outputs": [],
   "source": [
    "from pydantic import BaseModel, Field\n",
    "from langchain_openai import ChatOpenAI\n",
    "from langchain_core.prompts import PromptTemplate \n",
    "from langchain.output_parsers import PydanticOutputParser\n",
    "from langchain_teddynote.messages import stream_response\n",
    "from itertools import chain"
   ]
  },
  {
   "cell_type": "markdown",
   "metadata": {},
   "source": [
    "## 유효성 검증"
   ]
  },
  {
   "cell_type": "code",
   "execution_count": 5,
   "metadata": {},
   "outputs": [
    {
     "name": "stdout",
     "output_type": "stream",
     "text": [
      "location='New York' temperature=25.4 condition='Sunny'\n"
     ]
    }
   ],
   "source": [
    "# Pydantic 모델 정의\n",
    "class WeatherResponse(BaseModel):\n",
    "    location: str\n",
    "    temperature: float\n",
    "    condition: str\n",
    "\n",
    "# PydanticOutputParser 생성\n",
    "parser = PydanticOutputParser(pydantic_object=WeatherResponse)\n",
    "\n",
    "# 예제 출력\n",
    "model_output = \"\"\"{\n",
    "    \"location\": \"New York\",\n",
    "    \"temperature\": 25.4,\n",
    "    \"condition\": \"Sunny\"\n",
    "}\"\"\"\n",
    "\n",
    "# 출력 파싱\n",
    "parsed_output = parser.parse(model_output)\n",
    "print(parsed_output)\n"
   ]
  },
  {
   "cell_type": "code",
   "execution_count": 7,
   "metadata": {},
   "outputs": [
    {
     "ename": "OutputParserException",
     "evalue": "Failed to parse WeatherResponse from completion {\"location\": \"New York\", \"temperature\": \"High\", \"condition\": \"Sunny\"}. Got: 1 validation error for WeatherResponse\ntemperature\n  Input should be a valid number, unable to parse string as a number [type=float_parsing, input_value='High', input_type=str]\n    For further information visit https://errors.pydantic.dev/2.10/v/float_parsing\nFor troubleshooting, visit: https://python.langchain.com/docs/troubleshooting/errors/OUTPUT_PARSING_FAILURE ",
     "output_type": "error",
     "traceback": [
      "\u001b[0;31m---------------------------------------------------------------------------\u001b[0m",
      "\u001b[0;31mValidationError\u001b[0m                           Traceback (most recent call last)",
      "File \u001b[0;32m~/Library/Caches/pypoetry/virtualenvs/langchain-kr-t0JhnSEV-py3.11/lib/python3.11/site-packages/langchain_core/output_parsers/pydantic.py:28\u001b[0m, in \u001b[0;36mPydanticOutputParser._parse_obj\u001b[0;34m(self, obj)\u001b[0m\n\u001b[1;32m     27\u001b[0m \u001b[38;5;28;01mif\u001b[39;00m \u001b[38;5;28missubclass\u001b[39m(\u001b[38;5;28mself\u001b[39m\u001b[38;5;241m.\u001b[39mpydantic_object, pydantic\u001b[38;5;241m.\u001b[39mBaseModel):\n\u001b[0;32m---> 28\u001b[0m     \u001b[38;5;28;01mreturn\u001b[39;00m \u001b[38;5;28;43mself\u001b[39;49m\u001b[38;5;241;43m.\u001b[39;49m\u001b[43mpydantic_object\u001b[49m\u001b[38;5;241;43m.\u001b[39;49m\u001b[43mmodel_validate\u001b[49m\u001b[43m(\u001b[49m\u001b[43mobj\u001b[49m\u001b[43m)\u001b[49m\n\u001b[1;32m     29\u001b[0m \u001b[38;5;28;01melif\u001b[39;00m \u001b[38;5;28missubclass\u001b[39m(\u001b[38;5;28mself\u001b[39m\u001b[38;5;241m.\u001b[39mpydantic_object, pydantic\u001b[38;5;241m.\u001b[39mv1\u001b[38;5;241m.\u001b[39mBaseModel):\n",
      "File \u001b[0;32m~/Library/Caches/pypoetry/virtualenvs/langchain-kr-t0JhnSEV-py3.11/lib/python3.11/site-packages/pydantic/main.py:627\u001b[0m, in \u001b[0;36mBaseModel.model_validate\u001b[0;34m(cls, obj, strict, from_attributes, context)\u001b[0m\n\u001b[1;32m    626\u001b[0m __tracebackhide__ \u001b[38;5;241m=\u001b[39m \u001b[38;5;28;01mTrue\u001b[39;00m\n\u001b[0;32m--> 627\u001b[0m \u001b[38;5;28;01mreturn\u001b[39;00m \u001b[38;5;28;43mcls\u001b[39;49m\u001b[38;5;241;43m.\u001b[39;49m\u001b[43m__pydantic_validator__\u001b[49m\u001b[38;5;241;43m.\u001b[39;49m\u001b[43mvalidate_python\u001b[49m\u001b[43m(\u001b[49m\n\u001b[1;32m    628\u001b[0m \u001b[43m    \u001b[49m\u001b[43mobj\u001b[49m\u001b[43m,\u001b[49m\u001b[43m \u001b[49m\u001b[43mstrict\u001b[49m\u001b[38;5;241;43m=\u001b[39;49m\u001b[43mstrict\u001b[49m\u001b[43m,\u001b[49m\u001b[43m \u001b[49m\u001b[43mfrom_attributes\u001b[49m\u001b[38;5;241;43m=\u001b[39;49m\u001b[43mfrom_attributes\u001b[49m\u001b[43m,\u001b[49m\u001b[43m \u001b[49m\u001b[43mcontext\u001b[49m\u001b[38;5;241;43m=\u001b[39;49m\u001b[43mcontext\u001b[49m\n\u001b[1;32m    629\u001b[0m \u001b[43m\u001b[49m\u001b[43m)\u001b[49m\n",
      "\u001b[0;31mValidationError\u001b[0m: 1 validation error for WeatherResponse\ntemperature\n  Input should be a valid number, unable to parse string as a number [type=float_parsing, input_value='High', input_type=str]\n    For further information visit https://errors.pydantic.dev/2.10/v/float_parsing",
      "\nThe above exception was the direct cause of the following exception:\n",
      "\u001b[0;31mOutputParserException\u001b[0m                     Traceback (most recent call last)",
      "Cell \u001b[0;32mIn[7], line 9\u001b[0m\n\u001b[1;32m      2\u001b[0m model_output \u001b[38;5;241m=\u001b[39m \u001b[38;5;124m\"\"\"\u001b[39m\u001b[38;5;124m{\u001b[39m\n\u001b[1;32m      3\u001b[0m \u001b[38;5;124m    \u001b[39m\u001b[38;5;124m\"\u001b[39m\u001b[38;5;124mlocation\u001b[39m\u001b[38;5;124m\"\u001b[39m\u001b[38;5;124m: \u001b[39m\u001b[38;5;124m\"\u001b[39m\u001b[38;5;124mNew York\u001b[39m\u001b[38;5;124m\"\u001b[39m\u001b[38;5;124m,\u001b[39m\n\u001b[1;32m      4\u001b[0m \u001b[38;5;124m    \u001b[39m\u001b[38;5;124m\"\u001b[39m\u001b[38;5;124mtemperature\u001b[39m\u001b[38;5;124m\"\u001b[39m\u001b[38;5;124m: \u001b[39m\u001b[38;5;124m\"\u001b[39m\u001b[38;5;124mHigh\u001b[39m\u001b[38;5;124m\"\u001b[39m\u001b[38;5;124m,\u001b[39m\n\u001b[1;32m      5\u001b[0m \u001b[38;5;124m    \u001b[39m\u001b[38;5;124m\"\u001b[39m\u001b[38;5;124mcondition\u001b[39m\u001b[38;5;124m\"\u001b[39m\u001b[38;5;124m: \u001b[39m\u001b[38;5;124m\"\u001b[39m\u001b[38;5;124mSunny\u001b[39m\u001b[38;5;124m\"\u001b[39m\n\u001b[1;32m      6\u001b[0m \u001b[38;5;124m}\u001b[39m\u001b[38;5;124m\"\"\"\u001b[39m\n\u001b[1;32m      8\u001b[0m \u001b[38;5;66;03m# 출력 파싱\u001b[39;00m\n\u001b[0;32m----> 9\u001b[0m parsed_output \u001b[38;5;241m=\u001b[39m \u001b[43mparser\u001b[49m\u001b[38;5;241;43m.\u001b[39;49m\u001b[43mparse\u001b[49m\u001b[43m(\u001b[49m\u001b[43mmodel_output\u001b[49m\u001b[43m)\u001b[49m\n\u001b[1;32m     10\u001b[0m \u001b[38;5;28mprint\u001b[39m(parsed_output)\n",
      "File \u001b[0;32m~/Library/Caches/pypoetry/virtualenvs/langchain-kr-t0JhnSEV-py3.11/lib/python3.11/site-packages/langchain_core/output_parsers/pydantic.py:83\u001b[0m, in \u001b[0;36mPydanticOutputParser.parse\u001b[0;34m(self, text)\u001b[0m\n\u001b[1;32m     74\u001b[0m \u001b[38;5;28;01mdef\u001b[39;00m \u001b[38;5;21mparse\u001b[39m(\u001b[38;5;28mself\u001b[39m, text: \u001b[38;5;28mstr\u001b[39m) \u001b[38;5;241m-\u001b[39m\u001b[38;5;241m>\u001b[39m TBaseModel:\n\u001b[1;32m     75\u001b[0m \u001b[38;5;250m    \u001b[39m\u001b[38;5;124;03m\"\"\"Parse the output of an LLM call to a pydantic object.\u001b[39;00m\n\u001b[1;32m     76\u001b[0m \n\u001b[1;32m     77\u001b[0m \u001b[38;5;124;03m    Args:\u001b[39;00m\n\u001b[0;32m   (...)\u001b[0m\n\u001b[1;32m     81\u001b[0m \u001b[38;5;124;03m        The parsed pydantic object.\u001b[39;00m\n\u001b[1;32m     82\u001b[0m \u001b[38;5;124;03m    \"\"\"\u001b[39;00m\n\u001b[0;32m---> 83\u001b[0m     \u001b[38;5;28;01mreturn\u001b[39;00m \u001b[38;5;28;43msuper\u001b[39;49m\u001b[43m(\u001b[49m\u001b[43m)\u001b[49m\u001b[38;5;241;43m.\u001b[39;49m\u001b[43mparse\u001b[49m\u001b[43m(\u001b[49m\u001b[43mtext\u001b[49m\u001b[43m)\u001b[49m\n",
      "File \u001b[0;32m~/Library/Caches/pypoetry/virtualenvs/langchain-kr-t0JhnSEV-py3.11/lib/python3.11/site-packages/langchain_core/output_parsers/json.py:97\u001b[0m, in \u001b[0;36mJsonOutputParser.parse\u001b[0;34m(self, text)\u001b[0m\n\u001b[1;32m     88\u001b[0m \u001b[38;5;28;01mdef\u001b[39;00m \u001b[38;5;21mparse\u001b[39m(\u001b[38;5;28mself\u001b[39m, text: \u001b[38;5;28mstr\u001b[39m) \u001b[38;5;241m-\u001b[39m\u001b[38;5;241m>\u001b[39m Any:\n\u001b[1;32m     89\u001b[0m \u001b[38;5;250m    \u001b[39m\u001b[38;5;124;03m\"\"\"Parse the output of an LLM call to a JSON object.\u001b[39;00m\n\u001b[1;32m     90\u001b[0m \n\u001b[1;32m     91\u001b[0m \u001b[38;5;124;03m    Args:\u001b[39;00m\n\u001b[0;32m   (...)\u001b[0m\n\u001b[1;32m     95\u001b[0m \u001b[38;5;124;03m        The parsed JSON object.\u001b[39;00m\n\u001b[1;32m     96\u001b[0m \u001b[38;5;124;03m    \"\"\"\u001b[39;00m\n\u001b[0;32m---> 97\u001b[0m     \u001b[38;5;28;01mreturn\u001b[39;00m \u001b[38;5;28;43mself\u001b[39;49m\u001b[38;5;241;43m.\u001b[39;49m\u001b[43mparse_result\u001b[49m\u001b[43m(\u001b[49m\u001b[43m[\u001b[49m\u001b[43mGeneration\u001b[49m\u001b[43m(\u001b[49m\u001b[43mtext\u001b[49m\u001b[38;5;241;43m=\u001b[39;49m\u001b[43mtext\u001b[49m\u001b[43m)\u001b[49m\u001b[43m]\u001b[49m\u001b[43m)\u001b[49m\n",
      "File \u001b[0;32m~/Library/Caches/pypoetry/virtualenvs/langchain-kr-t0JhnSEV-py3.11/lib/python3.11/site-packages/langchain_core/output_parsers/pydantic.py:72\u001b[0m, in \u001b[0;36mPydanticOutputParser.parse_result\u001b[0;34m(self, result, partial)\u001b[0m\n\u001b[1;32m     70\u001b[0m \u001b[38;5;28;01mif\u001b[39;00m partial:\n\u001b[1;32m     71\u001b[0m     \u001b[38;5;28;01mreturn\u001b[39;00m \u001b[38;5;28;01mNone\u001b[39;00m\n\u001b[0;32m---> 72\u001b[0m \u001b[38;5;28;01mraise\u001b[39;00m e\n",
      "File \u001b[0;32m~/Library/Caches/pypoetry/virtualenvs/langchain-kr-t0JhnSEV-py3.11/lib/python3.11/site-packages/langchain_core/output_parsers/pydantic.py:68\u001b[0m, in \u001b[0;36mPydanticOutputParser.parse_result\u001b[0;34m(self, result, partial)\u001b[0m\n\u001b[1;32m     66\u001b[0m \u001b[38;5;28;01mtry\u001b[39;00m:\n\u001b[1;32m     67\u001b[0m     json_object \u001b[38;5;241m=\u001b[39m \u001b[38;5;28msuper\u001b[39m()\u001b[38;5;241m.\u001b[39mparse_result(result)\n\u001b[0;32m---> 68\u001b[0m     \u001b[38;5;28;01mreturn\u001b[39;00m \u001b[38;5;28;43mself\u001b[39;49m\u001b[38;5;241;43m.\u001b[39;49m\u001b[43m_parse_obj\u001b[49m\u001b[43m(\u001b[49m\u001b[43mjson_object\u001b[49m\u001b[43m)\u001b[49m\n\u001b[1;32m     69\u001b[0m \u001b[38;5;28;01mexcept\u001b[39;00m OutputParserException \u001b[38;5;28;01mas\u001b[39;00m e:\n\u001b[1;32m     70\u001b[0m     \u001b[38;5;28;01mif\u001b[39;00m partial:\n",
      "File \u001b[0;32m~/Library/Caches/pypoetry/virtualenvs/langchain-kr-t0JhnSEV-py3.11/lib/python3.11/site-packages/langchain_core/output_parsers/pydantic.py:36\u001b[0m, in \u001b[0;36mPydanticOutputParser._parse_obj\u001b[0;34m(self, obj)\u001b[0m\n\u001b[1;32m     34\u001b[0m             \u001b[38;5;28;01mraise\u001b[39;00m OutputParserException(msg)\n\u001b[1;32m     35\u001b[0m     \u001b[38;5;28;01mexcept\u001b[39;00m (pydantic\u001b[38;5;241m.\u001b[39mValidationError, pydantic\u001b[38;5;241m.\u001b[39mv1\u001b[38;5;241m.\u001b[39mValidationError) \u001b[38;5;28;01mas\u001b[39;00m e:\n\u001b[0;32m---> 36\u001b[0m         \u001b[38;5;28;01mraise\u001b[39;00m \u001b[38;5;28mself\u001b[39m\u001b[38;5;241m.\u001b[39m_parser_exception(e, obj) \u001b[38;5;28;01mfrom\u001b[39;00m \u001b[38;5;21;01me\u001b[39;00m\n\u001b[1;32m     37\u001b[0m \u001b[38;5;28;01melse\u001b[39;00m:  \u001b[38;5;66;03m# pydantic v1\u001b[39;00m\n\u001b[1;32m     38\u001b[0m     \u001b[38;5;28;01mtry\u001b[39;00m:\n",
      "\u001b[0;31mOutputParserException\u001b[0m: Failed to parse WeatherResponse from completion {\"location\": \"New York\", \"temperature\": \"High\", \"condition\": \"Sunny\"}. Got: 1 validation error for WeatherResponse\ntemperature\n  Input should be a valid number, unable to parse string as a number [type=float_parsing, input_value='High', input_type=str]\n    For further information visit https://errors.pydantic.dev/2.10/v/float_parsing\nFor troubleshooting, visit: https://python.langchain.com/docs/troubleshooting/errors/OUTPUT_PARSING_FAILURE "
     ]
    }
   ],
   "source": [
    "# 예제 출력\n",
    "model_output = \"\"\"{\n",
    "    \"location\": \"New York\",\n",
    "    \"temperature\": \"High\",\n",
    "    \"condition\": \"Sunny\"\n",
    "}\"\"\"\n",
    "\n",
    "# 출력 파싱\n",
    "parsed_output = parser.parse(model_output)\n",
    "print(parsed_output)"
   ]
  },
  {
   "cell_type": "markdown",
   "metadata": {},
   "source": [
    "## 포맷 정의"
   ]
  },
  {
   "cell_type": "code",
   "execution_count": 9,
   "metadata": {},
   "outputs": [],
   "source": [
    "llm = ChatOpenAI(\n",
    "    temperature=0,\n",
    "    model_name='gpt-4o-mini',\n",
    ")"
   ]
  },
  {
   "cell_type": "code",
   "execution_count": 10,
   "metadata": {},
   "outputs": [],
   "source": [
    "email_conversation = \"\"\"From: 박민호 (minho.park@techsolarsystem.me)  \n",
    "To: 정유진 (yujin.jung@greencityinnovations.me)  \n",
    "Subject: 태양광 에너지 솔루션 협력 제안 및 미팅 일정  \n",
    "\n",
    "안녕하세요, 정유진 팀장님,  \n",
    "\n",
    "저는 테크솔라시스템의 박민호 부장입니다. 귀사가 최근 발표한 태양광 에너지 솔루션 \"GreenSpark\"에 대해 큰 관심을 가지고 있습니다. 테크솔라시스템은 신재생 에너지 설비 및 관련 기술 컨설팅에서 폭넓은 경험을 보유한 기업으로, 귀사의 혁신적인 솔루션과 협력하여 시너지를 창출할 수 있을 것이라 확신합니다.  \n",
    "\n",
    "GreenSpark 솔루션에 대한 기술 자료를 요청드립니다. 특히 효율성 데이터, 설치 요구사항, 그리고 유지보수 프로세스에 대한 상세 정보를 보내주시면, 이를 바탕으로 저희가 제안할 협력 모델을 구체화할 수 있을 것입니다.  \n",
    "\n",
    "더불어, 협력 가능성에 대해 논의하고자 다음 주 목요일(2월 8일) 오후 2시에 귀사 사무실에서의 미팅을 제안드립니다. 해당 일정이 가능하신지 확인 부탁드립니다.  \n",
    "\n",
    "감사합니다.  \n",
    "\n",
    "박민호  \n",
    "부장  \n",
    "테크솔라시스템 \n",
    "\"\"\""
   ]
  },
  {
   "cell_type": "markdown",
   "metadata": {},
   "source": [
    "포맷을 정의하지 않는 경우..."
   ]
  },
  {
   "cell_type": "code",
   "execution_count": 12,
   "metadata": {},
   "outputs": [
    {
     "name": "stdout",
     "output_type": "stream",
     "text": [
      "중요 내용 요약:\n",
      "\n",
      "- 발신자: 박민호 (테크솔라시스템 부장)\n",
      "- 수신자: 정유진 (그린시티이노베이션 팀장)\n",
      "- 주제: 태양광 에너지 솔루션 협력 제안 및 미팅 일정\n",
      "- 관심 대상: 그린시티이노베이션의 태양광 에너지 솔루션 \"GreenSpark\"\n",
      "- 요청 사항: GreenSpark 솔루션의 기술 자료 (효율성 데이터, 설치 요구사항, 유지보수 프로세스)\n",
      "- 제안된 미팅 일정: 2월 8일 (목요일) 오후 2시, 귀사 사무실\n",
      "- 확인 요청: 미팅 일정 가능 여부 확인"
     ]
    }
   ],
   "source": [
    "prompt = PromptTemplate.from_template(\n",
    "    \"다음의 이메일 내용중 중요한 내용을 추출해 주세요.\\n\\n{email_conversation}\"\n",
    ")\n",
    "\n",
    "chain = prompt | llm \n",
    "answer = chain.stream({'email_conversation': email_conversation})\n",
    "output = stream_response(answer, return_output=True)"
   ]
  },
  {
   "cell_type": "code",
   "execution_count": 13,
   "metadata": {},
   "outputs": [
    {
     "name": "stdout",
     "output_type": "stream",
     "text": [
      "중요 내용 요약:\n",
      "\n",
      "- 발신자: 박민호 (테크솔라시스템 부장)\n",
      "- 수신자: 정유진 (그린시티이노베이션 팀장)\n",
      "- 주제: 태양광 에너지 솔루션 협력 제안 및 미팅 일정\n",
      "- 관심 대상: 그린시티이노베이션의 태양광 에너지 솔루션 \"GreenSpark\"\n",
      "- 요청 사항: GreenSpark 솔루션의 기술 자료 (효율성 데이터, 설치 요구사항, 유지보수 프로세스)\n",
      "- 제안된 미팅 일정: 2월 8일 (목요일) 오후 2시, 귀사 사무실\n",
      "- 확인 요청: 미팅 일정 가능 여부 확인\n"
     ]
    }
   ],
   "source": [
    "print(output)"
   ]
  },
  {
   "cell_type": "markdown",
   "metadata": {},
   "source": [
    "포맷 정의한 경우...\n",
    "\n",
    "- description은 정확하게 명확하게 !!\n",
    "- LLM이 작성된 description에서 필요 정보를 추출하여 처리"
   ]
  },
  {
   "cell_type": "code",
   "execution_count": 14,
   "metadata": {},
   "outputs": [],
   "source": [
    "class EmailSummaryOutput(BaseModel):\n",
    "    person: str = Field(description='메일 보낸 사람')\n",
    "    email: str = Field(description='메일 보낸 사람의 이메일')\n",
    "    subject: str = Field(description='메일 제목')\n",
    "    summary: str = Field(description='메일 본문을 요약한 100자 이하의 텍스트')\n",
    "    date: str = Field(description='메일 본문에 언급된 미팅 날짜와 시간')"
   ]
  },
  {
   "cell_type": "code",
   "execution_count": 17,
   "metadata": {},
   "outputs": [
    {
     "name": "stdout",
     "output_type": "stream",
     "text": [
      "The output should be formatted as a JSON instance that conforms to the JSON schema below.\n",
      "\n",
      "As an example, for the schema {\"properties\": {\"foo\": {\"title\": \"Foo\", \"description\": \"a list of strings\", \"type\": \"array\", \"items\": {\"type\": \"string\"}}}, \"required\": [\"foo\"]}\n",
      "the object {\"foo\": [\"bar\", \"baz\"]} is a well-formatted instance of the schema. The object {\"properties\": {\"foo\": [\"bar\", \"baz\"]}} is not well-formatted.\n",
      "\n",
      "Here is the output schema:\n",
      "```\n",
      "{\"properties\": {\"person\": {\"description\": \"메일 보낸 사람\", \"title\": \"Person\", \"type\": \"string\"}, \"email\": {\"description\": \"메일 보낸 사람의 이메일\", \"title\": \"Email\", \"type\": \"string\"}, \"subject\": {\"description\": \"메일 제목\", \"title\": \"Subject\", \"type\": \"string\"}, \"summary\": {\"description\": \"메일 본문을 요약한 100자 이하의 텍스트\", \"title\": \"Summary\", \"type\": \"string\"}, \"date\": {\"description\": \"메일 본문에 언급된 미팅 날짜와 시간\", \"title\": \"Date\", \"type\": \"string\"}}, \"required\": [\"person\", \"email\", \"subject\", \"summary\", \"date\"]}\n",
      "```\n"
     ]
    }
   ],
   "source": [
    "# Output Parser 정의 \n",
    "parser = PydanticOutputParser(pydantic_object=EmailSummaryOutput)\n",
    "\n",
    "# instruction 확인 \n",
    "print(parser.get_format_instructions())"
   ]
  },
  {
   "cell_type": "code",
   "execution_count": 18,
   "metadata": {},
   "outputs": [],
   "source": [
    "# 프롬프트 정의 \n",
    "prompt = PromptTemplate.from_template(\n",
    "    \"\"\"\n",
    "You are a helpful assistant.\n",
    "Please answer the following questions in Korean. \n",
    "\n",
    "QUESTION:\n",
    "{question}\n",
    "\n",
    "EMAIL CONVERSATION:\n",
    "{email_conversation}\n",
    "\n",
    "FORMAT:\n",
    "{format}\n",
    "\"\"\"\n",
    ")\n",
    "\n",
    "prompt = prompt.partial(\n",
    "    format=parser.get_format_instructions()\n",
    ")"
   ]
  },
  {
   "cell_type": "code",
   "execution_count": 20,
   "metadata": {},
   "outputs": [
    {
     "name": "stdout",
     "output_type": "stream",
     "text": [
      "```json\n",
      "{\n",
      "  \"person\": \"박민호\",\n",
      "  \"email\": \"minho.park@techsolarsystem.me\",\n",
      "  \"subject\": \"태양광 에너지 솔루션 협력 제안 및 미팅 일정\",\n",
      "  \"summary\": \"테크솔라시스템의 박민호가 정유진에게 GreenSpark 솔루션에 대한 기술 자료 요청 및 미팅 제안.\",\n",
      "  \"date\": \"2024-02-08T14:00:00\"\n",
      "}\n",
      "```"
     ]
    }
   ],
   "source": [
    "# chain\n",
    "chain = prompt | llm\n",
    "\n",
    "# 답변 \n",
    "response = chain.stream(\n",
    "    {\n",
    "        'email_conversation':email_conversation,\n",
    "        'question':'이메일 내용에서 필요 내용을 정리해 주세요.',\n",
    "    }\n",
    ")\n",
    "\n",
    "# 결과는 JSON 형태로 출력\n",
    "output = stream_response(response, return_output=True)"
   ]
  },
  {
   "cell_type": "code",
   "execution_count": 21,
   "metadata": {},
   "outputs": [
    {
     "data": {
      "text/plain": [
       "str"
      ]
     },
     "execution_count": 21,
     "metadata": {},
     "output_type": "execute_result"
    }
   ],
   "source": [
    "type(output)"
   ]
  },
  {
   "cell_type": "code",
   "execution_count": 22,
   "metadata": {},
   "outputs": [
    {
     "name": "stdout",
     "output_type": "stream",
     "text": [
      "person='박민호' email='minho.park@techsolarsystem.me' subject='태양광 에너지 솔루션 협력 제안 및 미팅 일정' summary='테크솔라시스템의 박민호가 정유진에게 GreenSpark 솔루션에 대한 기술 자료 요청 및 미팅 제안.' date='2024-02-08T14:00:00'\n"
     ]
    }
   ],
   "source": [
    "# JSON 결과를 class 객체 형태로 추가 파싱 \n",
    "output_structured = parser.parse(output)\n",
    "print(output_structured)"
   ]
  },
  {
   "cell_type": "markdown",
   "metadata": {},
   "source": [
    "## 체인 구성 (with parser)"
   ]
  },
  {
   "cell_type": "code",
   "execution_count": 24,
   "metadata": {},
   "outputs": [
    {
     "data": {
      "text/plain": [
       "EmailSummaryOutput(person='박민호', email='minho.park@techsolarsystem.me', subject='태양광 에너지 솔루션 협력 제안 및 미팅 일정', summary='테크솔라시스템의 박민호가 정유진에게 GreenSpark 솔루션에 대한 기술 자료 요청 및 미팅 제안.', date='2024-02-08T14:00:00')"
      ]
     },
     "execution_count": 24,
     "metadata": {},
     "output_type": "execute_result"
    }
   ],
   "source": [
    "# chain\n",
    "chain = prompt | llm | parser\n",
    "\n",
    "# 답변 \n",
    "response = chain.invoke(\n",
    "    {\n",
    "        'email_conversation':email_conversation,\n",
    "        'question':'이메일 내용에서 필요 내용을 정리해 주세요.',\n",
    "    }\n",
    ")\n",
    "\n",
    "# 결과 출력 \n",
    "response"
   ]
  },
  {
   "cell_type": "code",
   "execution_count": 25,
   "metadata": {},
   "outputs": [
    {
     "data": {
      "text/plain": [
       "'테크솔라시스템의 박민호가 정유진에게 GreenSpark 솔루션에 대한 기술 자료 요청 및 미팅 제안.'"
      ]
     },
     "execution_count": 25,
     "metadata": {},
     "output_type": "execute_result"
    }
   ],
   "source": [
    "response.summary"
   ]
  },
  {
   "cell_type": "markdown",
   "metadata": {},
   "source": [
    "## with_structured_output()\n",
    "\n",
    "- 모델 정의 시 output parser를 함께 정의 \n",
    "- 출력은 Pydantic 객체로 변환 가능 \n",
    "- stream() 기능은 지원하지 않음"
   ]
  },
  {
   "cell_type": "code",
   "execution_count": 26,
   "metadata": {},
   "outputs": [],
   "source": [
    "llm_with_structured = ChatOpenAI(\n",
    "    temperature=0,\n",
    "    model_name='gpt-4o-mini',\n",
    ").with_structured_output(EmailSummaryOutput)"
   ]
  },
  {
   "cell_type": "code",
   "execution_count": 27,
   "metadata": {},
   "outputs": [
    {
     "data": {
      "text/plain": [
       "EmailSummaryOutput(person='박민호', email='minho.park@techsolarsystem.me', subject='태양광 에너지 솔루션 협력 제안 및 미팅 일정', summary=\"태양광 에너지 솔루션 'GreenSpark'에 대한 협력 제안 및 미팅 일정 요청.\", date='2024-02-08 14:00')"
      ]
     },
     "execution_count": 27,
     "metadata": {},
     "output_type": "execute_result"
    }
   ],
   "source": [
    "answer = llm_with_structured.invoke(email_conversation)\n",
    "answer"
   ]
  },
  {
   "cell_type": "code",
   "execution_count": 28,
   "metadata": {},
   "outputs": [
    {
     "data": {
      "text/plain": [
       "\"태양광 에너지 솔루션 'GreenSpark'에 대한 협력 제안 및 미팅 일정 요청.\""
      ]
     },
     "execution_count": 28,
     "metadata": {},
     "output_type": "execute_result"
    }
   ],
   "source": [
    "answer.summary"
   ]
  },
  {
   "cell_type": "markdown",
   "metadata": {},
   "source": [
    "-----\n",
    "** End of Documents **"
   ]
  }
 ],
 "metadata": {
  "kernelspec": {
   "display_name": "langchain-kr-t0JhnSEV-py3.11",
   "language": "python",
   "name": "python3"
  },
  "language_info": {
   "codemirror_mode": {
    "name": "ipython",
    "version": 3
   },
   "file_extension": ".py",
   "mimetype": "text/x-python",
   "name": "python",
   "nbconvert_exporter": "python",
   "pygments_lexer": "ipython3",
   "version": "3.11.9"
  }
 },
 "nbformat": 4,
 "nbformat_minor": 2
}
