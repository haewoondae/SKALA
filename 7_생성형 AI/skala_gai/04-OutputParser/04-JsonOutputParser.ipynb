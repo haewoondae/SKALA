{
 "cells": [
  {
   "cell_type": "code",
   "execution_count": 1,
   "metadata": {},
   "outputs": [
    {
     "data": {
      "text/plain": [
       "True"
      ]
     },
     "execution_count": 1,
     "metadata": {},
     "output_type": "execute_result"
    }
   ],
   "source": [
    "# API KEY Loading\n",
    "from dotenv import load_dotenv\n",
    "\n",
    "load_dotenv()"
   ]
  },
  {
   "cell_type": "code",
   "execution_count": 2,
   "metadata": {},
   "outputs": [
    {
     "name": "stdout",
     "output_type": "stream",
     "text": [
      "LangSmith 추적을 시작합니다.\n",
      "[프로젝트명]\n",
      "CH03-OutputParser\n"
     ]
    }
   ],
   "source": [
    "from langchain_teddynote import logging\n",
    "\n",
    "logging.langsmith(\"CH03-OutputParser\")"
   ]
  },
  {
   "cell_type": "markdown",
   "metadata": {},
   "source": [
    "# JsonOutputParser\n",
    "\n",
    "1. 출력 형식 정의: \n",
    "    - AI 모델의 텍스트 응답을 JSON 형태로 파싱 \n",
    "    - 구조화된 데이터를 생성하고 관리하는데 적합\n",
    "2. 유연성: \n",
    "    - JSON 데이터의 키-값 구조를 간단히 처리 가능 \n",
    "3. 사용 용이성:\n",
    "    - Pydantic 같은 추가 검증 없이 간단히 JSON 형식으로 파싱하는데 적합\n",
    "\n",
    "[Reference] https://python.langchain.com/api_reference/core/output_parsers/langchain_core.output_parsers.json.JsonOutputParser.html"
   ]
  },
  {
   "cell_type": "code",
   "execution_count": 3,
   "metadata": {},
   "outputs": [],
   "source": [
    "from pydantic import BaseModel, Field\n",
    "from langchain_openai import ChatOpenAI\n",
    "from langchain_core.prompts import ChatPromptTemplate \n",
    "from langchain_core.output_parsers import JsonOutputParser"
   ]
  },
  {
   "cell_type": "code",
   "execution_count": 4,
   "metadata": {},
   "outputs": [],
   "source": [
    "# 답변 스키마 정의 \n",
    "class JsonOutputClass(BaseModel):\n",
    "    description: str = Field(description='주제에 대한 명확하고 간결한 설명')\n",
    "    hashtags: str = Field(description='해시태그 형식의 키워드 (3개)')"
   ]
  },
  {
   "cell_type": "code",
   "execution_count": 5,
   "metadata": {},
   "outputs": [
    {
     "name": "stdout",
     "output_type": "stream",
     "text": [
      "The output should be formatted as a JSON instance that conforms to the JSON schema below.\n",
      "\n",
      "As an example, for the schema {\"properties\": {\"foo\": {\"title\": \"Foo\", \"description\": \"a list of strings\", \"type\": \"array\", \"items\": {\"type\": \"string\"}}}, \"required\": [\"foo\"]}\n",
      "the object {\"foo\": [\"bar\", \"baz\"]} is a well-formatted instance of the schema. The object {\"properties\": {\"foo\": [\"bar\", \"baz\"]}} is not well-formatted.\n",
      "\n",
      "Here is the output schema:\n",
      "```\n",
      "{\"properties\": {\"description\": {\"description\": \"주제에 대한 명확하고 간결한 설명\", \"title\": \"Description\", \"type\": \"string\"}, \"hashtags\": {\"description\": \"해시태그 형식의 키워드 (3개)\", \"title\": \"Hashtags\", \"type\": \"string\"}}, \"required\": [\"description\", \"hashtags\"]}\n",
      "```\n"
     ]
    }
   ],
   "source": [
    "# 질의 내용 \n",
    "question = '미세먼지의 심각성에 대해 정리해 주세요.'\n",
    "\n",
    "# 파서 정의 \n",
    "output_parser = JsonOutputParser(pydantic_object=JsonOutputClass)\n",
    "print(output_parser.get_format_instructions())"
   ]
  },
  {
   "cell_type": "code",
   "execution_count": 6,
   "metadata": {},
   "outputs": [],
   "source": [
    "# 템플릿 정의 \n",
    "prompt = ChatPromptTemplate.from_messages(\n",
    "    [\n",
    "        ('system','You are a helpful assistant. Please answer the following questions.'),\n",
    "        ('user','#Format: {format_instructions}\\n\\n#Question: {question}'),\n",
    "    ]\n",
    ")\n",
    "\n",
    "# 템플릿에 파서 적용 \n",
    "prompt = prompt.partial(format_instructions=output_parser.get_format_instructions())\n",
    "\n",
    "# 모델 정의 \n",
    "model = ChatOpenAI(temperature=0)\n",
    "\n",
    "# 체인 정의 \n",
    "chain = prompt | model | output_parser\n",
    "\n",
    "# 실행 \n",
    "answer = chain.invoke({'question':question})"
   ]
  },
  {
   "cell_type": "code",
   "execution_count": 8,
   "metadata": {},
   "outputs": [
    {
     "name": "stdout",
     "output_type": "stream",
     "text": [
      "{'description': '미세먼지는 대기 중에 미세한 입자로, 주로 공장, 자동차, 난방 등으로 인해 대기 중에 발생합니다. 이 입자들은 호흡기로 들어가면 폐에 침착되어 호흡기 질환을 유발할 수 있으며, 눈이 따가워지고 피부가 가렵거나 건조해지는 피부 질환을 유발할 수도 있습니다. 미세먼지 농도가 높을수록 심각한 건강 문제를 유발할 수 있으므로 주의가 필요합니다.', 'hashtags': '미세먼지, 환경, 건강'}\n"
     ]
    }
   ],
   "source": [
    "print(answer)"
   ]
  },
  {
   "cell_type": "code",
   "execution_count": 9,
   "metadata": {},
   "outputs": [
    {
     "data": {
      "text/plain": [
       "dict"
      ]
     },
     "execution_count": 9,
     "metadata": {},
     "output_type": "execute_result"
    }
   ],
   "source": [
    "type(answer)"
   ]
  },
  {
   "cell_type": "markdown",
   "metadata": {},
   "source": [
    "(참고) Pydantic 없이 사용\n",
    "- `JsonOutputParser`는 Pydantic 없이도 사용 가능 \n",
    "- 선언하지 않을 경우, 스키마가 어떻게 되는지 정보 확인 안됨"
   ]
  },
  {
   "cell_type": "code",
   "execution_count": 12,
   "metadata": {},
   "outputs": [],
   "source": [
    "# 질의 내용 \n",
    "# question = '미세먼지의 심각성에 대해 정리해 주세요.'\n",
    "question = '미세먼지의 심각성에 대해 정리해 주세요. 온난화에 대한 설명은 `description`에, 관련 키워드는 `hashtags`에 담아주세요.'\n",
    "\n",
    "# 파서 정의 \n",
    "# output_parser = JsonOutputParser(pydantic_object=JsonOutputClass)\n",
    "output_parser = JsonOutputParser()\n",
    "\n",
    "# 템플릿 정의 \n",
    "prompt = ChatPromptTemplate.from_messages(\n",
    "    [\n",
    "        ('system','You are a helpful assistant. Please answer the following questions.'),\n",
    "        ('user','#Format: {format_instructions}\\n\\n#Question: {question}'),\n",
    "    ]\n",
    ")\n",
    "\n",
    "# 템플릿에 파서 적용 \n",
    "prompt = prompt.partial(format_instructions=output_parser.get_format_instructions())\n",
    "\n",
    "# 모델 정의 \n",
    "model = ChatOpenAI(temperature=0)\n",
    "\n",
    "# 체인 정의 \n",
    "chain = prompt | model | output_parser\n",
    "\n",
    "# 실행 \n",
    "answer = chain.invoke({'question':question})"
   ]
  },
  {
   "cell_type": "code",
   "execution_count": 13,
   "metadata": {},
   "outputs": [
    {
     "name": "stdout",
     "output_type": "stream",
     "text": [
      "{'description': '미세먼지는 대기 중에 미세한 입자로 인체에 해로운 영향을 미치는 대기오염물질입니다. 주로 공장, 자동차, 난방 등으로 인해 발생하며 호흡기 질환, 알레르기 증상, 심장 질환 등을 유발할 수 있습니다.', 'hashtags': ['미세먼지', '대기오염', '호흡기질환', '환경오염']}\n"
     ]
    }
   ],
   "source": [
    "print(answer)"
   ]
  },
  {
   "cell_type": "code",
   "execution_count": 14,
   "metadata": {},
   "outputs": [
    {
     "data": {
      "text/plain": [
       "dict"
      ]
     },
     "execution_count": 14,
     "metadata": {},
     "output_type": "execute_result"
    }
   ],
   "source": [
    "type(answer)"
   ]
  },
  {
   "cell_type": "code",
   "execution_count": 15,
   "metadata": {},
   "outputs": [
    {
     "name": "stdout",
     "output_type": "stream",
     "text": [
      "Return a JSON object.\n"
     ]
    }
   ],
   "source": [
    "print(output_parser.get_format_instructions())"
   ]
  },
  {
   "cell_type": "markdown",
   "metadata": {},
   "source": [
    "-----\n",
    "** End of Documents **"
   ]
  }
 ],
 "metadata": {
  "kernelspec": {
   "display_name": "langchain-kr-t0JhnSEV-py3.11",
   "language": "python",
   "name": "python3"
  },
  "language_info": {
   "codemirror_mode": {
    "name": "ipython",
    "version": 3
   },
   "file_extension": ".py",
   "mimetype": "text/x-python",
   "name": "python",
   "nbconvert_exporter": "python",
   "pygments_lexer": "ipython3",
   "version": "3.11.9"
  }
 },
 "nbformat": 4,
 "nbformat_minor": 2
}
