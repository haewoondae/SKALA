{
 "cells": [
  {
   "cell_type": "code",
   "execution_count": 1,
   "metadata": {},
   "outputs": [
    {
     "data": {
      "text/plain": [
       "True"
      ]
     },
     "execution_count": 1,
     "metadata": {},
     "output_type": "execute_result"
    }
   ],
   "source": [
    "# API KEY Loading\n",
    "from dotenv import load_dotenv\n",
    "\n",
    "load_dotenv()"
   ]
  },
  {
   "cell_type": "code",
   "execution_count": 2,
   "metadata": {},
   "outputs": [
    {
     "name": "stdout",
     "output_type": "stream",
     "text": [
      "LangSmith 추적을 시작합니다.\n",
      "[프로젝트명]\n",
      "CH06-Memory\n"
     ]
    }
   ],
   "source": [
    "from langchain_teddynote import logging\n",
    "\n",
    "logging.langsmith(\"CH06-Memory\")"
   ]
  },
  {
   "cell_type": "markdown",
   "metadata": {},
   "source": [
    "# ConversationEntityMemory\n",
    "\n",
    "1. 개요\n",
    "    - 대화 기록을 관리하는 메모리 클래스 중 하나로, 대화 중 등장하는 특정 엔티티를 추출/저장하여 이후 대화에 활용\n",
    "    - 메모리는 사용자 언급한 고유 엔티티(eg, 이름, 장소, 날짜 등)를 추적하고 저장 \n",
    "    - 대화의 일관성을 유지하고 개인화된 응답 제공 가능 \n",
    "\n",
    "2. 주요 특징 \n",
    "    1. 엔티티 추적:\n",
    "        - 대화 중 특정 엔티티를 자동으로 추출하고 저장 \n",
    "        - 저장된 엔티티는 이후 대화 문맥으로 사용 \n",
    "        - 추출된 엔티티는 저장, 수정, 삭제 가능  \n",
    "    2. 동적 학습:\n",
    "        - 새로운 엔티티가 등장할 때 자동으로 학습하고 업데이트 가능 \n",
    "\n",
    "[Reference] https://api.python.langchain.com/en/latest/memory/langchain.memory.entity.ConversationEntityMemory.html"
   ]
  },
  {
   "cell_type": "code",
   "execution_count": 3,
   "metadata": {},
   "outputs": [],
   "source": [
    "from langchain_openai import ChatOpenAI\n",
    "from langchain.chains import ConversationChain\n",
    "from langchain.memory import ConversationEntityMemory\n",
    "from langchain.memory.prompt import ENTITY_MEMORY_CONVERSATION_TEMPLATE"
   ]
  },
  {
   "cell_type": "code",
   "execution_count": 4,
   "metadata": {},
   "outputs": [
    {
     "name": "stdout",
     "output_type": "stream",
     "text": [
      "You are an assistant to a human, powered by a large language model trained by OpenAI.\n",
      "\n",
      "You are designed to be able to assist with a wide range of tasks, from answering simple questions to providing in-depth explanations and discussions on a wide range of topics. As a language model, you are able to generate human-like text based on the input you receive, allowing you to engage in natural-sounding conversations and provide responses that are coherent and relevant to the topic at hand.\n",
      "\n",
      "You are constantly learning and improving, and your capabilities are constantly evolving. You are able to process and understand large amounts of text, and can use this knowledge to provide accurate and informative responses to a wide range of questions. You have access to some personalized information provided by the human in the Context section below. Additionally, you are able to generate your own text based on the input you receive, allowing you to engage in discussions and provide explanations and descriptions on a wide range of topics.\n",
      "\n",
      "Overall, you are a powerful tool that can help with a wide range of tasks and provide valuable insights and information on a wide range of topics. Whether the human needs help with a specific question or just wants to have a conversation about a particular topic, you are here to assist.\n",
      "\n",
      "Context:\n",
      "{entities}\n",
      "\n",
      "Current conversation:\n",
      "{history}\n",
      "Last line:\n",
      "Human: {input}\n",
      "You:\n"
     ]
    }
   ],
   "source": [
    "# 프롬프트 템플릿 확인  \n",
    "print(ENTITY_MEMORY_CONVERSATION_TEMPLATE.template)"
   ]
  },
  {
   "cell_type": "code",
   "execution_count": 5,
   "metadata": {},
   "outputs": [
    {
     "name": "stderr",
     "output_type": "stream",
     "text": [
      "/var/folders/37/2rwxb6k520l4tqxzpx1nh8lh0000gn/T/ipykernel_27476/4236951325.py:11: LangChainDeprecationWarning: Please see the migration guide at: https://python.langchain.com/docs/versions/migrating_memory/\n",
      "  memory=ConversationEntityMemory(llm=model),\n",
      "/var/folders/37/2rwxb6k520l4tqxzpx1nh8lh0000gn/T/ipykernel_27476/4236951325.py:8: LangChainDeprecationWarning: The class `ConversationChain` was deprecated in LangChain 0.2.7 and will be removed in 1.0. Use :meth:`~RunnableWithMessageHistory: https://python.langchain.com/v0.2/api_reference/core/runnables/langchain_core.runnables.history.RunnableWithMessageHistory.html` instead.\n",
      "  conversation = ConversationChain(\n"
     ]
    }
   ],
   "source": [
    "# 모델 정의/초기화 \n",
    "model = ChatOpenAI(\n",
    "    temperature=0,\n",
    "    model_name='gpt-4o',\n",
    ")\n",
    "\n",
    "# 체인 정의 \n",
    "conversation = ConversationChain(\n",
    "    llm=model,\n",
    "    prompt=ENTITY_MEMORY_CONVERSATION_TEMPLATE,\n",
    "    memory=ConversationEntityMemory(llm=model),\n",
    ")"
   ]
  },
  {
   "cell_type": "code",
   "execution_count": 6,
   "metadata": {},
   "outputs": [
    {
     "data": {
      "text/plain": [
       "'철수와 영희가 SKALA 학생으로서 열심히 공부하고 있는 모습이 정말 멋지네요! 철수는 JAVA 개발자로, 영희는 AI 개발자로 목표를 세우고 있다니 각자의 분야에서 많은 성장을 이룰 수 있을 것 같아요. 팀 프로젝트를 통해 서로 도움을 주고받으며 협력하는 경험은 큰 자산이 될 것입니다. 그리고 피자 쿠폰 당첨이라니, 열심히 한 보람이 있네요! 맛있는 피자와 함께 즐거운 시간 보내세요. 혹시 프로젝트나 공부에 대해 더 궁금한 점이 있으면 언제든지 물어보세요!'"
      ]
     },
     "execution_count": 6,
     "metadata": {},
     "output_type": "execute_result"
    }
   ],
   "source": [
    "conversation.predict(\n",
    "    input=\"철수와 영희는 SKALA 학생 입니다.\"\n",
    "    \"철수는 JAVA 개발자, 영희는 AI 개발자를 목표로 하고 있습니다.\"\n",
    "    \"모두 5월부터 팀 프로젝트를 위해 서로 도움을 주고 받으며 열심히 공부하고 있습니다.\"\n",
    "    \"이번달도 피자 쿠폰 당첨 입니다.\"\n",
    ")"
   ]
  },
  {
   "cell_type": "code",
   "execution_count": 7,
   "metadata": {},
   "outputs": [
    {
     "data": {
      "text/plain": [
       "{'철수': '철수는 SKALA 학생이며, JAVA 개발자를 목표로 하고 있습니다.',\n",
       " '영희': '영희는 SKALA 학생이며, AI 개발자를 목표로 하고 있습니다.',\n",
       " 'SKALA': 'SKALA is an educational program where students like 철수 and 영희 are studying, with 철수 aiming to become a JAVA developer and 영희 an AI developer, and they have been collaborating on a team project since May.',\n",
       " 'JAVA': 'JAVA is the programming language that 철수 is aiming to specialize in as a developer.',\n",
       " 'AI': '영희는 AI 개발자를 목표로 하고 있습니다.'}"
      ]
     },
     "execution_count": 7,
     "metadata": {},
     "output_type": "execute_result"
    }
   ],
   "source": [
    "# 메모리에 저장된 엔티티 확인 \n",
    "conversation.memory.entity_store.store"
   ]
  },
  {
   "cell_type": "markdown",
   "metadata": {},
   "source": [
    "-----\n",
    "** End of Documents **"
   ]
  }
 ],
 "metadata": {
  "kernelspec": {
   "display_name": "langchain-kr-t0JhnSEV-py3.11",
   "language": "python",
   "name": "python3"
  },
  "language_info": {
   "codemirror_mode": {
    "name": "ipython",
    "version": 3
   },
   "file_extension": ".py",
   "mimetype": "text/x-python",
   "name": "python",
   "nbconvert_exporter": "python",
   "pygments_lexer": "ipython3",
   "version": "3.11.9"
  }
 },
 "nbformat": 4,
 "nbformat_minor": 2
}
