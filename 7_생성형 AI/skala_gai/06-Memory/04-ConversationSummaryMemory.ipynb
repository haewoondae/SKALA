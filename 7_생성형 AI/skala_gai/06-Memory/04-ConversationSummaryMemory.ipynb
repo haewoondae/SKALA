{
 "cells": [
  {
   "cell_type": "code",
   "execution_count": 1,
   "metadata": {},
   "outputs": [
    {
     "data": {
      "text/plain": [
       "True"
      ]
     },
     "execution_count": 1,
     "metadata": {},
     "output_type": "execute_result"
    }
   ],
   "source": [
    "# API KEY Loading\n",
    "from dotenv import load_dotenv\n",
    "\n",
    "load_dotenv()"
   ]
  },
  {
   "cell_type": "code",
   "execution_count": 2,
   "metadata": {},
   "outputs": [
    {
     "name": "stdout",
     "output_type": "stream",
     "text": [
      "LangSmith 추적을 시작합니다.\n",
      "[프로젝트명]\n",
      "CH06-Memory\n"
     ]
    }
   ],
   "source": [
    "from langchain_teddynote import logging\n",
    "\n",
    "logging.langsmith(\"CH06-Memory\")"
   ]
  },
  {
   "cell_type": "markdown",
   "metadata": {},
   "source": [
    "# ConversationSummaryMemory\n",
    "\n",
    "1. 개요\n",
    "    - 대화 기록을 관리하는 메모리 클래스 중 하나로, 대화내용을 요약하여 저장\n",
    "    - 중요한 정보를 추출하고 간결하게 요약하여 기록  \n",
    "\n",
    "2. 주요 특징 \n",
    "    1. 대화 요약:\n",
    "        - 대화의 주요 내용만 요약하여 저장 \n",
    "        - 불필요한 세부 사항은 생략하고 핵심 문맥만 유지 \n",
    "    2. 문맥 기반 대화:\n",
    "        - 요약된 내용을 사용해 이전 대화 문맥을 반영한 자연스러운 응답 생성 가능 \n",
    "        - 새로운 대화 내용이 추가될 때 기존 요약을 업데이트하여 최신 상태 유지 \n",
    "    3. 효율적인 메모리 관리:\n",
    "        - 대화 기록이 길어지더라도 요약된 정보를 저장하므로 토큰 제한 문제 최소화 \n",
    "        - 프롬프트 크기가 작아져서 모델 호출 비용과 속도 최적화 \n",
    "\n",
    "[Reference] https://js.langchain.com/v0.1/docs/modules/memory/types/summary/"
   ]
  },
  {
   "cell_type": "code",
   "execution_count": 3,
   "metadata": {},
   "outputs": [],
   "source": [
    "from langchain_openai import ChatOpenAI\n",
    "from langchain.memory import ConversationSummaryMemory"
   ]
  },
  {
   "cell_type": "code",
   "execution_count": 4,
   "metadata": {},
   "outputs": [
    {
     "name": "stderr",
     "output_type": "stream",
     "text": [
      "/var/folders/37/2rwxb6k520l4tqxzpx1nh8lh0000gn/T/ipykernel_28476/1616715579.py:2: LangChainDeprecationWarning: Please see the migration guide at: https://python.langchain.com/docs/versions/migrating_memory/\n",
      "  memory = ConversationSummaryMemory(\n"
     ]
    }
   ],
   "source": [
    "# 초기화\n",
    "memory = ConversationSummaryMemory(\n",
    "    llm=ChatOpenAI(\n",
    "        temperature=0,\n",
    "        model_name='gpt-4o-mini',\n",
    "    ),\n",
    "    return_messages=True\n",
    ")"
   ]
  },
  {
   "cell_type": "code",
   "execution_count": 5,
   "metadata": {},
   "outputs": [],
   "source": [
    "# 대화 내용 저장\n",
    "memory.save_context(\n",
    "    inputs={\n",
    "        \"human\": \"안녕하세요, 지금 방송 중인 에센스 상품에 대해 문의드리고 싶어요.\"\n",
    "    },\n",
    "    outputs={\n",
    "        \"ai\": \"안녕하세요! 현재 저희 홈쇼핑 채널에서 방송 중인 에센스는 피부 보습과 영양을 제공하는 인기 상품입니다. 어떤 부분이 궁금하신가요?\"\n",
    "    },\n",
    ")\n",
    "\n",
    "memory.save_context(\n",
    "    inputs={\n",
    "        \"human\": \"구성품이 어떻게 되나요?\"\n",
    "    },\n",
    "    outputs={\n",
    "        \"ai\": \"이번 구성은 에센스 본품 2개와 미니 사이즈 에센스 1개, 그리고 추가로 한정판 보습 크림 샘플이 포함되어 있습니다.\"\n",
    "    },\n",
    ")\n",
    "\n",
    "memory.save_context(\n",
    "    inputs={\n",
    "        \"human\": \"용량은 각각 얼마나 되나요?\"\n",
    "    },\n",
    "    outputs={\n",
    "        \"ai\": \"본품 에센스는 50ml씩 2개, 미니 사이즈는 15ml입니다. 보습 크림 샘플은 10ml로 구성되어 있습니다.\"\n",
    "    },\n",
    ")\n",
    "\n",
    "memory.save_context(\n",
    "    inputs={\n",
    "        \"human\": \"가격은 얼마인가요?\"\n",
    "    },\n",
    "    outputs={\n",
    "        \"ai\": \"이번 방송 특가로 49,900원에 구매하실 수 있습니다. 추가로, 무료 배송 혜택도 제공됩니다!\"\n",
    "    },\n",
    ")\n",
    "\n",
    "memory.save_context(\n",
    "    inputs={\n",
    "        \"human\": \"이 상품은 어떤 피부 타입에 적합한가요?\"\n",
    "    },\n",
    "    outputs={\n",
    "        \"ai\": \"이 에센스는 모든 피부 타입에 적합하지만, 특히 건조하거나 민감한 피부에 탁월한 보습 효과를 제공합니다.\"\n",
    "    },\n",
    ")\n",
    "\n",
    "memory.save_context(\n",
    "    inputs={\n",
    "        \"human\": \"제가 피부가 민감한 편인데 성분은 안전한가요?\"\n",
    "    },\n",
    "    outputs={\n",
    "        \"ai\": \"네, 해당 에센스는 알로에 추출물, 히알루론산 등 피부에 자극을 최소화한 성분으로 제작되었습니다. 피부 테스트도 완료된 안전한 제품입니다.\"\n",
    "    },\n",
    ")\n",
    "\n",
    "memory.save_context(\n",
    "    inputs={\n",
    "        \"human\": \"알겠습니다. 그럼 주문하고 싶습니다.\"\n",
    "    },\n",
    "    outputs={\n",
    "        \"ai\": \"주문 도와드리겠습니다. 결제는 카드로 진행하시겠습니까?\"\n",
    "    },\n",
    ")\n",
    "\n",
    "memory.save_context(\n",
    "    inputs={\n",
    "        \"human\": \"네, 카드 결제할게요.\"\n",
    "    },\n",
    "    outputs={\n",
    "        \"ai\": \"확인되었습니다. 주문이 완료되었습니다. 주문번호는 12345이며, 5~7 영업일 이내에 등록된 주소로 배송됩니다.\"\n",
    "    },\n",
    ")\n",
    "\n",
    "memory.save_context(\n",
    "    inputs={\n",
    "        \"human\": \"배송 상태는 어디에서 확인할 수 있나요?\"\n",
    "    },\n",
    "    outputs={\n",
    "        \"ai\": \"주문하신 상품의 배송 상태는 홈쇼핑 웹사이트 또는 앱에서 확인 가능하며, 주문번호 12345를 입력하시면 됩니다.\"\n",
    "    },\n",
    ")\n",
    "\n",
    "memory.save_context(\n",
    "    inputs={\n",
    "        \"human\": \"네, 알겠습니다. 추가 문의가 있으면 다시 연락드릴게요.\"\n",
    "    },\n",
    "    outputs={\n",
    "        \"ai\": \"네, 감사합니다! 추가로 궁금한 사항이 있으시면 언제든 문의 주세요. 좋은 하루 되세요!\"\n",
    "    },\n",
    ")\n"
   ]
  },
  {
   "cell_type": "code",
   "execution_count": 6,
   "metadata": {},
   "outputs": [
    {
     "name": "stdout",
     "output_type": "stream",
     "text": [
      "[SystemMessage(content=\"The human greets the AI and inquires about a currently broadcasted essence product. The AI responds that the essence is a popular item providing skin hydration and nutrition, and asks what specific information the human is interested in. The human then asks about the product's components, and the AI explains that the set includes two full-size essences, one mini-size essence, and a limited edition moisturizing cream sample. The human further asks about the sizes of each product, and the AI details that the full-size essences are 50ml each, the mini-size essence is 15ml, and the moisturizing cream sample is 10ml. The human then asks about the price, and the AI informs them that it is available for a special broadcast price of 49,900 won, with the added benefit of free shipping. The human asks which skin types the product is suitable for, and the AI explains that the essence is suitable for all skin types, particularly providing excellent hydration for dry or sensitive skin. The human expresses concern about the safety of the ingredients due to having sensitive skin, and the AI reassures them that the essence is made with skin-friendly ingredients like aloe extract and hyaluronic acid, and has passed safety tests. The human then indicates they would like to place an order, and the AI offers to assist with the order, asking if the payment will be made by card. The human confirms they will pay by card, and the AI confirms the order is complete, providing the order number 12345 and stating that delivery will occur within 5-7 business days to the registered address. The human then asks where they can check the delivery status, and the AI informs them that the delivery status can be checked on the home shopping website or app by entering the order number 12345. Finally, the human acknowledges the information and mentions they will reach out again if they have further inquiries, to which the AI responds with gratitude and an invitation to ask any additional questions, wishing the human a good day.\", additional_kwargs={}, response_metadata={})]\n"
     ]
    }
   ],
   "source": [
    "# 저장된 메모리 확인\n",
    "print(memory.load_memory_variables({})[\"history\"])"
   ]
  },
  {
   "cell_type": "markdown",
   "metadata": {},
   "source": [
    "# ConversaionSummaryBufferMemory\n",
    "\n",
    "- 최근 대화내용의 버퍼를 메모리에 유지하되\n",
    "- 이전 대화내용은 삭제(flush)하지 않고, 요약 형태로 컴파일\n",
    "- 대화내용 삭제는 토큰 길이로 결정\n",
    "\n",
    "|                  | ConversationSummaryBufferMemory                                                                               | ConversationSummaryMemory                                                                                   |\n",
    "|---------------------------|-------------------------------------------------------------------------------------------------------------------|-----------------------------------------------------------------------------------------------------------------|\n",
    "| 기본 개념             | 대화 내용을 요약하지만, 일정 토큰 수 내에서 최근 대화 내용을 추가로 유지하여 문맥을 강화.                          | 대화 내용을 요약하여 전체 대화의 핵심 정보만 유지.                                                             |\n",
    "| 요약 방식             | 요약된 내용과 함께 최근 대화 일부를 추가로 저장.                                                                  | 모든 대화 내용을 요약하여 저장.                                                                                |\n",
    "| 토큰 관리             | 토큰 수 제한(예: 최대 1000개)을 설정하고 초과 시 오래된 대화 내용을 삭제.                                           | 토큰 수 제한 없이 요약된 내용만 저장하므로 효율적.                                                              |\n",
    "| 문맥 유지             | 최신 대화의 일부 세부사항을 유지하므로, 문맥 기반의 풍부한 응답 제공.                                              | 요약된 대화 내용을 기반으로 응답하므로 세부 사항보다는 전체 흐름에 초점.                                       |\n",
    "| 장점                  | - 최신 대화 문맥과 요약된 정보를 함께 사용하여 더 정확하고 일관된 대화 가능.<br>- 토큰 제한 내에서 유연하게 작동.    | - 요약만 저장하므로 긴 대화에서도 효율적으로 동작.<br>- 모든 대화를 한눈에 파악 가능.                          |\n",
    "| 단점                  | - 토큰 수를 초과하면 오래된 대화 내용 일부가 삭제되어 중요한 문맥이 손실될 수 있음.<br>- 토큰 관리 추가 비용 발생.    | - 세부 사항이 삭제되므로 세부적인 대화 흐름을 유지하는 데 부적합.<br>- 요약 품질이 응답 품질에 큰 영향을 미침.  |\n",
    "| 저장 데이터           | - 요약된 내용 + 최근 대화 일부.                                                                                    | - 요약된 내용만.                                                                                               |                                         |\n"
   ]
  },
  {
   "cell_type": "code",
   "execution_count": 7,
   "metadata": {},
   "outputs": [],
   "source": [
    "from langchain.memory import ConversationSummaryBufferMemory"
   ]
  },
  {
   "cell_type": "code",
   "execution_count": 8,
   "metadata": {},
   "outputs": [
    {
     "name": "stderr",
     "output_type": "stream",
     "text": [
      "/var/folders/37/2rwxb6k520l4tqxzpx1nh8lh0000gn/T/ipykernel_28476/1655003461.py:2: LangChainDeprecationWarning: Please see the migration guide at: https://python.langchain.com/docs/versions/migrating_memory/\n",
      "  memory = ConversationSummaryBufferMemory(\n"
     ]
    }
   ],
   "source": [
    "# 메모리 초기화 \n",
    "memory = ConversationSummaryBufferMemory(\n",
    "    llm=ChatOpenAI(),\n",
    "    max_token_limit=150,\n",
    "    return_messages=True,\n",
    ")"
   ]
  },
  {
   "cell_type": "code",
   "execution_count": 9,
   "metadata": {},
   "outputs": [],
   "source": [
    "# 첫번째 대화 저장 \n",
    "memory.save_context(\n",
    "    inputs={\n",
    "        \"human\": \"안녕하세요, 지금 방송 중인 에센스 상품에 대해 문의드리고 싶어요.\"\n",
    "    },\n",
    "    outputs={\n",
    "        \"ai\": \"안녕하세요! 현재 저희 홈쇼핑 채널에서 방송 중인 에센스는 피부 보습과 영양을 제공하는 인기 상품입니다. 어떤 부분이 궁금하신가요?\"\n",
    "    },\n",
    ")"
   ]
  },
  {
   "cell_type": "code",
   "execution_count": 10,
   "metadata": {},
   "outputs": [
    {
     "data": {
      "text/plain": [
       "[HumanMessage(content='안녕하세요, 지금 방송 중인 에센스 상품에 대해 문의드리고 싶어요.', additional_kwargs={}, response_metadata={}),\n",
       " AIMessage(content='안녕하세요! 현재 저희 홈쇼핑 채널에서 방송 중인 에센스는 피부 보습과 영양을 제공하는 인기 상품입니다. 어떤 부분이 궁금하신가요?', additional_kwargs={}, response_metadata={})]"
      ]
     },
     "execution_count": 10,
     "metadata": {},
     "output_type": "execute_result"
    }
   ],
   "source": [
    "# 저장된 메모리 확인\n",
    "memory.load_memory_variables({})[\"history\"]"
   ]
  },
  {
   "cell_type": "code",
   "execution_count": 11,
   "metadata": {},
   "outputs": [],
   "source": [
    "# max token을 넘겨서 대화 저장 \n",
    "memory.save_context(\n",
    "    inputs={\n",
    "        \"human\": \"구성품이 어떻게 되나요?\"\n",
    "    },\n",
    "    outputs={\n",
    "        \"ai\": \"이번 구성은 에센스 본품 2개와 미니 사이즈 에센스 1개, 그리고 추가로 한정판 보습 크림 샘플이 포함되어 있습니다.\"\n",
    "    },\n",
    ")\n",
    "\n",
    "memory.save_context(\n",
    "    inputs={\n",
    "        \"human\": \"용량은 각각 얼마나 되나요?\"\n",
    "    },\n",
    "    outputs={\n",
    "        \"ai\": \"본품 에센스는 50ml씩 2개, 미니 사이즈는 15ml입니다. 보습 크림 샘플은 10ml로 구성되어 있습니다.\"\n",
    "    },\n",
    ")\n",
    "\n",
    "memory.save_context(\n",
    "    inputs={\n",
    "        \"human\": \"가격은 얼마인가요?\"\n",
    "    },\n",
    "    outputs={\n",
    "        \"ai\": \"이번 방송 특가로 49,900원에 구매하실 수 있습니다. 추가로, 무료 배송 혜택도 제공됩니다!\"\n",
    "    },\n",
    ")\n",
    "\n",
    "memory.save_context(\n",
    "    inputs={\n",
    "        \"human\": \"이 상품은 어떤 피부 타입에 적합한가요?\"\n",
    "    },\n",
    "    outputs={\n",
    "        \"ai\": \"이 에센스는 모든 피부 타입에 적합하지만, 특히 건조하거나 민감한 피부에 탁월한 보습 효과를 제공합니다.\"\n",
    "    },\n",
    ")"
   ]
  },
  {
   "cell_type": "code",
   "execution_count": 12,
   "metadata": {},
   "outputs": [
    {
     "data": {
      "text/plain": [
       "[SystemMessage(content='인간이 홈쇼핑에서 방송 중인 에센스 제품에 대해 문의하고, AI는 제품이 피부 수분과 영양을 제공하는 것으로 설명합니다. 인간이 세트에 대해 물어보자, AI는 2개의 주요 에센스 제품, 1개의 미니 사이즈 에센스, 그리고 보습 크림 샘플이 포함된다고 대답합니다. 인간이 용량을 묻자, AI는 본품 에센스가 50ml씩 2개, 미니 사이즈는 15ml, 보습 크림 샘플이 10ml로 구성된다고 설명합니다. 인간이 가격을 물으면, AI는 그 정보를 알려줄 것입니다.', additional_kwargs={}, response_metadata={}),\n",
       " AIMessage(content='이번 방송 특가로 49,900원에 구매하실 수 있습니다. 추가로, 무료 배송 혜택도 제공됩니다!', additional_kwargs={}, response_metadata={}),\n",
       " HumanMessage(content='이 상품은 어떤 피부 타입에 적합한가요?', additional_kwargs={}, response_metadata={}),\n",
       " AIMessage(content='이 에센스는 모든 피부 타입에 적합하지만, 특히 건조하거나 민감한 피부에 탁월한 보습 효과를 제공합니다.', additional_kwargs={}, response_metadata={})]"
      ]
     },
     "execution_count": 12,
     "metadata": {},
     "output_type": "execute_result"
    }
   ],
   "source": [
    "# 저장된 메모리 확인\n",
    "memory.load_memory_variables({})[\"history\"]"
   ]
  },
  {
   "cell_type": "markdown",
   "metadata": {},
   "source": [
    "-----\n",
    "** End of Documents **"
   ]
  }
 ],
 "metadata": {
  "kernelspec": {
   "display_name": "langchain-kr-t0JhnSEV-py3.11",
   "language": "python",
   "name": "python3"
  },
  "language_info": {
   "codemirror_mode": {
    "name": "ipython",
    "version": 3
   },
   "file_extension": ".py",
   "mimetype": "text/x-python",
   "name": "python",
   "nbconvert_exporter": "python",
   "pygments_lexer": "ipython3",
   "version": "3.11.9"
  }
 },
 "nbformat": 4,
 "nbformat_minor": 2
}
