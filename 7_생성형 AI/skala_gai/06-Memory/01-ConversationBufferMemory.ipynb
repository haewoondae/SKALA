{
 "cells": [
  {
   "cell_type": "code",
   "execution_count": 1,
   "metadata": {},
   "outputs": [
    {
     "data": {
      "text/plain": [
       "True"
      ]
     },
     "execution_count": 1,
     "metadata": {},
     "output_type": "execute_result"
    }
   ],
   "source": [
    "# API KEY Loading\n",
    "from dotenv import load_dotenv\n",
    "\n",
    "load_dotenv()"
   ]
  },
  {
   "cell_type": "code",
   "execution_count": 2,
   "metadata": {},
   "outputs": [
    {
     "name": "stdout",
     "output_type": "stream",
     "text": [
      "LangSmith 추적을 시작합니다.\n",
      "[프로젝트명]\n",
      "CH05-Model\n"
     ]
    }
   ],
   "source": [
    "from langchain_teddynote import logging\n",
    "\n",
    "logging.langsmith(\"CH06-Memory\")"
   ]
  },
  {
   "cell_type": "markdown",
   "metadata": {},
   "source": [
    "# ConversationBufferMemory\n",
    "\n",
    "1. 개요\n",
    "    - 대화 기록을 관리하는 메모리 클래스 중 하나로, 대화의 모든 기록을 순차적으로 저장하고 유지함\n",
    "    - 이전 대화 내용을 기억하고 활용하여 대화의 문맥(Context)을 유지할 수 있음 \n",
    "\n",
    "2. 주요 특징 \n",
    "    1. 대화 기록 저장:\n",
    "        - 사용자의 입력과 AI모델의 응답을 순서대로 저장 \n",
    "        - 저장된 기록은 대화의 문맥을 이해하고, 이후 응답 생성에 사용\n",
    "    2. 유지 시간:\n",
    "        - 기본적으로 모든 대화 기록은 무기한 저장됨 \n",
    "        - 대화 기록이 계속 누적되어 메모리 사용량이 증가할 수 있음 \n",
    "        - 기록이 많아지면 프롬프트 크기가 증가하여 모델 호출 비용과 속도에 영향 미침 \n",
    "\n",
    "[Reference] https://python.langchain.com/v0.1/docs/modules/memory/types/buffer/"
   ]
  },
  {
   "cell_type": "code",
   "execution_count": 3,
   "metadata": {},
   "outputs": [],
   "source": [
    "from langchain.memory import ConversationBufferMemory"
   ]
  },
  {
   "cell_type": "code",
   "execution_count": 7,
   "metadata": {},
   "outputs": [
    {
     "data": {
      "text/plain": [
       "ConversationBufferMemory(chat_memory=InMemoryChatMessageHistory(messages=[]))"
      ]
     },
     "execution_count": 7,
     "metadata": {},
     "output_type": "execute_result"
    }
   ],
   "source": [
    "# 메모리 설정\n",
    "memory = ConversationBufferMemory()\n",
    "memory"
   ]
  },
  {
   "cell_type": "code",
   "execution_count": 8,
   "metadata": {},
   "outputs": [
    {
     "name": "stdout",
     "output_type": "stream",
     "text": [
      "chat_memory=InMemoryChatMessageHistory(messages=[HumanMessage(content='안녕하세요, 은행 계좌를 재발급 하고 싶습니다. 어떻게 시작해야 하나요?', additional_kwargs={}, response_metadata={}), AIMessage(content='안녕하세요! 계좌 재발급 도와드리겠습니다. 먼저, 본인 인증을 위해 신분증을 준비해 주시겠어요?', additional_kwargs={}, response_metadata={})])\n"
     ]
    }
   ],
   "source": [
    "# 대화 저장\n",
    "memory.save_context(\n",
    "    inputs={\n",
    "        \"human\": \"안녕하세요, 은행 계좌를 재발급 하고 싶습니다. 어떻게 시작해야 하나요?\"\n",
    "    },\n",
    "    outputs={\n",
    "        \"ai\": \"안녕하세요! 계좌 재발급 도와드리겠습니다. 먼저, 본인 인증을 위해 신분증을 준비해 주시겠어요?\"\n",
    "    },\n",
    ")\n",
    "\n",
    "print(memory)"
   ]
  },
  {
   "cell_type": "code",
   "execution_count": 9,
   "metadata": {},
   "outputs": [
    {
     "name": "stdout",
     "output_type": "stream",
     "text": [
      "Human: 안녕하세요, 은행 계좌를 재발급 하고 싶습니다. 어떻게 시작해야 하나요?\n",
      "AI: 안녕하세요! 계좌 재발급 도와드리겠습니다. 먼저, 본인 인증을 위해 신분증을 준비해 주시겠어요?\n"
     ]
    }
   ],
   "source": [
    "# 저장된 내용 확인\n",
    "# `history` 키에 저장되어 있음\n",
    "print(memory.load_memory_variables({})[\"history\"])"
   ]
  },
  {
   "cell_type": "markdown",
   "metadata": {},
   "source": [
    "추가 대화 #1"
   ]
  },
  {
   "cell_type": "code",
   "execution_count": null,
   "metadata": {},
   "outputs": [],
   "source": [
    "# 대화 저장\n",
    "memory.save_context(\n",
    "    inputs={\n",
    "        \"human\": \"죄송한데 운전면허증은 없고, 모바일건감보험증은 있는데 가능한가요?\"\n",
    "    },\n",
    "    outputs={\n",
    "        \"ai\": \"물론입니다. 모바일건강보험증도 가능합니다. 지금 화면에 보이시는 바코드 촬영해 주시면 본인인증 절차 진행하겠습니다.\"\n",
    "    },\n",
    ")"
   ]
  },
  {
   "cell_type": "markdown",
   "metadata": {},
   "source": [
    "추가 대화 #2, #3 (순차적으로 실행/저장)"
   ]
  },
  {
   "cell_type": "code",
   "execution_count": 11,
   "metadata": {},
   "outputs": [],
   "source": [
    "memory.save_context(\n",
    "    inputs={\"human\": \"네, 바코드 통해 실행하여 확인 버튼 눌렀습니다. \"},\n",
    "    outputs={\n",
    "        \"ai\": \"감사합니다. 본인 인증 확인 되었습니다. 이제 휴대폰 인증 통한 본인 인증이 필요합니다. 문자로 발송된 인증번호를 입력해 주시면 됩니다.\"\n",
    "    },\n",
    ")\n",
    "\n",
    "memory.save_context(\n",
    "    inputs={\"human\": \"인증 번호 입력하여 완료 처리 하였습니다. \"},\n",
    "    outputs={\n",
    "        \"ai\": \"네! 본인 인증도 완료 되었습니다. 이제 원하시는 계좌 종류를 선택해 주세요.\"\n",
    "    },\n",
    ")"
   ]
  },
  {
   "cell_type": "markdown",
   "metadata": {},
   "source": [
    "저장된 내용 확인"
   ]
  },
  {
   "cell_type": "code",
   "execution_count": 12,
   "metadata": {},
   "outputs": [
    {
     "name": "stdout",
     "output_type": "stream",
     "text": [
      "Human: 안녕하세요, 은행 계좌를 재발급 하고 싶습니다. 어떻게 시작해야 하나요?\n",
      "AI: 안녕하세요! 계좌 재발급 도와드리겠습니다. 먼저, 본인 인증을 위해 신분증을 준비해 주시겠어요?\n",
      "Human: 죄송한데 운전면허증은 없고, 모바일건감보험증은 있는데 가능한가요?\n",
      "AI: 물론입니다. 모바일건강보험증도 가능합니다. 지금 화면에 보이시는 바코드 촬영해 주시면 본인인증 절차 진행하겠습니다.\n",
      "Human: 네, 바코드 통해 실행하여 확인 버튼 눌렀습니다. \n",
      "AI: 감사합니다. 본인 인증 확인 되었습니다. 이제 휴대폰 인증 통한 본인 인증이 필요합니다. 문자로 발송된 인증번호를 입력해 주시면 됩니다.\n",
      "Human: 인증 번호 입력하여 완료 처리 하였습니다. \n",
      "AI: 네! 본인 인증도 완료 되었습니다. 이제 원하시는 계좌 종류를 선택해 주세요.\n"
     ]
    }
   ],
   "source": [
    "print(memory.load_memory_variables({})[\"history\"])"
   ]
  },
  {
   "cell_type": "markdown",
   "metadata": {},
   "source": [
    "## 저장된 내용 객체 변환 \n",
    "\n",
    "- 메모리에 저장된 내용은 텍스트 형태\n",
    "- `return_messages=True` 로 설정하여 `HumanMessage` 와 `AIMessage` 객체로 반환"
   ]
  },
  {
   "cell_type": "code",
   "execution_count": 13,
   "metadata": {},
   "outputs": [
    {
     "data": {
      "text/plain": [
       "ConversationBufferMemory(chat_memory=InMemoryChatMessageHistory(messages=[]), return_messages=True)"
      ]
     },
     "execution_count": 13,
     "metadata": {},
     "output_type": "execute_result"
    }
   ],
   "source": [
    "# 객체 변환 설정하여 초기화\n",
    "memory = ConversationBufferMemory(return_messages=True)\n",
    "\n",
    "memory"
   ]
  },
  {
   "cell_type": "code",
   "execution_count": 14,
   "metadata": {},
   "outputs": [],
   "source": [
    "# 대화 내용 순차적으로 저장\n",
    "memory.save_context(\n",
    "    inputs={\n",
    "        \"human\": \"안녕하세요, 은행 계좌를 재발급 하고 싶습니다. 어떻게 시작해야 하나요?\"\n",
    "    },\n",
    "    outputs={\n",
    "        \"ai\": \"안녕하세요! 계좌 재발급 도와드리겠습니다. 먼저, 본인 인증을 위해 신분증을 준비해 주시겠어요?\"\n",
    "    },\n",
    ")\n",
    "\n",
    "memory.save_context(\n",
    "    inputs={\n",
    "        \"human\": \"죄송한데 운전면허증은 없고, 모바일건감보험증은 있는데 가능한가요?\"\n",
    "    },\n",
    "    outputs={\n",
    "        \"ai\": \"물론입니다. 모바일건강보험증도 가능합니다. 지금 화면에 보이시는 바코드 촬영해 주시면 본인인증 절차 진행하겠습니다.\"\n",
    "    },\n",
    ")\n",
    "\n",
    "memory.save_context(\n",
    "    inputs={\"human\": \"네, 바코드 통해 실행하여 확인 버튼 눌렀습니다. \"},\n",
    "    outputs={\n",
    "        \"ai\": \"감사합니다. 본인 인증 확인 되었습니다. 이제 휴대폰 인증 통한 본인 인증이 필요합니다. 문자로 발송된 인증번호를 입력해 주시면 됩니다.\"\n",
    "    },\n",
    ")\n",
    "\n",
    "memory.save_context(\n",
    "    inputs={\"human\": \"인증 번호 입력하여 완료 처리 하였습니다. \"},\n",
    "    outputs={\n",
    "        \"ai\": \"네! 본인 인증도 완료 되었습니다. 이제 원하시는 계좌 종류를 선택해 주세요.\"\n",
    "    },\n",
    ")"
   ]
  },
  {
   "cell_type": "code",
   "execution_count": 15,
   "metadata": {},
   "outputs": [
    {
     "data": {
      "text/plain": [
       "[HumanMessage(content='안녕하세요, 은행 계좌를 재발급 하고 싶습니다. 어떻게 시작해야 하나요?', additional_kwargs={}, response_metadata={}),\n",
       " AIMessage(content='안녕하세요! 계좌 재발급 도와드리겠습니다. 먼저, 본인 인증을 위해 신분증을 준비해 주시겠어요?', additional_kwargs={}, response_metadata={}),\n",
       " HumanMessage(content='죄송한데 운전면허증은 없고, 모바일건감보험증은 있는데 가능한가요?', additional_kwargs={}, response_metadata={}),\n",
       " AIMessage(content='물론입니다. 모바일건강보험증도 가능합니다. 지금 화면에 보이시는 바코드 촬영해 주시면 본인인증 절차 진행하겠습니다.', additional_kwargs={}, response_metadata={}),\n",
       " HumanMessage(content='네, 바코드 통해 실행하여 확인 버튼 눌렀습니다. ', additional_kwargs={}, response_metadata={}),\n",
       " AIMessage(content='감사합니다. 본인 인증 확인 되었습니다. 이제 휴대폰 인증 통한 본인 인증이 필요합니다. 문자로 발송된 인증번호를 입력해 주시면 됩니다.', additional_kwargs={}, response_metadata={}),\n",
       " HumanMessage(content='인증 번호 입력하여 완료 처리 하였습니다. ', additional_kwargs={}, response_metadata={}),\n",
       " AIMessage(content='네! 본인 인증도 완료 되었습니다. 이제 원하시는 계좌 종류를 선택해 주세요.', additional_kwargs={}, response_metadata={})]"
      ]
     },
     "execution_count": 15,
     "metadata": {},
     "output_type": "execute_result"
    }
   ],
   "source": [
    "# 대화 기록 확인\n",
    "memory.load_memory_variables({})[\"history\"]"
   ]
  },
  {
   "cell_type": "markdown",
   "metadata": {},
   "source": [
    "## Chain 적용"
   ]
  },
  {
   "cell_type": "code",
   "execution_count": 16,
   "metadata": {},
   "outputs": [],
   "source": [
    "from langchain_openai import ChatOpenAI\n",
    "from langchain.chains import ConversationChain"
   ]
  },
  {
   "cell_type": "code",
   "execution_count": 17,
   "metadata": {},
   "outputs": [],
   "source": [
    "# 모델 정의/초기화\n",
    "model = ChatOpenAI(temperature=0, model_name=\"gpt-3.5-turbo\")"
   ]
  },
  {
   "cell_type": "code",
   "execution_count": null,
   "metadata": {},
   "outputs": [],
   "source": [
    "# 체인+메모리 구성\n",
    "conversation = ConversationChain(\n",
    "    llm=model,\n",
    "    memory=memory,\n",
    ")"
   ]
  },
  {
   "cell_type": "code",
   "execution_count": 21,
   "metadata": {},
   "outputs": [
    {
     "name": "stdout",
     "output_type": "stream",
     "text": [
      "안녕하세요! 계좌 재발급 도와드리겠습니다. 먼저, 본인 인증을 위해 신분증을 준비해 주시겠어요?\n"
     ]
    }
   ],
   "source": [
    "# 대화 시작\n",
    "# 메모리 저장된 첫번째 대화로 우선 시작한 경우\n",
    "answers = conversation.predict(input=\"안녕하세요,은행 계좌를 재발급 하고 싶습니다.\")\n",
    "\n",
    "print(answers)"
   ]
  },
  {
   "cell_type": "code",
   "execution_count": 22,
   "metadata": {},
   "outputs": [
    {
     "name": "stdout",
     "output_type": "stream",
     "text": [
      "인증이 완료되었습니다. 이제 원하시는 계좌 종류를 선택해 주세요.\n"
     ]
    }
   ],
   "source": [
    "answers = conversation.predict(input=\"인증 번호 입력하여 본인 인증 완료 하였습니다. \")\n",
    "\n",
    "print(answers)"
   ]
  },
  {
   "cell_type": "markdown",
   "metadata": {},
   "source": [
    "# ConversaionBufferWindowMemory\n",
    "\n",
    "- `ConversaionBufferMemory`는 대화가 누적되어 계속 저장되어 메모리 사용량이 증가하는 단점 있음\n",
    "- Window 메모리는 모든 대화 내용을 활용하는 것이 아닌 최근 k개 대화만 유지되도록 함"
   ]
  },
  {
   "cell_type": "code",
   "execution_count": 23,
   "metadata": {},
   "outputs": [],
   "source": [
    "from langchain.memory import ConversationBufferWindowMemory"
   ]
  },
  {
   "cell_type": "code",
   "execution_count": 24,
   "metadata": {},
   "outputs": [
    {
     "name": "stderr",
     "output_type": "stream",
     "text": [
      "/var/folders/37/2rwxb6k520l4tqxzpx1nh8lh0000gn/T/ipykernel_20335/3466125047.py:2: LangChainDeprecationWarning: Please see the migration guide at: https://python.langchain.com/docs/versions/migrating_memory/\n",
      "  memory = ConversationBufferWindowMemory(k=2, return_messages=True)\n"
     ]
    }
   ],
   "source": [
    "# 메모리 설정/초기화\n",
    "memory = ConversationBufferWindowMemory(k=2, return_messages=True)"
   ]
  },
  {
   "cell_type": "code",
   "execution_count": 25,
   "metadata": {},
   "outputs": [],
   "source": [
    "# 대화 저장\n",
    "memory.save_context(\n",
    "    inputs={\n",
    "        \"human\": \"안녕하세요, 은행 계좌를 재발급 하고 싶습니다. 어떻게 시작해야 하나요?\"\n",
    "    },\n",
    "    outputs={\n",
    "        \"ai\": \"안녕하세요! 계좌 재발급 도와드리겠습니다. 먼저, 본인 인증을 위해 신분증을 준비해 주시겠어요?\"\n",
    "    },\n",
    ")\n",
    "\n",
    "memory.save_context(\n",
    "    inputs={\n",
    "        \"human\": \"죄송한데 운전면허증은 없고, 모바일건감보험증은 있는데 가능한가요?\"\n",
    "    },\n",
    "    outputs={\n",
    "        \"ai\": \"물론입니다. 모바일건강보험증도 가능합니다. 지금 화면에 보이시는 바코드 촬영해 주시면 본인인증 절차 진행하겠습니다.\"\n",
    "    },\n",
    ")\n",
    "\n",
    "memory.save_context(\n",
    "    inputs={\"human\": \"네, 바코드 통해 실행하여 확인 버튼 눌렀습니다. \"},\n",
    "    outputs={\n",
    "        \"ai\": \"감사합니다. 본인 인증 확인 되었습니다. 이제 휴대폰 인증 통한 본인 인증이 필요합니다. 문자로 발송된 인증번호를 입력해 주시면 됩니다.\"\n",
    "    },\n",
    ")\n",
    "\n",
    "memory.save_context(\n",
    "    inputs={\"human\": \"인증 번호 입력하여 완료 처리 하였습니다. \"},\n",
    "    outputs={\n",
    "        \"ai\": \"네! 본인 인증도 완료 되었습니다. 이제 원하시는 계좌 종류를 선택해 주세요.\"\n",
    "    },\n",
    ")"
   ]
  },
  {
   "cell_type": "code",
   "execution_count": 26,
   "metadata": {},
   "outputs": [
    {
     "data": {
      "text/plain": [
       "[HumanMessage(content='네, 바코드 통해 실행하여 확인 버튼 눌렀습니다. ', additional_kwargs={}, response_metadata={}),\n",
       " AIMessage(content='감사합니다. 본인 인증 확인 되었습니다. 이제 휴대폰 인증 통한 본인 인증이 필요합니다. 문자로 발송된 인증번호를 입력해 주시면 됩니다.', additional_kwargs={}, response_metadata={}),\n",
       " HumanMessage(content='인증 번호 입력하여 완료 처리 하였습니다. ', additional_kwargs={}, response_metadata={}),\n",
       " AIMessage(content='네! 본인 인증도 완료 되었습니다. 이제 원하시는 계좌 종류를 선택해 주세요.', additional_kwargs={}, response_metadata={})]"
      ]
     },
     "execution_count": 26,
     "metadata": {},
     "output_type": "execute_result"
    }
   ],
   "source": [
    "# 저장된 기록 확인\n",
    "# 최근 2개만 저장하도록 설정하였음\n",
    "memory.load_memory_variables({})[\"history\"]"
   ]
  },
  {
   "cell_type": "code",
   "execution_count": 27,
   "metadata": {},
   "outputs": [],
   "source": [
    "# 체인+메모리 구성\n",
    "conversation = ConversationChain(\n",
    "    llm=model,\n",
    "    memory=memory,\n",
    ")"
   ]
  },
  {
   "cell_type": "code",
   "execution_count": 28,
   "metadata": {},
   "outputs": [
    {
     "name": "stdout",
     "output_type": "stream",
     "text": [
      "네! 본인 인증도 완료 되었습니다. 이제 원하시는 계좌 종류를 선택해 주세요.\n"
     ]
    }
   ],
   "source": [
    "# 메모리에 저장된 내용으로 질의\n",
    "answers = conversation.predict(input=\"인증 번호 입력하여 본인 인증 완료 하였습니다. \")\n",
    "\n",
    "print(answers)"
   ]
  },
  {
   "cell_type": "code",
   "execution_count": 29,
   "metadata": {},
   "outputs": [
    {
     "name": "stdout",
     "output_type": "stream",
     "text": [
      "안녕하세요! 은행 계좌를 재발급 받으시려면 본인 인증이 필요합니다. 이미 본인 인증을 완료하셨다면 어떤 종류의 계좌를 선택하시겠습니까? 예를 들어, 예금 계좌, 적금 계좌, 또는 기타 특별한 종류의 계좌가 있을 수 있습니다. 원하시는 계좌 종류를 알려주세요.\n"
     ]
    }
   ],
   "source": [
    "# 메모리에 저장되지 않은 내용으로 질의\n",
    "answers = conversation.predict(input=\"안녕하세요, 은행 계좌를 재발급 하고 싶습니다.\")\n",
    "\n",
    "print(answers)"
   ]
  },
  {
   "cell_type": "markdown",
   "metadata": {},
   "source": [
    "-----\n",
    "** End of Documents **"
   ]
  }
 ],
 "metadata": {
  "kernelspec": {
   "display_name": "langchain-kr-t0JhnSEV-py3.11",
   "language": "python",
   "name": "python3"
  },
  "language_info": {
   "codemirror_mode": {
    "name": "ipython",
    "version": 3
   },
   "file_extension": ".py",
   "mimetype": "text/x-python",
   "name": "python",
   "nbconvert_exporter": "python",
   "pygments_lexer": "ipython3",
   "version": "3.11.9"
  }
 },
 "nbformat": 4,
 "nbformat_minor": 2
}
