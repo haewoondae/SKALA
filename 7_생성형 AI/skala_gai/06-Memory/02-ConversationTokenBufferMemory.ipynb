{
 "cells": [
  {
   "cell_type": "code",
   "execution_count": 1,
   "metadata": {},
   "outputs": [
    {
     "data": {
      "text/plain": [
       "True"
      ]
     },
     "execution_count": 1,
     "metadata": {},
     "output_type": "execute_result"
    }
   ],
   "source": [
    "# API KEY Loading\n",
    "from dotenv import load_dotenv\n",
    "\n",
    "load_dotenv()"
   ]
  },
  {
   "cell_type": "code",
   "execution_count": 2,
   "metadata": {},
   "outputs": [
    {
     "name": "stdout",
     "output_type": "stream",
     "text": [
      "LangSmith 추적을 시작합니다.\n",
      "[프로젝트명]\n",
      "CH06-Memory\n"
     ]
    }
   ],
   "source": [
    "from langchain_teddynote import logging\n",
    "\n",
    "logging.langsmith(\"CH06-Memory\")"
   ]
  },
  {
   "cell_type": "markdown",
   "metadata": {},
   "source": [
    "# ConversationTokenBufferMemory\n",
    "\n",
    "1. 개요\n",
    "    - 대화 기록을 관리하는 메모리 클래스 중 하나로, 대화를 토큰수 기준으로 관리\n",
    "    - 지정된 토큰수를 초과하면 가장 오래된 기록을 삭제\n",
    "    - LLM의 context length 정책을 고려한 메모리 관리 방식 \n",
    "\n",
    "2. 주요 특징 \n",
    "    1. Context Length 최적화:\n",
    "        - LLM의 Max Context Length 내에서 효율적으로 대화 기록 유지 \n",
    "        - 긴 대화에서도 최신 문맥을 유지하며 모델 호출 성능 보장 \n",
    "    2. 동적 메모리 사용:\n",
    "        - 대화 길이에 따라 유동적으로 기록 유지\n",
    "        - 필요한 문맥을 최신 상태로 제공 \n",
    "        - 대화 기록의 토큰수를 계산하고 유지하는데 약간의 추가 리소스 필요\n",
    "\n",
    "[Reference] https://python.langchain.com/v0.1/docs/modules/memory/types/token_buffer/"
   ]
  },
  {
   "cell_type": "code",
   "execution_count": 3,
   "metadata": {},
   "outputs": [],
   "source": [
    "from langchain_openai import ChatOpenAI\n",
    "from langchain.memory import ConversationTokenBufferMemory"
   ]
  },
  {
   "cell_type": "code",
   "execution_count": 4,
   "metadata": {},
   "outputs": [],
   "source": [
    "# 모델 정의 \n",
    "model = ChatOpenAI(model_name='gpt-4o')"
   ]
  },
  {
   "cell_type": "code",
   "execution_count": 5,
   "metadata": {},
   "outputs": [
    {
     "name": "stderr",
     "output_type": "stream",
     "text": [
      "/var/folders/37/2rwxb6k520l4tqxzpx1nh8lh0000gn/T/ipykernel_26396/2854290316.py:2: LangChainDeprecationWarning: Please see the migration guide at: https://python.langchain.com/docs/versions/migrating_memory/\n",
      "  memory = ConversationTokenBufferMemory(\n"
     ]
    }
   ],
   "source": [
    "# 메모리 설정/초기화 \n",
    "memory = ConversationTokenBufferMemory(\n",
    "    llm=model,\n",
    "    max_token_limit=200,\n",
    "    return_messages=True\n",
    ")"
   ]
  },
  {
   "cell_type": "code",
   "execution_count": 6,
   "metadata": {},
   "outputs": [],
   "source": [
    "# 대화 내용 저장 (토큰 400개) \n",
    "memory.save_context(\n",
    "    inputs={\n",
    "        \"human\": \"안녕하세요, 은행 계좌를 재발급하고 싶습니다. 어떻게 시작해야 하나요?\"\n",
    "    },\n",
    "    outputs={\n",
    "        \"ai\": \"안녕하세요! 계좌 재발급 도와드리겠습니다. 먼저, 본인 인증을 위해 신분증을 준비해 주시겠어요? 신분증에는 주민등록증, 운전면허증, 모바일건강보험증 등이 포함됩니다.\"\n",
    "    },\n",
    ")\n",
    "\n",
    "memory.save_context(\n",
    "    inputs={\n",
    "        \"human\": \"죄송한데 운전면허증은 없고, 모바일건강보험증은 있는데 가능한가요?\"\n",
    "    },\n",
    "    outputs={\n",
    "        \"ai\": \"네, 물론입니다! 모바일건강보험증도 본인 인증용으로 사용할 수 있습니다. 지금 화면에 보이시는 바코드를 촬영해 주시면 본인 인증 절차를 시작하겠습니다. 바코드를 스캔하면 시스템이 자동으로 인증을 진행합니다.\"\n",
    "    },\n",
    ")\n",
    "\n",
    "memory.save_context(\n",
    "    inputs={\n",
    "        \"human\": \"네, 바코드 통해 실행하여 확인 버튼 눌렀습니다.\"\n",
    "    },\n",
    "    outputs={\n",
    "        \"ai\": \"감사합니다! 본인 인증이 정상적으로 확인되었습니다. 다음 단계로 휴대폰 인증을 진행하셔야 합니다. 잠시 후 문자로 인증번호가 발송될 예정입니다. 해당 인증번호를 입력해 주세요.\"\n",
    "    },\n",
    ")\n",
    "\n",
    "memory.save_context(\n",
    "    inputs={\n",
    "        \"human\": \"인증 번호 입력하여 완료 처리하였습니다.\"\n",
    "    },\n",
    "    outputs={\n",
    "        \"ai\": \"확인했습니다! 본인 인증이 모두 완료되었습니다. 이제 계좌 재발급을 위해 새 계좌를 개설할지 기존 계좌를 그대로 재발급할지를 선택해 주세요. 또한, 통장 발행 여부와 카드 추가 발급이 필요한지도 알려주시면 됩니다.\"\n",
    "    },\n",
    ")\n",
    "\n",
    "memory.save_context(\n",
    "    inputs={\n",
    "        \"human\": \"기존 계좌를 그대로 재발급하고 싶습니다. 통장은 발행하지 않아도 되고, 카드는 추가 발급이 필요합니다.\"\n",
    "    },\n",
    "    outputs={\n",
    "        \"ai\": \"알겠습니다! 기존 계좌를 그대로 재발급하고, 카드 추가 발급을 진행하겠습니다. 최종 확인을 위해 발급받으실 카드 종류(체크카드, 신용카드 등)를 말씀해 주시면 빠르게 처리해 드리겠습니다.\"\n",
    "    },\n",
    ")\n",
    "\n",
    "memory.save_context(\n",
    "    inputs={\n",
    "        \"human\": \"체크카드로 발급받고 싶습니다.\"\n",
    "    },\n",
    "    outputs={\n",
    "        \"ai\": \"네, 체크카드로 발급 요청 확인되었습니다. 요청하신 카드는 5~7 영업일 이내에 등록된 주소로 발송될 예정입니다. 추가로 도움이 필요하시면 언제든 말씀해 주세요!\"\n",
    "    },\n",
    ")\n"
   ]
  },
  {
   "cell_type": "code",
   "execution_count": 7,
   "metadata": {},
   "outputs": [
    {
     "data": {
      "text/plain": [
       "[HumanMessage(content='기존 계좌를 그대로 재발급하고 싶습니다. 통장은 발행하지 않아도 되고, 카드는 추가 발급이 필요합니다.', additional_kwargs={}, response_metadata={}),\n",
       " AIMessage(content='알겠습니다! 기존 계좌를 그대로 재발급하고, 카드 추가 발급을 진행하겠습니다. 최종 확인을 위해 발급받으실 카드 종류(체크카드, 신용카드 등)를 말씀해 주시면 빠르게 처리해 드리겠습니다.', additional_kwargs={}, response_metadata={}),\n",
       " HumanMessage(content='체크카드로 발급받고 싶습니다.', additional_kwargs={}, response_metadata={}),\n",
       " AIMessage(content='네, 체크카드로 발급 요청 확인되었습니다. 요청하신 카드는 5~7 영업일 이내에 등록된 주소로 발송될 예정입니다. 추가로 도움이 필요하시면 언제든 말씀해 주세요!', additional_kwargs={}, response_metadata={})]"
      ]
     },
     "execution_count": 7,
     "metadata": {},
     "output_type": "execute_result"
    }
   ],
   "source": [
    "# 대화 내용 확인\n",
    "memory.load_memory_variables({})[\"history\"]"
   ]
  },
  {
   "cell_type": "markdown",
   "metadata": {},
   "source": [
    "-----\n",
    "** End of Documents **"
   ]
  }
 ],
 "metadata": {
  "kernelspec": {
   "display_name": "langchain-kr-t0JhnSEV-py3.11",
   "language": "python",
   "name": "python3"
  },
  "language_info": {
   "codemirror_mode": {
    "name": "ipython",
    "version": 3
   },
   "file_extension": ".py",
   "mimetype": "text/x-python",
   "name": "python",
   "nbconvert_exporter": "python",
   "pygments_lexer": "ipython3",
   "version": "3.11.9"
  }
 },
 "nbformat": 4,
 "nbformat_minor": 2
}
