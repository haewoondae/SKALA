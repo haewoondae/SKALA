{
 "cells": [
  {
   "cell_type": "code",
   "execution_count": 1,
   "metadata": {},
   "outputs": [
    {
     "data": {
      "text/plain": [
       "True"
      ]
     },
     "execution_count": 1,
     "metadata": {},
     "output_type": "execute_result"
    }
   ],
   "source": [
    "# API KEY Loading\n",
    "from dotenv import load_dotenv\n",
    "\n",
    "load_dotenv()"
   ]
  },
  {
   "cell_type": "code",
   "execution_count": 2,
   "metadata": {},
   "outputs": [
    {
     "name": "stdout",
     "output_type": "stream",
     "text": [
      "LangSmith 추적을 시작합니다.\n",
      "[프로젝트명]\n",
      "CH01-Basic\n"
     ]
    }
   ],
   "source": [
    "from langchain_teddynote import logging\n",
    "\n",
    "logging.langsmith(\"CH01-Basic\")"
   ]
  },
  {
   "cell_type": "markdown",
   "metadata": {},
   "source": [
    "# PromptTemplate\n",
    "\n",
    "`PromptTemplate`\n",
    "- 안정적이고 반복된 결과를 출력하기 위해 정의하는 프롬프트 템플릿 \n",
    "- 템플릿에 입력 변수를 반영하여 프롬프트 완성 \n",
    "\n",
    "`template`\n",
    "- 템플릿 문자열 \n",
    "- 문자열 내의 중괄호 `{ }`로 변수 구분\n",
    "\n",
    "`input_variables`\n",
    "- 프롬프트 템플릿에서 사용되는 변수 이름을 정의하는 리스트"
   ]
  },
  {
   "cell_type": "code",
   "execution_count": 7,
   "metadata": {},
   "outputs": [],
   "source": [
    "from langchain_core.prompts import PromptTemplate\n",
    "from langchain_openai import ChatOpenAI\n",
    "from langchain_teddynote.messages import stream_response"
   ]
  },
  {
   "cell_type": "code",
   "execution_count": 4,
   "metadata": {},
   "outputs": [
    {
     "data": {
      "text/plain": [
       "PromptTemplate(input_variables=['country'], input_types={}, partial_variables={}, template='{country}의 언어는 무엇인가요?')"
      ]
     },
     "execution_count": 4,
     "metadata": {},
     "output_type": "execute_result"
    }
   ],
   "source": [
    "# template 정의\n",
    "template = \"{country}의 언어는 무엇인가요?\"\n",
    "\n",
    "# PromptTemplate 객체 생성\n",
    "prompt_template = PromptTemplate.from_template(template)\n",
    "prompt_template"
   ]
  },
  {
   "cell_type": "code",
   "execution_count": 5,
   "metadata": {},
   "outputs": [
    {
     "data": {
      "text/plain": [
       "'대한민국의 언어는 무엇인가요?'"
      ]
     },
     "execution_count": 5,
     "metadata": {},
     "output_type": "execute_result"
    }
   ],
   "source": [
    "# prompt 생성\n",
    "prompt = prompt_template.format(country=\"대한민국\")\n",
    "prompt"
   ]
  },
  {
   "cell_type": "code",
   "execution_count": 6,
   "metadata": {},
   "outputs": [
    {
     "data": {
      "text/plain": [
       "'독일의 언어는 무엇인가요?'"
      ]
     },
     "execution_count": 6,
     "metadata": {},
     "output_type": "execute_result"
    }
   ],
   "source": [
    "# prompt 생성\n",
    "prompt = prompt_template.format(country=\"독일\")\n",
    "prompt"
   ]
  },
  {
   "cell_type": "code",
   "execution_count": 8,
   "metadata": {},
   "outputs": [],
   "source": [
    "# llm 객체\n",
    "model = ChatOpenAI(\n",
    "    model=\"gpt-3.5-turbo\",\n",
    "    temperature=0.1,\n",
    ")"
   ]
  },
  {
   "cell_type": "markdown",
   "metadata": {},
   "source": [
    "# Chain 생성"
   ]
  },
  {
   "cell_type": "markdown",
   "metadata": {},
   "source": [
    "## LCEL, LangChain Expression Language\n",
    "\n",
    "chain = prompt | model | output_parser\n",
    "\n",
    "- ` | ` : 서로 다른 구성 요소를 연결하고, 한 구성 요소의 출력을 다음 구성 요소의 입력으로 전달 \n",
    "- 위 체인 구성은...\n",
    "    - 사용자 입력은 프롬프트 템플릿으로 전달 \n",
    "    - 프롬프트 출력은 모델로 전달 "
   ]
  },
  {
   "cell_type": "code",
   "execution_count": 13,
   "metadata": {},
   "outputs": [],
   "source": [
    "# template 정의\n",
    "template = \"{country}에 대해 쉽게 설명해 주세요\"\n",
    "\n",
    "# PromptTemplate 객체 생성\n",
    "prompt = PromptTemplate.from_template(template)\n",
    "\n",
    "# model 정의\n",
    "model = ChatOpenAI()\n",
    "\n",
    "# Chain 정의\n",
    "chain = prompt | model"
   ]
  },
  {
   "cell_type": "code",
   "execution_count": 12,
   "metadata": {},
   "outputs": [
    {
     "data": {
      "text/plain": [
       "PromptTemplate(input_variables=['country'], input_types={}, partial_variables={}, template='{country}의 언어는 무엇인가요?')\n",
       "| ChatOpenAI(client=<openai.resources.chat.completions.Completions object at 0x1323c1d50>, async_client=<openai.resources.chat.completions.AsyncCompletions object at 0x1323b3150>, root_client=<openai.OpenAI object at 0x130b02690>, root_async_client=<openai.AsyncOpenAI object at 0x1323d0250>, model_kwargs={}, openai_api_key=SecretStr('**********'))"
      ]
     },
     "execution_count": 12,
     "metadata": {},
     "output_type": "execute_result"
    }
   ],
   "source": [
    "chain"
   ]
  },
  {
   "cell_type": "markdown",
   "metadata": {},
   "source": [
    "## invoke \n",
    "\n",
    "- 파이썬 딕셔너리 형태로 전달 (KEY : Value)\n",
    "- invoke() 함수 호출 시, 입력값 전달 "
   ]
  },
  {
   "cell_type": "code",
   "execution_count": 14,
   "metadata": {},
   "outputs": [
    {
     "data": {
      "text/plain": [
       "AIMessage(content='AI 모델의 학습 원리는 데이터를 입력으로 받아들이고, 이 데이터를 분석하여 패턴이나 규칙을 학습하는 과정을 말합니다. 이 학습 과정은 크게 입력층, 은닉층, 출력층으로 구성된 신경망을 사용하여 이루어집니다. \\n\\n먼저, 입력층에는 데이터가 입력되고, 각각의 노드는 입력 데이터의 특징을 나타냅니다. 은닉층은 입력층과 출력층 사이에 위치하며, 입력층에서 받은 데이터를 가중치와 활성화 함수를 통해 처리하여 출력층으로 전달합니다. 출력층은 모델이 예측한 결과를 출력하는 역할을 합니다.\\n\\n이렇게 입력층에서 출력층까지의 데이터 처리 과정을 훈련 데이터를 통해 반복하면서 모델의 가중치가 조정되어 정확한 결과를 예측할 수 있도록 학습됩니다. 이러한 학습과정을 통해 AI 모델은 주어진 데이터로부터 패턴을 학습하고, 새로운 데이터에 대한 예측을 수행할 수 있게 됩니다.', additional_kwargs={'refusal': None}, response_metadata={'token_usage': {'completion_tokens': 363, 'prompt_tokens': 30, 'total_tokens': 393, 'completion_tokens_details': {'accepted_prediction_tokens': 0, 'audio_tokens': 0, 'reasoning_tokens': 0, 'rejected_prediction_tokens': 0}, 'prompt_tokens_details': {'audio_tokens': 0, 'cached_tokens': 0}}, 'model_name': 'gpt-3.5-turbo-0125', 'system_fingerprint': None, 'finish_reason': 'stop', 'logprobs': None}, id='run-35e5a3b9-f97f-4fd7-ab01-a64fceb2b18d-0', usage_metadata={'input_tokens': 30, 'output_tokens': 363, 'total_tokens': 393, 'input_token_details': {'audio': 0, 'cache_read': 0}, 'output_token_details': {'audio': 0, 'reasoning': 0}})"
      ]
     },
     "execution_count": 14,
     "metadata": {},
     "output_type": "execute_result"
    }
   ],
   "source": [
    "input = {\"country\": \"AI 모델의 학습 원리\"}\n",
    "chain.invoke(input)"
   ]
  },
  {
   "cell_type": "code",
   "execution_count": 15,
   "metadata": {},
   "outputs": [
    {
     "name": "stdout",
     "output_type": "stream",
     "text": [
      "AI 모델의 학습 원리는 데이터를 입력으로 받아 내부의 가중치를 조절하여 원하는 결과를 출력할 수 있도록 하는 과정입니다. \n",
      "\n",
      "먼저, 모델은 입력 데이터를 받아 내부의 가중치와 연산을 통해 출력을 생성합니다. 이때, 모델의 출력과 실제 정답 사이의 차이를 계산하고 이 차이를 최소화하기 위해 가중치를 조정해 나갑니다. \n",
      "\n",
      "이러한 과정을 반복하면서 모델은 데이터의 패턴을 학습하고 최적의 가중치를 찾아내어 원하는 결과를 출력할 수 있게 됩니다. 이렇게 모델이 학습하는 과정을 훈련이라고 하며, 훈련된 모델은 새로운 데이터에 대해 예측을 할 수 있습니다."
     ]
    }
   ],
   "source": [
    "# 스트리밍 출력\n",
    "answer = chain.stream(input)\n",
    "stream_response(answer)"
   ]
  },
  {
   "cell_type": "markdown",
   "metadata": {},
   "source": [
    "## Output Parser"
   ]
  },
  {
   "cell_type": "code",
   "execution_count": 16,
   "metadata": {},
   "outputs": [],
   "source": [
    "from langchain_core.output_parsers import StrOutputParser"
   ]
  },
  {
   "cell_type": "code",
   "execution_count": 17,
   "metadata": {},
   "outputs": [],
   "source": [
    "output_parser = StrOutputParser()"
   ]
  },
  {
   "cell_type": "code",
   "execution_count": null,
   "metadata": {},
   "outputs": [],
   "source": [
    "# Chain 반영\n",
    "chain = prompt | model | output_parser"
   ]
  },
  {
   "cell_type": "code",
   "execution_count": null,
   "metadata": {},
   "outputs": [
    {
     "data": {
      "text/plain": [
       "'AI 모델의 학습 원리는 데이터를 입력으로 받아서 패턴을 찾아내는 과정입니다. 먼저, 모델은 초기에는 무작위로 설정된 가중치와 편향을 가지고 있습니다. 이후, 학습 데이터를 이용하여 모델이 예측한 결과와 실제 결과 간의 차이를 계산하고 이 오차를 최소화하는 방향으로 가중치와 편향을 업데이트 합니다. 이 과정을 여러 번 반복하면서 모델은 데이터의 패턴을 학습하게 됩니다.\\n\\n따라서, AI 모델의 학습 원리는 데이터와 오차를 통해 최적의 가중치와 편향을 찾아내는 과정으로 요약할 수 있습니다.'"
      ]
     },
     "execution_count": 19,
     "metadata": {},
     "output_type": "execute_result"
    }
   ],
   "source": [
    "# Chain에 input 전달\n",
    "input = {\"country\": \"AI 모델의 학습 원리\"}\n",
    "chain.invoke(input)"
   ]
  },
  {
   "cell_type": "code",
   "execution_count": null,
   "metadata": {},
   "outputs": [
    {
     "name": "stdout",
     "output_type": "stream",
     "text": [
      "AI 모델의 학습 원리는 데이터를 입력으로 받아서 패턴을 학습하는 과정입니다. 모델은 입력 데이터를 분석하여 특정 패턴이나 규칙을 찾아내고, 이를 기반으로 예측이나 분류를 수행합니다. \n",
      "\n",
      "모델은 초기에는 데이터를 이해하지 못하고 무작위로 예측을 수행하지만, 반복적으로 학습 데이터를 통해 오차를 최소화하도록 업데이트됩니다. 이 과정을 통해 모델은 입력 데이터에 대한 패턴을 더욱 정확하게 파악할 수 있게 되고, 예측의 정확도가 향상됩니다.\n",
      "\n",
      "따라서, AI 모델의 학습 원리는 데이터를 분석하고 패턴을 찾아내는 과정을 통해 모델의 성능을 향상시키는 것이라고 할 수 있습니다."
     ]
    }
   ],
   "source": [
    "# 스트리밍 출력\n",
    "answer = chain.stream(input)\n",
    "stream_response(answer)"
   ]
  },
  {
   "cell_type": "markdown",
   "metadata": {},
   "source": [
    "## 템플릿 재구성"
   ]
  },
  {
   "cell_type": "code",
   "execution_count": 21,
   "metadata": {},
   "outputs": [],
   "source": [
    "template = \"\"\"\n",
    "당신은 영어를 가르치는 10년차 영어 선생님입니다. 주어진 상황에 맞는 영어 회화를 작성해 주세요.\n",
    "양식은 [FORMAT]을 참고하여 작성해 주세요.\n",
    "\n",
    "#상황:\n",
    "{question}\n",
    "\n",
    "#FORMAT:\n",
    "- 영어 회화:\n",
    "- 한글 해석:\n",
    "\"\"\""
   ]
  },
  {
   "cell_type": "code",
   "execution_count": 22,
   "metadata": {},
   "outputs": [],
   "source": [
    "# 템플릿 이용하여 프롬프트 생성\n",
    "prompt = PromptTemplate.from_template(template)\n",
    "\n",
    "# 모델 정의\n",
    "model = ChatOpenAI(model_name=\"gpt-4-turbo\")\n",
    "\n",
    "# 출력 파서\n",
    "output_parser = StrOutputParser()\n",
    "\n",
    "# Chain 구성\n",
    "chain = prompt | model | output_parser"
   ]
  },
  {
   "cell_type": "code",
   "execution_count": 23,
   "metadata": {},
   "outputs": [
    {
     "name": "stdout",
     "output_type": "stream",
     "text": [
      "- 영어 회화: \n",
      "  - Customer: \"Hi, I'd like to order the ribeye steak, medium rare, please.\"\n",
      "  - Waiter: \"Certainly! Would you like any sides or a particular sauce with that?\"\n",
      "  - Customer: \"Yes, could I have a side of mashed potatoes and the peppercorn sauce?\"\n",
      "  - Waiter: \"Absolutely, I'll have that right up for you. Anything to drink?\"\n",
      "  - Customer: \"I'll just have water, thank you.\"\n",
      "  - Waiter: \"Great, I'll bring your water and your order will be out shortly.\"\n",
      "\n",
      "- 한글 해석:\n",
      "  - 손님: \"안녕하세요, 리브아이 스테이크를 미디엄 레어로 주문하고 싶어요.\"\n",
      "  - 웨이터: \"네, 알겠습니다! 사이드 메뉴나 특별한 소스를 추가로 원하시나요?\"\n",
      "  - 손님: \"네, 마시드 포테이토와 페퍼콘 소스 추가해 주세요.\"\n",
      "  - 웨이터: \"알겠습니다, 곧 준비해서 드리겠습니다. 음료는 무엇으로 드릴까요?\"\n",
      "  - 손님: \"물로 주세요, 감사합니다.\"\n",
      "  - 웨이터: \"좋습니다, 물을 가져다 드리고 곧 주문하신 음식을 가져다 드리겠습니다.\"\n"
     ]
    }
   ],
   "source": [
    "# 답변 확인\n",
    "print(chain.invoke({\"question\": \"식당에서 스테이크 주문을 하고 싶어요\"}))"
   ]
  },
  {
   "cell_type": "code",
   "execution_count": null,
   "metadata": {},
   "outputs": [
    {
     "name": "stdout",
     "output_type": "stream",
     "text": [
      "- 영어 회화:\n",
      "  Customer: \"Hi, could I see the menu, please?\"\n",
      "  Waiter: \"Of course! Here you go.\"\n",
      "  Customer: \"Thank you. I’d like to order the rib-eye steak, medium rare, please.\"\n",
      "  Waiter: \"Excellent choice! Would you like any sides or a specific sauce with that?\"\n",
      "  Customer: \"Yes, could I have the garlic mashed potatoes and the peppercorn sauce?\"\n",
      "  Waiter: \"Certainly! Anything to drink?\"\n",
      "  Customer: \"A glass of red wine would be great. Do you have a house recommendation?\"\n",
      "  Waiter: \"Yes, our house Merlot pairs very well with the rib-eye. Shall I bring a glass for you?\"\n",
      "  Customer: \"That sounds perfect. Thank you!\"\n",
      "\n",
      "- 한글 해석:\n",
      "  손님: \"안녕하세요, 메뉴판 좀 볼 수 있을까요?\"\n",
      "  웨이터: \"물론입니다! 여기 있습니다.\"\n",
      "  손님: \"감사합니다. 리브아이 스테이크를 미디엄 레어로 주문하고 싶어요.\"\n",
      "  웨이터: \"훌륭한 선택이네요! 사이드 또는 특별한 소스를 추가로 원하시나요?\"\n",
      "  손님: \"네, 마늘 매쉬드 포테이토와 페퍼콘 소스 주세요.\"\n",
      "  웨이터: \"알겠습니다! 음료는 무엇으로 하시겠어요?\"\n",
      "  손님: \"레드 와인 한 잔이 좋겠어요. 하우스 추천이 있나요?\"\n",
      "  웨이터: \"네, 저희 하우스 메를로가 리브아이와 아주 잘 어울립니다. 한 잔 가져다 드릴까요?\"\n",
      "  손님: \"완벽해요. 감사합니다!\""
     ]
    }
   ],
   "source": [
    "# 스트리밍 출력\n",
    "answer = chain.stream({\"question\": \"식당에서 스테이크 주문을 하고 싶어요\"})\n",
    "stream_response(answer)"
   ]
  },
  {
   "cell_type": "code",
   "execution_count": 25,
   "metadata": {},
   "outputs": [
    {
     "name": "stdout",
     "output_type": "stream",
     "text": [
      "- 영어 회화:\n",
      "  - Customer: Hello, I’d like to order a pizza for delivery, please.\n",
      "  - Employee: Sure, can I have your phone number first?\n",
      "  - Customer: Yes, it’s 555-1234.\n",
      "  - Employee: Thank you. What would you like to order?\n",
      "  - Customer: I’d like one large pepperoni pizza and a medium vegetarian pizza.\n",
      "  - Employee: Anything to drink or any sides?\n",
      "  - Customer: Two bottles of Coke, please.\n",
      "  - Employee: Got it. That’s one large pepperoni pizza, one medium vegetarian pizza, and two bottles of Coke. Will that be all?\n",
      "  - Customer: Yes, that’s all.\n",
      "  - Employee: Your total comes to $27.50. What's the address for delivery?\n",
      "  - Customer: It’s 742 Evergreen Terrace.\n",
      "  - Employee: Thank you. We’ll have your order delivered in about 30 minutes. Is there anything else I can help you with?\n",
      "  - Customer: No, that’s everything, thank you!\n",
      "  - Employee: You're welcome! Enjoy your meal. Goodbye!\n",
      "\n",
      "- 한글 해석:\n",
      "  - 고객: 안녕하세요, 배달로 피자를 주문하고 싶습니다.\n",
      "  - 직원: 네, 먼저 전화번호를 알려주시겠어요?\n",
      "  - 고객: 네, 555-1234입니다.\n",
      "  - 직원: 감사합니다. 무엇을 주문하시겠어요?\n",
      "  - 고객: 대형 페퍼로니 피자 하나와 중형 채식 피자 하나 주세요.\n",
      "  - 직원: 음료나 사이드 메뉴는 필요하신가요?\n",
      "  - 고객: 콜라 두 병 주세요.\n",
      "  - 직원: 알겠습니다. 대형 페퍼로니 피자 하나, 중형 채식 피자 하나, 그리고 콜라 두 병이요. 이게 다 맞나요?\n",
      "  - 고객: 네, 그게 다입니다.\n",
      "  - 직원: 합계는 $27.50입니다. 배달 주소가 어떻게 되나요?\n",
      "  - 고객: 742 에버그린 테라스입니다.\n",
      "  - 직원: 감사합니다. 약 30분 안에 주문하신 음식이 배달될 예정입니다. 또 도와드릴 일이 있으신가요?\n",
      "  - 고객: 아니요, 이게 다입니다. 감사합니다!\n",
      "  - 직원: 천만에요! 식사 맛있게 하세요. 안녕히 계세요!"
     ]
    }
   ],
   "source": [
    "# 다른 질문\n",
    "answer = chain.stream({\"question\": \"전화로 피자 주문\"})\n",
    "stream_response(answer)"
   ]
  },
  {
   "cell_type": "markdown",
   "metadata": {},
   "source": [
    "-----\n",
    "* End of Document *"
   ]
  }
 ],
 "metadata": {
  "kernelspec": {
   "display_name": "langchain-kr-t0JhnSEV-py3.11",
   "language": "python",
   "name": "python3"
  },
  "language_info": {
   "codemirror_mode": {
    "name": "ipython",
    "version": 3
   },
   "file_extension": ".py",
   "mimetype": "text/x-python",
   "name": "python",
   "nbconvert_exporter": "python",
   "pygments_lexer": "ipython3",
   "version": "3.11.9"
  }
 },
 "nbformat": 4,
 "nbformat_minor": 2
}
