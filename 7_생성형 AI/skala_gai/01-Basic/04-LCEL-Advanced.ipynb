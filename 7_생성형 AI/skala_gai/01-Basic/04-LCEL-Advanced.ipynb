{
 "cells": [
  {
   "cell_type": "code",
   "execution_count": 1,
   "metadata": {},
   "outputs": [
    {
     "data": {
      "text/plain": [
       "True"
      ]
     },
     "execution_count": 1,
     "metadata": {},
     "output_type": "execute_result"
    }
   ],
   "source": [
    "# API KEY Loading\n",
    "from dotenv import load_dotenv\n",
    "\n",
    "load_dotenv()"
   ]
  },
  {
   "cell_type": "code",
   "execution_count": 2,
   "metadata": {},
   "outputs": [
    {
     "name": "stdout",
     "output_type": "stream",
     "text": [
      "LangSmith 추적을 시작합니다.\n",
      "[프로젝트명]\n",
      "CH01-Basic\n"
     ]
    }
   ],
   "source": [
    "from langchain_teddynote import logging\n",
    "\n",
    "logging.langsmith(\"CH01-Basic\")"
   ]
  },
  {
   "cell_type": "markdown",
   "metadata": {},
   "source": [
    "# LCEL Interface\n",
    "\n",
    "- `invoke` : 입력에 대한 체인 호출. LLM 답변 생성 완료 후 확인 가능  \n",
    "- `stream` : 응답 청크 스트리밍 \n",
    "- `batch` : 입력 목록에 대한 체인 호출\n",
    "\n",
    "(참고) 비동기\n",
    "- `ainvoke` : 비동기적으로 입력에 대해 체인 호출\n",
    "- `astream` : 비동기적으로 응답 청크 스트리밍\n",
    "- `abatch` : 비동기적으로 입력 목록에 대해 체인 호출 \n",
    "- `astream_log` : 최종 응답 뿐만 아니라 발생 중간 단계를 스트리밍"
   ]
  },
  {
   "cell_type": "code",
   "execution_count": 4,
   "metadata": {},
   "outputs": [],
   "source": [
    "from langchain_core.prompts import PromptTemplate\n",
    "from langchain_openai import ChatOpenAI\n",
    "from langchain_core.output_parsers import StrOutputParser\n",
    "from langchain_teddynote.messages import stream_response"
   ]
  },
  {
   "cell_type": "code",
   "execution_count": 5,
   "metadata": {},
   "outputs": [],
   "source": [
    "# template 정의\n",
    "template = \"{topic}에 대하여 3문장으로 설명해 주세요.\"\n",
    "\n",
    "# PromptTemplate 생성\n",
    "prompt = PromptTemplate.from_template(template)\n",
    "\n",
    "# model\n",
    "model = ChatOpenAI()\n",
    "\n",
    "# Output Parser\n",
    "output_parser = StrOutputParser()\n",
    "\n",
    "# Chian\n",
    "chain = prompt | model | output_parser"
   ]
  },
  {
   "cell_type": "markdown",
   "metadata": {},
   "source": [
    "# stream"
   ]
  },
  {
   "cell_type": "code",
   "execution_count": 6,
   "metadata": {},
   "outputs": [
    {
     "name": "stdout",
     "output_type": "stream",
     "text": [
      "멀티모달은 여러 가지 형태의 통신 수단을 조합하여 정보를 전달하거나 상호작용하는 방식을 말합니다. 이는 텍스트, 음성, 이미지, 비디오 등 다양한 매체를 활용하여 사용자 경험을 향상시키는 것을 목표로 합니다. 인공지능 기술의 발전으로 멀티모달 인터페이스가 더욱 발전하고 있어, 사용자와의 상호작용이 더욱 손쉽고 자연스러워지고 있습니다."
     ]
    }
   ],
   "source": [
    "# stream, 실시간 출력\n",
    "# end=\"\" : 출력 후 줄바꿈 하지 않음 \n",
    "# flush=True : 출력 버터를 즉시 비움 \n",
    "\n",
    "for token in chain.stream({\"topic\":\"멀티모달\"}):\n",
    "    print(token, end=\"\", flush=True)"
   ]
  },
  {
   "cell_type": "markdown",
   "metadata": {},
   "source": [
    "# invoke "
   ]
  },
  {
   "cell_type": "code",
   "execution_count": 8,
   "metadata": {},
   "outputs": [
    {
     "data": {
      "text/plain": [
       "'스타벅스는 세계적으로 유명한 커피 전문 브랜드이며, 다양한 음료와 디저트를 판매하고 있다. 매장 내부는 트렌디하고 아늑한 분위기로 인기가 많으며, 매일 수많은 고객들이 방문한다. 전 세계에 많은 지점을 두고 있어 어디서든 쉽게 만날 수 있는 커피 브랜드이다.'"
      ]
     },
     "execution_count": 8,
     "metadata": {},
     "output_type": "execute_result"
    }
   ],
   "source": [
    "chain.invoke({\"topic\":\"스타벅스\"})"
   ]
  },
  {
   "cell_type": "markdown",
   "metadata": {},
   "source": [
    "# batch "
   ]
  },
  {
   "cell_type": "code",
   "execution_count": 9,
   "metadata": {},
   "outputs": [
    {
     "data": {
      "text/plain": [
       "['스타벅스는 세계적으로 유명한 커피 전문 브랜드로, 다양한 음료와 디저트를 판매합니다. 매장 분위기는 아늑하고 편안하며, 고객들이 휴식을 취하거나 모임을 즐기기에 좋은 장소입니다. 또한 매장마다 다양한 음료 메뉴와 특별한 이벤트를 제공하여 소비자들에게 다양한 즐길거리를 제공합니다.',\n",
       " '인스타그램은 사진과 영상을 공유하는 소셜 미디어 플랫폼으로, 사용자들은 자신의 일상을 다양한 사진과 동영상을 통해 공유할 수 있습니다. 또한 팔로워를 통해 다른 사람들의 활동을 구독하고 소통할 수 있으며, 해시태그를 통해 관심사에 맞는 콘텐츠를 찾을 수 있습니다. 인스타그램은 시각적인 콘텐츠를 중심으로 한 SNS로, 다양한 필터와 편집 기능을 통해 사용자들이 자신만의 콘텐츠를 만들고 공유할 수 있습니다.']"
      ]
     },
     "execution_count": 9,
     "metadata": {},
     "output_type": "execute_result"
    }
   ],
   "source": [
    "chain.batch(\n",
    "    [\n",
    "        {\"topic\":\"스타벅스\"},\n",
    "        {\"topic\":\"Instagram\"},\n",
    "    ]\n",
    ")"
   ]
  },
  {
   "cell_type": "markdown",
   "metadata": {},
   "source": [
    "`max_concurrency`: 매개변수를 사용하여 동시 요청 개수 설정"
   ]
  },
  {
   "cell_type": "code",
   "execution_count": 10,
   "metadata": {},
   "outputs": [
    {
     "data": {
      "text/plain": [
       "['스타벅스는 전 세계적으로 유명한 커피 전문 브랜드이며, 다양한 음료와 디저트를 판매합니다. 고객들은 편안한 분위기에서 커피를 즐기며 친구나 가족과 함께 시간을 보낼 수 있습니다. 매장마다 다양한 테마와 인테리어로 사람들에게 즐거움을 주고 있습니다.',\n",
       " 'Instagram은 사진과 동영상을 공유하고 소셜 네트워크를 통해 소통하는 앱이다. 사용자들은 팔로워들과 소통하며 일상을 공유하고 새로운 콘텐츠를 발견할 수 있다. 필터 기능을 통해 사진을 더욱 멋지게 꾸밀 수 있어 인기 있는 SNS 플랫폼 중 하나이다.',\n",
       " 'ChatGPT는 자연어 처리 기술을 기반으로 한 대화형 인공지능 모델로, 사용자와 자연스럽게 대화하며 다양한 주제에 대한 정보나 도움을 제공합니다. 높은 정확도와 유연성을 통해 실제 대화와 거의 구분할 수 없는 수준의 대화를 제공하며, 다양한 분야에서 활용되고 있습니다. 사용자의 입력에 따라 학습하고 발전하는 ChatGPT는 계속해서 성능을 개선해 나가고 있습니다.',\n",
       " '한글은 한국어를 표기하는데 사용되는 문자로, 자음과 모음이 결합하여 음절을 이루는 특징을 가지고 있습니다. 한글은 조선 세종 대왕이 만든 문자로, 현대 한국어의 표기체계로 사용되고 있습니다. 한글은 세계에서 가장 과학적이고 효율적인 문자로 평가받고 있습니다.',\n",
       " '머신러닝은 컴퓨터 시스템이 데이터로부터 학습하여 패턴을 발견하고 예측하는 인공지능 기술입니다. 이를 통해 기존 데이터를 분석하고 새로운 데이터에 대한 결정을 내리는 데 사용됩니다. 머신러닝은 이미지 및 음성 인식, 자연어 처리, 금융 분석 등 다양한 분야에서 활용되고 있습니다.',\n",
       " '뉴런은 뇌와 신경계통의 기본 단위로서 전기적인 신호를 받아들이고 처리하여 다른 뉴런에 전달하는 세포입니다. 뉴런은 가지돌기, 축색돌기, 축색돌기 끝단으로 구성되어 있으며 시냅스를 통해 다른 뉴런과 연결되어 정보를 주고받습니다. 뉴런의 연결과 활성화에 따라 학습, 기억, 감정 등 다양한 뇌 기능이 조절됩니다.']"
      ]
     },
     "execution_count": 10,
     "metadata": {},
     "output_type": "execute_result"
    }
   ],
   "source": [
    "chain.batch(\n",
    "    [\n",
    "        {\"topic\":\"스타벅스\"},\n",
    "        {\"topic\":\"Instagram\"},\n",
    "        {\"topic\":\"chatGPT\"},\n",
    "        {\"topic\":\"한글\"},\n",
    "        {\"topic\":\"머신러닝\"},\n",
    "        {\"topic\":\"뉴런\"},\n",
    "    ],\n",
    "    config={\"max_concurrency\":3},\n",
    ")"
   ]
  },
  {
   "cell_type": "markdown",
   "metadata": {},
   "source": [
    "# async stream : astream"
   ]
  },
  {
   "cell_type": "code",
   "execution_count": 11,
   "metadata": {},
   "outputs": [
    {
     "name": "stdout",
     "output_type": "stream",
     "text": [
      "YouTube는 동영상을 업로드하고 시청할 수 있는 온라인 동영상 플랫폼이다. 사용자들은 다양한 주제의 동영상을 시청하고 구독할 수 있으며, 댓글을 남기거나 좋아요를 누를 수도 있다. 또한 유명 인터넷 스타들이나 기업들도 YouTube를 통해 콘텐츠를 공유하고 홍보에 활용한다."
     ]
    }
   ],
   "source": [
    "async for token in chain.astream({\"topic\":\"YouTube\"}):\n",
    "    print(token, end=\"\", flush=True)"
   ]
  },
  {
   "cell_type": "markdown",
   "metadata": {},
   "source": [
    "# async invoke : ainvoke"
   ]
  },
  {
   "cell_type": "code",
   "execution_count": 12,
   "metadata": {},
   "outputs": [],
   "source": [
    "achain_process = chain.ainvoke({\"topic\":\"NVIDIA\"})"
   ]
  },
  {
   "cell_type": "code",
   "execution_count": 13,
   "metadata": {},
   "outputs": [
    {
     "data": {
      "text/plain": [
       "'NVIDIA는 그래픽 카드 및 시스템 온 칩 제조업체로, 주로 게임 및 전문가용 시각화 솔루션을 제공합니다. 또한 딥 러닝 및 인공지능 분야에서도 선도적인 기술을 제공하며, GPU 가속 컴퓨팅 기술을 선도하고 있습니다. 고성능 그래픽 처리 장치와 소프트웨어를 통해 혁신적인 시각화 및 연산 솔루션을 제공하여 전 세계적으로 널리 사용되고 있습니다.'"
      ]
     },
     "execution_count": 13,
     "metadata": {},
     "output_type": "execute_result"
    }
   ],
   "source": [
    "await achain_process"
   ]
  },
  {
   "cell_type": "markdown",
   "metadata": {},
   "source": [
    "# async batch : abatch"
   ]
  },
  {
   "cell_type": "code",
   "execution_count": 14,
   "metadata": {},
   "outputs": [],
   "source": [
    "abatch_process = chain.abatch(\n",
    "    [\n",
    "        {\"topic\":\"meta\"},\n",
    "        {\"topic\":\"Instagram\"},\n",
    "        {\"topic\":\"tiktok\"},\n",
    "    ]\n",
    ")"
   ]
  },
  {
   "cell_type": "code",
   "execution_count": 15,
   "metadata": {},
   "outputs": [
    {
     "data": {
      "text/plain": [
       "['Meta는 다른 것을 설명하거나 분석하는 데 사용되는 개념이며, 주제나 대상을 넘어서 그 이면에 숨겨진 의미나 관계를 탐구하는 것을 의미합니다. 메타데이터, 메타언어 등과 같이 다양한 분야에서 사용되며, 주로 추상적이고 상위 수준의 개념을 나타냅니다. 메타적인 접근은 일반적으로 보다 깊은 이해와 인사이트를 제공하며, 복잡한 시스템이나 개념을 이해하는 데 도움이 됩니다.',\n",
       " 'Instagram은 사진과 동영상을 공유할 수 있는 소셜 미디어 플랫폼입니다. 사용자들은 팔로워들과 소통하고 일상을 공유할 수 있습니다. 해시태그를 통해 관심사에 맞는 콘텐츠를 찾을 수 있습니다.',\n",
       " 'TikTok은 짧은 동영상을 공유하는 소셜미디어 플랫폼으로, 사용자들은 다양한 콘텐츠를 업로드하고 시청할 수 있습니다. 특히 음악, 춤, 코미디 등의 다양한 콘텐츠가 인기를 끌고 있습니다. 빠른 속도로 성장하고 있는 플랫폼으로, 트렌드를 만들고 새로운 스타를 발굴하는 역할을 하고 있습니다.']"
      ]
     },
     "execution_count": 15,
     "metadata": {},
     "output_type": "execute_result"
    }
   ],
   "source": [
    "await abatch_process"
   ]
  },
  {
   "cell_type": "markdown",
   "metadata": {},
   "source": [
    "# Parallel"
   ]
  },
  {
   "cell_type": "code",
   "execution_count": 16,
   "metadata": {},
   "outputs": [],
   "source": [
    "from langchain_core.runnables import RunnableParallel"
   ]
  },
  {
   "cell_type": "code",
   "execution_count": 18,
   "metadata": {},
   "outputs": [],
   "source": [
    "chain1 = (\n",
    "    PromptTemplate.from_template(\"{country}의 언어는 무엇입니까?\")\n",
    "    | model\n",
    "    | StrOutputParser()\n",
    ")\n",
    "\n",
    "chain2 = (\n",
    "    PromptTemplate.from_template(\"{country}의 수도는 어디입니까?\")\n",
    "    | model\n",
    "    | StrOutputParser()\n",
    ")\n",
    "\n",
    "combine_chains = RunnableParallel(language=chain1, capital=chain2)"
   ]
  },
  {
   "cell_type": "code",
   "execution_count": 19,
   "metadata": {},
   "outputs": [
    {
     "data": {
      "text/plain": [
       "'일본의 수도는 도쿄입니다.'"
      ]
     },
     "execution_count": 19,
     "metadata": {},
     "output_type": "execute_result"
    }
   ],
   "source": [
    "# chain2 실행\n",
    "chain2.invoke({\"country\":\"일본\"})"
   ]
  },
  {
   "cell_type": "code",
   "execution_count": 20,
   "metadata": {},
   "outputs": [
    {
     "data": {
      "text/plain": [
       "{'language': '대한민국의 언어는 한국어입니다.', 'capital': '대한민국의 수도는 서울입니다.'}"
      ]
     },
     "execution_count": 20,
     "metadata": {},
     "output_type": "execute_result"
    }
   ],
   "source": [
    "# 병렬 체인 실행 \n",
    "combine_chains.invoke({\"country\":\"대한민국\"})"
   ]
  },
  {
   "cell_type": "markdown",
   "metadata": {},
   "source": [
    "# Parallel + Batch"
   ]
  },
  {
   "cell_type": "code",
   "execution_count": 22,
   "metadata": {},
   "outputs": [
    {
     "data": {
      "text/plain": [
       "['대한민국의 언어는 한국어입니다.',\n",
       " '미국의 공식 언어는 영어입니다. 하지만 미국 내에는 스페인어, 중국어, 한국어, 프랑스어 등 다양한 언어가 사용되고 있습니다.']"
      ]
     },
     "execution_count": 22,
     "metadata": {},
     "output_type": "execute_result"
    }
   ],
   "source": [
    "chain1.batch(\n",
    "    [\n",
    "        {\"country\":\"대한민국\"},\n",
    "        {\"country\":\"미국\"},\n",
    "    ]\n",
    ")"
   ]
  },
  {
   "cell_type": "code",
   "execution_count": 23,
   "metadata": {},
   "outputs": [
    {
     "data": {
      "text/plain": [
       "['대한민국의 수도는 서울입니다.', '미국의 수도는 워싱턴 D.C.입니다.']"
      ]
     },
     "execution_count": 23,
     "metadata": {},
     "output_type": "execute_result"
    }
   ],
   "source": [
    "chain2.batch(\n",
    "    [\n",
    "        {\"country\":\"대한민국\"},\n",
    "        {\"country\":\"미국\"},\n",
    "    ]\n",
    ")"
   ]
  },
  {
   "cell_type": "code",
   "execution_count": 24,
   "metadata": {},
   "outputs": [
    {
     "data": {
      "text/plain": [
       "[{'language': '대한민국의 언어는 한국어입니다.', 'capital': '대한민국의 수도는 서울입니다.'},\n",
       " {'language': '미국의 주요 언어는 영어입니다. 그러나 스페인어, 중국어, 프랑스어, 독일어 등 다양한 언어가 미국 내에서 사용되고 있습니다.',\n",
       "  'capital': '미국의 수도는 워싱턴 D.C.입니다.'}]"
      ]
     },
     "execution_count": 24,
     "metadata": {},
     "output_type": "execute_result"
    }
   ],
   "source": [
    "combine_chains.batch(\n",
    "    [\n",
    "        {\"country\":\"대한민국\"},\n",
    "        {\"country\":\"미국\"},\n",
    "    ]\n",
    ")"
   ]
  },
  {
   "cell_type": "markdown",
   "metadata": {},
   "source": [
    "-----\n",
    "* End of Document *"
   ]
  }
 ],
 "metadata": {
  "kernelspec": {
   "display_name": "langchain-kr-t0JhnSEV-py3.11",
   "language": "python",
   "name": "python3"
  },
  "language_info": {
   "codemirror_mode": {
    "name": "ipython",
    "version": 3
   },
   "file_extension": ".py",
   "mimetype": "text/x-python",
   "name": "python",
   "nbconvert_exporter": "python",
   "pygments_lexer": "ipython3",
   "version": "3.11.9"
  }
 },
 "nbformat": 4,
 "nbformat_minor": 2
}
