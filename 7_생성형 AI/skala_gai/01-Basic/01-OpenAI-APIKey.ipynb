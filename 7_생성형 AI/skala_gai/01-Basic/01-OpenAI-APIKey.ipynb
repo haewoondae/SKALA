{
 "cells": [
  {
   "cell_type": "markdown",
   "metadata": {},
   "source": [
    "# OpenAI API KEY"
   ]
  },
  {
   "cell_type": "markdown",
   "metadata": {},
   "source": [
    "1. 회원 가입\n",
    "- https://platform.openai.com/docs/overview\n",
    "- Sign Up : 회원가입 \n",
    "- Log in : 이미 가입 상태라면 로그인 \n",
    "\n",
    "2. Payment 등록 \n",
    "- (Path) Main > Settings > Billing > Payment methods \n",
    "- Amount to add : $5 (최소 결제 금액) \n",
    "\n",
    "3. 비용 관리 \n",
    "- (Path) Main > Settings > Limits\n",
    "- Set a monthly budget : 월간 사용한도 지정. 해당 금액에 도달하면 과금 중단 & API 사용 안됨\n",
    "- Set an email notification threshold : 요금 발송 이메일 등록 \n",
    "\n",
    "4. API Key 발급 \n",
    "- (Path) Profile > Your Profile > API Key\n",
    "- https://platform.openai.com/api-keys\n",
    "- Create new secret key : Name, Project 입력 후 등록 \n",
    "- Key Copy 후, \".env\" 파일에 반영\n",
    "- (참고) 수업 시간에 공유된 KEY는 매일 갱신됨 \n"
   ]
  },
  {
   "cell_type": "code",
   "execution_count": 2,
   "metadata": {},
   "outputs": [
    {
     "data": {
      "text/plain": [
       "True"
      ]
     },
     "execution_count": 2,
     "metadata": {},
     "output_type": "execute_result"
    }
   ],
   "source": [
    "# API KEY Loading\n",
    "from dotenv import load_dotenv\n",
    "\n",
    "load_dotenv()"
   ]
  },
  {
   "cell_type": "code",
   "execution_count": 2,
   "metadata": {},
   "outputs": [],
   "source": [
    "# API가 정상적으로 설정되었는지 확인\n",
    "import os\n",
    "\n",
    "# print(f\"[API KEY]\\n{os.environ['OPENAI_API_KEY'][:-15]}\" + \"*\" * 25)"
   ]
  },
  {
   "cell_type": "code",
   "execution_count": 5,
   "metadata": {},
   "outputs": [
    {
     "name": "stdout",
     "output_type": "stream",
     "text": [
      "[LangChain 관련 패키지 버전]\n",
      "langchain: 0.3.13\n",
      "langchain-core: 0.3.28\n",
      "langchain-experimental: 0.3.3\n",
      "langchain-community: 0.3.13\n",
      "langchain-openai: 0.2.12\n",
      "langchain-huggingface: 0.1.2\n",
      "langchain-google-genai: 2.0.7\n",
      "langchain-anthropic: 0.2.4\n",
      "langchain-cohere: 0.3.3\n",
      "langchain-chroma: 0.1.4\n",
      "langchain-elasticsearch: 0.3.0\n",
      "langchain-upstage: 0.3.0\n",
      "langchain-cohere: 0.3.3\n",
      "langchain-milvus: 0.1.7\n",
      "langchain-text-splitters: 0.3.4\n"
     ]
    }
   ],
   "source": [
    "# 설치된 LangChain 버전 확인\n",
    "from importlib.metadata import version\n",
    "\n",
    "print(\"[LangChain 관련 패키지 버전]\")\n",
    "for package_name in [\n",
    "    \"langchain\",\n",
    "    \"langchain-core\",\n",
    "    \"langchain-experimental\",\n",
    "    \"langchain-community\",\n",
    "    \"langchain-openai\",\n",
    "    \"langchain-huggingface\",\n",
    "    \"langchain-google-genai\",\n",
    "    \"langchain-anthropic\",\n",
    "    \"langchain-cohere\",\n",
    "    \"langchain-chroma\",\n",
    "    \"langchain-elasticsearch\",\n",
    "    \"langchain-upstage\",\n",
    "    \"langchain-cohere\",\n",
    "    \"langchain-milvus\",\n",
    "    \"langchain-text-splitters\",\n",
    "]:\n",
    "    try:\n",
    "        package_version = version(package_name)\n",
    "        print(f\"{package_name}: {package_version}\")\n",
    "    except ImportError:\n",
    "        print(f\"{package_name}: 설치되지 않음\")"
   ]
  },
  {
   "cell_type": "markdown",
   "metadata": {},
   "source": [
    "-----\n",
    "* End of Document *"
   ]
  }
 ],
 "metadata": {
  "kernelspec": {
   "display_name": "Python 3",
   "language": "python",
   "name": "python3"
  },
  "language_info": {
   "codemirror_mode": {
    "name": "ipython",
    "version": 3
   },
   "file_extension": ".py",
   "mimetype": "text/x-python",
   "name": "python",
   "nbconvert_exporter": "python",
   "pygments_lexer": "ipython3",
   "version": "3.11.9"
  }
 },
 "nbformat": 4,
 "nbformat_minor": 2
}
