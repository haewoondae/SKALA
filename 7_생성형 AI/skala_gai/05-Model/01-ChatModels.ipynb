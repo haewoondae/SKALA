{
 "cells": [
  {
   "cell_type": "code",
   "execution_count": 1,
   "metadata": {},
   "outputs": [
    {
     "data": {
      "text/plain": [
       "True"
      ]
     },
     "execution_count": 1,
     "metadata": {},
     "output_type": "execute_result"
    }
   ],
   "source": [
    "# API KEY Loading\n",
    "from dotenv import load_dotenv\n",
    "\n",
    "load_dotenv()"
   ]
  },
  {
   "cell_type": "code",
   "execution_count": 2,
   "metadata": {},
   "outputs": [
    {
     "name": "stdout",
     "output_type": "stream",
     "text": [
      "LangSmith 추적을 시작합니다.\n",
      "[프로젝트명]\n",
      "CH05-Model\n"
     ]
    }
   ],
   "source": [
    "from langchain_teddynote import logging\n",
    "\n",
    "logging.langsmith(\"CH05-Model\")"
   ]
  },
  {
   "cell_type": "markdown",
   "metadata": {},
   "source": [
    "# OpenAI\n",
    "\n",
    "1. 개요 \n",
    "OpenAI는 인공지능 연구 및 개발을 선도하는 회사로 자연어 처리, 컴퓨터 비전, 강화학습 등 다양한 AI기술을 연구하고 이를 바탕으로 강력한 AI 모델을 제공하고 있음. 가장 대표적인 제품은 GPT 계열의 언어 모델이며, 이를 기반으로 한 ChatGPT는 대화형 AI로 널리 사용되고 있음. \n",
    "\n",
    "    - AI모델 : 대규모 신경망을 사전 학습과 튜닝 통해 다양한 작업에 사용할 수 있는 형태로 개발 \n",
    "    - API 제공 : 개발자가 쉽게 사용할 수 있도록 API 제공 \n",
    "    - 응용 : 대화 응답, 번역, 요약, 코드 작성, 데이터 분석 등\n",
    "    \n",
    "\n",
    "2. 모델 스펙 \n",
    "OpenAI 모델들은 각기 다른 스펙과 기능을 제공함 \n",
    "\n",
    "    - 파라미터 : 학습 파라미터수로 모델 버전 구분 \n",
    "    - `max_tokens`\n",
    "        - 토큰 : 단어, 구두점, 공백 등으로 구성된 단위 \n",
    "        - 각 모델은 처리할 수 있는 최대 토큰 수가 정해져 있음 \n",
    "        - 응용 프로그램에서 문서나 대화 문맥을 어느 정도 처리할 수 있는지 결정할 때 고려 \n",
    "    - `temperature`\n",
    "        - 0 ~ 2 사이에서 선택 \n",
    "        - 값이 낮을수록 결정론적으로 답변 생성 \n",
    "    - 응답 속도 \n",
    "        - GPT-3.5는 더 빠른 응답 속도를 제공\n",
    "        - GPT-4는 응답 속도는 상대적으로 느리지만 더 정확하고 복잡한 작업에서 강점 \n",
    "\n",
    "3. 모델 \n",
    "\n",
    "[Source] https://platform.openai.com/docs/models/gpt-4o\n",
    "\n",
    "| Model | Desc | Context Length | Max Token |\n",
    "|--------|------|---------------|-----------------|\n",
    "| gpt-4o | GPT-4 터보보다 저렴하고 빠른 최신 다중모드 플래그십 모델 | 128,000 | 4,096 |\n",
    "| gpt-4-turbo | 최신 GPT-4 터보 모델. 비전 기능, JSON 모드, 기능 호출 지원 | 128,000 | 4,096 |\n",
    "| gpt-4o-mini | GPT-3.5 터보보다 더 우수한 성능의 작은 모델 | 128,000 | 16,384 | \n",
    "| o1-preview | 다양한 도메인의 어려운 문제 해결을 위한 추론 모델 | 128,000 | 32,768 |\n",
    "| o1-mini | 코딩, 수학, 과학에 특화된 빠른 추론 모델 | 128,000 | 65,536 | \n",
    "| gpt-4o-realtime | 실시간 API용 오디오 및 텍스트 입력 처리 모델 (베타) | 128,000 | 4,096 | \n",
    "\n",
    "[Reference] GPT-4b \n",
    "\n",
    "https://www.technologyreview.kr/장수-과학-새-지평-열리나-오픈ai-수명-연장-연구용-ai-모/"
   ]
  },
  {
   "cell_type": "code",
   "execution_count": 3,
   "metadata": {},
   "outputs": [],
   "source": [
    "from langchain_openai import ChatOpenAI"
   ]
  },
  {
   "cell_type": "code",
   "execution_count": 5,
   "metadata": {},
   "outputs": [
    {
     "name": "stdout",
     "output_type": "stream",
     "text": [
      "네, 라면과 김치는 한국의 대표적인 조합 중 하나로, 많은 사람들이 함께 즐깁니다. 라면의 매운 국물과 김치의 아삭한 식감이 잘 어우러져 맛을 더욱 풍부하게 만들어줍니다. 또한, 김치는 발효식품으로서 건강에도 좋은 영향을 미칩니다. 그래서 라면과 김치는 한국 음식 문화에서 매우 잘 어울리는 짝꿍이라고 할 수 있습니다.\n"
     ]
    }
   ],
   "source": [
    "model = ChatOpenAI(\n",
    "    temperature=1,\n",
    "    model_name='gpt-4o-mini',\n",
    ")\n",
    "\n",
    "answer = model.invoke('라면과 김치는 짝꿍인가요?')\n",
    "print(answer.content)"
   ]
  },
  {
   "cell_type": "markdown",
   "metadata": {},
   "source": [
    "# Claude \n",
    "\n",
    "- Anthropic의 대표적인 LLM 제품군\n",
    "\n",
    "- 모델 정보 : https://docs.anthropic.com/en/docs/about-claude/models\n",
    "\n",
    "\n",
    "| 모델명           | 버전     | 주요 특징                                                                                                                                                                                                                     | 최대 컨텍스트 길이 | 응답 속도 | 비용 (입력/출력 per MTok) |\n",
    "|----------------------|--------------|------------------------------------------------------------------------------------------------------------------------------------------------------------------------------------------|------------------------|---------------|------------------------------|\n",
    "| Claude 3 Opus    | Claude 3     | - 가장 강력한 모델로, 복잡한 작업 처리에 최적화<br>- 높은 수준의 지능과 유창함을 제공<br>- 다양한 언어 및 비전 작업 지원                                                                 | 200K 토큰              | 보통          | $15.00 / $75.00              |\n",
    "| Claude 3.5 Sonnet| Claude 3.5   | - 성능과 속도의 균형을 맞춘 모델<br>- 코드 생성 및 텍스트 기반 추론에서 우수한 성능<br>- 이전 버전 대비 두 배 빠른 속도와 비용 효율성 제공                                               | 200K 토큰              | 빠름          | $3.00 / $15.00               |\n",
    "| Claude 3 Haiku   | Claude 3     | - 가장 빠르고 비용 효율적인 모델<br>- 실시간 상호작용 및 간단한 작업에 적합<br>- 빠른 응답 시간과 낮은 비용으로 실시간 응용 프로그램에 이상적                                              | 200K 토큰              | 매우 빠름     | $0.25 / $1.25                |\n",
    "\n",
    "\n",
    "\n",
    "- API 키 : https://console.anthropic.com/settings/keys\n"
   ]
  },
  {
   "cell_type": "code",
   "execution_count": 6,
   "metadata": {},
   "outputs": [],
   "source": [
    "from langchain_anthropic import ChatAnthropic"
   ]
  },
  {
   "cell_type": "code",
   "execution_count": 8,
   "metadata": {},
   "outputs": [
    {
     "name": "stdout",
     "output_type": "stream",
     "text": [
      "네, 라면과 김치는 매우 잘 어울리는 조합입니다. 그 이유는:\n",
      "\n",
      "1. 맛의 조화\n",
      "- 라면의 매콤하고 고소한 맛과 김치의 시원하고 깔끔한 맛이 잘 어울림\n",
      "- 김치의 발효된 감칠맛이 라면의 맛을 더욱 풍부하게 함\n",
      "\n",
      "2. 식감의 조화\n",
      "- 부드러운 면과 아삭한 김치의 식감이 조화를 이룸\n",
      "\n",
      "3. 영양적 보완\n",
      "- 김치의 유산균과 식이섬유가 라면의 부족한 영양을 보완\n",
      "- 김치의 비타민C가 면의 탄수화물을 보완\n",
      "\n",
      "4. 문화적 의미\n",
      "- 한국인들에게 가장 친숙하고 사랑받는 조합 중 하나\n",
      "- 집에서나 분식점에서나 흔히 볼 수 있는 대중적인 조합\n",
      "\n",
      "이러한 이유들로 라면과 김치는 최고의 '짝꿍' 음식이라고 할 수 있습니다.\n"
     ]
    }
   ],
   "source": [
    "model = ChatAnthropic(\n",
    "    model_name='claude-3-5-sonnet-20241022'\n",
    ")\n",
    "\n",
    "answer = model.invoke('라면과 김치는 짝꿍인가요?')\n",
    "print(answer.content)"
   ]
  },
  {
   "cell_type": "markdown",
   "metadata": {},
   "source": [
    "# Cohere \n",
    "\n",
    "- 기업용 인공지능 솔루션 제공 \n",
    "- 주요 모델 \n",
    "    - Command R+\n",
    "        - 128K 토큰 지원 \n",
    "        - 10개국어 지원 \n",
    "        - 검색 강화 생성 기능 제공 \n",
    "    - Aya\n",
    "        - Cohere 산하 비영리 연구소, Cohere for AI 에서 개발한 오픈소스 다국어 LLM\n",
    "        - 101개 언어 지원 \n",
    "        - 대규모 훈련 데이터셋 공개 (5억 1,300만개 데이터 포인트)"
   ]
  },
  {
   "cell_type": "code",
   "execution_count": 10,
   "metadata": {},
   "outputs": [],
   "source": [
    "from langchain_cohere import ChatCohere"
   ]
  },
  {
   "cell_type": "code",
   "execution_count": 11,
   "metadata": {},
   "outputs": [
    {
     "name": "stdout",
     "output_type": "stream",
     "text": [
      "네, 라면과 김치는 한국 음식에서 대표적인 짝꿍으로 여겨집니다. 라면은 한국인들이 즐겨 먹는 인스턴트 음식으로, 매운맛이 특징입니다. 김치는 한국 전통의 발효 음식으로, 다양한 채소를 소금에 절여 발효시킨 후 매운 양념으로 버무려 만듭니다.\n",
      "\n",
      "라면은 매운맛이 강하기 때문에 김치의 시원하고 새콤한 맛이 잘 어울립니다. 또한, 라면의 국물과 김치의 국물이 만나면 더욱 깊은 맛을 내며, 라면의 쫄깃한 면발과 김치의 아삭한 식감이 조화를 이룹니다.\n",
      "\n",
      "한국에서는 라면과 김치를 함께 먹는 것을 '라면 김치'라고 부르며, 특히 추운 겨울에 따뜻한 라면 국물과 매콤한 김치의 조합은 많은 사람들에게 인기 있는 메뉴입니다. 라면과 김치는 서로의 맛을 보완해 주고, 함께 먹었을 때 더 큰 만족감을 주기 때문에, 한국 음식에서 대표적인 짝꿍으로 인식되고 있습니다.\n"
     ]
    }
   ],
   "source": [
    "model = ChatCohere()\n",
    "answer = model.invoke('라면과 김치는 짝꿍인가요?')\n",
    "print(answer.content)"
   ]
  },
  {
   "cell_type": "markdown",
   "metadata": {},
   "source": [
    "# Upstage\n",
    "\n",
    "- Solar LLM\n",
    "    - Upstage 주력 대규모 언어 모델로 빠른 성능과 비용 효율성 강조 \n",
    "    - Depth-Up Scaling 적용하여 성능 극대화 \n",
    "- AskUp \n",
    "    - AskUp : ChatGPT 통합 무료 챗봇 \n",
    "    - AskUp Seargest : AskUp 업그레이드 버전, 개인화된 검색 및 추천 서비스 제공\n",
    "\n",
    "- 키발급: https://console.upstage.ai/dashboard/login?redirect=%2Fapi-keys"
   ]
  },
  {
   "cell_type": "code",
   "execution_count": 12,
   "metadata": {},
   "outputs": [],
   "source": [
    "from langchain_upstage import ChatUpstage"
   ]
  },
  {
   "cell_type": "code",
   "execution_count": 15,
   "metadata": {},
   "outputs": [
    {
     "name": "stdout",
     "output_type": "stream",
     "text": [
      "라면과 김치는 자주 함께 먹는 대표적인 한국 음식 조합 중 하나입니다. 라면의 매콤하고 따뜻한 맛과 김치의 새콤하고 시원한 맛이 잘 어우러져서 많은 사람들이 즐겨 먹습니다.\n"
     ]
    }
   ],
   "source": [
    "model = ChatUpstage(model='solar-pro')\n",
    "answer = model.invoke('라면과 김치는 짝꿍인가요?')\n",
    "print(answer.content)"
   ]
  },
  {
   "cell_type": "markdown",
   "metadata": {},
   "source": [
    "-----\n",
    "** End of Documents **"
   ]
  }
 ],
 "metadata": {
  "kernelspec": {
   "display_name": "langchain-kr-t0JhnSEV-py3.11",
   "language": "python",
   "name": "python3"
  },
  "language_info": {
   "codemirror_mode": {
    "name": "ipython",
    "version": 3
   },
   "file_extension": ".py",
   "mimetype": "text/x-python",
   "name": "python",
   "nbconvert_exporter": "python",
   "pygments_lexer": "ipython3",
   "version": "3.11.9"
  }
 },
 "nbformat": 4,
 "nbformat_minor": 2
}
