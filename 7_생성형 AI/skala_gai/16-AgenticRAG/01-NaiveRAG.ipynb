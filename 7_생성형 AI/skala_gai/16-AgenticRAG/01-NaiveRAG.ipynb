{
 "cells": [
  {
   "cell_type": "code",
   "execution_count": 7,
   "metadata": {},
   "outputs": [],
   "source": [
    "# !pip install langchain-opentutorial"
   ]
  },
  {
   "cell_type": "code",
   "execution_count": 1,
   "metadata": {},
   "outputs": [
    {
     "data": {
      "text/plain": [
       "True"
      ]
     },
     "execution_count": 1,
     "metadata": {},
     "output_type": "execute_result"
    }
   ],
   "source": [
    "from dotenv import load_dotenv\n",
    "\n",
    "load_dotenv()"
   ]
  },
  {
   "cell_type": "code",
   "execution_count": 2,
   "metadata": {},
   "outputs": [
    {
     "name": "stdout",
     "output_type": "stream",
     "text": [
      "LangSmith 추적을 시작합니다.\n",
      "[프로젝트명]\n",
      "CH16-Agentic-RAG\n"
     ]
    }
   ],
   "source": [
    "from langchain_teddynote import logging\n",
    "\n",
    "logging.langsmith(\"CH16-Agentic-RAG\")"
   ]
  },
  {
   "cell_type": "markdown",
   "metadata": {},
   "source": [
    "# Naive RAG\n",
    "\n",
    "** 실습 자료 **\n",
    "\n",
    "소프트웨어정책연구소(SPRi), [AI Brief 스페셜] AI 에이전트 동향\n",
    "\n",
    "- 저자: 유재흥(AI정책연구실 책임연구원), 이해수(AI정책연구실 선임연구원)\n",
    "- 발생: 2024.12.10\n",
    "- 링크: https://spri.kr/posts/view/23798?code=AI-Brief&s_year=&data_page=1\n",
    "- 파일명: `SPRi AI Brief_Special_AI Agent_241209_F`\n",
    "\n",
    "(실습 준비)\n",
    "- 작업 폴더 하위에 `data` 폴더 생성 \n",
    "- 링크에서 다운로드 받은 파일을 `data` 폴더에 업로드 "
   ]
  },
  {
   "cell_type": "code",
   "execution_count": 3,
   "metadata": {},
   "outputs": [],
   "source": [
    "file_path = [\"data/SPRi AI Brief_Special_AI Agent_241209_F.pdf\"]"
   ]
  },
  {
   "cell_type": "markdown",
   "metadata": {},
   "source": [
    "### Chain 정의\n",
    "\n",
    "- PDF 기반 Retrieval Chain 생성\n",
    "- PDFRetrievalChain : https://github.com/LangChain-OpenTutorial/langchain-opentutorial-pypi/blob/main/langchain_opentutorial/rag/pdf.py"
   ]
  },
  {
   "cell_type": "code",
   "execution_count": 4,
   "metadata": {},
   "outputs": [],
   "source": [
    "from langchain_opentutorial.rag.pdf import PDFRetrievalChain"
   ]
  },
  {
   "cell_type": "code",
   "execution_count": 5,
   "metadata": {},
   "outputs": [],
   "source": [
    "pdf_file = PDFRetrievalChain(file_path).create_chain()\n",
    "\n",
    "pdf_retriever = pdf_file.retriever\n",
    "pdf_chain = pdf_file.chain"
   ]
  },
  {
   "cell_type": "code",
   "execution_count": 6,
   "metadata": {},
   "outputs": [
    {
     "data": {
      "text/plain": [
       "[Document(metadata={'source': 'data/SPRi AI Brief_Special_AI Agent_241209_F.pdf', 'file_path': 'data/SPRi AI Brief_Special_AI Agent_241209_F.pdf', 'page': 9, 'total_pages': 27, 'Author': 'dj', 'Creator': 'Hwp 2018 10.0.0.13947', 'Producer': 'Hancom PDF 1.3.0.547', 'CreationDate': \"D:20241209094315+09'00'\", 'ModDate': \"D:20241209094315+09'00'\", 'PDFVersion': '1.4'}, page_content='iPhone, iPad, Mac, Apple Watch 등 자사 제품에 내장되어 사용자 경험을 강화\\n∙ 최근 애플은 iPhone, iPad 및 Mac용 언어와 이미지를 이해하고 생성하고, 개인 컨텍스트에서 일상적인\\n작업을 지원하는 기능을 제공하는 Apple Intelligence를 출시\\n∙ Apple의 AI 기술은 사용자의 개인정보 보호를 중시하며 온디바이스 학습 방식을 채택\\n<애플 인텔리전스(Apple Intelligence)>\\n*출처: apple.com'),\n",
       " Document(metadata={'source': 'data/SPRi AI Brief_Special_AI Agent_241209_F.pdf', 'file_path': 'data/SPRi AI Brief_Special_AI Agent_241209_F.pdf', 'page': 10, 'total_pages': 27, 'Author': 'dj', 'Creator': 'Hwp 2018 10.0.0.13947', 'Producer': 'Hancom PDF 1.3.0.547', 'CreationDate': \"D:20241209094315+09'00'\", 'ModDate': \"D:20241209094315+09'00'\", 'PDFVersion': '1.4'}, page_content='동시에 개인정보를 보호하여 사용자의 삶을 풍요롭게 할 수 있는 잠재력이 크다고 언급\\n21) Apple, Introducing Apple Intelligence, the personal intelligence system that puts powerful generative models at the core of\\niPhone, iPad, and Mac, 2024.6.10\\n22) Apple, Apple Intelligence is available today on iPhone, iPad, and Mac, 2024.10.28\\n10'),\n",
       " Document(metadata={'source': 'data/SPRi AI Brief_Special_AI Agent_241209_F.pdf', 'file_path': 'data/SPRi AI Brief_Special_AI Agent_241209_F.pdf', 'page': 9, 'total_pages': 27, 'Author': 'dj', 'Creator': 'Hwp 2018 10.0.0.13947', 'Producer': 'Hancom PDF 1.3.0.547', 'CreationDate': \"D:20241209094315+09'00'\", 'ModDate': \"D:20241209094315+09'00'\", 'PDFVersion': '1.4'}, page_content='<애플 인텔리전스(Apple Intelligence)>\\n*출처: apple.com\\n£(기능/기술) Siri는 Apple 생태계 내에서 일정 관리, 알람 설정, 스마트홈 제어 등을\\n지원하며, Apple은 사용자 개인정보 보호를 위해 Siri의 명령 처리를 온디바이스에서 수행\\n∙ Siri는 음성 기반의 AI 비서로, 사용자의 일상 활동인 일정 관리, 알람, 문자 전송, 음악 재생, 날씨 조회,\\n스마트홈 기기 제어 지원'),\n",
       " Document(metadata={'source': 'data/SPRi AI Brief_Special_AI Agent_241209_F.pdf', 'file_path': 'data/SPRi AI Brief_Special_AI Agent_241209_F.pdf', 'page': 24, 'total_pages': 27, 'Author': 'dj', 'Creator': 'Hwp 2018 10.0.0.13947', 'Producer': 'Hancom PDF 1.3.0.547', 'CreationDate': \"D:20241209094315+09'00'\", 'ModDate': \"D:20241209094315+09'00'\", 'PDFVersion': '1.4'}, page_content='SPRi AI Brief Special | 2024-12월호\\n[참고 문헌]\\n1. Alan Chan 외, Visibility into AI Agents, 2024\\n2. Apple, Apple Intelligence, https://www.apple.com/apple-intelligence/\\n3. Apple, Apple Intelligence is available today on iPhone, iPad, and Mac, 2024.10.28.'),\n",
       " Document(metadata={'source': 'data/SPRi AI Brief_Special_AI Agent_241209_F.pdf', 'file_path': 'data/SPRi AI Brief_Special_AI Agent_241209_F.pdf', 'page': 9, 'total_pages': 27, 'Author': 'dj', 'Creator': 'Hwp 2018 10.0.0.13947', 'Producer': 'Hancom PDF 1.3.0.547', 'CreationDate': \"D:20241209094315+09'00'\", 'ModDate': \"D:20241209094315+09'00'\", 'PDFVersion': '1.4'}, page_content='SPRi AI Brief Special | 2024-12월호\\n3) Apple\\n£(개요) Apple은 시리(Siri)와 애플 인텔리전스(Apple Intelligence)를 통해 개인정보 보호를\\n중시하는 AI 에이전트를 제공하며, 음성 인식과 온디바이스 학습으로 사용자 경험을 강화20)\\n∙ Apple은 AI와 머신러닝을 통한 AI 에이전트를 개발하고 있으며, 대표적인 사례로 Siri가 있음\\n∙ Apple의 Siri는 음성 명령을 인식하고, 사용자 요구에 맞게 다양한 작업을 수행하는 개인화된 AI 에이전트로,'),\n",
       " Document(metadata={'source': 'data/SPRi AI Brief_Special_AI Agent_241209_F.pdf', 'file_path': 'data/SPRi AI Brief_Special_AI Agent_241209_F.pdf', 'page': 10, 'total_pages': 27, 'Author': 'dj', 'Creator': 'Hwp 2018 10.0.0.13947', 'Producer': 'Hancom PDF 1.3.0.547', 'CreationDate': \"D:20241209094315+09'00'\", 'ModDate': \"D:20241209094315+09'00'\", 'PDFVersion': '1.4'}, page_content='사용하여 이미지에서 방해가 되는 물체를 제거하는 등의 작업을 수행 가능22)\\n∙ CEO 팀 쿡(Tim Cook)은 Apple Intelligence가 완전히 새로운 경험과 도구를 제공하며, 수년간의 AI 및\\n머신러닝 혁신을 바탕으로 Apple의 생성형 모델을 기기의 핵심에 배치해 개인 인텔리전스를 제공하는\\n동시에 개인정보를 보호하여 사용자의 삶을 풍요롭게 할 수 있는 잠재력이 크다고 언급'),\n",
       " Document(metadata={'source': 'data/SPRi AI Brief_Special_AI Agent_241209_F.pdf', 'file_path': 'data/SPRi AI Brief_Special_AI Agent_241209_F.pdf', 'page': 10, 'total_pages': 27, 'Author': 'dj', 'Creator': 'Hwp 2018 10.0.0.13947', 'Producer': 'Hancom PDF 1.3.0.547', 'CreationDate': \"D:20241209094315+09'00'\", 'ModDate': \"D:20241209094315+09'00'\", 'PDFVersion': '1.4'}, page_content='부가 가치를 높이는 기능으로 작용하여 기기 판매와 Apple 생태계에 대한 사용자 충성도를 강화하는 데 기여\\n∙ Apple의 고객 중심 개인정보 보호 전략에 따라 Siri는 사용자 데이터 수집을 최소화하며, Google이나\\nAmazon과 달리 광고 모델을 통해 수익 창출을 하지 않음\\n£(최신 동정) 2024년 6월 Apple은 세계개발자대회(WWDC)에서 iPhone, iPad, Mac의 핵심\\n기능으로 강력한 생성 모델을 적용한 개인 인텔리전스 시스템인 Apple Intelligence를 소개21)'),\n",
       " Document(metadata={'source': 'data/SPRi AI Brief_Special_AI Agent_241209_F.pdf', 'file_path': 'data/SPRi AI Brief_Special_AI Agent_241209_F.pdf', 'page': 10, 'total_pages': 27, 'Author': 'dj', 'Creator': 'Hwp 2018 10.0.0.13947', 'Producer': 'Hancom PDF 1.3.0.547', 'CreationDate': \"D:20241209094315+09'00'\", 'ModDate': \"D:20241209094315+09'00'\", 'PDFVersion': '1.4'}, page_content='∙ 생성형 모델의 힘과 개인 맥락을 결합하여 사용자에게 유용하고 관련성 있는 인텔리전스를 제공\\n∙ 2024년 10월 28일, Apple은 Apple Intelligence를 공식 출시하였고, 사용자들은 이를 활용하여\\n글쓰기를 다듬고, 알림, 메일, 메시지를 요약하고, 보다 자연스럽고 강력한 Siri를 경험하고, Clean Up을\\n사용하여 이미지에서 방해가 되는 물체를 제거하는 등의 작업을 수행 가능22)'),\n",
       " Document(metadata={'source': 'data/SPRi AI Brief_Special_AI Agent_241209_F.pdf', 'file_path': 'data/SPRi AI Brief_Special_AI Agent_241209_F.pdf', 'page': 24, 'total_pages': 27, 'Author': 'dj', 'Creator': 'Hwp 2018 10.0.0.13947', 'Producer': 'Hancom PDF 1.3.0.547', 'CreationDate': \"D:20241209094315+09'00'\", 'ModDate': \"D:20241209094315+09'00'\", 'PDFVersion': '1.4'}, page_content='4. Apple, Introducing Apple Intelligence, the personal intelligence system that puts powerful\\ngenerative models at the core of iPhone, iPad, and Mac, 2024.6.10\\n5. AWS, Amazon Polly, https://aws.amazon.com/ko/polly'),\n",
       " Document(metadata={'source': 'data/SPRi AI Brief_Special_AI Agent_241209_F.pdf', 'file_path': 'data/SPRi AI Brief_Special_AI Agent_241209_F.pdf', 'page': 10, 'total_pages': 27, 'Author': 'dj', 'Creator': 'Hwp 2018 10.0.0.13947', 'Producer': 'Hancom PDF 1.3.0.547', 'CreationDate': \"D:20241209094315+09'00'\", 'ModDate': \"D:20241209094315+09'00'\", 'PDFVersion': '1.4'}, page_content='SPRi AI Brief Special | 2024-12월호\\n- Shortcuts 앱을 사용하면 좋아하는 앱에서 여러 단계로 개인용 단축키를 만들 수 있으며, 갤러리에서\\n수백 개의 예제를 시작하거나 드래그 앤 드롭하여 직접 만들 수 있음\\n∙ Apple은 개인정보 보호를 위해 Siri의 음성 인식과 명령 처리를 디바이스 내에서 수행할 수 있도록\\n설계하여 사용자 데이터가 Apple 서버로 전송되지 않고, 로컬에서 안전하게 처리\\n- Apple은 Siri와 같은 AI 에이전트를 사용자 개인정보를 보호하는 방향으로 설계하여, 대부분의 데이터')]"
      ]
     },
     "execution_count": 6,
     "metadata": {},
     "output_type": "execute_result"
    }
   ],
   "source": [
    "search_result = pdf_retriever.invoke(\"Apple Intelligence 관련 내용을 문서에서 찾아주세요\")\n",
    "search_result"
   ]
  },
  {
   "cell_type": "code",
   "execution_count": 7,
   "metadata": {},
   "outputs": [
    {
     "name": "stdout",
     "output_type": "stream",
     "text": [
      "Apple Intelligence는 iPhone, iPad 및 Mac에서 언어와 이미지를 이해하고 생성하며, 개인 컨텍스트에서 일상적인 작업을 지원하는 기능을 제공합니다. 이 시스템은 사용자의 개인정보 보호를 중시하며 온디바이스 학습 방식을 채택하고 있습니다. 2024년 10월 28일에 공식 출시되었으며, 사용자는 글쓰기, 알림 및 메시지 요약, 이미지에서 방해물 제거 등의 작업을 수행할 수 있습니다.\n",
      "\n",
      "**Source**\n",
      "- data/SPRi AI Brief_Special_AI Agent_241209_F.pdf (page 9)\n",
      "- data/SPRi AI Brief_Special_AI Agent_241209_F.pdf (page 10)\n"
     ]
    }
   ],
   "source": [
    "# 이전에 검색한 결과를 chain의 context로 전달 \n",
    "answer = pdf_chain.invoke(\n",
    "    {\n",
    "        \"question\": \"Apple Intelligence 관련 내용을 문서에서 찾아주세요\",\n",
    "        \"context\": search_result,\n",
    "        \"chat_history\": [],\n",
    "    }\n",
    ")\n",
    "\n",
    "print(answer)"
   ]
  },
  {
   "cell_type": "markdown",
   "metadata": {},
   "source": [
    "### State 정의"
   ]
  },
  {
   "cell_type": "code",
   "execution_count": 8,
   "metadata": {},
   "outputs": [],
   "source": [
    "from typing import Annotated, TypedDict\n",
    "from langgraph.graph.message import add_messages"
   ]
  },
  {
   "cell_type": "code",
   "execution_count": 9,
   "metadata": {},
   "outputs": [],
   "source": [
    "class GraphState(TypedDict):\n",
    "    question: Annotated[str, \"Question\"]     # 질문\n",
    "    context: Annotated[str, \"Context\"]       # 문서의 검색 결과\n",
    "    answer: Annotated[str, \"Answer\"]         # 답변\n",
    "    messages: Annotated[list, add_messages]  # 메시지(누적되는 list)"
   ]
  },
  {
   "cell_type": "markdown",
   "metadata": {},
   "source": [
    "### Node 정의"
   ]
  },
  {
   "cell_type": "code",
   "execution_count": 10,
   "metadata": {},
   "outputs": [],
   "source": [
    "from langchain_opentutorial.rag.utils import format_docs\n",
    "from langchain_teddynote.messages import messages_to_history"
   ]
  },
  {
   "cell_type": "code",
   "execution_count": 11,
   "metadata": {},
   "outputs": [],
   "source": [
    "# 문서 검색 노드\n",
    "def retrieve_document(state: GraphState) -> GraphState:\n",
    "    latest_question = state[\"question\"]\n",
    "    retrieved_docs = pdf_retriever.invoke(latest_question)\n",
    "    retrieved_docs = format_docs(retrieved_docs) # 검색된 문서를 형식화(프롬프트 입력으로 넣어주기 위함)\n",
    "    # 검색된 문서를 context 키에 저장\n",
    "    return GraphState(context=retrieved_docs)\n",
    "\n",
    "# 답변 생성 노드\n",
    "def llm_answer(state: GraphState) -> GraphState:\n",
    "    latest_question = state[\"question\"]\n",
    "    context = state[\"context\"]\n",
    "\n",
    "    response = pdf_chain.invoke(\n",
    "        {\n",
    "            \"question\": latest_question,\n",
    "            \"context\": context,\n",
    "            \"chat_history\": messages_to_history(state[\"messages\"]),\n",
    "        }\n",
    "    )\n",
    "    # 생성된 답변, (유저의 질문, 답변) 메시지를 상태에 저장\n",
    "    return GraphState(\n",
    "        answer=response, messages=[(\"user\", latest_question), (\"assistant\", response)]\n",
    "    )"
   ]
  },
  {
   "cell_type": "markdown",
   "metadata": {},
   "source": [
    "### 그래프 정의 "
   ]
  },
  {
   "cell_type": "code",
   "execution_count": 12,
   "metadata": {},
   "outputs": [],
   "source": [
    "from langgraph.graph import END, StateGraph\n",
    "from langgraph.checkpoint.memory import MemorySaver"
   ]
  },
  {
   "cell_type": "code",
   "execution_count": 13,
   "metadata": {},
   "outputs": [],
   "source": [
    "workflow = StateGraph(GraphState)\n",
    "\n",
    "workflow.add_node(\"retrieve\", retrieve_document)\n",
    "workflow.add_node(\"llm_answer\", llm_answer)\n",
    "\n",
    "workflow.add_edge(\"retrieve\", \"llm_answer\")  # 검색 -> 답변\n",
    "workflow.add_edge(\"llm_answer\", END)         # 답변 -> 종료\n",
    "\n",
    "workflow.set_entry_point(\"retrieve\")\n",
    "\n",
    "memory = MemorySaver()\n",
    "app = workflow.compile(checkpointer=memory)"
   ]
  },
  {
   "cell_type": "code",
   "execution_count": 14,
   "metadata": {},
   "outputs": [
    {
     "data": {
      "image/jpeg": "[encoded data removed]",
      "text/plain": [
       "<IPython.core.display.Image object>"
      ]
     },
     "metadata": {},
     "output_type": "display_data"
    }
   ],
   "source": [
    "from langchain_teddynote.graphs import visualize_graph\n",
    "\n",
    "visualize_graph(app)"
   ]
  },
  {
   "cell_type": "markdown",
   "metadata": {},
   "source": [
    "### 그래프 실행 "
   ]
  },
  {
   "cell_type": "code",
   "execution_count": 15,
   "metadata": {},
   "outputs": [],
   "source": [
    "from langchain_core.runnables import RunnableConfig\n",
    "from langchain_teddynote.messages import stream_graph, random_uuid"
   ]
  },
  {
   "cell_type": "code",
   "execution_count": 16,
   "metadata": {},
   "outputs": [
    {
     "name": "stdout",
     "output_type": "stream",
     "text": [
      "\n",
      "==================================================\n",
      "🔄 Node: \u001b[1;36mllm_answer\u001b[0m 🔄\n",
      "- - - - - - - - - - - - - - - - - - - - - - - - - \n",
      "Apple Intelligence는 iPhone, iPad 및 Mac에서 언어와 이미지를 이해하고 생성하며, 개인 컨텍스트에서 일상적인 작업을 지원하는 기능을 제공하는 시스템입니다. 이 시스템은 사용자의 개인정보 보호를 중시하며 온디바이스 학습 방식을 채택하고 있습니다. 2024년 10월 28일에 공식 출시되었으며, 사용자는 글쓰기, 알림 및 메일 요약, 이미지에서 방해물 제거 등의 작업을 수행할 수 있습니다.\n",
      "\n",
      "**Source**\n",
      "- data/SPRi AI Brief_Special_AI Agent_241209_F.pdf (page 10)\n",
      "- data/SPRi AI Brief_Special_AI Agent_241209_F.pdf (page 11)"
     ]
    }
   ],
   "source": [
    "# config 설정\n",
    "config = RunnableConfig(recursion_limit=20, configurable={\"thread_id\": random_uuid()})\n",
    "\n",
    "# 질문 입력\n",
    "inputs = GraphState(question=\"Apple Intelligence 관련 내용을 문서에서 찾아주세요\")\n",
    "\n",
    "# 그래프 실행\n",
    "# stream_graph : 특정 노드만 스트리밍으로 출력하는 함수 \n",
    "stream_graph(app, inputs, config, [\"llm_answer\"])"
   ]
  },
  {
   "cell_type": "code",
   "execution_count": 17,
   "metadata": {},
   "outputs": [
    {
     "name": "stdout",
     "output_type": "stream",
     "text": [
      "Question: Apple Intelligence 관련 내용을 문서에서 찾아주세요\n",
      "============================================================\n",
      "Answer:\n",
      "Apple Intelligence는 iPhone, iPad 및 Mac에서 언어와 이미지를 이해하고 생성하며, 개인 컨텍스트에서 일상적인 작업을 지원하는 기능을 제공하는 시스템입니다. 이 시스템은 사용자의 개인정보 보호를 중시하며 온디바이스 학습 방식을 채택하고 있습니다. 2024년 10월 28일에 공식 출시되었으며, 사용자는 글쓰기, 알림 및 메일 요약, 이미지에서 방해물 제거 등의 작업을 수행할 수 있습니다.\n",
      "\n",
      "**Source**\n",
      "- data/SPRi AI Brief_Special_AI Agent_241209_F.pdf (page 10)\n",
      "- data/SPRi AI Brief_Special_AI Agent_241209_F.pdf (page 11)\n"
     ]
    }
   ],
   "source": [
    "outputs = app.get_state(config).values\n",
    "\n",
    "print(f'Question: {outputs[\"question\"]}')\n",
    "print(\"===\" * 20)\n",
    "print(f'Answer:\\n{outputs[\"answer\"]}')"
   ]
  },
  {
   "cell_type": "markdown",
   "metadata": {},
   "source": [
    "<- 위 실행 내역을 LangSmith TRACE 통해 상세 확인하기"
   ]
  },
  {
   "cell_type": "markdown",
   "metadata": {},
   "source": [
    "-----\n",
    "** End of Documents **"
   ]
  }
 ],
 "metadata": {
  "kernelspec": {
   "display_name": "langchain-kr-t0JhnSEV-py3.11",
   "language": "python",
   "name": "python3"
  },
  "language_info": {
   "codemirror_mode": {
    "name": "ipython",
    "version": 3
   },
   "file_extension": ".py",
   "mimetype": "text/x-python",
   "name": "python",
   "nbconvert_exporter": "python",
   "pygments_lexer": "ipython3",
   "version": "3.11.9"
  }
 },
 "nbformat": 4,
 "nbformat_minor": 2
}
