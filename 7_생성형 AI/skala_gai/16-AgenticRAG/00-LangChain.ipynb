{
 "cells": [
  {
   "cell_type": "code",
   "execution_count": 1,
   "metadata": {},
   "outputs": [
    {
     "data": {
      "text/plain": [
       "True"
      ]
     },
     "execution_count": 1,
     "metadata": {},
     "output_type": "execute_result"
    }
   ],
   "source": [
    "from dotenv import load_dotenv\n",
    "\n",
    "load_dotenv()"
   ]
  },
  {
   "cell_type": "code",
   "execution_count": 2,
   "metadata": {},
   "outputs": [
    {
     "name": "stdout",
     "output_type": "stream",
     "text": [
      "LangSmith 추적을 시작합니다.\n",
      "[프로젝트명]\n",
      "CH16-Agentic-RAG\n"
     ]
    }
   ],
   "source": [
    "from langchain_teddynote import logging\n",
    "\n",
    "logging.langsmith(\"CH16-Agentic-RAG\")"
   ]
  },
  {
   "cell_type": "markdown",
   "metadata": {},
   "source": [
    "# Agentic RAG (feat.LangChain)\n",
    "\n",
    "** 실습 자료 **\n",
    "\n",
    "소프트웨어정책연구소(SPRi), [AI Brief 스페셜] AI 에이전트 동향\n",
    "\n",
    "- 저자: 유재흥(AI정책연구실 책임연구원), 이해수(AI정책연구실 선임연구원)\n",
    "- 발생: 2024.12.10\n",
    "- 링크: https://spri.kr/posts/view/23798?code=AI-Brief&s_year=&data_page=1\n",
    "- 파일명: `SPRi AI Brief_Special_AI Agent_241209_F`\n",
    "\n",
    "(실습 준비)\n",
    "- 작업 폴더 하위에 `data` 폴더 생성 \n",
    "- 링크에서 다운로드 받은 파일을 `data` 폴더에 업로드 "
   ]
  },
  {
   "cell_type": "markdown",
   "metadata": {},
   "source": [
    "### WEB Search"
   ]
  },
  {
   "cell_type": "code",
   "execution_count": 3,
   "metadata": {},
   "outputs": [],
   "source": [
    "from langchain_community.tools.tavily_search import TavilySearchResults"
   ]
  },
  {
   "cell_type": "code",
   "execution_count": 4,
   "metadata": {},
   "outputs": [],
   "source": [
    "search = TavilySearchResults(k=6)"
   ]
  },
  {
   "cell_type": "code",
   "execution_count": 5,
   "metadata": {},
   "outputs": [
    {
     "data": {
      "text/plain": [
       "[{'url': 'https://blog.naver.com/assist12060/223556362662',\n",
       "  'content': '* 1599-1111 은 하나은행 고객센터 대표번호로, ARS 안내를 거쳐야 합니다. * 1588-8000 은 하나은행 ARS 없이 바로 상담원과 연결되는 전용 번호입니다.'},\n",
       " {'url': 'https://www.kebhana.com/cont/customer/customer01/customer0101/customer010101/index.jsp',\n",
       "  'content': '자세한 내용은 하나은행 고객센터 (1599-1111) 또는 하나원큐 [메뉴 > 상품가입 > 내 아이 통장 만들기 서비스]메뉴의 안내를 참고해주시기 바랍니다. ※ 인터넷뱅킹('},\n",
       " {'url': 'https://m.kebhana.com/cont/customer/customer02/index.jsp',\n",
       "  'content': '1599-1115. 개인종합자산관리계좌(ISA). 1599-1463. 하나은행 고객센터. 1599-1111 · 1588-1111. 하나카드 콜센터. 1800-1111 · 고객센터 PC버전 영업점 찾기 · 개인정보'},\n",
       " {'url': 'https://www.kebhana.com/cont/customer/index.jsp',\n",
       "  'content': '고객센터 메인 · 예금 1811-6171 · 펀드 1811-6172 · 대출 1599-2222 · 외환 1811-6174 · 어르신 전용 1899-8833.'},\n",
       " {'url': 'https://www.kebhana.com/cont/customer/customer02/index.jsp',\n",
       "  'content': \"안내 · 상담원에게연결. 전화하나로 센터 1599-1111, 1588-1111 (0 · 상담원에게 설명. 서비스 받은 내용전달 · 원격 지원시스템 실행. '원격지원PC상담' 시작하기 클릭 · 원격\"}]"
      ]
     },
     "execution_count": 5,
     "metadata": {},
     "output_type": "execute_result"
    }
   ],
   "source": [
    "search.invoke(\"하나은행 고객센터 전화번호는 무엇인가요?\")"
   ]
  },
  {
   "cell_type": "markdown",
   "metadata": {},
   "source": [
    "## 문서 기반 검색"
   ]
  },
  {
   "cell_type": "code",
   "execution_count": 6,
   "metadata": {},
   "outputs": [],
   "source": [
    "from langchain.text_splitter import RecursiveCharacterTextSplitter\n",
    "from langchain_community.vectorstores import FAISS\n",
    "from langchain_openai import OpenAIEmbeddings\n",
    "from langchain.document_loaders import PyPDFLoader\n",
    "from langchain.tools.retriever import create_retriever_tool"
   ]
  },
  {
   "cell_type": "code",
   "execution_count": 7,
   "metadata": {},
   "outputs": [],
   "source": [
    "loader = PyPDFLoader(\"data/SPRi AI Brief_Special_AI Agent_241209_F.pdf\")\n",
    "text_splitter = RecursiveCharacterTextSplitter(chunk_size=1000, chunk_overlap=100)\n",
    "\n",
    "split_docs = loader.load_and_split(text_splitter)\n",
    "vector = FAISS.from_documents(split_docs, OpenAIEmbeddings())\n",
    "retriever = vector.as_retriever()"
   ]
  },
  {
   "cell_type": "code",
   "execution_count": 8,
   "metadata": {},
   "outputs": [
    {
     "data": {
      "text/plain": [
       "[Document(metadata={'source': 'data/SPRi AI Brief_Special_AI Agent_241209_F.pdf', 'page': 10}, page_content='부가 가치를 높이는 기능으로 작용하여 기기 판매와 Apple 생태계 에 대한 사용자  충성도를 강화하는 데 기여 \\n∙Apple 의 고객 중심 개인정보  보호 전략에 따라 Siri는 사용자 데이터 수집을 최소화하며 , Google 이나 \\nAmazon 과 달리 광고 모델을 통해 수익 창출을 하지 않음\\n£(최신 동정) 2024년 6월 Apple 은 세계개발자대회 (WWDC) 에서 iPhone, iPad, Mac의 핵심 \\n기능으로  강력한 생성 모델을 적용한 개인 인텔리전스 시스템인 Apple Intelligence 를 소개21)\\n∙생성형 모델의 힘과 개인 맥락을 결합하여 사용자에게 유용하고 관련성 있는 인텔리전스를 제공 \\n∙2024년 10월 28일, Apple 은 Apple Intelligence 를 공식 출시하 였고, 사용자들은 이를 활용하여 \\n글쓰기를 다듬고 , 알림, 메일, 메시지를 요약하고 , 보다 자연스럽고 강력한 Siri를 경험하고 , Clean Up을 \\n사용하여 이미지에서 방해가 되는 물체를 제거하는 등의 작업을 수행 가능22)  \\n∙ CEO 팀 쿡(Tim Cook) 은 Apple Intelligence 가 완전히 새로운 경험과 도구를 제공하며 , 수년간의 AI 및 \\n머신러닝 혁신을 바탕으로 Apple 의 생성형 모델을 기기의 핵심에 배치해 개인 인텔리전스를 제공하는 \\n동시에 개인정보를 보호하여 사용자의 삶을 풍요롭게 할 수 있는 잠재력이 크다고 언급  \\n21) Apple, Introducing Apple Intelligence, the personal intelligence system that puts powerful generative models at the core of \\niPhone, iPad, and Mac, 2024.6.10\\n22) Apple, Apple Intelligence is available today on iPhone, iPad, and Mac, 2024.10.28'),\n",
       " Document(metadata={'source': 'data/SPRi AI Brief_Special_AI Agent_241209_F.pdf', 'page': 9}, page_content='SPRi AI Brief Special |  2024-12 월호\\n93) Apple\\n£(개요) Apple 은 시리(Siri)와 애플 인텔리전스 (Apple Intelligence )를 통해 개인정보 보호를 \\n중시하는 AI 에이전트를 제공하며 , 음성 인식과 온디바이스 학습으로 사용자 경험을 강화20)\\n∙Apple 은 AI와 머신러닝을 통한 AI 에이전트를 개발하고 있으며 , 대표적인 사례로 Siri가 있음\\n∙Apple 의 Siri는 음성 명령을 인식하고 , 사용자 요구에 맞게 다양한 작업을 수행하는 개인화된 AI 에이전트로 , \\niPhone, iPad, Mac, Apple Watch  등 자사 제품에 내장되어 사용자 경험을 강화 \\n∙최근 애플은 iPhone, iPad 및 Mac용 언어와 이미지를 이해하고 생성하고 , 개인 컨텍스트에서 일상적인 \\n작업을 지원하는 기능을 제공하는 Apple Intelligence 를 출시\\n∙Apple 의 AI 기술은 사용자의 개인정보 보호를 중시하며 온디바이스 학습 방식을 채택\\n<애플 인텔리전스 (Apple Intelligence) > \\n*출처: apple.com\\n£(기능/기술) Siri는 Apple 생태계 내에서 일정 관리, 알람 설정, 스마트홈 제어 등을 \\n지원하며 , Apple 은 사용자 개인정보 보호를 위해 Siri의 명령 처리를 온디바이스에서 수행\\n∙Siri는 음성 기반의 AI 비서로 , 사용자의 일상 활동인 일정 관리, 알람, 문자 전송, 음악 재생, 날씨 조회, \\n스마트홈 기기 제어 지원 \\n - Siri는 Apple 의 생태계 내에서 원활하게 작동하여 , iPhone 에서 Siri로 설정한 알람이 Apple Watch 등과 연동\\n∙Siri Shortcuts 는 탭 한 번으로 또는 Siri에게 요청하여 앱에서 작업을 완료하는 빠른 방법을 제공 \\n20) Apple, Apple Intelligence, https://www.apple.com/apple-intelligence/'),\n",
       " Document(metadata={'source': 'data/SPRi AI Brief_Special_AI Agent_241209_F.pdf', 'page': 10}, page_content='SPRi AI Brief Special |  2024-12 월호\\n10 - Shortcuts 앱을 사용하면 좋아하는 앱에서 여러 단계로 개인용 단축키를 만들 수 있으며 , 갤러리에서 \\n수백 개의 예제를 시작하거나 드래그 앤 드롭하여 직접 만들 수 있음\\n∙ Apple 은 개인정보 보호를 위해 Siri의 음성 인식과 명령 처리를 디바이스 내에서 수행할 수 있도록 \\n설계하여 사용자 데이터가 Apple 서버로 전송되지 않고, 로컬에서 안전하게 처리\\n - Apple 은 Siri와 같은 AI 에이전트를 사용자 개인정보를 보호하는 방향으로 설계하여 , 대부분의 데이터 \\n처리를 사용자의 디바이스 내에서 수행해서 개인정보 보호와 높은 성능을 동시에 유지\\n∙Siri는 iPhone, iPad, Apple Watch, HomePod, Mac 등 다양한 Apple 기기에서 작동하며 , Apple ID를 \\n통해 기기 간 통합된 경험을 제공 \\n∙Apple 은 전용 칩(A15 Bionic, M4* 등)과 신경 엔진(Neural Engine) 을 통해 기계 학습 및 AI 작업을 \\n최적화하여 Siri의 성능을 높이고 있으며 , 이용자가 빠르고 일관된 응답을 받을 수 있도록 하고자 함 \\n* Apple이 2024년 5월 아이패드 신제품을 발표하면서 선보인 차세대 M4칩으로 역대 가장 빠른 신경 엔진(Neural Engine) 을 탑재\\n£(수익 모델) Siri는 Apple 생태계와 통합되어 사용자 경험을 향상시켜 고 브랜드 가치를 \\n높이며 , 또한, 개인정보  보호 원칙에 따라 개인 데이터 수집을 최소화하여 기기 판매와 \\nApple 생태계 에 대한 사용자  충성도를 강화\\n∙Siri는 Apple 의 모든 기기와 통합되어 Apple 생태계 내 사용자 경험을 향상시키며 , 이를 통해 Apple 제품의 \\n부가 가치를 높이는 기능으로 작용하여 기기 판매와 Apple 생태계 에 대한 사용자  충성도를 강화하는 데 기여'),\n",
       " Document(metadata={'source': 'data/SPRi AI Brief_Special_AI Agent_241209_F.pdf', 'page': 24}, page_content='SPRi AI Brief Special |  2024-12 월호\\n24[참고 문헌]\\n1.Alan Chan 외, Visibility into AI Agents, 2024\\n2.Apple, Apple Intelligence, https://www.apple.com/apple-intelligence/\\n3.Apple, Apple Intelligence is available today on iPhone, iPad, and Mac, 2024.10.28.\\n4.Apple, Introducing Apple Intelligence, the personal intelligence system that puts powerful \\ngenerative models at the core of iPhone, iPad, and Mac, 2024.6.10\\n5.AWS, Amazon Polly, https://aws.amazon.com/ko/polly\\n6.AWS, Amazon Q Developer announces support for inline chat to streamline the developer \\nexperience, 2024.10.29\\n7.AWS, Amazon Transcribe, https://aws.amazon.com/transcribe\\n8.AWS, Create a next generation chat assistant with Amazon Bedrock, Amazon Connect, \\nAmazon Lex, LangChain, and WhatsApp, 2024.10.23\\n9.AWS, Start building on AWS today, https://aws.amazon.com/?nc2=h_lg\\n10.AWS, What is Amazon Rekognition?, \\nhttps://docs.aws.amazon.com/rekognition/latest/dg/what-is.html')]"
      ]
     },
     "execution_count": 8,
     "metadata": {},
     "output_type": "execute_result"
    }
   ],
   "source": [
    "retriever.invoke(\"Apple Intelligence 관련 내용을 문서에서 찾아주세요\")"
   ]
  },
  {
   "cell_type": "code",
   "execution_count": 9,
   "metadata": {},
   "outputs": [],
   "source": [
    "# 도구 형태로 정의\n",
    "retriever_tool = create_retriever_tool(\n",
    "    retriever,\n",
    "    name=\"pdf_search\",\n",
    "    description=\"use this tool to search information from the PDF document\",\n",
    ")"
   ]
  },
  {
   "cell_type": "markdown",
   "metadata": {},
   "source": [
    "## 도구 정의"
   ]
  },
  {
   "cell_type": "code",
   "execution_count": 10,
   "metadata": {},
   "outputs": [],
   "source": [
    "tools = [search, retriever_tool]"
   ]
  },
  {
   "cell_type": "markdown",
   "metadata": {},
   "source": [
    "## Agent 정의"
   ]
  },
  {
   "cell_type": "code",
   "execution_count": 11,
   "metadata": {},
   "outputs": [],
   "source": [
    "from langchain_openai import ChatOpenAI\n",
    "from langchain_core.prompts import ChatPromptTemplate\n",
    "from langchain.agents import create_tool_calling_agent\n",
    "from langchain.agents import AgentExecutor"
   ]
  },
  {
   "cell_type": "code",
   "execution_count": 12,
   "metadata": {},
   "outputs": [],
   "source": [
    "# LLM 정의\n",
    "llm = ChatOpenAI(model=\"gpt-4o-mini\", temperature=0)\n",
    "\n",
    "# Prompt 정의\n",
    "prompt = ChatPromptTemplate.from_messages(\n",
    "    [\n",
    "        (\n",
    "            \"system\",\n",
    "            \"You are a helpful assistant. \"\n",
    "            \"Make sure to use the `pdf_search` tool for searching information from the PDF document. \"\n",
    "            \"If you can't find the information from the PDF document, use the `search` tool for searching information from the web.\",\n",
    "        ),\n",
    "        (\"placeholder\", \"{chat_history}\"),\n",
    "        (\"human\", \"{input}\"),\n",
    "        (\"placeholder\", \"{agent_scratchpad}\"),\n",
    "    ]\n",
    ")\n",
    "\n",
    "# tool calling agent 정의\n",
    "agent = create_tool_calling_agent(llm, tools, prompt)\n",
    "\n",
    "# AgentExecutor 정의\n",
    "agent_executor = AgentExecutor(agent=agent, tools=tools, verbose=False)"
   ]
  },
  {
   "cell_type": "markdown",
   "metadata": {},
   "source": [
    "## Agent 실행 "
   ]
  },
  {
   "cell_type": "code",
   "execution_count": 13,
   "metadata": {},
   "outputs": [],
   "source": [
    "from langchain_teddynote.messages import AgentStreamParser"
   ]
  },
  {
   "cell_type": "code",
   "execution_count": 14,
   "metadata": {},
   "outputs": [],
   "source": [
    "# 각 단계별 출력을 위한 파서 생성\n",
    "agent_stream_parser = AgentStreamParser()"
   ]
  },
  {
   "cell_type": "code",
   "execution_count": 15,
   "metadata": {},
   "outputs": [
    {
     "name": "stdout",
     "output_type": "stream",
     "text": [
      "[도구 호출]\n",
      "Tool: tavily_search_results_json\n",
      "query: 2024년 프로야구 플레이오프 진출 팀\n",
      "Log: \n",
      "Invoking: `tavily_search_results_json` with `{'query': '2024년 프로야구 플레이오프 진출 팀'}`\n",
      "\n",
      "\n",
      "\n",
      "[관찰 내용]\n",
      "Observation: [{'url': 'https://namu.wiki/w/KBO%20%ED%94%8C%EB%A0%88%EC%9D%B4%EC%98%A4%ED%94%84/2024%EB%85%84', 'content': '... 년 한국시리즈가 마지막이다. 나눔 올스타 팀 중 LG 트윈스가 플레이오프 진출을, KIA 타이거즈가 한국시리즈 직행을 하면서 앞으로의 포스트시즌 경기 결과에 상관'}, {'url': 'https://filmk.tistory.com/entry/%ED%94%84%EB%A1%9C%EC%95%BC%EA%B5%AC-%ED%8F%AC%EC%8A%A4%ED%8A%B8%EC%8B%9C%EC%A6%8C-%EA%B2%BD%EA%B8%B0-%EC%9D%BC%EC%A0%95-%EB%B0%8F-%EA%B2%B0%EA%B3%BC-%EC%B4%9D%EC%A0%95%EB%A6%AC2024', 'content': '4) 한국시리즈 일정 ... 2024 한국 프로야구 플레이오프에서 승리한 팀은 KIA와 맞붙게 되며, 그 승부는 한국시리즈 진출을 결정짓는 중요한 대결이 될 것'}, {'url': 'https://aldalsuin.tistory.com/entry/2024-%ED%94%84%EB%A1%9C%EC%95%BC%EA%B5%AC-%ED%94%8C%EB%A0%88%EC%9D%B4%EC%98%A4%ED%94%84-9%EA%B0%9C-%EA%B5%AC%EB%8B%A8%EC%9D%98-%EC%B9%98%EC%97%B4%ED%95%9C-%EC%9A%B0%EC%8A%B9-%EA%B2%BD%EC%9F%81', 'content': '2024 프로야구 플레이오프에 진출한 팀들의 면면을 살펴보면, 각 팀마다 독특한 강점과 전략이 돋보입니다. 정규시즌 1위 팀부터 와일드카드 진출팀까지,'}, {'url': 'https://m.blog.naver.com/qhadldhaus98/223605904423', 'content': '한국시리즈: 10월 21일~10월 29일 (필요 시)\\n\\n경기 시간: 주중 18시 30분, 주말 및 공휴일 14시.\\n\\n출처 KBO\\n\\n2024 KBO리그 한국 프로 야구 순위\\n\\n야구 골수팬들은 당연히\\n\\n팀 순위가 머리 속에 있을 수 있지만\\n\\n라이트 팬들은 상위권이랑\\n\\n내가 응원하는 팀만 알지 어느팀이 몇위였더라?\\n\\n잘 모르실 수 있습니다.\\n\\n일단 2024 프로야구 순위를 먼저 적어보겠습니다.\\n\\n\\u200b\\n\\n1.KIA 타이거즈\\n\\n2.삼성 라이온즈\\n\\n3.LG 트윈스\\n\\n4.두산 베어스\\n\\n5.KT 위즈\\n\\n6.SSG 랜더스\\n\\n7.롯데 자이언츠\\n\\n8.한화 이글스\\n\\n9.NC 다이노스\\n\\n10.키움 히어로즈\\n\\n\\u200b\\n\\n올 해 프로야구 포스트시즌에 진출한 팀들은\\n\\nKIA 타이거즈 삼성 라이온즈 LG 트윈스\\n\\n두산 베어스 KT위즈입니다.\\n\\n출처 KBO\\n\\n출처 두산베어스\\n\\n출처 두산베어스\\n\\n출처 KT위즈\\n\\n출처 KT위즈\\n\\n2024 프로야구 일정 와일드카드 결정전\\n\\n2024 프로야구 포스트시즌 일정의 그 첫 일정은 [...] 블로그\\n\\n카테고리 이동\\n\\n\\n\\n\\n♬ 골프치고 여행가고 축구보는 보미\\n\\n2024 KBO 한국 프로야구 포스트시즌 일정 순위 예매 (와일드카드 준플레이오프 플레이오프 한국시리즈)\\n\\n2024. 10. 3. 22:31\\n\\n2024 KBO 한국 프로야구 포스트시즌 일정 순위 예매 (와일드카드 준플레이오프 플레이오프 한국시리즈)\\n\\n\\u200b\\n\\n2024 KBO리그 한국 프로야구\\n\\n가을야구가 드디어 시작되었습니다.\\n\\n야구 팬들이 기다리던 한국 프로 야구 포스트시즌은\\n\\n10월 2일 와일드카드 결정전을 시작으로\\n\\n본격적인 경쟁이 시작되었습니다.\\n\\n정규 시즌 내내 치열한 승부 끝에 올라온 팀들이\\n\\n한국시리즈 우승을 향해 도전합니다.\\n\\n\\u200b\\n\\n\\u200b\\n\\n변경된 일정\\n\\n플레이오프 일정 변경\\n\\n2024 KBO 포스트시즌 일정\\n\\n와일드카드 결정전: KT, 두산 2-0으로 승리 (KT 준PO 진출)\\n\\n준플레이오프: 10월 5일~10월 11일 (필요 시)\\n\\n플레이오프: 10월 13일~10월 20일 (필요 시) [...] 1차전: 10월 5일 KT 3:2 LG\\n\\n2차전: 10월 6일  KT 2:7 LG\\n\\n3차전: 10월 8일 KT 5:6 LG\\n\\n4차전: 10월 9일 KT 6:5 LG\\n\\n5차전: 10월 11일 KT 1:4 LG\\n\\n\\u200b\\n\\nLG 트윈스는 11일 서울 잠실구장에서 열린\\n\\n2024 신한 SOL뱅크 KBO 포스트시즌 준플레이오프 5차전에서\\n\\nKT 위즈를 4-1로 꺾으며 승리했습니다.\\n\\n지난해 한국시리즈에서 KT를 상대로 4-1로 승리하며\\n\\n29년 만에 우승을 차지했던 LG는\\n\\n올해 가을야구에서도 다시 한 번\\n\\nKT를 제압하는 데 성공했습니다.\\n\\nLG는 하루 휴식을 취한 후,\\n\\n13일부터 정규시즌 2위인 삼성 라이온즈와의\\n\\n플레이오프(PO)를 시작할 예정입니다.\\n\\n일정변경\\n\\n2024 프로야구 일정 KBO 플레이오프\\n\\n준플레이오프에서 승리한 팀(LG)은 정규시즌 2위\\n\\n삼성 라이온즈와 만나게 됩니다.\\n\\n마찬가지로 5전3승제이며 삼성 홈구장인\\n\\n삼성 라이온즈파크에서 열립니다.'}, {'url': 'https://ko.wikipedia.org/wiki/2024%EB%85%84_KBO_%ED%8F%AC%EC%8A%A4%ED%8A%B8%EC%8B%9C%EC%A6%8C', 'content': '목차\\n\\n2024년 KBO 포스트시즌\\n\\n\\n\\n2024 신한 SOL Bank KBO 포스트시즌은 2024년 10월 2일부터 10월 28일까지 진행됐다. 이번 포스트시즌 역시 한국시리즈 5차전 장소는 정규시즌 우승팀의 홈구장인 광주기아챔피언스필드에서 치러졌다.\\n\\n진출팀\\n\\n2024년 포스트시즌에 진출한 팀은 KIA 타이거즈, 삼성 라이온즈, LG 트윈스, 두산 베어스, kt 위즈다.\\n\\n대진표 [...] 플레이오프\\n\\n출장자 명단\\n\\n팀 | 선수 명단\\n삼성 라이온즈 | 감독 -박진만코치 -정대현,손주인,다치바나,배영섭,강영식,이진영,박찬도,강명구,채상병투수 -이상민,원태인,이승현(우),김태훈,김윤수,이승민,레예스,임창민,이호성,최채흥,이승현(좌),황동재,김재윤,송은범포수 -김민수,이병헌,강민호내야수 -디아즈,이재현,안주형,류지혁,김영웅,전병우,김지찬,박병호외야수 -구자욱,이성규,윤정빈,김헌곤,김성윤\\nLG 트윈스 | 감독 -염경엽코치 -이호준,김일경,박경완,정수성,박용근,장진용,김재율,모창민,김광삼투수 -김유영,임찬규,함덕주,김대현,정우영,백승현,에르난데스,최원태,손주영,엔스,이종준,김진성,이지강,유영찬포수 -박동원,허도환,김범석,이주헌내야수 -문보경,신민재,구본혁,이영빈,오지환,오스틴,김대원외야수 -문성주,박해민,김현수,홍창기,최승민\\n경기 기록 [...] 황재균이 볼넷으로 출루해 무사 만루 찬스를 잡았다. 하지만 kt는 무사 만루 찬스에서 1사 후 배정대의 내야 땅볼 타점으로 1점을 내는데 그쳤다. 7회초 위기를 넘긴 LG는 7회말 공격에서 1사 후 안타로 출루한 박해민이 도루를 시도했고, 장성우가 또다시 송구 실책을 범해 3루로 이동한 박해민은 이어진 문성주의 적시타로 득점에 성공해 쐐기를 박았다. LG는 7회초 소방수 역할을 해낸 손주영이 8회까지 책임졌고, 마무리로 올라온 에르난데스가 9회초 선두타자 볼넷을 내줬으나 강백호를 삼진 처리한 뒤 황재균을 병살타로 돌려세우며 5차전까지 가는 치열한 접전 끝에 정규시즌 3위 LG가 3승 2패로 kt의 돌풍을 잠재우고 플레이오프에 진출했다.'}]\n",
      "[최종 답변]\n",
      "2024년 프로야구 플레이오프에 진출한 팀은 다음과 같습니다:\n",
      "\n",
      "1. KIA 타이거즈\n",
      "2. 삼성 라이온즈\n",
      "3. LG 트윈스\n",
      "4. 두산 베어스\n",
      "5. KT 위즈\n",
      "\n",
      "이 팀들은 정규 시즌 성적에 따라 포스트시즌에 진출하게 되었습니다. 추가적인 정보는 [여기](https://ko.wikipedia.org/wiki/2024%EB%85%84_KBO_%ED%8F%AC%EC%8A%A4%ED%8A%B8%EC%8B%9C%EC%A6%8C)에서 확인할 수 있습니다.\n"
     ]
    }
   ],
   "source": [
    "# 질의에 대한 답변을 스트리밍으로 출력 요청\n",
    "result = agent_executor.stream(\n",
    "    {\"input\": \"2024년 프로야구 플레이오프 진출한 5개 팀을 검색하여 알려주세요.\"}\n",
    ")\n",
    "\n",
    "for step in result:\n",
    "    agent_stream_parser.process_agent_steps(step)"
   ]
  },
  {
   "cell_type": "code",
   "execution_count": 16,
   "metadata": {},
   "outputs": [
    {
     "name": "stdout",
     "output_type": "stream",
     "text": [
      "[도구 호출]\n",
      "Tool: pdf_search\n",
      "query: Apple Intelligence\n",
      "Log: \n",
      "Invoking: `pdf_search` with `{'query': 'Apple Intelligence'}`\n",
      "\n",
      "\n",
      "\n",
      "[관찰 내용]\n",
      "Observation: 부가 가치를 높이는 기능으로 작용하여 기기 판매와 Apple 생태계 에 대한 사용자  충성도를 강화하는 데 기여 \n",
      "∙Apple 의 고객 중심 개인정보  보호 전략에 따라 Siri는 사용자 데이터 수집을 최소화하며 , Google 이나 \n",
      "Amazon 과 달리 광고 모델을 통해 수익 창출을 하지 않음\n",
      "£(최신 동정) 2024년 6월 Apple 은 세계개발자대회 (WWDC) 에서 iPhone, iPad, Mac의 핵심 \n",
      "기능으로  강력한 생성 모델을 적용한 개인 인텔리전스 시스템인 Apple Intelligence 를 소개21)\n",
      "∙생성형 모델의 힘과 개인 맥락을 결합하여 사용자에게 유용하고 관련성 있는 인텔리전스를 제공 \n",
      "∙2024년 10월 28일, Apple 은 Apple Intelligence 를 공식 출시하 였고, 사용자들은 이를 활용하여 \n",
      "글쓰기를 다듬고 , 알림, 메일, 메시지를 요약하고 , 보다 자연스럽고 강력한 Siri를 경험하고 , Clean Up을 \n",
      "사용하여 이미지에서 방해가 되는 물체를 제거하는 등의 작업을 수행 가능22)  \n",
      "∙ CEO 팀 쿡(Tim Cook) 은 Apple Intelligence 가 완전히 새로운 경험과 도구를 제공하며 , 수년간의 AI 및 \n",
      "머신러닝 혁신을 바탕으로 Apple 의 생성형 모델을 기기의 핵심에 배치해 개인 인텔리전스를 제공하는 \n",
      "동시에 개인정보를 보호하여 사용자의 삶을 풍요롭게 할 수 있는 잠재력이 크다고 언급  \n",
      "21) Apple, Introducing Apple Intelligence, the personal intelligence system that puts powerful generative models at the core of \n",
      "iPhone, iPad, and Mac, 2024.6.10\n",
      "22) Apple, Apple Intelligence is available today on iPhone, iPad, and Mac, 2024.10.28\n",
      "\n",
      "SPRi AI Brief Special |  2024-12 월호\n",
      "93) Apple\n",
      "£(개요) Apple 은 시리(Siri)와 애플 인텔리전스 (Apple Intelligence )를 통해 개인정보 보호를 \n",
      "중시하는 AI 에이전트를 제공하며 , 음성 인식과 온디바이스 학습으로 사용자 경험을 강화20)\n",
      "∙Apple 은 AI와 머신러닝을 통한 AI 에이전트를 개발하고 있으며 , 대표적인 사례로 Siri가 있음\n",
      "∙Apple 의 Siri는 음성 명령을 인식하고 , 사용자 요구에 맞게 다양한 작업을 수행하는 개인화된 AI 에이전트로 , \n",
      "iPhone, iPad, Mac, Apple Watch  등 자사 제품에 내장되어 사용자 경험을 강화 \n",
      "∙최근 애플은 iPhone, iPad 및 Mac용 언어와 이미지를 이해하고 생성하고 , 개인 컨텍스트에서 일상적인 \n",
      "작업을 지원하는 기능을 제공하는 Apple Intelligence 를 출시\n",
      "∙Apple 의 AI 기술은 사용자의 개인정보 보호를 중시하며 온디바이스 학습 방식을 채택\n",
      "<애플 인텔리전스 (Apple Intelligence) > \n",
      "*출처: apple.com\n",
      "£(기능/기술) Siri는 Apple 생태계 내에서 일정 관리, 알람 설정, 스마트홈 제어 등을 \n",
      "지원하며 , Apple 은 사용자 개인정보 보호를 위해 Siri의 명령 처리를 온디바이스에서 수행\n",
      "∙Siri는 음성 기반의 AI 비서로 , 사용자의 일상 활동인 일정 관리, 알람, 문자 전송, 음악 재생, 날씨 조회, \n",
      "스마트홈 기기 제어 지원 \n",
      " - Siri는 Apple 의 생태계 내에서 원활하게 작동하여 , iPhone 에서 Siri로 설정한 알람이 Apple Watch 등과 연동\n",
      "∙Siri Shortcuts 는 탭 한 번으로 또는 Siri에게 요청하여 앱에서 작업을 완료하는 빠른 방법을 제공 \n",
      "20) Apple, Apple Intelligence, https://www.apple.com/apple-intelligence/\n",
      "\n",
      "SPRi AI Brief Special |  2024-12 월호\n",
      "24[참고 문헌]\n",
      "1.Alan Chan 외, Visibility into AI Agents, 2024\n",
      "2.Apple, Apple Intelligence, https://www.apple.com/apple-intelligence/\n",
      "3.Apple, Apple Intelligence is available today on iPhone, iPad, and Mac, 2024.10.28.\n",
      "4.Apple, Introducing Apple Intelligence, the personal intelligence system that puts powerful \n",
      "generative models at the core of iPhone, iPad, and Mac, 2024.6.10\n",
      "5.AWS, Amazon Polly, https://aws.amazon.com/ko/polly\n",
      "6.AWS, Amazon Q Developer announces support for inline chat to streamline the developer \n",
      "experience, 2024.10.29\n",
      "7.AWS, Amazon Transcribe, https://aws.amazon.com/transcribe\n",
      "8.AWS, Create a next generation chat assistant with Amazon Bedrock, Amazon Connect, \n",
      "Amazon Lex, LangChain, and WhatsApp, 2024.10.23\n",
      "9.AWS, Start building on AWS today, https://aws.amazon.com/?nc2=h_lg\n",
      "10.AWS, What is Amazon Rekognition?, \n",
      "https://docs.aws.amazon.com/rekognition/latest/dg/what-is.html\n",
      "\n",
      "SPRi AI Brief Special |  2024-12 월호\n",
      "10 - Shortcuts 앱을 사용하면 좋아하는 앱에서 여러 단계로 개인용 단축키를 만들 수 있으며 , 갤러리에서 \n",
      "수백 개의 예제를 시작하거나 드래그 앤 드롭하여 직접 만들 수 있음\n",
      "∙ Apple 은 개인정보 보호를 위해 Siri의 음성 인식과 명령 처리를 디바이스 내에서 수행할 수 있도록 \n",
      "설계하여 사용자 데이터가 Apple 서버로 전송되지 않고, 로컬에서 안전하게 처리\n",
      " - Apple 은 Siri와 같은 AI 에이전트를 사용자 개인정보를 보호하는 방향으로 설계하여 , 대부분의 데이터 \n",
      "처리를 사용자의 디바이스 내에서 수행해서 개인정보 보호와 높은 성능을 동시에 유지\n",
      "∙Siri는 iPhone, iPad, Apple Watch, HomePod, Mac 등 다양한 Apple 기기에서 작동하며 , Apple ID를 \n",
      "통해 기기 간 통합된 경험을 제공 \n",
      "∙Apple 은 전용 칩(A15 Bionic, M4* 등)과 신경 엔진(Neural Engine) 을 통해 기계 학습 및 AI 작업을 \n",
      "최적화하여 Siri의 성능을 높이고 있으며 , 이용자가 빠르고 일관된 응답을 받을 수 있도록 하고자 함 \n",
      "* Apple이 2024년 5월 아이패드 신제품을 발표하면서 선보인 차세대 M4칩으로 역대 가장 빠른 신경 엔진(Neural Engine) 을 탑재\n",
      "£(수익 모델) Siri는 Apple 생태계와 통합되어 사용자 경험을 향상시켜 고 브랜드 가치를 \n",
      "높이며 , 또한, 개인정보  보호 원칙에 따라 개인 데이터 수집을 최소화하여 기기 판매와 \n",
      "Apple 생태계 에 대한 사용자  충성도를 강화\n",
      "∙Siri는 Apple 의 모든 기기와 통합되어 Apple 생태계 내 사용자 경험을 향상시키며 , 이를 통해 Apple 제품의 \n",
      "부가 가치를 높이는 기능으로 작용하여 기기 판매와 Apple 생태계 에 대한 사용자  충성도를 강화하는 데 기여\n",
      "[최종 답변]\n",
      "Apple Intelligence에 대한 정보는 다음과 같습니다:\n",
      "\n",
      "1. **소개 및 기능**:\n",
      "   - Apple은 2024년 6월 세계개발자대회(WWDC)에서 개인 인텔리전스 시스템인 Apple Intelligence를 소개했습니다. 이 시스템은 강력한 생성 모델을 기반으로 하여 iPhone, iPad, Mac의 핵심 기능으로 작용합니다.\n",
      "   - Apple Intelligence는 생성형 모델의 힘과 개인 맥락을 결합하여 사용자에게 유용하고 관련성 있는 인텔리전스를 제공합니다. 사용자는 이를 통해 글쓰기를 다듬고, 알림, 메일, 메시지를 요약하며, 보다 자연스럽고 강력한 Siri를 경험할 수 있습니다. 또한, 이미지에서 방해가 되는 물체를 제거하는 기능도 포함되어 있습니다.\n",
      "\n",
      "2. **개인정보 보호**:\n",
      "   - Apple은 고객 중심의 개인정보 보호 전략을 채택하고 있으며, Siri는 사용자 데이터 수집을 최소화합니다. Apple Intelligence는 온디바이스 학습 방식을 채택하여 사용자 데이터를 Apple 서버로 전송하지 않고 로컬에서 안전하게 처리합니다.\n",
      "\n",
      "3. **Siri와의 통합**:\n",
      "   - Apple Intelligence는 Siri와 통합되어 있으며, Siri는 음성 명령을 인식하고 다양한 작업을 수행하는 개인화된 AI 에이전트입니다. Siri는 일정 관리, 알람 설정, 스마트홈 제어 등을 지원하며, Apple 생태계 내에서 원활하게 작동합니다.\n",
      "\n",
      "4. **출시 및 CEO의 언급**:\n",
      "   - Apple Intelligence는 2024년 10월 28일에 공식 출시되었으며, CEO 팀 쿡(Tim Cook)은 이 시스템이 완전히 새로운 경험과 도구를 제공할 것이라고 언급했습니다. 그는 Apple의 생성형 모델이 개인 인텔리전스를 제공하면서도 개인정보를 보호할 수 있는 잠재력이 크다고 강조했습니다.\n",
      "\n",
      "이와 같은 정보는 Apple의 AI 및 머신러닝 혁신을 통해 사용자 경험을 향상시키고, 개인정보 보호를 중시하는 방향으로 발전하고 있음을 보여줍니다.\n"
     ]
    }
   ],
   "source": [
    "# 질의에 대한 답변을 스트리밍으로 출력 요청\n",
    "result = agent_executor.stream(\n",
    "    {\"input\": \"Apple Intelligence 관련된 정보를 문서에서 찾아주세요.\"}\n",
    ")\n",
    "\n",
    "for step in result:\n",
    "    agent_stream_parser.process_agent_steps(step)"
   ]
  },
  {
   "cell_type": "markdown",
   "metadata": {},
   "source": [
    "## 이전 대화 기억하기 \n",
    "\n",
    "- 이전의 대화내용을 기억하기 위해서는 `RunnableWithMessageHistory` 를 사용하여 `AgentExecutor` 를 감싸줌\n",
    "- [Ref] https://wikidocs.net/254682"
   ]
  },
  {
   "cell_type": "code",
   "execution_count": 17,
   "metadata": {},
   "outputs": [],
   "source": [
    "from langchain_community.chat_message_histories import ChatMessageHistory\n",
    "from langchain_core.runnables.history import RunnableWithMessageHistory"
   ]
  },
  {
   "cell_type": "code",
   "execution_count": 18,
   "metadata": {},
   "outputs": [],
   "source": [
    "# session_id 를 저장할 딕셔너리 생성\n",
    "store = {}\n",
    "\n",
    "\n",
    "# session_id 를 기반으로 세션 기록을 가져오는 함수\n",
    "def get_session_history(session_ids):\n",
    "    # session_id 가 store에 없는 경우\n",
    "    if session_ids not in store:\n",
    "        # 새로운 ChatMessageHistory 객체를 생성하여 store에 저장\n",
    "        store[session_ids] = ChatMessageHistory()\n",
    "    return store[session_ids]  # 해당 세션 ID에 대한 세션 기록 반환"
   ]
  },
  {
   "cell_type": "code",
   "execution_count": 19,
   "metadata": {},
   "outputs": [],
   "source": [
    "# 채팅 메시지 기록이 추가된 에이전트 생성\n",
    "agent_with_chat_history = RunnableWithMessageHistory(\n",
    "    agent_executor,\n",
    "    get_session_history,\n",
    "    input_messages_key=\"input\",\n",
    "    history_messages_key=\"chat_history\",\n",
    ")"
   ]
  },
  {
   "cell_type": "code",
   "execution_count": null,
   "metadata": {},
   "outputs": [
    {
     "name": "stdout",
     "output_type": "stream",
     "text": [
      "[도구 호출]\n",
      "Tool: pdf_search\n",
      "query: Apple Intelligence\n",
      "Log: \n",
      "Invoking: `pdf_search` with `{'query': 'Apple Intelligence'}`\n",
      "\n",
      "\n",
      "\n",
      "[관찰 내용]\n",
      "Observation: 부가 가치를 높이는 기능으로 작용하여 기기 판매와 Apple 생태계 에 대한 사용자  충성도를 강화하는 데 기여 \n",
      "∙Apple 의 고객 중심 개인정보  보호 전략에 따라 Siri는 사용자 데이터 수집을 최소화하며 , Google 이나 \n",
      "Amazon 과 달리 광고 모델을 통해 수익 창출을 하지 않음\n",
      "£(최신 동정) 2024년 6월 Apple 은 세계개발자대회 (WWDC) 에서 iPhone, iPad, Mac의 핵심 \n",
      "기능으로  강력한 생성 모델을 적용한 개인 인텔리전스 시스템인 Apple Intelligence 를 소개21)\n",
      "∙생성형 모델의 힘과 개인 맥락을 결합하여 사용자에게 유용하고 관련성 있는 인텔리전스를 제공 \n",
      "∙2024년 10월 28일, Apple 은 Apple Intelligence 를 공식 출시하 였고, 사용자들은 이를 활용하여 \n",
      "글쓰기를 다듬고 , 알림, 메일, 메시지를 요약하고 , 보다 자연스럽고 강력한 Siri를 경험하고 , Clean Up을 \n",
      "사용하여 이미지에서 방해가 되는 물체를 제거하는 등의 작업을 수행 가능22)  \n",
      "∙ CEO 팀 쿡(Tim Cook) 은 Apple Intelligence 가 완전히 새로운 경험과 도구를 제공하며 , 수년간의 AI 및 \n",
      "머신러닝 혁신을 바탕으로 Apple 의 생성형 모델을 기기의 핵심에 배치해 개인 인텔리전스를 제공하는 \n",
      "동시에 개인정보를 보호하여 사용자의 삶을 풍요롭게 할 수 있는 잠재력이 크다고 언급  \n",
      "21) Apple, Introducing Apple Intelligence, the personal intelligence system that puts powerful generative models at the core of \n",
      "iPhone, iPad, and Mac, 2024.6.10\n",
      "22) Apple, Apple Intelligence is available today on iPhone, iPad, and Mac, 2024.10.28\n",
      "\n",
      "SPRi AI Brief Special |  2024-12 월호\n",
      "93) Apple\n",
      "£(개요) Apple 은 시리(Siri)와 애플 인텔리전스 (Apple Intelligence )를 통해 개인정보 보호를 \n",
      "중시하는 AI 에이전트를 제공하며 , 음성 인식과 온디바이스 학습으로 사용자 경험을 강화20)\n",
      "∙Apple 은 AI와 머신러닝을 통한 AI 에이전트를 개발하고 있으며 , 대표적인 사례로 Siri가 있음\n",
      "∙Apple 의 Siri는 음성 명령을 인식하고 , 사용자 요구에 맞게 다양한 작업을 수행하는 개인화된 AI 에이전트로 , \n",
      "iPhone, iPad, Mac, Apple Watch  등 자사 제품에 내장되어 사용자 경험을 강화 \n",
      "∙최근 애플은 iPhone, iPad 및 Mac용 언어와 이미지를 이해하고 생성하고 , 개인 컨텍스트에서 일상적인 \n",
      "작업을 지원하는 기능을 제공하는 Apple Intelligence 를 출시\n",
      "∙Apple 의 AI 기술은 사용자의 개인정보 보호를 중시하며 온디바이스 학습 방식을 채택\n",
      "<애플 인텔리전스 (Apple Intelligence) > \n",
      "*출처: apple.com\n",
      "£(기능/기술) Siri는 Apple 생태계 내에서 일정 관리, 알람 설정, 스마트홈 제어 등을 \n",
      "지원하며 , Apple 은 사용자 개인정보 보호를 위해 Siri의 명령 처리를 온디바이스에서 수행\n",
      "∙Siri는 음성 기반의 AI 비서로 , 사용자의 일상 활동인 일정 관리, 알람, 문자 전송, 음악 재생, 날씨 조회, \n",
      "스마트홈 기기 제어 지원 \n",
      " - Siri는 Apple 의 생태계 내에서 원활하게 작동하여 , iPhone 에서 Siri로 설정한 알람이 Apple Watch 등과 연동\n",
      "∙Siri Shortcuts 는 탭 한 번으로 또는 Siri에게 요청하여 앱에서 작업을 완료하는 빠른 방법을 제공 \n",
      "20) Apple, Apple Intelligence, https://www.apple.com/apple-intelligence/\n",
      "\n",
      "SPRi AI Brief Special |  2024-12 월호\n",
      "24[참고 문헌]\n",
      "1.Alan Chan 외, Visibility into AI Agents, 2024\n",
      "2.Apple, Apple Intelligence, https://www.apple.com/apple-intelligence/\n",
      "3.Apple, Apple Intelligence is available today on iPhone, iPad, and Mac, 2024.10.28.\n",
      "4.Apple, Introducing Apple Intelligence, the personal intelligence system that puts powerful \n",
      "generative models at the core of iPhone, iPad, and Mac, 2024.6.10\n",
      "5.AWS, Amazon Polly, https://aws.amazon.com/ko/polly\n",
      "6.AWS, Amazon Q Developer announces support for inline chat to streamline the developer \n",
      "experience, 2024.10.29\n",
      "7.AWS, Amazon Transcribe, https://aws.amazon.com/transcribe\n",
      "8.AWS, Create a next generation chat assistant with Amazon Bedrock, Amazon Connect, \n",
      "Amazon Lex, LangChain, and WhatsApp, 2024.10.23\n",
      "9.AWS, Start building on AWS today, https://aws.amazon.com/?nc2=h_lg\n",
      "10.AWS, What is Amazon Rekognition?, \n",
      "https://docs.aws.amazon.com/rekognition/latest/dg/what-is.html\n",
      "\n",
      "SPRi AI Brief Special |  2024-12 월호\n",
      "10 - Shortcuts 앱을 사용하면 좋아하는 앱에서 여러 단계로 개인용 단축키를 만들 수 있으며 , 갤러리에서 \n",
      "수백 개의 예제를 시작하거나 드래그 앤 드롭하여 직접 만들 수 있음\n",
      "∙ Apple 은 개인정보 보호를 위해 Siri의 음성 인식과 명령 처리를 디바이스 내에서 수행할 수 있도록 \n",
      "설계하여 사용자 데이터가 Apple 서버로 전송되지 않고, 로컬에서 안전하게 처리\n",
      " - Apple 은 Siri와 같은 AI 에이전트를 사용자 개인정보를 보호하는 방향으로 설계하여 , 대부분의 데이터 \n",
      "처리를 사용자의 디바이스 내에서 수행해서 개인정보 보호와 높은 성능을 동시에 유지\n",
      "∙Siri는 iPhone, iPad, Apple Watch, HomePod, Mac 등 다양한 Apple 기기에서 작동하며 , Apple ID를 \n",
      "통해 기기 간 통합된 경험을 제공 \n",
      "∙Apple 은 전용 칩(A15 Bionic, M4* 등)과 신경 엔진(Neural Engine) 을 통해 기계 학습 및 AI 작업을 \n",
      "최적화하여 Siri의 성능을 높이고 있으며 , 이용자가 빠르고 일관된 응답을 받을 수 있도록 하고자 함 \n",
      "* Apple이 2024년 5월 아이패드 신제품을 발표하면서 선보인 차세대 M4칩으로 역대 가장 빠른 신경 엔진(Neural Engine) 을 탑재\n",
      "£(수익 모델) Siri는 Apple 생태계와 통합되어 사용자 경험을 향상시켜 고 브랜드 가치를 \n",
      "높이며 , 또한, 개인정보  보호 원칙에 따라 개인 데이터 수집을 최소화하여 기기 판매와 \n",
      "Apple 생태계 에 대한 사용자  충성도를 강화\n",
      "∙Siri는 Apple 의 모든 기기와 통합되어 Apple 생태계 내 사용자 경험을 향상시키며 , 이를 통해 Apple 제품의 \n",
      "부가 가치를 높이는 기능으로 작용하여 기기 판매와 Apple 생태계 에 대한 사용자  충성도를 강화하는 데 기여\n",
      "[최종 답변]\n",
      "Apple Intelligence에 대한 정보는 다음과 같습니다:\n",
      "\n",
      "1. **소개 및 기능**:\n",
      "   - Apple은 2024년 6월 세계개발자대회(WWDC)에서 개인 인텔리전스 시스템인 Apple Intelligence를 소개했습니다. 이 시스템은 강력한 생성 모델을 기반으로 하여 iPhone, iPad, Mac의 핵심 기능으로 작용합니다.\n",
      "   - Apple Intelligence는 생성형 모델의 힘과 개인 맥락을 결합하여 사용자에게 유용하고 관련성 있는 인텔리전스를 제공합니다. 사용자는 이를 통해 글쓰기를 다듬고, 알림, 메일, 메시지를 요약하며, 이미지에서 방해가 되는 물체를 제거하는 등의 작업을 수행할 수 있습니다.\n",
      "\n",
      "2. **개인정보 보호**:\n",
      "   - Apple은 고객 중심의 개인정보 보호 전략을 채택하고 있으며, Siri는 사용자 데이터 수집을 최소화합니다. Apple Intelligence는 온디바이스 학습 방식을 채택하여 사용자 데이터를 Apple 서버로 전송하지 않고 로컬에서 안전하게 처리합니다.\n",
      "\n",
      "3. **Siri와의 통합**:\n",
      "   - Apple Intelligence는 Siri와 통합되어 있으며, Siri는 음성 명령을 인식하고 사용자 요구에 맞게 다양한 작업을 수행하는 개인화된 AI 에이전트입니다. Siri는 일정 관리, 알람 설정, 스마트홈 제어 등을 지원하며, Apple 생태계 내에서 원활하게 작동합니다.\n",
      "\n",
      "4. **출시 및 기대**:\n",
      "   - Apple Intelligence는 2024년 10월 28일에 공식 출시되었으며, CEO 팀 쿡은 이 시스템이 완전히 새로운 경험과 도구를 제공할 것이라고 언급했습니다. Apple의 AI 및 머신러닝 혁신을 바탕으로 개인 인텔리전스를 제공하면서도 개인정보를 보호할 수 있는 잠재력이 크다고 강조했습니다.\n",
      "\n",
      "이와 같은 정보는 Apple의 AI 기술과 개인정보 보호에 대한 접근 방식을 잘 보여줍니다.\n"
     ]
    }
   ],
   "source": [
    "# 질의에 대한 답변을 스트리밍으로 출력 요청\n",
    "response = agent_with_chat_history.stream(\n",
    "    {\"input\": \"Apple Intelligence 관련된 정보를 문서에서 찾아주세요.\"},\n",
    "    # 세션 아이디는 지금은 하드코딩했지만 나중엔 uuid로 발전\n",
    "    config={\"configurable\": {\"session_id\": \"SKALA-001\"}},\n",
    ")\n",
    "\n",
    "# 출력 확인\n",
    "for step in response:\n",
    "    agent_stream_parser.process_agent_steps(step)"
   ]
  },
  {
   "cell_type": "code",
   "execution_count": null,
   "metadata": {},
   "outputs": [
    {
     "name": "stdout",
     "output_type": "stream",
     "text": [
      "[최종 답변]\n",
      "Here is the translation of the previous response into English:\n",
      "\n",
      "1. **Introduction and Features**:\n",
      "   - Apple introduced its personal intelligence system, Apple Intelligence, at the Worldwide Developers Conference (WWDC) in June 2024. This system operates as a core feature of the iPhone, iPad, and Mac, based on a powerful generative model.\n",
      "   - Apple Intelligence combines the power of generative models with personal context to provide users with useful and relevant intelligence. Users can utilize it to refine their writing, summarize notifications, emails, and messages, and remove distracting objects from images.\n",
      "\n",
      "2. **Privacy Protection**:\n",
      "   - Apple adopts a customer-centric privacy strategy, minimizing user data collection through Siri. Apple Intelligence employs on-device learning, processing user data securely on the local device without sending it to Apple servers.\n",
      "\n",
      "3. **Integration with Siri**:\n",
      "   - Apple Intelligence is integrated with Siri, which recognizes voice commands and performs various tasks tailored to user needs as a personalized AI agent. Siri supports scheduling, alarm setting, smart home control, and operates seamlessly within the Apple ecosystem.\n",
      "\n",
      "4. **Release and Expectations**:\n",
      "   - Apple Intelligence was officially released on October 28, 2024, and CEO Tim Cook mentioned that this system would provide a completely new experience and tools. He emphasized the significant potential to offer personal intelligence based on Apple’s innovations in AI and machine learning while protecting user privacy.\n",
      "\n",
      "This information illustrates Apple's approach to AI technology and privacy protection effectively.\n"
     ]
    }
   ],
   "source": [
    "response = agent_with_chat_history.stream(\n",
    "    {\"input\": \"이전의 답변을 영어로 번역해 주세요.\"},\n",
    "    # 세션 ID 동일하게 설정 \n",
    "    config={\"configurable\": {\"session_id\": \"SKALA-001\"}},\n",
    ")\n",
    "\n",
    "for step in response:\n",
    "    agent_stream_parser.process_agent_steps(step)"
   ]
  },
  {
   "cell_type": "markdown",
   "metadata": {},
   "source": [
    "------\n",
    "## Pipeline \n",
    "\n",
    "위에서 작성된 단계별 코드 취합/정리"
   ]
  },
  {
   "cell_type": "code",
   "execution_count": 22,
   "metadata": {},
   "outputs": [],
   "source": [
    "from langchain_core.prompts import ChatPromptTemplate\n",
    "from langchain_community.tools.tavily_search import TavilySearchResults\n",
    "from langchain_community.vectorstores import FAISS\n",
    "from langchain_community.chat_message_histories import ChatMessageHistory\n",
    "from langchain.text_splitter import RecursiveCharacterTextSplitter\n",
    "from langchain_openai import OpenAIEmbeddings, ChatOpenAI\n",
    "from langchain.document_loaders import PyMuPDFLoader\n",
    "from langchain.tools.retriever import create_retriever_tool\n",
    "from langchain.agents import create_tool_calling_agent, AgentExecutor\n",
    "from langchain_core.runnables.history import RunnableWithMessageHistory\n",
    "from langchain_teddynote.messages import AgentStreamParser"
   ]
  },
  {
   "cell_type": "code",
   "execution_count": 23,
   "metadata": {},
   "outputs": [],
   "source": [
    "file_path = \"data/SPRi AI Brief_Special_AI Agent_241209_F.pdf\""
   ]
  },
  {
   "cell_type": "code",
   "execution_count": 24,
   "metadata": {},
   "outputs": [],
   "source": [
    "########## 1. 도구 정의 ##########\n",
    "\n",
    "### 1-1. Search 도구 ###\n",
    "search = TavilySearchResults(k=6)\n",
    "\n",
    "### 1-2. PDF 문서 검색 도구 (Retriever) ###\n",
    "loader = PyMuPDFLoader(file_path)\n",
    "text_splitter = RecursiveCharacterTextSplitter(chunk_size=1000, chunk_overlap=100)\n",
    "\n",
    "split_docs = loader.load_and_split(text_splitter)\n",
    "vector = FAISS.from_documents(split_docs, OpenAIEmbeddings())\n",
    "\n",
    "retriever = vector.as_retriever()\n",
    "retriever_tool = create_retriever_tool(\n",
    "    retriever,\n",
    "    name=\"pdf_search\",\n",
    "    description=\"use this tool to search information from the PDF document\",\n",
    ")\n",
    "\n",
    "### 1-3. tools 리스트에 도구 목록 추가 ###\n",
    "tools = [search, retriever_tool]\n",
    "\n",
    "########## 2. LLM 정의 ##########\n",
    "llm = ChatOpenAI(model=\"gpt-4o\", temperature=0)\n",
    "\n",
    "########## 3. Prompt 정의 ##########\n",
    "prompt = ChatPromptTemplate.from_messages(\n",
    "    [\n",
    "        (\n",
    "            \"system\",\n",
    "            \"You are a helpful assistant. \"\n",
    "            \"Make sure to use the `pdf_search` tool for searching information from the PDF document. \"\n",
    "            \"If you can't find the information from the PDF document, use the `search` tool for searching information from the web.\",\n",
    "        ),\n",
    "        (\"placeholder\", \"{chat_history}\"),\n",
    "        (\"human\", \"{input}\"),\n",
    "        (\"placeholder\", \"{agent_scratchpad}\"),\n",
    "    ]\n",
    ")\n",
    "\n",
    "########## 4. Agent 정의 ##########\n",
    "agent = create_tool_calling_agent(llm, tools, prompt)\n",
    "\n",
    "########## 5. AgentExecutor 정의 ##########\n",
    "agent_executor = AgentExecutor(agent=agent, tools=tools, verbose=False)\n",
    "\n",
    "########## 6. 메모리 추가 ##########\n",
    "store = {}\n",
    "\n",
    "\n",
    "# session_id 를 기반으로 세션 기록을 가져오는 함수\n",
    "def get_session_history(session_ids):\n",
    "    if session_ids not in store:\n",
    "        store[session_ids] = ChatMessageHistory()\n",
    "    return store[session_ids]\n",
    "\n",
    "\n",
    "# 채팅 메시지 기록이 추가된 에이전트\n",
    "agent_with_chat_history = RunnableWithMessageHistory(\n",
    "    agent_executor,\n",
    "    get_session_history,\n",
    "    input_messages_key=\"input\",\n",
    "    history_messages_key=\"chat_history\",\n",
    ")\n",
    "\n",
    "########## 7. Agent 파서 정의 ##########\n",
    "agent_stream_parser = AgentStreamParser()"
   ]
  },
  {
   "cell_type": "markdown",
   "metadata": {},
   "source": [
    "아래의 각 실행 내용은 LangSmith TRACE 통해 상세 확인하기"
   ]
  },
  {
   "cell_type": "code",
   "execution_count": 25,
   "metadata": {},
   "outputs": [
    {
     "name": "stdout",
     "output_type": "stream",
     "text": [
      "[도구 호출]\n",
      "Tool: pdf_search\n",
      "query: AI Agent 기술적 문제\n",
      "Log: \n",
      "Invoking: `pdf_search` with `{'query': 'AI Agent 기술적 문제'}`\n",
      "\n",
      "\n",
      "\n",
      "[관찰 내용]\n",
      "Observation: £ AI 에이전트는 기술적 혁신과 사회적 변화를 이끄는 주요 요소로 자리잡으며, 기업의 업무와 \n",
      "개인의 삶에 깊이 통합된 형태로 발전하면서, 의사 결정에 혁신적인 변화를 가져올 가능성이 높음52) \n",
      "∙(단기적) AI 에이전트는 향후 몇 년간 고객 지원, 데이터 분석, 대화형 인터페이스 등 상용화 가능성이 높은 \n",
      "분야에서 빠르게 도입될 것으로 예상\n",
      " - AI 에이전트가 고객 서비스 자동화, 맞춤형 추천, 실시간 데이터 분석을 통해 효율성을 높이며, 고객 경험 \n",
      "강화와 비용 절감의 핵심 도구가 될 것으로 전망됨 \n",
      "50) CNN, Uber self-driving car test driver pleads guilty to endangerment in pedestrian death case, 2023.7.29\n",
      "51) Gartner, Gartner Top 10 Strategic Technology Trends for 2025, 2024.10.21\n",
      "52) World Economic Forum, What is an AI agent and what will they do? Experts explain, 2024.7.24\n",
      "\n",
      "대해 AI 에이전트(AI agents 또는 agentic systems)라고 지칭\n",
      "1) Russell, S. J., & Norvig, P.  Artificial Intelligence: A Modern Approach (4th ed.). Pearson. 2021\n",
      "2) Alan Chan 외, Visibility into AI Agents, 2024\n",
      "\n",
      "∙AI 에이전트들이 더욱 정교한 상호작용과 맥락 인식을 가능하게 하여 고객 서비스, 의료, 금융 분야에서의 \n",
      "활용이 증가하고, 다중 에이전트 시스템의 협력이 AI 시장 성장으로 주요 요인으로 작용 \n",
      "∙AI 에이전트는 주로 NLP, 머신러닝, 컴퓨터 비전 등을 포함하며, 완전 자율부터 반자율 형태로 다양한 업무 \n",
      "자동화와 데이터 분석을 지원하는 소프트웨어로 사용\n",
      "5) Salesforce, What Are AI Agents? A Complete Guide, https://www.salesforce.com/agentforce/what-are-ai-agents/#what\n",
      "6) IBM, What are AI agents?, https://www.ibm.com/think/topics/ai-agents\n",
      "7) https://www.marketsandmarkets.com/Market-Reports/ai-agents-market-15761548.html\n",
      "\n",
      "SPRi AI Brief Special |  2024-12월호\n",
      "20\n",
      "3. AI 에이전트 관련 이슈 및 전망\n",
      "1) 주요 이슈\n",
      "£ (기술적 문제) 데이터 편향과 정확성 문제\n",
      "∙AI 에이전트는 대량의 데이터를 통해 학습하지만, 데이터가 편향적일 경우 AI의 판단에도 왜곡이 발생할 수 있음\n",
      " - 특히 대화형 AI 에이전트나 추천 시스템에서는 편향된 결과로 인해 잘못된 정보가 제공될 위험 존재\n",
      "∙AI 에이전트의 사례 중 하나인 챗봇은 사용자 인터페이스 모듈과 여러 내부 구성요소로 이루어져 있으며, \n",
      "각 구성 요소는 여러 편향의 원인이 있을 수 있음45) \n",
      " - (챗봇 설계) 개발팀의 개인적 편견은 개인적 경험, 가족 양육, 문화, 교육 등에 의해 영향을 받을 수 있으며, \n",
      "인터페이스 설계에서 챗봇의 속성이 고정관념과 편견이 포함될 수 있고, 내부 구성요소의 설계에서 제한된 \n",
      "규칙과 미리 정의된 응답에서 편향이 발생할 가능성 존재\n",
      " - (사용자 상호작용) 챗봇이 배포된 후 사용자와 상호작용 과정에서 편향이 강화될 수 있으며, 사용자가 \n",
      "개발팀의 일원이 되어 데이터 주석에 기여함으로써 편향이 악순환으로 이어질 수 있음 \n",
      " - (사회 배포) 편향은 챗봇이 배포되는 환경에서 발생할 수 있으며, 예를 들어, 사람들의 챗봇에 대한 태도와 \n",
      "챗봇이 사용되는 방식은 편향으로 이어질 수 있음 \n",
      "<챗봇 시스템에서 편향의 원천>  \n",
      "* 출처: Jintang Xue 외, Bias and Fairness in Chatbots: An Overview, 2023.12\n",
      "45) Jintang Xue 외, Bias and Fairness in Chatbots: An Overview, 2023.12\n",
      "[최종 답변]\n",
      "AI 에이전트의 기술적 문제로는 데이터 편향과 정확성 문제가 있습니다. AI 에이전트는 대량의 데이터를 통해 학습하지만, 데이터가 편향적일 경우 AI의 판단에도 왜곡이 발생할 수 있습니다. 특히 대화형 AI 에이전트나 추천 시스템에서는 편향된 결과로 인해 잘못된 정보가 제공될 위험이 존재합니다. 예를 들어, 챗봇의 경우 사용자 인터페이스 모듈과 여러 내부 구성요소로 이루어져 있으며, 각 구성 요소는 여러 편향의 원인이 될 수 있습니다. 개발팀의 개인적 편견, 사용자와의 상호작용, 그리고 사회적 배포 환경에서의 편향이 이러한 문제를 악화시킬 수 있습니다.\n"
     ]
    }
   ],
   "source": [
    "########## 8. 에이전트 실행 ##########\n",
    "\n",
    "response = agent_with_chat_history.stream(\n",
    "    {\"input\": \"AI Agent의 기술적 문제를 문서에서 찾아주세요.\"},\n",
    "    config={\"configurable\": {\"session_id\": \"SKALA-002\"}},\n",
    ")\n",
    "\n",
    "for step in response:\n",
    "    agent_stream_parser.process_agent_steps(step)"
   ]
  },
  {
   "cell_type": "code",
   "execution_count": 26,
   "metadata": {},
   "outputs": [
    {
     "name": "stdout",
     "output_type": "stream",
     "text": [
      "[최종 답변]\n",
      "AI 에이전트의 기술적 문제로는 데이터 편향과 정확성 문제가 있습니다. 데이터가 편향적일 경우 AI의 판단에도 왜곡이 발생할 수 있으며, 이는 잘못된 정보 제공으로 이어질 수 있습니다. 특히 챗봇과 같은 대화형 AI에서는 사용자 인터페이스와 내부 구성요소의 편향이 문제를 악화시킬 수 있습니다.\n"
     ]
    }
   ],
   "source": [
    "########## 8. 에이전트 실행 ##########\n",
    "\n",
    "response = agent_with_chat_history.stream(\n",
    "    {\"input\": \"이전의 답변을 핵심 내용이 누락되지 않도록 요약해 주세요.\"},\n",
    "    config={\"configurable\": {\"session_id\": \"SKALA-002\"}},\n",
    ")\n",
    "\n",
    "for step in response:\n",
    "    agent_stream_parser.process_agent_steps(step)"
   ]
  },
  {
   "cell_type": "code",
   "execution_count": 27,
   "metadata": {},
   "outputs": [
    {
     "name": "stdout",
     "output_type": "stream",
     "text": [
      "[도구 호출]\n",
      "Tool: tavily_search_results_json\n",
      "query: 2024 프로야구 플레이오프 진출 팀\n",
      "Log: \n",
      "Invoking: `tavily_search_results_json` with `{'query': '2024 프로야구 플레이오프 진출 팀'}`\n",
      "\n",
      "\n",
      "\n",
      "[관찰 내용]\n",
      "Observation: [{'url': 'https://namu.wiki/w/KBO%20%ED%94%8C%EB%A0%88%EC%9D%B4%EC%98%A4%ED%94%84/2024%EB%85%84', 'content': '... 한국시리즈가 마지막이다. 나눔 올스타 팀 중 LG 트윈스가 플레이오프 진출을, KIA 타이거즈가 한국시리즈 직행을 하면서 앞으로의 포스트시즌 경기 결과에 상관없이'}, {'url': 'https://namu.wiki/w/2024%20%EC%8B%A0%ED%95%9C%20SOL%20Bank%20KBO%20%ED%8F%AC%EC%8A%A4%ED%8A%B8%EC%8B%9C%EC%A6%8C', 'content': '포스트시즌 진출 팀[11][편집]. 1위 - KIA 타이거즈. 진출 확정 - 9월 6일 VS 키움 승리 ... 오랫동안 KBO 리그에서 활약했던 스타들의 은퇴 소식이 올해도 가을야구 기간에'}, {'url': 'https://ko.wikipedia.org/wiki/2024%EB%85%84_KBO_%ED%8F%AC%EC%8A%A4%ED%8A%B8%EC%8B%9C%EC%A6%8C', 'content': '목차\\n\\n2024년 KBO 포스트시즌\\n\\n\\n\\n2024 신한 SOL Bank KBO 포스트시즌은 2024년 10월 2일부터 10월 28일까지 진행됐다. 이번 포스트시즌 역시 한국시리즈 5차전 장소는 정규시즌 우승팀의 홈구장인 광주기아챔피언스필드에서 치러졌다.\\n\\n진출팀\\n\\n2024년 포스트시즌에 진출한 팀은 KIA 타이거즈, 삼성 라이온즈, LG 트윈스, 두산 베어스, kt 위즈다.\\n\\n대진표 [...] 황재균이 볼넷으로 출루해 무사 만루 찬스를 잡았다. 하지만 kt는 무사 만루 찬스에서 1사 후 배정대의 내야 땅볼 타점으로 1점을 내는데 그쳤다. 7회초 위기를 넘긴 LG는 7회말 공격에서 1사 후 안타로 출루한 박해민이 도루를 시도했고, 장성우가 또다시 송구 실책을 범해 3루로 이동한 박해민은 이어진 문성주의 적시타로 득점에 성공해 쐐기를 박았다. LG는 7회초 소방수 역할을 해낸 손주영이 8회까지 책임졌고, 마무리로 올라온 에르난데스가 9회초 선두타자 볼넷을 내줬으나 강백호를 삼진 처리한 뒤 황재균을 병살타로 돌려세우며 5차전까지 가는 치열한 접전 끝에 정규시즌 3위 LG가 3승 2패로 kt의 돌풍을 잠재우고 플레이오프에 진출했다. [...] 플레이오프\\n\\n출장자 명단\\n\\n팀 | 선수 명단\\n삼성 라이온즈 | 감독 -박진만코치 -정대현,손주인,다치바나,배영섭,강영식,이진영,박찬도,강명구,채상병투수 -이상민,원태인,이승현(우),김태훈,김윤수,이승민,레예스,임창민,이호성,최채흥,이승현(좌),황동재,김재윤,송은범포수 -김민수,이병헌,강민호내야수 -디아즈,이재현,안주형,류지혁,김영웅,전병우,김지찬,박병호외야수 -구자욱,이성규,윤정빈,김헌곤,김성윤\\nLG 트윈스 | 감독 -염경엽코치 -이호준,김일경,박경완,정수성,박용근,장진용,김재율,모창민,김광삼투수 -김유영,임찬규,함덕주,김대현,정우영,백승현,에르난데스,최원태,손주영,엔스,이종준,김진성,이지강,유영찬포수 -박동원,허도환,김범석,이주헌내야수 -문보경,신민재,구본혁,이영빈,오지환,오스틴,김대원외야수 -문성주,박해민,김현수,홍창기,최승민\\n경기 기록'}, {'url': 'https://m.blog.naver.com/qhadldhaus98/223605904423', 'content': '한국시리즈: 10월 21일~10월 29일 (필요 시)\\n\\n경기 시간: 주중 18시 30분, 주말 및 공휴일 14시.\\n\\n출처 KBO\\n\\n2024 KBO리그 한국 프로 야구 순위\\n\\n야구 골수팬들은 당연히\\n\\n팀 순위가 머리 속에 있을 수 있지만\\n\\n라이트 팬들은 상위권이랑\\n\\n내가 응원하는 팀만 알지 어느팀이 몇위였더라?\\n\\n잘 모르실 수 있습니다.\\n\\n일단 2024 프로야구 순위를 먼저 적어보겠습니다.\\n\\n\\u200b\\n\\n1.KIA 타이거즈\\n\\n2.삼성 라이온즈\\n\\n3.LG 트윈스\\n\\n4.두산 베어스\\n\\n5.KT 위즈\\n\\n6.SSG 랜더스\\n\\n7.롯데 자이언츠\\n\\n8.한화 이글스\\n\\n9.NC 다이노스\\n\\n10.키움 히어로즈\\n\\n\\u200b\\n\\n올 해 프로야구 포스트시즌에 진출한 팀들은\\n\\nKIA 타이거즈 삼성 라이온즈 LG 트윈스\\n\\n두산 베어스 KT위즈입니다.\\n\\n출처 KBO\\n\\n출처 두산베어스\\n\\n출처 두산베어스\\n\\n출처 KT위즈\\n\\n출처 KT위즈\\n\\n2024 프로야구 일정 와일드카드 결정전\\n\\n2024 프로야구 포스트시즌 일정의 그 첫 일정은 [...] 블로그\\n\\n카테고리 이동\\n\\n\\n\\n\\n♬ 골프치고 여행가고 축구보는 보미\\n\\n2024 KBO 한국 프로야구 포스트시즌 일정 순위 예매 (와일드카드 준플레이오프 플레이오프 한국시리즈)\\n\\n2024. 10. 3. 22:31\\n\\n2024 KBO 한국 프로야구 포스트시즌 일정 순위 예매 (와일드카드 준플레이오프 플레이오프 한국시리즈)\\n\\n\\u200b\\n\\n2024 KBO리그 한국 프로야구\\n\\n가을야구가 드디어 시작되었습니다.\\n\\n야구 팬들이 기다리던 한국 프로 야구 포스트시즌은\\n\\n10월 2일 와일드카드 결정전을 시작으로\\n\\n본격적인 경쟁이 시작되었습니다.\\n\\n정규 시즌 내내 치열한 승부 끝에 올라온 팀들이\\n\\n한국시리즈 우승을 향해 도전합니다.\\n\\n\\u200b\\n\\n\\u200b\\n\\n변경된 일정\\n\\n플레이오프 일정 변경\\n\\n2024 KBO 포스트시즌 일정\\n\\n와일드카드 결정전: KT, 두산 2-0으로 승리 (KT 준PO 진출)\\n\\n준플레이오프: 10월 5일~10월 11일 (필요 시)\\n\\n플레이오프: 10월 13일~10월 20일 (필요 시) [...] 1차전: 10월 5일 KT 3:2 LG\\n\\n2차전: 10월 6일  KT 2:7 LG\\n\\n3차전: 10월 8일 KT 5:6 LG\\n\\n4차전: 10월 9일 KT 6:5 LG\\n\\n5차전: 10월 11일 KT 1:4 LG\\n\\n\\u200b\\n\\nLG 트윈스는 11일 서울 잠실구장에서 열린\\n\\n2024 신한 SOL뱅크 KBO 포스트시즌 준플레이오프 5차전에서\\n\\nKT 위즈를 4-1로 꺾으며 승리했습니다.\\n\\n지난해 한국시리즈에서 KT를 상대로 4-1로 승리하며\\n\\n29년 만에 우승을 차지했던 LG는\\n\\n올해 가을야구에서도 다시 한 번\\n\\nKT를 제압하는 데 성공했습니다.\\n\\nLG는 하루 휴식을 취한 후,\\n\\n13일부터 정규시즌 2위인 삼성 라이온즈와의\\n\\n플레이오프(PO)를 시작할 예정입니다.\\n\\n일정변경\\n\\n2024 프로야구 일정 KBO 플레이오프\\n\\n준플레이오프에서 승리한 팀(LG)은 정규시즌 2위\\n\\n삼성 라이온즈와 만나게 됩니다.\\n\\n마찬가지로 5전3승제이며 삼성 홈구장인\\n\\n삼성 라이온즈파크에서 열립니다.'}, {'url': 'https://aldalsuin.tistory.com/entry/2024-%ED%94%84%EB%A1%9C%EC%95%BC%EA%B5%AC-%ED%94%8C%EB%A0%88%EC%9D%B4%EC%98%A4%ED%94%84-9%EA%B0%9C-%EA%B5%AC%EB%8B%A8%EC%9D%98-%EC%B9%98%EC%97%B4%ED%95%9C-%EC%9A%B0%EC%8A%B9-%EA%B2%BD%EC%9F%81', 'content': '2024 프로야구 플레이오프에 진출한 팀들의 면면을 살펴보면, 각 팀마다 독특한 강점과 전략이 돋보입니다. 정규시즌 1위 팀부터 와일드카드 진출팀까지,'}]\n",
      "[최종 답변]\n",
      "2024년 프로야구 플레이오프에 진출한 5개 팀은 KIA 타이거즈, 삼성 라이온즈, LG 트윈스, 두산 베어스, KT 위즈입니다.\n"
     ]
    }
   ],
   "source": [
    "########## 8. 에이전트 실행 ##########\n",
    "\n",
    "response = agent_with_chat_history.stream(\n",
    "    {\"input\": \"2024년 프로야구 플레이오프 진출 5개팀을 검색해서 알려주세요.\"},\n",
    "    config={\"configurable\": {\"session_id\": \"SKALA-002\"}},\n",
    ")\n",
    "\n",
    "for step in response:\n",
    "    agent_stream_parser.process_agent_steps(step)"
   ]
  },
  {
   "cell_type": "code",
   "execution_count": 28,
   "metadata": {},
   "outputs": [
    {
     "name": "stdout",
     "output_type": "stream",
     "text": [
      "[최종 답변]\n",
      "2024년 프로야구 플레이오프 진출 팀이 확정되었습니다! 🎉⚾️ 올해의 주인공은 KIA 타이거즈, 삼성 라이온즈, LG 트윈스, 두산 베어스, 그리고 KT 위즈입니다! 모두 응원하는 팀의 선전을 기대해 봅시다! 🙌🔥 #프로야구 #플레이오프 #KIA타이거즈 #삼성라이온즈 #LG트윈스 #두산베어스 #KT위즈\n"
     ]
    }
   ],
   "source": [
    "########## 8. 에이전트 실행 ##########\n",
    "\n",
    "response = agent_with_chat_history.stream(\n",
    "    {\"input\": \"이전의 답변을 SNS 게시글 형태로 작성하세요.\"},\n",
    "    config={\"configurable\": {\"session_id\": \"SKALA-002\"}},\n",
    ")\n",
    "\n",
    "for step in response:\n",
    "    agent_stream_parser.process_agent_steps(step)"
   ]
  },
  {
   "cell_type": "code",
   "execution_count": 29,
   "metadata": {},
   "outputs": [
    {
     "name": "stdout",
     "output_type": "stream",
     "text": [
      "[도구 호출]\n",
      "Tool: tavily_search_results_json\n",
      "query: 2024 KBO Korean Series schedule\n",
      "Log: \n",
      "Invoking: `tavily_search_results_json` with `{'query': '2024 KBO Korean Series schedule'}`\n",
      "\n",
      "\n",
      "\n",
      "[관찰 내용]\n",
      "Observation: [{'url': 'https://en.wikipedia.org/wiki/2024_KBO_League_season', 'content': 'Game | Date | Score | Venue | Time | Duration | Attendance\\n1 | October 13, 2024 | LG Twins – 4,Samsung Lions – 10 | Daegu Samsung Lions Park | 14:00 KST | 3:15 | 23,550\\n2 | October 15, 2024 | LG Twins – 5,Samsung Lions – 10 | 18:30 KST | 3:20 | 23,550\\n3 | October 17, 2024 | Samsung Lions – 0,LG Twins – 1 | Jamsil Baseball Stadium | 18:30 KST | 2:48 | 23,750\\n4 | October 19, 2024 | Samsung Lions – 1, LG Twins – 0 | 14:00 KST | 2:54 | 23,750\\n2024 Korean Series\\n\\nFinals – best of 7 series. [...] Game | Date | Score | Venue | Time | Duration | Attendance\\n1 | October 5, 2024 | KT Wiz – 3, LG Twins – 2 | Jamsil Baseball Stadium | 14:00 KST | 2:36 | 23,750\\n2 | October 6, 2024 | KT Wiz – 2,LG Twins – 7 | 14:00 KST | 3:17 | 23,750\\n3 | October 8, 2024 | LG Twins – 6, KT Wiz – 5 | Suwon KT Wiz Park | 18:30 KST | 3:07 | 17,600\\n4 | October 9, 2024 | LG Twins – 5,KT Wiz – 6 | 14:00 KST | 4:10 | 17,600 [...] Game | Date | Score | Venue | Time | Duration | Attendance\\n1 | October 21–23, 2024 | Samsung Lions – 1,Kia Tigers – 5 | Gwangju-Kia Champions Field | 18:30 KST, 16:00 KST | 3:16 (1:48, 1:28) | 19,300\\n2 | October 23, 2024 | Samsung Lions – 3,Kia Tigers – 8 | 18:30 KST | 3:08 | 19,300\\n3 | October 25, 2024 | Kia Tigers – 2,Samsung Lions – 4 | Daegu Samsung Lions Park | 18:30 KST | 3:09 | 23,550\\n4 | October 26, 2024 | Kia Tigers – 9, Samsung Lions – 2 | 14:00 KST | 3:17 | 23,550'}, {'url': 'https://en.wikipedia.org/wiki/2024_Korean_Series', 'content': 'Game | Date | Score | Location | Time | Attendance\\n1 | October 21–23, 2024 | Samsung Lions – 1,Kia Tigers – 5 | Gwangju-Kia Champions Field | 3:16 (1:48, 1:28) | 19,300[4]\\n2 | October 23, 2024 | Samsung Lions – 3,Kia Tigers – 8 | Gwangju-Kia Champions Field | 3:08 | 19,300[5]\\n3 | October 25, 2024 | Kia Tigers – 2,Samsung Lions – 4 | Daegu Samsung Lions Park | 3:09 | 23,550[6]\\n4 | October 26, 2024 | Kia Tigers – 9, Samsung Lions – 2 | Daegu Samsung Lions Park | 3:17 | 23,550[7] [...] 2024 Korean Series\\n2024 Shinhan SOL Bank Korean Series\\nTeam (Wins)Manager(s)SeasonKia Tigers(4)Lee Bum-ho87–55–2(.613)Samsung Lions(1)Park Jin-man78–64–2(.549) | Team (Wins) | Manager(s) | Season | Kia Tigers(4) | Lee Bum-ho | 87–55–2(.613) | Samsung Lions(1) | Park Jin-man | 78–64–2(.549)\\nTeam (Wins) | Manager(s) | Season\\nKia Tigers(4) | Lee Bum-ho | 87–55–2(.613)\\nSamsung Lions(1) | Park Jin-man | 78–64–2(.549)\\nDates | October 21 – October 28 [...] The 2024 Korean Series (known as the 2024 Shinhan SOL Bank Korean Series for sponsorship reasons) was a championship series of the 2024 KBO League season between the Kia Tigers and the Samsung Lions.[1][2][unreliable source?] The Tigers and Lions had the two best win-loss records in the 2024 KBO League season.[3] The Kia Tigers are the 2024 regular season and Korean Series champions.'}, {'url': 'https://mykbostats.com/', 'content': 'Hanwha Eagles 4:00am Busan-Sajik Lotte GiantsKia Tigers 4:00am Seoul-Jamsil Doosan BearsKT Wiz 4:00am Changwon NC DinosLG Twins 4:00am Daegu Samsung LionsKiwoom Heroes 4:00am Incheon-Munhak SSG Landers\\nKBO 2024 Standings\\n| Rank / Team | W | L | D | PCT | GB |\\n| --- | --- | --- | --- | --- | --- |\\n| 1 Kia Tigers | 87 | 55 | 2 | .613 | 0.0 |\\n| 2 Samsung Lions | 78 | 64 | 2 | .549 | 9.0 |\\n| 3 LG Twins | 76 | 66 | 2 | .535 | 11.0 |\\n| 4 Doosan Bears | 74 | 68 | 2 | .521 | 13.0 | [...] | 5 KT Wiz | 72 | 70 | 2 | .507 | 15.0 |\\n| 6 SSG Landers | 72 | 70 | 2 | .507 | 15.0 |\\n| 7 Lotte Giants | 66 | 74 | 4 | .471 | 20.0 |\\n| 8 Hanwha Eagles | 66 | 76 | 2 | .465 | 21.0 |\\n| 9 NC Dinos | 61 | 81 | 2 | .430 | 26.0 |\\n| 10 Kiwoom Heroes | 58 | 86 | 0 | .403 | 30.0 |\\nWin Matrix\\nUpdated Dec 29, 2024 3:00pm'}, {'url': 'https://www.mk.co.kr/en/sports/11094817', 'content': 'The Korea Baseball Organization (KBO) confirmed and announced the schedule for the remaining games of the 2024 Shinhan SOL Bank KBO regular season on the 17th.'}]\n",
      "[최종 답변]\n",
      "2024년 프로야구 플레이오프 진출 팀이 확정되었습니다! 🎉⚾️ 올해의 주인공은 KIA 타이거즈, 삼성 라이온즈, LG 트윈스, 두산 베어스, 그리고 KT 위즈입니다! 모두 응원하는 팀의 선전을 기대해 봅시다! 🙌🔥\n",
      "\n",
      "한국 시리즈 일정도 함께 확인하세요:\n",
      "- 1차전: 10월 21일, KIA 타이거즈 vs 삼성 라이온즈, 광주-KIA 챔피언스 필드\n",
      "- 2차전: 10월 23일, KIA 타이거즈 vs 삼성 라이온즈, 광주-KIA 챔피언스 필드\n",
      "- 3차전: 10월 25일, 삼성 라이온즈 vs KIA 타이거즈, 대구 삼성 라이온즈 파크\n",
      "- 4차전: 10월 26일, 삼성 라이온즈 vs KIA 타이거즈, 대구 삼성 라이온즈 파크\n",
      "\n",
      "#프로야구 #플레이오프 #한국시리즈 #KIA타이거즈 #삼성라이온즈 #LG트윈스 #두산베어스 #KT위즈\n"
     ]
    }
   ],
   "source": [
    "########## 8. 에이전트 실행 ##########\n",
    "\n",
    "response = agent_with_chat_history.stream(\n",
    "    {\"input\": \"이전의 답변에 한국 시리즈 일정을 추가해 주세요.\"},\n",
    "    config={\"configurable\": {\"session_id\": \"SKALA-002\"}},\n",
    ")\n",
    "\n",
    "for step in response:\n",
    "    agent_stream_parser.process_agent_steps(step)"
   ]
  },
  {
   "cell_type": "markdown",
   "metadata": {},
   "source": [
    "-----\n",
    "** End of Documents **"
   ]
  }
 ],
 "metadata": {
  "kernelspec": {
   "display_name": "langchain-kr-t0JhnSEV-py3.11",
   "language": "python",
   "name": "python3"
  },
  "language_info": {
   "codemirror_mode": {
    "name": "ipython",
    "version": 3
   },
   "file_extension": ".py",
   "mimetype": "text/x-python",
   "name": "python",
   "nbconvert_exporter": "python",
   "pygments_lexer": "ipython3",
   "version": "3.11.9"
  }
 },
 "nbformat": 4,
 "nbformat_minor": 2
}
