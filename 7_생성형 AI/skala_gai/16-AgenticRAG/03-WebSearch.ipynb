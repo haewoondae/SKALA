{
 "cells": [
  {
   "cell_type": "code",
   "execution_count": 1,
   "metadata": {},
   "outputs": [],
   "source": [
    "# !pip install langchain-opentutorial"
   ]
  },
  {
   "cell_type": "code",
   "execution_count": 1,
   "metadata": {},
   "outputs": [
    {
     "data": {
      "text/plain": [
       "True"
      ]
     },
     "execution_count": 1,
     "metadata": {},
     "output_type": "execute_result"
    }
   ],
   "source": [
    "from dotenv import load_dotenv\n",
    "\n",
    "load_dotenv()"
   ]
  },
  {
   "cell_type": "code",
   "execution_count": 2,
   "metadata": {},
   "outputs": [
    {
     "name": "stdout",
     "output_type": "stream",
     "text": [
      "LangSmith 추적을 시작합니다.\n",
      "[프로젝트명]\n",
      "CH15-Agentic-RAG\n"
     ]
    }
   ],
   "source": [
    "from langchain_teddynote import logging\n",
    "\n",
    "logging.langsmith(\"CH15-Agentic-RAG\")"
   ]
  },
  {
   "cell_type": "markdown",
   "metadata": {},
   "source": [
    "# NaiveRAG + RelevanceCheck + WebSearch\n",
    "\n",
    "** 실습 자료 **\n",
    "\n",
    "소프트웨어정책연구소(SPRi), [AI Brief 스페셜] AI 에이전트 동향\n",
    "\n",
    "- 저자: 유재흥(AI정책연구실 책임연구원), 이해수(AI정책연구실 선임연구원)\n",
    "- 발생: 2024.12.10\n",
    "- 링크: https://spri.kr/posts/view/23798?code=AI-Brief&s_year=&data_page=1\n",
    "- 파일명: `SPRi AI Brief_Special_AI Agent_241209_F`\n",
    "\n",
    "(실습 준비)\n",
    "- 작업 폴더 하위에 `data` 폴더 생성 \n",
    "- 링크에서 다운로드 받은 파일을 `data` 폴더에 업로드 "
   ]
  },
  {
   "cell_type": "code",
   "execution_count": 3,
   "metadata": {},
   "outputs": [],
   "source": [
    "file_path = [\"data/SPRi AI Brief_Special_AI Agent_241209_F.pdf\"]"
   ]
  },
  {
   "cell_type": "markdown",
   "metadata": {},
   "source": [
    "### Retrieval Chain"
   ]
  },
  {
   "cell_type": "code",
   "execution_count": 4,
   "metadata": {},
   "outputs": [],
   "source": [
    "from langchain_opentutorial.rag.pdf import PDFRetrievalChain"
   ]
  },
  {
   "cell_type": "code",
   "execution_count": 5,
   "metadata": {},
   "outputs": [],
   "source": [
    "pdf_file = PDFRetrievalChain(file_path).create_chain()\n",
    "\n",
    "pdf_retriever = pdf_file.retriever\n",
    "pdf_chain = pdf_file.chain"
   ]
  },
  {
   "cell_type": "markdown",
   "metadata": {},
   "source": [
    "### State 정의"
   ]
  },
  {
   "cell_type": "code",
   "execution_count": 6,
   "metadata": {},
   "outputs": [],
   "source": [
    "from typing import Annotated, TypedDict\n",
    "from langgraph.graph.message import add_messages"
   ]
  },
  {
   "cell_type": "code",
   "execution_count": 7,
   "metadata": {},
   "outputs": [],
   "source": [
    "class GraphState(TypedDict):  \n",
    "    question: Annotated[str, \"Question\"]    # 질문  \n",
    "    context: Annotated[str, \"Context\"]      # 문서의 검색 결과  \n",
    "    answer: Annotated[str, \"Answer\"]        # 답변  \n",
    "    messages: Annotated[list, add_messages] # 메시지(누적되는 list)  \n",
    "    relevance: Annotated[str, \"Relevance\"]  # 관련성  "
   ]
  },
  {
   "cell_type": "markdown",
   "metadata": {},
   "source": [
    "### Node 정의"
   ]
  },
  {
   "cell_type": "code",
   "execution_count": 8,
   "metadata": {},
   "outputs": [],
   "source": [
    "from langchain_openai import ChatOpenAI\n",
    "from langchain_teddynote.evaluator import GroundednessChecker\n",
    "from langchain_teddynote.messages import messages_to_history\n",
    "from langchain_opentutorial.rag.utils import format_docs"
   ]
  },
  {
   "cell_type": "markdown",
   "metadata": {},
   "source": [
    "이미 정의한 노드"
   ]
  },
  {
   "cell_type": "code",
   "execution_count": 9,
   "metadata": {},
   "outputs": [],
   "source": [
    "# 문서 검색 노드\n",
    "def retrieve_document(state: GraphState) -> GraphState:\n",
    "    latest_question = state[\"question\"]\n",
    "    retrieved_docs = pdf_retriever.invoke(latest_question)\n",
    "    retrieved_docs = format_docs(retrieved_docs) # 검색된 문서를 형식화(프롬프트 입력으로 넣어주기 위함)\n",
    "    # 검색된 문서를 context 키에 저장\n",
    "    return GraphState(context=retrieved_docs)\n",
    "\n",
    "# 답변 생성 노드\n",
    "def llm_answer(state: GraphState) -> GraphState:\n",
    "    latest_question = state[\"question\"]\n",
    "    context = state[\"context\"]\n",
    "\n",
    "    response = pdf_chain.invoke(\n",
    "        {\n",
    "            \"question\": latest_question,\n",
    "            \"context\": context,\n",
    "            \"chat_history\": messages_to_history(state[\"messages\"]),\n",
    "        }\n",
    "    )\n",
    "    # 생성된 답변, (유저의 질문, 답변) 메시지를 상태에 저장\n",
    "    return GraphState(\n",
    "        answer=response, messages=[(\"user\", latest_question), (\"assistant\", response)]\n",
    "    )"
   ]
  },
  {
   "cell_type": "code",
   "execution_count": 10,
   "metadata": {},
   "outputs": [],
   "source": [
    "# 관련성 체크 노드  \n",
    "def relevance_check(state: GraphState) -> GraphState:  \n",
    "    # 관련성 평가기 생성\n",
    "    question_answer_relevant = GroundednessChecker(  \n",
    "        llm=ChatOpenAI(model=\"gpt-4o-mini\", temperature=0), target=\"question-retrieval\"  \n",
    "    ).create()  \n",
    "\n",
    "    # 관련성 체크를 실행(\"yes\" or \"no\")  \n",
    "    response = question_answer_relevant.invoke(  \n",
    "        {\"question\": state[\"question\"], \"context\": state[\"context\"]}  \n",
    "    )  \n",
    "\n",
    "    print(\"==== [RELEVANCE CHECK] ====\")  \n",
    "    print(response.score)  \n",
    "    return GraphState(relevance=response.score)  \n",
    "\n",
    "\n",
    "# 관련성 체크하는 함수(router)  \n",
    "def is_relevant(state: GraphState) -> GraphState:  \n",
    "    return state[\"relevance\"]  "
   ]
  },
  {
   "cell_type": "markdown",
   "metadata": {},
   "source": [
    "검색 노드 (신규 정의)"
   ]
  },
  {
   "cell_type": "code",
   "execution_count": 11,
   "metadata": {},
   "outputs": [],
   "source": [
    "from langchain_teddynote.tools.tavily import TavilySearch"
   ]
  },
  {
   "cell_type": "code",
   "execution_count": 12,
   "metadata": {},
   "outputs": [
    {
     "name": "stdout",
     "output_type": "stream",
     "text": [
      "<document><title>Samsung sidelined Galaxy S21, S22 and S23 flagships, Galaxy M56 makes it crystal clear - Sammy Fans</title><url>https://www.sammyfans.com/2025/04/19/samsung-sidelined-galaxy-s21-and-s22-flagships-galaxy-m56-makes-it-crystal-clear/</url><content>Breaking: Samsung Galaxy S25 gets April 2025 update with new One UI 7 features Samsung Galaxy S23 may get Android 15 (One UI 7) update next week Besides a new camera design and sleek profile, the new Samsung Galaxy M56 brings One UI 7 out of the box and supports six years of Android and security updates. Samsung will bring Android 16 to Galaxy devices as part of One UI 8. *   One UI3 days ago April 22 release for Galaxy S23 One UI 7 (Android 15) update now off the table *   One UI2 days ago BREAKING: Samsung resumes One UI 7 rollout, Galaxy S24 gets new BYD9 update *   One UI2 days ago Samsung has an advisory for One UI 7 eligible device owners *   Samsung2 days ago Reminder: Samsung Galaxy S21 series will get One UI 7 (Android 15) update</content><raw>Published Time: 2025-04-19T12:04:32+00:00\n",
      "Samsung sidelined Galaxy S21, S22 and S23 flagships, Galaxy M56 makes it crystal clear - Sammy Fans\n",
      "News\n",
      "Phones\n",
      "Updates\n",
      "Galaxy S25\n",
      "One UI\n",
      "One UI 7\n",
      "One UI 7 Beta\n",
      "Android\n",
      "Tips\n",
      "Connect with us\n",
      "Sammy Fans\n",
      "Samsung sidelined Galaxy S21, S22 and S23 flagships, Galaxy M56 makes it crystal clear\n",
      "News\n",
      "Samsung sidelined Galaxy S21, S22 and S23 flagships, Galaxy M56 makes it crystal clear\n",
      "Samsung SOS+ debuts alongside Galaxy A56, A36 and A26 in South Africa\n",
      "Samsung displays fuel interactive fan experience at Mets House in NYC\n",
      "Samsung opts out of Android 16 Beta Program amid growing One UI 8 leak\n",
      "Samsung TV Plus outpaces rivals as US FAST leader\n",
      "Phones\n",
      "Report: Samsung begins OLED production for Galaxy Z Flip 7, Fold 7; Tri-Fold, Flip FE in pipeline\n",
      "Galaxy S24 FE features Samsung’s most eye-friendly display, beats S25 Ultra\n",
      "Samsung Galaxy Z Flip 6 caught running Android 16 (One UI 8) in early benchmark\n",
      "US Galaxy Z Fold7 packs Snapdragon 8 Elite, runs Android 16 (One UI 8); performance revealed\n",
      "Shocking! Hackers install One UI 8 on Galaxy S23, A54 and more devices, skipping One UI 7\n",
      "Updates\n",
      "BREAKING: Samsung resumes One UI 7 rollout, Galaxy S24 gets new BYD9 update\n",
      "Samsung Galaxy A26 does not support Seamless Updates, unlike A36 and A56\n",
      "Samsung pushes big firmware update to Galaxy Watch 7 in India\n",
      "Breaking: Samsung Galaxy S25 gets April 2025 update with new One UI 7 features\n",
      "Samsung Galaxy S23 may get Android 15 (One UI 7) update next week\n",
      "Galaxy S25\n",
      "One UI\n",
      "One UI 7\n",
      "One UI 7 Beta\n",
      "Android\n",
      "Tips\n",
      "3 Tips to create cinematic content with Galaxy Log on Samsung Galaxy S25 [One UI 7]\n",
      "How to increase Galaxy S25 Ultra’s camera capture speed\n",
      "How to disable One UI 7 Now Brief on your Galaxy S25 Ultra\n",
      "Here’s how to easily apply a screen protector to your Samsung Galaxy S25\n",
      "Go back to stability: Downgrading from One UI 7 Beta to stable One UI 6.1 on Galaxy S24 in the US\n",
      "News\n",
      "Samsung sidelined Galaxy S21, S22 and S23 flagships, Galaxy M56 makes it crystal clear\n",
      "Published\n",
      "5 hours agoon\n",
      "April 19, 2025\n",
      "By\n",
      "Yash\n",
      "* Share* Tweet\n",
      "Samsung has recently launched a new mid-range smartphone in India. Besides a new camera design and sleek profile, the new Samsung Galaxy M56 brings One UI 7 out of the box and supports six years of Android and security updates.\n",
      "It’s not the first non-premium phone that’s getting the new OS pre-installed. Samsung has previously launched a few entry-level models that get the latest Android 15-based One UI 7 out of the box, while flagship owners are still waiting.\n",
      "Samsung has been working to optimize Android 15 for Galaxy devices since December 2024. The company has launched the Open Beta in early December for the Galaxy S24 series, which expanded in March to foldables and the S23 series.\n",
      "The Samsung Galaxy M56 5G will go on sale in India next week. The company highlights that the One UI 7 brings a redesigned user experience, smart new widgets, modern app icons, Now Bar for real-time updates, and core security enhancements.\n",
      "Six-gen OS upgrades make the Galaxy M56 superior to flagships like the Galaxy S21 and S22 series. While One UI 7 is the last major upgrade for the S21 series, the S22 will be reaching its end of support with the One UI 8 update.\n",
      "As for the Galaxy S23 series, this lineup is also eligible for only four generations of OS upgrades. Samsung’s new 7-year update policy is applicable on Galaxy S24 series and later flagship models including the Galaxy S25 series.\n",
      "Advertisement\n",
      "On the flip side, the mid-range Galaxy M56 will be receiving major upgrades up to Android 21. Security updates are also promised to be delivered by up to October 2030, which could go even beyond if Samsung revises the support.\n",
      "While the S21 and S22 series were released years ago, they are still better than Samsung’s 2025 mid-ranger. Consumers have paid five times extra money, and the support isn’t what they deserve at this point, in the mid-range, getting valued.\n",
      "Connect with me:\n",
      "Have a hot tip or just want to chat tech? I’d love to hear your feedback or tips—connect with me on X/Twitter @TweetToYash!\n",
      "X/Twitter DMs are also open for tips, suggestions, and feedback – DM Yash on X.\n",
      "Advertisement\n",
      "Related Topics:ANDROIDGalaxy M56One UI 7SAMSUNGUPDATES\n",
      "Don't MissSamsung SOS+ debuts alongside Galaxy A56, A36 and A26 in South Africa\n",
      "Yash\n",
      "Meet Yash, author and dynamic creator of the compelling tech narratives at Sammy Fans. He has evolved from a Samsung firmware aficionado to a multi-faceted tech storyteller. Yash's expertise shines brightest with his explorations into Samsung's One UI. Beyond the screen, his love for landscapes and rivers adds a unique flavor to his work.\n",
      "Advertisement\n",
      "You may like\n",
      "*\n",
      "Get the Samsung Galaxy S24 FE for just $100 in the US – Here’s How *\n",
      "Samsung SOS+ debuts alongside Galaxy A56, A36 and A26 in South Africa *\n",
      "Samsung extends free screen replacement for Green line issue until September 2025 *\n",
      "Samsung US adds Gift Ideas section for easy online shopping *\n",
      "Report: Samsung begins OLED production for Galaxy Z Flip 7, Fold 7; Tri-Fold, Flip FE in pipeline *\n",
      "Samsung might release One UI 7 Beta 3 for Galaxy A55\n",
      "News\n",
      "Samsung SOS+ debuts alongside Galaxy A56, A36 and A26 in South Africa\n",
      "Published\n",
      "7 hours agoon\n",
      "April 19, 2025\n",
      "By\n",
      "Yash\n",
      "Samsung hosted an event to mark the launch of Galaxy A56, A36, and A26 in South Africa. The company has also introduced Samsung SOS+ security service, in partnership with Aura.\n",
      "Developed in collaboration with Aura, Samsung SOS+ is a personal emergency service. It connects users to over 3,000 armed response vehicles and 700 ambulances across South Africa, ensuring rapid assistance during emergencies.\n",
      "Using SOS+, users dial a dedicated number to share their live location with Aura’s secure system. Help is dispatched immediately, and a call-back from the control center confirms assistance is on the way. The service prioritizes speed and reliability.\n",
      "SOS+ is free for the first 12 months with the purchase of a new Samsung Galaxy A56, A36, or A26 smartphone. After the pilot trial ends, the service costs around R29 per month. The subscription service will be available starting May 1.\n",
      "“With Awesome Intelligence, we’re delivering an experience that’s smarter, more creative, and more personal to user and fans of the ever-popular Galaxy A series,” said Justin Hume, Vice President of Mobile Experience at Samsung South Africa. “These new devices bring flagship-level AI features and robust security to more people than ever before, while also debuting Samsung SOS+ – a true game-changer for personal safety in South Africa.”\n",
      "#SamsungSA VP of Mobile Experience, Justin Hume, just introduced Samsung SOS+ in partnership with #Aura! This is #AwsomeIntelligence to put safety into every pocket. pic.twitter.com/NhVcSHZ2HD\n",
      "— Samsung Mobile SA (@SamsungMobileSA) April 16, 2025\n",
      "Advertisement\n",
      "Connect with me:\n",
      "Have a hot tip or just want to chat tech? I’d love to hear your feedback or tips—connect with me on X/Twitter @TweetToYash!\n",
      "X/Twitter DMs are also open for tips, suggestions, and feedback – DM Yash on X.\n",
      "Continue Reading\n",
      "News\n",
      "Samsung displays fuel interactive fan experience at Mets House in NYC\n",
      "Published\n",
      "10 hours agoon\n",
      "April 19, 2025\n",
      "By\n",
      "Yash\n",
      "Samsung continues its multi-year partnership with the New York Mets as the official display and technology solutions partner. This collaboration shines at Mets House NYC, which is an interactive pop-up shop in Union Square, powered by Samsung.\n",
      "Fans can test their skills with the Mets Match Your Swing experience. Using Diamond Kinetics sensors to analyze stance and swing, it matches fans’ swings to Mets players. Results display in real time on a Samsung 98-inch QHC Series Display.\n",
      "Mets House also features MLB: The Show on the QHC Series Display, offering an immersive gaming experience. Fans can play as their favorite Mets player, manage the team as Carlos Mendoza, or control the entire squad.\n",
      "“Mets House is more than just another pop-up shop. It provides unique and immersive experiences that are brought to life with help from Samsung,” said Andrew Grossman, Chief Growth Officer, New York Mets. “With Samsung Displays, the activations at Mets House strengthen our bond with our fans and connect us with new ones, showcasing how technology and creativity can come together to enhance the fan experience.”\n",
      "Two Samsung 85-inch QMC Series Commercial Displays showcase Mets history, from current highlights to iconic moments like walk-off wins. These vibrant screens also promote exclusive ticketing specials, keeping fans engaged.\n",
      "Connect with me:\n",
      "Advertisement\n",
      "Have a hot tip or just want to chat tech? I’d love to hear your feedback or tips—connect with me on X/Twitter @TweetToYash!\n",
      "X/Twitter DMs are also open for tips, suggestions, and feedback – DM Yash on X.\n",
      "Continue Reading\n",
      "News\n",
      "Samsung opts out of Android 16 Beta Program amid growing One UI 8 leak\n",
      "Published\n",
      "10 hours agoon\n",
      "April 19, 2025\n",
      "By\n",
      "Yash\n",
      "Despite having Android at its core, Samsung’s One UI doesn’t join Google’s Beta Program. This year, no surprise: Samsung has skipped Google’s Android 16 Beta list, which is joined by many rivaling brands like Xiaomi.\n",
      "Google has recently released Android 16 Beta 4 for Pixel phones. It comes as the second Platform Stability release, which is almost as stable as the official release. Google also announced compatible apps can now be listed on the Play Store.\n",
      "However, Samsung’s decision to skip Google’s Beta aligns with its history of focusing on One UI. This approach lets the company “personally” refine its software, though it means Galaxy users wait longer for Android 16 previews.\n",
      "Android 16 Beta is now available on various devices from brands including Google, iQOO, Lenovo, OnePlus, Sharp, Oppo, Realme, Vivo, Xiaomi, and Honor. The new OS is available on top of the previous version of their respective custom skins.\n",
      "Source – Android Developers\n",
      "Samsung will bring Android 16 to Galaxy devices as part of One UI 8. Other Android OEMs also have their custom skins based on Android, but they usually join Google’s Android Beta Program ahead of their own skin’s testing.\n",
      "While Android 16 is getting ready for official release, Samsung has also shifted gears and has been internally testing the One UI 8. This new iteration will be unveiled with the next-gen foldables this year, and we’ve got plenty of leaks.\n",
      "One UI 8 could be a minor upgrade in comparison to One UI 7. Key interface aspects will remain similar, but we would see design tweaks across system apps such as Samsung Gallery, My Files, and Quick Share. Here’s more on One UI 8:\n",
      "Advertisement\n",
      "One UI 8 hands-on video shows what’s changing in Samsung’s Android 16 update\n",
      "Connect with me:\n",
      "Have a hot tip or just want to chat tech? I’d love to hear your feedback or tips—connect with me on X/Twitter @TweetToYash!\n",
      "X/Twitter DMs are also open for tips, suggestions, and feedback – DM Yash on X.\n",
      "Continue Reading\n",
      "News\n",
      "Samsung TV Plus outpaces rivals as US FAST leader\n",
      "Published\n",
      "11 hours agoon\n",
      "April 19, 2025\n",
      "By\n",
      "Yash\n",
      "Samsung TV Plus is leading the FAST channel market, offering nearly 700 channels in the US. The number of available channels is more than any of the other major FAST platforms nationwide.\n",
      "Notably, Samsung TV Plus offers over 100 exclusive channels to deliver a differentiated and expansive offering of premium entertainment across all key categories.\n",
      "Streaming categories range from live sports, music, kids, Spanish language, K-Content, award-winning films, and popular TV shows, as well as comprehensive local news coverage in 114 DMAs.\n",
      "The company has also revealed that the TV Plus platform’s engagement has surged by 30% in Q1 alone, which followed the 88 million monthly active users mark in 2024.\n",
      "Samsung TV Plus has amplified its focus on on-demand and has added over 70% more shows and movies to its library, resulting in an impressive 177% year-over-year increase in hours viewed.\n",
      "“With Samsung TV Plus, we’ve transformed what streaming can be by offering premium, personalized entertainment at a scale no other FAST service can match,” said Salek Brodsky, Senior Vice President and General Manager at  TV Plus. “This year, we’re deepening that commitment by delivering even more high-quality content, richer viewing experiences, and greater variety of programming to ensure audiences always have something exceptional to watch.”\n",
      "Advertisement\n",
      "Connect with me:\n",
      "Have a hot tip or just want to chat tech? I’d love to hear your feedback or tips—connect with me on X/Twitter @TweetToYash!\n",
      "X/Twitter DMs are also open for tips, suggestions, and feedback – DM Yash on X.\n",
      "Continue Reading\n",
      "Deals\n",
      "Get free gifts with the Samsung Galaxy Ring in the UK\n",
      "Published\n",
      "2 days agoon\n",
      "April 17, 2025\n",
      "By\n",
      "Sheetal\n",
      "Samsung UK is giving customers a great deal on the Galaxy Ring. The company is giving away two free gifts for buyers who purchase the Galaxy Ring before June 30.\n",
      "Usually, the Samsung Galaxy Ring costs £399. You can also choose to pay £16.63 per month. If you trade in an old device, you can save up to £120, which means you could pay as little as £279 for the ring.\n",
      "If you buy the ring before June 30 and use the code GIFT at checkout, you’ll get two free gifts. These two gifts are a luxury gift box and a Duo Super Fast Wireless Charger Pad worth £79. So you’ll be getting some really nice freebies with your purchase.\n",
      "The Galaxy Ring is not just stylish but packed with amazing design and features. It comes in a sleek titanium design and is available in three colors – Titanium Black, Titanium Silver, and Titanium Gold. It’s also water-resistant, meaning you can wear it while swimming.\n",
      "Moreover, the ring tracks your sleep, offers cycle tracking, gives you wellness tips, and even provides energy scores to help you understand your body’s performance. Also, it has sensors for heart rate, motion, and temperature.\n",
      "And don’t forget, you’ll also get a free sizing kit to help you find the perfect fit before you buy. So, if you want a smart and stylish fitness tracker with some great freebies, buy the Samsung Galaxy Ring now in the UK. Click here to visit the deal page.\n",
      "Advertisement\n",
      "Samsung Galaxy Ring could charge in a whole new way!\n",
      "Continue Reading\n",
      "Most Popular\n",
      "*\n",
      "One UI3 days ago April 22 release for Galaxy S23 One UI 7 (Android 15) update now off the table *\n",
      "One UI2 days ago BREAKING: Samsung resumes One UI 7 rollout, Galaxy S24 gets new BYD9 update *\n",
      "One UI2 days ago Samsung has an advisory for One UI 7 eligible device owners *\n",
      "Samsung2 days ago Reminder: Samsung Galaxy S21 series will get One UI 7 (Android 15) update\n",
      "About Us\n",
      "Contact Us\n",
      "Copyright Policy\n",
      "Privacy Policy\n",
      "Copyright © 2025 SammyFans.com</raw></document>\n",
      "<document><title>Japan to put car safety standards on table in Trump tariffs talks - Nikkei Asia</title><url>https://asia.nikkei.com/Economy/Trade-war/Trump-tariffs/Japan-to-put-car-safety-standards-on-table-in-Trump-tariffs-talks</url><content>Japan to put car safety standards on table in Trump tariffs talks U.S. President Donald Trump is pressuring Japan to import more U.S. automobiles. TOKYO -- Japan is considering relaxing automobile safety rules for imports as part of tariff negotiations with the U.S., Nikkei has learned, seeking to ease President Donald Trump's concern that not enough American cars are imported to Japan. As Japan and the U.S. use different safety standards, Tokyo sees room for easing rules on crash tests as a bargaining chip in trade talks. Japan weighs using rice imports card in Trump tariff talks Trump donor lands in Japan as ambassador, 'optimistic' on tariff talks Drop in oil prices looms over U.S. tariff talks with Japan Japan weighs using rice imports card in Trump tariff talks</content><raw>Japan to put car safety standards on table in Trump tariffs talks\n",
      "Tokyo eyes easing rules for American car imports\n",
      "U.S. President Donald Trump is pressuring Japan to import more U.S. automobiles. (Photo by Azusa Kawakami)\n",
      "TOKYO -- Japan is considering relaxing automobile safety rules for imports as part of tariff negotiations with the U.S., Nikkei has learned, seeking to ease President Donald Trump's concern that not enough American cars are imported to Japan.\n",
      "As Japan and the U.S. use different safety standards, Tokyo sees room for easing rules on crash tests as a bargaining chip in trade talks.\n",
      "Read Next\n",
      "Japan weighs using rice imports card in Trump tariff talks\n",
      "Who sold U.S. Treasurys? Speculation turns to hedge funds\n",
      "Dollar losing trust among U.S. allies, sliding to 3-year low\n",
      "Trump donor lands in Japan as ambassador, 'optimistic' on tariff talks\n",
      "Drop in oil prices looms over U.S. tariff talks with Japan\n",
      "Trump touts 'big progress' in trade talks with Japan\n",
      "Latest on Trump tariffs\n",
      "Japan weighs using rice imports card in Trump tariff talks\n",
      "Ford halts shipments of vehicles to China amid tariffs\n",
      "Indonesia says tariff negotiations with U.S. will conclude in 60 days\n",
      "Sponsored Content\n",
      "About Sponsored ContentThis content was commissioned by Nikkei's Global Business Bureau.\n",
      "About Nikkei Asia\n",
      "Support\n",
      "Subscriptions\n",
      "Legal & Privacy</raw></document>\n",
      "<document><title>Boeing jet earmarked for China returns to the U.S. from China amid tariff war - CNBC</title><url>https://www.cnbc.com/2025/04/19/boeing-jet-returns-to-the-us-from-china-amid-tariff-war.html</url><content>Boeing jet earmarked for China returns to the U.S. from China amid tariff war A Boeing jet earmarked for China was returning to the United States on Friday, flight tracking data showed, as the planemaker's flagship delivery plant outside Shanghai was drawn into a deepening tariff war between Beijing and Washington. Bloomberg News reported earlier this week that Boeing faced a Chinese ban on imports, part of the escalating confrontation over U.S. President Donald Trump's \\\"reciprocal\\\" global tariffs. One senior industry source said Boeing and suppliers were planning on the basis that it would not be delivering planes to China for the time being. The tariff war and apparent U-turn over deliveries come as Boeing has been recovering from an almost five-year import freeze on 737 Max jets and a previous round of trade tensions.</content><raw>Boeing jet earmarked for China returns to the U.S. from China amid tariff war\n",
      "In this article\n",
      "A Boeing jet earmarked for China was returning to the United States on Friday, flight tracking data showed, as the planemaker's flagship delivery plant outside Shanghai was drawn into a deepening tariff war between Beijing and Washington.\n",
      "The return of one of several jets waiting for final work and handover to a Chinese carrier at the completion center in Zhoushan is the latest sign of disruption to deliveries from a breakdown in the industry's decades-old duty-free status.\n",
      "In a sign that Boeing was preparing for normal business just weeks before U.S. President Donald Trump announced tariffs on April 2, three new 737 Max planes had flown from Boeing in Seattle to Zhoushan in March.\n",
      "Another arrived last week at Zhoushan, where Boeing installs interiors and paints liveries before handing over to customers, according to Flightradar24 data.\n",
      "But on Friday, one of the first batch of jets took off again without being delivered and flew from Zhoushan to the U.S. territory of Guam — one of the stops such flights make as they cross the Pacific — indicating it was heading back to Seattle.\n",
      "Boeing declined to comment.\n",
      "The 5,000-mile trip back to Boeing's main factory comes as the planemaker's business in China is under scrutiny over the tariff dispute.\n",
      "Bloomberg News reported earlier this week that Boeing faced a Chinese ban on imports, part of the escalating confrontation over U.S. President Donald Trump's \"reciprocal\" global tariffs.\n",
      "There has been no official comment from Beijing, or in Chinese state media.\n",
      "Senior aviation and aerospace industry sources told Reuters they were not aware of formal instructions against taking Boeing planes.\n",
      "Even so, industry sources and analysts widely agreed that the imposition of tariffs on U.S. goods by Beijing in response to Trump's actions would effectively block aircraft imports without any formal ban.\n",
      "One senior industry source said Boeing and suppliers were planning on the basis that it would not be delivering planes to China for the time being.\n",
      "Photos posted to plane-spotting websites in February showed that the repatriated plane was decorated with a livery for Xiamen Airlines, majority owned by China Southern 600029.SS.\n",
      "One source said it was expected to be delivered to Xiamen, which did not reply to a request for comment.\n",
      "Aviation publication The Air Current, which first reported the decision to withdraw some undelivered jets from Zhoushan, said one unnamed Chinese airline had separately walked away from a commitment to lease a Boeing aircraft.\n",
      "Industry sources said the return flight came despite some discussions over leaving undelivered jets in bonded storage, meaning they would not be officially imported or tariffed.\n",
      "Chinese customs did not reply to a request for comment.\n",
      "Delivery limbo\n",
      "The tariff war and apparent U-turn over deliveries come as Boeing has been recovering from an almost five-year import freeze on 737 Max jets and a previous round of trade tensions.\n",
      "Boeing opened the completion plant in Zhoushan — a major cargo hub which, together with nearby Ningbo, hosts one of the world's busiest ports — in 2018 under the shadow of a previous round of trade tensions during Trump's first presidency.\n",
      "Although Boeing has not followed Airbus in assembling full airplanes in China, analysts said the aim was to build a lead in one of the world's largest air travel markets.\n",
      "Bloomberg News also reported that Beijing has asked Chinese carriers to halt purchases of U.S.-made aircraft parts. All modern commercial jets depend heavily on such components.\n",
      "Two U.S. industry sources said they were given no clear instructions not to ship parts to China. A separate source, who runs a maintenance and repair shop for aircraft in China, said they had no issues importing American parts.\n",
      "China's foreign ministry declined to comment.\n",
      "Asked by the media about the reported bans, a spokesperson said: \"I'd refer you to competent authorities.\"\n",
      "Analysts say that confusion over changing tariffs could leave many aircraft deliveries in limbo, with some airline CEOs saying they would defer delivery of planes rather than pay duties.\n",
      "Boeing historically sent a quarter of its deliveries to China, but this has been falling following earlier tensions, a 737 Max safety crisis, and the impact of the Covid-19 pandemic.\n",
      "Boeing data shows 130 unfilled orders for China-based airlines and lessors. Industry sources say a significant portion of the more than 760 unfilled orders for which Boeing has yet to name a buyer are destined for China.\n",
      "Analysts said a short-term halt in deliveries to China would not have an immediate major impact on Boeing, since it could serve other airlines and Airbus lacks spare capacity.\n",
      "News Tips\n",
      "Got a confidential news tip? We want to hear from you.\n",
      "CNBC Newsletters\n",
      "Sign up for free newsletters and get more CNBC delivered to your inbox\n",
      "Get this delivered to your inbox, and more info about our products and services.\n",
      "Advertise With Us\n",
      "© 2025 CNBC LLC. All Rights Reserved. A Division of NBCUniversal\n",
      "Data is a real-time snapshot *Data is delayed at least 15 minutes.\n",
      "Global Business and Financial News, Stock Quotes, and Market Data\n",
      "and Analysis.\n",
      "Data also provided by</raw></document>\n"
     ]
    }
   ],
   "source": [
    "# 검색 도구 생성\n",
    "tavily_tool = TavilySearch()\n",
    "\n",
    "search_query = \"Apple Intelligence의 시장 반응은?\"\n",
    "\n",
    "# 다양한 파라미터를 사용한 검색 예제\n",
    "search_result = tavily_tool.search(\n",
    "    query=search_query,  # 검색 쿼리\n",
    "    topic=\"news\",        # 검색 주제\n",
    "    days=1,              # 최근 1일 내 검색\n",
    "    max_results=3,       # 최대 검색 결과\n",
    "    format_output=True,  # 결과 포맷팅\n",
    ")\n",
    "\n",
    "print(\"\\n\".join(search_result))"
   ]
  },
  {
   "cell_type": "code",
   "execution_count": 13,
   "metadata": {},
   "outputs": [],
   "source": [
    "# Web Search 노드\n",
    "def web_search(state: GraphState) -> GraphState:\n",
    "    tavily_tool = TavilySearch()\n",
    "    search_query = state[\"question\"]\n",
    "    search_result = tavily_tool.search(\n",
    "        query=search_query,  # 검색 쿼리\n",
    "        topic=\"news\",        # 일반 주제\n",
    "        days=1,\n",
    "        max_results=3,       # 최대 검색 결과\n",
    "        format_output=True,  # 결과 포맷팅\n",
    "    )\n",
    "\n",
    "    return GraphState(context=\"\\n\".join(search_result))"
   ]
  },
  {
   "cell_type": "markdown",
   "metadata": {},
   "source": [
    "### 그래프 정의"
   ]
  },
  {
   "cell_type": "code",
   "execution_count": 14,
   "metadata": {},
   "outputs": [],
   "source": [
    "from langgraph.graph import END, StateGraph\n",
    "from langgraph.checkpoint.memory import MemorySaver"
   ]
  },
  {
   "cell_type": "code",
   "execution_count": 15,
   "metadata": {},
   "outputs": [],
   "source": [
    "workflow = StateGraph(GraphState)\n",
    "\n",
    "workflow.add_node(\"retrieve\", retrieve_document)\n",
    "workflow.add_node(\"relevance_check\", relevance_check)\n",
    "workflow.add_node(\"llm_answer\", llm_answer)\n",
    "workflow.add_node(\"web_search\", web_search)\n",
    "\n",
    "workflow.add_edge(\"retrieve\", \"relevance_check\") \n",
    "\n",
    "workflow.add_conditional_edges(\n",
    "    \"relevance_check\",  \n",
    "    is_relevant,\n",
    "    {\n",
    "        \"yes\": \"llm_answer\", \n",
    "        \"no\": \"web_search\",  \n",
    "    },\n",
    ")\n",
    "\n",
    "workflow.add_edge(\"web_search\", \"llm_answer\")  \n",
    "workflow.add_edge(\"llm_answer\", END)  \n",
    "\n",
    "workflow.set_entry_point(\"retrieve\")\n",
    "\n",
    "memory = MemorySaver()\n",
    "app = workflow.compile(checkpointer=memory)"
   ]
  },
  {
   "cell_type": "code",
   "execution_count": 16,
   "metadata": {},
   "outputs": [
    {
     "data": {
      "image/jpeg": "[encoded data removed]",
      "text/plain": [
       "<IPython.core.display.Image object>"
      ]
     },
     "metadata": {},
     "output_type": "display_data"
    }
   ],
   "source": [
    "from langchain_teddynote.graphs import visualize_graph  \n",
    "\n",
    "visualize_graph(app)  "
   ]
  },
  {
   "cell_type": "markdown",
   "metadata": {},
   "source": [
    "### 그래프 실행"
   ]
  },
  {
   "cell_type": "code",
   "execution_count": 17,
   "metadata": {},
   "outputs": [],
   "source": [
    "from langchain_core.runnables import RunnableConfig\n",
    "from langchain_teddynote.messages import stream_graph, random_uuid"
   ]
  },
  {
   "cell_type": "code",
   "execution_count": 18,
   "metadata": {},
   "outputs": [
    {
     "name": "stdout",
     "output_type": "stream",
     "text": [
      "\n",
      "==================================================\n",
      "🔄 Node: \u001b[1;36mrelevance_check\u001b[0m 🔄\n",
      "- - - - - - - - - - - - - - - - - - - - - - - - - \n",
      "==== [RELEVANCE CHECK] ====\n",
      "no\n",
      "\n",
      "==================================================\n",
      "🔄 Node: \u001b[1;36mllm_answer\u001b[0m 🔄\n",
      "- - - - - - - - - - - - - - - - - - - - - - - - - \n",
      "도널드 트럼프 대통령은 미국의 45대 대통령으로, 일본에 미국 자동차 수입을 늘리도록 압박하고 있으며, 자동차 안전 규정을 완화하는 방안을 협상 테이블에 올리고 있습니다. 그는 또한 \"해방의 날\"이라는 세금 발표로 인해 달러 가치가 하락하는 등 경제 정책에 대한 신뢰를 약화시키고 있습니다.\n",
      "\n",
      "**Source**\n",
      "- Japan to put car safety standards on table in Trump tariffs talks - Nikkei Asia\n",
      "- Is the US dollar at risk of a ‘confidence crisis’? - Al Jazeera"
     ]
    }
   ],
   "source": [
    "config = RunnableConfig(recursion_limit=10, configurable={\"thread_id\": random_uuid()})\n",
    "inputs = GraphState(question=\"도널드 트럼프 대통령\")\n",
    "\n",
    "stream_graph(app, inputs, config, [\"relevance_check\", \"llm_answer\"])"
   ]
  },
  {
   "cell_type": "code",
   "execution_count": 19,
   "metadata": {},
   "outputs": [
    {
     "name": "stdout",
     "output_type": "stream",
     "text": [
      "Question: 도널드 트럼프 대통령\n",
      "============================================================\n",
      "Answer:\n",
      "도널드 트럼프 대통령은 미국의 45대 대통령으로, 일본에 미국 자동차 수입을 늘리도록 압박하고 있으며, 자동차 안전 규정을 완화하는 방안을 협상 테이블에 올리고 있습니다. 그는 또한 \"해방의 날\"이라는 세금 발표로 인해 달러 가치가 하락하는 등 경제 정책에 대한 신뢰를 약화시키고 있습니다.\n",
      "\n",
      "**Source**\n",
      "- Japan to put car safety standards on table in Trump tariffs talks - Nikkei Asia\n",
      "- Is the US dollar at risk of a ‘confidence crisis’? - Al Jazeera\n"
     ]
    }
   ],
   "source": [
    "outputs = app.get_state(config).values\n",
    "\n",
    "print(f'Question: {outputs[\"question\"]}')\n",
    "print(\"===\" * 20)\n",
    "print(f'Answer:\\n{outputs[\"answer\"]}')"
   ]
  },
  {
   "cell_type": "markdown",
   "metadata": {},
   "source": [
    "-----\n",
    "** End of Documents **"
   ]
  }
 ],
 "metadata": {
  "kernelspec": {
   "display_name": "langchain-kr-t0JhnSEV-py3.11",
   "language": "python",
   "name": "python3"
  },
  "language_info": {
   "codemirror_mode": {
    "name": "ipython",
    "version": 3
   },
   "file_extension": ".py",
   "mimetype": "text/x-python",
   "name": "python",
   "nbconvert_exporter": "python",
   "pygments_lexer": "ipython3",
   "version": "3.11.9"
  }
 },
 "nbformat": 4,
 "nbformat_minor": 2
}
