{
 "cells": [
  {
   "cell_type": "code",
   "execution_count": 7,
   "metadata": {},
   "outputs": [],
   "source": [
    "# !pip install langchain-opentutorial"
   ]
  },
  {
   "cell_type": "code",
   "execution_count": 1,
   "metadata": {},
   "outputs": [
    {
     "data": {
      "text/plain": [
       "True"
      ]
     },
     "execution_count": 1,
     "metadata": {},
     "output_type": "execute_result"
    }
   ],
   "source": [
    "from dotenv import load_dotenv\n",
    "\n",
    "load_dotenv()"
   ]
  },
  {
   "cell_type": "code",
   "execution_count": 2,
   "metadata": {},
   "outputs": [
    {
     "name": "stdout",
     "output_type": "stream",
     "text": [
      "LangSmith 추적을 시작합니다.\n",
      "[프로젝트명]\n",
      "CH15-Agentic-RAG\n"
     ]
    }
   ],
   "source": [
    "from langchain_teddynote import logging\n",
    "\n",
    "logging.langsmith(\"CH15-Agentic-RAG\")"
   ]
  },
  {
   "cell_type": "markdown",
   "metadata": {},
   "source": [
    "# Naive RAG + Releavance Check\n",
    "\n",
    "** 실습 자료 **\n",
    "\n",
    "소프트웨어정책연구소(SPRi), [AI Brief 스페셜] AI 에이전트 동향\n",
    "\n",
    "- 저자: 유재흥(AI정책연구실 책임연구원), 이해수(AI정책연구실 선임연구원)\n",
    "- 발생: 2024.12.10\n",
    "- 링크: https://spri.kr/posts/view/23798?code=AI-Brief&s_year=&data_page=1\n",
    "- 파일명: `SPRi AI Brief_Special_AI Agent_241209_F`\n",
    "\n",
    "(실습 준비)\n",
    "- 작업 폴더 하위에 `data` 폴더 생성 \n",
    "- 링크에서 다운로드 받은 파일을 `data` 폴더에 업로드 "
   ]
  },
  {
   "cell_type": "markdown",
   "metadata": {},
   "source": [
    "### Retrieval Chain"
   ]
  },
  {
   "cell_type": "code",
   "execution_count": 3,
   "metadata": {},
   "outputs": [],
   "source": [
    "file_path = [\"data/SPRi AI Brief_Special_AI Agent_241209_F.pdf\"]"
   ]
  },
  {
   "cell_type": "code",
   "execution_count": 4,
   "metadata": {},
   "outputs": [],
   "source": [
    "from langchain_opentutorial.rag.pdf import PDFRetrievalChain"
   ]
  },
  {
   "cell_type": "code",
   "execution_count": 5,
   "metadata": {},
   "outputs": [],
   "source": [
    "pdf_file = PDFRetrievalChain(file_path).create_chain()\n",
    "\n",
    "pdf_retriever = pdf_file.retriever\n",
    "pdf_chain = pdf_file.chain"
   ]
  },
  {
   "cell_type": "markdown",
   "metadata": {},
   "source": [
    "### State 정의"
   ]
  },
  {
   "cell_type": "code",
   "execution_count": 6,
   "metadata": {},
   "outputs": [],
   "source": [
    "from typing import Annotated, TypedDict\n",
    "from langgraph.graph.message import add_messages"
   ]
  },
  {
   "cell_type": "code",
   "execution_count": 7,
   "metadata": {},
   "outputs": [],
   "source": [
    "class GraphState(TypedDict):  \n",
    "    question: Annotated[str, \"Question\"]    # 질문  \n",
    "    context: Annotated[str, \"Context\"]      # 문서의 검색 결과  \n",
    "    answer: Annotated[str, \"Answer\"]        # 답변  \n",
    "    messages: Annotated[list, add_messages] # 메시지(누적되는 list)  \n",
    "    relevance: Annotated[str, \"Relevance\"]  # 관련성  "
   ]
  },
  {
   "cell_type": "markdown",
   "metadata": {},
   "source": [
    "### Node 정의"
   ]
  },
  {
   "cell_type": "code",
   "execution_count": 8,
   "metadata": {},
   "outputs": [],
   "source": [
    "from langchain_opentutorial.rag.utils import format_docs\n",
    "from langchain_teddynote.messages import messages_to_history"
   ]
  },
  {
   "cell_type": "markdown",
   "metadata": {},
   "source": [
    "이미 정의한 노드"
   ]
  },
  {
   "cell_type": "code",
   "execution_count": 9,
   "metadata": {},
   "outputs": [],
   "source": [
    "# 문서 검색 노드\n",
    "def retrieve_document(state: GraphState) -> GraphState:\n",
    "    latest_question = state[\"question\"]\n",
    "    retrieved_docs = pdf_retriever.invoke(latest_question)\n",
    "    retrieved_docs = format_docs(retrieved_docs) # 검색된 문서를 형식화(프롬프트 입력으로 넣어주기 위함)\n",
    "    # 검색된 문서를 context 키에 저장\n",
    "    return GraphState(context=retrieved_docs)\n",
    "\n",
    "# 답변 생성 노드\n",
    "def llm_answer(state: GraphState) -> GraphState:\n",
    "    latest_question = state[\"question\"]\n",
    "    context = state[\"context\"]\n",
    "\n",
    "    response = pdf_chain.invoke(\n",
    "        {\n",
    "            \"question\": latest_question,\n",
    "            \"context\": context,\n",
    "            \"chat_history\": messages_to_history(state[\"messages\"]),\n",
    "        }\n",
    "    )\n",
    "    # 생성된 답변, (유저의 질문, 답변) 메시지를 상태에 저장\n",
    "    return GraphState(\n",
    "        answer=response, messages=[(\"user\", latest_question), (\"assistant\", response)]\n",
    "    )"
   ]
  },
  {
   "cell_type": "markdown",
   "metadata": {},
   "source": [
    "Relevance Check 노드 (신규 정의)"
   ]
  },
  {
   "cell_type": "code",
   "execution_count": 10,
   "metadata": {},
   "outputs": [],
   "source": [
    "from langchain_openai import ChatOpenAI \n",
    "from langchain_teddynote.evaluator import GroundednessChecker "
   ]
  },
  {
   "cell_type": "code",
   "execution_count": 11,
   "metadata": {},
   "outputs": [],
   "source": [
    "# 관련성 체크 노드  \n",
    "def relevance_check(state: GraphState) -> GraphState:  \n",
    "    # 관련성 평가기 생성\n",
    "    question_answer_relevant = GroundednessChecker(  \n",
    "        llm=ChatOpenAI(model=\"gpt-4o-mini\", temperature=0), target=\"question-retrieval\"  \n",
    "    ).create()  \n",
    "\n",
    "    # 관련성 체크를 실행(\"yes\" or \"no\")  \n",
    "    response = question_answer_relevant.invoke(  \n",
    "        {\"question\": state[\"question\"], \"context\": state[\"context\"]}  \n",
    "    )  \n",
    "\n",
    "    print(\"==== [RELEVANCE CHECK] ====\")  \n",
    "    print(response.score)  \n",
    "    return GraphState(relevance=response.score)  \n",
    "\n",
    "\n",
    "# 관련성 체크하는 함수(router)  \n",
    "def is_relevant(state: GraphState) -> GraphState:  \n",
    "    return state[\"relevance\"]  "
   ]
  },
  {
   "cell_type": "markdown",
   "metadata": {},
   "source": [
    "### 그래프 정의"
   ]
  },
  {
   "cell_type": "code",
   "execution_count": 12,
   "metadata": {},
   "outputs": [],
   "source": [
    "from langgraph.graph import END, StateGraph  \n",
    "from langgraph.checkpoint.memory import MemorySaver  "
   ]
  },
  {
   "cell_type": "code",
   "execution_count": 13,
   "metadata": {},
   "outputs": [],
   "source": [
    "workflow = StateGraph(GraphState)  \n",
    "\n",
    "workflow.add_node(\"retrieve\", retrieve_document)  \n",
    "workflow.add_node(\"relevance_check\", relevance_check)  \n",
    "workflow.add_node(\"llm_answer\", llm_answer)  \n",
    "\n",
    "workflow.add_edge(\"retrieve\", \"relevance_check\")  # 검색 -> 관련성 체크  \n",
    "\n",
    "workflow.add_conditional_edges(  \n",
    "    \"relevance_check\",  # 관련성 체크 노드에서 나온 결과를 is_relevant 함수에 전달\n",
    "    is_relevant,  \n",
    "    {  \n",
    "        \"yes\": \"llm_answer\",  # 관련성이 있으면 답변 생성\n",
    "        \"no\": \"retrieve\",     # 관련성이 없으면 다시 검색  \n",
    "    },  \n",
    ")  \n",
    "\n",
    "workflow.set_entry_point(\"retrieve\")  \n",
    "\n",
    "memory = MemorySaver()  \n",
    "app = workflow.compile(checkpointer=memory)  "
   ]
  },
  {
   "cell_type": "code",
   "execution_count": 14,
   "metadata": {},
   "outputs": [
    {
     "data": {
      "image/jpeg": "[encoded data removed]",
      "text/plain": [
       "<IPython.core.display.Image object>"
      ]
     },
     "metadata": {},
     "output_type": "display_data"
    }
   ],
   "source": [
    "from langchain_teddynote.graphs import visualize_graph  \n",
    "\n",
    "visualize_graph(app)  "
   ]
  },
  {
   "cell_type": "markdown",
   "metadata": {},
   "source": [
    "### 그래프 실행"
   ]
  },
  {
   "cell_type": "code",
   "execution_count": 15,
   "metadata": {},
   "outputs": [],
   "source": [
    "from langchain_core.runnables import RunnableConfig  \n",
    "from langchain_teddynote.messages import stream_graph, random_uuid  "
   ]
  },
  {
   "cell_type": "code",
   "execution_count": 16,
   "metadata": {},
   "outputs": [
    {
     "name": "stdout",
     "output_type": "stream",
     "text": [
      "\n",
      "==================================================\n",
      "🔄 Node: \u001b[1;36mrelevance_check\u001b[0m 🔄\n",
      "- - - - - - - - - - - - - - - - - - - - - - - - - \n",
      "==== [RELEVANCE CHECK] ====\n",
      "yes\n",
      "\n",
      "==================================================\n",
      "🔄 Node: \u001b[1;36mllm_answer\u001b[0m 🔄\n",
      "- - - - - - - - - - - - - - - - - - - - - - - - - \n",
      "Apple Intelligence는 iPhone, iPad 및 Mac에서 언어와 이미지를 이해하고 생성하며, 개인 컨텍스트에서 일상적인 작업을 지원하는 기능을 제공하는 시스템입니다. 이 시스템은 사용자의 개인정보 보호를 중시하며 온디바이스 학습 방식을 채택하고 있습니다. 2024년 10월 28일에 공식 출시되었으며, 사용자는 글쓰기, 알림 및 메일 요약, 이미지에서 방해물 제거 등의 작업을 수행할 수 있습니다.\n",
      "\n",
      "**Source**\n",
      "- data/SPRi AI Brief_Special_AI Agent_241209_F.pdf (page 10)\n",
      "- data/SPRi AI Brief_Special_AI Agent_241209_F.pdf (page 11)"
     ]
    }
   ],
   "source": [
    "config = RunnableConfig(recursion_limit=20, configurable={\"thread_id\": random_uuid()})  \n",
    "inputs = GraphState(question=\"Apple Intelligence 관련 내용을 문서에서 찾아주세요\")  \n",
    "\n",
    "stream_graph(app, inputs, config, [\"relevance_check\", \"llm_answer\"])  "
   ]
  },
  {
   "cell_type": "code",
   "execution_count": 17,
   "metadata": {},
   "outputs": [
    {
     "name": "stdout",
     "output_type": "stream",
     "text": [
      "Question: Apple Intelligence 관련 내용을 문서에서 찾아주세요\n",
      "============================================================\n",
      "Answer:\n",
      "Apple Intelligence는 iPhone, iPad 및 Mac에서 언어와 이미지를 이해하고 생성하며, 개인 컨텍스트에서 일상적인 작업을 지원하는 기능을 제공하는 시스템입니다. 이 시스템은 사용자의 개인정보 보호를 중시하며 온디바이스 학습 방식을 채택하고 있습니다. 2024년 10월 28일에 공식 출시되었으며, 사용자는 글쓰기, 알림 및 메일 요약, 이미지에서 방해물 제거 등의 작업을 수행할 수 있습니다.\n",
      "\n",
      "**Source**\n",
      "- data/SPRi AI Brief_Special_AI Agent_241209_F.pdf (page 10)\n",
      "- data/SPRi AI Brief_Special_AI Agent_241209_F.pdf (page 11)\n"
     ]
    }
   ],
   "source": [
    "outputs = app.get_state(config).values  \n",
    "\n",
    "print(f'Question: {outputs[\"question\"]}')  \n",
    "print(\"===\" * 20)  \n",
    "print(f'Answer:\\n{outputs[\"answer\"]}')  "
   ]
  },
  {
   "cell_type": "code",
   "execution_count": 18,
   "metadata": {},
   "outputs": [],
   "source": [
    "from langgraph.errors import GraphRecursionError  "
   ]
  },
  {
   "cell_type": "code",
   "execution_count": 19,
   "metadata": {},
   "outputs": [
    {
     "name": "stdout",
     "output_type": "stream",
     "text": [
      "\n",
      "==================================================\n",
      "🔄 Node: \u001b[1;36mrelevance_check\u001b[0m 🔄\n",
      "- - - - - - - - - - - - - - - - - - - - - - - - - \n",
      "==== [RELEVANCE CHECK] ====\n",
      "yes\n",
      "\n",
      "==================================================\n",
      "🔄 Node: \u001b[1;36mllm_answer\u001b[0m 🔄\n",
      "- - - - - - - - - - - - - - - - - - - - - - - - - \n",
      "Apple Intelligence는 iPhone, iPad 및 Mac에서 언어와 이미지를 이해하고 생성하며, 개인 컨텍스트에서 일상적인 작업을 지원하는 기능을 제공하는 개인 인텔리전스 시스템입니다. 이 시스템은 사용자의 개인정보 보호를 중시하며 온디바이스 학습 방식을 채택하고 있습니다. 2024년 10월 28일에 공식 출시되었으며, 사용자는 글쓰기, 알림 및 메일 요약, 이미지에서 방해물 제거 등의 작업을 수행할 수 있습니다.\n",
      "\n",
      "**Source**\n",
      "- data/SPRi AI Brief_Special_AI Agent_241209_F.pdf (page 10)\n",
      "- data/SPRi AI Brief_Special_AI Agent_241209_F.pdf (page 11)"
     ]
    }
   ],
   "source": [
    "config = RunnableConfig(recursion_limit=10, configurable={\"thread_id\": random_uuid()})    \n",
    "inputs = GraphState(question=\"Apple Intelligence 관련 내용을 문서에서 찾아주세요\")  \n",
    "\n",
    "# relevance_check가 실패할 경우를 대비.. \n",
    "# recursion_limit을 설정하고, 에러 처리 반영\n",
    "try:  \n",
    "    # 그래프 실행  \n",
    "    stream_graph(app, inputs, config, [\"relevance_check\", \"llm_answer\"])  \n",
    "except GraphRecursionError as recursion_error:  \n",
    "    print(f\"GraphRecursionError: {recursion_error}\")  "
   ]
  },
  {
   "cell_type": "markdown",
   "metadata": {},
   "source": [
    "-----\n",
    "** End of Documents **"
   ]
  }
 ],
 "metadata": {
  "kernelspec": {
   "display_name": "langchain-kr-t0JhnSEV-py3.11",
   "language": "python",
   "name": "python3"
  },
  "language_info": {
   "codemirror_mode": {
    "name": "ipython",
    "version": 3
   },
   "file_extension": ".py",
   "mimetype": "text/x-python",
   "name": "python",
   "nbconvert_exporter": "python",
   "pygments_lexer": "ipython3",
   "version": "3.11.9"
  }
 },
 "nbformat": 4,
 "nbformat_minor": 2
}
