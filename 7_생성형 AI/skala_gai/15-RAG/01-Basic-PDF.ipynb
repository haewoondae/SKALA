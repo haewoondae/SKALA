{
 "cells": [
  {
   "cell_type": "code",
   "execution_count": 1,
   "metadata": {},
   "outputs": [
    {
     "data": {
      "text/plain": [
       "True"
      ]
     },
     "execution_count": 1,
     "metadata": {},
     "output_type": "execute_result"
    }
   ],
   "source": [
    "from dotenv import load_dotenv\n",
    "\n",
    "load_dotenv()"
   ]
  },
  {
   "cell_type": "code",
   "execution_count": 2,
   "metadata": {},
   "outputs": [
    {
     "name": "stdout",
     "output_type": "stream",
     "text": [
      "LangSmith 추적을 시작합니다.\n",
      "[프로젝트명]\n",
      "CH15-RAG\n"
     ]
    }
   ],
   "source": [
    "from langchain_teddynote import logging\n",
    "\n",
    "logging.langsmith(\"CH15-RAG\")"
   ]
  },
  {
   "cell_type": "markdown",
   "metadata": {},
   "source": [
    "# RAG 기본 구조 \n",
    "\n",
    "** 실습 자료 **\n",
    "\n",
    "소프트웨어정책연구소(SPRi), [AI Brief 스페셜] AI 에이전트 동향\n",
    "\n",
    "- 저자: 유재흥(AI정책연구실 책임연구원), 이해수(AI정책연구실 선임연구원)\n",
    "- 발생: 2024.12.10\n",
    "- 링크: https://spri.kr/posts/view/23798?code=AI-Brief&s_year=&data_page=1\n",
    "- 파일명: `SPRi AI Brief_Special_AI Agent_241209_F`\n",
    "\n",
    "(실습 준비)\n",
    "- 작업 폴더 하위에 `data` 폴더 생성 \n",
    "- 링크에서 다운로드 받은 파일을 `data` 폴더에 업로드 "
   ]
  },
  {
   "cell_type": "code",
   "execution_count": 3,
   "metadata": {},
   "outputs": [],
   "source": [
    "from langchain_text_splitters import RecursiveCharacterTextSplitter\n",
    "from langchain_community.document_loaders import PyMuPDFLoader\n",
    "from langchain_community.vectorstores import FAISS\n",
    "from langchain_core.output_parsers import StrOutputParser\n",
    "from langchain_core.runnables import RunnablePassthrough\n",
    "from langchain_core.prompts import PromptTemplate\n",
    "from langchain_openai import ChatOpenAI, OpenAIEmbeddings"
   ]
  },
  {
   "cell_type": "markdown",
   "metadata": {},
   "source": [
    "## Document Load "
   ]
  },
  {
   "cell_type": "code",
   "execution_count": 4,
   "metadata": {},
   "outputs": [
    {
     "name": "stdout",
     "output_type": "stream",
     "text": [
      "문서의 페이지수: 27\n"
     ]
    }
   ],
   "source": [
    "loader = PyMuPDFLoader(\"data/SPRi AI Brief_Special_AI Agent_241209_F.pdf\")\n",
    "docs = loader.load()\n",
    "\n",
    "print(f\"문서의 페이지수: {len(docs)}\")"
   ]
  },
  {
   "cell_type": "code",
   "execution_count": 5,
   "metadata": {},
   "outputs": [
    {
     "name": "stdout",
     "output_type": "stream",
     "text": [
      "SPRi AI Brief Special |  2024-12월호\n",
      "10\n",
      " - Shortcuts 앱을 사용하면 좋아하는 앱에서 여러 단계로 개인용 단축키를 만들 수 있으며, 갤러리에서 \n",
      "수백 개의 예제를 시작하거나 드래그 앤 드롭하여 직접 만들 수 있음\n",
      "∙ Apple은 개인정보 보호를 위해 Siri의 음성 인식과 명령 처리를 디바이스 내에서 수행할 수 있도록 \n",
      "설계하여 사용자 데이터가 Apple 서버로 전송되지 않고, 로컬에서 안전하게 처리\n",
      " - Apple은 Siri와 같은 AI 에이전트를 사용자 개인정보를 보호하는 방향으로 설계하여, 대부분의 데이터 \n",
      "처리를 사용자의 디바이스 내에서 수행해서 개인정보 보호와 높은 성능을 동시에 유지\n",
      "∙Siri는 iPhone, iPad, Apple Watch, HomePod, Mac 등 다양한 Apple 기기에서 작동하며, Apple ID를 \n",
      "통해 기기 간 통합된 경험을 제공 \n",
      "∙Apple은 전용 칩(A15 Bionic, M4* 등)과 신경 엔진(Neural Engine)을 통해 기계 학습 및 AI 작업을 \n",
      "최적화하여 Siri의 성능을 높이고 있으며, 이용자가 빠르고 일관된 응답을 받을 수 있도록 하고자 함 \n",
      "* Apple이 2024년 5월 아이패드 신제품을 발표하면서 선보인 차세대 M4칩으로 역대 가장 빠른 신경 엔진(Neural Engine)을 탑재\n",
      "£ (수익 모델) Siri는 Apple 생태계와 통합되어 사용자 경험을 향상시켜고 브랜드 가치를 \n",
      "높이며, 또한, 개인정보 보호 원칙에 따라 개인 데이터 수집을 최소화하여 기기 판매와 \n",
      "Apple 생태계에 대한 사용자 충성도를 강화\n",
      "∙Siri는 Apple의 모든 기기와 통합되어 Apple 생태계 내 사용자 경험을 향상시키며, 이를 통해 Apple 제품의 \n",
      "부가 가치를 높이는 기능으로 작용하여 기기 판매와 Apple 생태계에 대한 사용자 충성도를 강화하는 데 기여 \n",
      "∙Apple의 고객 중심 개인정보 보호 전략에 따라 Siri는 사용자 데이터 수집을 최소화하며, Google이나 \n",
      "Amazon과 달리 광고 모델을 통해 수익 창출을 하지 않음\n",
      "£ (최신 동정) 2024년 6월 Apple은 세계개발자대회(WWDC)에서 iPhone, iPad, Mac의 핵심 \n",
      "기능으로 강력한 생성 모델을 적용한 개인 인텔리전스 시스템인 Apple Intelligence를 소개21)\n",
      "∙생성형 모델의 힘과 개인 맥락을 결합하여 사용자에게 유용하고 관련성 있는 인텔리전스를 제공 \n",
      "∙2024년 10월 28일, Apple은 Apple Intelligence를 공식 출시하였고, 사용자들은 이를 활용하여 \n",
      "글쓰기를 다듬고, 알림, 메일, 메시지를 요약하고, 보다 자연스럽고 강력한 Siri를 경험하고, Clean Up을 \n",
      "사용하여 이미지에서 방해가 되는 물체를 제거하는 등의 작업을 수행 가능22)  \n",
      "∙ CEO 팀 쿡(Tim Cook)은 Apple Intelligence가 완전히 새로운 경험과 도구를 제공하며, 수년간의 AI 및 \n",
      "머신러닝 혁신을 바탕으로 Apple의 생성형 모델을 기기의 핵심에 배치해 개인 인텔리전스를 제공하는 \n",
      "동시에 개인정보를 보호하여 사용자의 삶을 풍요롭게 할 수 있는 잠재력이 크다고 언급  \n",
      "21) Apple, Introducing Apple Intelligence, the personal intelligence system that puts powerful generative models at the core of \n",
      "iPhone, iPad, and Mac, 2024.6.10\n",
      "22) Apple, Apple Intelligence is available today on iPhone, iPad, and Mac, 2024.10.28\n",
      "\n"
     ]
    }
   ],
   "source": [
    "print(docs[10].page_content)"
   ]
  },
  {
   "cell_type": "code",
   "execution_count": 6,
   "metadata": {},
   "outputs": [
    {
     "data": {
      "text/plain": [
       "{'id': None,\n",
       " 'metadata': {'source': 'data/SPRi AI Brief_Special_AI Agent_241209_F.pdf',\n",
       "  'file_path': 'data/SPRi AI Brief_Special_AI Agent_241209_F.pdf',\n",
       "  'page': 10,\n",
       "  'total_pages': 27,\n",
       "  'format': 'PDF 1.4',\n",
       "  'title': '',\n",
       "  'author': 'dj',\n",
       "  'subject': '',\n",
       "  'keywords': '',\n",
       "  'creator': 'Hwp 2018 10.0.0.13947',\n",
       "  'producer': 'Hancom PDF 1.3.0.547',\n",
       "  'creationDate': \"D:20241209094315+09'00'\",\n",
       "  'modDate': \"D:20241209094315+09'00'\",\n",
       "  'trapped': ''},\n",
       " 'page_content': 'SPRi AI Brief Special |  2024-12월호\\n10\\n - Shortcuts 앱을 사용하면 좋아하는 앱에서 여러 단계로 개인용 단축키를 만들 수 있으며, 갤러리에서 \\n수백 개의 예제를 시작하거나 드래그 앤 드롭하여 직접 만들 수 있음\\n∙ Apple은 개인정보 보호를 위해 Siri의 음성 인식과 명령 처리를 디바이스 내에서 수행할 수 있도록 \\n설계하여 사용자 데이터가 Apple 서버로 전송되지 않고, 로컬에서 안전하게 처리\\n - Apple은 Siri와 같은 AI 에이전트를 사용자 개인정보를 보호하는 방향으로 설계하여, 대부분의 데이터 \\n처리를 사용자의 디바이스 내에서 수행해서 개인정보 보호와 높은 성능을 동시에 유지\\n∙Siri는 iPhone, iPad, Apple Watch, HomePod, Mac 등 다양한 Apple 기기에서 작동하며, Apple ID를 \\n통해 기기 간 통합된 경험을 제공 \\n∙Apple은 전용 칩(A15 Bionic, M4* 등)과 신경 엔진(Neural Engine)을 통해 기계 학습 및 AI 작업을 \\n최적화하여 Siri의 성능을 높이고 있으며, 이용자가 빠르고 일관된 응답을 받을 수 있도록 하고자 함 \\n* Apple이 2024년 5월 아이패드 신제품을 발표하면서 선보인 차세대 M4칩으로 역대 가장 빠른 신경 엔진(Neural Engine)을 탑재\\n£ (수익 모델) Siri는 Apple 생태계와 통합되어 사용자 경험을 향상시켜고 브랜드 가치를 \\n높이며, 또한, 개인정보 보호 원칙에 따라 개인 데이터 수집을 최소화하여 기기 판매와 \\nApple 생태계에 대한 사용자 충성도를 강화\\n∙Siri는 Apple의 모든 기기와 통합되어 Apple 생태계 내 사용자 경험을 향상시키며, 이를 통해 Apple 제품의 \\n부가 가치를 높이는 기능으로 작용하여 기기 판매와 Apple 생태계에 대한 사용자 충성도를 강화하는 데 기여 \\n∙Apple의 고객 중심 개인정보 보호 전략에 따라 Siri는 사용자 데이터 수집을 최소화하며, Google이나 \\nAmazon과 달리 광고 모델을 통해 수익 창출을 하지 않음\\n£ (최신 동정) 2024년 6월 Apple은 세계개발자대회(WWDC)에서 iPhone, iPad, Mac의 핵심 \\n기능으로 강력한 생성 모델을 적용한 개인 인텔리전스 시스템인 Apple Intelligence를 소개21)\\n∙생성형 모델의 힘과 개인 맥락을 결합하여 사용자에게 유용하고 관련성 있는 인텔리전스를 제공 \\n∙2024년 10월 28일, Apple은 Apple Intelligence를 공식 출시하였고, 사용자들은 이를 활용하여 \\n글쓰기를 다듬고, 알림, 메일, 메시지를 요약하고, 보다 자연스럽고 강력한 Siri를 경험하고, Clean Up을 \\n사용하여 이미지에서 방해가 되는 물체를 제거하는 등의 작업을 수행 가능22)  \\n∙ CEO 팀 쿡(Tim Cook)은 Apple Intelligence가 완전히 새로운 경험과 도구를 제공하며, 수년간의 AI 및 \\n머신러닝 혁신을 바탕으로 Apple의 생성형 모델을 기기의 핵심에 배치해 개인 인텔리전스를 제공하는 \\n동시에 개인정보를 보호하여 사용자의 삶을 풍요롭게 할 수 있는 잠재력이 크다고 언급  \\n21) Apple, Introducing Apple Intelligence, the personal intelligence system that puts powerful generative models at the core of \\niPhone, iPad, and Mac, 2024.6.10\\n22) Apple, Apple Intelligence is available today on iPhone, iPad, and Mac, 2024.10.28\\n',\n",
       " 'type': 'Document'}"
      ]
     },
     "execution_count": 6,
     "metadata": {},
     "output_type": "execute_result"
    }
   ],
   "source": [
    "docs[10].__dict__"
   ]
  },
  {
   "cell_type": "code",
   "execution_count": 9,
   "metadata": {},
   "outputs": [
    {
     "data": {
      "text/plain": [
       "{'source': 'data/SPRi AI Brief_Special_AI Agent_241209_F.pdf',\n",
       " 'file_path': 'data/SPRi AI Brief_Special_AI Agent_241209_F.pdf',\n",
       " 'page': 1,\n",
       " 'total_pages': 27,\n",
       " 'format': 'PDF 1.4',\n",
       " 'title': '',\n",
       " 'author': 'dj',\n",
       " 'subject': '',\n",
       " 'keywords': '',\n",
       " 'creator': 'Hwp 2018 10.0.0.13947',\n",
       " 'producer': 'Hancom PDF 1.3.0.547',\n",
       " 'creationDate': \"D:20241209094315+09'00'\",\n",
       " 'modDate': \"D:20241209094315+09'00'\",\n",
       " 'trapped': ''}"
      ]
     },
     "execution_count": 9,
     "metadata": {},
     "output_type": "execute_result"
    }
   ],
   "source": [
    "docs[1].metadata"
   ]
  },
  {
   "cell_type": "markdown",
   "metadata": {},
   "source": [
    "## Text Splitter"
   ]
  },
  {
   "cell_type": "code",
   "execution_count": 7,
   "metadata": {},
   "outputs": [
    {
     "name": "stdout",
     "output_type": "stream",
     "text": [
      "분할된 청크의수: 88\n"
     ]
    }
   ],
   "source": [
    "text_splitter = RecursiveCharacterTextSplitter(chunk_size=500, chunk_overlap=50)\n",
    "split_documents = text_splitter.split_documents(docs)\n",
    "\n",
    "print(f\"분할된 청크의수: {len(split_documents)}\")"
   ]
  },
  {
   "cell_type": "markdown",
   "metadata": {},
   "source": [
    "## Embedding"
   ]
  },
  {
   "cell_type": "code",
   "execution_count": 8,
   "metadata": {},
   "outputs": [],
   "source": [
    "embeddings = OpenAIEmbeddings(model=\"text-embedding-3-small\")"
   ]
  },
  {
   "cell_type": "markdown",
   "metadata": {},
   "source": [
    "## Vector Store"
   ]
  },
  {
   "cell_type": "code",
   "execution_count": 9,
   "metadata": {},
   "outputs": [],
   "source": [
    "vectorstore = FAISS.from_documents(documents=split_documents, embedding=embeddings)"
   ]
  },
  {
   "cell_type": "code",
   "execution_count": 10,
   "metadata": {},
   "outputs": [
    {
     "name": "stdout",
     "output_type": "stream",
     "text": [
      "요금 부과\n",
      "∙Google Assistant와 관련된 검색 결과와 정보 제공 과정에서 광고를 통한 수익 창출이 이루어짐\n",
      "15) Deepmind, Project Astra, https://deepmind.google/technologies/gemini/project-astra\n",
      "- 일상생활을 위한 AI 에이전트로 불리는 프로젝트 아스트라(Project Astra)는 구글 렌즈와 같이 실시간 \n",
      "비디오와 오디오를 이해하고, 추론하고, 반응할 수 있음\n",
      "<구글의 고객 참여 및 대화 관련 AI 제품> \n",
      "*출처: google.com17)\n",
      "∙ ‘Gemini at Work’ 행사(2024년 9월 개최)에서 새로운 Gemini 모델(Gemini 1.5 Flash 및  1.5 Pro)과 \n",
      "함께 고객 참여 및 대화를 위해 설계된 AI 에이전트 제품군 출시18)\n",
      " - ‘Gemini at Work’에서 Google Cloud CEO(Thomas Kurian)는 기조연설에서 고객 상담 AI 에이전트가 \n",
      "고객과 자연스럽게 대화하고 상호작용 하여 올바른 답변을 제공할 것이라고 언급\n",
      "∙2024년 11월, Google은 웹을 검색하는 차기 AI 에이전트인 ‘Jarvis AI’를 개발 중인하고 있는 것으로 확인19)\n",
      "정보 검색, 스마트홈 기기 제어, 번역 등의 기능을 제공\n",
      "∙(Dialogflow) 비즈니스용 AI 챗봇을 쉽게 개발할 수 있는 Google의 대화형 AI 플랫폼으료, Dialogflow를 \n",
      "통해 구축된 챗봇은 고객의 질문을 이해하고 자동으로 응답을 생성하며, FAQ 처리, 예약 관리와 같은 \n",
      "구체적인 작업을 수행 가능\n",
      "∙(Google Duplex) AI 기반 전화 응대 서비스로, 사용자를 대신해 전화로 예약이나 문의를 수행할 수 있도록 \n",
      "설계되었으며, Duplex는 자연스러운 음성 대화와 맥락 이해를 통해 사람처럼 전화 통화를 진행하며, \n",
      "음식점 예약, 미용실 예약 등의 작업에서 상황을 인식하고 사용자 대신 특정 작업을 수행할 수 있음\n",
      "£ (수익 모델) Google Assistant와 관련된 검색 결과와 정보 제공 과정에서 광고를 통한 \n",
      "수익 창출이 이루어짐 \n",
      "∙Google은 Dialogflow를 구독 서비스 형태로 제공하여 기업이 챗봇을 쉽게 구축하고 API 사용량에 따라\n",
      "- ‘Jarvis AI’는 사용자가 Google Chrome에서 웹 브라우징 작업을 자동화하여, AI 에이전트가 쇼핑이나  \n",
      "항공편 예약과 같은 작업을 수행하는 동안 사용자가 더 중요한 일에 집중할 수 있도록 지원할 예정\n",
      "16) TechTarget, Google Cloud debuts agent builder to ease GenAI adoption, 2024.4.10. \n",
      "17) https://cloud.google.com/blog/products/ai-machine-learning/introducing-customer-engagement-suite-with-google-ai\n",
      "18) Constellation Research, Google Cloud rolls out new Gemini models, AI agents, customer engagement suite, 2024.9.24\n"
     ]
    }
   ],
   "source": [
    "for doc in vectorstore.similarity_search(\"구글\"):\n",
    "    print(doc.page_content)"
   ]
  },
  {
   "cell_type": "markdown",
   "metadata": {},
   "source": [
    "## Retriever"
   ]
  },
  {
   "cell_type": "code",
   "execution_count": 11,
   "metadata": {},
   "outputs": [
    {
     "data": {
      "text/plain": [
       "[Document(metadata={'source': 'data/SPRi AI Brief_Special_AI Agent_241209_F.pdf', 'file_path': 'data/SPRi AI Brief_Special_AI Agent_241209_F.pdf', 'page': 7, 'total_pages': 27, 'format': 'PDF 1.4', 'title': '', 'author': 'dj', 'subject': '', 'keywords': '', 'creator': 'Hwp 2018 10.0.0.13947', 'producer': 'Hancom PDF 1.3.0.547', 'creationDate': \"D:20241209094315+09'00'\", 'modDate': \"D:20241209094315+09'00'\", 'trapped': ''}, page_content='요금 부과\\n∙Google Assistant와 관련된 검색 결과와 정보 제공 과정에서 광고를 통한 수익 창출이 이루어짐\\n15) Deepmind, Project Astra, https://deepmind.google/technologies/gemini/project-astra'),\n",
       " Document(metadata={'source': 'data/SPRi AI Brief_Special_AI Agent_241209_F.pdf', 'file_path': 'data/SPRi AI Brief_Special_AI Agent_241209_F.pdf', 'page': 8, 'total_pages': 27, 'format': 'PDF 1.4', 'title': '', 'author': 'dj', 'subject': '', 'keywords': '', 'creator': 'Hwp 2018 10.0.0.13947', 'producer': 'Hancom PDF 1.3.0.547', 'creationDate': \"D:20241209094315+09'00'\", 'modDate': \"D:20241209094315+09'00'\", 'trapped': ''}, page_content='- 일상생활을 위한 AI 에이전트로 불리는 프로젝트 아스트라(Project Astra)는 구글 렌즈와 같이 실시간 \\n비디오와 오디오를 이해하고, 추론하고, 반응할 수 있음\\n<구글의 고객 참여 및 대화 관련 AI 제품> \\n*출처: google.com17)\\n∙ ‘Gemini at Work’ 행사(2024년 9월 개최)에서 새로운 Gemini 모델(Gemini 1.5 Flash 및  1.5 Pro)과 \\n함께 고객 참여 및 대화를 위해 설계된 AI 에이전트 제품군 출시18)\\n - ‘Gemini at Work’에서 Google Cloud CEO(Thomas Kurian)는 기조연설에서 고객 상담 AI 에이전트가 \\n고객과 자연스럽게 대화하고 상호작용 하여 올바른 답변을 제공할 것이라고 언급\\n∙2024년 11월, Google은 웹을 검색하는 차기 AI 에이전트인 ‘Jarvis AI’를 개발 중인하고 있는 것으로 확인19)'),\n",
       " Document(metadata={'source': 'data/SPRi AI Brief_Special_AI Agent_241209_F.pdf', 'file_path': 'data/SPRi AI Brief_Special_AI Agent_241209_F.pdf', 'page': 7, 'total_pages': 27, 'format': 'PDF 1.4', 'title': '', 'author': 'dj', 'subject': '', 'keywords': '', 'creator': 'Hwp 2018 10.0.0.13947', 'producer': 'Hancom PDF 1.3.0.547', 'creationDate': \"D:20241209094315+09'00'\", 'modDate': \"D:20241209094315+09'00'\", 'trapped': ''}, page_content='SPRi AI Brief Special |  2024-12월호\\n7\\n∙최근 고급 챗봇과 대화형 AI 기능울 \\u200b생성할 수 있도록 지원하는 도구로 ‘Vertex AI Agent Builder’ 제공\\n∙Gemini 모델을 기반으로 한 ‘Project Astra’는 다중모드 정보를 처리하고, 사용자의 상황을 이해하며, \\n대화에서 자연스럽게 응답할 수 있는 AI 어시스턴트의 미래를 탐구\\n물리적 그림 설명\\n조망 그림 인식\\n물체 순서 기억\\n<구글의 Project Astra 활용 예시>\\n*출처: deepmind.google15)\\n£ (기능/기술) Google의 AI 에이전트들은 일정 관리, 챗봇, 전화 예약 등 다양한 작업을 지원\\n∙(Google Assistant) Google의 대표적인 AI 에이전트로, 사용자와의 음성 및 텍스트 대화를 통해 일상 \\n업무를 지원하고, 스마트폰, 스피커, 스마트 디스플레이 등 다양한 디바이스에서 사용 가능하며, 일정 관리,'),\n",
       " Document(metadata={'source': 'data/SPRi AI Brief_Special_AI Agent_241209_F.pdf', 'file_path': 'data/SPRi AI Brief_Special_AI Agent_241209_F.pdf', 'page': 8, 'total_pages': 27, 'format': 'PDF 1.4', 'title': '', 'author': 'dj', 'subject': '', 'keywords': '', 'creator': 'Hwp 2018 10.0.0.13947', 'producer': 'Hancom PDF 1.3.0.547', 'creationDate': \"D:20241209094315+09'00'\", 'modDate': \"D:20241209094315+09'00'\", 'trapped': ''}, page_content=\"SPRi AI Brief Special |  2024-12월호\\n8\\n£ (최신 동정) Google의 ‘Vertex AI Agent Builder’ 등 최근의 제품군들은 고급 챗봇 및 \\n대화형 AI 기능을 강화\\n∙Google 클라우드는 2024년 4월 라스베이거스에서 열린 ‘Google Cloud Next '24’에서 고급 챗봇 및 \\n기타 대화형 AI 기능을 보다 쉽게 \\u200b생성할 수 있도록 지원하는 ‘Vertex AI Agent Builder’를 발표16) \\n - ‘Vertex AI Agent Builder’는 머신러닝 기술이 제한적인 개발자도 Google의 파운데이션 모델, 검색 전문 \\n기술, 대화형 AI 기술을 활용하여 엔터프라이즈급 생성형 AI 애플리케이션을 만들 수 있도록 지원\\n∙2024년 4월 개최된 ‘Google I/O 2024’에서 미래의 AI 어시스턴트 개발 프로젝트 ‘Project Astra’을 발표\")]"
      ]
     },
     "execution_count": 11,
     "metadata": {},
     "output_type": "execute_result"
    }
   ],
   "source": [
    "retriever = vectorstore.as_retriever()\n",
    "retriever.invoke(\"구글이 진행하고 있는 Project Astra는 어떤 프로젝트 인가요?\")"
   ]
  },
  {
   "cell_type": "markdown",
   "metadata": {},
   "source": [
    "## Prompt"
   ]
  },
  {
   "cell_type": "code",
   "execution_count": 12,
   "metadata": {},
   "outputs": [],
   "source": [
    "prompt = PromptTemplate.from_template(\n",
    "    \"\"\"You are an assistant for question-answering tasks. \n",
    "Use the following pieces of retrieved context to answer the question. \n",
    "If you don't know the answer, just say that you don't know. \n",
    "Answer in Korean.\n",
    "\n",
    "#Context: \n",
    "{context}\n",
    "\n",
    "#Question:\n",
    "{question}\n",
    "\n",
    "#Answer:\"\"\"\n",
    ")"
   ]
  },
  {
   "cell_type": "markdown",
   "metadata": {},
   "source": [
    "## LLM"
   ]
  },
  {
   "cell_type": "code",
   "execution_count": 13,
   "metadata": {},
   "outputs": [],
   "source": [
    "llm = ChatOpenAI(model_name=\"gpt-4o-mini\", temperature=0)"
   ]
  },
  {
   "cell_type": "markdown",
   "metadata": {},
   "source": [
    "## Chain"
   ]
  },
  {
   "cell_type": "code",
   "execution_count": 14,
   "metadata": {},
   "outputs": [],
   "source": [
    "chain = (\n",
    "    {\"context\": retriever, \"question\": RunnablePassthrough()}\n",
    "    | prompt\n",
    "    | llm\n",
    "    | StrOutputParser()\n",
    ")"
   ]
  },
  {
   "cell_type": "code",
   "execution_count": 15,
   "metadata": {},
   "outputs": [
    {
     "name": "stdout",
     "output_type": "stream",
     "text": [
      "구글의 Project Astra는 일상생활을 위한 AI 에이전트로, 실시간 비디오와 오디오를 이해하고, 추론하며, 반응할 수 있는 기능을 갖추고 있습니다. 이 프로젝트는 다중모드 정보를 처리하고 사용자의 상황을 이해하며 대화에서 자연스럽게 응답할 수 있는 AI 어시스턴트의 미래를 탐구하고 있습니다.\n"
     ]
    }
   ],
   "source": [
    "# 결과 실행 \n",
    "question = \"구글이 진행하고 있는 Project Astra는 어떤 프로젝트 인가요?\"\n",
    "response = chain.invoke(question)\n",
    "\n",
    "print(response)"
   ]
  },
  {
   "cell_type": "markdown",
   "metadata": {},
   "source": [
    "<- 위 내용을 LangSmith에서 trace 내역 확인하기"
   ]
  },
  {
   "cell_type": "markdown",
   "metadata": {},
   "source": [
    "-----\n",
    "** End of Documents **"
   ]
  }
 ],
 "metadata": {
  "kernelspec": {
   "display_name": "langchain-kr-t0JhnSEV-py3.11",
   "language": "python",
   "name": "python3"
  },
  "language_info": {
   "codemirror_mode": {
    "name": "ipython",
    "version": 3
   },
   "file_extension": ".py",
   "mimetype": "text/x-python",
   "name": "python",
   "nbconvert_exporter": "python",
   "pygments_lexer": "ipython3",
   "version": "3.11.9"
  }
 },
 "nbformat": 4,
 "nbformat_minor": 2
}
