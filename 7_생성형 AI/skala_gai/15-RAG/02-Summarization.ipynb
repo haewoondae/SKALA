{
 "cells": [
  {
   "cell_type": "code",
   "execution_count": 1,
   "metadata": {},
   "outputs": [
    {
     "data": {
      "text/plain": [
       "True"
      ]
     },
     "execution_count": 1,
     "metadata": {},
     "output_type": "execute_result"
    }
   ],
   "source": [
    "from dotenv import load_dotenv\n",
    "\n",
    "load_dotenv()"
   ]
  },
  {
   "cell_type": "code",
   "execution_count": 2,
   "metadata": {},
   "outputs": [
    {
     "name": "stdout",
     "output_type": "stream",
     "text": [
      "LangSmith 추적을 시작합니다.\n",
      "[프로젝트명]\n",
      "CH15-RAG\n"
     ]
    }
   ],
   "source": [
    "from langchain_teddynote import logging\n",
    "\n",
    "logging.langsmith(\"CH15-RAG\")"
   ]
  },
  {
   "cell_type": "markdown",
   "metadata": {},
   "source": [
    "# Summarization \n",
    "\n",
    "** 실습 자료 **\n",
    "\n",
    "소프트웨어정책연구소(SPRi), [AI Brief 스페셜] AI 에이전트 동향\n",
    "\n",
    "- 저자: 유재흥(AI정책연구실 책임연구원), 이해수(AI정책연구실 선임연구원)\n",
    "- 발생: 2024.12.10\n",
    "- 링크: https://spri.kr/posts/view/23798?code=AI-Brief&s_year=&data_page=1\n",
    "- 파일명: `SPRi AI Brief_Special_AI Agent_241209_F`\n",
    "\n",
    "(실습 준비)\n",
    "- 작업 폴더 하위에 `data` 폴더 생성 \n",
    "- 링크에서 다운로드 받은 파일을 `data` 폴더에 업로드 "
   ]
  },
  {
   "cell_type": "markdown",
   "metadata": {},
   "source": [
    "** 요약 방법 **\n",
    "\n",
    "- Stuff : 전체 문서를 한번에 요약  \n",
    "- Map-reduce : 분할 요약 후 일괄 병합 \n",
    "- Refine : 분할 요약 후 점진적인 병합 \n",
    "- Chain of Density : N번 반복 실행 통해 엔티티를 보완하며 요약 개선 \n",
    "- Clustering Map-refine : 문서 청크를 N개의 클러스터로 나누고, 각 클러스터의 중심점에 가까운 문서를 Refine 요약"
   ]
  },
  {
   "cell_type": "markdown",
   "metadata": {},
   "source": [
    "## Stuff\n",
    "\n",
    "- 사전적 의미 : 채우다 \n",
    "- 문서 목록을 가져와서 모두 프롬프트에 삽입 "
   ]
  },
  {
   "cell_type": "code",
   "execution_count": 3,
   "metadata": {},
   "outputs": [],
   "source": [
    "from langchain_community.document_loaders import TextLoader\n",
    "from langchain import hub\n",
    "from langchain_openai import ChatOpenAI\n",
    "from langchain.chains.combine_documents import create_stuff_documents_chain\n",
    "from langchain_teddynote.callbacks import StreamingCallback"
   ]
  },
  {
   "cell_type": "code",
   "execution_count": 4,
   "metadata": {},
   "outputs": [
    {
     "name": "stdout",
     "output_type": "stream",
     "text": [
      "총 글자수: 1708\n",
      "\n",
      "========= 앞부분 미리보기 =========\n",
      "\n",
      "제목: \n",
      "AI2, 상업 활용까지 자유로운 '진짜' 오픈 소스 LLM '올모' 출시\n",
      "\n",
      "내용:\n",
      "앨런AI연구소(AI2)가 완전한 오픈 소스 대형언어모델(LLM) '올모(OLMo)’를 출시했다. 데이터 수집, 학습, 배포의 전 과정을 투명하게 공개한 데다 상업적 사용까지 허용한 진정한 의미의 오픈 소스 LLM이라는 평가다.\n",
      "벤처비트는 1일(현지시간) 비영리 민간 AI 연구기관인 AI2가 ‘최초의 진정한 오픈 소스 LLM 및 프레임워크’라고 소개한 ‘올모’를 출시했다고 보도했다. \n",
      "이에 따르면 올모는 모델 코드와 모델 가중치뿐만 아니라 훈련 코드, 훈련 데이터, 관련 툴킷 및 평가 툴킷도 제공한다. 이를 통해 모델이 어떻게 구축되었는지 심층적으로 분석, LLM의 작동 방식과 응답을 생성하는 원리를 더 잘 이해할 수 있다. \n",
      "올모 프레임워크는 70억 매개변수의 ‘올모 7B’ 등 4가지 변형 모델과 10억 매개변수의 ‘올모 1B’ 모델을 제공한다. 모델들은 훈련 데이터를 생성하는 코드를 포함해 \n"
     ]
    }
   ],
   "source": [
    "loader = TextLoader(\"data/news.txt\")\n",
    "docs = loader.load()\n",
    "\n",
    "print(f\"총 글자수: {len(docs[0].page_content)}\")\n",
    "print(\"\\n========= 앞부분 미리보기 =========\\n\")\n",
    "print(docs[0].page_content[:500])"
   ]
  },
  {
   "cell_type": "code",
   "execution_count": 5,
   "metadata": {},
   "outputs": [
    {
     "name": "stdout",
     "output_type": "stream",
     "text": [
      "Please summarize the sentence according to the following REQUEST.\n",
      "REQUEST:\n",
      "1. Summarize the main points in bullet points in KOREAN.\n",
      "2. Each summarized sentence must start with an emoji that fits the meaning of the each sentence.\n",
      "3. Use various emojis to make the summary more interesting.\n",
      "4. Translate the summary into KOREAN if it is written in ENGLISH.\n",
      "5. DO NOT translate any technical terms.\n",
      "6. DO NOT include any unnecessary information.\n",
      "\n",
      "CONTEXT:\n",
      "\u001b[33;1m\u001b[1;3m{context}\u001b[0m\n",
      "\n",
      "SUMMARY:\"\n",
      "\n"
     ]
    }
   ],
   "source": [
    "prompt = hub.pull(\"teddynote/summary-stuff-documents-korean\")\n",
    "prompt.pretty_print()"
   ]
  },
  {
   "cell_type": "code",
   "execution_count": 6,
   "metadata": {},
   "outputs": [
    {
     "name": "stdout",
     "output_type": "stream",
     "text": [
      "- 🚀 **AI2가 '올모(OLMo)'라는 완전한 오픈 소스 LLM을 출시했다.**  \n",
      "- 📊 **모델 코드, 가중치, 훈련 데이터 및 도구킷을 모두 공개하여 투명성을 강조했다.**  \n",
      "- 🛠️ **올모는 70억 매개변수의 '올모 7B'와 10억 매개변수의 '올모 1B' 모델을 포함한 4가지 변형 모델을 제공한다.**  \n",
      "- 📈 **상업적 활용에 제한이 없으며, 아파치 2.0 라이선스 하에 배포된다.**  \n",
      "- 🔍 **훈련 데이터에 대한 접근이 가능하여 연구자들이 모델 작동 원리를 이해할 수 있도록 돕는다.**  \n",
      "- 🌍 **올모는 상업용 제품과 동등한 성능을 보여주지만, 비영어권 언어에 대한 품질이 낮고 코드 생성 기능이 약하다.**  \n",
      "- 🔄 **AI2는 다양한 모델 크기와 기능을 통해 올모를 지속적으로 개선할 계획이다.**  \n",
      "- 🌐 **올모의 모든 리소스는 깃허브 및 허깅페이스에서 무료로 제공된다.**  "
     ]
    }
   ],
   "source": [
    "llm = ChatOpenAI(\n",
    "    model_name=\"gpt-4o-mini\",\n",
    "    streaming=True,\n",
    "    temperature=0,\n",
    "    callbacks=[StreamingCallback()],\n",
    ")\n",
    "\n",
    "stuff_chain = create_stuff_documents_chain(llm, prompt)\n",
    "answer = stuff_chain.invoke({\"context\": docs})"
   ]
  },
  {
   "cell_type": "markdown",
   "metadata": {},
   "source": [
    "## Map-Reduce\n",
    "\n",
    "- 긴 문서를 요약하는 방법 중 하나\n",
    "- 대규모 문서 처리에 유용하고, 언어 모델의 토큰 제한을 우회할 수 있음 \n",
    "- map-reduce \n",
    "    - map : 문서를 청크 단위로 나누고 \n",
    "    - reduce : 각 청크의 요약을 결합 "
   ]
  },
  {
   "cell_type": "code",
   "execution_count": 7,
   "metadata": {},
   "outputs": [],
   "source": [
    "from langchain_community.document_loaders import PyPDFLoader\n",
    "from langchain import hub\n",
    "from langchain_openai import ChatOpenAI\n",
    "from langchain_core.output_parsers import StrOutputParser\n",
    "from langchain_teddynote.messages import stream_response"
   ]
  },
  {
   "cell_type": "code",
   "execution_count": 8,
   "metadata": {},
   "outputs": [
    {
     "name": "stdout",
     "output_type": "stream",
     "text": [
      "총 페이지수: 5\n"
     ]
    }
   ],
   "source": [
    "loader = PyPDFLoader(\"data/SPRi AI Brief_Special_AI Agent_241209_F.pdf\")\n",
    "docs = loader.load()\n",
    "docs = docs[3:8]  # 여기서 문서의 일부만 요약\n",
    "\n",
    "print(f\"총 페이지수: {len(docs)}\")"
   ]
  },
  {
   "cell_type": "markdown",
   "metadata": {},
   "source": [
    "### map"
   ]
  },
  {
   "cell_type": "code",
   "execution_count": 9,
   "metadata": {},
   "outputs": [
    {
     "name": "stdout",
     "output_type": "stream",
     "text": [
      "================================\u001b[1m System Message \u001b[0m================================\n",
      "\n",
      "You are a professional main thesis extractor.\n",
      "\n",
      "================================\u001b[1m Human Message \u001b[0m=================================\n",
      "\n",
      "Your task is to extract main thesis from given documents. Answer should be in same language as given document. \n",
      "\n",
      "#Format: \n",
      "- thesis 1\n",
      "- thesis 2\n",
      "- thesis 3\n",
      "- ...\n",
      "\n",
      "Here is a given document: \n",
      "\u001b[33;1m\u001b[1;3m{doc}\u001b[0m\n",
      "\n",
      "Write 1~5 sentences.\n",
      "#Answer:\n"
     ]
    }
   ],
   "source": [
    "llm = ChatOpenAI(\n",
    "    temperature=0,\n",
    "    model_name=\"gpt-4o-mini\",\n",
    ")\n",
    "\n",
    "# map prompt 다운로드\n",
    "map_prompt = hub.pull(\"teddynote/map-prompt\")\n",
    "\n",
    "# 프롬프트 출력\n",
    "map_prompt.pretty_print()"
   ]
  },
  {
   "cell_type": "code",
   "execution_count": 10,
   "metadata": {},
   "outputs": [],
   "source": [
    "# map chain 생성\n",
    "map_chain = map_prompt | llm | StrOutputParser()\n",
    "\n",
    "# 문서에 대한 주요내용 추출\n",
    "doc_summaries = map_chain.batch(docs)"
   ]
  },
  {
   "cell_type": "code",
   "execution_count": 11,
   "metadata": {},
   "outputs": [
    {
     "name": "stdout",
     "output_type": "stream",
     "text": [
      "- AI 에이전트는 사용자 또는 다른 시스템을 대신하여 작업을 자율적으로 수행할 수 있는 시스템으로 정의된다.\n",
      "- AI 기술의 발전과 클라우드 및 엣지 컴퓨팅의 발전으로 AI 에이전트의 수요가 증가하고 있으며, 다양한 산업에서 활용 가능성이 커지고 있다.\n",
      "- AI 에이전트는 고객 서비스, 스마트홈, 산업 자동화 등에서 자연스러운 상호작용을 요구하는 환경에서 중요한 역할을 할 것으로 기대된다.\n",
      "- 시장조사기관 Markets&Markets에 따르면, AI 에이전트 시장은 2024년 51억 달러에서 2030년 471억 달러로 성장할 것으로 예상되며, 연평균 성장률은 44.8%에 이를 것으로 전망된다.\n",
      "- AI 에이전트는 NLP, 머신러닝, 컴퓨터 비전 등을 포함하여 다양한 업무 자동화와 데이터 분석을 지원하는 소프트웨어로 사용된다.\n"
     ]
    }
   ],
   "source": [
    "# 요약된 문서의 수 출력\n",
    "len(doc_summaries)\n",
    "\n",
    "# 일부 문서의 요약 출력\n",
    "print(doc_summaries[0])"
   ]
  },
  {
   "cell_type": "markdown",
   "metadata": {},
   "source": [
    "### reduce"
   ]
  },
  {
   "cell_type": "code",
   "execution_count": 12,
   "metadata": {},
   "outputs": [
    {
     "name": "stdout",
     "output_type": "stream",
     "text": [
      "================================\u001b[1m System Message \u001b[0m================================\n",
      "\n",
      "You are a professional summarizer. You are given a list of summaries of documents and you are asked to create a single summary of the documents.\n",
      "\n",
      "================================\u001b[1m Human Message \u001b[0m=================================\n",
      "\n",
      "#Instructions: \n",
      "1. Extract main points from a list of summaries of documents\n",
      "2. Make final summaries in bullet points format.\n",
      "3. Answer should be written in \u001b[33;1m\u001b[1;3m{language}\u001b[0m.\n",
      "\n",
      "#Format: \n",
      "- summary 1\n",
      "- summary 2\n",
      "- summary 3\n",
      "- ...\n",
      "\n",
      "Here is a list of summaries of documents: \n",
      "\u001b[33;1m\u001b[1;3m{doc_summaries}\u001b[0m\n",
      "\n",
      "#SUMMARY:\n"
     ]
    }
   ],
   "source": [
    "# reduce prompt 다운로드\n",
    "reduce_prompt = hub.pull(\"teddynote/reduce-prompt\")\n",
    "\n",
    "# 프롬프트 출력\n",
    "reduce_prompt.pretty_print()"
   ]
  },
  {
   "cell_type": "code",
   "execution_count": 13,
   "metadata": {},
   "outputs": [
    {
     "name": "stdout",
     "output_type": "stream",
     "text": [
      "- AI 에이전트는 자율적으로 작업을 수행하는 시스템으로, 다양한 산업에서 활용 가능성이 증가하고 있다.\n",
      "- AI 기술과 클라우드, 엣지 컴퓨팅의 발전으로 AI 에이전트의 수요가 높아지고 있으며, 고객 서비스, 스마트홈, 산업 자동화 등에서 중요한 역할을 할 것으로 기대된다.\n",
      "- AI 에이전트 시장은 2024년 51억 달러에서 2030년 471억 달러로 성장할 것으로 예상되며, 연평균 성장률은 44.8%에 이를 전망이다.\n",
      "- 주요 성장 동인은 개인화된 상호작용에 대한 소비자 기대와 데이터 활용을 통한 맞춤형 추천 및 고객 지원이다.\n",
      "- 북미 지역이 AI 에이전트 시장에서 40% 이상의 매출 점유율을 차지하고 있으며, 의료 산업이 가장 높은 성장률을 보일 것으로 예상된다.\n",
      "- Microsoft는 Azure 플랫폼을 통해 AI 에이전트를 개발하고 있으며, 다양한 기업용 서비스와 AI 챗봇 구축 도구를 제공하고 있다.\n",
      "- Google은 Google Assistant와 Dialogflow 등을 통해 사용자 경험을 극대화하고 있으며, 'Vertex AI Agent Builder'와 'Project Astra'를 통해 보편적인 AI 에이전트를 개발 중이다."
     ]
    }
   ],
   "source": [
    "# reduce chain 생성\n",
    "reduce_chain = reduce_prompt | llm | StrOutputParser()\n",
    "\n",
    "# 실행 \n",
    "answer = reduce_chain.stream(\n",
    "    {\"doc_summaries\": \"\\n\".join(doc_summaries), \"language\": \"Korean\"}\n",
    ")\n",
    "stream_response(answer)"
   ]
  },
  {
   "cell_type": "markdown",
   "metadata": {},
   "source": [
    "### @tool"
   ]
  },
  {
   "cell_type": "code",
   "execution_count": 14,
   "metadata": {},
   "outputs": [],
   "source": [
    "from langchain_core.runnables import chain\n",
    "\n",
    "\n",
    "@chain\n",
    "def map_reduce_chain(docs):\n",
    "    map_llm = ChatOpenAI(\n",
    "        temperature=0,\n",
    "        model_name=\"gpt-4o-mini\",\n",
    "    )\n",
    "\n",
    "    # map prompt 다운로드\n",
    "    map_prompt = hub.pull(\"teddynote/map-prompt\")\n",
    "\n",
    "    # map chain 생성\n",
    "    map_chain = map_prompt | map_llm | StrOutputParser()\n",
    "\n",
    "    # 첫 번째 프롬프트, ChatOpenAI, 문자열 출력 파서를 연결하여 체인 생성\n",
    "    doc_summaries = map_chain.batch(docs)\n",
    "\n",
    "    # reduce prompt 다운로드\n",
    "    reduce_prompt = hub.pull(\"teddynote/reduce-prompt\")\n",
    "    reduce_llm = ChatOpenAI(\n",
    "        model_name=\"gpt-4o\",\n",
    "        temperature=0,\n",
    "        callbacks=[StreamingCallback()],\n",
    "        streaming=True,\n",
    "    )\n",
    "\n",
    "    # reduce chain 생성\n",
    "    reduce_chain = reduce_prompt | reduce_llm | StrOutputParser()\n",
    "\n",
    "    return reduce_chain.invoke(\n",
    "        {\"doc_summaries\": \"\\n\".join(doc_summaries), \"language\": \"Korean\"}\n",
    "    )"
   ]
  },
  {
   "cell_type": "code",
   "execution_count": 15,
   "metadata": {},
   "outputs": [
    {
     "name": "stdout",
     "output_type": "stream",
     "text": [
      "- AI 에이전트는 자율적으로 사용자의 작업을 수행하며, AI 기술의 발전과 함께 다양한 분야에서 수요가 증가하고 있다.\n",
      "- 클라우드 및 엣지 컴퓨팅의 발전은 AI 에이전트의 실시간 데이터 처리와 빠른 의사결정을 가능하게 한다.\n",
      "- AI 에이전트 시장은 2024년 51억 달러에서 2030년 471억 달러로 성장할 것으로 예상되며, 연평균 성장률은 약 44.8%에 이를 것으로 전망된다.\n",
      "- AI 에이전트는 NLP, 머신러닝, 컴퓨터 비전 등을 활용하여 업무 자동화와 데이터 분석을 지원한다.\n",
      "- 북미 지역이 AI 에이전트 시장을 주도하고 있으며, 주요 기술 회사들이 기술 개발을 선도하고 있다.\n",
      "- 의료 산업은 AI 에이전트의 높은 성장률을 보일 것으로 예상되며, 환자 참여 개선과 운영 효율성이 성장을 주도할 것이다.\n",
      "- Microsoft는 Azure를 중심으로 AI 에이전트를 개발하고 있으며, OpenAI와의 파트너십을 통해 다양한 상용화 제품을 출시하고 있다.\n",
      "- Microsoft의 AI 제품군은 기업용 서비스, 사무 자동화, 개발자 지원 도구 등 다양한 분야에서 활용되고 있다.\n",
      "- Google은 Google Assistant, Dialogflow, Duplex 등을 통해 사용자 경험을 극대화하고 있으며, 'Vertex AI Agent Builder'를 제공하고 있다.\n",
      "- Google의 'Project Astra'는 Gemini 모델을 기반으로 다중모드 정보를 처리하는 AI 어시스턴트를 개발하고 있다.\n",
      "- Google Assistant는 음성 및 텍스트 대화를 통해 다양한 일상 업무를 지원하며, 여러 디바이스에서 사용 가능하다."
     ]
    }
   ],
   "source": [
    "# 결과 출력\n",
    "answer = map_reduce_chain.invoke(docs)"
   ]
  },
  {
   "cell_type": "markdown",
   "metadata": {},
   "source": [
    "## Map-Refine\n",
    "\n",
    "- 단계 \n",
    "    - map 단계 : 문서를 청크 단위로 나누고, 각 청크에 대해 개별적으로 요약 생성 \n",
    "    - refine 단계 \n",
    "        - 생성된 요약들을 순차적으로 처리하여 최종 요약을 점진적으로 개선 \n",
    "        - 각 단계에서 이전 요약과 새로운 청크의 정보를 결합하여 요약 갱신 \n",
    "        - 문서 순서는 유지 \n",
    "    - 반복 과정 : 모든 청크가 처리될 때까지 refine 단계 반복 수행 \n",
    "    - 최종 요약 : 마지막 청크까지 처리한 결과 \n",
    "- 장점 \n",
    "    - 문서의 순서를 유지하면서 점진적으로 요약 개선 \n",
    "    - 문서의 맥락이 중요한 경우 유용\n",
    "- 단점 \n",
    "    - 순차적으로 처리되기 때문에 병렬화 어려움 \n",
    "    - 대규모 문서에서는 부담이 될 수 있음 "
   ]
  },
  {
   "cell_type": "code",
   "execution_count": 16,
   "metadata": {},
   "outputs": [],
   "source": [
    "from langchain import hub\n",
    "from langchain_openai import ChatOpenAI\n",
    "from langchain_core.output_parsers import StrOutputParser"
   ]
  },
  {
   "cell_type": "markdown",
   "metadata": {},
   "source": [
    "### map"
   ]
  },
  {
   "cell_type": "code",
   "execution_count": 17,
   "metadata": {},
   "outputs": [
    {
     "name": "stdout",
     "output_type": "stream",
     "text": [
      "================================\u001b[1m System Message \u001b[0m================================\n",
      "\n",
      "You are an expert summarizer. Your task is to summarize the following document in \u001b[33;1m\u001b[1;3m{language}\u001b[0m.\n",
      "\n",
      "================================\u001b[1m Human Message \u001b[0m=================================\n",
      "\n",
      "Extract most important main thesis from the documents, then summarize in bullet points.\n",
      "\n",
      "#Format:\n",
      "- summary 1\n",
      "- summary 2\n",
      "- summary 3\n",
      "-...\n",
      "\n",
      "Here is a given document: \n",
      "\u001b[33;1m\u001b[1;3m{documents}\u001b[0m\n",
      "\n",
      "Write 1~5 sentences. Think step by step.\n",
      "#Summary:\n"
     ]
    }
   ],
   "source": [
    "# map llm 생성\n",
    "map_llm = ChatOpenAI(\n",
    "    temperature=0,\n",
    "    model_name=\"gpt-4o-mini\",\n",
    ")\n",
    "\n",
    "# map chain 생성\n",
    "map_summary = hub.pull(\"teddynote/map-summary-prompt\")\n",
    "\n",
    "# 프롬프트 출력\n",
    "map_summary.pretty_print()"
   ]
  },
  {
   "cell_type": "code",
   "execution_count": 18,
   "metadata": {},
   "outputs": [
    {
     "name": "stdout",
     "output_type": "stream",
     "text": [
      "- AI 에이전트는 사용자의 작업을 자율적으로 수행할 수 있는 시스템으로, 클라우드 및 엣지 컴퓨팅의 발전으로 실시간 데이터 처리와 빠른 의사결정이 가능해졌다.\n",
      "- AI 기술의 발전, 특히 강화 학습, 자연어 처리, 컴퓨터 비전 등의 분야에서 AI 에이전트의 정교한 의사결정과 유연한 대응이 가능해졌다.\n",
      "- 고객 서비스, 스마트홈, 산업 자동화 등 다양한 분야에서 AI 에이전트의 수요가 증가하고 있으며, 이는 새로운 시장 기회를 창출하고 있다.\n",
      "- Markets&Markets에 따르면, AI 에이전트 시장은 2024년 51억 달러에서 2030년 471억 달러로 성장할 것으로 예상되며, 연평균 성장률은 44.8%에 이를 것으로 전망된다.\n",
      "- AI 에이전트는 NLP, 머신러닝, 컴퓨터 비전 등을 활용하여 다양한 업무 자동화와 데이터 분석을 지원하는 소프트웨어로 사용된다.\n"
     ]
    }
   ],
   "source": [
    "# map chain 생성\n",
    "map_chain = map_summary | llm | StrOutputParser()\n",
    "\n",
    "print(map_chain.invoke({\"documents\": docs[0], \"language\": \"Korean\"}))"
   ]
  },
  {
   "cell_type": "code",
   "execution_count": 19,
   "metadata": {},
   "outputs": [],
   "source": [
    "input_doc = [{\"documents\": doc, \"language\": \"Korean\"} for doc in docs]"
   ]
  },
  {
   "cell_type": "code",
   "execution_count": 20,
   "metadata": {},
   "outputs": [
    {
     "name": "stdout",
     "output_type": "stream",
     "text": [
      "['- AI 에이전트는 사용자의 작업을 자율적으로 수행할 수 있는 시스템으로, 클라우드 및 엣지 컴퓨팅의 발전으로 실시간 데이터 처리와 빠른 의사결정이 가능해졌다.\\n- AI 기술의 발전, 특히 강화 학습, 자연어 처리, 컴퓨터 비전 등의 분야에서 AI 에이전트의 정교한 의사결정과 유연한 대응이 가능해졌다.\\n- 고객 서비스, 스마트홈, 산업 자동화 등 다양한 분야에서 AI 에이전트의 수요가 증가하고 있으며, 이는 새로운 시장 기회를 창출하고 있다.\\n- Markets&Markets에 따르면, AI 에이전트 시장은 2024년 51억 달러에서 2030년 471억 달러로 성장할 것으로 예상되며, 연평균 성장률은 44.8%에 이를 것으로 전망된다.\\n- AI 에이전트는 NLP, 머신러닝, 컴퓨터 비전 등을 활용하여 다양한 업무 자동화와 데이터 분석을 지원하는 소프트웨어로 사용된다.', '- 2023년 글로벌 AI 에이전트 시장 규모는 38억 6천만 달러로 추정되며, 2024년부터 2030년까지 연평균 성장률(CAGR) 45.1%로 성장할 것으로 예상됨.\\n- 소비자 기대에 따른 개인화된 상호작용, 데이터 활용을 통한 맞춤형 추천 및 고객 지원이 AI 에이전트 시장 성장의 주요 동인으로 작용함.\\n- 북미 지역이 AI 에이전트 시장에서 2023년 40% 이상의 매출 점유율을 기록하며, 의료 산업이 가장 높은 성장률을 보일 것으로 전망됨.\\n- 주요 기술 회사들이 AI 에이전트 기술 개발을 선도하고 있으며, 스타트업 생태계가 다양한 산업에서 AI 에이전트 발전을 촉진하고 있음.\\n- 의료 부문은 환자 참여 개선 및 운영 효율성 향상 등으로 인해 2030년까지 가장 높은 성장률을 기록할 것으로 예상됨.', \"- Microsoft는 Azure 클라우드 플랫폼을 중심으로 강력한 AI 에이전트를 개발하고 있으며, OpenAI와의 파트너십을 통해 ChatGPT와 기타 AI 모델을 통합하여 다양한 상용화 제품을 출시하고 있다.\\n- Microsoft의 제품군은 기업용 서비스, 사무 자동화, 개발자 지원 도구 등 다양한 분야에서 AI 에이전트 기능을 지원하며, Fortune 500 기업의 60%가 Microsoft 365 Copilot을 사용하고 있다.\\n- 'Copilot Studio'는 Microsoft의 다양한 플랫폼과 통합되어 사용자가 생성한 AI 에이전트와 협업할 수 있도록 지원하며, 'Azure OpenAI Service'를 통해 대화형 응답 및 자동화된 고객 서비스 기능을 제공한다.\\n- 'Power Virtual Agents'를 통해 기업 고객은 코딩 없이 AI 챗봇을 쉽게 구축할 수 있다.\", '- Microsoft는 AI 제품을 구독 모델로 제공하며, Azure 클라우드를 통해 기업과 개인 사용자가 AI 기능을 활용할 수 있도록 지원한다.\\n- Microsoft 365 Copilot의 새로운 혁신 서비스가 발표되었으며, 다양한 AI 에이전트가 비즈니스 혁신을 도울 수 있도록 설계되었다.\\n- Google은 Google Assistant와 Dialogflow 등을 통해 사용자 경험을 극대화하고 있으며, AI 에이전트를 개발 중이다.', \"- 구글은 'Vertex AI Agent Builder'를 통해 고급 챗봇과 대화형 AI 기능을 지원하는 도구를 제공하고 있다.\\n- 'Project Astra'는 Gemini 모델을 기반으로 하여 다중모드 정보를 처리하고 사용자의 상황을 이해하는 AI 어시스턴트를 개발하고 있다.\\n- 구글의 AI 에이전트는 일정 관리, 챗봇, 전화 예약 등 다양한 작업을 지원하며, Google Assistant는 음성 및 텍스트 대화를 통해 일상 업무를 돕는다.\\n- Dialogflow는 비즈니스용 AI 챗봇을 쉽게 개발할 수 있는 플랫폼으로, 고객 질문에 자동으로 응답할 수 있다.\\n- Google Duplex는 AI 기반 전화 응대 서비스로, 자연스러운 대화를 통해 사용자를 대신해 예약 등의 작업을 수행할 수 있다.\"]\n"
     ]
    }
   ],
   "source": [
    "# 모든 문서에 대한 요약본을 출력합니다.\n",
    "print(map_chain.batch(input_doc))"
   ]
  },
  {
   "cell_type": "markdown",
   "metadata": {},
   "source": [
    "### refine"
   ]
  },
  {
   "cell_type": "code",
   "execution_count": 21,
   "metadata": {},
   "outputs": [
    {
     "name": "stdout",
     "output_type": "stream",
     "text": [
      "================================\u001b[1m System Message \u001b[0m================================\n",
      "\n",
      "You are an expert summarizer.\n",
      "\n",
      "================================\u001b[1m Human Message \u001b[0m=================================\n",
      "\n",
      "Your job is to produce a final summary\n",
      "\n",
      "We have provided an existing summary up to a certain point:\n",
      "\u001b[33;1m\u001b[1;3m{previous_summary}\u001b[0m\n",
      "\n",
      "We have the opportunity to refine the existing summary(only if needed) with some more context below.\n",
      "------------\n",
      "\u001b[33;1m\u001b[1;3m{current_summary}\u001b[0m\n",
      "------------\n",
      "Given the new context, refine the original summary in \u001b[33;1m\u001b[1;3m{language}\u001b[0m.\n",
      "If the context isn't useful, return the original summary.\n"
     ]
    }
   ],
   "source": [
    "# refine prompt 다운로드\n",
    "refine_prompt = hub.pull(\"teddynote/refine-prompt\")\n",
    "\n",
    "# 프롬프트 출력\n",
    "refine_prompt.pretty_print()"
   ]
  },
  {
   "cell_type": "code",
   "execution_count": 22,
   "metadata": {},
   "outputs": [],
   "source": [
    "# refine llm 생성\n",
    "refine_llm = ChatOpenAI(\n",
    "    temperature=0,\n",
    "    model_name=\"gpt-4o-mini\",\n",
    ")\n",
    "\n",
    "# refine chain 생성\n",
    "refine_chain = refine_prompt | refine_llm | StrOutputParser()"
   ]
  },
  {
   "cell_type": "markdown",
   "metadata": {},
   "source": [
    "### @tool"
   ]
  },
  {
   "cell_type": "code",
   "execution_count": 23,
   "metadata": {},
   "outputs": [],
   "source": [
    "from langchain_core.runnables import chain\n",
    "\n",
    "\n",
    "@chain\n",
    "def map_refine_chain(docs):\n",
    "\n",
    "    # map chain 생성\n",
    "    map_summary = hub.pull(\"teddynote/map-summary-prompt\")\n",
    "\n",
    "    map_chain = (\n",
    "        map_summary\n",
    "        | ChatOpenAI(\n",
    "            model_name=\"gpt-4o-mini\",\n",
    "            temperature=0,\n",
    "        )\n",
    "        | StrOutputParser()\n",
    "    )\n",
    "\n",
    "    input_doc = [{\"documents\": doc.page_content, \"language\": \"Korean\"} for doc in docs]\n",
    "\n",
    "    doc_summaries = map_chain.batch(input_doc)\n",
    "\n",
    "    refine_prompt = hub.pull(\"teddynote/refine-prompt\")\n",
    "\n",
    "    refine_llm = ChatOpenAI(\n",
    "        model_name=\"gpt-4o-mini\",\n",
    "        temperature=0,\n",
    "        callbacks=[StreamingCallback()],\n",
    "        streaming=True,\n",
    "    )\n",
    "\n",
    "    refine_chain = refine_prompt | refine_llm | StrOutputParser()\n",
    "\n",
    "    previous_summary = doc_summaries[0]\n",
    "\n",
    "    for current_summary in doc_summaries[1:]:\n",
    "\n",
    "        previous_summary = refine_chain.invoke(\n",
    "            {\n",
    "                \"previous_summary\": previous_summary,\n",
    "                \"current_summary\": current_summary,\n",
    "                \"language\": \"Korean\",\n",
    "            }\n",
    "        )\n",
    "        print(\"\\n\\n-----------------\\n\\n\")\n",
    "\n",
    "    return previous_summary"
   ]
  },
  {
   "cell_type": "code",
   "execution_count": 24,
   "metadata": {},
   "outputs": [
    {
     "name": "stdout",
     "output_type": "stream",
     "text": [
      "- AI 에이전트는 사용자의 작업을 자율적으로 수행할 수 있는 시스템으로, 클라우드 및 엣지 컴퓨팅의 발전으로 실시간 데이터 처리와 빠른 의사결정이 가능해졌다.\n",
      "- AI 기술의 발전, 특히 강화 학습, 자연어 처리, 컴퓨터 비전 등의 분야에서 AI 에이전트의 정교한 의사결정과 유연한 대응이 가능해졌다.\n",
      "- 고객 서비스, 스마트홈, 산업 자동화 등 다양한 분야에서 AI 에이전트의 수요가 증가하고 있으며, 이는 새로운 시장 기회를 창출하고 있다.\n",
      "- 2023년 글로벌 AI 에이전트 시장 규모는 38억 6천만 달러로 추정되며, 2024년부터 2030년까지 연평균 성장률(CAGR) 45.1%로 성장할 것으로 예상된다. Markets&Markets에 따르면, AI 에이전트 시장은 2024년 51억 달러에서 2030년 471억 달러로 성장할 것으로 전망되며, 연평균 성장률은 44.8%에 이를 것으로 보인다.\n",
      "- 소비자 기대에 따른 개인화된 상호작용, 데이터 활용을 통한 맞춤형 추천 및 고객 지원이 AI 에이전트 시장 성장의 주요 동인으로 작용하고 있다.\n",
      "- 북미 지역이 AI 에이전트 시장에서 2023년 40% 이상의 매출 점유율을 차지하며, 의료 산업이 가장 높은 성장률을 보일 것으로 분석된다.\n",
      "- 주요 기술 회사들이 AI 에이전트 기술 개발을 선도하고 있으며, 스타트업 생태계가 다양한 산업에서 AI 에이전트 발전을 촉진하고 있다.\n",
      "- AI 에이전트는 NLP, 머신러닝, 컴퓨터 비전 등을 활용하여 다양한 업무 자동화와 데이터 분석을 지원하는 소프트웨어로 사용된다.\n",
      "\n",
      "-----------------\n",
      "\n",
      "\n",
      "- AI 에이전트는 사용자의 작업을 자율적으로 수행할 수 있는 시스템으로, 클라우드 및 엣지 컴퓨팅의 발전으로 실시간 데이터 처리와 빠른 의사결정이 가능해졌다.\n",
      "- AI 기술의 발전, 특히 강화 학습, 자연어 처리, 컴퓨터 비전 등의 분야에서 AI 에이전트의 정교한 의사결정과 유연한 대응이 가능해졌다.\n",
      "- 고객 서비스, 스마트홈, 산업 자동화 등 다양한 분야에서 AI 에이전트의 수요가 증가하고 있으며, 이는 새로운 시장 기회를 창출하고 있다.\n",
      "- 2023년 글로벌 AI 에이전트 시장 규모는 38억 6천만 달러로 추정되며, 2024년부터 2030년까지 연평균 성장률(CAGR) 45.1%로 성장할 것으로 예상된다. Markets&Markets에 따르면, AI 에이전트 시장은 2024년 51억 달러에서 2030년 471억 달러로 성장할 것으로 전망되며, 연평균 성장률은 44.8%에 이를 것으로 보인다.\n",
      "- 소비자 기대에 따른 개인화된 상호작용, 데이터 활용을 통한 맞춤형 추천 및 고객 지원이 AI 에이전트 시장 성장의 주요 동인으로 작용하고 있다.\n",
      "- 북미 지역이 AI 에이전트 시장에서 2023년 40% 이상의 매출 점유율을 차지하며, 의료 산업이 가장 높은 성장률을 보일 것으로 분석된다.\n",
      "- 주요 기술 회사들이 AI 에이전트 기술 개발을 선도하고 있으며, Microsoft는 Azure 클라우드 플랫폼을 중심으로 강력한 AI 에이전트를 개발하고 OpenAI와의 파트너십을 통해 ChatGPT와 기타 AI 모델을 통합하여 다양한 상용화 제품을 출시하고 있다. Microsoft의 제품군은 기업용 서비스, 사무 자동화, 개발자 지원 도구 등 다양한 분야에서 AI 에이전트 기능을 제공하며, Fortune 500 기업의 60%가 Microsoft 365 Copilot을 사용하고 있다.\n",
      "- 'Copilot Studio'는 Microsoft의 다양한 플랫폼과 통합되어 사용자가 생성한 AI 에이전트와 협업할 수 있도록 지원하며, 'Azure OpenAI Service'를 통해 대화형 응답 및 자동화된 고객 서비스 기능을 제공한다. 'Power Virtual Agents'를 통해 기업 고객은 코딩 없이 AI 챗봇을 쉽게 구축할 수 있다.\n",
      "- AI 에이전트는 NLP, 머신러닝, 컴퓨터 비전 등을 활용하여 다양한 업무 자동화와 데이터 분석을 지원하는 소프트웨어로 사용된다.\n",
      "\n",
      "-----------------\n",
      "\n",
      "\n",
      "- AI 에이전트는 사용자의 작업을 자율적으로 수행할 수 있는 시스템으로, 클라우드 및 엣지 컴퓨팅의 발전으로 실시간 데이터 처리와 빠른 의사결정이 가능해졌다.\n",
      "- AI 기술의 발전, 특히 강화 학습, 자연어 처리, 컴퓨터 비전 등의 분야에서 AI 에이전트의 정교한 의사결정과 유연한 대응이 가능해졌다.\n",
      "- 고객 서비스, 스마트홈, 산업 자동화 등 다양한 분야에서 AI 에이전트의 수요가 증가하고 있으며, 이는 새로운 시장 기회를 창출하고 있다.\n",
      "- 2023년 글로벌 AI 에이전트 시장 규모는 38억 6천만 달러로 추정되며, 2024년부터 2030년까지 연평균 성장률(CAGR) 45.1%로 성장할 것으로 예상된다. Markets&Markets에 따르면, AI 에이전트 시장은 2024년 51억 달러에서 2030년 471억 달러로 성장할 것으로 전망되며, 연평균 성장률은 44.8%에 이를 것으로 보인다.\n",
      "- 소비자 기대에 따른 개인화된 상호작용, 데이터 활용을 통한 맞춤형 추천 및 고객 지원이 AI 에이전트 시장 성장의 주요 동인으로 작용하고 있다.\n",
      "- 북미 지역이 AI 에이전트 시장에서 2023년 40% 이상의 매출 점유율을 차지하며, 의료 산업이 가장 높은 성장률을 보일 것으로 분석된다.\n",
      "- 주요 기술 회사들이 AI 에이전트 기술 개발을 선도하고 있으며, Microsoft는 Azure 클라우드 플랫폼을 중심으로 강력한 AI 에이전트를 개발하고 OpenAI와의 파트너십을 통해 ChatGPT와 기타 AI 모델을 통합하여 다양한 상용화 제품을 출시하고 있다. Microsoft의 제품군은 기업용 서비스, 사무 자동화, 개발자 지원 도구 등 다양한 분야에서 AI 에이전트 기능을 제공하며, Fortune 500 기업의 60%가 Microsoft 365 Copilot을 사용하고 있다.\n",
      "- Microsoft는 AI 제품을 구독 모델로 제공하며, Azure 클라우드를 통해 기업과 개인 사용자가 AI 기능을 활용할 수 있도록 지원한다. 2024년 9월에는 새로운 Microsoft 365 Copilot 혁신 서비스와 AI 에이전트를 발표하였고, 다양한 비즈니스 작업을 지원하는 기능을 확장할 수 있다.\n",
      "- 'Copilot Studio'는 Microsoft의 다양한 플랫폼과 통합되어 사용자가 생성한 AI 에이전트와 협업할 수 있도록 지원하며, 'Azure OpenAI Service'를 통해 대화형 응답 및 자동화된 고객 서비스 기능을 제공한다. 'Power Virtual Agents'를 통해 기업 고객은 코딩 없이 AI 챗봇을 쉽게 구축할 수 있다.\n",
      "- Google은 Google Assistant와 Dialogflow 등을 통해 사용자 경험을 극대화하고 있으며, 'Vertex AI Agent Builder'를 통해 대화형 AI 생성 도구를 제공하고 있다. Google은 자연어 처리와 음성 인식 기술을 활용하여 다양한 산업에 적용 가능한 AI 에이전트를 개발 중이다.\n",
      "- AI 에이전트는 NLP, 머신러닝, 컴퓨터 비전 등을 활용하여 다양한 업무 자동화와 데이터 분석을 지원하는 소프트웨어로 사용된다.\n",
      "\n",
      "-----------------\n",
      "\n",
      "\n",
      "- AI 에이전트는 사용자의 작업을 자율적으로 수행할 수 있는 시스템으로, 클라우드 및 엣지 컴퓨팅의 발전으로 실시간 데이터 처리와 빠른 의사결정이 가능해졌다.\n",
      "- AI 기술의 발전, 특히 강화 학습, 자연어 처리, 컴퓨터 비전 등의 분야에서 AI 에이전트의 정교한 의사결정과 유연한 대응이 가능해졌다.\n",
      "- 고객 서비스, 스마트홈, 산업 자동화 등 다양한 분야에서 AI 에이전트의 수요가 증가하고 있으며, 이는 새로운 시장 기회를 창출하고 있다.\n",
      "- 2023년 글로벌 AI 에이전트 시장 규모는 38억 6천만 달러로 추정되며, 2024년부터 2030년까지 연평균 성장률(CAGR) 45.1%로 성장할 것으로 예상된다. Markets&Markets에 따르면, AI 에이전트 시장은 2024년 51억 달러에서 2030년 471억 달러로 성장할 것으로 전망되며, 연평균 성장률은 44.8%에 이를 것으로 보인다.\n",
      "- 소비자 기대에 따른 개인화된 상호작용, 데이터 활용을 통한 맞춤형 추천 및 고객 지원이 AI 에이전트 시장 성장의 주요 동인으로 작용하고 있다.\n",
      "- 북미 지역이 AI 에이전트 시장에서 2023년 40% 이상의 매출 점유율을 차지하며, 의료 산업이 가장 높은 성장률을 보일 것으로 분석된다.\n",
      "- 주요 기술 회사들이 AI 에이전트 기술 개발을 선도하고 있으며, Microsoft는 Azure 클라우드 플랫폼을 중심으로 강력한 AI 에이전트를 개발하고 OpenAI와의 파트너십을 통해 ChatGPT와 기타 AI 모델을 통합하여 다양한 상용화 제품을 출시하고 있다. Microsoft의 제품군은 기업용 서비스, 사무 자동화, 개발자 지원 도구 등 다양한 분야에서 AI 에이전트 기능을 제공하며, Fortune 500 기업의 60%가 Microsoft 365 Copilot을 사용하고 있다.\n",
      "- Microsoft는 AI 제품을 구독 모델로 제공하며, Azure 클라우드를 통해 기업과 개인 사용자가 AI 기능을 활용할 수 있도록 지원한다. 2024년 9월에는 새로운 Microsoft 365 Copilot 혁신 서비스와 AI 에이전트를 발표하였고, 다양한 비즈니스 작업을 지원하는 기능을 확장할 수 있다.\n",
      "- 'Copilot Studio'는 Microsoft의 다양한 플랫폼과 통합되어 사용자가 생성한 AI 에이전트와 협업할 수 있도록 지원하며, 'Azure OpenAI Service'를 통해 대화형 응답 및 자동화된 고객 서비스 기능을 제공한다. 'Power Virtual Agents'를 통해 기업 고객은 코딩 없이 AI 챗봇을 쉽게 구축할 수 있다.\n",
      "- Google은 Google Assistant와 Dialogflow 등을 통해 사용자 경험을 극대화하고 있으며, 'Vertex AI Agent Builder'를 통해 고급 챗봇과 대화형 AI 기능을 지원하는 도구를 제공하고 있다. Google Assistant는 음성 및 텍스트 대화를 통해 일정 관리, 정보 검색, 스마트홈 기기 제어 등의 다양한 기능을 제공하며, Google Duplex는 AI 기반 전화 응대 서비스로 자연스러운 대화를 통해 사용자를 대신해 예약 등의 작업을 수행할 수 있다. Dialogflow는 비즈니스용 AI 챗봇을 쉽게 개발할 수 있는 플랫폼으로, 고객의 질문에 자동으로 응답할 수 있다.\n",
      "- 'Project Astra'는 Gemini 모델을 기반으로 하여 다중모드 정보를 처리하고 사용자의 상황을 이해하는 AI 어시스턴트를 개발하고 있다.\n",
      "- AI 에이전트는 NLP, 머신러닝, 컴퓨터 비전 등을 활용하여 다양한 업무 자동화와 데이터 분석을 지원하는 소프트웨어로 사용된다.\n",
      "\n",
      "-----------------\n",
      "\n",
      "\n"
     ]
    }
   ],
   "source": [
    "refined_summary = map_refine_chain.invoke(docs)"
   ]
  },
  {
   "cell_type": "markdown",
   "metadata": {},
   "source": [
    "## Chain-of-Density\n",
    "\n",
    "- 초기에 엔티티가 적은 요약을 생성한 후, \n",
    "- 길이를 늘리지 않으면서 누락된 중요 엔티티들을 반복적으로 통합하는 과정\n",
    "- 일반 프롬프트 통한 요약 보다 정보 밀도가 높은 편 "
   ]
  },
  {
   "cell_type": "code",
   "execution_count": 25,
   "metadata": {},
   "outputs": [],
   "source": [
    "import textwrap\n",
    "from langchain import hub\n",
    "from langchain_openai import ChatOpenAI\n",
    "from langchain_core.output_parsers import SimpleJsonOutputParser"
   ]
  },
  {
   "cell_type": "code",
   "execution_count": 26,
   "metadata": {},
   "outputs": [
    {
     "name": "stdout",
     "output_type": "stream",
     "text": [
      "================================\u001b[1m System Message \u001b[0m================================\n",
      "\n",
      "As an expert copy-writer, you will write increasingly concise, entity-dense summaries of the user provided \u001b[33;1m\u001b[1;3m{content_category}\u001b[0m. The initial summary should be under \u001b[33;1m\u001b[1;3m{max_words}\u001b[0m words and contain \u001b[33;1m\u001b[1;3m{entity_range}\u001b[0m informative Descriptive Entities from the \u001b[33;1m\u001b[1;3m{content_category}\u001b[0m.\n",
      "\n",
      "A Descriptive Entity is:\n",
      "- Relevant: to the main story.\n",
      "- Specific: descriptive yet concise (5 words or fewer).\n",
      "- Faithful: present in the \u001b[33;1m\u001b[1;3m{content_category}\u001b[0m.\n",
      "- Anywhere: located anywhere in the \u001b[33;1m\u001b[1;3m{content_category}\u001b[0m.\n",
      "\n",
      "# Your Summarization Process\n",
      "- Read through the \u001b[33;1m\u001b[1;3m{content_category}\u001b[0m and the all the below sections to get an understanding of the task.\n",
      "- Pick \u001b[33;1m\u001b[1;3m{entity_range}\u001b[0m informative Descriptive Entities from the \u001b[33;1m\u001b[1;3m{content_category}\u001b[0m (\";\" delimited, do not add spaces).\n",
      "- In your output JSON list of dictionaries, write an initial summary of max \u001b[33;1m\u001b[1;3m{max_words}\u001b[0m words containing the Entities.\n",
      "- You now have `[{\"missing_entities\": \"...\", \"denser_summary\": \"...\"}]`\n",
      "\n",
      "Then, repeat the below 2 steps \u001b[33;1m\u001b[1;3m{iterations}\u001b[0m times:\n",
      "\n",
      "- Step 1. In a new dict in the same list, identify \u001b[33;1m\u001b[1;3m{entity_range}\u001b[0m new informative Descriptive Entities from the \u001b[33;1m\u001b[1;3m{content_category}\u001b[0m which are missing from the previously generated summary.\n",
      "- Step 2. Write a new, denser summary of identical length which covers every Entity and detail from the previous summary plus the new Missing Entities.\n",
      "\n",
      "A Missing Entity is:\n",
      "- An informative Descriptive Entity from the \u001b[33;1m\u001b[1;3m{content_category}\u001b[0m as defined above.\n",
      "- Novel: not in the previous summary.\n",
      "\n",
      "# Guidelines\n",
      "- The first summary should be long (max \u001b[33;1m\u001b[1;3m{max_words}\u001b[0m words) yet highly non-specific, containing little information beyond the Entities marked as missing. Use overly verbose language and fillers (e.g., \"this \u001b[33;1m\u001b[1;3m{content_category}\u001b[0m discusses\") to reach ~\u001b[33;1m\u001b[1;3m{max_words}\u001b[0m words.\n",
      "- Make every word count: re-write the previous summary to improve flow and make space for additional entities.\n",
      "- Make space with fusion, compression, and removal of uninformative phrases like \"the \u001b[33;1m\u001b[1;3m{content_category}\u001b[0m discusses\".\n",
      "- The summaries should become highly dense and concise yet self-contained, e.g., easily understood without the \u001b[33;1m\u001b[1;3m{content_category}\u001b[0m.\n",
      "- Missing entities can appear anywhere in the new summary.\n",
      "- Never drop entities from the previous summary. If space cannot be made, add fewer new entities.\n",
      "- You're finished when your JSON list has 1+\u001b[33;1m\u001b[1;3m{iterations}\u001b[0m dictionaries of increasing density.\n",
      "\n",
      "# IMPORTANT\n",
      "- Remember, to keep each summary to max \u001b[33;1m\u001b[1;3m{max_words}\u001b[0m words.\n",
      "- Never remove Entities or details. Only add more from the \u001b[33;1m\u001b[1;3m{content_category}\u001b[0m.\n",
      "- Do not discuss the \u001b[33;1m\u001b[1;3m{content_category}\u001b[0m itself, focus on the content: informative Descriptive Entities, and details.\n",
      "- Remember, if you're overusing filler phrases in later summaries, or discussing the \u001b[33;1m\u001b[1;3m{content_category}\u001b[0m itself, not its contents, choose more informative Descriptive Entities and include more details from the \u001b[33;1m\u001b[1;3m{content_category}\u001b[0m.\n",
      "- Answer with a minified JSON list of dictionaries with keys \"missing_entities\" and \"denser_summary\".\n",
      "- \"denser_summary\" should be written in the same language as the \"content\".\n",
      "\n",
      "## Example output\n",
      "[{\"missing_entities\": \"ent1;ent2\", \"denser_summary\": \"<vague initial summary with entities 'ent1','ent2'>\"}, {\"missing_entities\": \"ent3\", \"denser_summary\": \"denser summary with 'ent1','ent2','ent3'\"}, ...]\n",
      "\n",
      "================================\u001b[1m Human Message \u001b[0m=================================\n",
      "\n",
      "\u001b[33;1m\u001b[1;3m{content_category}\u001b[0m:\n",
      "\u001b[33;1m\u001b[1;3m{content}\u001b[0m\n"
     ]
    }
   ],
   "source": [
    "# Chain of Density 프롬프트 다운로드\n",
    "cod_prompt = hub.pull(\"teddynote/chain-of-density-prompt\")\n",
    "\n",
    "cod_prompt.pretty_print()"
   ]
  },
  {
   "cell_type": "code",
   "execution_count": 27,
   "metadata": {},
   "outputs": [],
   "source": [
    "# {content}를 제외한 모든 입력에 대한 기본값 지정\n",
    "# content : 요약 대상\n",
    "# entity_range : 앞선 요약에서 빠진 엔티티에서 찾아야 할 개수\n",
    "# iterations : 논문에서 5번 정도 하면 사람이 하는 수준 보다 높다. 라는 벤치마크. 값이 크면 비용이 많이 발생\n",
    "cod_chain_inputs = {\n",
    "    \"content\": lambda d: d.get(\"content\"),\n",
    "    \"content_category\": lambda d: d.get(\"content_category\", \"Article\"),\n",
    "    \"entity_range\": lambda d: d.get(\"entity_range\", \"1-3\"),\n",
    "    \"max_words\": lambda d: int(d.get(\"max_words\", 80)),\n",
    "    \"iterations\": lambda d: int(d.get(\"iterations\", 5)),\n",
    "}\n",
    "\n",
    "# Chain of Density 프롬프트 다운로드\n",
    "cod_prompt = hub.pull(\"teddynote/chain-of-density-prompt\")\n",
    "\n",
    "# Chain of Density 체인 생성\n",
    "cod_chain = (\n",
    "    cod_chain_inputs\n",
    "    | cod_prompt\n",
    "    | ChatOpenAI(temperature=0, model=\"gpt-4o-mini\")\n",
    "    | SimpleJsonOutputParser()\n",
    ")\n",
    "\n",
    "# 두 번째 체인 생성, 최종 요약만 추출 (스트리밍 불가능, 최종 결과가 필요함)\n",
    "cod_final_summary_chain = cod_chain | (\n",
    "    lambda output: output[-1].get(\n",
    "        \"denser_summary\", '오류: 마지막 딕셔너리에 \"denser_summary\" 키가 없습니다'\n",
    "    )\n",
    ")"
   ]
  },
  {
   "cell_type": "code",
   "execution_count": 28,
   "metadata": {},
   "outputs": [
    {
     "name": "stdout",
     "output_type": "stream",
     "text": [
      "SPRi AI Brief Special |  2024-12 월호\n",
      "6£(수익 모델) Microsoft 는 AI 관련 제품군 을 구독 모델로 제공하며 , 기업과 개인 사용자가 \n",
      "Azure 클라우드를 통해 AI 기능을 필요에 따라 활용할 수 있도록 지원\n",
      "∙Microsoft 는 OpenAI 의 모델을 Azure 클라우드에서 제공하며 , 기업 고객은 이 API를 구독하여 모델을 활용 가능\n",
      "∙Office 365에 통합된 Copilot 기능은 상용화된 서비스로 , 기업 고객과 개인 사용자가 Copilot 의 생산성 \n",
      "향상 기능을 사용하기 위해 추가 요금 지불\n",
      "∙Power Virtual Agents 를 포함한 Power Platform 은 구독 모델로 제공되며 , 사용자는 다양한 비즈니스 \n",
      "응용 프로그램에서 AI 기능을 활용 가능\n",
      "£(최신 동정) Microsoft 는 새로운 단계의 Microsoft 365 Copilot 혁신 서비스들을 발표\n",
      "∙2024년 9월 Microsoft 는 새로운 단계의 Microsoft 365 Copilot 혁신 서비스들을 발표하면서 , \n",
      "Microsoft Copilot Studio 로 구축되어 비즈니스를 혁신할 수 있는 Copilot 에이전트를 소개13)\n",
      "※ Copilot 에이전트들은 이메일 보내기 , 레코드 업데이트 또는 지원 티켓 만들기와 같은 새로운 기술을 에이전트에게 제공하여 \n",
      "에이전트의 기능을 확장할 수도 있음 \n",
      "∙2024년 11월 20일, Microsoft 는 ‘Microsoft Ignite 2024’ 행사에서 AI 에이전트 시대를 열겠다고 \n",
      "밝히면서 AI 기반 작업 도우미인 마이크로소프트 365 Copilot 의 신규 AI 에이전트와 기능, 자율 \n",
      "에이전트 (autonomous agents) 등을 대거 선보임14) \n",
      "※ ‘Microsoft Ignite 2024’ 행사에서 선보인 AI 에이전트 : 금융통찰력 에이전트 (Financial Insights Agent), 공장운영 \n",
      "에이전트 (Factory Operations Agent), 공장안전 에이전트 (Factory Safety Agent), 개인쇼핑 에이전트 (Personalized \n",
      "Shopping Agent), 스토어 운영 에이전트 (Store Operations Agent), 대민 서비스 에이전트 (Citizen Services agent) 등 \n",
      "2) Google\n",
      "£(개요) Google 은 Google Assistant, Dialogflow, Duplex 등을 통해 사용자 경험을 \n",
      "극대화하 고 있으며, 대화형 AI 생성 도구인 'Vertex AI Agent Builder' 를 제공하고 , \n",
      "‘Project Astra’ 를 통해 보편적인 AI 에이전트를 개발 중 \n",
      "∙Google 은 AI 기술을 활용하여 사용자 경험을 극대화하고 다양한 산업에  적용 가능한 AI 에이전트로  \n",
      "Google Assistant, Dialogflow, Duplex 등을 제공하며 , 이러한 AI 에이전트는 자연어 처리와 음성 인식 \n",
      "기술을 바탕으로 더욱 풍부한 사용자 경험을 제공\n",
      "12) Microsoft, Power Virtual Agents (Preview), https://learn.microsoft.com/ko-kr/connectors/powervirtualagents/\n",
      "13) Microsoft , Unveiling Copilot agents built with Microsoft Copilot Studio to supercharge your business, 2024.9.16\n",
      "14) https://www.microsoft.com/en-us/industry/blog/general/2024/11/20/unlocking-the-future-ai-and-data-revolutionize\n",
      "-industries-at-microsoft-ignite-2024/\n"
     ]
    }
   ],
   "source": [
    "content = docs[3].page_content\n",
    "print(content)"
   ]
  },
  {
   "cell_type": "code",
   "execution_count": 29,
   "metadata": {},
   "outputs": [
    {
     "name": "stdout",
     "output_type": "stream",
     "text": [
      "[{'missing_entities': 'Microsoft;AI 에이전트;Google', 'denser_summary': \"This Article discusses Microsoft and Google, focusing on their AI offerings. Microsoft provides AI products via subscription models, including Azure cloud services and Office 365's Copilot. New AI agents were introduced at Microsoft Ignite 2024, enhancing productivity. Google maximizes user experience through Google Assistant and Dialogflow, while developing universal AI agents via Project Astra.\"}, {'missing_entities': 'Copilot;Azure 클라우드;Dialogflow', 'denser_summary': 'Microsoft and Google lead in AI, with Microsoft offering subscription-based AI products like Azure cloud services and Copilot for productivity. New AI agents were showcased at Microsoft Ignite 2024. Google enhances user experience through Google Assistant and Dialogflow, while developing universal AI agents via Project Astra.'}, {'missing_entities': 'Power Platform;Microsoft Ignite 2024;Vertex AI Agent Builder', 'denser_summary': 'Microsoft and Google dominate AI, with Microsoft providing subscription-based services like Azure cloud, Copilot, and Power Platform. New AI agents were unveiled at Microsoft Ignite 2024. Google enhances user experience through Google Assistant, Dialogflow, and Vertex AI Agent Builder, while developing universal AI agents via Project Astra.'}, {'missing_entities': 'Financial Insights Agent;autonomous agents;Personalized Shopping Agent', 'denser_summary': 'Microsoft and Google lead AI innovation, offering subscription services like Azure cloud, Copilot, and Power Platform. Microsoft Ignite 2024 showcased new AI agents, including Financial Insights and Personalized Shopping Agents, alongside autonomous agents. Google enhances user experience through Google Assistant, Dialogflow, and Vertex AI Agent Builder.'}, {'missing_entities': 'Factory Operations Agent;Citizen Services agent;Project Astra', 'denser_summary': 'Microsoft and Google excel in AI, with Microsoft offering Azure cloud, Copilot, and Power Platform. Microsoft Ignite 2024 introduced various AI agents, such as Financial Insights, Factory Operations, and Citizen Services agents, along with autonomous agents. Google enhances user experience through Google Assistant, Dialogflow, and Project Astra.'}]\n",
      "\n",
      "### CoD Summary 1/5, 추가된 엔티티(entity): Microsoft, AI 에이전트, Google\n",
      "\n",
      "This Article discusses Microsoft and Google, focusing on their AI offerings.\n",
      "Microsoft provides AI products via subscription models, including Azure cloud\n",
      "services and Office 365's Copilot. New AI agents were introduced at Microsoft\n",
      "Ignite 2024, enhancing productivity. Google maximizes user experience through\n",
      "Google Assistant and Dialogflow, while developing universal AI agents via\n",
      "Project Astra.\n",
      "\n",
      "### CoD Summary 2/5, 추가된 엔티티(entity): Copilot, Azure 클라우드, Dialogflow\n",
      "\n",
      "Microsoft and Google lead in AI, with Microsoft offering subscription-based AI\n",
      "products like Azure cloud services and Copilot for productivity. New AI agents\n",
      "were showcased at Microsoft Ignite 2024. Google enhances user experience through\n",
      "Google Assistant and Dialogflow, while developing universal AI agents via\n",
      "Project Astra.\n",
      "\n",
      "### CoD Summary 3/5, 추가된 엔티티(entity): Power Platform, Microsoft Ignite 2024, Vertex AI Agent Builder\n",
      "\n",
      "Microsoft and Google dominate AI, with Microsoft providing subscription-based\n",
      "services like Azure cloud, Copilot, and Power Platform. New AI agents were\n",
      "unveiled at Microsoft Ignite 2024. Google enhances user experience through\n",
      "Google Assistant, Dialogflow, and Vertex AI Agent Builder, while developing\n",
      "universal AI agents via Project Astra.\n",
      "\n",
      "### CoD Summary 4/5, 추가된 엔티티(entity): Financial Insights Agent, autonomous agents, Personalized Shopping Agent\n",
      "\n",
      "Microsoft and Google lead AI innovation, offering subscription services like\n",
      "Azure cloud, Copilot, and Power Platform. Microsoft Ignite 2024 showcased new AI\n",
      "agents, including Financial Insights and Personalized Shopping Agents, alongside\n",
      "autonomous agents. Google enhances user experience through Google Assistant,\n",
      "Dialogflow, and Vertex AI Agent Builder.\n",
      "\n",
      "### CoD Summary 5/5, 추가된 엔티티(entity): Factory Operations Agent, Citizen Services agent, Project Astra\n",
      "\n",
      "Microsoft and Google excel in AI, with Microsoft offering Azure cloud, Copilot,\n",
      "and Power Platform. Microsoft Ignite 2024 introduced various AI agents, such as\n",
      "Financial Insights, Factory Operations, and Citizen Services agents, along with\n",
      "autonomous agents. Google enhances user experience through Google Assistant,\n",
      "Dialogflow, and Project Astra.\n",
      "\n",
      "\n",
      "============== [최종 요약] =================\n",
      "\n",
      "Microsoft and Google excel in AI, with Microsoft offering Azure cloud, Copilot, and Power Platform. Microsoft Ignite 2024 introduced various AI agents, such as Financial Insights, Factory Operations, and Citizen Services agents, along with autonomous agents. Google enhances user experience through Google Assistant, Dialogflow, and Project Astra.\n"
     ]
    }
   ],
   "source": [
    "# 결과를 저장할 빈 리스트 초기화\n",
    "results: list[dict[str, str]] = []\n",
    "\n",
    "# cod_chain을 스트리밍 모드로 실행하고 부분적인 JSON 결과를 처리\n",
    "for partial_json in cod_chain.stream(\n",
    "    {\"content\": content, \"content_category\": \"Article\"}\n",
    "):\n",
    "    # 각 반복마다 results를 업데이트\n",
    "    results = partial_json\n",
    "\n",
    "    # 현재 결과를 같은 줄에 출력 (캐리지 리턴을 사용하여 이전 출력을 덮어씀)\n",
    "    print(results, end=\"\\r\", flush=True)\n",
    "\n",
    "# 총 요약 수 계산\n",
    "total_summaries = len(results)\n",
    "print(\"\\n\")\n",
    "\n",
    "# 각 요약을 순회하며 처리\n",
    "i = 1\n",
    "for cod in results:\n",
    "    # 누락된 엔티티들을 추출하고 포맷팅\n",
    "    added_entities = \", \".join(\n",
    "        [\n",
    "            ent.strip()\n",
    "            for ent in cod.get(\n",
    "                \"missing_entities\", 'ERR: \"missing_entiies\" key not found'\n",
    "            ).split(\";\")\n",
    "        ]\n",
    "    )\n",
    "    # 더 밀도 있는 요약 추출\n",
    "    summary = cod.get(\"denser_summary\", 'ERR: missing key \"denser_summary\"')\n",
    "\n",
    "    # 요약 정보 출력 (번호, 총 개수, 추가된 엔티티)\n",
    "    print(\n",
    "        f\"### CoD Summary {i}/{total_summaries}, 추가된 엔티티(entity): {added_entities}\"\n",
    "        + \"\\n\"\n",
    "    )\n",
    "    # 요약 내용을 80자 너비로 줄바꿈하여 출력\n",
    "    print(textwrap.fill(summary, width=80) + \"\\n\")\n",
    "    i += 1\n",
    "\n",
    "print(\"\\n============== [최종 요약] =================\\n\")\n",
    "print(summary)"
   ]
  },
  {
   "cell_type": "markdown",
   "metadata": {},
   "source": [
    "## Clustering-Map-Refine\n",
    "\n",
    "- 문서를 N개의 클러스터로 나눈 후 \n",
    "- 가장 중심축에서 가까운 문서를 클러스터의 대표 문서로 인지하고 \n",
    "- 이를 map-reduce (or map-refine) 방식으로 요약하는 방식 "
   ]
  },
  {
   "cell_type": "code",
   "execution_count": 30,
   "metadata": {},
   "outputs": [],
   "source": [
    "from langchain_core.documents import Document\n",
    "from langchain_community.document_loaders import PyMuPDFLoader\n",
    "from langchain_text_splitters import RecursiveCharacterTextSplitter\n",
    "from langchain_openai import OpenAIEmbeddings\n",
    "from sklearn.cluster import KMeans"
   ]
  },
  {
   "cell_type": "code",
   "execution_count": 31,
   "metadata": {},
   "outputs": [
    {
     "data": {
      "text/plain": [
       "27"
      ]
     },
     "execution_count": 31,
     "metadata": {},
     "output_type": "execute_result"
    }
   ],
   "source": [
    "loader = PyMuPDFLoader(\"data/SPRi AI Brief_Special_AI Agent_241209_F.pdf\")\n",
    "docs = loader.load()\n",
    "\n",
    "len(docs)"
   ]
  },
  {
   "cell_type": "code",
   "execution_count": 32,
   "metadata": {},
   "outputs": [
    {
     "data": {
      "text/plain": [
       "33408"
      ]
     },
     "execution_count": 32,
     "metadata": {},
     "output_type": "execute_result"
    }
   ],
   "source": [
    "# 하나의 Text 로 모든 문서 연결\n",
    "texts = \"\\n\\n\".join([doc.page_content for doc in docs])\n",
    "\n",
    "len(texts)"
   ]
  },
  {
   "cell_type": "code",
   "execution_count": 33,
   "metadata": {},
   "outputs": [
    {
     "data": {
      "text/plain": [
       "91"
      ]
     },
     "execution_count": 33,
     "metadata": {},
     "output_type": "execute_result"
    }
   ],
   "source": [
    "text_splitter = RecursiveCharacterTextSplitter(chunk_size=500, chunk_overlap=100)\n",
    "split_docs = text_splitter.split_text(texts)\n",
    "\n",
    "len(split_docs)"
   ]
  },
  {
   "cell_type": "code",
   "execution_count": 34,
   "metadata": {},
   "outputs": [
    {
     "name": "stdout",
     "output_type": "stream",
     "text": [
      "91 1536\n"
     ]
    }
   ],
   "source": [
    "embeddings = OpenAIEmbeddings()\n",
    "vectors = embeddings.embed_documents(split_docs)\n",
    "\n",
    "print(len(vectors), len(vectors[0]))"
   ]
  },
  {
   "cell_type": "markdown",
   "metadata": {},
   "source": [
    "### clustering\n",
    "\n",
    "총 91개의 문서를 10개 클러스터로 나눔 "
   ]
  },
  {
   "cell_type": "code",
   "execution_count": 35,
   "metadata": {},
   "outputs": [],
   "source": [
    "# 클러스터 수를 선택하면 문서의 콘텐츠에 따라 조정\n",
    "num_clusters = 10\n",
    "\n",
    "# Perform K-means clustering\n",
    "kmeans = KMeans(n_clusters=num_clusters, random_state=123).fit(vectors)"
   ]
  },
  {
   "cell_type": "code",
   "execution_count": 36,
   "metadata": {},
   "outputs": [
    {
     "data": {
      "text/plain": [
       "array([6, 3, 1, 1, 3, 1, 1, 3, 1, 1, 0, 3, 1, 1, 4, 4, 4, 4, 4, 1, 1, 4,\n",
       "       3, 1, 1, 3, 1, 1, 0, 7, 7, 7, 7, 7, 7, 7, 6, 2, 2, 2, 2, 2, 2, 2,\n",
       "       8, 8, 8, 8, 9, 9, 3, 8, 5, 5, 5, 5, 5, 5, 5, 5, 3, 1, 0, 0, 0, 0,\n",
       "       0, 3, 3, 3, 1, 1, 1, 9, 3, 1, 1, 1, 3, 6, 9, 9, 0, 0, 6, 4, 0, 5,\n",
       "       5, 0, 3], dtype=int32)"
      ]
     },
     "execution_count": 36,
     "metadata": {},
     "output_type": "execute_result"
    }
   ],
   "source": [
    "# 라벨링 된 결과 확인\n",
    "kmeans.labels_"
   ]
  },
  {
   "cell_type": "code",
   "execution_count": 37,
   "metadata": {},
   "outputs": [
    {
     "data": {
      "image/png": "[encoded data removed]",
      "text/plain": [
       "<Figure size 1000x800 with 1 Axes>"
      ]
     },
     "metadata": {},
     "output_type": "display_data"
    }
   ],
   "source": [
    "from sklearn.manifold import TSNE\n",
    "import matplotlib.pyplot as plt\n",
    "import seaborn as sns\n",
    "import numpy as np\n",
    "\n",
    "# 경고 제거\n",
    "import warnings\n",
    "\n",
    "warnings.filterwarnings(\"ignore\")\n",
    "\n",
    "# t-SNE 수행 및 2차원으로 축소\n",
    "tsne = TSNE(n_components=2, random_state=42)\n",
    "reduced_data_tsne = tsne.fit_transform(np.array(vectors))\n",
    "\n",
    "# seaborn 스타일 설정\n",
    "sns.set_style(\"white\")\n",
    "\n",
    "# 축소된 데이터 플롯\n",
    "plt.figure(figsize=(10, 8))\n",
    "sns.scatterplot(\n",
    "    x=reduced_data_tsne[:, 0],\n",
    "    y=reduced_data_tsne[:, 1],\n",
    "    hue=kmeans.labels_,\n",
    "    palette=\"deep\",\n",
    "    s=100,\n",
    ")\n",
    "plt.xlabel(\"Dimension 1\", fontsize=12)\n",
    "plt.ylabel(\"Dimension 2\", fontsize=12)\n",
    "plt.title(\"Clustered Embeddings\", fontsize=16)\n",
    "plt.legend(title=\"Cluster\", title_fontsize=12)\n",
    "\n",
    "# 배경색 설정\n",
    "plt.gcf().patch.set_facecolor(\"white\")\n",
    "\n",
    "plt.tight_layout()\n",
    "plt.show()"
   ]
  },
  {
   "cell_type": "code",
   "execution_count": 38,
   "metadata": {},
   "outputs": [],
   "source": [
    "import numpy as np\n",
    "\n",
    "# 가장 가까운 점들을 저장할 빈 리스트 생성\n",
    "closest_indices = []\n",
    "\n",
    "# 클러스터 수만큼 반복\n",
    "for i in range(num_clusters):\n",
    "\n",
    "    # 해당 클러스터 중심으로부터의 거리 목록 구하기\n",
    "    distances = np.linalg.norm(vectors - kmeans.cluster_centers_[i], axis=1)\n",
    "\n",
    "    # 가장 가까운 점의 인덱스 찾기 (argmin을 사용하여 최소 거리 찾기)\n",
    "    closest_index = np.argmin(distances)\n",
    "\n",
    "    # 해당 인덱스를 가장 가까운 인덱스 리스트에 추가\n",
    "    closest_indices.append(closest_index)"
   ]
  },
  {
   "cell_type": "code",
   "execution_count": 39,
   "metadata": {},
   "outputs": [
    {
     "data": {
      "text/plain": [
       "[86, 76, 39, 78, 15, 57, 79, 34, 44, 49]"
      ]
     },
     "execution_count": 39,
     "metadata": {},
     "output_type": "execute_result"
    }
   ],
   "source": [
    "closest_indices"
   ]
  },
  {
   "cell_type": "code",
   "execution_count": 40,
   "metadata": {},
   "outputs": [
    {
     "data": {
      "text/plain": [
       "[15, 34, 39, 44, 49, 57, 76, 78, 79, 86]"
      ]
     },
     "execution_count": 40,
     "metadata": {},
     "output_type": "execute_result"
    }
   ],
   "source": [
    "# 문서의 요약을 순서대로 진행하기 위하여 오름차순 정렬\n",
    "selected_indices = sorted(closest_indices)\n",
    "selected_indices"
   ]
  },
  {
   "cell_type": "code",
   "execution_count": 41,
   "metadata": {},
   "outputs": [
    {
     "data": {
      "text/plain": [
       "[Document(page_content='<Microsoft 제품군>  \\n*출처: microsoft.com\\n£ (기능/기술) Microsoft의 제품군은 다양한 플랫폼과 통합되어, 기업들이 AI 에이전트를 \\n활용해 업무 협업, 고객 응대 자동화, 챗봇 구축 등을 쉽게 수행 지원\\n∙‘Copilot Studio’는 Microsoft의 다양한 플랫폼(예: Office 365, Teams, Power Platform)과 통합되어 \\n있어, 기업의 업무 환경에서 사용자가 생성한 AI 에이전트와 협업할 수 있도록 지원\\n∙Microsoft의 ‘Azure OpenAI Service’는 OpenAI의 GPT 모델을 자사의 클라우드 플랫폼인 Azure를 \\n통해 제공하여 사용자들은 대화형 응답, 자동화된 고객 서비스, 정보 요약 등 여러 작업을 수행 가능11)\\n∙Microsoft의 ‘Power Virtual Agents’로 기업 고객은 코딩 없이 인터페이스를 AI 챗봇으로 쉽게 구축 가능 12)'),\n",
       " Document(page_content='부가 가치를 높이는 기능으로 작용하여 기기 판매와 Apple 생태계에 대한 사용자 충성도를 강화하는 데 기여 \\n∙Apple의 고객 중심 개인정보 보호 전략에 따라 Siri는 사용자 데이터 수집을 최소화하며, Google이나 \\nAmazon과 달리 광고 모델을 통해 수익 창출을 하지 않음\\n£ (최신 동정) 2024년 6월 Apple은 세계개발자대회(WWDC)에서 iPhone, iPad, Mac의 핵심 \\n기능으로 강력한 생성 모델을 적용한 개인 인텔리전스 시스템인 Apple Intelligence를 소개21)\\n∙생성형 모델의 힘과 개인 맥락을 결합하여 사용자에게 유용하고 관련성 있는 인텔리전스를 제공 \\n∙2024년 10월 28일, Apple은 Apple Intelligence를 공식 출시하였고, 사용자들은 이를 활용하여 \\n글쓰기를 다듬고, 알림, 메일, 메시지를 요약하고, 보다 자연스럽고 강력한 Siri를 경험하고, Clean Up을'),\n",
       " Document(page_content='SPRi AI Brief Special |  2024-12월호\\n12\\n£ (기능/기술) Meta는 Messenger에 AI 챗봇을 적용하고, Facebook과 Instagram에서는 \\n머신러닝 기반 추천 엔진으로 맞춤형 콘텐츠를 제공하며, Horizon Worlds에서는 VR/AR \\n기반 AI 아바타로 메타버스 내 상호작용을 강화\\n∙Meta는 Messenger 플랫폼에 AI 기반의 챗봇을 적용하여 고객 서비스, FAQ 처리 및 마케팅 메시지 \\n자동화와 같은 기능을 제공\\n - Meta의 언어 모델은 사용자 의도를 이해하고 응답하는 기능을 포함하며, 대화의 일관성을 유지 \\n∙Meta의 AI 시스템은 사용자의 관심사와 상호작용 패턴을 분석하여, Facebook과 Instagram 피드에서 \\n맞춤형 콘텐츠를 추천\\n - Meta의 추천 엔진은 머신러닝과 딥러닝 기술을 사용해 게시물, 광고, 추천 친구 등을 사용자에게 적합하게 \\n큐레이션 기능을 제공하여 사용자의 참여도를 향상'),\n",
       " Document(page_content='지원하며, Amazon Lex, Polly, Transcribe를 통해 음성 인식, 텍스트 변환, 대화형 \\n인터페이스 기능을 제공하고, Amazon Q를 통해 생성형 AI 기반 어시스턴트 기능을 제공26) \\n∙AWS는 Amazon의 클라우드 서비스 플랫폼으로, 고객 서비스, 보안, 데이터 분석 등 여러 산업에 걸쳐 \\n다양한 AI 기술을 활용\\n∙Amazon Lex, Amazon Polly, Amazon Transcribe와 같은 AWS의 AI 에이전트 기능은 음성 인식, \\n텍스트 변환, 대화형 인터페이스, 이미지 및 비디오 분석 등 다양한 형태로 제공되어, 기업들이 필요한 AI \\n기능을 자유롭게 사용할 수 있도록 지원\\n∙AWS 소프트웨어 개발을 가속화하고 회사의 내부 데이터를 활용하기 위한 가장 유능한 생성형 AI 기반 \\n어시스턴트 기능을 수행하는 ‘Amazon Q’ 제공\\n<Amazon Q 제품군> \\n*출처: Amazon.com'),\n",
       " Document(page_content='27) AWS, Amazon Polly, https://aws.amazon.com/ko/polly/\\n28) AWS, Amazon Transcribe, https://aws.amazon.com/transcribe/\\n29) AWS, What is Amazon Rekognition?, https://docs.aws.amazon.com/rekognition/latest/dg/what-is.html\\n30) AWS, Create a next generation chat assistant with Amazon Bedrock, Amazon Connect, Amazon Lex, LangChain, and What\\nsApp, 2024.10.23'),\n",
       " Document(page_content='SPRi AI Brief Special |  2024-12월호\\n17\\n£ (수익 모델) Salesforce는 Agentforce를 구독 서비스로 제공하고, AppExchange에서 \\n서드파티 앱과 Einstein 기능을 통합하여 추가 수익을 창출\\n∙Agentforce는 CRM 플랫폼과 함께 구독 서비스 형태로 제공되며, 고객은 사용량에 따라 맞춤형 AI 기능을 \\n구독할 수 있으며, 이를 통해 수익을 창출38)\\n∙Salesforce는 자체 앱스토어인 AppExchange를 통해 다양한 서드파티 앱과 Einstein 기능을 통합하여 \\n제공하여 추가 수익을 창출\\n£ (최신 동정) 2024년 9월 Salesforce는 ‘Dreamforce 2024’ 행사에서 기존 Einstein \\nCopilot를 개선하고, 자율적인 AI 에이전트의 기능을 갖는 새로운 브랜드로 ‘Agentforce’ 출시39)'),\n",
       " Document(page_content='(2024년에는 1% 미만), 이를 통해 일상적인 업무 결정의 15%를 자율적으로 내릴 수 있을 것으로 전망\\n∙AI 에이전트는 AI 어시스턴트에 통합되고 소프트웨어, SaaS 플랫폼, 사물 인터넷 기기 및 로봇에 내장될 것으로 전망 \\n£ AI 에이전트는 기술적 혁신과 사회적 변화를 이끄는 주요 요소로 자리잡으며, 기업의 업무와 \\n개인의 삶에 깊이 통합된 형태로 발전하면서, 의사 결정에 혁신적인 변화를 가져올 가능성이 높음52) \\n∙(단기적) AI 에이전트는 향후 몇 년간 고객 지원, 데이터 분석, 대화형 인터페이스 등 상용화 가능성이 높은 \\n분야에서 빠르게 도입될 것으로 예상\\n - AI 에이전트가 고객 서비스 자동화, 맞춤형 추천, 실시간 데이터 분석을 통해 효율성을 높이며, 고객 경험 \\n강화와 비용 절감의 핵심 도구가 될 것으로 전망됨'),\n",
       " Document(page_content='SPRi AI Brief Special |  2024-12월호\\n23\\n - 기업들은 AI 에이전트를 활용하여 생산성을 향상하면서 AI 에이전트가 조직의 특수한 업무 프로세스에 활용  \\n∙(장기적) 장기적으로 AI 에이전트는 인간의 일상과 비즈니스 운영에 더욱 통합되고 자율성이 높아지며, 의사 \\n결정 능력이 크게 향상될 것으로 전망   \\n - 기술의 발전과 함께 AI 에이전트는 더 복잡한 작업을 독립적으로 수행하게 될 것이며, 이를 통해 사용자 \\n맞춤형 서비스가 고도화될 것으로 전망\\n - 자율주행, 의료, 금융 등 고도화된 영역에서 AI 에이전트가 혁신적인 역할을 할 것이며, AI의 발전에 따라 \\n인간-기계 협업 모델이 다양한 산업 전반에 확산할 것으로 전망\\n - 한편, 미래에 AI가 일자리를 대체한다는 우려는 지속될 것으로 예측되나, 동시에 AI 에이전트가 인재 부족 \\n문제를 해결하고 성장을 촉진하면서 새로운 일자리를 창출하고, 새로운 사회 시스템이 형성될 수 있음'),\n",
       " Document(page_content='SPRi AI Brief Special |  2024-12월호\\n24\\n[참고 문헌]\\n1. Alan Chan 외, Visibility into AI Agents, 2024\\n2. Apple, Apple Intelligence, https://www.apple.com/apple-intelligence/\\n3. Apple, Apple Intelligence is available today on iPhone, iPad, and Mac, 2024.10.28.\\n4. Apple, Introducing Apple Intelligence, the personal intelligence system that puts powerful \\ngenerative models at the core of iPhone, iPad, and Mac, 2024.6.10\\n5. AWS, Amazon Polly, https://aws.amazon.com/ko/polly'),\n",
       " Document(page_content='business, 2024.9.16\\n32. NVIDIA, AI-Powered Solutions for Healthcare, https://www.nvidia.com/en-us/clara/\\n33. NVIDIA, End-to-End Solutions for Autonomous Vehicles, https://developer.nvidia.com/drive\\n34. NVIDIA, From Prototype to Prompt: NVIDIA NIM Agent Blueprints Fast-Forward Next \\nWave of Enterprise Generative AI, 2024.8.27\\n35. NVIDIA, NVIDIA Omniverse, https://www.nvidia.com/en-us/omniverse/\\n36. Russell, S. J., & Norvig, P. Artificial Intelligence: A Modern Approach (4th ed.). Pearson. 2021')]"
      ]
     },
     "execution_count": 41,
     "metadata": {},
     "output_type": "execute_result"
    }
   ],
   "source": [
    "selected_docs = [Document(page_content=split_docs[doc]) for doc in selected_indices]\n",
    "selected_docs"
   ]
  },
  {
   "cell_type": "markdown",
   "metadata": {},
   "source": [
    "### map-refine"
   ]
  },
  {
   "cell_type": "code",
   "execution_count": 42,
   "metadata": {},
   "outputs": [
    {
     "name": "stdout",
     "output_type": "stream",
     "text": [
      "- Microsoft의 제품군은 AI 에이전트를 활용하여 기업의 업무 협업과 고객 응대 자동화를 지원한다.\n",
      "- 'Copilot Studio'는 Office 365, Teams, Power Platform 등과 통합되어 사용자가 생성한 AI 에이전트와 협업할 수 있게 한다.\n",
      "- 'Azure OpenAI Service'는 OpenAI의 GPT 모델을 Azure 클라우드 플랫폼을 통해 제공하여 다양한 작업을 수행할 수 있도록 한다.\n",
      "- 'Power Virtual Agents'를 통해 기업 고객은 코딩 없이 AI 챗봇을 쉽게 구축할 수 있다.\n",
      "- Apple은 기기 판매와 생태계에 대한 사용자 충성도를 높이기 위해 부가 가치를 강화하는 기능을 제공하며, Siri는 고객 중심의 개인정보 보호 전략에 따라 사용자 데이터 수집을 최소화한다.\n",
      "- 2024년 6월, Apple은 개인 인텔리전스 시스템인 Apple Intelligence를 소개하였고, 2024년 10월 28일에 공식 출시되어 사용자들은 글쓰기, 알림, 메일, 메시지 요약 등 다양한 기능을 활용할 수 있다.\n",
      "\n",
      "-----------------\n",
      "\n",
      "\n",
      "- Microsoft의 제품군은 AI 에이전트를 활용하여 기업의 업무 협업과 고객 응대 자동화를 지원한다.\n",
      "- 'Copilot Studio'는 Office 365, Teams, Power Platform 등과 통합되어 사용자가 생성한 AI 에이전트와 협업할 수 있게 한다.\n",
      "- 'Azure OpenAI Service'는 OpenAI의 GPT 모델을 Azure 클라우드 플랫폼을 통해 제공하여 다양한 작업을 수행할 수 있도록 한다.\n",
      "- 'Power Virtual Agents'를 통해 기업 고객은 코딩 없이 AI 챗봇을 쉽게 구축할 수 있다.\n",
      "- Apple은 기기 판매와 생태계에 대한 사용자 충성도를 높이기 위해 부가 가치를 강화하는 기능을 제공하며, Siri는 고객 중심의 개인정보 보호 전략에 따라 사용자 데이터 수집을 최소화한다.\n",
      "- 2024년 6월, Apple은 개인 인텔리전스 시스템인 Apple Intelligence를 소개하였고, 2024년 10월 28일에 공식 출시되어 사용자들은 글쓰기, 알림, 메일, 메시지 요약 등 다양한 기능을 활용할 수 있다.\n",
      "- 메타는 Messenger에 AI 챗봇을 도입하여 고객 서비스와 마케팅 메시지 자동화를 지원하며, AI 언어 모델은 사용자 의도를 이해하고 대화의 일관성을 유지하는 기능을 갖추고 있다.\n",
      "- Facebook과 Instagram에서는 머신러닝 기반 추천 엔진을 통해 사용자 맞춤형 콘텐츠를 제공하여 참여도를 높이고, 추천 엔진은 사용자의 관심사와 상호작용 패턴을 분석하여 게시물, 광고, 친구 추천 등을 큐레이션한다.\n",
      "- Horizon Worlds에서는 VR/AR 기반 AI 아바타를 통해 메타버스 내 상호작용을 강화하고 있다.\n",
      "\n",
      "-----------------\n",
      "\n",
      "\n",
      "- Microsoft의 제품군은 AI 에이전트를 활용하여 기업의 업무 협업과 고객 응대 자동화를 지원한다.\n",
      "- 'Copilot Studio'는 Office 365, Teams, Power Platform 등과 통합되어 사용자가 생성한 AI 에이전트와 협업할 수 있게 한다.\n",
      "- 'Azure OpenAI Service'는 OpenAI의 GPT 모델을 Azure 클라우드 플랫폼을 통해 제공하여 다양한 작업을 수행할 수 있도록 한다.\n",
      "- 'Power Virtual Agents'를 통해 기업 고객은 코딩 없이 AI 챗봇을 쉽게 구축할 수 있다.\n",
      "- Apple은 기기 판매와 생태계에 대한 사용자 충성도를 높이기 위해 부가 가치를 강화하는 기능을 제공하며, Siri는 고객 중심의 개인정보 보호 전략에 따라 사용자 데이터 수집을 최소화한다.\n",
      "- 2024년 6월, Apple은 개인 인텔리전스 시스템인 Apple Intelligence를 소개하였고, 2024년 10월 28일에 공식 출시되어 사용자들은 글쓰기, 알림, 메일, 메시지 요약 등 다양한 기능을 활용할 수 있다.\n",
      "- 메타는 Messenger에 AI 챗봇을 도입하여 고객 서비스와 마케팅 메시지 자동화를 지원하며, AI 언어 모델은 사용자 의도를 이해하고 대화의 일관성을 유지하는 기능을 갖추고 있다.\n",
      "- Facebook과 Instagram에서는 머신러닝 기반 추천 엔진을 통해 사용자 맞춤형 콘텐츠를 제공하여 참여도를 높이고, 추천 엔진은 사용자의 관심사와 상호작용 패턴을 분석하여 게시물, 광고, 친구 추천 등을 큐레이션한다.\n",
      "- Horizon Worlds에서는 VR/AR 기반 AI 아바타를 통해 메타버스 내 상호작용을 강화하고 있다.\n",
      "- AWS는 Amazon의 클라우드 서비스 플랫폼으로, 다양한 산업에 걸쳐 AI 기술을 활용하여 고객 서비스, 보안, 데이터 분석 등을 지원한다.\n",
      "- Amazon Lex, Polly, Transcribe는 음성 인식, 텍스트 변환, 대화형 인터페이스 기능을 제공하여 기업들이 필요한 AI 기능을 자유롭게 사용할 수 있도록 돕는다.\n",
      "- 'Amazon Q'는 생성형 AI 기반 어시스턴트 기능을 제공하여 소프트웨어 개발을 가속화하고 회사의 내부 데이터를 활용하는 데 유용하다.\n",
      "\n",
      "-----------------\n",
      "\n",
      "\n",
      "- Microsoft의 제품군은 AI 에이전트를 활용하여 기업의 업무 협업과 고객 응대 자동화를 지원한다.\n",
      "- 'Copilot Studio'는 Office 365, Teams, Power Platform 등과 통합되어 사용자가 생성한 AI 에이전트와 협업할 수 있게 한다.\n",
      "- 'Azure OpenAI Service'는 OpenAI의 GPT 모델을 Azure 클라우드 플랫폼을 통해 제공하여 다양한 작업을 수행할 수 있도록 한다.\n",
      "- 'Power Virtual Agents'를 통해 기업 고객은 코딩 없이 AI 챗봇을 쉽게 구축할 수 있다.\n",
      "- Apple은 기기 판매와 생태계에 대한 사용자 충성도를 높이기 위해 부가 가치를 강화하는 기능을 제공하며, Siri는 고객 중심의 개인정보 보호 전략에 따라 사용자 데이터 수집을 최소화한다.\n",
      "- 2024년 6월, Apple은 개인 인텔리전스 시스템인 Apple Intelligence를 소개하였고, 2024년 10월 28일에 공식 출시되어 사용자들은 글쓰기, 알림, 메일, 메시지 요약 등 다양한 기능을 활용할 수 있다.\n",
      "- 메타는 Messenger에 AI 챗봇을 도입하여 고객 서비스와 마케팅 메시지 자동화를 지원하며, AI 언어 모델은 사용자 의도를 이해하고 대화의 일관성을 유지하는 기능을 갖추고 있다.\n",
      "- Facebook과 Instagram에서는 머신러닝 기반 추천 엔진을 통해 사용자 맞춤형 콘텐츠를 제공하여 참여도를 높이고, 추천 엔진은 사용자의 관심사와 상호작용 패턴을 분석하여 게시물, 광고, 친구 추천 등을 큐레이션한다.\n",
      "- Horizon Worlds에서는 VR/AR 기반 AI 아바타를 통해 메타버스 내 상호작용을 강화하고 있다.\n",
      "- AWS는 Amazon의 클라우드 서비스 플랫폼으로, 다양한 산업에 걸쳐 AI 기술을 활용하여 고객 서비스, 보안, 데이터 분석 등을 지원한다. AWS는 Amazon Polly(텍스트를 자연스러운 음성으로 변환), Amazon Transcribe(음성을 텍스트로 변환), Amazon Rekognition(이미지 및 비디오 분석을 통한 객체 및 얼굴 인식) 등의 다양한 인공지능 서비스를 제공한다.\n",
      "- AWS는 Amazon Bedrock, Amazon Connect, Amazon Lex, LangChain, WhatsApp을 활용하여 차세대 채팅 어시스턴트를 만드는 방법을 제시하며, 'Amazon Q'는 생성형 AI 기반 어시스턴트 기능을 제공하여 소프트웨어 개발을 가속화하고 회사의 내부 데이터를 활용하는 데 유용하다.\n",
      "\n",
      "-----------------\n",
      "\n",
      "\n",
      "- Microsoft의 제품군은 AI 에이전트를 활용하여 기업의 업무 협업과 고객 응대 자동화를 지원한다.\n",
      "- 'Copilot Studio'는 Office 365, Teams, Power Platform 등과 통합되어 사용자가 생성한 AI 에이전트와 협업할 수 있게 한다.\n",
      "- 'Azure OpenAI Service'는 OpenAI의 GPT 모델을 Azure 클라우드 플랫폼을 통해 제공하여 다양한 작업을 수행할 수 있도록 한다.\n",
      "- 'Power Virtual Agents'를 통해 기업 고객은 코딩 없이 AI 챗봇을 쉽게 구축할 수 있다.\n",
      "- Apple은 기기 판매와 생태계에 대한 사용자 충성도를 높이기 위해 부가 가치를 강화하는 기능을 제공하며, Siri는 고객 중심의 개인정보 보호 전략에 따라 사용자 데이터 수집을 최소화한다.\n",
      "- 2024년 6월, Apple은 개인 인텔리전스 시스템인 Apple Intelligence를 소개하였고, 2024년 10월 28일에 공식 출시되어 사용자들은 글쓰기, 알림, 메일, 메시지 요약 등 다양한 기능을 활용할 수 있다.\n",
      "- 메타는 Messenger에 AI 챗봇을 도입하여 고객 서비스와 마케팅 메시지 자동화를 지원하며, AI 언어 모델은 사용자 의도를 이해하고 대화의 일관성을 유지하는 기능을 갖추고 있다.\n",
      "- Facebook과 Instagram에서는 머신러닝 기반 추천 엔진을 통해 사용자 맞춤형 콘텐츠를 제공하여 참여도를 높이고, 추천 엔진은 사용자의 관심사와 상호작용 패턴을 분석하여 게시물, 광고, 친구 추천 등을 큐레이션한다.\n",
      "- Horizon Worlds에서는 VR/AR 기반 AI 아바타를 통해 메타버스 내 상호작용을 강화하고 있다.\n",
      "- AWS는 Amazon의 클라우드 서비스 플랫폼으로, 다양한 산업에 걸쳐 AI 기술을 활용하여 고객 서비스, 보안, 데이터 분석 등을 지원한다. AWS는 Amazon Polly(텍스트를 자연스러운 음성으로 변환), Amazon Transcribe(음성을 텍스트로 변환), Amazon Rekognition(이미지 및 비디오 분석을 통한 객체 및 얼굴 인식) 등의 다양한 인공지능 서비스를 제공한다.\n",
      "- AWS는 Amazon Bedrock, Amazon Connect, Amazon Lex, LangChain, WhatsApp을 활용하여 차세대 채팅 어시스턴트를 만드는 방법을 제시하며, 'Amazon Q'는 생성형 AI 기반 어시스턴트 기능을 제공하여 소프트웨어 개발을 가속화하고 회사의 내부 데이터를 활용하는 데 유용하다.\n",
      "- Salesforce는 Agentforce를 구독 서비스로 제공하여 고객이 사용량에 따라 맞춤형 AI 기능을 이용할 수 있도록 하고, 이를 통해 수익을 창출하고 있다. Agentforce는 CRM 플랫폼과 통합되어 있으며, 고객은 필요에 따라 다양한 AI 기능을 선택할 수 있다. 2024년 9월, Salesforce는 'Dreamforce 2024' 행사에서 기존 Einstein Copilot을 개선한 새로운 브랜드 'Agentforce'를 출시했다.\n",
      "\n",
      "-----------------\n",
      "\n",
      "\n",
      "- Microsoft의 제품군은 AI 에이전트를 활용하여 기업의 업무 협업과 고객 응대 자동화를 지원한다.\n",
      "- 'Copilot Studio'는 Office 365, Teams, Power Platform 등과 통합되어 사용자가 생성한 AI 에이전트와 협업할 수 있게 한다.\n",
      "- 'Azure OpenAI Service'는 OpenAI의 GPT 모델을 Azure 클라우드 플랫폼을 통해 제공하여 다양한 작업을 수행할 수 있도록 한다.\n",
      "- 'Power Virtual Agents'를 통해 기업 고객은 코딩 없이 AI 챗봇을 쉽게 구축할 수 있다.\n",
      "- Apple은 기기 판매와 생태계에 대한 사용자 충성도를 높이기 위해 부가 가치를 강화하는 기능을 제공하며, Siri는 고객 중심의 개인정보 보호 전략에 따라 사용자 데이터 수집을 최소화한다.\n",
      "- 2024년 6월, Apple은 개인 인텔리전스 시스템인 Apple Intelligence를 소개하였고, 2024년 10월 28일에 공식 출시되어 사용자들은 글쓰기, 알림, 메일, 메시지 요약 등 다양한 기능을 활용할 수 있다.\n",
      "- 메타는 Messenger에 AI 챗봇을 도입하여 고객 서비스와 마케팅 메시지 자동화를 지원하며, AI 언어 모델은 사용자 의도를 이해하고 대화의 일관성을 유지하는 기능을 갖추고 있다.\n",
      "- Facebook과 Instagram에서는 머신러닝 기반 추천 엔진을 통해 사용자 맞춤형 콘텐츠를 제공하여 참여도를 높이고, 추천 엔진은 사용자의 관심사와 상호작용 패턴을 분석하여 게시물, 광고, 친구 추천 등을 큐레이션한다.\n",
      "- Horizon Worlds에서는 VR/AR 기반 AI 아바타를 통해 메타버스 내 상호작용을 강화하고 있다.\n",
      "- AWS는 Amazon의 클라우드 서비스 플랫폼으로, 다양한 산업에 걸쳐 AI 기술을 활용하여 고객 서비스, 보안, 데이터 분석 등을 지원한다. AWS는 Amazon Polly(텍스트를 자연스러운 음성으로 변환), Amazon Transcribe(음성을 텍스트로 변환), Amazon Rekognition(이미지 및 비디오 분석을 통한 객체 및 얼굴 인식) 등의 다양한 인공지능 서비스를 제공한다.\n",
      "- AWS는 Amazon Bedrock, Amazon Connect, Amazon Lex, LangChain, WhatsApp을 활용하여 차세대 채팅 어시스턴트를 만드는 방법을 제시하며, 'Amazon Q'는 생성형 AI 기반 어시스턴트 기능을 제공하여 소프트웨어 개발을 가속화하고 회사의 내부 데이터를 활용하는 데 유용하다.\n",
      "- Salesforce는 Agentforce를 구독 서비스로 제공하여 고객이 사용량에 따라 맞춤형 AI 기능을 이용할 수 있도록 하고, 이를 통해 수익을 창출하고 있다. Agentforce는 CRM 플랫폼과 통합되어 있으며, 고객은 필요에 따라 다양한 AI 기능을 선택할 수 있다. 2024년 9월, Salesforce는 'Dreamforce 2024' 행사에서 기존 Einstein Copilot을 개선한 새로운 브랜드 'Agentforce'를 출시했다.\n",
      "- 2024년에는 AI 에이전트를 통해 일상적인 업무 결정의 15%를 자율적으로 내릴 수 있을 것으로 예상되며, AI 에이전트는 소프트웨어, SaaS 플랫폼, 사물 인터넷 기기 및 로봇에 통합되어 기술 혁신과 사회적 변화를 이끌 것으로 보인다. 단기적으로 AI 에이전트는 고객 지원, 데이터 분석, 대화형 인터페이스 등에서 빠르게 상용화될 것으로 전망되며, 고객 서비스 자동화와 맞춤형 추천을 통해 효율성을 높이고, 고객 경험을 강화하며 비용 절감에 기여할 것으로 기대된다.\n",
      "\n",
      "-----------------\n",
      "\n",
      "\n",
      "- Microsoft의 제품군은 AI 에이전트를 활용하여 기업의 업무 협업과 고객 응대 자동화를 지원한다.\n",
      "- 'Copilot Studio'는 Office 365, Teams, Power Platform 등과 통합되어 사용자가 생성한 AI 에이전트와 협업할 수 있게 한다.\n",
      "- 'Azure OpenAI Service'는 OpenAI의 GPT 모델을 Azure 클라우드 플랫폼을 통해 제공하여 다양한 작업을 수행할 수 있도록 한다.\n",
      "- 'Power Virtual Agents'를 통해 기업 고객은 코딩 없이 AI 챗봇을 쉽게 구축할 수 있다.\n",
      "- Apple은 기기 판매와 생태계에 대한 사용자 충성도를 높이기 위해 부가 가치를 강화하는 기능을 제공하며, Siri는 고객 중심의 개인정보 보호 전략에 따라 사용자 데이터 수집을 최소화한다.\n",
      "- 2024년 6월, Apple은 개인 인텔리전스 시스템인 Apple Intelligence를 소개하였고, 2024년 10월 28일에 공식 출시되어 사용자들은 글쓰기, 알림, 메일, 메시지 요약 등 다양한 기능을 활용할 수 있다.\n",
      "- 메타는 Messenger에 AI 챗봇을 도입하여 고객 서비스와 마케팅 메시지 자동화를 지원하며, AI 언어 모델은 사용자 의도를 이해하고 대화의 일관성을 유지하는 기능을 갖추고 있다.\n",
      "- Facebook과 Instagram에서는 머신러닝 기반 추천 엔진을 통해 사용자 맞춤형 콘텐츠를 제공하여 참여도를 높이고, 추천 엔진은 사용자의 관심사와 상호작용 패턴을 분석하여 게시물, 광고, 친구 추천 등을 큐레이션한다.\n",
      "- Horizon Worlds에서는 VR/AR 기반 AI 아바타를 통해 메타버스 내 상호작용을 강화하고 있다.\n",
      "- AWS는 Amazon의 클라우드 서비스 플랫폼으로, 다양한 산업에 걸쳐 AI 기술을 활용하여 고객 서비스, 보안, 데이터 분석 등을 지원한다. AWS는 Amazon Polly(텍스트를 자연스러운 음성으로 변환), Amazon Transcribe(음성을 텍스트로 변환), Amazon Rekognition(이미지 및 비디오 분석을 통한 객체 및 얼굴 인식) 등의 다양한 인공지능 서비스를 제공한다.\n",
      "- AWS는 Amazon Bedrock, Amazon Connect, Amazon Lex, LangChain, WhatsApp을 활용하여 차세대 채팅 어시스턴트를 만드는 방법을 제시하며, 'Amazon Q'는 생성형 AI 기반 어시스턴트 기능을 제공하여 소프트웨어 개발을 가속화하고 회사의 내부 데이터를 활용하는 데 유용하다.\n",
      "- Salesforce는 Agentforce를 구독 서비스로 제공하여 고객이 사용량에 따라 맞춤형 AI 기능을 이용할 수 있도록 하고, 이를 통해 수익을 창출하고 있다. Agentforce는 CRM 플랫폼과 통합되어 있으며, 고객은 필요에 따라 다양한 AI 기능을 선택할 수 있다. 2024년 9월, Salesforce는 'Dreamforce 2024' 행사에서 기존 Einstein Copilot을 개선한 새로운 브랜드 'Agentforce'를 출시했다.\n",
      "- 기업들은 AI 에이전트를 통해 생산성을 높이고, 조직의 업무 프로세스에 맞춰 활용하고 있다. 2024년에는 AI 에이전트를 통해 일상적인 업무 결정의 15%를 자율적으로 내릴 수 있을 것으로 예상되며, AI 에이전트는 소프트웨어, SaaS 플랫폼, 사물 인터넷 기기 및 로봇에 통합되어 기술 혁신과 사회적 변화를 이끌 것으로 보인다. \n",
      "- 장기적으로 AI 에이전트는 인간의 일상과 비즈니스 운영에 통합되며, 자율성과 의사 결정 능력이 향상될 것으로 예상된다. AI 기술의 발전으로 AI 에이전트는 복잡한 작업을 독립적으로 수행하고, 사용자 맞춤형 서비스가 고도화될 것이다. 자율주행, 의료, 금융 등 다양한 분야에서 AI 에이전트가 혁신적인 역할을 하며, 인간-기계 협업 모델이 확산될 전망이다. \n",
      "- AI가 일자리를 대체할 우려가 있지만, 동시에 인재 부족 문제를 해결하고 새로운 일자리를 창출할 가능성도 있다. 단기적으로 AI 에이전트는 고객 지원, 데이터 분석, 대화형 인터페이스 등에서 빠르게 상용화될 것으로 전망되며, 고객 서비스 자동화와 맞춤형 추천을 통해 효율성을 높이고, 고객 경험을 강화하며 비용 절감에 기여할 것으로 기대된다.\n",
      "\n",
      "-----------------\n",
      "\n",
      "\n",
      "- Microsoft의 제품군은 AI 에이전트를 활용하여 기업의 업무 협업과 고객 응대 자동화를 지원한다.\n",
      "- 'Copilot Studio'는 Office 365, Teams, Power Platform 등과 통합되어 사용자가 생성한 AI 에이전트와 협업할 수 있게 한다.\n",
      "- 'Azure OpenAI Service'는 OpenAI의 GPT 모델을 Azure 클라우드 플랫폼을 통해 제공하여 다양한 작업을 수행할 수 있도록 한다.\n",
      "- 'Power Virtual Agents'를 통해 기업 고객은 코딩 없이 AI 챗봇을 쉽게 구축할 수 있다.\n",
      "- Apple은 기기 판매와 생태계에 대한 사용자 충성도를 높이기 위해 부가 가치를 강화하는 기능을 제공하며, Siri는 고객 중심의 개인정보 보호 전략에 따라 사용자 데이터 수집을 최소화한다.\n",
      "- 2024년 6월, Apple은 개인 인텔리전스 시스템인 Apple Intelligence를 소개하였고, 이는 iPhone, iPad, Mac에서 사용 가능하며 강력한 생성 모델을 중심으로 설계되어 사용자에게 개인화된 경험을 제공한다. Apple Intelligence는 2024년 10월 28일에 공식 출시되어 글쓰기, 알림, 메일, 메시지 요약 등 다양한 기능을 활용할 수 있다.\n",
      "- 메타는 Messenger에 AI 챗봇을 도입하여 고객 서비스와 마케팅 메시지 자동화를 지원하며, AI 언어 모델은 사용자 의도를 이해하고 대화의 일관성을 유지하는 기능을 갖추고 있다.\n",
      "- Facebook과 Instagram에서는 머신러닝 기반 추천 엔진을 통해 사용자 맞춤형 콘텐츠를 제공하여 참여도를 높이고, 추천 엔진은 사용자의 관심사와 상호작용 패턴을 분석하여 게시물, 광고, 친구 추천 등을 큐레이션한다.\n",
      "- Horizon Worlds에서는 VR/AR 기반 AI 아바타를 통해 메타버스 내 상호작용을 강화하고 있다.\n",
      "- AWS는 Amazon의 클라우드 서비스 플랫폼으로, 다양한 산업에 걸쳐 AI 기술을 활용하여 고객 서비스, 보안, 데이터 분석 등을 지원한다. AWS는 Amazon Polly(텍스트를 자연스러운 음성으로 변환), Amazon Transcribe(음성을 텍스트로 변환), Amazon Rekognition(이미지 및 비디오 분석을 통한 객체 및 얼굴 인식) 등의 다양한 인공지능 서비스를 제공한다.\n",
      "- AWS는 Amazon Bedrock, Amazon Connect, Amazon Lex, LangChain, WhatsApp을 활용하여 차세대 채팅 어시스턴트를 만드는 방법을 제시하며, 'Amazon Q'는 생성형 AI 기반 어시스턴트 기능을 제공하여 소프트웨어 개발을 가속화하고 회사의 내부 데이터를 활용하는 데 유용하다.\n",
      "- Salesforce는 Agentforce를 구독 서비스로 제공하여 고객이 사용량에 따라 맞춤형 AI 기능을 이용할 수 있도록 하고, 이를 통해 수익을 창출하고 있다. Agentforce는 CRM 플랫폼과 통합되어 있으며, 고객은 필요에 따라 다양한 AI 기능을 선택할 수 있다. 2024년 9월, Salesforce는 'Dreamforce 2024' 행사에서 기존 Einstein Copilot을 개선한 새로운 브랜드 'Agentforce'를 출시했다.\n",
      "- 기업들은 AI 에이전트를 통해 생산성을 높이고, 조직의 업무 프로세스에 맞춰 활용하고 있다. 2024년에는 AI 에이전트를 통해 일상적인 업무 결정의 15%를 자율적으로 내릴 수 있을 것으로 예상되며, AI 에이전트는 소프트웨어, SaaS 플랫폼, 사물 인터넷 기기 및 로봇에 통합되어 기술 혁신과 사회적 변화를 이끌 것으로 보인다.\n",
      "- 장기적으로 AI 에이전트는 인간의 일상과 비즈니스 운영에 통합되며, 자율성과 의사 결정 능력이 향상될 것으로 예상된다. AI 기술의 발전으로 AI 에이전트는 복잡한 작업을 독립적으로 수행하고, 사용자 맞춤형 서비스가 고도화될 것이다. 자율주행, 의료, 금융 등 다양한 분야에서 AI 에이전트가 혁신적인 역할을 하며, 인간-기계 협업 모델이 확산될 전망이다.\n",
      "- AI가 일자리를 대체할 우려가 있지만, 동시에 인재 부족 문제를 해결하고 새로운 일자리를 창출할 가능성도 있다. 단기적으로 AI 에이전트는 고객 지원, 데이터 분석, 대화형 인터페이스 등에서 빠르게 상용화될 것으로 전망되며, 고객 서비스 자동화와 맞춤형 추천을 통해 효율성을 높이고, 고객 경험을 강화하며 비용 절감에 기여할 것으로 기대된다.\n",
      "- 2024년 12월호 SPRi AI Brief에서는 AI 에이전트의 가시성에 대한 연구가 소개되었으며, AI 기술의 발전과 그 응용 가능성에 대한 통찰을 제공한다.\n",
      "\n",
      "-----------------\n",
      "\n",
      "\n",
      "- Microsoft의 제품군은 AI 에이전트를 활용하여 기업의 업무 협업과 고객 응대 자동화를 지원한다.\n",
      "- 'Copilot Studio'는 Office 365, Teams, Power Platform 등과 통합되어 사용자가 생성한 AI 에이전트와 협업할 수 있게 한다.\n",
      "- 'Azure OpenAI Service'는 OpenAI의 GPT 모델을 Azure 클라우드 플랫폼을 통해 제공하여 다양한 작업을 수행할 수 있도록 한다.\n",
      "- 'Power Virtual Agents'를 통해 기업 고객은 코딩 없이 AI 챗봇을 쉽게 구축할 수 있다.\n",
      "- Apple은 기기 판매와 생태계에 대한 사용자 충성도를 높이기 위해 부가 가치를 강화하는 기능을 제공하며, Siri는 고객 중심의 개인정보 보호 전략에 따라 사용자 데이터 수집을 최소화한다.\n",
      "- 2024년 6월, Apple은 개인 인텔리전스 시스템인 Apple Intelligence를 소개하였고, 이는 iPhone, iPad, Mac에서 사용 가능하며 강력한 생성 모델을 중심으로 설계되어 사용자에게 개인화된 경험을 제공한다. Apple Intelligence는 2024년 10월 28일에 공식 출시되어 글쓰기, 알림, 메일, 메시지 요약 등 다양한 기능을 활용할 수 있다.\n",
      "- 메타는 Messenger에 AI 챗봇을 도입하여 고객 서비스와 마케팅 메시지 자동화를 지원하며, AI 언어 모델은 사용자 의도를 이해하고 대화의 일관성을 유지하는 기능을 갖추고 있다.\n",
      "- Facebook과 Instagram에서는 머신러닝 기반 추천 엔진을 통해 사용자 맞춤형 콘텐츠를 제공하여 참여도를 높이고, 추천 엔진은 사용자의 관심사와 상호작용 패턴을 분석하여 게시물, 광고, 친구 추천 등을 큐레이션한다.\n",
      "- Horizon Worlds에서는 VR/AR 기반 AI 아바타를 통해 메타버스 내 상호작용을 강화하고 있다.\n",
      "- AWS는 Amazon의 클라우드 서비스 플랫폼으로, 다양한 산업에 걸쳐 AI 기술을 활용하여 고객 서비스, 보안, 데이터 분석 등을 지원한다. AWS는 Amazon Polly(텍스트를 자연스러운 음성으로 변환), Amazon Transcribe(음성을 텍스트로 변환), Amazon Rekognition(이미지 및 비디오 분석을 통한 객체 및 얼굴 인식) 등의 다양한 인공지능 서비스를 제공한다.\n",
      "- AWS는 Amazon Bedrock, Amazon Connect, Amazon Lex, LangChain, WhatsApp을 활용하여 차세대 채팅 어시스턴트를 만드는 방법을 제시하며, 'Amazon Q'는 생성형 AI 기반 어시스턴트 기능을 제공하여 소프트웨어 개발을 가속화하고 회사의 내부 데이터를 활용하는 데 유용하다.\n",
      "- Salesforce는 Agentforce를 구독 서비스로 제공하여 고객이 사용량에 따라 맞춤형 AI 기능을 이용할 수 있도록 하고, 이를 통해 수익을 창출하고 있다. Agentforce는 CRM 플랫폼과 통합되어 있으며, 고객은 필요에 따라 다양한 AI 기능을 선택할 수 있다. 2024년 9월, Salesforce는 'Dreamforce 2024' 행사에서 기존 Einstein Copilot을 개선한 새로운 브랜드 'Agentforce'를 출시했다.\n",
      "- NVIDIA는 의료 분야를 위한 AI 기반 솔루션을 제공하고 있으며, 자율주행차를 위한 종합 솔루션을 개발하고 있다. 또한, NVIDIA NIM 에이전트 블루프린트를 통해 기업의 생성적 AI 발전을 가속화하고 있으며, Omniverse 플랫폼은 다양한 분야에서 활용 가능하다.\n",
      "- 기업들은 AI 에이전트를 통해 생산성을 높이고, 조직의 업무 프로세스에 맞춰 활용하고 있다. 2024년에는 AI 에이전트를 통해 일상적인 업무 결정의 15%를 자율적으로 내릴 수 있을 것으로 예상되며, AI 에이전트는 소프트웨어, SaaS 플랫폼, 사물 인터넷 기기 및 로봇에 통합되어 기술 혁신과 사회적 변화를 이끌 것으로 보인다.\n",
      "- 장기적으로 AI 에이전트는 인간의 일상과 비즈니스 운영에 통합되며, 자율성과 의사 결정 능력이 향상될 것으로 예상된다. AI 기술의 발전으로 AI 에이전트는 복잡한 작업을 독립적으로 수행하고, 사용자 맞춤형 서비스가 고도화될 것이다. 자율주행, 의료, 금융 등 다양한 분야에서 AI 에이전트가 혁신적인 역할을 하며, 인간-기계 협업 모델이 확산될 전망이다.\n",
      "- AI가 일자리를 대체할 우려가 있지만, 동시에 인재 부족 문제를 해결하고 새로운 일자리를 창출할 가능성도 있다. 단기적으로 AI 에이전트는 고객 지원, 데이터 분석, 대화형 인터페이스 등에서 빠르게 상용화될 것으로 전망되며, 고객 서비스 자동화와 맞춤형 추천을 통해 효율성을 높이고, 고객 경험을 강화하며 비용 절감에 기여할 것으로 기대된다.\n",
      "- 2024년 12월호 SPRi AI Brief에서는 AI 에이전트의 가시성에 대한 연구가 소개되었으며, AI 기술의 발전과 그 응용 가능성에 대한 통찰을 제공한다.\n",
      "\n",
      "-----------------\n",
      "\n",
      "\n"
     ]
    }
   ],
   "source": [
    "# 이전에 생성한 map_refine_chain을 사용하여 요약 생성\n",
    "refined_summary = map_refine_chain.invoke(selected_docs)"
   ]
  },
  {
   "cell_type": "code",
   "execution_count": 43,
   "metadata": {},
   "outputs": [
    {
     "name": "stdout",
     "output_type": "stream",
     "text": [
      "- Microsoft의 제품군은 AI 에이전트를 활용하여 기업의 업무 협업과 고객 응대 자동화를 지원한다.\n",
      "- 'Copilot Studio'는 Office 365, Teams, Power Platform 등과 통합되어 사용자가 생성한 AI 에이전트와 협업할 수 있게 한다.\n",
      "- 'Azure OpenAI Service'는 OpenAI의 GPT 모델을 Azure 클라우드 플랫폼을 통해 제공하여 다양한 작업을 수행할 수 있도록 한다.\n",
      "- 'Power Virtual Agents'를 통해 기업 고객은 코딩 없이 AI 챗봇을 쉽게 구축할 수 있다.\n",
      "- Apple은 기기 판매와 생태계에 대한 사용자 충성도를 높이기 위해 부가 가치를 강화하는 기능을 제공하며, Siri는 고객 중심의 개인정보 보호 전략에 따라 사용자 데이터 수집을 최소화한다.\n",
      "- 2024년 6월, Apple은 개인 인텔리전스 시스템인 Apple Intelligence를 소개하였고, 이는 iPhone, iPad, Mac에서 사용 가능하며 강력한 생성 모델을 중심으로 설계되어 사용자에게 개인화된 경험을 제공한다. Apple Intelligence는 2024년 10월 28일에 공식 출시되어 글쓰기, 알림, 메일, 메시지 요약 등 다양한 기능을 활용할 수 있다.\n",
      "- 메타는 Messenger에 AI 챗봇을 도입하여 고객 서비스와 마케팅 메시지 자동화를 지원하며, AI 언어 모델은 사용자 의도를 이해하고 대화의 일관성을 유지하는 기능을 갖추고 있다.\n",
      "- Facebook과 Instagram에서는 머신러닝 기반 추천 엔진을 통해 사용자 맞춤형 콘텐츠를 제공하여 참여도를 높이고, 추천 엔진은 사용자의 관심사와 상호작용 패턴을 분석하여 게시물, 광고, 친구 추천 등을 큐레이션한다.\n",
      "- Horizon Worlds에서는 VR/AR 기반 AI 아바타를 통해 메타버스 내 상호작용을 강화하고 있다.\n",
      "- AWS는 Amazon의 클라우드 서비스 플랫폼으로, 다양한 산업에 걸쳐 AI 기술을 활용하여 고객 서비스, 보안, 데이터 분석 등을 지원한다. AWS는 Amazon Polly(텍스트를 자연스러운 음성으로 변환), Amazon Transcribe(음성을 텍스트로 변환), Amazon Rekognition(이미지 및 비디오 분석을 통한 객체 및 얼굴 인식) 등의 다양한 인공지능 서비스를 제공한다.\n",
      "- AWS는 Amazon Bedrock, Amazon Connect, Amazon Lex, LangChain, WhatsApp을 활용하여 차세대 채팅 어시스턴트를 만드는 방법을 제시하며, 'Amazon Q'는 생성형 AI 기반 어시스턴트 기능을 제공하여 소프트웨어 개발을 가속화하고 회사의 내부 데이터를 활용하는 데 유용하다.\n",
      "- Salesforce는 Agentforce를 구독 서비스로 제공하여 고객이 사용량에 따라 맞춤형 AI 기능을 이용할 수 있도록 하고, 이를 통해 수익을 창출하고 있다. Agentforce는 CRM 플랫폼과 통합되어 있으며, 고객은 필요에 따라 다양한 AI 기능을 선택할 수 있다. 2024년 9월, Salesforce는 'Dreamforce 2024' 행사에서 기존 Einstein Copilot을 개선한 새로운 브랜드 'Agentforce'를 출시했다.\n",
      "- NVIDIA는 의료 분야를 위한 AI 기반 솔루션을 제공하고 있으며, 자율주행차를 위한 종합 솔루션을 개발하고 있다. 또한, NVIDIA NIM 에이전트 블루프린트를 통해 기업의 생성적 AI 발전을 가속화하고 있으며, Omniverse 플랫폼은 다양한 분야에서 활용 가능하다.\n",
      "- 기업들은 AI 에이전트를 통해 생산성을 높이고, 조직의 업무 프로세스에 맞춰 활용하고 있다. 2024년에는 AI 에이전트를 통해 일상적인 업무 결정의 15%를 자율적으로 내릴 수 있을 것으로 예상되며, AI 에이전트는 소프트웨어, SaaS 플랫폼, 사물 인터넷 기기 및 로봇에 통합되어 기술 혁신과 사회적 변화를 이끌 것으로 보인다.\n",
      "- 장기적으로 AI 에이전트는 인간의 일상과 비즈니스 운영에 통합되며, 자율성과 의사 결정 능력이 향상될 것으로 예상된다. AI 기술의 발전으로 AI 에이전트는 복잡한 작업을 독립적으로 수행하고, 사용자 맞춤형 서비스가 고도화될 것이다. 자율주행, 의료, 금융 등 다양한 분야에서 AI 에이전트가 혁신적인 역할을 하며, 인간-기계 협업 모델이 확산될 전망이다.\n",
      "- AI가 일자리를 대체할 우려가 있지만, 동시에 인재 부족 문제를 해결하고 새로운 일자리를 창출할 가능성도 있다. 단기적으로 AI 에이전트는 고객 지원, 데이터 분석, 대화형 인터페이스 등에서 빠르게 상용화될 것으로 전망되며, 고객 서비스 자동화와 맞춤형 추천을 통해 효율성을 높이고, 고객 경험을 강화하며 비용 절감에 기여할 것으로 기대된다.\n",
      "- 2024년 12월호 SPRi AI Brief에서는 AI 에이전트의 가시성에 대한 연구가 소개되었으며, AI 기술의 발전과 그 응용 가능성에 대한 통찰을 제공한다.\n"
     ]
    }
   ],
   "source": [
    "# 최종 결과 출력\n",
    "print(refined_summary)"
   ]
  },
  {
   "cell_type": "markdown",
   "metadata": {},
   "source": [
    "-----\n",
    "** End of Documents **"
   ]
  }
 ],
 "metadata": {
  "kernelspec": {
   "display_name": "langchain-kr-t0JhnSEV-py3.11",
   "language": "python",
   "name": "python3"
  },
  "language_info": {
   "codemirror_mode": {
    "name": "ipython",
    "version": 3
   },
   "file_extension": ".py",
   "mimetype": "text/x-python",
   "name": "python",
   "nbconvert_exporter": "python",
   "pygments_lexer": "ipython3",
   "version": "3.11.9"
  }
 },
 "nbformat": 4,
 "nbformat_minor": 2
}
