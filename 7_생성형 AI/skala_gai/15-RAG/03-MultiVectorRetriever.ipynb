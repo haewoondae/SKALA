{
 "cells": [
  {
   "cell_type": "code",
   "execution_count": 1,
   "metadata": {},
   "outputs": [
    {
     "data": {
      "text/plain": [
       "True"
      ]
     },
     "execution_count": 1,
     "metadata": {},
     "output_type": "execute_result"
    }
   ],
   "source": [
    "from dotenv import load_dotenv\n",
    "\n",
    "load_dotenv()"
   ]
  },
  {
   "cell_type": "code",
   "execution_count": 2,
   "metadata": {},
   "outputs": [
    {
     "name": "stdout",
     "output_type": "stream",
     "text": [
      "LangSmith 추적을 시작합니다.\n",
      "[프로젝트명]\n",
      "CH15-RAG\n"
     ]
    }
   ],
   "source": [
    "from langchain_teddynote import logging\n",
    "\n",
    "logging.langsmith(\"CH15-RAG\")"
   ]
  },
  {
   "cell_type": "markdown",
   "metadata": {},
   "source": [
    "# MultiVectorretriever\n",
    "\n",
    "1. 개요 : 문서를 여러 벡터로 저장하고 관리하여 검색 효율성 향상 \n",
    "2. 문서당 여러 벡터를 생성하는 방법 \n",
    "    1) 작은 청크 생성\n",
    "        - 문서를 더 작은 단위로 나눈 후, 각 청크에 대해 별도의 임베딩 생성 \n",
    "        - 세부 정보에 대한 탐색 용이\n",
    "        - `ParentDocumentRetriever` 통해 구현  \n",
    "    2) 요약 임베딩 \n",
    "        - 각 문서의 요약을 생성하고, 이 요약을 임베딩 \n",
    "        - 요약 임베딩은 문서의 핵심 내용을 신속하게 파악하는데 큰 도움 (효율성) \n",
    "    3) 가설 질문 활용 \n",
    "        - 각 문서에 대해 적합한 가설 질문을 만들고, 해당 질문에 기반한 임베딩 생성 \n",
    "        - 특정 주제나 내용에 대해 깊이 있는 탐색을 원할 때 유용 \n",
    "    4) 수동 추가 \n",
    "        - 사용자가 문서 검색 시 고려해야 할 특정 질문이나 쿼리를 직접 추가 \n",
    "        - 검색 과정에서 좀 더 세밀한 제어를 할 수 있음 (맞춤형 검색) \n",
    "\n",
    "** 실습 자료 **\n",
    "\n",
    "소프트웨어정책연구소(SPRi), [AI Brief 스페셜] AI 에이전트 동향\n",
    "\n",
    "- 저자: 유재흥(AI정책연구실 책임연구원), 이해수(AI정책연구실 선임연구원)\n",
    "- 발생: 2024.12.10\n",
    "- 링크: https://spri.kr/posts/view/23798?code=AI-Brief&s_year=&data_page=1\n",
    "- 파일명: `SPRi AI Brief_Special_AI Agent_241209_F`\n",
    "\n",
    "(실습 준비)\n",
    "- 작업 폴더 하위에 `data` 폴더 생성 \n",
    "- 링크에서 다운로드 받은 파일을 `data` 폴더에 업로드 "
   ]
  },
  {
   "cell_type": "markdown",
   "metadata": {},
   "source": [
    "## 문서 전처리"
   ]
  },
  {
   "cell_type": "code",
   "execution_count": 3,
   "metadata": {},
   "outputs": [],
   "source": [
    "from langchain_community.document_loaders import PyMuPDFLoader"
   ]
  },
  {
   "cell_type": "code",
   "execution_count": 4,
   "metadata": {},
   "outputs": [
    {
     "data": {
      "text/plain": [
       "27"
      ]
     },
     "execution_count": 4,
     "metadata": {},
     "output_type": "execute_result"
    }
   ],
   "source": [
    "loader = PyMuPDFLoader(\"data/SPRi AI Brief_Special_AI Agent_241209_F.pdf\")\n",
    "docs = loader.load()\n",
    "\n",
    "len(docs)"
   ]
  },
  {
   "cell_type": "code",
   "execution_count": 5,
   "metadata": {},
   "outputs": [
    {
     "name": "stdout",
     "output_type": "stream",
     "text": [
      " \n",
      "SPRi AI Brief Special |  2024-12월호\n",
      "5\n",
      "2. AI 에이전트 주요 사례 \n",
      "1) Microsoft\n",
      "£ (개요) Microsoft는 클라우드 플랫폼 Azure를 중심으로 강력한 AI 에이전트를 개발 및 \n",
      "제공하며, 특히 OpenAI와의 파트너십을 통해 ChatGPT와 기타 AI 모델을 Azure에 \n",
      "통합하여 다양한 상용화 제품을 출시\n",
      "∙‘Power Virtual Agents’를 포함한 Microsoft의 제품군은 기업용 서비스, 사무 자동화, 개발자 지원 도구 \n",
      "등 다양한 분야에 걸쳐 AI 에이전트와 같은 기능을 지원\n",
      "※ Fortune 500 기업 중 60%가 Microsoft 365 Copilot을 사용하여 비즈니스 혁신과 조직의 역량을 강화10)\n",
      "<Microsoft 제품군>  \n",
      "*출처: microsoft.com\n",
      "£ (기능/기술) Microsoft의 제품군은 다양한 플랫폼과 통합되어, 기업들이 AI 에이전트를 \n",
      "활용해 업무 협업, 고객 응대 자동화, 챗봇 \n"
     ]
    }
   ],
   "source": [
    "print(docs[5].page_content[:500])"
   ]
  },
  {
   "cell_type": "markdown",
   "metadata": {},
   "source": [
    "## 검색 \n",
    "MultiVectorRetriever 사용 "
   ]
  },
  {
   "cell_type": "code",
   "execution_count": 6,
   "metadata": {},
   "outputs": [],
   "source": [
    "import uuid\n",
    "from langchain.storage import InMemoryStore\n",
    "from langchain_chroma import Chroma\n",
    "from langchain_openai import OpenAIEmbeddings\n",
    "from langchain_text_splitters import RecursiveCharacterTextSplitter\n",
    "from langchain.retrievers.multi_vector import MultiVectorRetriever"
   ]
  },
  {
   "cell_type": "code",
   "execution_count": 7,
   "metadata": {},
   "outputs": [
    {
     "data": {
      "text/plain": [
       "['3bd4baa9-7680-4f48-a00a-bd509323beee',\n",
       " 'e6bb3405-ecd0-45d8-9dfc-7a07ad027984',\n",
       " 'edc9dce0-ad8b-4ed7-903b-8eedff6d5459',\n",
       " 'e80516e7-36eb-4ea1-804b-a7f46f959165',\n",
       " '55307035-87fe-4402-a578-14be59f83296',\n",
       " '0d818e9c-9edf-4934-9119-68bc6c0fc614',\n",
       " 'c30d2b8f-0797-45c9-8cdf-76e1c7f4e823',\n",
       " '0ae9c5ac-1b29-47c5-ab83-ca0f186de3b0',\n",
       " 'b9a9c772-adfe-41df-9dbb-d6c673c7f1db',\n",
       " '5caa2eb0-babe-4a18-bcd3-63817f48ba40',\n",
       " 'dc3a40d2-4190-4b63-922e-3081bc1b5dfd',\n",
       " '28cc6ba1-cbe9-403f-b63e-b47ca56914a2',\n",
       " '7e956512-5bb9-4bb7-a7ed-e8971e2adde9',\n",
       " '335dc250-058e-49a0-9a11-42a9d28d3034',\n",
       " '14c62af5-f78a-4225-beef-9200814c5f44',\n",
       " '60011002-2f13-47d3-b07f-ae341e8ed788',\n",
       " 'b93b917f-ef0f-4184-ad3e-e6182040ea6f',\n",
       " '3be5a321-7297-470b-aafc-547875cd78b3',\n",
       " 'b93becbf-dcf8-48e1-b361-4bd8258c62bb',\n",
       " 'fd2b7899-d378-4310-8716-b64faf5e9d2f',\n",
       " '8b2858b9-6fa4-4e70-8a09-db0557d60717',\n",
       " '0742b5ff-fce6-4075-8b34-5a82c9788cb6',\n",
       " '9797c6d2-8b5b-4b79-887d-f84419a2f61b',\n",
       " '24c97888-ac2d-4cf7-9f95-41980f5ee39e',\n",
       " 'dcf3542b-4ce1-4616-819f-64de6d4404e2',\n",
       " '86ae63ca-d324-4fab-8298-6c6b11dd361f',\n",
       " '750077ec-1dcf-4eac-accb-0bb45c3d0bbf']"
      ]
     },
     "execution_count": 7,
     "metadata": {},
     "output_type": "execute_result"
    }
   ],
   "source": [
    "vectorstore = Chroma(\n",
    "    collection_name=\"small_bigger_chunks\",\n",
    "    embedding_function=OpenAIEmbeddings(model=\"text-embedding-3-small\"),\n",
    ")\n",
    "\n",
    "# 부모 문서의 저장소 \n",
    "store = InMemoryStore()\n",
    "\n",
    "# 검색기 정의 \n",
    "id_key = \"doc_id\"\n",
    "retriever = MultiVectorRetriever(\n",
    "    vectorstore=vectorstore,\n",
    "    byte_store=store,\n",
    "    id_key=id_key,\n",
    ")\n",
    "\n",
    "# 문서 ID 생성\n",
    "doc_ids = [str(uuid.uuid4()) for _ in docs]\n",
    "doc_ids"
   ]
  },
  {
   "cell_type": "code",
   "execution_count": 8,
   "metadata": {},
   "outputs": [
    {
     "data": {
      "text/plain": [
       "27"
      ]
     },
     "execution_count": 8,
     "metadata": {},
     "output_type": "execute_result"
    }
   ],
   "source": [
    "len(doc_ids)"
   ]
  },
  {
   "cell_type": "code",
   "execution_count": 9,
   "metadata": {},
   "outputs": [],
   "source": [
    "# Parent 분할기\n",
    "parent_text_splitter = RecursiveCharacterTextSplitter(chunk_size=600)\n",
    "\n",
    "# Child 분할기\n",
    "child_text_splitter = RecursiveCharacterTextSplitter(chunk_size=200)"
   ]
  },
  {
   "cell_type": "code",
   "execution_count": 10,
   "metadata": {},
   "outputs": [],
   "source": [
    "# Parent 문서 분할 \n",
    "parent_docs = []\n",
    "\n",
    "for i, doc in enumerate(docs):\n",
    "    # 현재 문서의 ID\n",
    "    _id = doc_ids[i]\n",
    "    # 현재 문서를 하위 문서로 분할\n",
    "    parent_doc = parent_text_splitter.split_documents([doc])\n",
    "\n",
    "    for _doc in parent_doc:\n",
    "        # metadata에 문서 ID 를 저장\n",
    "        _doc.metadata[id_key] = _id\n",
    "    parent_docs.extend(parent_doc)"
   ]
  },
  {
   "cell_type": "code",
   "execution_count": 11,
   "metadata": {},
   "outputs": [
    {
     "data": {
      "text/plain": [
       "{'source': 'data/SPRi AI Brief_Special_AI Agent_241209_F.pdf',\n",
       " 'file_path': 'data/SPRi AI Brief_Special_AI Agent_241209_F.pdf',\n",
       " 'page': 0,\n",
       " 'total_pages': 27,\n",
       " 'format': 'PDF 1.4',\n",
       " 'title': '',\n",
       " 'author': 'dj',\n",
       " 'subject': '',\n",
       " 'keywords': '',\n",
       " 'creator': 'Hwp 2018 10.0.0.13947',\n",
       " 'producer': 'Hancom PDF 1.3.0.547',\n",
       " 'creationDate': \"D:20241209094315+09'00'\",\n",
       " 'modDate': \"D:20241209094315+09'00'\",\n",
       " 'trapped': '',\n",
       " 'doc_id': '3bd4baa9-7680-4f48-a00a-bd509323beee'}"
      ]
     },
     "execution_count": 11,
     "metadata": {},
     "output_type": "execute_result"
    }
   ],
   "source": [
    "# 생성된 Parent 문서의 메타데이터 확인\n",
    "parent_docs[0].metadata"
   ]
  },
  {
   "cell_type": "code",
   "execution_count": 12,
   "metadata": {},
   "outputs": [],
   "source": [
    "# Child 문서 분할 \n",
    "child_docs = []\n",
    "\n",
    "for i, doc in enumerate(docs):\n",
    "    # 현재 문서의 ID\n",
    "    _id = doc_ids[i]\n",
    "    # 현재 문서를 하위 문서로 분할\n",
    "    child_doc = child_text_splitter.split_documents([doc])\n",
    "    for _doc in child_doc:\n",
    "        # metadata에 문서 ID 를 저장\n",
    "        _doc.metadata[id_key] = _id\n",
    "    child_docs.extend(child_doc)"
   ]
  },
  {
   "cell_type": "code",
   "execution_count": 13,
   "metadata": {},
   "outputs": [
    {
     "data": {
      "text/plain": [
       "{'source': 'data/SPRi AI Brief_Special_AI Agent_241209_F.pdf',\n",
       " 'file_path': 'data/SPRi AI Brief_Special_AI Agent_241209_F.pdf',\n",
       " 'page': 0,\n",
       " 'total_pages': 27,\n",
       " 'format': 'PDF 1.4',\n",
       " 'title': '',\n",
       " 'author': 'dj',\n",
       " 'subject': '',\n",
       " 'keywords': '',\n",
       " 'creator': 'Hwp 2018 10.0.0.13947',\n",
       " 'producer': 'Hancom PDF 1.3.0.547',\n",
       " 'creationDate': \"D:20241209094315+09'00'\",\n",
       " 'modDate': \"D:20241209094315+09'00'\",\n",
       " 'trapped': '',\n",
       " 'doc_id': '3bd4baa9-7680-4f48-a00a-bd509323beee'}"
      ]
     },
     "execution_count": 13,
     "metadata": {},
     "output_type": "execute_result"
    }
   ],
   "source": [
    "# 생성된 Child 문서의 메타데이터 확인\n",
    "child_docs[0].metadata"
   ]
  },
  {
   "cell_type": "code",
   "execution_count": 14,
   "metadata": {},
   "outputs": [
    {
     "name": "stdout",
     "output_type": "stream",
     "text": [
      "분할된 parent_docs의 개수: 88\n",
      "분할된 child_docs의 개수: 442\n"
     ]
    }
   ],
   "source": [
    "print(f\"분할된 parent_docs의 개수: {len(parent_docs)}\")\n",
    "print(f\"분할된 child_docs의 개수: {len(child_docs)}\")"
   ]
  },
  {
   "cell_type": "code",
   "execution_count": 15,
   "metadata": {},
   "outputs": [],
   "source": [
    "# 벡터 저장소에 parent + child 문서 추가\n",
    "retriever.vectorstore.add_documents(parent_docs)\n",
    "retriever.vectorstore.add_documents(child_docs)\n",
    "\n",
    "# docstore 에 원본 문서를 저장\n",
    "retriever.docstore.mset(list(zip(doc_ids, docs)))"
   ]
  },
  {
   "cell_type": "markdown",
   "metadata": {},
   "source": [
    "### 유사도 검색 "
   ]
  },
  {
   "cell_type": "code",
   "execution_count": 16,
   "metadata": {},
   "outputs": [],
   "source": [
    "question = \"구글의 Project Astra는 무엇인가요?\""
   ]
  },
  {
   "cell_type": "code",
   "execution_count": 17,
   "metadata": {},
   "outputs": [
    {
     "name": "stdout",
     "output_type": "stream",
     "text": [
      "검색된 문서의 개수: 4\n"
     ]
    }
   ],
   "source": [
    "# vectorstore의 유사도 검색\n",
    "relevant_chunks = retriever.vectorstore.similarity_search(question)\n",
    "\n",
    "print(f\"검색된 문서의 개수: {len(relevant_chunks)}\")"
   ]
  },
  {
   "cell_type": "code",
   "execution_count": 18,
   "metadata": {},
   "outputs": [
    {
     "name": "stdout",
     "output_type": "stream",
     "text": [
      "∙2024년 4월 개최된 ‘Google I/O 2024’에서 미래의 AI 어시스턴트 개발 프로젝트 ‘Project Astra’을 발표\n",
      " - 일상생활을 위한 AI 에이전트로 불리는 프로젝트 아스트라(Project Astra)는 구글 렌즈와 같이 실시간 \n",
      "비디오와 오디오를 이해하고, 추론하고, 반응할 수 있음\n",
      "<구글의 고객 참여 및 대화 관련 AI 제품>\n",
      "\n",
      ">>>>>>>>>>>>>>>>>>>>>>>>>>>>>>>>>>>>>>>>>>>>>>>>>>>>>>>>>>>>>>>>>>>>>>>>>>>>>>>>>>>>>>>>>>>>>>>>>>>>\n",
      "\n",
      "∙Gemini 모델을 기반으로 한 ‘Project Astra’는 다중모드 정보를 처리하고, 사용자의 상황을 이해하며, \n",
      "대화에서 자연스럽게 응답할 수 있는 AI 어시스턴트의 미래를 탐구\n",
      "물리적 그림 설명\n",
      "조망 그림 인식\n",
      "물체 순서 기억\n",
      "<구글의 Project Astra 활용 예시>\n",
      "*출처: deepmind.google15)\n",
      "\n",
      ">>>>>>>>>>>>>>>>>>>>>>>>>>>>>>>>>>>>>>>>>>>>>>>>>>>>>>>>>>>>>>>>>>>>>>>>>>>>>>>>>>>>>>>>>>>>>>>>>>>>\n",
      "\n",
      "‘Project Astra’를 통해 보편적인 AI 에이전트를 개발 중 \n",
      "∙Google은 AI 기술을 활용하여 사용자 경험을 극대화하고 다양한 산업에 적용 가능한 AI 에이전트로 \n",
      "Google Assistant, Dialogflow, Duplex 등을 제공하며, 이러한 AI 에이전트는 자연어 처리와 음성 인식\n",
      "\n",
      ">>>>>>>>>>>>>>>>>>>>>>>>>>>>>>>>>>>>>>>>>>>>>>>>>>>>>>>>>>>>>>>>>>>>>>>>>>>>>>>>>>>>>>>>>>>>>>>>>>>>\n",
      "\n",
      "기술, 대화형 AI 기술을 활용하여 엔터프라이즈급 생성형 AI 애플리케이션을 만들 수 있도록 지원\n",
      "∙2024년 4월 개최된 ‘Google I/O 2024’에서 미래의 AI 어시스턴트 개발 프로젝트 ‘Project Astra’을 발표\n",
      " - 일상생활을 위한 AI 에이전트로 불리는 프로젝트 아스트라(Project Astra)는 구글 렌즈와 같이 실시간\n",
      "\n",
      ">>>>>>>>>>>>>>>>>>>>>>>>>>>>>>>>>>>>>>>>>>>>>>>>>>>>>>>>>>>>>>>>>>>>>>>>>>>>>>>>>>>>>>>>>>>>>>>>>>>>\n",
      "\n"
     ]
    }
   ],
   "source": [
    "for chunk in relevant_chunks:\n",
    "    print(chunk.page_content, end=\"\\n\\n\")\n",
    "    print(\">\" * 100, end=\"\\n\\n\")"
   ]
  },
  {
   "cell_type": "code",
   "execution_count": 19,
   "metadata": {},
   "outputs": [
    {
     "name": "stdout",
     "output_type": "stream",
     "text": [
      "검색된 문서의 개수: 3\n",
      "\n",
      "====================================================================================================\n",
      "\n",
      "SPRi AI Brief Special |  2024-12월호\n",
      "8\n",
      "£ (최신 동정) Google의 ‘Vertex AI Agent Builder’ 등 최근의 제품군들은 고급 챗봇 및 \n",
      "대화형 AI 기능을 강화\n",
      "∙Google 클라우드는 2024년 4월 라스베이거스에서 열린 ‘Google Cloud Next '24’에서 고급 챗봇 및 \n",
      "기타 대화형 AI 기능을 보다 쉽게 ​생성할 수 있도록 지원하는 ‘Vertex AI Agent Builder’를 발표16) \n",
      " - ‘Vertex AI Agent Builder’는 머신러닝 기술이 제한적인 개발자도 Google의 파운데이션 모델, 검색 전문 \n",
      "기술, 대화형 AI 기술을 활용하여 엔터프라이즈급 생성형 AI 애플리케이션을 만들 수 있도록 지원\n",
      "∙2024년 4월 개최된 ‘Google I/O 2024’에서 미래의 AI 어시스턴트 개발 프로젝트 ‘Project Astra’을 발표\n",
      " - 일상생활을 위한 AI 에이전트로 불리는 프로젝트 아스트라(Project Astra)는 구글 렌즈와 같이 실시간 \n",
      "비디오와 오디오를 이해하고, 추론하고, 반응할 수 있음\n",
      "<구글의 고객 참여 및 대화 관련 AI 제품> \n",
      "*출처: google.com17)\n",
      "∙ ‘Gemini at Work’ 행사(2024년 9월 개최)에서 새로운 Gemini 모델(Gemini 1.5 Flash 및  1.5 Pro)과 \n",
      "함께 고객 참여 및 대화를 위해 설계된 AI 에이전트 제품군 출시18)\n",
      " - ‘Gemini at Work’에서 Google Cloud CEO(Thomas Kurian)는 기조연설에서 고객 상담 AI 에이전트가 \n",
      "고객과 자연스럽게 대화하고 상호작용 하여 올바른 답변을 제공할 것이라고 언급\n",
      "∙2024년 11월, Google은 웹을 검색하는 차기 AI 에이전트인 ‘Jarvis AI’를 개발 중인하고 있는 것으로 확인19)\n",
      " - ‘Jarvis AI’는 사용자가 Google Chrome에서 웹 브라우징 작업을 자동화하여, AI 에이전트가 쇼핑이나  \n",
      "항공편 예약과 같은 작업을 수행하는 동안 사용자가 더 중요한 일에 집중할 수 있도록 지원할 예정\n",
      "16) TechTarget, Google Cloud debuts agent builder to ease GenAI adoption, 2024.4.10. \n",
      "17) https://cloud.google.com/blog/products/ai-machine-learning/introducing-customer-engagement-suite-with-google-ai\n",
      "18) Constellation Research, Google Cloud rolls out new Gemini models, AI agents, customer engagement suite, 2024.9.24\n",
      "19) TechRadar, Jarvis AI is real – Google accidentally leaks its AI agent that browses the web for you, 2024.11.6. \n",
      "\n"
     ]
    }
   ],
   "source": [
    "# 부모 문서 검색 결과\n",
    "relevant_docs = retriever.invoke(question)\n",
    "\n",
    "print(f\"검색된 문서의 개수: {len(relevant_docs)}\", end=\"\\n\\n\")\n",
    "print(\"=\" * 100, end=\"\\n\\n\")\n",
    "print(relevant_docs[0].page_content)"
   ]
  },
  {
   "cell_type": "markdown",
   "metadata": {},
   "source": [
    "### MMR, Max Marginal Relevance "
   ]
  },
  {
   "cell_type": "code",
   "execution_count": 20,
   "metadata": {},
   "outputs": [],
   "source": [
    "from langchain.retrievers.multi_vector import SearchType"
   ]
  },
  {
   "cell_type": "code",
   "execution_count": 21,
   "metadata": {},
   "outputs": [
    {
     "name": "stdout",
     "output_type": "stream",
     "text": [
      "SPRi AI Brief Special |  2024-12월호\n",
      "8\n",
      "£ (최신 동정) Google의 ‘Vertex AI Agent Builder’ 등 최근의 제품군들은 고급 챗봇 및 \n",
      "대화형 AI 기능을 강화\n",
      "∙Google 클라우드는 2024년 4월 라스베이거스에서 열린 ‘Google Cloud Next '24’에서 고급 챗봇 및 \n",
      "기타 대화형 AI 기능을 보다 쉽게 ​생성할 수 있도록 지원하는 ‘Vertex AI Agent Builder’를 발표16) \n",
      " - ‘Vertex AI Agent Builder’는 머신러닝 기술이 제한적인 개발자도 Google의 파운데이션 모델, 검색 전문 \n",
      "기술, 대화형 AI 기술을 활용하여 엔터프라이즈급 생성형 AI 애플리케이션을 만들 수 있도록 지원\n",
      "∙2024년 4월 개최된 ‘Google I/O 2024’에서 미래의 AI 어시스턴트 개발 프로젝트 ‘Project Astra’을 발표\n",
      " - 일상생활을 위한 AI 에이전트로 불리는 프로젝트 아스트라(Project Astra)는 구글 렌즈와 같이 실시간 \n",
      "비디오와 오디오를 이해하고, 추론하고, 반응할 수 있음\n",
      "<구글의 고객 참여 및 대화 관련 AI 제품> \n",
      "*출처: google.com17)\n",
      "∙ ‘Gemini at Work’ 행사(2024년 9월 개최)에서 새로운 Gemini 모델(Gemini 1.5 Flash 및  1.5 Pro)과 \n",
      "함께 고객 참여 및 대화를 위해 설계된 AI 에이전트 제품군 출시18)\n",
      " - ‘Gemini at Work’에서 Google Cloud CEO(Thomas Kurian)는 기조연설에서 고객 상담 AI 에이전트가 \n",
      "고객과 자연스럽게 대화하고 상호작용 하여 올바른 답변을 제공할 것이라고 언급\n",
      "∙2024년 11월, Google은 웹을 검색하는 차기 AI 에이전트인 ‘Jarvis AI’를 개발 중인하고 있는 것으로 확인19)\n",
      " - ‘Jarvis AI’는 사용자가 Google Chrome에서 웹 브라우징 작업을 자동화하여, AI 에이전트가 쇼핑이나  \n",
      "항공편 예약과 같은 작업을 수행하는 동안 사용자가 더 중요한 일에 집중할 수 있도록 지원할 예정\n",
      "16) TechTarget, Google Cloud debuts agent builder to ease GenAI adoption, 2024.4.10. \n",
      "17) https://cloud.google.com/blog/products/ai-machine-learning/introducing-customer-engagement-suite-with-google-ai\n",
      "18) Constellation Research, Google Cloud rolls out new Gemini models, AI agents, customer engagement suite, 2024.9.24\n",
      "19) TechRadar, Jarvis AI is real – Google accidentally leaks its AI agent that browses the web for you, 2024.11.6. \n",
      "\n"
     ]
    }
   ],
   "source": [
    "# 검색 유형 설정\n",
    "retriever.search_type = SearchType.mmr\n",
    "\n",
    "# 관련 문서 전체 검색\n",
    "print(retriever.invoke(question)[0].page_content)"
   ]
  },
  {
   "cell_type": "markdown",
   "metadata": {},
   "source": [
    "### similarity_score_threshold"
   ]
  },
  {
   "cell_type": "code",
   "execution_count": 22,
   "metadata": {},
   "outputs": [],
   "source": [
    "score_threshold = 0.4"
   ]
  },
  {
   "cell_type": "code",
   "execution_count": 23,
   "metadata": {},
   "outputs": [
    {
     "name": "stdout",
     "output_type": "stream",
     "text": [
      "SPRi AI Brief Special |  2024-12월호\n",
      "8\n",
      "£ (최신 동정) Google의 ‘Vertex AI Agent Builder’ 등 최근의 제품군들은 고급 챗봇 및 \n",
      "대화형 AI 기능을 강화\n",
      "∙Google 클라우드는 2024년 4월 라스베이거스에서 열린 ‘Google Cloud Next '24’에서 고급 챗봇 및 \n",
      "기타 대화형 AI 기능을 보다 쉽게 ​생성할 수 있도록 지원하는 ‘Vertex AI Agent Builder’를 발표16) \n",
      " - ‘Vertex AI Agent Builder’는 머신러닝 기술이 제한적인 개발자도 Google의 파운데이션 모델, 검색 전문 \n",
      "기술, 대화형 AI 기술을 활용하여 엔터프라이즈급 생성형 AI 애플리케이션을 만들 수 있도록 지원\n",
      "∙2024년 4월 개최된 ‘Google I/O 2024’에서 미래의 AI 어시스턴트 개발 프로젝트 ‘Project Astra’을 발표\n",
      " - 일상생활을 위한 AI 에이전트로 불리는 프로젝트 아스트라(Project Astra)는 구글 렌즈와 같이 실시간 \n",
      "비디오와 오디오를 이해하고, 추론하고, 반응할 수 있음\n",
      "<구글의 고객 참여 및 대화 관련 AI 제품> \n",
      "*출처: google.com17)\n",
      "∙ ‘Gemini at Work’ 행사(2024년 9월 개최)에서 새로운 Gemini 모델(Gemini 1.5 Flash 및  1.5 Pro)과 \n",
      "함께 고객 참여 및 대화를 위해 설계된 AI 에이전트 제품군 출시18)\n",
      " - ‘Gemini at Work’에서 Google Cloud CEO(Thomas Kurian)는 기조연설에서 고객 상담 AI 에이전트가 \n",
      "고객과 자연스럽게 대화하고 상호작용 하여 올바른 답변을 제공할 것이라고 언급\n",
      "∙2024년 11월, Google은 웹을 검색하는 차기 AI 에이전트인 ‘Jarvis AI’를 개발 중인하고 있는 것으로 확인19)\n",
      " - ‘Jarvis AI’는 사용자가 Google Chrome에서 웹 브라우징 작업을 자동화하여, AI 에이전트가 쇼핑이나  \n",
      "항공편 예약과 같은 작업을 수행하는 동안 사용자가 더 중요한 일에 집중할 수 있도록 지원할 예정\n",
      "16) TechTarget, Google Cloud debuts agent builder to ease GenAI adoption, 2024.4.10. \n",
      "17) https://cloud.google.com/blog/products/ai-machine-learning/introducing-customer-engagement-suite-with-google-ai\n",
      "18) Constellation Research, Google Cloud rolls out new Gemini models, AI agents, customer engagement suite, 2024.9.24\n",
      "19) TechRadar, Jarvis AI is real – Google accidentally leaks its AI agent that browses the web for you, 2024.11.6. \n",
      "\n"
     ]
    }
   ],
   "source": [
    "# 검색 유형 설정\n",
    "retriever.search_type = SearchType.similarity_score_threshold\n",
    "retriever.search_kwargs = {\"score_threshold\": score_threshold}\n",
    "\n",
    "# 관련 문서 전체를 검색\n",
    "print(retriever.invoke(question)[0].page_content)"
   ]
  },
  {
   "cell_type": "markdown",
   "metadata": {},
   "source": [
    "### similarity"
   ]
  },
  {
   "cell_type": "code",
   "execution_count": 24,
   "metadata": {},
   "outputs": [
    {
     "name": "stdout",
     "output_type": "stream",
     "text": [
      "1\n"
     ]
    }
   ],
   "source": [
    "# 검색 유형 설정 (k=1)\n",
    "retriever.search_type = SearchType.similarity\n",
    "retriever.search_kwargs = {\"k\": 1}\n",
    "\n",
    "# 관련 문서 전체를 검색\n",
    "print(len(retriever.invoke(question)))"
   ]
  },
  {
   "cell_type": "markdown",
   "metadata": {},
   "source": [
    "## 요약본 저장 "
   ]
  },
  {
   "cell_type": "code",
   "execution_count": 25,
   "metadata": {},
   "outputs": [],
   "source": [
    "import uuid\n",
    "from langchain_text_splitters import RecursiveCharacterTextSplitter\n",
    "from langchain_core.documents import Document\n",
    "from langchain_core.output_parsers import StrOutputParser\n",
    "from langchain_core.prompts import ChatPromptTemplate\n",
    "from langchain_openai import ChatOpenAI"
   ]
  },
  {
   "cell_type": "code",
   "execution_count": 26,
   "metadata": {},
   "outputs": [
    {
     "name": "stdout",
     "output_type": "stream",
     "text": [
      "분할된 문서의 개수: 71\n"
     ]
    }
   ],
   "source": [
    "# 로더 초기화 \n",
    "loader = PyMuPDFLoader(\"data/SPRi AI Brief_Special_AI Agent_241209_F.pdf\")\n",
    "\n",
    "# 텍스트 분할\n",
    "text_splitter = RecursiveCharacterTextSplitter(chunk_size=600, chunk_overlap=50)\n",
    "\n",
    "# PDF 파일 로드 및 텍스트 분할 실행\n",
    "split_docs = loader.load_and_split(text_splitter)\n",
    "print(f\"분할된 문서의 개수: {len(split_docs)}\")"
   ]
  },
  {
   "cell_type": "code",
   "execution_count": 27,
   "metadata": {},
   "outputs": [],
   "source": [
    "summary_chain = (\n",
    "    {\"doc\": lambda x: x.page_content}\n",
    "    # 문서 요약을 위한 프롬프트 템플릿 생성\n",
    "    | ChatPromptTemplate.from_messages(\n",
    "        [\n",
    "            (\"system\", \"You are an expert in summarizing documents in Korean.\"),\n",
    "            (\n",
    "                \"user\",\n",
    "                \"Summarize the following documents in 3 sentences in bullet points format.\\n\\n{doc}\",\n",
    "            ),\n",
    "        ]\n",
    "    )\n",
    "    # LLM 통한 요약 생성\n",
    "    | ChatOpenAI(temperature=0, model=\"gpt-4o-mini\")\n",
    "    | StrOutputParser()\n",
    ")"
   ]
  },
  {
   "cell_type": "code",
   "execution_count": 28,
   "metadata": {},
   "outputs": [],
   "source": [
    "# 문서 배치 처리 (최대 10개씩 처리)\n",
    "summaries = summary_chain.batch(split_docs, {\"max_concurrency\": 10})"
   ]
  },
  {
   "cell_type": "code",
   "execution_count": 29,
   "metadata": {},
   "outputs": [
    {
     "name": "stdout",
     "output_type": "stream",
     "text": [
      "71\n",
      "SPRi AI Brief Special |  2024-12월호\n",
      "13\n",
      " - 새로운 아바타는 Meta Horizon OS(VR 운영 체제)와 Facebook, Instagram, Messenger에서 사용\n",
      " - Meta의 Horizon 팀 부사장(Aigerim Shorman)은 업그레이드된 아바타를 통해 사용자에게 눈 크기, 코 \n",
      "모양, 체형과 같은 것을 미세 조정할 수 있는 새로운 방법을 제공할 것이라고 언급\n",
      "∙2025년 후반에는 사용자가 생성 AI를 활용하는 프롬프트를 입력하고 원하는 것을 설명하여 아바타를 \n",
      "생성할 수 있을 전망 \n",
      "5) AWS(Amazon Web Services)25)\n",
      "£ (개요) AWS는 다양한 산업에서 AI 기술을 활용하여 고객 서비스, 보안, 데이터 분석 등을 \n",
      "지원하며, Amazon Lex, Polly, Transcribe를 통해 음성 인식, 텍스트 변환, 대화형 \n",
      "인터페이스 기능을 제공하고, Amazon Q를 통해 생성형 AI 기반 어시스턴트 기능을 제공26) \n",
      "∙AWS는 Amazon의 클라우드 서비스 플랫폼으로, 고객 서비스, 보안, 데이터 분석 등 여러 산업에 걸쳐 \n",
      "다양한 AI 기술을 활용\n",
      "\n",
      "[요약]\n",
      "- Meta는 새로운 아바타를 Meta Horizon OS와 Facebook, Instagram, Messenger에서 사용할 수 있도록 하며, 사용자에게 아바타의 외형을 세밀하게 조정할 수 있는 기능을 제공할 예정이다.\n",
      "- Horizon 팀 부사장 Aigerim Shorman은 2025년 후반부터 사용자가 생성 AI를 통해 아바타를 생성할 수 있는 기능을 도입할 것이라고 밝혔다.\n",
      "- AWS는 다양한 산업에서 AI 기술을 활용하여 고객 서비스, 보안, 데이터 분석 등을 지원하며, Amazon Lex, Polly, Transcribe와 같은 서비스를 통해 음성 인식 및 대화형 인터페이스 기능을 제공한다.\n"
     ]
    }
   ],
   "source": [
    "# 요약본 길이 확인 \n",
    "print(len(summaries))\n",
    "\n",
    "# 원본 문서의 내용을 출력\n",
    "print(split_docs[33].page_content, end=\"\\n\\n\")\n",
    "\n",
    "# 요약본 출력\n",
    "print(\"[요약]\")\n",
    "print(summaries[33])"
   ]
  },
  {
   "cell_type": "code",
   "execution_count": 30,
   "metadata": {},
   "outputs": [
    {
     "name": "stdout",
     "output_type": "stream",
     "text": [
      "71\n"
     ]
    }
   ],
   "source": [
    "# 요약 정보를 저장할 VectorDB 생성\n",
    "summary_vectorstore = Chroma(\n",
    "    collection_name=\"summaries\",\n",
    "    embedding_function=OpenAIEmbeddings(model=\"text-embedding-3-small\"),\n",
    ")\n",
    "\n",
    "# 부모 문서를 저장할 저장소\n",
    "store = InMemoryStore()\n",
    "\n",
    "# 검색기 정의\n",
    "id_key = \"doc_id\"\n",
    "retriever = MultiVectorRetriever(\n",
    "    vectorstore=summary_vectorstore, \n",
    "    byte_store=store, \n",
    "    id_key=id_key, \n",
    ")\n",
    "\n",
    "# 문서 ID 생성\n",
    "doc_ids = [str(uuid.uuid4()) for _ in split_docs]\n",
    "print(len(doc_ids))"
   ]
  },
  {
   "cell_type": "code",
   "execution_count": 31,
   "metadata": {},
   "outputs": [
    {
     "name": "stdout",
     "output_type": "stream",
     "text": [
      "71\n"
     ]
    }
   ],
   "source": [
    "# 요약된 내용을 페이지 콘텐츠로 하고, 문서 ID를 메타데이터로 포함하는 Document 객체 생성\n",
    "summary_docs = [\n",
    "    Document(page_content=s, metadata={id_key: doc_ids[i]})\n",
    "    for i, s in enumerate(summaries)\n",
    "]\n",
    "\n",
    "# 요약본의 문서의 개수\n",
    "print(len(summary_docs))"
   ]
  },
  {
   "cell_type": "code",
   "execution_count": 32,
   "metadata": {},
   "outputs": [],
   "source": [
    "# 요약 문서를 VectorDB 저장 \n",
    "retriever.vectorstore.add_documents(summary_docs)\n",
    "retriever.docstore.mset(list(zip(doc_ids, split_docs)))"
   ]
  },
  {
   "cell_type": "code",
   "execution_count": 33,
   "metadata": {},
   "outputs": [],
   "source": [
    "# 유사도 검색 수행\n",
    "result_docs = summary_vectorstore.similarity_search(question)"
   ]
  },
  {
   "cell_type": "code",
   "execution_count": 34,
   "metadata": {},
   "outputs": [
    {
     "name": "stdout",
     "output_type": "stream",
     "text": [
      "- Google은 'Vertex AI Agent Builder'를 통해 고급 챗봇과 대화형 AI 기능을 생성할 수 있는 도구를 제공하고 있다.\n",
      "- 'Project Astra'는 Gemini 모델을 기반으로 하여 다중모드 정보를 처리하고 사용자의 상황을 이해하는 AI 어시스턴트를 개발하는 프로젝트이다.\n",
      "- Google의 AI 에이전트는 일정 관리, 챗봇, 전화 예약 등 다양한 작업을 지원하며, Google Assistant와 Dialogflow와 같은 플랫폼을 통해 사용자와의 상호작용을 강화하고 있다.\n"
     ]
    }
   ],
   "source": [
    "# 1개의 요약본 결과 문서\n",
    "print(result_docs[0].page_content)"
   ]
  },
  {
   "cell_type": "code",
   "execution_count": 35,
   "metadata": {},
   "outputs": [
    {
     "name": "stdout",
     "output_type": "stream",
     "text": [
      "SPRi AI Brief Special |  2024-12월호\n",
      "7\n",
      "∙최근 고급 챗봇과 대화형 AI 기능울 ​생성할 수 있도록 지원하는 도구로 ‘Vertex AI Agent Builder’ 제공\n",
      "∙Gemini 모델을 기반으로 한 ‘Project Astra’는 다중모드 정보를 처리하고, 사용자의 상황을 이해하며, \n",
      "대화에서 자연스럽게 응답할 수 있는 AI 어시스턴트의 미래를 탐구\n",
      "물리적 그림 설명\n",
      "조망 그림 인식\n",
      "물체 순서 기억\n",
      "<구글의 Project Astra 활용 예시>\n",
      "*출처: deepmind.google15)\n",
      "£ (기능/기술) Google의 AI 에이전트들은 일정 관리, 챗봇, 전화 예약 등 다양한 작업을 지원\n",
      "∙(Google Assistant) Google의 대표적인 AI 에이전트로, 사용자와의 음성 및 텍스트 대화를 통해 일상 \n",
      "업무를 지원하고, 스마트폰, 스피커, 스마트 디스플레이 등 다양한 디바이스에서 사용 가능하며, 일정 관리, \n",
      "정보 검색, 스마트홈 기기 제어, 번역 등의 기능을 제공\n",
      "∙(Dialogflow) 비즈니스용 AI 챗봇을 쉽게 개발할 수 있는 Google의 대화형 AI 플랫폼으료, Dialogflow를\n"
     ]
    }
   ],
   "source": [
    "# 요약본을 만든 관련된 문서 검색\n",
    "retrieved_docs = retriever.invoke(question)\n",
    "print(retrieved_docs[0].page_content)"
   ]
  },
  {
   "cell_type": "markdown",
   "metadata": {},
   "source": [
    "## Hypothetical Query "
   ]
  },
  {
   "cell_type": "code",
   "execution_count": 36,
   "metadata": {},
   "outputs": [],
   "source": [
    "from langchain_core.prompts import ChatPromptTemplate\n",
    "from langchain.output_parsers.openai_functions import JsonKeyOutputFunctionsParser\n",
    "from langchain_openai import ChatOpenAI"
   ]
  },
  {
   "cell_type": "code",
   "execution_count": 37,
   "metadata": {},
   "outputs": [],
   "source": [
    "functions = [\n",
    "    {\n",
    "        \"name\": \"hypothetical_questions\",  \n",
    "        \"description\": \"Generate hypothetical questions\", \n",
    "        \"parameters\": { \n",
    "            \"type\": \"object\",  \n",
    "            \"properties\": {  \n",
    "                \"questions\": {  \n",
    "                    \"type\": \"array\",  \n",
    "                    \"items\": {\n",
    "                        \"type\": \"string\"\n",
    "                    }, \n",
    "                },\n",
    "            },\n",
    "            \"required\": [\"questions\"],  \n",
    "        },\n",
    "    }\n",
    "]"
   ]
  },
  {
   "cell_type": "code",
   "execution_count": 38,
   "metadata": {},
   "outputs": [],
   "source": [
    "hypothetical_query_chain = (\n",
    "    {\"doc\": lambda x: x.page_content}\n",
    "    # 아래 문서를 사용하여 답변할 수 있는 가상의 질문을 정확히 3개 생성하도록 요청\n",
    "    | ChatPromptTemplate.from_template(\n",
    "        \"Generate a list of exactly 3 hypothetical questions that the below document could be used to answer. \"\n",
    "        \"Potential users are those interested in the AI industry. Create questions that they would be interested in. \"\n",
    "        \"Output should be written in Korean:\\n\\n{doc}\"\n",
    "    )\n",
    "    | ChatOpenAI(max_retries=0, model=\"gpt-4o-mini\").bind(\n",
    "        functions=functions, \n",
    "        function_call={\"name\": \"hypothetical_questions\"}\n",
    "    )\n",
    "    | JsonKeyOutputFunctionsParser(key_name=\"questions\")\n",
    ")"
   ]
  },
  {
   "cell_type": "code",
   "execution_count": 39,
   "metadata": {},
   "outputs": [
    {
     "data": {
      "text/plain": [
       "['Meta의 새로운 아바타 기능이 사용자 경험에 미치는 영향은 무엇일까?',\n",
       " 'AWS의 AI 기술이 향후 기업의 고객 서비스 방식에 어떤 변화를 가져올까?',\n",
       " '2025년 후반에 사용자가 생성 AI를 활용하여 아바타를 생성하는 과정에서 발생할 수 있는 윤리적 문제는 무엇일까?']"
      ]
     },
     "execution_count": 39,
     "metadata": {},
     "output_type": "execute_result"
    }
   ],
   "source": [
    "# 주어진 문서에 대해 체인을 실행\n",
    "hypothetical_query_chain.invoke(split_docs[33])"
   ]
  },
  {
   "cell_type": "code",
   "execution_count": 40,
   "metadata": {},
   "outputs": [],
   "source": [
    "# 문서 목록에 대해 가설 질문을 배치 생성\n",
    "hypothetical_questions = hypothetical_query_chain.batch(\n",
    "    split_docs, {\"max_concurrency\": 10}\n",
    ")"
   ]
  },
  {
   "cell_type": "code",
   "execution_count": 41,
   "metadata": {},
   "outputs": [
    {
     "data": {
      "text/plain": [
       "['새로운 아바타 기술이 사용자 경험에 어떤 영향을 미칠까요?',\n",
       " 'AWS의 AI 기술이 다양한 산업에서 어떻게 활용될 수 있을까요?',\n",
       " '사용자가 생성 AI를 통해 자신만의 아바타를 만드는 과정에서 어떤 창의적인 가능성이 열릴까요?']"
      ]
     },
     "execution_count": 41,
     "metadata": {},
     "output_type": "execute_result"
    }
   ],
   "source": [
    "hypothetical_questions[33]"
   ]
  },
  {
   "cell_type": "code",
   "execution_count": 42,
   "metadata": {},
   "outputs": [],
   "source": [
    "# Child 청크를 인덱싱하는 데 사용할 벡터 저장소\n",
    "hypothetical_vectorstore = Chroma(\n",
    "    collection_name=\"hypo-questions\", \n",
    "    embedding_function=OpenAIEmbeddings()\n",
    ")\n",
    "\n",
    "# Parent 문서의 저장소 계층\n",
    "store = InMemoryStore()\n",
    "\n",
    "# 검색기 정의\n",
    "id_key = \"doc_id\"\n",
    "retriever = MultiVectorRetriever(\n",
    "    vectorstore=hypothetical_vectorstore,\n",
    "    byte_store=store,\n",
    "    id_key=id_key,\n",
    ")\n",
    "\n",
    "# 문서 ID 생성\n",
    "doc_ids = [str(uuid.uuid4()) for _ in split_docs]  "
   ]
  },
  {
   "cell_type": "code",
   "execution_count": 43,
   "metadata": {},
   "outputs": [],
   "source": [
    "question_docs = []\n",
    "# hypothetical_questions 저장\n",
    "for i, question_list in enumerate(hypothetical_questions):\n",
    "    question_docs.extend(\n",
    "        # 질문 리스트의 각 질문에 대해 Document 객체를 생성하고, 메타데이터에 해당 질문의 문서 ID 포함\n",
    "        [Document(page_content=s, metadata={id_key: doc_ids[i]}) for s in question_list]\n",
    "    )"
   ]
  },
  {
   "cell_type": "code",
   "execution_count": 44,
   "metadata": {},
   "outputs": [],
   "source": [
    "# hypothetical_questions 문서를 벡터 저장소에 추가\n",
    "retriever.vectorstore.add_documents(question_docs)\n",
    "\n",
    "# 문서 ID와 문서를 매핑하여 문서 저장소에 저장\n",
    "retriever.docstore.mset(list(zip(doc_ids, split_docs)))"
   ]
  },
  {
   "cell_type": "code",
   "execution_count": 45,
   "metadata": {},
   "outputs": [
    {
     "name": "stdout",
     "output_type": "stream",
     "text": [
      "'Project Astra'와 같은 미래의 AI 어시스턴트가 우리의 일상생활에 어떤 변화를 가져올 수 있을까요?\n",
      "{'doc_id': 'f1083486-789d-4d4c-81a9-c6ce59b79f70'}\n",
      "Project Astra의 다중모드 정보 처리 기능이 향후 AI 어시스턴트의 사용자 경험에 어떤 영향을 미칠까?\n",
      "{'doc_id': '33410822-11ea-4bf2-95e4-76fca72abde1'}\n",
      "구글의 AI 에이전트가 고객 참여에 어떻게 혁신을 가져올 수 있을까요?\n",
      "{'doc_id': '5df4ae08-78a0-499c-af0c-5156c54ceee2'}\n",
      "구글 클라우드의 새로운 Gemini 모델이 고객 참여 방식에 어떤 혁신을 가져올까요?\n",
      "{'doc_id': '1849882b-7a3b-4cac-99b2-69dbe52cbddf'}\n"
     ]
    }
   ],
   "source": [
    "# 유사한 문서 검색\n",
    "result_docs = hypothetical_vectorstore.similarity_search(question)\n",
    "\n",
    "# 유사도 검색 결과\n",
    "for doc in result_docs:\n",
    "    print(doc.page_content)\n",
    "    print(doc.metadata)"
   ]
  },
  {
   "cell_type": "code",
   "execution_count": 46,
   "metadata": {},
   "outputs": [
    {
     "name": "stdout",
     "output_type": "stream",
     "text": [
      "SPRi AI Brief Special |  2024-12월호\n",
      "7\n",
      "∙최근 고급 챗봇과 대화형 AI 기능울 ​생성할 수 있도록 지원하는 도구로 ‘Vertex AI Agent Builder’ 제공\n",
      "∙Gemini 모델을 기반으로 한 ‘Project Astra’는 다중모드 정보를 처리하고, 사용자의 상황을 이해하며, \n",
      "대화에서 자연스럽게 응답할 수 있는 AI 어시스턴트의 미래를 탐구\n",
      "물리적 그림 설명\n",
      "조망 그림 인식\n",
      "물체 순서 기억\n",
      "<구글의 Project Astra 활용 예시>\n",
      "*출처: deepmind.google15)\n",
      "£ (기능/기술) Google의 AI 에이전트들은 일정 관리, 챗봇, 전화 예약 등 다양한 작업을 지원\n",
      "∙(Google Assistant) Google의 대표적인 AI 에이전트로, 사용자와의 음성 및 텍스트 대화를 통해 일상 \n",
      "업무를 지원하고, 스마트폰, 스피커, 스마트 디스플레이 등 다양한 디바이스에서 사용 가능하며, 일정 관리, \n",
      "정보 검색, 스마트홈 기기 제어, 번역 등의 기능을 제공\n",
      "∙(Dialogflow) 비즈니스용 AI 챗봇을 쉽게 개발할 수 있는 Google의 대화형 AI 플랫폼으료, Dialogflow를\n",
      "SPRi AI Brief Special |  2024-12월호\n",
      "8\n",
      "£ (최신 동정) Google의 ‘Vertex AI Agent Builder’ 등 최근의 제품군들은 고급 챗봇 및 \n",
      "대화형 AI 기능을 강화\n",
      "∙Google 클라우드는 2024년 4월 라스베이거스에서 열린 ‘Google Cloud Next '24’에서 고급 챗봇 및 \n",
      "기타 대화형 AI 기능을 보다 쉽게 ​생성할 수 있도록 지원하는 ‘Vertex AI Agent Builder’를 발표16) \n",
      " - ‘Vertex AI Agent Builder’는 머신러닝 기술이 제한적인 개발자도 Google의 파운데이션 모델, 검색 전문 \n",
      "기술, 대화형 AI 기술을 활용하여 엔터프라이즈급 생성형 AI 애플리케이션을 만들 수 있도록 지원\n",
      "∙2024년 4월 개최된 ‘Google I/O 2024’에서 미래의 AI 어시스턴트 개발 프로젝트 ‘Project Astra’을 발표\n",
      " - 일상생활을 위한 AI 에이전트로 불리는 프로젝트 아스트라(Project Astra)는 구글 렌즈와 같이 실시간 \n",
      "비디오와 오디오를 이해하고, 추론하고, 반응할 수 있음\n",
      "<구글의 고객 참여 및 대화 관련 AI 제품>\n",
      "2) Google\n",
      "£ (개요) Google은 Google Assistant, Dialogflow, Duplex 등을 통해 사용자 경험을 \n",
      "극대화하고 있으며, 대화형 AI 생성 도구인 'Vertex AI Agent Builder'를 제공하고, \n",
      "‘Project Astra’를 통해 보편적인 AI 에이전트를 개발 중 \n",
      "∙Google은 AI 기술을 활용하여 사용자 경험을 극대화하고 다양한 산업에 적용 가능한 AI 에이전트로 \n",
      "Google Assistant, Dialogflow, Duplex 등을 제공하며, 이러한 AI 에이전트는 자연어 처리와 음성 인식 \n",
      "기술을 바탕으로 더욱 풍부한 사용자 경험을 제공\n",
      "12) Microsoft, Power Virtual Agents (Preview), https://learn.microsoft.com/ko-kr/connectors/powervirtualagents/\n",
      "13) Microsoft, Unveiling Copilot agents built with Microsoft Copilot Studio to supercharge your business, 2024.9.16\n",
      "SPRi AI Brief Special |  2024-12월호\n",
      "24\n",
      "[참고 문헌]\n",
      "1. Alan Chan 외, Visibility into AI Agents, 2024\n",
      "2. Apple, Apple Intelligence, https://www.apple.com/apple-intelligence/\n",
      "3. Apple, Apple Intelligence is available today on iPhone, iPad, and Mac, 2024.10.28.\n",
      "4. Apple, Introducing Apple Intelligence, the personal intelligence system that puts powerful \n",
      "generative models at the core of iPhone, iPad, and Mac, 2024.6.10\n",
      "5. AWS, Amazon Polly, https://aws.amazon.com/ko/polly\n",
      "6. AWS, Amazon Q Developer announces support for inline chat to streamline the developer \n",
      "experience, 2024.10.29\n"
     ]
    }
   ],
   "source": [
    "# 관련된 문서 검색\n",
    "retrieved_docs = retriever.invoke(result_docs[1].page_content)\n",
    "\n",
    "# 검색된 문서\n",
    "for doc in retrieved_docs:\n",
    "    print(doc.page_content)"
   ]
  },
  {
   "cell_type": "markdown",
   "metadata": {},
   "source": [
    "-----\n",
    "** End of Documents **"
   ]
  }
 ],
 "metadata": {
  "kernelspec": {
   "display_name": "langchain-kr-t0JhnSEV-py3.11",
   "language": "python",
   "name": "python3"
  },
  "language_info": {
   "codemirror_mode": {
    "name": "ipython",
    "version": 3
   },
   "file_extension": ".py",
   "mimetype": "text/x-python",
   "name": "python",
   "nbconvert_exporter": "python",
   "pygments_lexer": "ipython3",
   "version": "3.11.9"
  }
 },
 "nbformat": 4,
 "nbformat_minor": 2
}
