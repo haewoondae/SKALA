{
 "cells": [
  {
   "cell_type": "code",
   "execution_count": 2,
   "metadata": {},
   "outputs": [
    {
     "data": {
      "text/plain": [
       "True"
      ]
     },
     "execution_count": 2,
     "metadata": {},
     "output_type": "execute_result"
    }
   ],
   "source": [
    "# API KEY Loading\n",
    "from dotenv import load_dotenv\n",
    "\n",
    "load_dotenv()"
   ]
  },
  {
   "cell_type": "code",
   "execution_count": 3,
   "metadata": {},
   "outputs": [
    {
     "name": "stdout",
     "output_type": "stream",
     "text": [
      "LangSmith 추적을 시작합니다.\n",
      "[프로젝트명]\n",
      "CH03-Prompt\n"
     ]
    }
   ],
   "source": [
    "from langchain_teddynote import logging\n",
    "\n",
    "logging.langsmith(\"CH03-Prompt\")"
   ]
  },
  {
   "cell_type": "code",
   "execution_count": 4,
   "metadata": {},
   "outputs": [],
   "source": [
    "# LLM 객체 정의 \n",
    "from langchain_openai import ChatOpenAI\n",
    "\n",
    "llm = ChatOpenAI()"
   ]
  },
  {
   "cell_type": "markdown",
   "metadata": {},
   "source": [
    "# Template \n",
    "## from_template\n",
    "\n",
    "- from_template() 통해 PromptTemplate 생성 \n",
    "- 변수들은 `{ }` 내에 포함"
   ]
  },
  {
   "cell_type": "code",
   "execution_count": 5,
   "metadata": {},
   "outputs": [],
   "source": [
    "from langchain_core.prompts import PromptTemplate"
   ]
  },
  {
   "cell_type": "code",
   "execution_count": 6,
   "metadata": {},
   "outputs": [
    {
     "data": {
      "text/plain": [
       "PromptTemplate(input_variables=['country'], input_types={}, partial_variables={}, template='{country}의 언어는 무엇입니까?')"
      ]
     },
     "execution_count": 6,
     "metadata": {},
     "output_type": "execute_result"
    }
   ],
   "source": [
    "# template 정의\n",
    "template = \"{country}의 언어는 무엇입니까?\"\n",
    "\n",
    "# PromptTemplate 객체 정의 \n",
    "prompt = PromptTemplate.from_template(template)\n",
    "prompt"
   ]
  },
  {
   "cell_type": "code",
   "execution_count": 7,
   "metadata": {},
   "outputs": [
    {
     "data": {
      "text/plain": [
       "'영국의 언어는 무엇입니까?'"
      ]
     },
     "execution_count": 7,
     "metadata": {},
     "output_type": "execute_result"
    }
   ],
   "source": [
    "# 변수 반영하여 프롬프트 정의 \n",
    "prompt = prompt.format(country=\"영국\")\n",
    "prompt"
   ]
  },
  {
   "cell_type": "code",
   "execution_count": 8,
   "metadata": {},
   "outputs": [
    {
     "data": {
      "text/plain": [
       "AIMessage(content='영국의 주요 언어는 영어입니다. 그러나 영국 내에는 스코틀랜드, 웨일스, 북아일랜드 등의 지역에서 사용되는 지방어도 존재합니다.', additional_kwargs={'refusal': None}, response_metadata={'token_usage': {'completion_tokens': 69, 'prompt_tokens': 25, 'total_tokens': 94, 'completion_tokens_details': {'accepted_prediction_tokens': 0, 'audio_tokens': 0, 'reasoning_tokens': 0, 'rejected_prediction_tokens': 0}, 'prompt_tokens_details': {'audio_tokens': 0, 'cached_tokens': 0}}, 'model_name': 'gpt-3.5-turbo-0125', 'system_fingerprint': None, 'finish_reason': 'stop', 'logprobs': None}, id='run-fe757c9a-2e60-4384-9725-db6f8783c8ea-0', usage_metadata={'input_tokens': 25, 'output_tokens': 69, 'total_tokens': 94, 'input_token_details': {'audio': 0, 'cache_read': 0}, 'output_token_details': {'audio': 0, 'reasoning': 0}})"
      ]
     },
     "execution_count": 8,
     "metadata": {},
     "output_type": "execute_result"
    }
   ],
   "source": [
    "# template 정의\n",
    "template = \"{country}의 언어는 무엇입니까?\"\n",
    "\n",
    "# PromptTemplate 객체 정의 \n",
    "prompt = PromptTemplate.from_template(template)\n",
    "\n",
    "# chain 정의 \n",
    "chain = prompt | llm \n",
    "\n",
    "# 실행 \n",
    "chain.invoke(\"영국\")"
   ]
  },
  {
   "cell_type": "code",
   "execution_count": 9,
   "metadata": {},
   "outputs": [
    {
     "data": {
      "text/plain": [
       "'영국의 주요 언어는 영어입니다. 그러나 영국 내에는 웨일스어, 스코틀랜드 게일어, 스코틀랜드어, 아일랜드어와 같은 지방어도 사용됩니다.'"
      ]
     },
     "execution_count": 9,
     "metadata": {},
     "output_type": "execute_result"
    }
   ],
   "source": [
    "chain.invoke(\"영국\").content"
   ]
  },
  {
   "cell_type": "markdown",
   "metadata": {},
   "source": [
    "## PromptTemplate \n",
    "\n",
    "- `input_variables` : 명시적으로 지정하여 유효성 검사 진행 \n",
    "- 정의된 내용과 다를 경우 예외 처리 "
   ]
  },
  {
   "cell_type": "code",
   "execution_count": 10,
   "metadata": {},
   "outputs": [
    {
     "data": {
      "text/plain": [
       "PromptTemplate(input_variables=['country'], input_types={}, partial_variables={}, template='{country}의 언어는 무엇입니까?')"
      ]
     },
     "execution_count": 10,
     "metadata": {},
     "output_type": "execute_result"
    }
   ],
   "source": [
    "# template 정의 \n",
    "template = \"{country}의 언어는 무엇입니까?\"\n",
    "\n",
    "# PromptTemplate 객체 정의 \n",
    "prompt = PromptTemplate(\n",
    "    template=template,\n",
    "    input_variables=['country']\n",
    ")\n",
    "prompt"
   ]
  },
  {
   "cell_type": "code",
   "execution_count": 11,
   "metadata": {},
   "outputs": [
    {
     "data": {
      "text/plain": [
       "'아일랜드의 언어는 무엇입니까?'"
      ]
     },
     "execution_count": 11,
     "metadata": {},
     "output_type": "execute_result"
    }
   ],
   "source": [
    "# # 변수 반영하여 프롬프트 완성\n",
    "prompt.format(country=\"아일랜드\")"
   ]
  },
  {
   "cell_type": "markdown",
   "metadata": {},
   "source": [
    "입력 변수가 2개인 경우...\n",
    "\n",
    "`input_variables`에 dictionary 형태로 정의"
   ]
  },
  {
   "cell_type": "code",
   "execution_count": 12,
   "metadata": {},
   "outputs": [
    {
     "data": {
      "text/plain": [
       "PromptTemplate(input_variables=['country1'], input_types={}, partial_variables={'country2': '크로아티아'}, template='{country1}과 {country2}의 언어는 각각 무엇입니까?')"
      ]
     },
     "execution_count": 12,
     "metadata": {},
     "output_type": "execute_result"
    }
   ],
   "source": [
    "# template 정의 \n",
    "template = \"{country1}과 {country2}의 언어는 각각 무엇입니까?\"\n",
    "\n",
    "# PromptTemplate 객체 정의 \n",
    "prompt = PromptTemplate(\n",
    "    template=template,\n",
    "    input_variables=['country1'],\n",
    "    partial_variables={\n",
    "        \"country2\":\"크로아티아\",\n",
    "    },\n",
    ")\n",
    "prompt"
   ]
  },
  {
   "cell_type": "code",
   "execution_count": 13,
   "metadata": {},
   "outputs": [
    {
     "data": {
      "text/plain": [
       "'대한민국과 크로아티아의 언어는 각각 무엇입니까?'"
      ]
     },
     "execution_count": 13,
     "metadata": {},
     "output_type": "execute_result"
    }
   ],
   "source": [
    "prompt.format(country1=\"대한민국\")"
   ]
  },
  {
   "cell_type": "code",
   "execution_count": 14,
   "metadata": {},
   "outputs": [
    {
     "data": {
      "text/plain": [
       "PromptTemplate(input_variables=['country1'], input_types={}, partial_variables={'country2': '캐나다'}, template='{country1}과 {country2}의 언어는 각각 무엇입니까?')"
      ]
     },
     "execution_count": 14,
     "metadata": {},
     "output_type": "execute_result"
    }
   ],
   "source": [
    "prompt_partial = prompt.partial(country2=\"캐나다\")\n",
    "prompt_partial"
   ]
  },
  {
   "cell_type": "code",
   "execution_count": 15,
   "metadata": {},
   "outputs": [
    {
     "data": {
      "text/plain": [
       "'대한민국과 캐나다의 언어는 각각 무엇입니까?'"
      ]
     },
     "execution_count": 15,
     "metadata": {},
     "output_type": "execute_result"
    }
   ],
   "source": [
    "prompt_partial.format(country1=\"대한민국\")"
   ]
  },
  {
   "cell_type": "code",
   "execution_count": 16,
   "metadata": {},
   "outputs": [
    {
     "data": {
      "text/plain": [
       "'대한민국의 언어는 한국어이고, 캐나다의 언어는 영어와 프랑스어입니다.'"
      ]
     },
     "execution_count": 16,
     "metadata": {},
     "output_type": "execute_result"
    }
   ],
   "source": [
    "chain = prompt_partial | llm\n",
    "chain.invoke(\"대한민국\").content"
   ]
  },
  {
   "cell_type": "code",
   "execution_count": 17,
   "metadata": {},
   "outputs": [
    {
     "data": {
      "text/plain": [
       "'크로아티아어와 슬로베니아어입니다.'"
      ]
     },
     "execution_count": 17,
     "metadata": {},
     "output_type": "execute_result"
    }
   ],
   "source": [
    "chain.invoke(\n",
    "    {\n",
    "        'country1':'크로아티아',\n",
    "        'country2':'슬로베니아',\n",
    "    }\n",
    ").content"
   ]
  },
  {
   "cell_type": "markdown",
   "metadata": {},
   "source": [
    "`partial_variables`: 부분 변수 채움\n",
    "\n",
    "- `partial` : 함수를 부분적으로 사용, **항상 공통된 방식으로 가져오고 싶은 변수** 가 있는 경우\n",
    "- 대표적인 예 : **날짜나 시간** "
   ]
  },
  {
   "cell_type": "code",
   "execution_count": 18,
   "metadata": {},
   "outputs": [
    {
     "data": {
      "text/plain": [
       "'January 21'"
      ]
     },
     "execution_count": 18,
     "metadata": {},
     "output_type": "execute_result"
    }
   ],
   "source": [
    "from datetime import datetime\n",
    "\n",
    "# 오늘 날짜를 출력\n",
    "datetime.now().strftime(\"%B %d\")"
   ]
  },
  {
   "cell_type": "code",
   "execution_count": 19,
   "metadata": {},
   "outputs": [],
   "source": [
    "# 날짜 반환 함수 정의\n",
    "def get_today():\n",
    "    return datetime.now().strftime(\"%B %d\")"
   ]
  },
  {
   "cell_type": "code",
   "execution_count": 24,
   "metadata": {},
   "outputs": [],
   "source": [
    "# PromptTemplate\n",
    "prompt = PromptTemplate(\n",
    "    template=\"오늘의 날짜는 {today} 입니다. 오늘이 생일인 유명인 {n}명을 나열해 주세요. 생년월일과 직업을 함께 표기해주세요.\",\n",
    "    input_variables=[\"n\"],\n",
    "    partial_variables={\n",
    "        \"today\": get_today  \n",
    "    },\n",
    ")"
   ]
  },
  {
   "cell_type": "code",
   "execution_count": 25,
   "metadata": {},
   "outputs": [
    {
     "data": {
      "text/plain": [
       "'오늘의 날짜는 January 21 입니다. 오늘이 생일인 유명인 3명을 나열해 주세요. 생년월일과 직업을 함께 표기해주세요.'"
      ]
     },
     "execution_count": 25,
     "metadata": {},
     "output_type": "execute_result"
    }
   ],
   "source": [
    "prompt.format(n=3)"
   ]
  },
  {
   "cell_type": "code",
   "execution_count": 26,
   "metadata": {},
   "outputs": [],
   "source": [
    "# Chain\n",
    "chain = prompt | llm"
   ]
  },
  {
   "cell_type": "code",
   "execution_count": 27,
   "metadata": {},
   "outputs": [
    {
     "name": "stdout",
     "output_type": "stream",
     "text": [
      "1. Emma Bunton\n",
      "   - 생년월일: 1976년 1월 21일\n",
      "   - 직업: 가수, 배우\n",
      "\n",
      "2. Geena Davis\n",
      "   - 생년월일: 1956년 1월 21일\n",
      "   - 직업: 배우, 프로듀서, 모델\n",
      "\n",
      "3. Placido Domingo\n",
      "   - 생년월일: 1941년 1월 21일\n",
      "   - 직업: 오페라 가수, 지휘자\n"
     ]
    }
   ],
   "source": [
    "print(chain.invoke(3).content)"
   ]
  },
  {
   "cell_type": "code",
   "execution_count": 29,
   "metadata": {},
   "outputs": [
    {
     "name": "stdout",
     "output_type": "stream",
     "text": [
      "1. 김윤아 (1980년 1월 1일) - 가수\n",
      "2. 조승우 (1979년 1월 1일) - 배우\n",
      "3. 타이가 웨이티티 (1980년 1월 1일) - 미국의 배우\n"
     ]
    }
   ],
   "source": [
    "# today 까지 지정하여 실행할 경우\n",
    "print(\n",
    "    chain.invoke(\n",
    "        {\n",
    "            'today':'1월 1일',\n",
    "            'n': 3,\n",
    "        }\n",
    "    ).content\n",
    ")"
   ]
  },
  {
   "cell_type": "code",
   "execution_count": 30,
   "metadata": {},
   "outputs": [],
   "source": [
    "# 모델 버전 수정\n",
    "llm = ChatOpenAI(\n",
    "    temperature=0,\n",
    "    model_name='gpt-4o',\n",
    ")"
   ]
  },
  {
   "cell_type": "code",
   "execution_count": 34,
   "metadata": {},
   "outputs": [
    {
     "name": "stdout",
     "output_type": "stream",
     "text": [
      "1. 제이슨 테일러 (Jason Taylor)\n",
      "   - 생년월일: 1974년 3월 1일\n",
      "   - 직업: 프로 축구 선수 (NFL)\n",
      "   \n",
      "2. 저스틴 비버 (Justin Bieber)\n",
      "   - 생년월일: 1994년 3월 1일\n",
      "   - 직업: 가수, 싱어송라이터\n",
      "   \n",
      "3. 폴 린드 (Paul Hollywood)\n",
      "   - 생년월일: 1966년 3월 1일\n",
      "   - 직업: 셰프, TV 프로그램 진행자\n"
     ]
    }
   ],
   "source": [
    "# today 까지 지정하여 실행할 경우\n",
    "print(\n",
    "    chain.invoke(\n",
    "        {\n",
    "            'today':'3월 1일',\n",
    "            'n': 3,\n",
    "        }\n",
    "    ).content\n",
    ")"
   ]
  },
  {
   "cell_type": "markdown",
   "metadata": {},
   "source": [
    "## load_prompt"
   ]
  },
  {
   "cell_type": "code",
   "execution_count": 35,
   "metadata": {},
   "outputs": [],
   "source": [
    "from langchain_core.prompts import load_prompt"
   ]
  },
  {
   "cell_type": "code",
   "execution_count": 37,
   "metadata": {},
   "outputs": [
    {
     "data": {
      "text/plain": [
       "PromptTemplate(input_variables=['country'], input_types={}, partial_variables={}, template='{country}의 수도는 어디입니까?')"
      ]
     },
     "execution_count": 37,
     "metadata": {},
     "output_type": "execute_result"
    }
   ],
   "source": [
    "prompt = load_prompt(\n",
    "    'prompts/capital.yaml', \n",
    "    encoding='utf-8'\n",
    ")\n",
    "prompt"
   ]
  },
  {
   "cell_type": "code",
   "execution_count": 38,
   "metadata": {},
   "outputs": [
    {
     "data": {
      "text/plain": [
       "'모로코의 수도는 어디입니까?'"
      ]
     },
     "execution_count": 38,
     "metadata": {},
     "output_type": "execute_result"
    }
   ],
   "source": [
    "# 프롬프트 확인 \n",
    "prompt.format(country='모로코')"
   ]
  },
  {
   "cell_type": "code",
   "execution_count": 40,
   "metadata": {},
   "outputs": [
    {
     "name": "stdout",
     "output_type": "stream",
     "text": [
      "모로코의 수도에 대해서 알려주세요.\n",
      "수도의 특징을 다음의 양식에 맞게 정리해 주세요.\n",
      "300자 내외로 한글로 작성해 주세요.\n",
      "----\n",
      "[양식]\n",
      "1. 면적\n",
      "2. 인구\n",
      "3. 역사적 장소\n",
      "4. 특산품\n",
      "\n",
      "#Answer:\n",
      "\n"
     ]
    }
   ],
   "source": [
    "prompt2 = load_prompt(\n",
    "    'prompts/capital_detail.yaml', \n",
    "    encoding='utf-8'\n",
    ")\n",
    "\n",
    "print(prompt2.format(country='모로코'))"
   ]
  },
  {
   "cell_type": "code",
   "execution_count": 41,
   "metadata": {},
   "outputs": [],
   "source": [
    "# 스트리밍 실행 \n",
    "from langchain_core.output_parsers import StrOutputParser\n",
    "from langchain_teddynote.messages import stream_response"
   ]
  },
  {
   "cell_type": "code",
   "execution_count": 42,
   "metadata": {},
   "outputs": [
    {
     "name": "stdout",
     "output_type": "stream",
     "text": [
      "모로코의 수도는 라바트입니다. \n",
      "\n",
      "1. 면적: 라바트는 약 117km²의 면적을 가지고 있으며, 대서양 연안에 위치해 있어 해안 도시로서의 매력을 지니고 있습니다.\n",
      "\n",
      "2. 인구: 라바트의 인구는 약 58만 명으로, 모로코의 정치적 중심지로서 다양한 인구가 거주하고 있습니다.\n",
      "\n",
      "3. 역사적 장소: 라바트에는 유네스코 세계문화유산으로 지정된 우다이아 카스바와 하산 타워가 있습니다. 이곳은 모로코의 역사와 문화를 엿볼 수 있는 중요한 유적지입니다.\n",
      "\n",
      "4. 특산품: 라바트는 전통적인 모로코 카펫과 수공예품으로 유명합니다. 특히, 정교한 디자인과 색상이 돋보이는 카펫은 많은 관광객들에게 인기가 있습니다."
     ]
    }
   ],
   "source": [
    "model = ChatOpenAI(\n",
    "    temperature=0,\n",
    "    model_name='gpt-4o',\n",
    ")\n",
    "\n",
    "chain = prompt2 | model | StrOutputParser()\n",
    "answer = chain.stream('모로코')\n",
    "stream_response(answer)"
   ]
  },
  {
   "cell_type": "markdown",
   "metadata": {},
   "source": [
    "# ChatPromptTemplate\n",
    "\n",
    "- `PromptTemplate` : 일반 텍스트 기반의 프롬프트 생성\n",
    "- `ChatPromptTemplate` : 메시지 기반 프롬프트 생성 \n",
    "    - 여러 역할(role)을 포함한 메시지 체인 생성 (`system`,`human`,`ai`)\n",
    "        - `\"system\"`: 시스템 설정 메시지. 주로 전역설정(eg, 페르소나, 임무)과 관련\n",
    "        - `\"human\"` : 사용자 입력 메시지\n",
    "        - `\"ai\"`: AI 의 답변 메시지\n",
    "    - 복잡한 Context나 멀티턴 대화 관리 \n",
    "\n",
    "- 주요 특징 비교\n",
    "\n",
    "| **특징**                | **PromptTemplate**                         | **ChatPromptTemplate**                  |\n",
    "|-------------------------|--------------------------------------------|-----------------------------------------|\n",
    "| **형식**                | 단일 텍스트 기반 프롬프트                  | 대화형 메시지 체인                      |\n",
    "| **사용 모델**           | 텍스트 입력 기반 모델 (예: GPT-3)           | 대화 기반 모델 (예: ChatGPT)            |\n",
    "| **복잡성 처리**         | 간단한 프롬프트 처리                        | 여러 역할과 메시지 간 대화 시나리오 처리 |\n",
    "| **역할 지원**           | 지원하지 않음                              | `system`, `user`, `assistant` 지원      |\n",
    "| **생성 방식**           | `.format()`으로 텍스트 생성                 | `.format_messages()`으로 메시지 생성    |\n"
   ]
  },
  {
   "cell_type": "code",
   "execution_count": 43,
   "metadata": {},
   "outputs": [],
   "source": [
    "from langchain_core.prompts import ChatPromptTemplate"
   ]
  },
  {
   "cell_type": "code",
   "execution_count": 44,
   "metadata": {},
   "outputs": [
    {
     "data": {
      "text/plain": [
       "ChatPromptTemplate(input_variables=['country'], input_types={}, partial_variables={}, messages=[HumanMessagePromptTemplate(prompt=PromptTemplate(input_variables=['country'], input_types={}, partial_variables={}, template='{country}의 수도는 어디입니까?'), additional_kwargs={})])"
      ]
     },
     "execution_count": 44,
     "metadata": {},
     "output_type": "execute_result"
    }
   ],
   "source": [
    "prompt = ChatPromptTemplate.from_template(\"{country}의 수도는 어디입니까?\")\n",
    "prompt"
   ]
  },
  {
   "cell_type": "code",
   "execution_count": 45,
   "metadata": {},
   "outputs": [
    {
     "data": {
      "text/plain": [
       "'Human: 캐나다의 수도는 어디입니까?'"
      ]
     },
     "execution_count": 45,
     "metadata": {},
     "output_type": "execute_result"
    }
   ],
   "source": [
    "prompt.format(country='캐나다')"
   ]
  },
  {
   "cell_type": "code",
   "execution_count": 47,
   "metadata": {},
   "outputs": [],
   "source": [
    "chat_template = ChatPromptTemplate.from_messages(\n",
    "    [\n",
    "        ('system', '친절한 AI Assistant 입니다. 당신의 이름은 {name} 입니다.'),\n",
    "        ('human', '반가워요!'),\n",
    "        ('ai', '안녕하세요! 무엇을 도와드릴까요?'),\n",
    "        ('human', \"{user_input}\"),\n",
    "    ]\n",
    ")"
   ]
  },
  {
   "cell_type": "code",
   "execution_count": 50,
   "metadata": {},
   "outputs": [
    {
     "data": {
      "text/plain": [
       "[SystemMessage(content='친절한 AI Assistant 입니다. 당신의 이름은 철수 입니다.', additional_kwargs={}, response_metadata={}),\n",
       " HumanMessage(content='반가워요!', additional_kwargs={}, response_metadata={}),\n",
       " AIMessage(content='안녕하세요! 무엇을 도와드릴까요?', additional_kwargs={}, response_metadata={}),\n",
       " HumanMessage(content='서울시청 전화번호는 무엇인가요?', additional_kwargs={}, response_metadata={})]"
      ]
     },
     "execution_count": 50,
     "metadata": {},
     "output_type": "execute_result"
    }
   ],
   "source": [
    "messages = chat_template.format_messages(\n",
    "    name=\"철수\",\n",
    "    user_input=\"서울시청 전화번호는 무엇인가요?\",\n",
    ")\n",
    "\n",
    "messages"
   ]
  },
  {
   "cell_type": "code",
   "execution_count": 51,
   "metadata": {},
   "outputs": [
    {
     "data": {
      "text/plain": [
       "'서울시청의 대표 전화번호는 02-120입니다. 이 번호로 전화를 걸면 서울시의 다양한 서비스에 대한 안내를 받을 수 있습니다. 추가로 궁금한 점이 있으면 말씀해 주세요!'"
      ]
     },
     "execution_count": 51,
     "metadata": {},
     "output_type": "execute_result"
    }
   ],
   "source": [
    "llm.invoke(messages).content"
   ]
  },
  {
   "cell_type": "code",
   "execution_count": 52,
   "metadata": {},
   "outputs": [
    {
     "data": {
      "text/plain": [
       "'서울시청의 대표 전화번호는 02-120입니다. 이 번호로 전화를 걸면 서울시의 다양한 서비스에 대한 안내를 받을 수 있습니다. 추가로 궁금한 점이 있으면 말씀해 주세요!'"
      ]
     },
     "execution_count": 52,
     "metadata": {},
     "output_type": "execute_result"
    }
   ],
   "source": [
    "# Chain\n",
    "chain = chat_template | llm \n",
    "chain.invoke(\n",
    "    {\n",
    "        'name':'철수',\n",
    "        'user_input':'서울시청 전화번호는 무엇인가요?',\n",
    "    }\n",
    ").content"
   ]
  },
  {
   "cell_type": "markdown",
   "metadata": {},
   "source": [
    "# MessagePlaceholder"
   ]
  },
  {
   "cell_type": "code",
   "execution_count": 53,
   "metadata": {},
   "outputs": [],
   "source": [
    " from langchain_core.prompts import MessagesPlaceholder"
   ]
  },
  {
   "cell_type": "code",
   "execution_count": 54,
   "metadata": {},
   "outputs": [
    {
     "data": {
      "text/plain": [
       "ChatPromptTemplate(input_variables=['conversation', 'word_count'], input_types={'conversation': list[typing.Annotated[typing.Union[typing.Annotated[langchain_core.messages.ai.AIMessage, Tag(tag='ai')], typing.Annotated[langchain_core.messages.human.HumanMessage, Tag(tag='human')], typing.Annotated[langchain_core.messages.chat.ChatMessage, Tag(tag='chat')], typing.Annotated[langchain_core.messages.system.SystemMessage, Tag(tag='system')], typing.Annotated[langchain_core.messages.function.FunctionMessage, Tag(tag='function')], typing.Annotated[langchain_core.messages.tool.ToolMessage, Tag(tag='tool')], typing.Annotated[langchain_core.messages.ai.AIMessageChunk, Tag(tag='AIMessageChunk')], typing.Annotated[langchain_core.messages.human.HumanMessageChunk, Tag(tag='HumanMessageChunk')], typing.Annotated[langchain_core.messages.chat.ChatMessageChunk, Tag(tag='ChatMessageChunk')], typing.Annotated[langchain_core.messages.system.SystemMessageChunk, Tag(tag='SystemMessageChunk')], typing.Annotated[langchain_core.messages.function.FunctionMessageChunk, Tag(tag='FunctionMessageChunk')], typing.Annotated[langchain_core.messages.tool.ToolMessageChunk, Tag(tag='ToolMessageChunk')]], FieldInfo(annotation=NoneType, required=True, discriminator=Discriminator(discriminator=<function _get_type at 0x112391300>, custom_error_type=None, custom_error_message=None, custom_error_context=None))]]}, partial_variables={}, messages=[SystemMessagePromptTemplate(prompt=PromptTemplate(input_variables=[], input_types={}, partial_variables={}, template='요약 전문 AI 어시스턴트입니다. 당신의 임무는 주요 키워드로 대화를 요약하는 것입니다.'), additional_kwargs={}), MessagesPlaceholder(variable_name='conversation'), HumanMessagePromptTemplate(prompt=PromptTemplate(input_variables=['word_count'], input_types={}, partial_variables={}, template='지금까지 대화를 {word_count} 단어로 요약합니다.'), additional_kwargs={})])"
      ]
     },
     "execution_count": 54,
     "metadata": {},
     "output_type": "execute_result"
    }
   ],
   "source": [
    "chat_prompt = ChatPromptTemplate.from_messages(\n",
    "    [\n",
    "        (\n",
    "            'system','요약 전문 AI 어시스턴트입니다. 당신의 임무는 주요 키워드로 대화를 요약하는 것입니다.'\n",
    "        ),\n",
    "        MessagesPlaceholder(variable_name='conversation'),\n",
    "        ('human', '지금까지 대화를 {word_count} 단어로 요약합니다.')\n",
    "    ]\n",
    ")\n",
    "\n",
    "chat_prompt"
   ]
  },
  {
   "cell_type": "code",
   "execution_count": 55,
   "metadata": {},
   "outputs": [
    {
     "name": "stdout",
     "output_type": "stream",
     "text": [
      "System: 요약 전문 AI 어시스턴트입니다. 당신의 임무는 주요 키워드로 대화를 요약하는 것입니다.\n",
      "Human: 안녕하세요! 오늘 처음 인사드리는 김영희 입니다. 만나서 반갑습니다. 여러분들과 1기수를 즐겁고 행복하게 지내면 좋겠습니다.\n",
      "AI: 반갑습니다! 저도 앞으로 잘 부탁드립니다.\n",
      "Human: 지금까지 대화를 5 단어로 요약합니다.\n"
     ]
    }
   ],
   "source": [
    "chat_prompt_formatted = chat_prompt.format(\n",
    "    word_count=5,\n",
    "    conversation=[\n",
    "        ('human', '안녕하세요! 오늘 처음 인사드리는 김영희 입니다. 만나서 반갑습니다. 여러분들과 1기수를 즐겁고 행복하게 지내면 좋겠습니다.'),\n",
    "        ('ai', '반갑습니다! 저도 앞으로 잘 부탁드립니다.'),\n",
    "    ]\n",
    ")\n",
    "\n",
    "print(chat_prompt_formatted)"
   ]
  },
  {
   "cell_type": "code",
   "execution_count": 56,
   "metadata": {},
   "outputs": [],
   "source": [
    "# Chain \n",
    "chain = chat_prompt | llm | StrOutputParser()"
   ]
  },
  {
   "cell_type": "code",
   "execution_count": 58,
   "metadata": {},
   "outputs": [
    {
     "data": {
      "text/plain": [
       "'김영희, 첫 인사, 반가움.'"
      ]
     },
     "execution_count": 58,
     "metadata": {},
     "output_type": "execute_result"
    }
   ],
   "source": [
    "# Chain 실행 \n",
    "chain.invoke(\n",
    "    {\n",
    "        'word_count': 5,\n",
    "        'conversation': [\n",
    "            ('human', '안녕하세요! 오늘 처음 인사드리는 김영희 입니다. 만나서 반갑습니다. 여러분들과 1기수를 즐겁고 행복하게 지내면 좋겠습니다.'),\n",
    "            ('ai', '반갑습니다! 저도 앞으로 잘 부탁드립니다. AI를 공부하시는데 도움 될 수 있도록 노력하겠습니다.'),\n",
    "        ]\n",
    "    }\n",
    ")"
   ]
  },
  {
   "cell_type": "markdown",
   "metadata": {},
   "source": [
    "-----\n",
    "** End of Documents **"
   ]
  }
 ],
 "metadata": {
  "kernelspec": {
   "display_name": "langchain-kr-t0JhnSEV-py3.11",
   "language": "python",
   "name": "python3"
  },
  "language_info": {
   "codemirror_mode": {
    "name": "ipython",
    "version": 3
   },
   "file_extension": ".py",
   "mimetype": "text/x-python",
   "name": "python",
   "nbconvert_exporter": "python",
   "pygments_lexer": "ipython3",
   "version": "3.11.9"
  }
 },
 "nbformat": 4,
 "nbformat_minor": 2
}
