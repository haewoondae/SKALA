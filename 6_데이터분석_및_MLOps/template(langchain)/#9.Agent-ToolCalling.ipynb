{
 "cells": [
  {
   "cell_type": "code",
   "execution_count": null,
   "metadata": {},
   "outputs": [],
   "source": [
    "from dotenv import load_dotenv\n",
    "import os\n",
    "\n",
    "load_dotenv()\n",
    "OPENAI_API_KEY = os.getenv(\"OPENAI_API_KEY\")"
   ]
  },
  {
   "cell_type": "markdown",
   "metadata": {},
   "source": [
    "#### 다음 실습 코드는 학습 목적으로만 사용 바랍니다. 문의 : audit@korea.ac.kr 임성열 Ph.D."
   ]
  },
  {
   "cell_type": "markdown",
   "metadata": {},
   "source": [
    "#### 1. 노드 내부에서 툴 선택 : 각 노드를 함수처럼 정의하고, 그 안에서 필요한 툴을 직접 호출하도록 코드를 작성"
   ]
  },
  {
   "cell_type": "code",
   "execution_count": null,
   "metadata": {},
   "outputs": [],
   "source": [
    "!pip install langchain langgraph langchain-openai"
   ]
  },
  {
   "cell_type": "code",
   "execution_count": null,
   "metadata": {},
   "outputs": [],
   "source": [
    "# 환경변수 가져오기\n",
    "# openai_api_key = os.getenv(\"OPENAI_API_KEY\")\n",
    "# serpapi_key = os.getenv(\"SERPAPI_API_KEY\")\n",
    "\n",
    "# 또는 다음과 같이 직접 키 입력 (개발)\n",
    "# os.environ[\"OPENAI_API_KEY\"] = \"\"  # 자신의 OpenAI 키\n",
    "# os.environ[\"SERPAPI_API_KEY\"] = \"9c61eeb3bac82aea465b08d257b1a419dbf02d1734808b80cae1e881ae796196\""
   ]
  },
  {
   "cell_type": "code",
   "execution_count": 70,
   "metadata": {},
   "outputs": [],
   "source": [
    "# LLM 설정 (예: gpt-4)\n",
    "llm = ChatOpenAI(model=\"gpt-4\", temperature=0)"
   ]
  },
  {
   "cell_type": "code",
   "execution_count": 71,
   "metadata": {},
   "outputs": [],
   "source": [
    "# 기본 임포트\n",
    "from typing import TypedDict, Literal\n",
    "import re, ast, operator, hashlib\n",
    "from langgraph.graph import StateGraph"
   ]
  },
  {
   "cell_type": "code",
   "execution_count": 72,
   "metadata": {},
   "outputs": [],
   "source": [
    "# 상태 정의\n",
    "class State(TypedDict, total=False):\n",
    "    query: str\n",
    "    route: Literal[\"web\", \"math\"]\n",
    "    result: str"
   ]
  },
  {
   "cell_type": "code",
   "execution_count": 73,
   "metadata": {},
   "outputs": [],
   "source": [
    "def is_math_query(query: str) -> bool:\n",
    "    \"\"\"\n",
    "    단순하게 수학 연산 여부를 판별하는 함수.\n",
    "    숫자와 사칙연산 기호만 포함되면 True 반환.\n",
    "    \"\"\"\n",
    "    return bool(re.fullmatch(r\"[0-9+\\-*/(). ]+\", query.strip()))"
   ]
  },
  {
   "cell_type": "code",
   "execution_count": 74,
   "metadata": {},
   "outputs": [],
   "source": [
    "# 유틸리티 함수 (수학식 판별)\n",
    "_ARITH_RE = re.compile(r\"^\\s*[-+*/\\d\\s().]+\\s*$\")\n",
    "\n",
    "def is_math_query(q: str) -> bool:\n",
    "    return bool(_ARITH_RE.match(q))"
   ]
  },
  {
   "cell_type": "code",
   "execution_count": 76,
   "metadata": {},
   "outputs": [],
   "source": [
    "# 노드 구현 (웹 검색 / 수학 계산)\n",
    "# 웹 검색 노드 (여기서는 더미 함수로 대체)\n",
    "def web_scraper(query: str, num_results: int = 5) -> str:\n",
    "    \"\"\"구글에서 검색어에 대한 상위 요약 검색 결과를 반환합니다.\"\"\"\n",
    "    try:\n",
    "        serpapi_key = os.getenv(\"SERPAPI_API_KEY\")\n",
    "        params = {\n",
    "            \"engine\": \"google\",\n",
    "            \"q\": query,\n",
    "            \"hl\": \"ko\",\n",
    "            \"gl\": \"kr\",\n",
    "            \"api_key\": serpapi_key\n",
    "        }\n",
    "\n",
    "        search = GoogleSearch(params)\n",
    "        results = search.get_dict()\n",
    "\n",
    "        if \"organic_results\" not in results or not results[\"organic_results\"]:\n",
    "            return \"검색 결과 없음\"\n",
    "\n",
    "        titles = [res.get(\"title\", \"제목 없음\") for res in results[\"organic_results\"][:num_results]]\n",
    "        return \"\\n\".join(f\"- {title}\" for title in titles)\n",
    "    except Exception as e:\n",
    "        return f\"웹 검색 오류: {str(e)}\"\n",
    "\n",
    "# web_node는 web_scraper 툴만 실행하도록 고정됨\n",
    "def web_node(state: State) -> State:\n",
    "    q = state[\"query\"]\n",
    "    try:\n",
    "        summary = web_scraper(q) # web_node는 무조건 web_scraper만 호출\n",
    "    except Exception as e:\n",
    "        summary = f\"웹 검색 오류: {e}\"\n",
    "    return {\"result\": f\"[웹검색 요약]\\n{summary}\"}\n",
    "\n",
    "\n",
    "# 수학 계산 노드\n",
    "_ops = {\n",
    "    ast.Add: operator.add, ast.Sub: operator.sub,\n",
    "    ast.Mult: operator.mul, ast.Div: operator.truediv,\n",
    "    ast.USub: operator.neg, ast.UAdd: operator.pos,\n",
    "    ast.Pow: operator.pow,\n",
    "}\n",
    "\n",
    "def _eval_expr(node):\n",
    "    if isinstance(node, ast.Num):\n",
    "        return node.n\n",
    "    if isinstance(node, ast.Constant) and isinstance(node.value, (int, float)):\n",
    "        return node.value\n",
    "    if isinstance(node, ast.BinOp) and type(node.op) in _ops:\n",
    "        return _ops[type(node.op)](_eval_expr(node.left), _eval_expr(node.right))\n",
    "    if isinstance(node, ast.UnaryOp) and type(node.op) in _ops:\n",
    "        return _ops[type(node.op)](_eval_expr(node.operand))\n",
    "    raise ValueError(\"허용되지 않은 연산입니다.\")\n",
    "\n",
    "# math_node는 산술 계산 툴(_eval_expr)만 실행하도록 고정됨\n",
    "def math_node(state: State) -> State:\n",
    "    q = state[\"query\"]\n",
    "    try:\n",
    "        node = ast.parse(q, mode=\"eval\").body\n",
    "        val = _eval_expr(node) # math_node는 무조건 _eval_expr만 호출\n",
    "        return {\"result\": f\"[계산 결과] {q} = {val}\"}\n",
    "    except Exception:\n",
    "        return {\"result\": \"유효한 산술식이 아닙니다.\"}"
   ]
  },
  {
   "cell_type": "code",
   "execution_count": 77,
   "metadata": {},
   "outputs": [],
   "source": [
    "# 라우터 노드 (질문에 따라 web/math 분기)\n",
    "def router(state: State) -> State:\n",
    "    q = state[\"query\"]\n",
    "    route: Literal[\"web\",\"math\"] = \"math\" if is_math_query(q) else \"web\"\n",
    "    return {\"route\": route}"
   ]
  },
  {
   "cell_type": "code",
   "execution_count": 78,
   "metadata": {},
   "outputs": [],
   "source": [
    "# 그래프 빌드\n",
    "def build_graph():\n",
    "    builder = StateGraph(State)\n",
    "\n",
    "    builder.add_node(\"router\", router)\n",
    "    builder.add_node(\"web_node\", web_node)\n",
    "    builder.add_node(\"math_node\", math_node)\n",
    "\n",
    "    # router → 조건 분기\n",
    "    builder.add_conditional_edges(\n",
    "        \"router\",\n",
    "        lambda s: s[\"route\"],\n",
    "        {\n",
    "            \"web\": \"web_node\",\n",
    "            \"math\": \"math_node\",\n",
    "        },\n",
    "    )\n",
    "\n",
    "    builder.set_entry_point(\"router\")\n",
    "    return builder.compile()\n",
    "\n",
    "graph = build_graph()"
   ]
  },
  {
   "cell_type": "code",
   "execution_count": 79,
   "metadata": {},
   "outputs": [
    {
     "name": "stdout",
     "output_type": "stream",
     "text": [
      "{'query': '3 + 5', 'route': 'math', 'result': '[계산 결과] 3 + 5 = 8'}\n",
      "{'query': 'LangGraph 사용법', 'route': 'web', 'result': '[웹검색 요약]\\n- Part 1. 랭그래프 LangGraph 기초\\n- LangGraph) LangGraph에 대한 개념과 간단한 예시 만들어보기\\n- 1-2. LangGraph 환경 설정 및 기본 사용법\\n- 랭그래프(LangGraph)란? LangGraph의 개념과 사용 방법 예제 ...\\n- LangGraph Retrieval Agent를 활용한 동적 문서 검색 및 처리'}\n"
     ]
    }
   ],
   "source": [
    "# 실행 테스트\n",
    "print(graph.invoke({\"query\": \"3 + 5\"}))            # 수학 → math_node\n",
    "print(graph.invoke({\"query\": \"LangGraph 사용법\"})) # 일반 질문 → web_node"
   ]
  },
  {
   "cell_type": "markdown",
   "metadata": {},
   "source": [
    "##### 2. AgentExecutor + Tool Routing : LangChain 스타일로, 노드 안에서 에이전트를 실행하고, 에이전트에 어떤 툴 세트를 줄지 지정"
   ]
  },
  {
   "cell_type": "code",
   "execution_count": 63,
   "metadata": {},
   "outputs": [],
   "source": [
    "# 필요한 패키지 임포트\n",
    "from langchain.agents import create_openai_functions_agent, AgentExecutor\n",
    "from langchain.prompts import ChatPromptTemplate, MessagesPlaceholder\n",
    "\n",
    "# 공통 프롬프트 템플릿 정의\n",
    "base_prompt = ChatPromptTemplate.from_messages([\n",
    "    (\"system\", \"당신은 주어진 도구만 사용할 수 있는 유능한 AI 어시스턴트입니다.\"),\n",
    "    MessagesPlaceholder(\"chat_history\"),\n",
    "    (\"user\", \"{input}\"),\n",
    "    MessagesPlaceholder(\"agent_scratchpad\"),\n",
    "])"
   ]
  },
  {
   "cell_type": "code",
   "execution_count": 65,
   "metadata": {},
   "outputs": [],
   "source": [
    "# 예시: 웹 검색 툴\n",
    "from langchain.tools import tool\n",
    "# SerpAPI용 라이브러리\n",
    "from serpapi import GoogleSearch\n",
    "\n",
    "@tool\n",
    "def web_scraper(query: str, num_results: int = 5) -> str:\n",
    "    \"\"\"구글에서 검색어에 대한 상위 요약 검색 결과를 반환합니다.\"\"\"\n",
    "    try:\n",
    "        serpapi_key = os.getenv(\"SERPAPI_API_KEY\")\n",
    "        params = {\n",
    "            \"engine\": \"google\",\n",
    "            \"q\": query,\n",
    "            \"hl\": \"ko\",\n",
    "            \"gl\": \"kr\",\n",
    "            \"api_key\": serpapi_key\n",
    "        }\n",
    "\n",
    "        search = GoogleSearch(params)\n",
    "        results = search.get_dict()\n",
    "\n",
    "        if \"organic_results\" not in results or not results[\"organic_results\"]:\n",
    "            return \"검색 결과 없음\"\n",
    "\n",
    "        titles = [res.get(\"title\", \"제목 없음\") for res in results[\"organic_results\"][:num_results]]\n",
    "        return \"\\n\".join(f\"- {title}\" for title in titles)\n",
    "    except Exception as e:\n",
    "        return f\"웹 검색 오류: {str(e)}\"\n",
    "\n",
    "# 예시: 수학 덧셈 툴\n",
    "@tool\n",
    "def calc_add(x: int, y: int) -> int:\n",
    "    \"\"\"두 숫자를 더한다.\"\"\"\n",
    "    return x + y\n",
    "\n",
    "# 🔹 각각 툴들을 리스트로 묶어줌\n",
    "tools_web = [web_scraper]\n",
    "tools_math = [calc_add]"
   ]
  },
  {
   "cell_type": "code",
   "execution_count": 66,
   "metadata": {},
   "outputs": [],
   "source": [
    "# 웹검색 AgentExecutor\n",
    "agent_web = create_openai_functions_agent(\n",
    "    llm=llm,\n",
    "    tools=tools_web, # 웹검색 Tool : web_scraper을 쓰도록 지정\n",
    "    prompt=base_prompt\n",
    ")\n",
    "exec_web = AgentExecutor(agent=agent_web, tools=tools_web, verbose=True)"
   ]
  },
  {
   "cell_type": "code",
   "execution_count": 67,
   "metadata": {},
   "outputs": [],
   "source": [
    "# 계산 AgentExecutor\n",
    "agent_math = create_openai_functions_agent(\n",
    "    llm=llm,\n",
    "    tools=tools_math, # 산술연산 Tool : calc_add을 쓰도록 지정\n",
    "    prompt=base_prompt\n",
    ")\n",
    "exec_math = AgentExecutor(agent=agent_math, tools=tools_math, verbose=True)"
   ]
  },
  {
   "cell_type": "code",
   "execution_count": 43,
   "metadata": {},
   "outputs": [
    {
     "name": "stdout",
     "output_type": "stream",
     "text": [
      "\n",
      "\n",
      "\u001b[1m> Entering new AgentExecutor chain...\u001b[0m\n",
      "\u001b[32;1m\u001b[1;3m\n",
      "Invoking: `web_scraper` with `{'query': 'LangChain', 'num_results': 5}`\n",
      "\n",
      "\n",
      "\u001b[0m\u001b[36;1m\u001b[1;3m- LangChain\n",
      "- 랭체인 LangChain 이란 무엇인가? | 인사이트리포트\n",
      "- LangChain이란 무엇인가요?\n",
      "- langchain-ai/langchain: 🦜🔗 Build context-aware reasoning ...\n",
      "- Part 1. LangChain 기초\u001b[0m\u001b[32;1m\u001b[1;3mLangChain은 AI 모델을 활용하여 다양한 애플리케이션을 개발할 수 있도록 돕는 프레임워크입니다. 이 프레임워크는 고급 언어 모델을 사용하여 개발자들이 명령의 맥락을 이해하고, 그에 따라 반응할 수 있도록 지원합니다. LangChain은 대화형 응용 프로그램, 데이터 분석 및 자연어 처리(NLP) 작업에 적합하며, 여러 기능을 통합하여 사용자 맞춤형 솔루션을 제공합니다. \n",
      "\n",
      "특히 LangChain은 다음과 같은 주요 특징을 갖고 있습니다:\n",
      "\n",
      "1. **맥락 인식**: 언어 모델이 이전 대화나 명령의 맥락을 파악하여 더 의미 있는 반응을 생성합니다.\n",
      "2. **모듈형 구조**: 개발자가 쉽게 기능을 추가하거나 변경할 수 있는 구조를 가지고 있어 유연성이 높습니다.\n",
      "3. **다양한 사용 사례**: 대화형 챗봇, 사용자 데이터 분석, 콘텐츠 생성 등 다양한 분야에서 활용할 수 있습니다.\n",
      "\n",
      "LangChain은 AI와 언어 처리의 통합을 통해 개발자와 기업이 더 효율적으로 작업할 수 있도록 돕는 혁신적인 도구로 자리 잡고 있습니다.\u001b[0m\n",
      "\n",
      "\u001b[1m> Finished chain.\u001b[0m\n",
      "{'input': 'LangChain을 검색해서 요약하라', 'chat_history': [], 'output': 'LangChain은 AI 모델을 활용하여 다양한 애플리케이션을 개발할 수 있도록 돕는 프레임워크입니다. 이 프레임워크는 고급 언어 모델을 사용하여 개발자들이 명령의 맥락을 이해하고, 그에 따라 반응할 수 있도록 지원합니다. LangChain은 대화형 응용 프로그램, 데이터 분석 및 자연어 처리(NLP) 작업에 적합하며, 여러 기능을 통합하여 사용자 맞춤형 솔루션을 제공합니다. \\n\\n특히 LangChain은 다음과 같은 주요 특징을 갖고 있습니다:\\n\\n1. **맥락 인식**: 언어 모델이 이전 대화나 명령의 맥락을 파악하여 더 의미 있는 반응을 생성합니다.\\n2. **모듈형 구조**: 개발자가 쉽게 기능을 추가하거나 변경할 수 있는 구조를 가지고 있어 유연성이 높습니다.\\n3. **다양한 사용 사례**: 대화형 챗봇, 사용자 데이터 분석, 콘텐츠 생성 등 다양한 분야에서 활용할 수 있습니다.\\n\\nLangChain은 AI와 언어 처리의 통합을 통해 개발자와 기업이 더 효율적으로 작업할 수 있도록 돕는 혁신적인 도구로 자리 잡고 있습니다.'}\n",
      "\n",
      "\n",
      "\u001b[1m> Entering new AgentExecutor chain...\u001b[0m\n",
      "\u001b[32;1m\u001b[1;3m\n",
      "Invoking: `calc_add` with `{'x': 3, 'y': 5}`\n",
      "\n",
      "\n",
      "\u001b[0m\u001b[36;1m\u001b[1;3m8\u001b[0m\u001b[32;1m\u001b[1;3m3과 5를 더하면 8입니다.\u001b[0m\n",
      "\n",
      "\u001b[1m> Finished chain.\u001b[0m\n",
      "{'input': '3과 5를 더하라', 'chat_history': [], 'output': '3과 5를 더하면 8입니다.'}\n"
     ]
    }
   ],
   "source": [
    "# 테스트 실행\n",
    "print(exec_web.invoke({\"input\": \"LangChain을 검색해서 요약하라\", \"chat_history\": []}))\n",
    "print(exec_math.invoke({\"input\": \"3과 5를 더하라\", \"chat_history\": []}))\n"
   ]
  }
 ],
 "metadata": {
  "kernelspec": {
   "display_name": "rag",
   "language": "python",
   "name": "python3"
  },
  "language_info": {
   "codemirror_mode": {
    "name": "ipython",
    "version": 3
   },
   "file_extension": ".py",
   "mimetype": "text/x-python",
   "name": "python",
   "nbconvert_exporter": "python",
   "pygments_lexer": "ipython3",
   "version": "3.11.13"
  }
 },
 "nbformat": 4,
 "nbformat_minor": 2
}
