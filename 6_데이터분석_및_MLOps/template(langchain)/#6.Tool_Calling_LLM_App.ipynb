{
 "cells": [
  {
   "cell_type": "code",
   "execution_count": null,
   "metadata": {},
   "outputs": [],
   "source": [
    "# 환경변수 가져오기\n",
    "# openai_api_key = os.getenv(\"OPENAI_API_KEY\")\n",
    "# serpapi_key = os.getenv(\"SERPAPI_API_KEY\")\n",
    "\n",
    "# 또는 다음과 같이 직접 키 입력 (개발)\n",
    "# os.environ[\"OPENAI_API_KEY\"] = \"\"  # 자신의 OpenAI 키\n",
    "# os.environ[\"SERPAPI_API_KEY\"] = \"\""
   ]
  },
  {
   "cell_type": "code",
   "execution_count": null,
   "metadata": {},
   "outputs": [],
   "source": [
    "from dotenv import load_dotenv\n",
    "import os\n",
    "\n",
    "load_dotenv()\n",
    "OPENAI_API_KEY = os.getenv(\"OPENAI_API_KEY\")"
   ]
  },
  {
   "cell_type": "markdown",
   "metadata": {},
   "source": [
    "#### 다음 실습 코드는 학습 목적으로만 사용 바랍니다. 문의 : audit@korea.ac.kr 임성열 Ph.D."
   ]
  },
  {
   "cell_type": "code",
   "execution_count": null,
   "metadata": {},
   "outputs": [],
   "source": [
    "# 1. 필수 패키지 설치\n",
    "%pip install langchain-core langchain-openai langchain-community faiss-cpu beautifulsoup4 requests\n",
    "%pip install --upgrade langchain"
   ]
  },
  {
   "cell_type": "code",
   "execution_count": null,
   "metadata": {},
   "outputs": [],
   "source": [
    "# 2. 환경 설정 및 모듈 임포트\n",
    "import os\n",
    "import sqlite3\n",
    "import requests\n",
    "from bs4 import BeautifulSoup\n",
    "\n",
    "from langchain.chat_models import ChatOpenAI\n",
    "from langchain.vectorstores import FAISS\n",
    "# from langchain.embeddings import OpenAIEmbeddings은 depreciated\n",
    "from langchain_openai import OpenAIEmbeddings\n",
    "from langchain.document_loaders import PyPDFLoader\n",
    "from langchain.text_splitter import RecursiveCharacterTextSplitter\n",
    "from langchain.chains.question_answering import load_qa_chain\n",
    "from langchain.utilities import SQLDatabase\n",
    "\n",
    "# OpenAI API Key 설정\n",
    "os.environ[\"OPENAI_API_KEY\"] = OPENAI_API_KEY"
   ]
  },
  {
   "cell_type": "code",
   "execution_count": 3,
   "metadata": {},
   "outputs": [],
   "source": [
    "# 3. SQLite DB 초기화 함수\n",
    "# SQLite DB 생성 및 예제 문장 추가\n",
    "import sqlite3\n",
    "\n",
    "def initialize_sqlite_db():\n",
    "    conn = sqlite3.connect(\"rdb_rag.db\")\n",
    "    cursor = conn.cursor()\n",
    "    cursor.execute(\"DROP TABLE IF EXISTS articles;\")\n",
    "    cursor.execute(\"\"\"\n",
    "        CREATE TABLE articles (\n",
    "            id INTEGER PRIMARY KEY AUTOINCREMENT,\n",
    "            title TEXT,\n",
    "            content TEXT\n",
    "        );\n",
    "    \"\"\")\n",
    "\n",
    "    sample_data = [\n",
    "        (\n",
    "            \"RAG 아키텍처 개요\",\n",
    "            \"RAG(Retrieval-Augmented Generation)은 사전 학습된 LLM에 외부 문서 검색 결과를 결합하여 정답을 생성하는 방법론이다. 주로 Dense Retriever + Generator 구성으로 이루어진다.\"\n",
    "        ),\n",
    "        (\n",
    "            \"Vector DB 역할\",\n",
    "            \"벡터 데이터베이스는 문서나 쿼리를 임베딩 벡터로 변환하여 유사도 검색을 가능하게 하는 핵심 구성요소이다.\"\n",
    "        ),\n",
    "        (\n",
    "            \"Tool 기반 RAG 확장\",\n",
    "            \"ReAct 및 Toolformer 기반 RAG 아키텍처는 외부 툴(SQL, 웹 검색 등)을 능동적으로 호출할 수 있는 Agent를 포함한다.\"\n",
    "        )\n",
    "    ]\n",
    "\n",
    "    cursor.executemany(\"INSERT INTO articles (title, content) VALUES (?, ?)\", sample_data)\n",
    "    conn.commit()\n",
    "    conn.close()\n"
   ]
  },
  {
   "cell_type": "code",
   "execution_count": 4,
   "metadata": {},
   "outputs": [],
   "source": [
    "# 4. 문서 임베딩 함수\n",
    "def embed_document(file_path=\"attention.pdf\", db_path=\"faiss_index\"):\n",
    "    loader = PyPDFLoader(file_path)\n",
    "    documents = loader.load()\n",
    "\n",
    "    splitter = RecursiveCharacterTextSplitter(chunk_size=500, chunk_overlap=100)\n",
    "    chunks = splitter.split_documents(documents)\n",
    "\n",
    "    embeddings = OpenAIEmbeddings()\n",
    "    vector_db = FAISS.from_documents(chunks, embeddings)\n",
    "    vector_db.save_local(db_path)\n",
    "\n",
    "    return f\"Document embedded and saved to {db_path}\""
   ]
  },
  {
   "cell_type": "code",
   "execution_count": 5,
   "metadata": {},
   "outputs": [],
   "source": [
    "# 5. 문서 검색 함수\n",
    "from langchain.vectorstores import FAISS\n",
    "\n",
    "def retrieve_documents(query, db_path=\"faiss_index\", k=3):\n",
    "    embeddings = OpenAIEmbeddings()\n",
    "    db = FAISS.load_local(\n",
    "        db_path, \n",
    "        embeddings,\n",
    "        allow_dangerous_deserialization=True)  # <-- 역직렬화 허용 추가\n",
    "    retriever = db.as_retriever(search_kwargs={\"k\": k})\n",
    "    return retriever.invoke(query)\n"
   ]
  },
  {
   "cell_type": "code",
   "execution_count": 6,
   "metadata": {},
   "outputs": [
    {
     "name": "stdout",
     "output_type": "stream",
     "text": [
      "Requirement already satisfied: pypdf in /Users/phoenix/Eagle/2025_LangChain/rag/lib/python3.11/site-packages (6.0.0)\n",
      "Note: you may need to restart the kernel to use updated packages.\n"
     ]
    }
   ],
   "source": [
    "# 6. 검색된 문서 요약 함수\n",
    "%pip install pypdf\n",
    "\n",
    "from langchain_core.prompts import PromptTemplate\n",
    "from langchain_core.runnables import RunnablePassthrough, RunnableSequence\n",
    "from langchain_core.documents import Document\n",
    "\n",
    "def summarize_chunks(chunks):\n",
    "    llm = ChatOpenAI(temperature=0)\n",
    "    \n",
    "    prompt = PromptTemplate.from_template(\"\"\"\n",
    "    다음 문서를 읽고 간단히 요약해 하라:\\n\\n{context}\n",
    "    \"\"\")\n",
    "    \n",
    "    # 문서 내용을 하나로 합침\n",
    "    merged = \"\\n\\n\".join([doc.page_content for doc in chunks])\n",
    "    \n",
    "    chain: RunnableSequence = (\n",
    "        RunnablePassthrough.assign(context=lambda x: merged)\n",
    "        | prompt\n",
    "        | llm\n",
    "    )\n",
    "    \n",
    "    return chain.invoke({})\n"
   ]
  },
  {
   "cell_type": "code",
   "execution_count": 7,
   "metadata": {},
   "outputs": [],
   "source": [
    "# 7. SQL 검색 함수\n",
    "def sql_query_tool(query):\n",
    "    db = SQLDatabase.from_uri(\"sqlite:///rdb_rag.db\")\n",
    "    return db.run(f\"\"\"\n",
    "        SELECT content FROM articles\n",
    "        WHERE title LIKE '%{query}%' OR content LIKE '%{query}%'\n",
    "    \"\"\")\n",
    "\n",
    "    return results\n"
   ]
  },
  {
   "cell_type": "code",
   "execution_count": 8,
   "metadata": {},
   "outputs": [
    {
     "name": "stdout",
     "output_type": "stream",
     "text": [
      "Collecting google-search-results\n",
      "  Using cached google_search_results-2.4.2-py3-none-any.whl\n",
      "Requirement already satisfied: requests in /Users/phoenix/Eagle/2025_LangChain/rag/lib/python3.11/site-packages (from google-search-results) (2.32.5)\n",
      "Requirement already satisfied: charset_normalizer<4,>=2 in /Users/phoenix/Eagle/2025_LangChain/rag/lib/python3.11/site-packages (from requests->google-search-results) (3.4.3)\n",
      "Requirement already satisfied: idna<4,>=2.5 in /Users/phoenix/Eagle/2025_LangChain/rag/lib/python3.11/site-packages (from requests->google-search-results) (3.10)\n",
      "Requirement already satisfied: urllib3<3,>=1.21.1 in /Users/phoenix/Eagle/2025_LangChain/rag/lib/python3.11/site-packages (from requests->google-search-results) (2.5.0)\n",
      "Requirement already satisfied: certifi>=2017.4.17 in /Users/phoenix/Eagle/2025_LangChain/rag/lib/python3.11/site-packages (from requests->google-search-results) (2025.8.3)\n",
      "Installing collected packages: google-search-results\n",
      "Successfully installed google-search-results-2.4.2\n",
      "Note: you may need to restart the kernel to use updated packages.\n"
     ]
    }
   ],
   "source": [
    "# 8. 웹 스크래핑 함수\n",
    "%pip install google-search-results\n",
    "from serpapi import GoogleSearch\n",
    "\n",
    "# 환경변수 설정 예 (노트북 상에서 직접), https://serpapi.com 에서 개인 계정을 생성하고 본인 API를 받아서 입력\n",
    "\n",
    "os.environ[\"SERPAPI_API_KEY\"] = \"9c61eeb3bac82aea465b08d257b1a419dbf02d1734808b80cae1e881ae796196\"\n",
    "\n",
    "def web_scraper(query, num_results=5):\n",
    "  try:\n",
    "    serpapi_key = os.getenv(\"SERPAPI_API_KEY\")  # 환경변수 또는 직접 입력\n",
    "    params = {\n",
    "        \"engine\": \"google\",\n",
    "        \"q\": query,\n",
    "        \"hl\": \"ko\",\n",
    "        \"gl\": \"kr\",\n",
    "        \"api_key\": serpapi_key\n",
    "    }\n",
    "\n",
    "    search = GoogleSearch(params)\n",
    "    results = search.get_dict()\n",
    "    \n",
    "# 결과 유효성 체크\n",
    "    if \"organic_results\" not in results or not results[\"organic_results\"]:\n",
    "        return \"검색 결과 없음\"\n",
    "\n",
    "# 상위 결과 제목 요약 추출\n",
    "    titles = [res.get(\"title\", \"제목 없음\") for res in results[\"organic_results\"][:num_results]]\n",
    "    return \"\\n\".join(f\"- {title}\" for title in titles)\n",
    "  except Exception as e:\n",
    "   return f\"웹 검색 오류: {str(e)}\"\n"
   ]
  },
  {
   "cell_type": "code",
   "execution_count": 10,
   "metadata": {},
   "outputs": [],
   "source": [
    "# 9. 전체 RAG 통합 파이프라인\n",
    "def rag_pipeline(user_query):\n",
    "    # 1. Vector DB 검색\n",
    "    retrieved = retrieve_documents(user_query)\n",
    "    summary = summarize_chunks(retrieved).content\n",
    "    source_vector = \"[VectorDB 요약]\\n\" + summary\n",
    "\n",
    "    # 2. 웹 검색\n",
    "    scraped = web_scraper(user_query)\n",
    "    source_web = \"[웹 검색 결과]\\n\" + scraped\n",
    "\n",
    "    # 3. SQL 검색\n",
    "    sql_result = sql_query_tool(user_query)\n",
    "    source_sql = \"[SQL 검색 결과]\\n\" + sql_result\n",
    "\n",
    "    # 4. 전체 정보를 종합한 프롬프트 생성\n",
    "    full_prompt = f\"\"\"\n",
    "    사용자 질문: {user_query}\n",
    "\n",
    "    다음은 다양한 소스로부터 수집된 정보이다. 이를 바탕으로 정확하고 간결한 답변을 생성하라.\n",
    "\n",
    "    {source_vector}\n",
    "\n",
    "    {source_web}\n",
    "\n",
    "    {source_sql}\n",
    "\n",
    "    참고한 출처는 답변 마지막에 모두 제시하라. 답변은 한국어 경어체로 사용하라.\n",
    "    \"\"\"\n",
    "\n",
    "    llm = ChatOpenAI(temperature=0.3)\n",
    "    final_response = llm.invoke(full_prompt)\n",
    "\n",
    "    # 5. 출처와 함께 결과 반환\n",
    "    return {\n",
    "        \"answer\": final_response,\n",
    "        \"sources\": {\n",
    "            \"vector_summary\": summary,\n",
    "            \"sql_result\": sql_result,\n",
    "            \"web_result\": scraped\n",
    "        }\n",
    "    }"
   ]
  },
  {
   "cell_type": "code",
   "execution_count": 11,
   "metadata": {},
   "outputs": [
    {
     "name": "stderr",
     "output_type": "stream",
     "text": [
      "/var/folders/xr/0xbgl9wd3wz914nd58ylmykw0000gp/T/ipykernel_97210/2368931604.py:9: LangChainDeprecationWarning: The class `ChatOpenAI` was deprecated in LangChain 0.0.10 and will be removed in 1.0. An updated version of the class exists in the :class:`~langchain-openai package and should be used instead. To use it run `pip install -U :class:`~langchain-openai` and import as `from :class:`~langchain_openai import ChatOpenAI``.\n",
      "  llm = ChatOpenAI(temperature=0)\n"
     ]
    },
    {
     "name": "stdout",
     "output_type": "stream",
     "text": [
      "최종 응답:\n",
      " RAG 아키텍처는 Retrieval-Augmented Generation의 약자로, 사전 학습된 LLM에 외부 문서 검색 결과를 결합하여 정답을 생성하는 방법론을 말합니다. 주로 Dense Retriever + Generator 구성으로 이루어져 있습니다. 이 아키텍처는 ReAct 및 Toolformer를 기반으로 하며, 외부 툴(SQL, 웹 검색 등)을 능동적으로 호출할 수 있는 Agent를 포함하고 있습니다.\n",
      "\n",
      "[출처: VectorDB, 웹 검색 결과, SQL 검색 결과]\n"
     ]
    }
   ],
   "source": [
    "# 10. 실행: 전체 초기화 및 질문 테스트\n",
    "# Step 1: DB 생성 및 문서 임베딩 (최초 1회만)\n",
    "initialize_sqlite_db()\n",
    "embed_document(\"attention.pdf\")  # 반드시 현재 위치에 attention.pdf 파일이 있어야 함\n",
    "\n",
    "# Step 2: 질문 실행\n",
    "query = \"RAG 아키텍처\"\n",
    "answer = rag_pipeline(query)\n",
    "print(\"최종 응답:\\n\", answer['answer'].content)\n"
   ]
  },
  {
   "cell_type": "code",
   "execution_count": 12,
   "metadata": {},
   "outputs": [
    {
     "name": "stdout",
     "output_type": "stream",
     "text": [
      "출처별 정보\n",
      "----------------------------------------\n",
      "\n",
      " [Vector 요약]\n",
      "----------------------------------------\n",
      "다양한 논문들이 다양한 주제에 대해 연구를 진행하고 있으며, 주로 인공지능 및 기계학습 분야에 관련된 주제들을 다루고 있다. 예를 들어, LSTM 네트워크에 대한 요인화 기법, 어텐션 네트워크, Adam 최적화 방법, 그리고 신경망을 사용한 기계 번역 등이 연구되고 있다. 이러한 논문들은 주로 국제 학회나 학술지에 발표되었으며, 최신 기술 및 방법론에 대한 연구를 다루고 있다.\n",
      "\n",
      " [SQL 결과]\n",
      "----------------------------------------\n",
      "[('RAG(Retrieval-Augmented Generation)은 사전 학습된 LLM에 외부 문서 검색 결과를 결합하여 정답을 생성하는 방법론이다. 주로 Dense Retriever + Generator 구성으로 이루어진다.',), ('ReAct 및 Toolformer 기반 RAG 아키텍처는 외부 툴(SQL, 웹 검색 등)을 능동적으로 호출할 수 있는 Agent를 포함한다.',)]\n",
      "\n",
      " [웹 검색 결과]\n",
      "----------------------------------------\n",
      "- 검색 증강 생성(Retrieval Augmented Generation, RAG)이란?\n",
      "- RAG 아키텍처의 이해\n",
      "- Retrieval-Augmented Generation(RAG)의 흐름과 아키텍쳐\n",
      "- 기업용 RAG 아키텍처 - 네이버 블로그\n",
      "- GPT는 모르면 지어낸다? RAG는 진짜 정보를 찾아온다\n"
     ]
    }
   ],
   "source": [
    "# 출처별 상세 결과 확인\n",
    "from IPython.display import display, Markdown\n",
    "\n",
    "print(\"출처별 정보\\n\" + \"-\"*40)\n",
    "\n",
    "# Vector 요약\n",
    "print(\"\\n [Vector 요약]\")\n",
    "print(\"-\" * 40)\n",
    "print(answer[\"sources\"].get(\"vector_summary\", \"(결과 없음)\"))\n",
    "\n",
    "# SQL 결과\n",
    "print(\"\\n [SQL 결과]\")\n",
    "print(\"-\" * 40)\n",
    "print(answer[\"sources\"].get(\"sql_result\", \"(결과 없음)\"))\n",
    "\n",
    "# 웹 검색 결과\n",
    "print(\"\\n [웹 검색 결과]\")\n",
    "print(\"-\" * 40)\n",
    "print(answer[\"sources\"].get(\"web_result\", \"(결과 없음)\"))"
   ]
  },
  {
   "cell_type": "code",
   "execution_count": 13,
   "metadata": {},
   "outputs": [
    {
     "name": "stdout",
     "output_type": "stream",
     "text": [
      "- RAG란? - 검색 증강 생성 AI 설명\n",
      "- 검색 증강 생성(RAG)이란? 생성형 AI의 정확도를 높이는 기술\n",
      "- 검색 증강 생성(RAG)이란 무엇인가?\n",
      "- RAG 아키텍처의 이해\n",
      "- GPT는 모르면 지어낸다? RAG는 진짜 정보를 찾아온다\n"
     ]
    }
   ],
   "source": [
    "print(web_scraper(\"RAG 아키텍처란 무엇인가?\"))\n"
   ]
  },
  {
   "cell_type": "code",
   "execution_count": 14,
   "metadata": {},
   "outputs": [
    {
     "name": "stdout",
     "output_type": "stream",
     "text": [
      "9c61eeb3bac82aea465b08d257b1a419dbf02d1734808b80cae1e881ae796196\n"
     ]
    }
   ],
   "source": [
    "import os\n",
    "print(os.getenv(\"SERPAPI_API_KEY\"))"
   ]
  },
  {
   "cell_type": "code",
   "execution_count": 15,
   "metadata": {},
   "outputs": [
    {
     "name": "stdout",
     "output_type": "stream",
     "text": [
      "{'search_metadata': {'id': '68b15dc3f5d5ac22b1bf3ef1', 'status': 'Success', 'json_endpoint': 'https://serpapi.com/searches/71f18118467ac231/68b15dc3f5d5ac22b1bf3ef1.json', 'pixel_position_endpoint': 'https://serpapi.com/searches/71f18118467ac231/68b15dc3f5d5ac22b1bf3ef1.json_with_pixel_position', 'created_at': '2025-08-29 07:58:59 UTC', 'processed_at': '2025-08-29 07:58:59 UTC', 'google_url': 'https://www.google.com/search?q=RAG+%EC%95%84%ED%82%A4%ED%85%8D%EC%B2%98%EB%9E%80+%EB%AC%B4%EC%97%87%EC%9D%B8%EA%B0%80&oq=RAG+%EC%95%84%ED%82%A4%ED%85%8D%EC%B2%98%EB%9E%80+%EB%AC%B4%EC%97%87%EC%9D%B8%EA%B0%80&sourceid=chrome&ie=UTF-8', 'raw_html_file': 'https://serpapi.com/searches/71f18118467ac231/68b15dc3f5d5ac22b1bf3ef1.html', 'total_time_taken': 12.19}, 'search_parameters': {'engine': 'google', 'q': 'RAG 아키텍처란 무엇인가', 'google_domain': 'google.com', 'device': 'desktop'}, 'search_information': {'query_displayed': 'RAG 아키텍처란 무엇인가', 'total_results': 6020, 'time_taken_displayed': 0.22, 'organic_results_state': 'Results for exact spelling'}, 'related_questions': [{'question': 'RAG 증강이란 무엇인가요?', 'type': 'featured_snippet', 'snippet': '검색 증강 생성(RAG)은 대규모 언어 모델의 출력을 최적화하여 응답을 생성하기 전에 훈련 데이터 소스 외부의 신뢰할 수 있는 기술 자료를 참조하도록 하는 프로세스입니다.', 'title': 'RAG란? - 검색 증강 생성 AI 설명 - AWS', 'link': 'https://aws.amazon.com/ko/what-is/retrieval-augmented-generation/#:~:text=%EA%B2%80%EC%83%89%20%EC%A6%9D%EA%B0%95%20%EC%83%9D%EC%84%B1(RAG)%EC%9D%80,%EC%B0%B8%EC%A1%B0%ED%95%98%EB%8F%84%EB%A1%9D%20%ED%95%98%EB%8A%94%20%ED%94%84%EB%A1%9C%EC%84%B8%EC%8A%A4%EC%9E%85%EB%8B%88%EB%8B%A4.', 'displayed_link': 'https://aws.amazon.com › ... › 인공 지능 › 생성형 AI', 'next_page_token': 'eyJvbnMiOiIxMDA0MSIsImZjIjoiRXFFQkNtSkJUR3QwWDNaRlJETndhV3RSTkZOTWQxVnFkMTloV2tOWldtVlpkMnBvZGxjelNGUkVRVTFrT1ZKQ1RUSmpZamxLZFdrd1FrcFFWM2RFTkdOdFRUYzFkems1WjI4MVNGOW1lRlpaWkdvNGRrOW5WelZOVjJscFR6TlNPWE53U1ZwbFFSSVhlakV5ZUdGSkxXTkhiMkpTTVhOUlVISk1TSGh6UVZFYUlrRkdUVUZIUjNCMVdscENMVkoxTTNjMVgza3dlVGxDVDFGR04zRmxaMDVtY0ZFIiwiZmN2IjoiMyIsImVpIjoiejEyeGFJLWNHb2JSMXNRUHJMSHhzQVEiLCJxYyI6IkNpSnlZV2NnN0pXRTdZS2s3WVdON0xLWUlPdWVnQ0RyckxUc2w0Y2c3SjI0NnJDQUVBbDlHSFJBUHciLCJxdWVzdGlvbiI6IlJBRyDspp3qsJXsnbTrnoAg66y07JeH7J246rCA7JqUPyIsImxrIjoiR2hGeVlXY2c3S2FkNnJDVklPeWR0T3VlZ0EiLCJicyI6ImMtT3k1bElNY25SWGVMTnM3cXNOVTlfTTNmSjZYb1BDNnpWYjNreHZmek4zeDZzTkRXOW1UYkdYMk1kdkpDd2xXSlNZRGxXbkFGSEk1Y3RsOEdwVHc1dm1Ub1UzelhQZnRHeUVTbXNBVGRURVpkWm5YU014S1JGczJyaDh1TFNCT29FS0ZkNU9iUUVxZmp0MURzaW1OM01Xdk82YWdtblNTbGNqS1NrSmtLdXdhZUZLNEhLQTJRSjFOTmd5amFMVWtxTE0xTExFSE4zRTB2VGMxTHlTMUJTY2p2MFpZU1FwSlE3WG9RRFhvZkI2em00QlJnQSIsImlkIjoiZmNfejEyeGFJLWNHb2JSMXNRUHJMSHhzQVFfMyJ9', 'serpapi_link': 'https://serpapi.com/search.json?device=desktop&engine=google_related_questions&google_domain=google.com&next_page_token=eyJvbnMiOiIxMDA0MSIsImZjIjoiRXFFQkNtSkJUR3QwWDNaRlJETndhV3RSTkZOTWQxVnFkMTloV2tOWldtVlpkMnBvZGxjelNGUkVRVTFrT1ZKQ1RUSmpZamxLZFdrd1FrcFFWM2RFTkdOdFRUYzFkems1WjI4MVNGOW1lRlpaWkdvNGRrOW5WelZOVjJscFR6TlNPWE53U1ZwbFFSSVhlakV5ZUdGSkxXTkhiMkpTTVhOUlVISk1TSGh6UVZFYUlrRkdUVUZIUjNCMVdscENMVkoxTTNjMVgza3dlVGxDVDFGR04zRmxaMDVtY0ZFIiwiZmN2IjoiMyIsImVpIjoiejEyeGFJLWNHb2JSMXNRUHJMSHhzQVEiLCJxYyI6IkNpSnlZV2NnN0pXRTdZS2s3WVdON0xLWUlPdWVnQ0RyckxUc2w0Y2c3SjI0NnJDQUVBbDlHSFJBUHciLCJxdWVzdGlvbiI6IlJBRyDspp3qsJXsnbTrnoAg66y07JeH7J246rCA7JqUPyIsImxrIjoiR2hGeVlXY2c3S2FkNnJDVklPeWR0T3VlZ0EiLCJicyI6ImMtT3k1bElNY25SWGVMTnM3cXNOVTlfTTNmSjZYb1BDNnpWYjNreHZmek4zeDZzTkRXOW1UYkdYMk1kdkpDd2xXSlNZRGxXbkFGSEk1Y3RsOEdwVHc1dm1Ub1UzelhQZnRHeUVTbXNBVGRURVpkWm5YU014S1JGczJyaDh1TFNCT29FS0ZkNU9iUUVxZmp0MURzaW1OM01Xdk82YWdtblNTbGNqS1NrSmtLdXdhZUZLNEhLQTJRSjFOTmd5amFMVWtxTE0xTExFSE4zRTB2VGMxTHlTMUJTY2p2MFpZU1FwSlE3WG9RRFhvZkI2em00QlJnQSIsImlkIjoiZmNfejEyeGFJLWNHb2JSMXNRUHJMSHhzQVFfMyJ9'}, {'question': '검색 생성 증강(RAG)이란 무엇인가요?', 'type': 'featured_snippet', 'snippet': '검색 증강 생성(RAG)은 프라이빗 또는 독점 데이터 소스의 정보로 텍스트 생성을 보완하는 기술입니다. 대규모 데이터 세트 또는 지식 기반을 검색하도록 설계된 검색 모델에 해당 정보를 가져와 읽을 수 있는 텍스트 응답을 생성하는 대규모 언어 모델(LLM)과 같은 생성 모델을 결합합니다.', 'title': '검색 증강 생성(RAG)이란? | 포괄적인 RAG 안내서 - Elastic', 'link': 'https://www.elastic.co/kr/what-is/retrieval-augmented-generation#:~:text=%EA%B2%80%EC%83%89%20%EC%A6%9D%EA%B0%95%20%EC%83%9D%EC%84%B1(RAG)%EC%9D%80,%EC%83%9D%EC%84%B1%20%EB%AA%A8%EB%8D%B8%EC%9D%84%20%EA%B2%B0%ED%95%A9%ED%95%A9%EB%8B%88%EB%8B%A4.', 'displayed_link': 'https://www.elastic.co › retrieval-augmented-generation', 'thumbnail': 'https://encrypted-tbn0.gstatic.com/images?q=tbn:ANd9GcQJmrHab1UCNXNTwVOSivs5NMtjNxcmQWCszU9FQgdk&s', 'source_logo': 'https://serpapi.com/searches/68b15dc3f5d5ac22b1bf3ef1/images/a042011a9e6a94228809079f423235339f2b0161b98c984d93c4d93f463097d6.png', 'next_page_token': 'eyJvbnMiOiIxMDA0MSIsImZjIjoiRXFFQkNtSkJUR3QwWDNaRlJETndhV3RSTkZOTWQxVnFkMTloV2tOWldtVlpkMnBvZGxjelNGUkVRVTFrT1ZKQ1RUSmpZamxLZFdrd1FrcFFWM2RFTkdOdFRUYzFkems1WjI4MVNGOW1lRlpaWkdvNGRrOW5WelZOVjJscFR6TlNPWE53U1ZwbFFSSVhlakV5ZUdGSkxXTkhiMkpTTVhOUlVISk1TSGh6UVZFYUlrRkdUVUZIUjNCMVdscENMVkoxTTNjMVgza3dlVGxDVDFGR04zRmxaMDVtY0ZFIiwiZmN2IjoiMyIsImVpIjoiejEyeGFJLWNHb2JSMXNRUHJMSHhzQVEiLCJxYyI6IkNpSnlZV2NnN0pXRTdZS2s3WVdON0xLWUlPdWVnQ0RyckxUc2w0Y2c3SjI0NnJDQUVBbDlHSFJBUHciLCJxdWVzdGlvbiI6IuqygOyDiSDsg53shLEg7Kad6rCVKFJBRynsnbTrnoAg66y07JeH7J246rCA7JqUPyIsImxrIjoiR2hUcXNvRHNnNGtnN0lPZDdJU3hJT3ltbmVxd2xRIiwiYnMiOiJjLU95NWxJTWNuUlhlTE5zN3FzTlU5X00zZko2WG9QQzZ6VmIza3h2ZnpOM3g2c05EVzltVGJHWDJNZHZKQ3dsV0pTWURsV25BRkhJNWN0bDhHcFR3NXZtVG9VM3pYUGZ0R3lFU21zQVRkVEVaZFpuWFNNeEtSRnMycmg4dUxTQk9vRUtGZDVPYlFFcWZqdDFEc2ltTjNNV3ZPNmFnbW5TU2xjaktTa0prS3V3YWVGSzRIS0EyUUoxTk5neWphTFVrcUxNMUxMRUhOM0UwdlRjMUx5UzFCU2NqdjBaWVNRcEpRN1hvUURYb2ZCNnptNEJSZ0EiLCJpZCI6ImZjX3oxMnhhSS1jR29iUjFzUVByTEh4c0FRXzMifQ==', 'serpapi_link': 'https://serpapi.com/search.json?device=desktop&engine=google_related_questions&google_domain=google.com&next_page_token=eyJvbnMiOiIxMDA0MSIsImZjIjoiRXFFQkNtSkJUR3QwWDNaRlJETndhV3RSTkZOTWQxVnFkMTloV2tOWldtVlpkMnBvZGxjelNGUkVRVTFrT1ZKQ1RUSmpZamxLZFdrd1FrcFFWM2RFTkdOdFRUYzFkems1WjI4MVNGOW1lRlpaWkdvNGRrOW5WelZOVjJscFR6TlNPWE53U1ZwbFFSSVhlakV5ZUdGSkxXTkhiMkpTTVhOUlVISk1TSGh6UVZFYUlrRkdUVUZIUjNCMVdscENMVkoxTTNjMVgza3dlVGxDVDFGR04zRmxaMDVtY0ZFIiwiZmN2IjoiMyIsImVpIjoiejEyeGFJLWNHb2JSMXNRUHJMSHhzQVEiLCJxYyI6IkNpSnlZV2NnN0pXRTdZS2s3WVdON0xLWUlPdWVnQ0RyckxUc2w0Y2c3SjI0NnJDQUVBbDlHSFJBUHciLCJxdWVzdGlvbiI6IuqygOyDiSDsg53shLEg7Kad6rCVKFJBRynsnbTrnoAg66y07JeH7J246rCA7JqUPyIsImxrIjoiR2hUcXNvRHNnNGtnN0lPZDdJU3hJT3ltbmVxd2xRIiwiYnMiOiJjLU95NWxJTWNuUlhlTE5zN3FzTlU5X00zZko2WG9QQzZ6VmIza3h2ZnpOM3g2c05EVzltVGJHWDJNZHZKQ3dsV0pTWURsV25BRkhJNWN0bDhHcFR3NXZtVG9VM3pYUGZ0R3lFU21zQVRkVEVaZFpuWFNNeEtSRnMycmg4dUxTQk9vRUtGZDVPYlFFcWZqdDFEc2ltTjNNV3ZPNmFnbW5TU2xjaktTa0prS3V3YWVGSzRIS0EyUUoxTk5neWphTFVrcUxNMUxMRUhOM0UwdlRjMUx5UzFCU2NqdjBaWVNRcEpRN1hvUURYb2ZCNnptNEJSZ0EiLCJpZCI6ImZjX3oxMnhhSS1jR29iUjFzUVByTEh4c0FRXzMifQ%3D%3D'}, {'question': 'RAG가 필요한 이유는 무엇인가요?', 'type': 'featured_snippet', 'snippet': 'RAG의 장점으로는 답변을 생성하는 과정에서 외부 정보 활용이 가능하다는 점(확장성), 사용자에게 더 맞춤화된 답변을 제공할 수 있다는 점(유연성 및 확장성), 그리고 검증 가능한 출처를 기반으로 답변을 제공해 할루시네이션을 최소화할 수 있는 점(정확성) 등이 있습니다.', 'title': '2024 Year Of The RAG :: RAG가 주목 받는 이유와 미래 동향 - 스켈터랩스', 'link': 'https://www.skelterlabs.com/blog/2024-year-of-the-rag#:~:text=RAG%EC%9D%98%20%EC%9E%A5%EC%A0%90%EC%9C%BC%EB%A1%9C%EB%8A%94,(%EC%A0%95%ED%99%95%EC%84%B1)%20%EB%93%B1%EC%9D%B4%20%EC%9E%88%EC%8A%B5%EB%8B%88%EB%8B%A4.', 'displayed_link': 'https://www.skelterlabs.com › blog › 2024-year-of-the-rag', 'thumbnail': 'https://encrypted-tbn0.gstatic.com/images?q=tbn:ANd9GcSWbh9J9imtREcW7nXsyhmrKUaAJpEVPn9cVY1FEnFG&s', 'source_logo': 'https://serpapi.com/searches/68b15dc3f5d5ac22b1bf3ef1/images/a042011a9e6a94228809079f423235334d0d1c02a0dc7fed205c73b1fc60ebf4.png', 'next_page_token': 'eyJvbnMiOiIxMDA0MSIsImZjIjoiRXFFQkNtSkJUR3QwWDNaRlJETndhV3RSTkZOTWQxVnFkMTloV2tOWldtVlpkMnBvZGxjelNGUkVRVTFrT1ZKQ1RUSmpZamxLZFdrd1FrcFFWM2RFTkdOdFRUYzFkems1WjI4MVNGOW1lRlpaWkdvNGRrOW5WelZOVjJscFR6TlNPWE53U1ZwbFFSSVhlakV5ZUdGSkxXTkhiMkpTTVhOUlVISk1TSGh6UVZFYUlrRkdUVUZIUjNCMVdscENMVkoxTTNjMVgza3dlVGxDVDFGR04zRmxaMDVtY0ZFIiwiZmN2IjoiMyIsImVpIjoiejEyeGFJLWNHb2JSMXNRUHJMSHhzQVEiLCJxYyI6IkNpSnlZV2NnN0pXRTdZS2s3WVdON0xLWUlPdWVnQ0RyckxUc2w0Y2c3SjI0NnJDQUVBbDlHSFJBUHciLCJxdWVzdGlvbiI6IlJBR+qwgCDtlYTsmpTtlZwg7J207Jyg64qUIOustOyXh+yduOqwgOyalD8iLCJsayI6IkdoaHlZV2NnNnJDQUlPMlZoT3lhbE8yVm5DRHNuYlRzbktBIiwiYnMiOiJjLU95NWxJTWNuUlhlTE5zN3FzTlU5X00zZko2WG9QQzZ6VmIza3h2ZnpOM3g2c05EVzltVGJHWDJNZHZKQ3dsV0pTWURsV25BRkhJNWN0bDhHcFR3NXZtVG9VM3pYUGZ0R3lFU21zQVRkVEVaZFpuWFNNeEtSRnMycmg4dUxTQk9vRUtGZDVPYlFFcWZqdDFEc2ltTjNNV3ZPNmFnbW5TU2xjaktTa0prS3V3YWVGSzRIS0EyUUoxTk5neWphTFVrcUxNMUxMRUhOM0UwdlRjMUx5UzFCU2NqdjBaWVNRcEpRN1hvUURYb2ZCNnptNEJSZ0EiLCJpZCI6ImZjX3oxMnhhSS1jR29iUjFzUVByTEh4c0FRXzMifQ==', 'serpapi_link': 'https://serpapi.com/search.json?device=desktop&engine=google_related_questions&google_domain=google.com&next_page_token=eyJvbnMiOiIxMDA0MSIsImZjIjoiRXFFQkNtSkJUR3QwWDNaRlJETndhV3RSTkZOTWQxVnFkMTloV2tOWldtVlpkMnBvZGxjelNGUkVRVTFrT1ZKQ1RUSmpZamxLZFdrd1FrcFFWM2RFTkdOdFRUYzFkems1WjI4MVNGOW1lRlpaWkdvNGRrOW5WelZOVjJscFR6TlNPWE53U1ZwbFFSSVhlakV5ZUdGSkxXTkhiMkpTTVhOUlVISk1TSGh6UVZFYUlrRkdUVUZIUjNCMVdscENMVkoxTTNjMVgza3dlVGxDVDFGR04zRmxaMDVtY0ZFIiwiZmN2IjoiMyIsImVpIjoiejEyeGFJLWNHb2JSMXNRUHJMSHhzQVEiLCJxYyI6IkNpSnlZV2NnN0pXRTdZS2s3WVdON0xLWUlPdWVnQ0RyckxUc2w0Y2c3SjI0NnJDQUVBbDlHSFJBUHciLCJxdWVzdGlvbiI6IlJBR%2BqwgCDtlYTsmpTtlZwg7J207Jyg64qUIOustOyXh%2ByduOqwgOyalD8iLCJsayI6IkdoaHlZV2NnNnJDQUlPMlZoT3lhbE8yVm5DRHNuYlRzbktBIiwiYnMiOiJjLU95NWxJTWNuUlhlTE5zN3FzTlU5X00zZko2WG9QQzZ6VmIza3h2ZnpOM3g2c05EVzltVGJHWDJNZHZKQ3dsV0pTWURsV25BRkhJNWN0bDhHcFR3NXZtVG9VM3pYUGZ0R3lFU21zQVRkVEVaZFpuWFNNeEtSRnMycmg4dUxTQk9vRUtGZDVPYlFFcWZqdDFEc2ltTjNNV3ZPNmFnbW5TU2xjaktTa0prS3V3YWVGSzRIS0EyUUoxTk5neWphTFVrcUxNMUxMRUhOM0UwdlRjMUx5UzFCU2NqdjBaWVNRcEpRN1hvUURYb2ZCNnptNEJSZ0EiLCJpZCI6ImZjX3oxMnhhSS1jR29iUjFzUVByTEh4c0FRXzMifQ%3D%3D'}, {'question': '검색 증강 생성(retrieval-augmented)이란 무엇인가요?', 'type': 'featured_snippet', 'snippet': '요약 검색 증강 생성(Retrieval-Augmented Generation, RAG)은 대규모 언어 모델(LLM) 을 외부 리소스에 연결하여 생성형 AI 애플리케이션으로부터 더 나은 답변을 얻는 방법입니다.', 'title': '검색 증강 생성(RAG)이란? 생성형 AI의 정확도를 높이는 기술', 'date': 'Mar 28, 2025', 'link': 'https://www.redhat.com/ko/topics/ai/what-is-retrieval-augmented-generation#:~:text=%EC%9A%94%EC%95%BD,-%EB%A8%80&text=%EA%B2%80%EC%83%89%20%EC%A6%9D%EA%B0%95%20%EC%83%9D%EC%84%B1(Retrieval%2DAugmented,%EB%8B%B5%EB%B3%80%EC%9D%84%20%EC%96%BB%EB%8A%94%20%EB%B0%A9%EB%B2%95%EC%9E%85%EB%8B%88%EB%8B%A4.', 'displayed_link': 'https://www.redhat.com › topics › what-is-retrieval-augm...', 'source_logo': 'https://serpapi.com/searches/68b15dc3f5d5ac22b1bf3ef1/images/a042011a9e6a94228809079f42323533f1262f18003c296b8ea2a3de1431ff1d.png', 'next_page_token': 'eyJvbnMiOiIxMDA0MSIsImZjIjoiRXFFQkNtSkJUR3QwWDNaRlJETndhV3RSTkZOTWQxVnFkMTloV2tOWldtVlpkMnBvZGxjelNGUkVRVTFrT1ZKQ1RUSmpZamxLZFdrd1FrcFFWM2RFTkdOdFRUYzFkems1WjI4MVNGOW1lRlpaWkdvNGRrOW5WelZOVjJscFR6TlNPWE53U1ZwbFFSSVhlakV5ZUdGSkxXTkhiMkpTTVhOUlVISk1TSGh6UVZFYUlrRkdUVUZIUjNCMVdscENMVkoxTTNjMVgza3dlVGxDVDFGR04zRmxaMDVtY0ZFIiwiZmN2IjoiMyIsImVpIjoiejEyeGFJLWNHb2JSMXNRUHJMSHhzQVEiLCJxYyI6IkNpSnlZV2NnN0pXRTdZS2s3WVdON0xLWUlPdWVnQ0RyckxUc2w0Y2c3SjI0NnJDQUVBbDlHSFJBUHciLCJxdWVzdGlvbiI6IuqygOyDiSDspp3qsJUg7IOd7ISxKHJldHJpZXZhbC1hdWdtZW50ZWQp7J20656AIOustOyXh+yduOqwgOyalD8iLCJsayI6IkdoZHlaWFJ5YVdWMllXd2dZWFZuYldWdWRHVmtJT3VjdXciLCJicyI6ImMtT3k1bElNY25SWGVMTnM3cXNOVTlfTTNmSjZYb1BDNnpWYjNreHZmek4zeDZzTkRXOW1UYkdYMk1kdkpDd2xXSlNZRGxXbkFGSEk1Y3RsOEdwVHc1dm1Ub1UzelhQZnRHeUVTbXNBVGRURVpkWm5YU014S1JGczJyaDh1TFNCT29FS0ZkNU9iUUVxZmp0MURzaW1OM01Xdk82YWdtblNTbGNqS1NrSmtLdXdhZUZLNEhLQTJRSjFOTmd5amFMVWtxTE0xTExFSE4zRTB2VGMxTHlTMUJTY2p2MFpZU1FwSlE3WG9RRFhvZkI2em00QlJnQSIsImlkIjoiZmNfejEyeGFJLWNHb2JSMXNRUHJMSHhzQVFfMyJ9', 'serpapi_link': 'https://serpapi.com/search.json?device=desktop&engine=google_related_questions&google_domain=google.com&next_page_token=eyJvbnMiOiIxMDA0MSIsImZjIjoiRXFFQkNtSkJUR3QwWDNaRlJETndhV3RSTkZOTWQxVnFkMTloV2tOWldtVlpkMnBvZGxjelNGUkVRVTFrT1ZKQ1RUSmpZamxLZFdrd1FrcFFWM2RFTkdOdFRUYzFkems1WjI4MVNGOW1lRlpaWkdvNGRrOW5WelZOVjJscFR6TlNPWE53U1ZwbFFSSVhlakV5ZUdGSkxXTkhiMkpTTVhOUlVISk1TSGh6UVZFYUlrRkdUVUZIUjNCMVdscENMVkoxTTNjMVgza3dlVGxDVDFGR04zRmxaMDVtY0ZFIiwiZmN2IjoiMyIsImVpIjoiejEyeGFJLWNHb2JSMXNRUHJMSHhzQVEiLCJxYyI6IkNpSnlZV2NnN0pXRTdZS2s3WVdON0xLWUlPdWVnQ0RyckxUc2w0Y2c3SjI0NnJDQUVBbDlHSFJBUHciLCJxdWVzdGlvbiI6IuqygOyDiSDspp3qsJUg7IOd7ISxKHJldHJpZXZhbC1hdWdtZW50ZWQp7J20656AIOustOyXh%2ByduOqwgOyalD8iLCJsayI6IkdoZHlaWFJ5YVdWMllXd2dZWFZuYldWdWRHVmtJT3VjdXciLCJicyI6ImMtT3k1bElNY25SWGVMTnM3cXNOVTlfTTNmSjZYb1BDNnpWYjNreHZmek4zeDZzTkRXOW1UYkdYMk1kdkpDd2xXSlNZRGxXbkFGSEk1Y3RsOEdwVHc1dm1Ub1UzelhQZnRHeUVTbXNBVGRURVpkWm5YU014S1JGczJyaDh1TFNCT29FS0ZkNU9iUUVxZmp0MURzaW1OM01Xdk82YWdtblNTbGNqS1NrSmtLdXdhZUZLNEhLQTJRSjFOTmd5amFMVWtxTE0xTExFSE4zRTB2VGMxTHlTMUJTY2p2MFpZU1FwSlE3WG9RRFhvZkI2em00QlJnQSIsImlkIjoiZmNfejEyeGFJLWNHb2JSMXNRUHJMSHhzQVFfMyJ9'}], 'answer_box': {'type': 'organic_result', 'title': '검색 증강 생성(Retrieval Augmented Generation, RAG)이란?', 'link': 'https://www.databricks.com/kr/glossary/retrieval-augmented-generation-rag#:~:text=%EA%B2%80%EC%83%89%20%EC%A6%9D%EA%B0%95%20%EC%83%9D%EC%84%B1(Retrieval%20Augmented%20Generation%2C%20RAG)%EC%9D%80%20%EB%A7%9E%EC%B6%A4%ED%98%95,%EC%9E%88%EB%8A%94%20%EC%95%84%ED%82%A4%ED%85%8D%EC%B2%98%20%EC%A0%91%EA%B7%BC%20%EB%B0%A9%EC%8B%9D%EC%9E%85%EB%8B%88%EB%8B%A4.', 'displayed_link': 'https://www.databricks.com › glossary › retrieval-augm...', 'snippet': '검색 증강 생성(Retrieval Augmented Generation, RAG)은 맞춤형 데이터를 활용하여 대규모 언어 모델(LLM) 애플리케이션의 효율성을 개선할 수 있는 아키텍처 접근 방식입니다.', 'snippet_highlighted_words': ['맞춤형 데이터를 활용하여 대규모 언어 모델(LLM) 애플리케이션의 효율성을 개선할 수 있는 아키텍처 접근 방식'], 'favicon': 'https://serpapi.com/searches/68b15dc3f5d5ac22b1bf3ef1/images/0ea64c96cd4098c1195246769a9d16364d5aea8e566efcad.png', 'source': 'Databricks'}, 'organic_results': [{'position': 1, 'title': 'RAG란? - 검색 증강 생성 AI 설명', 'link': 'https://aws.amazon.com/ko/what-is/retrieval-augmented-generation/', 'redirect_link': 'https://www.google.com/url?sa=t&source=web&rct=j&opi=89978449&url=https://aws.amazon.com/ko/what-is/retrieval-augmented-generation/&ved=2ahUKEwjPv7mtxq-PAxWGqJUCHaxYHEYQFnoECBYQAQ', 'displayed_link': 'https://aws.amazon.com › what-is', 'favicon': 'https://serpapi.com/searches/68b15dc3f5d5ac22b1bf3ef1/images/91b3d9132329937edb5ed22b99ce9ba51683c7db7cc147c7a2c6e939d1b7e70d.png', 'snippet': '검색 증강 생성(RAG)은 대규모 언어 모델의 출력을 최적화하여 응답을 생성하기 전에 훈련 데이터 소스 외부의 신뢰할 수 있는 기술 자료를 참조하도록 하는 프로세스 ...', 'snippet_highlighted_words': ['RAG'], 'source': 'Amazon Web Services'}, {'position': 2, 'title': '검색 증강 생성(RAG)이란 무엇인가?', 'link': 'https://blog.naver.com/agapeuni/223590551638?viewType=pc', 'redirect_link': 'https://www.google.com/url?sa=t&source=web&rct=j&opi=89978449&url=https://blog.naver.com/agapeuni/223590551638%3FviewType%3Dpc&ved=2ahUKEwjPv7mtxq-PAxWGqJUCHaxYHEYQFnoECCIQAQ', 'displayed_link': 'https://blog.naver.com › agapeuni', 'date': 'Sep 20, 2024', 'snippet': 'RAG(Retrieval-Augmented Generation)는 언어 모델을 강화하기 위해 정보 검색을 결합한 기술이다. \\u200b\\u200b대규모 언어 모델(LLM)의 파워와 정보 검색 시스템 ...', 'snippet_highlighted_words': ['언어 모델을 강화하기 위해 정보 검색을 결합한 기술'], 'source': 'NAVER'}, {'position': 3, 'title': '검색 증강 생성(RAG)이란? 생성형 AI의 정확도를 높이는 기술', 'link': 'https://www.redhat.com/ko/topics/ai/what-is-retrieval-augmented-generation', 'redirect_link': 'https://www.google.com/url?sa=t&source=web&rct=j&opi=89978449&url=https://www.redhat.com/ko/topics/ai/what-is-retrieval-augmented-generation&ved=2ahUKEwjPv7mtxq-PAxWGqJUCHaxYHEYQFnoECBkQAQ', 'displayed_link': 'https://www.redhat.com › topics', 'favicon': 'https://serpapi.com/searches/68b15dc3f5d5ac22b1bf3ef1/images/91b3d9132329937edb5ed22b99ce9ba5c48d22882364dc5e5f8ace461e77ef66.png', 'date': 'Mar 28, 2025', 'snippet': 'RAG 아키텍처는 외부 소스에서 데이터를 검색하여 해당 데이터를 LLM의 컨텍스트로 처리하고 혼합된 소스에 따라 답변을 생성합니다. 이 프로세스에는 세 ...', 'snippet_highlighted_words': ['RAG 아키텍처'], 'source': 'Red Hat'}, {'position': 4, 'title': 'RAG, 검색 증강 생성이란? - NVIDIA 블로그', 'link': 'https://blogs.nvidia.co.kr/blog/what-is-retrieval-augmented-generation/', 'redirect_link': 'https://www.google.com/url?sa=t&source=web&rct=j&opi=89978449&url=https://blogs.nvidia.co.kr/blog/what-is-retrieval-augmented-generation/&ved=2ahUKEwjPv7mtxq-PAxWGqJUCHaxYHEYQFnoECBsQAQ', 'displayed_link': 'https://blogs.nvidia.co.kr › blog', 'favicon': 'https://serpapi.com/searches/68b15dc3f5d5ac22b1bf3ef1/images/91b3d9132329937edb5ed22b99ce9ba59aa6472c46446be27d2d423bc1b6a11b.png', 'snippet': 'RAG(Retrieval Augmented Generation)는 외부 소스에서 가져온 정보로 생성형 AI 모델의 정확성과 신뢰성을 향상시키는 기술입니다. 즉, LLM의 작동 방식에서 부족한 부분 ...', 'snippet_highlighted_words': ['외부 소스에서 가져온 정보로 생성형 AI 모델의 정확성과 신뢰성을 향상시키는 기술'], 'source': 'NVIDIA Blog Korea'}, {'position': 5, 'title': '검색 증강 생성(RAG)은 무엇인가요?', 'link': 'https://www.salesforce.com/kr/agentforce/what-is-rag/', 'redirect_link': 'https://www.google.com/url?sa=t&source=web&rct=j&opi=89978449&url=https://www.salesforce.com/kr/agentforce/what-is-rag/&ved=2ahUKEwjPv7mtxq-PAxWGqJUCHaxYHEYQFnoECBoQAQ', 'displayed_link': 'https://www.salesforce.com › what...', 'favicon': 'https://serpapi.com/searches/68b15dc3f5d5ac22b1bf3ef1/images/91b3d9132329937edb5ed22b99ce9ba5730df3d94bfc53f43be452f8a0a08068.png', 'snippet': 'RAG 아키텍처 LLM 에이전트는 비즈니스 전반의 이점을 활용하여 더 강력한 고객 관계를 구축하고, 운영을 최적화하고, 마케팅 및 세일즈 성능을 개선하고, 효율적으로 성장 ...', 'snippet_highlighted_words': ['RAG 아키텍처 LLM 에이전트'], 'source': 'Salesforce'}, {'position': 6, 'title': 'RAG(검색 보강 생성)란?', 'link': 'https://azure.microsoft.com/ko-kr/resources/cloud-computing-dictionary/what-is-retrieval-augmented-generation-rag', 'redirect_link': 'https://www.google.com/url?sa=t&source=web&rct=j&opi=89978449&url=https://azure.microsoft.com/ko-kr/resources/cloud-computing-dictionary/what-is-retrieval-augmented-generation-rag&ved=2ahUKEwjPv7mtxq-PAxWGqJUCHaxYHEYQFnoECDwQAQ', 'displayed_link': 'https://azure.microsoft.com › ko-kr', 'favicon': 'https://serpapi.com/searches/68b15dc3f5d5ac22b1bf3ef1/images/91b3d9132329937edb5ed22b99ce9ba511e5f56ca3b42f4cb1186b0ca76d03fb.png', 'snippet': 'RAG 시스템의 아키텍처는 두 가지 주요 모듈과 함께 작동하여 정확하고 상황에 맞는 출력을 생성하는 혼합 메커니즘의 조합입니다. RAG 모듈을 엔드 투 엔드로 학습할 수 ...', 'snippet_highlighted_words': ['RAG', '아키텍처', 'RAG'], 'source': 'Microsoft Azure'}, {'position': 7, 'title': '에이전틱 RAG란 무엇인가요?', 'link': 'https://www.ibm.com/kr-ko/think/topics/agentic-rag', 'redirect_link': 'https://www.google.com/url?sa=t&source=web&rct=j&opi=89978449&url=https://www.ibm.com/kr-ko/think/topics/agentic-rag&ved=2ahUKEwjPv7mtxq-PAxWGqJUCHaxYHEYQFnoECEAQAQ', 'displayed_link': 'https://www.ibm.com › agentic-rag', 'favicon': 'https://serpapi.com/searches/68b15dc3f5d5ac22b1bf3ef1/images/91b3d9132329937edb5ed22b99ce9ba55d2d39ebceabfa5930b94f94cce5083c.png', 'snippet': '에이전틱 RAG는 AI 에이전트를 사용하여 검색 증강 생성(RAG)을 용이하게 하는 것입니다. 에이전틱 RAG 시스템은 RAG 파이프라인에 AI 에이전트를 추가하여 적응성과 ...', 'snippet_highlighted_words': ['에이전틱 RAG는 AI 에이전트를 사용하여 검색 증강 생성(RAG)을 용이하게 하는 것'], 'source': 'IBM'}, {'position': 8, 'title': '검색 증강 생성(RAG)이란 무엇인가요?', 'link': 'https://cloud.google.com/use-cases/retrieval-augmented-generation?hl=ko', 'redirect_link': 'https://www.google.com/url?sa=t&source=web&rct=j&opi=89978449&url=https://cloud.google.com/use-cases/retrieval-augmented-generation%3Fhl%3Dko&ved=2ahUKEwjPv7mtxq-PAxWGqJUCHaxYHEYQFnoECDsQAQ', 'displayed_link': 'https://cloud.google.com › use-cases', 'favicon': 'https://serpapi.com/searches/68b15dc3f5d5ac22b1bf3ef1/images/91b3d9132329937edb5ed22b99ce9ba555efcf23a9cd72c0eeeef243482e0a79.png', 'snippet': 'RAG(검색 증강 생성)는 검색과 데이터베이스와 같은 기존 정보 검색 시스템의 강점과 생성형 대규모 언어 모델(LLM)의 기능을 결합한 AI 프레임워크입니다.', 'snippet_highlighted_words': ['RAG'], 'source': 'Google Cloud'}, {'position': 9, 'title': 'RAG 누구든지 이해시켜 드릴게요! | AI 필수 지식', 'link': 'https://www.youtube.com/watch?v=ucH_N3jPQ0E', 'displayed_link': '7.5K+ views · 1 year ago', 'thumbnail': 'https://encrypted-tbn0.gstatic.com/images?q=tbn:ANd9GcSo0HcQ2gC7zI6A7swmlCpMOoSg6ISLtZWYW0rn2Rd7HBXS&s', 'favicon': 'https://serpapi.com/searches/68b15dc3f5d5ac22b1bf3ef1/images/91b3d9132329937edb5ed22b99ce9ba5a002fc983afa2fab37cf18a20a0a1711.png', 'snippet': 'LLM의 한계점을 극복할 수 있게 해주는 RAG(Retrieval-Augmented Generation) 개념에 대해서 설명합니다. ▶️ 개발동생 디스코드 커뮤니티: ...', 'duration': '8:52', 'key_moments': [{'time': '00:00', 'title': 'ChatGPT와 같은 LLM의 문제점', 'link': 'https://www.youtube.com/watch?v=ucH_N3jPQ0E&t=0', 'thumbnail': 'https://encrypted-tbn0.gstatic.com/images?q=tbn:ANd9GcRHWhPP_2mTtO8R4WQHAckNjCD6tDzsIqXxe64Hyk4bLw&s'}, {'time': '00:28', 'title': 'RAG(Retrieval-Augmented Generation)이란?', 'link': 'https://www.youtube.com/watch?v=ucH_N3jPQ0E&t=28', 'thumbnail': 'https://encrypted-tbn0.gstatic.com/images?q=tbn:ANd9GcTEHtPEJlH1GoFccJq6bt-7dUNJ1vjn5NKuCPsoXA9rQg&s'}, {'time': '01:13', 'title': '실생활 예시를 통한 설명', 'link': 'https://www.youtube.com/watch?v=ucH_N3jPQ0E&t=73', 'thumbnail': 'https://encrypted-tbn0.gstatic.com/images?q=tbn:ANd9GcTDTidH1OYPTDa_3WeBCQUK1sAswa0mJO3UJmhdPDg3Ow&s'}, {'time': '03:02', 'title': '예시 질문을 LLM에 적용시켜보기', 'link': 'https://www.youtube.com/watch?v=ucH_N3jPQ0E&t=182', 'thumbnail': 'https://encrypted-tbn0.gstatic.com/images?q=tbn:ANd9GcTKpxRG0IXc6EEmP3SZSaulQOCzdHq-CpG8I_4oS-S9iQ&s'}, {'time': '04:01', 'title': '검색증강 적용 방법', 'link': 'https://www.youtube.com/watch?v=ucH_N3jPQ0E&t=241', 'thumbnail': 'https://encrypted-tbn0.gstatic.com/images?q=tbn:ANd9GcRyg_hJiaH1MHfK3ME6rJWjNWgwpchQ846s4MEUDleJUQ&s'}, {'time': '05:18', 'title': 'RAG 타임라인 정리', 'link': 'https://www.youtube.com/watch?v=ucH_N3jPQ0E&t=318', 'thumbnail': 'https://encrypted-tbn0.gstatic.com/images?q=tbn:ANd9GcTP63mhZIDJUv10O4W7MClpZhbwuicqmJibpDFQ2ipxSA&s'}, {'time': '06:49', 'title': '검색 증강을 통해 해결한 LLM 한계점', 'link': 'https://www.youtube.com/watch?v=ucH_N3jPQ0E&t=409', 'thumbnail': 'https://encrypted-tbn0.gstatic.com/images?q=tbn:ANd9GcQkQ0rgu2U1gsiGBg1gI9ou5bswhGHovOSvTvVHzyQ0Uw&s'}, {'time': '08:22', 'title': 'RAG에 대해서 더 자세히 공부하고 싶다면', 'link': 'https://www.youtube.com/watch?v=ucH_N3jPQ0E&t=502', 'thumbnail': 'https://encrypted-tbn0.gstatic.com/images?q=tbn:ANd9GcR42G2dl03CrPees2o8pEoXVI1zry7QzxnT8veckeuiNg&s'}], 'missing': ['아키텍처'], 'must_include': {'word': '아키텍처', 'link': 'https://www.google.com/search?sca_esv=3481189b07e67a2a&gl=us&hl=en&q=RAG+%22%EC%95%84%ED%82%A4%ED%85%8D%EC%B2%98%22+%EB%9E%80+%EB%AC%B4%EC%97%87%EC%9D%B8%EA%B0%80&sa=X&ved=2ahUKEwjPv7mtxq-PAxWGqJUCHaxYHEYQ5t4CegQIMxA0'}, 'video_link': 'https://encrypted-vtbn0.gstatic.com/video?q=tbn:ANd9GcSUcdT1HsFRAJ_IfKUhSYeOxcFJcNct3xUwvA', 'source': 'YouTube · 개발동생'}], 'related_searches': [{'block_position': 1, 'query': 'rag 파인튜닝 차이', 'link': 'https://www.google.com/search?sca_esv=3481189b07e67a2a&gl=us&hl=en&q=rag+%ED%8C%8C%EC%9D%B8%ED%8A%9C%EB%8B%9D+%EC%B0%A8%EC%9D%B4&sa=X&ved=2ahUKEwjPv7mtxq-PAxWGqJUCHaxYHEYQ1QJ6BAgyEAE', 'serpapi_link': 'https://serpapi.com/search.json?device=desktop&engine=google&gl=us&google_domain=google.com&hl=en&q=rag+%ED%8C%8C%EC%9D%B8%ED%8A%9C%EB%8B%9D+%EC%B0%A8%EC%9D%B4'}, {'block_position': 1, 'query': 'rag retrieval-augmented generation 란', 'link': 'https://www.google.com/search?sca_esv=3481189b07e67a2a&gl=us&hl=en&q=rag+retrieval-augmented+generation+%EB%9E%80&sa=X&ved=2ahUKEwjPv7mtxq-PAxWGqJUCHaxYHEYQ1QJ6BAg2EAE', 'serpapi_link': 'https://serpapi.com/search.json?device=desktop&engine=google&gl=us&google_domain=google.com&hl=en&q=rag+retrieval-augmented+generation+%EB%9E%80'}, {'block_position': 1, 'query': 'RAG 아키텍처', 'link': 'https://www.google.com/search?sca_esv=3481189b07e67a2a&gl=us&hl=en&q=RAG+%EC%95%84%ED%82%A4%ED%85%8D%EC%B2%98&sa=X&ved=2ahUKEwjPv7mtxq-PAxWGqJUCHaxYHEYQ1QJ6BAg6EAE', 'serpapi_link': 'https://serpapi.com/search.json?device=desktop&engine=google&gl=us&google_domain=google.com&hl=en&q=RAG+%EC%95%84%ED%82%A4%ED%85%8D%EC%B2%98'}, {'block_position': 1, 'query': 'rag란', 'link': 'https://www.google.com/search?sca_esv=3481189b07e67a2a&gl=us&hl=en&q=rag%EB%9E%80&sa=X&ved=2ahUKEwjPv7mtxq-PAxWGqJUCHaxYHEYQ1QJ6BAg4EAE', 'serpapi_link': 'https://serpapi.com/search.json?device=desktop&engine=google&gl=us&google_domain=google.com&hl=en&q=rag%EB%9E%80'}, {'block_position': 1, 'query': 'llm rag란', 'link': 'https://www.google.com/search?sca_esv=3481189b07e67a2a&gl=us&hl=en&q=llm+rag%EB%9E%80&sa=X&ved=2ahUKEwjPv7mtxq-PAxWGqJUCHaxYHEYQ1QJ6BAg5EAE', 'serpapi_link': 'https://serpapi.com/search.json?device=desktop&engine=google&gl=us&google_domain=google.com&hl=en&q=llm+rag%EB%9E%80'}, {'block_position': 1, 'query': 'rag 읽는법', 'link': 'https://www.google.com/search?sca_esv=3481189b07e67a2a&gl=us&hl=en&q=rag+%EC%9D%BD%EB%8A%94%EB%B2%95&sa=X&ved=2ahUKEwjPv7mtxq-PAxWGqJUCHaxYHEYQ1QJ6BAg3EAE', 'serpapi_link': 'https://serpapi.com/search.json?device=desktop&engine=google&gl=us&google_domain=google.com&hl=en&q=rag+%EC%9D%BD%EB%8A%94%EB%B2%95'}, {'block_position': 1, 'query': 'rag 오픈소스', 'link': 'https://www.google.com/search?sca_esv=3481189b07e67a2a&gl=us&hl=en&q=rag+%EC%98%A4%ED%94%88%EC%86%8C%EC%8A%A4&sa=X&ved=2ahUKEwjPv7mtxq-PAxWGqJUCHaxYHEYQ1QJ6BAg1EAE', 'serpapi_link': 'https://serpapi.com/search.json?device=desktop&engine=google&gl=us&google_domain=google.com&hl=en&q=rag+%EC%98%A4%ED%94%88%EC%86%8C%EC%8A%A4'}, {'block_position': 1, 'query': 'RAG 예시', 'link': 'https://www.google.com/search?sca_esv=3481189b07e67a2a&gl=us&hl=en&q=RAG+%EC%98%88%EC%8B%9C&sa=X&ved=2ahUKEwjPv7mtxq-PAxWGqJUCHaxYHEYQ1QJ6BAg0EAE', 'serpapi_link': 'https://serpapi.com/search.json?device=desktop&engine=google&gl=us&google_domain=google.com&hl=en&q=RAG+%EC%98%88%EC%8B%9C'}], 'pagination': {'current': 1, 'next': 'https://www.google.com/search?q=RAG+%EC%95%84%ED%82%A4%ED%85%8D%EC%B2%98%EB%9E%80+%EB%AC%B4%EC%97%87%EC%9D%B8%EA%B0%80&sca_esv=3481189b07e67a2a&gl=us&hl=en&ei=z12xaI-cGobR1sQPrLHxsAQ&start=10&sa=N&sstk=Ac65TH5oBGDnoj0dnGNxSqnI8rc_xHSwVoSy2amWSkqki_YvWSeqivNz7EatDVssbRRVRQ1-EFZMCt4b1e9zojJEKaEaOHtYT2ohYQ&ved=2ahUKEwjPv7mtxq-PAxWGqJUCHaxYHEYQ8NMDegQICxAW', 'other_pages': {'2': 'https://www.google.com/search?q=RAG+%EC%95%84%ED%82%A4%ED%85%8D%EC%B2%98%EB%9E%80+%EB%AC%B4%EC%97%87%EC%9D%B8%EA%B0%80&sca_esv=3481189b07e67a2a&gl=us&hl=en&ei=z12xaI-cGobR1sQPrLHxsAQ&start=10&sa=N&sstk=Ac65TH5oBGDnoj0dnGNxSqnI8rc_xHSwVoSy2amWSkqki_YvWSeqivNz7EatDVssbRRVRQ1-EFZMCt4b1e9zojJEKaEaOHtYT2ohYQ&ved=2ahUKEwjPv7mtxq-PAxWGqJUCHaxYHEYQ8tMDegQICxAE', '3': 'https://www.google.com/search?q=RAG+%EC%95%84%ED%82%A4%ED%85%8D%EC%B2%98%EB%9E%80+%EB%AC%B4%EC%97%87%EC%9D%B8%EA%B0%80&sca_esv=3481189b07e67a2a&gl=us&hl=en&ei=z12xaI-cGobR1sQPrLHxsAQ&start=20&sa=N&sstk=Ac65TH5oBGDnoj0dnGNxSqnI8rc_xHSwVoSy2amWSkqki_YvWSeqivNz7EatDVssbRRVRQ1-EFZMCt4b1e9zojJEKaEaOHtYT2ohYQ&ved=2ahUKEwjPv7mtxq-PAxWGqJUCHaxYHEYQ8tMDegQICxAG', '4': 'https://www.google.com/search?q=RAG+%EC%95%84%ED%82%A4%ED%85%8D%EC%B2%98%EB%9E%80+%EB%AC%B4%EC%97%87%EC%9D%B8%EA%B0%80&sca_esv=3481189b07e67a2a&gl=us&hl=en&ei=z12xaI-cGobR1sQPrLHxsAQ&start=30&sa=N&sstk=Ac65TH5oBGDnoj0dnGNxSqnI8rc_xHSwVoSy2amWSkqki_YvWSeqivNz7EatDVssbRRVRQ1-EFZMCt4b1e9zojJEKaEaOHtYT2ohYQ&ved=2ahUKEwjPv7mtxq-PAxWGqJUCHaxYHEYQ8tMDegQICxAI', '5': 'https://www.google.com/search?q=RAG+%EC%95%84%ED%82%A4%ED%85%8D%EC%B2%98%EB%9E%80+%EB%AC%B4%EC%97%87%EC%9D%B8%EA%B0%80&sca_esv=3481189b07e67a2a&gl=us&hl=en&ei=z12xaI-cGobR1sQPrLHxsAQ&start=40&sa=N&sstk=Ac65TH5oBGDnoj0dnGNxSqnI8rc_xHSwVoSy2amWSkqki_YvWSeqivNz7EatDVssbRRVRQ1-EFZMCt4b1e9zojJEKaEaOHtYT2ohYQ&ved=2ahUKEwjPv7mtxq-PAxWGqJUCHaxYHEYQ8tMDegQICxAK', '6': 'https://www.google.com/search?q=RAG+%EC%95%84%ED%82%A4%ED%85%8D%EC%B2%98%EB%9E%80+%EB%AC%B4%EC%97%87%EC%9D%B8%EA%B0%80&sca_esv=3481189b07e67a2a&gl=us&hl=en&ei=z12xaI-cGobR1sQPrLHxsAQ&start=50&sa=N&sstk=Ac65TH5oBGDnoj0dnGNxSqnI8rc_xHSwVoSy2amWSkqki_YvWSeqivNz7EatDVssbRRVRQ1-EFZMCt4b1e9zojJEKaEaOHtYT2ohYQ&ved=2ahUKEwjPv7mtxq-PAxWGqJUCHaxYHEYQ8tMDegQICxAM', '7': 'https://www.google.com/search?q=RAG+%EC%95%84%ED%82%A4%ED%85%8D%EC%B2%98%EB%9E%80+%EB%AC%B4%EC%97%87%EC%9D%B8%EA%B0%80&sca_esv=3481189b07e67a2a&gl=us&hl=en&ei=z12xaI-cGobR1sQPrLHxsAQ&start=60&sa=N&sstk=Ac65TH5oBGDnoj0dnGNxSqnI8rc_xHSwVoSy2amWSkqki_YvWSeqivNz7EatDVssbRRVRQ1-EFZMCt4b1e9zojJEKaEaOHtYT2ohYQ&ved=2ahUKEwjPv7mtxq-PAxWGqJUCHaxYHEYQ8tMDegQICxAO', '8': 'https://www.google.com/search?q=RAG+%EC%95%84%ED%82%A4%ED%85%8D%EC%B2%98%EB%9E%80+%EB%AC%B4%EC%97%87%EC%9D%B8%EA%B0%80&sca_esv=3481189b07e67a2a&gl=us&hl=en&ei=z12xaI-cGobR1sQPrLHxsAQ&start=70&sa=N&sstk=Ac65TH5oBGDnoj0dnGNxSqnI8rc_xHSwVoSy2amWSkqki_YvWSeqivNz7EatDVssbRRVRQ1-EFZMCt4b1e9zojJEKaEaOHtYT2ohYQ&ved=2ahUKEwjPv7mtxq-PAxWGqJUCHaxYHEYQ8tMDegQICxAQ', '9': 'https://www.google.com/search?q=RAG+%EC%95%84%ED%82%A4%ED%85%8D%EC%B2%98%EB%9E%80+%EB%AC%B4%EC%97%87%EC%9D%B8%EA%B0%80&sca_esv=3481189b07e67a2a&gl=us&hl=en&ei=z12xaI-cGobR1sQPrLHxsAQ&start=80&sa=N&sstk=Ac65TH5oBGDnoj0dnGNxSqnI8rc_xHSwVoSy2amWSkqki_YvWSeqivNz7EatDVssbRRVRQ1-EFZMCt4b1e9zojJEKaEaOHtYT2ohYQ&ved=2ahUKEwjPv7mtxq-PAxWGqJUCHaxYHEYQ8tMDegQICxAS', '10': 'https://www.google.com/search?q=RAG+%EC%95%84%ED%82%A4%ED%85%8D%EC%B2%98%EB%9E%80+%EB%AC%B4%EC%97%87%EC%9D%B8%EA%B0%80&sca_esv=3481189b07e67a2a&gl=us&hl=en&ei=z12xaI-cGobR1sQPrLHxsAQ&start=90&sa=N&sstk=Ac65TH5oBGDnoj0dnGNxSqnI8rc_xHSwVoSy2amWSkqki_YvWSeqivNz7EatDVssbRRVRQ1-EFZMCt4b1e9zojJEKaEaOHtYT2ohYQ&ved=2ahUKEwjPv7mtxq-PAxWGqJUCHaxYHEYQ8tMDegQICxAU'}}, 'serpapi_pagination': {'current': 1, 'next_link': 'https://serpapi.com/search.json?device=desktop&engine=google&gl=us&google_domain=google.com&hl=en&q=RAG+%EC%95%84%ED%82%A4%ED%85%8D%EC%B2%98%EB%9E%80+%EB%AC%B4%EC%97%87%EC%9D%B8%EA%B0%80&start=10', 'next': 'https://serpapi.com/search.json?device=desktop&engine=google&gl=us&google_domain=google.com&hl=en&q=RAG+%EC%95%84%ED%82%A4%ED%85%8D%EC%B2%98%EB%9E%80+%EB%AC%B4%EC%97%87%EC%9D%B8%EA%B0%80&start=10', 'other_pages': {'2': 'https://serpapi.com/search.json?device=desktop&engine=google&gl=us&google_domain=google.com&hl=en&q=RAG+%EC%95%84%ED%82%A4%ED%85%8D%EC%B2%98%EB%9E%80+%EB%AC%B4%EC%97%87%EC%9D%B8%EA%B0%80&start=10', '3': 'https://serpapi.com/search.json?device=desktop&engine=google&gl=us&google_domain=google.com&hl=en&q=RAG+%EC%95%84%ED%82%A4%ED%85%8D%EC%B2%98%EB%9E%80+%EB%AC%B4%EC%97%87%EC%9D%B8%EA%B0%80&start=20', '4': 'https://serpapi.com/search.json?device=desktop&engine=google&gl=us&google_domain=google.com&hl=en&q=RAG+%EC%95%84%ED%82%A4%ED%85%8D%EC%B2%98%EB%9E%80+%EB%AC%B4%EC%97%87%EC%9D%B8%EA%B0%80&start=30', '5': 'https://serpapi.com/search.json?device=desktop&engine=google&gl=us&google_domain=google.com&hl=en&q=RAG+%EC%95%84%ED%82%A4%ED%85%8D%EC%B2%98%EB%9E%80+%EB%AC%B4%EC%97%87%EC%9D%B8%EA%B0%80&start=40', '6': 'https://serpapi.com/search.json?device=desktop&engine=google&gl=us&google_domain=google.com&hl=en&q=RAG+%EC%95%84%ED%82%A4%ED%85%8D%EC%B2%98%EB%9E%80+%EB%AC%B4%EC%97%87%EC%9D%B8%EA%B0%80&start=50', '7': 'https://serpapi.com/search.json?device=desktop&engine=google&gl=us&google_domain=google.com&hl=en&q=RAG+%EC%95%84%ED%82%A4%ED%85%8D%EC%B2%98%EB%9E%80+%EB%AC%B4%EC%97%87%EC%9D%B8%EA%B0%80&start=60', '8': 'https://serpapi.com/search.json?device=desktop&engine=google&gl=us&google_domain=google.com&hl=en&q=RAG+%EC%95%84%ED%82%A4%ED%85%8D%EC%B2%98%EB%9E%80+%EB%AC%B4%EC%97%87%EC%9D%B8%EA%B0%80&start=70', '9': 'https://serpapi.com/search.json?device=desktop&engine=google&gl=us&google_domain=google.com&hl=en&q=RAG+%EC%95%84%ED%82%A4%ED%85%8D%EC%B2%98%EB%9E%80+%EB%AC%B4%EC%97%87%EC%9D%B8%EA%B0%80&start=80', '10': 'https://serpapi.com/search.json?device=desktop&engine=google&gl=us&google_domain=google.com&hl=en&q=RAG+%EC%95%84%ED%82%A4%ED%85%8D%EC%B2%98%EB%9E%80+%EB%AC%B4%EC%97%87%EC%9D%B8%EA%B0%80&start=90'}}}\n"
     ]
    }
   ],
   "source": [
    "# https://serpapi.com 검색 API 동작 테스트 (모든 상세한 검색, 구조화 응답 제공)\n",
    "# 참고로 https://serper.dev 는 다른 사이트입니다. (경량화 요약 검색 제공)\n",
    "from serpapi import GoogleSearch\n",
    "\n",
    "params = {\n",
    "    \"engine\": \"google\",\n",
    "    \"q\": \"RAG 아키텍처란 무엇인가\",\n",
    "    \"api_key\": \"9c61eeb3bac82aea465b08d257b1a419dbf02d1734808b80cae1e881ae796196\"\n",
    "}\n",
    "search = GoogleSearch(params)\n",
    "print(search.get_dict())  # 전체 응답 확인\n"
   ]
  }
 ],
 "metadata": {
  "kernelspec": {
   "display_name": "llm",
   "language": "python",
   "name": "python3"
  },
  "language_info": {
   "codemirror_mode": {
    "name": "ipython",
    "version": 3
   },
   "file_extension": ".py",
   "mimetype": "text/x-python",
   "name": "python",
   "nbconvert_exporter": "python",
   "pygments_lexer": "ipython3",
   "version": "3.11.13"
  }
 },
 "nbformat": 4,
 "nbformat_minor": 2
}
