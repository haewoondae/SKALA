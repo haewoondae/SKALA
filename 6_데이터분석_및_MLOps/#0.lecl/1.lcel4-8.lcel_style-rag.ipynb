{
 "cells": [
  {
   "cell_type": "code",
   "execution_count": 1,
   "metadata": {},
   "outputs": [
    {
     "name": "stdout",
     "output_type": "stream",
     "text": [
      "[정보: {'title': '인셉션', 'director': '크리스토퍼 놀란', 'main_actors': ['레오나르도 디카프리오', '조셉 고든 레빗', '엘렌 페이지'], 'release_year': 2010}] -> [질문: 이 영화의 주연 배우는 누구야?] -> [응답: 레오나르도 디카프리오, 조셉 고든 레빗, 엘렌 페이지]\n"
     ]
    }
   ],
   "source": [
    "def answer_question_lcel(info, question):\n",
    "    \"\"\" 주어진 정보에서 질문에 대한 답을 찾기 \"\"\"\n",
    "    try:\n",
    "        # 질문 유형에 따른 응답 생성\n",
    "        if \"감독\" in question:\n",
    "            answer = info.get(\"director\", \"정보 없음\")\n",
    "        elif \"주연 배우\" in question:\n",
    "            answer = \", \".join(info.get(\"main_actors\", [\"정보 없음\"]))\n",
    "        elif \"개봉 연도\" in question:\n",
    "            answer = info.get(\"release_year\", \"정보 없음\")\n",
    "        else:\n",
    "            answer = \"해당 질문에 대한 정보를 찾을 수 없습니다.\"\n",
    "        \n",
    "        # LCEL 스타일 변환\n",
    "        return f\"[정보: {info}] -> [질문: {question}] -> [응답: {answer}]\"\n",
    "\n",
    "    except Exception as e:\n",
    "        return f\"[오류 발생] -> {str(e)}\"\n",
    "\n",
    "# 예제 실행\n",
    "movie_info = {\n",
    "    \"title\": \"인셉션\",\n",
    "    \"director\": \"크리스토퍼 놀란\",\n",
    "    \"main_actors\": [\"레오나르도 디카프리오\", \"조셉 고든 레빗\", \"엘렌 페이지\"],\n",
    "    \"release_year\": 2010\n",
    "}\n",
    "\n",
    "question = \"이 영화의 주연 배우는 누구야?\"\n",
    "lcel_output = answer_question_lcel(movie_info, question)\n",
    "print(lcel_output)\n"
   ]
  }
 ],
 "metadata": {
  "kernelspec": {
   "display_name": "base",
   "language": "python",
   "name": "python3"
  },
  "language_info": {
   "codemirror_mode": {
    "name": "ipython",
    "version": 3
   },
   "file_extension": ".py",
   "mimetype": "text/x-python",
   "name": "python",
   "nbconvert_exporter": "python",
   "pygments_lexer": "ipython3",
   "version": "3.11.5"
  }
 },
 "nbformat": 4,
 "nbformat_minor": 2
}
