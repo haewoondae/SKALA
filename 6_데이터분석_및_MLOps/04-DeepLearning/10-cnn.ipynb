{
 "cells": [
  {
   "cell_type": "code",
   "execution_count": 3,
   "metadata": {},
   "outputs": [],
   "source": [
    "# !pip install torch\n",
    "# !pip install torchvision"
   ]
  },
  {
   "cell_type": "code",
   "execution_count": 4,
   "metadata": {},
   "outputs": [],
   "source": [
    "import warnings\n",
    "\n",
    "warnings.filterwarnings(\"ignore\")\n",
    "\n",
    "import torch\n",
    "import torch.nn as nn\n",
    "import torch.optim as optim\n",
    "import torchvision\n",
    "import torchvision.transforms as transforms\n",
    "\n",
    "import matplotlib.pyplot as plt"
   ]
  },
  {
   "cell_type": "markdown",
   "metadata": {},
   "source": [
    "# Data Loading\n",
    "\n",
    "[data] MNIST\n",
    "\n",
    "https://en.wikipedia.org/wiki/MNIST_database"
   ]
  },
  {
   "cell_type": "code",
   "execution_count": 5,
   "metadata": {},
   "outputs": [],
   "source": [
    "transform = transforms.Compose(\n",
    "    [\n",
    "        transforms.ToTensor(),\n",
    "        transforms.Normalize(\n",
    "            (0.5,),  # 평균 0.5\n",
    "            (0.5,),  # 표준편차 0.5\n",
    "        ),\n",
    "    ]\n",
    ")"
   ]
  },
  {
   "cell_type": "code",
   "execution_count": 6,
   "metadata": {},
   "outputs": [
    {
     "name": "stderr",
     "output_type": "stream",
     "text": [
      "100%|██████████| 9.91M/9.91M [00:02<00:00, 3.34MB/s]\n",
      "100%|██████████| 28.9k/28.9k [00:00<00:00, 160kB/s]\n",
      "100%|██████████| 1.65M/1.65M [00:01<00:00, 1.13MB/s]\n",
      "100%|██████████| 4.54k/4.54k [00:00<00:00, 1.49MB/s]\n"
     ]
    }
   ],
   "source": [
    "train_set = torchvision.datasets.MNIST(\n",
    "    root=\"./data\",\n",
    "    train=True,\n",
    "    download=True,\n",
    "    transform=transform,\n",
    ")\n",
    "\n",
    "test_set = torchvision.datasets.MNIST(\n",
    "    root=\"./data\",\n",
    "    train=False,\n",
    "    download=True,\n",
    "    transform=transform,\n",
    ")"
   ]
  },
  {
   "cell_type": "code",
   "execution_count": 7,
   "metadata": {},
   "outputs": [
    {
     "name": "stdout",
     "output_type": "stream",
     "text": [
      "train_set size: 60000\n",
      "test_set size: 10000\n"
     ]
    }
   ],
   "source": [
    "print(f\"train_set size: {len(train_set)}\")\n",
    "print(f\"test_set size: {len(test_set)}\")"
   ]
  },
  {
   "cell_type": "code",
   "execution_count": 8,
   "metadata": {},
   "outputs": [
    {
     "name": "stdout",
     "output_type": "stream",
     "text": [
      "0번째 데이터 라벨: 5\n",
      "1번째 데이터 라벨: 0\n",
      "2번째 데이터 라벨: 4\n",
      "3번째 데이터 라벨: 1\n",
      "4번째 데이터 라벨: 9\n"
     ]
    }
   ],
   "source": [
    "for i in range(5):\n",
    "    _, label = train_set[i]\n",
    "    print(f\"{i}번째 데이터 라벨: {label}\")"
   ]
  },
  {
   "cell_type": "code",
   "execution_count": 9,
   "metadata": {},
   "outputs": [
    {
     "name": "stdout",
     "output_type": "stream",
     "text": [
      "Unique labels in train_set: {0, 1, 2, 3, 4, 5, 6, 7, 8, 9}\n",
      "Unique labels in test_set: {0, 1, 2, 3, 4, 5, 6, 7, 8, 9}\n"
     ]
    }
   ],
   "source": [
    "unique_labels_train = set([train_set[i][1] for i in range(len(train_set))])\n",
    "unique_labels_test = set([test_set[i][1] for i in range(len(test_set))])\n",
    "\n",
    "print(f\"Unique labels in train_set: {unique_labels_train}\")\n",
    "print(f\"Unique labels in test_set: {unique_labels_test}\")"
   ]
  },
  {
   "cell_type": "code",
   "execution_count": 10,
   "metadata": {},
   "outputs": [
    {
     "name": "stdout",
     "output_type": "stream",
     "text": [
      "라벨 분포: tensor([5923, 6742, 5958, 6131, 5842, 5421, 5918, 6265, 5851, 5949])\n"
     ]
    }
   ],
   "source": [
    "labels = [train_set[i][1] for i in range(len(train_set))]\n",
    "print(f\"라벨 분포: {torch.bincount(torch.tensor(labels))}\")"
   ]
  },
  {
   "cell_type": "code",
   "execution_count": 11,
   "metadata": {},
   "outputs": [],
   "source": [
    "train_loader = torch.utils.data.DataLoader(\n",
    "    train_set,\n",
    "    batch_size=32,\n",
    "    shuffle=True,\n",
    ")\n",
    "\n",
    "test_loader = torch.utils.data.DataLoader(\n",
    "    test_set,\n",
    "    batch_size=32,\n",
    "    shuffle=False,\n",
    ")"
   ]
  },
  {
   "cell_type": "markdown",
   "metadata": {},
   "source": [
    "- batch_size \n",
    "    - 한 번에 모델 업데이트에 사용되는 데이터 개수 \n",
    "    - 보통 32, 64, 128 같은 2의 배수를 많이 사용함 -> 32가 비교적 안정적인 기본값으로 활용 \n",
    "    - GPU 연산 구조 상 2의 배수일 때 속도가 효율적인 경우가 많음 \n",
    "    - (참고) DataLoader, `drop_last`\n",
    "        - `False` : 마지막에 남는 데이터까지 작은 배치로 묶어서 반환 (default)\n",
    "        - `True` : 마지막에 32개가 다 채워지지 않으면, 해당 배치는 버려짐 \n",
    "\n",
    "- shuffle\n",
    "    - train \n",
    "        - 데이터가 항상 같은 순서로 들어가면 특정 패턴에 치우칠 수 있음 (과적합 위험 있음) \n",
    "        - epoch 마다 데이터 순서를 섞어줘서 학습이 다양하게 되도록 함 \n",
    "    - test\n",
    "        - 평가 목적이므로 굳이 섞을 필요 없음 \n",
    "        - 모든 데이터를 그대로 순서대로 넣어 정확도만 확인하면 됨 "
   ]
  },
  {
   "cell_type": "code",
   "execution_count": 12,
   "metadata": {},
   "outputs": [
    {
     "data": {
      "image/png": "[encoded data removed]",
      "text/plain": [
       "<Figure size 640x480 with 1 Axes>"
      ]
     },
     "metadata": {},
     "output_type": "display_data"
    }
   ],
   "source": [
    "a_data, a_label = train_set[100]\n",
    "\n",
    "plt.imshow(a_data.squeeze(), cmap=\"gray\")\n",
    "plt.title(f\"Label: {a_label}\")\n",
    "plt.show()"
   ]
  },
  {
   "cell_type": "code",
   "execution_count": 13,
   "metadata": {},
   "outputs": [
    {
     "data": {
      "text/plain": [
       "torch.Size([1, 28, 28])"
      ]
     },
     "execution_count": 13,
     "metadata": {},
     "output_type": "execute_result"
    }
   ],
   "source": [
    "a_data.shape"
   ]
  },
  {
   "cell_type": "markdown",
   "metadata": {},
   "source": [
    "# Architecture"
   ]
  },
  {
   "cell_type": "code",
   "execution_count": 14,
   "metadata": {},
   "outputs": [],
   "source": [
    "class CNN(nn.Module):\n",
    "    def __init__(self):\n",
    "        super(CNN, self).__init__()\n",
    "        self.conv1 = nn.Conv2d(1, 32, kernel_size=3, padding=1)\n",
    "        self.pool = nn.MaxPool2d(kernel_size=2, stride=2)\n",
    "        self.conv2 = nn.Conv2d(32, 64, kernel_size=3, padding=1)\n",
    "        self.fc1 = nn.Linear(64 * 7 * 7, 128)\n",
    "        self.fc2 = nn.Linear(128, 10)\n",
    "\n",
    "    def forward(self, x):\n",
    "        x = self.pool(torch.relu(self.conv1(x)))\n",
    "        x = self.pool(torch.relu(self.conv2(x)))\n",
    "        x = x.view(-1, 64 * 7 * 7)\n",
    "        x = torch.relu(self.fc1(x))\n",
    "        x = self.fc2(x)\n",
    "        return x"
   ]
  },
  {
   "cell_type": "markdown",
   "metadata": {},
   "source": [
    "- __init__ : 모델의 뼈대 만들기 \n",
    "    - conv1 : 입력 채널수 1, 출력 채널수 32 => 입력(28 * 28) -> 출력(28 * 28, 채널 32개)\n",
    "    - pool : 2 * 2 크기로 가장 큰 값만 남김 => 입력(28 * 28) -> 출력(14 * 14)\n",
    "    - conv2 : 입력 채널 32, 출력 채널수 64 ==> 입력(14 * 14, 채널 32개) -> 출력(14 * 14, 채널 64개)\n",
    "    - fc1 : 7 * 7 사이즈로 줄어든 특징맵 64개를 1차원으로 펼침 ==> 64 * 7 * 7=3136개를 128개 뉴런으로 변환 \n",
    "    - fc2 : 128개 뉴런을 10개로 줄임 (10개 = 최종 라벨 개수)\n",
    "\n",
    "- forward : 실제 데이터가 지나가는 길 \n",
    "    - 입력 이미지 x (28 * 28) 들어오면...\n",
    "    - conv1(x) : 32채널 28 * 28 출력 \n",
    "    - pool : 32채널 14 * 14 출력 \n",
    "    - conv2(x) : 64채널 14 * 14 출력 \n",
    "    - pool : 64채널 7 * 7 출력 \n",
    "    - x.view() : Flatten 처리 -> (batch_size, 64 * 7 * 7)\n",
    "    - fc1(x) : 128개 뉴런 출력 \n",
    "    - fc2(x) : 10개 뉴런 출력 \n",
    "\n",
    "- 모델 흐름 \n",
    "\n",
    "| Layer | Input size | Output size | Desc | \n",
    "|-------|------------|-------------|------|\n",
    "| Conv1 + ReLU | (28, 28, 1) | (28, 28, 32) | 특징 추출 |\n",
    "| MaxPool | (28, 28, 32) | (14, 14, 32) | 차원 축소 |\n",
    "| Conv2 + ReLU | (14, 14, 32) | (14, 14, 64) | 더 깊은 특징 추출 |\n",
    "| Maxpool | (14, 14, 64) | (7, 7, 64) | 차원 축소 |\n",
    "| Flatten | (7, 7, 64) | (3136, ) | 펼치기 (2D->1D 변환) |\n",
    "| fc1 + ReLU | (3136, ) | (128,) | 특징 결합 |\n",
    "| fc2  | (128, ) | (10,) | 라벨 분류 (0~9 라벨) |"
   ]
  },
  {
   "cell_type": "markdown",
   "metadata": {},
   "source": [
    "# Training"
   ]
  },
  {
   "cell_type": "markdown",
   "metadata": {},
   "source": [
    "#### Setting"
   ]
  },
  {
   "cell_type": "code",
   "execution_count": 15,
   "metadata": {},
   "outputs": [],
   "source": [
    "lr = 0.001"
   ]
  },
  {
   "cell_type": "code",
   "execution_count": 16,
   "metadata": {},
   "outputs": [],
   "source": [
    "device = torch.device(\"cuda\" if torch.cuda.is_available() else \"cpu\")"
   ]
  },
  {
   "cell_type": "code",
   "execution_count": 17,
   "metadata": {},
   "outputs": [],
   "source": [
    "model = CNN().to(device)\n",
    "criterion = nn.CrossEntropyLoss()\n",
    "optimizer = optim.Adam(model.parameters(), lr=lr)"
   ]
  },
  {
   "cell_type": "markdown",
   "metadata": {},
   "source": [
    "### Training"
   ]
  },
  {
   "cell_type": "code",
   "execution_count": 18,
   "metadata": {},
   "outputs": [],
   "source": [
    "num_epochs = 10\n",
    "train_losses = []"
   ]
  },
  {
   "cell_type": "markdown",
   "metadata": {},
   "source": [
    "**Training 단계**\n",
    "\n",
    "- `optimizer.zero_grad()` : 기울기 초기화 (이전 스텝 영향 제거) \n",
    "- `loss.backward()` : 오차(손실)에 대한 기울기 계산 \n",
    "- `optimizer.step()` : 계산 기울기 기반으로 가중치 업데이트 \n",
    "- loss 처리 \n",
    "    - running_loss : 단계별 loss 누적 합 \n",
    "    - len(train_loader) = batch 개수 \n",
    "    - 나눠서 얻는 값 : epoch loss average "
   ]
  },
  {
   "cell_type": "code",
   "execution_count": 19,
   "metadata": {},
   "outputs": [
    {
     "name": "stdout",
     "output_type": "stream",
     "text": [
      "Epoch 1, Loss: 0.1271\n",
      "Epoch 2, Loss: 0.0408\n",
      "Epoch 3, Loss: 0.0273\n",
      "Epoch 4, Loss: 0.0201\n",
      "Epoch 5, Loss: 0.0144\n",
      "Epoch 6, Loss: 0.0121\n",
      "Epoch 7, Loss: 0.0095\n",
      "Epoch 8, Loss: 0.0091\n",
      "Epoch 9, Loss: 0.0081\n",
      "Epoch 10, Loss: 0.0062\n"
     ]
    }
   ],
   "source": [
    "for epoch in range(num_epochs):\n",
    "    running_loss = 0.0\n",
    "\n",
    "    for i, (inputs, labels) in enumerate(train_loader):\n",
    "        inputs, labels = inputs.to(device), labels.to(device)\n",
    "\n",
    "        optimizer.zero_grad()\n",
    "        outputs = model(inputs)\n",
    "        loss = criterion(outputs, labels)\n",
    "        loss.backward()\n",
    "        optimizer.step()\n",
    "\n",
    "        running_loss += loss.item()\n",
    "        \n",
    "    train_losses.append(running_loss / len(train_loader))\n",
    "\n",
    "    print(f\"Epoch {epoch + 1}, Loss: {running_loss / len(train_loader):.4f}\")"
   ]
  },
  {
   "cell_type": "markdown",
   "metadata": {},
   "source": [
    "# Evaluation"
   ]
  },
  {
   "cell_type": "code",
   "execution_count": 20,
   "metadata": {},
   "outputs": [],
   "source": [
    "correct = 0\n",
    "total = 0\n",
    "misclassified_samples = []"
   ]
  },
  {
   "cell_type": "code",
   "execution_count": 21,
   "metadata": {},
   "outputs": [
    {
     "name": "stdout",
     "output_type": "stream",
     "text": [
      "Test Accuracy: 0.9914\n"
     ]
    }
   ],
   "source": [
    "# eval 단계에서는 gradient 계산 불필요\n",
    "with torch.no_grad():\n",
    "    for inputs, labels in test_loader:\n",
    "        inputs, labels = inputs.to(device), labels.to(device)\n",
    "        outputs = model(inputs)\n",
    "\n",
    "        # 가장 높은 확률을 가진 클래스 선택 \n",
    "        _, predicted = torch.max(outputs, 1)\n",
    "\n",
    "        # 전체 샘플수 누적 \n",
    "        total += labels.size(0)\n",
    "\n",
    "        # 정답과 예측이 일치하는 샘플수 누적 \n",
    "        correct += (predicted == labels).sum().item()\n",
    "\n",
    "        # 오분류 샘플의 인덱스 추출 \n",
    "        misclassified = (predicted != labels).nonzero(as_tuple=True)[0]\n",
    "\n",
    "        # 오분류 샘플 취합 (입력데이터, 예측값, 실제값) \n",
    "        for idx in misclassified:\n",
    "            misclassified_samples.append(\n",
    "                (inputs[idx].cpu(), predicted[idx].cpu(), labels[idx].cpu())\n",
    "            )\n",
    "\n",
    "accuracy = correct / total\n",
    "print(f\"Test Accuracy: {accuracy:.4f}\")"
   ]
  },
  {
   "cell_type": "markdown",
   "metadata": {},
   "source": [
    "## Training Loss"
   ]
  },
  {
   "cell_type": "code",
   "execution_count": 22,
   "metadata": {},
   "outputs": [
    {
     "data": {
      "image/png": "[encoded data removed]",
      "text/plain": [
       "<Figure size 640x480 with 1 Axes>"
      ]
     },
     "metadata": {},
     "output_type": "display_data"
    }
   ],
   "source": [
    "plt.plot(train_losses, label=\"Training Loss\")\n",
    "\n",
    "plt.title(\"Training Loss over Epochs\")\n",
    "plt.xlabel(\"Epochs\")\n",
    "plt.ylabel(\"Loss\")\n",
    "plt.legend()\n",
    "plt.show()"
   ]
  },
  {
   "cell_type": "markdown",
   "metadata": {},
   "source": [
    "## Results"
   ]
  },
  {
   "cell_type": "code",
   "execution_count": 23,
   "metadata": {},
   "outputs": [
    {
     "data": {
      "image/png": "[encoded data removed]",
      "text/plain": [
       "<Figure size 640x480 with 1 Axes>"
      ]
     },
     "metadata": {},
     "output_type": "display_data"
    },
    {
     "data": {
      "image/png": "[encoded data removed]",
      "text/plain": [
       "<Figure size 640x480 with 1 Axes>"
      ]
     },
     "metadata": {},
     "output_type": "display_data"
    }
   ],
   "source": [
    "correct_sample = None\n",
    "for i in range(len(test_set)):\n",
    "    img, label = test_set[i]\n",
    "    img_tensor = img.unsqueeze(0).to(device)\n",
    "    output = model(img_tensor)\n",
    "    _, pred = torch.max(output, 1)\n",
    "    if pred.item() == label:\n",
    "        correct_sample = (img, label, pred.item())\n",
    "        break\n",
    "\n",
    "if correct_sample:\n",
    "    plt.imshow(correct_sample[0].squeeze(), cmap=\"gray\")\n",
    "    plt.title(f\"Correct: {correct_sample[1]}, Predicted: {correct_sample[2]}\")\n",
    "    plt.show()\n",
    "\n",
    "# 틀린 것\n",
    "if misclassified_samples:\n",
    "    img, pred, label = misclassified_samples[0]\n",
    "    plt.imshow(img.squeeze(), cmap=\"gray\")\n",
    "    plt.title(f\"Wrong: {label}, Predicted: {pred}\")\n",
    "    plt.show()"
   ]
  },
  {
   "cell_type": "markdown",
   "metadata": {},
   "source": [
    "# End of Documents"
   ]
  }
 ],
 "metadata": {
  "kernelspec": {
   "display_name": "Python 3",
   "language": "python",
   "name": "python3"
  },
  "language_info": {
   "codemirror_mode": {
    "name": "ipython",
    "version": 3
   },
   "file_extension": ".py",
   "mimetype": "text/x-python",
   "name": "python",
   "nbconvert_exporter": "python",
   "pygments_lexer": "ipython3",
   "version": "3.11.9"
  }
 },
 "nbformat": 4,
 "nbformat_minor": 2
}
