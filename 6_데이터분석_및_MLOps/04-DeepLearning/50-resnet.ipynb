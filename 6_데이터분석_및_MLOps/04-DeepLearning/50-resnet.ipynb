{
 "cells": [
  {
   "cell_type": "code",
   "execution_count": 1,
   "metadata": {},
   "outputs": [],
   "source": [
    "# !pip install torch\n",
    "# !pip install torchvision"
   ]
  },
  {
   "cell_type": "code",
   "execution_count": 1,
   "metadata": {},
   "outputs": [],
   "source": [
    "import warnings\n",
    "\n",
    "warnings.filterwarnings(\"ignore\")\n",
    "\n",
    "import torch\n",
    "import torch.nn as nn\n",
    "import torch.nn.functional as F\n",
    "import torch.optim as optim\n",
    "from torchvision import datasets, transforms\n",
    "from torch.utils.data import DataLoader\n",
    "\n",
    "import matplotlib.pyplot as plt"
   ]
  },
  {
   "cell_type": "markdown",
   "metadata": {},
   "source": [
    "# Data Definition"
   ]
  },
  {
   "cell_type": "code",
   "execution_count": 2,
   "metadata": {},
   "outputs": [],
   "source": [
    "transform = transforms.Compose(\n",
    "    [\n",
    "        transforms.ToTensor(),\n",
    "        transforms.Normalize(\n",
    "            (0.1307,),\n",
    "            (0.3801),\n",
    "        ),\n",
    "    ]\n",
    ")"
   ]
  },
  {
   "cell_type": "code",
   "execution_count": 3,
   "metadata": {},
   "outputs": [],
   "source": [
    "train_set = datasets.MNIST(\n",
    "    root=\"./data\",\n",
    "    train=True,\n",
    "    download=False,\n",
    "    transform=transform,\n",
    ")\n",
    "\n",
    "test_set = datasets.MNIST(\n",
    "    root=\"./data\",\n",
    "    train=False,\n",
    "    download=False,\n",
    "    transform=transform,\n",
    ")"
   ]
  },
  {
   "cell_type": "code",
   "execution_count": 4,
   "metadata": {},
   "outputs": [],
   "source": [
    "train_loader = DataLoader(\n",
    "    train_set,\n",
    "    batch_size=64,\n",
    "    shuffle=True,\n",
    ")\n",
    "\n",
    "test_loader = DataLoader(\n",
    "    test_set,\n",
    "    batch_size=1000,\n",
    "    shuffle=False,\n",
    ")"
   ]
  },
  {
   "cell_type": "markdown",
   "metadata": {},
   "source": [
    "# Architecture"
   ]
  },
  {
   "cell_type": "code",
   "execution_count": null,
   "metadata": {},
   "outputs": [],
   "source": [
    "# --- Residual Block ---\n",
    "class ResidualBlock(nn.Module):\n",
    "    def __init__(self, in_channels, out_channels, stride=1):\n",
    "        super(ResidualBlock, self).__init__()\n",
    "        # 첫 번째 convolution layer\n",
    "        self.conv1 = nn.Conv2d(\n",
    "            in_channels,\n",
    "            out_channels,\n",
    "            kernel_size=3,\n",
    "            stride=stride,\n",
    "            padding=1,\n",
    "            bias=False,\n",
    "        )\n",
    "        self.bn1 = nn.BatchNorm2d(out_channels)\n",
    "\n",
    "        # 두 번째 convolution layer\n",
    "        self.conv2 = nn.Conv2d(\n",
    "            out_channels, out_channels, kernel_size=3, stride=1, padding=1, bias=False\n",
    "        )\n",
    "        self.bn2 = nn.BatchNorm2d(out_channels)\n",
    "\n",
    "        # skip connection 경로: 입력과 출력 채널 수/stride가 다를 경우 조정\n",
    "        self.shortcut = nn.Sequential()\n",
    "\n",
    "        ## 텐서 크기가 다른 경우 그냥 더할 수 없기 때문에 Conv 레이어 통해 맞춰줌 -> 변환 연산\n",
    "        if stride != 1 or in_channels != out_channels:\n",
    "            self.shortcut = nn.Sequential(\n",
    "                nn.Conv2d(\n",
    "                    in_channels, out_channels, kernel_size=1, stride=stride, bias=False\n",
    "                ),\n",
    "                nn.BatchNorm2d(out_channels),\n",
    "            )\n",
    "\n",
    "    def forward(self, x):\n",
    "        # 기본 경로: Conv -> BN -> ReLU -> Conv -> BN\n",
    "        out = F.relu(self.bn1(self.conv1(x)))\n",
    "        out = self.bn2(self.conv2(out))\n",
    "\n",
    "        # 입력을 더하는 skip connection\n",
    "        out += self.shortcut(x)\n",
    "\n",
    "        return F.relu(out)"
   ]
  },
  {
   "cell_type": "code",
   "execution_count": null,
   "metadata": {},
   "outputs": [],
   "source": [
    "# --- ResNet for MNIST ---\n",
    "class ResNetMNIST(nn.Module):\n",
    "    def __init__(self):\n",
    "        super(ResNetMNIST, self).__init__()\n",
    "        self.conv1 = nn.Conv2d(1, 16, kernel_size=3, stride=1, padding=1, bias=False)\n",
    "        self.bn1 = nn.BatchNorm2d(16)\n",
    "\n",
    "        self.layer1 = ResidualBlock(16, 16)\n",
    "        self.layer2 = ResidualBlock(16, 32, stride=2)\n",
    "        self.layer3 = ResidualBlock(32, 64, stride=2)\n",
    "\n",
    "        self.avgpool = nn.AdaptiveAvgPool2d((1, 1))\n",
    "        self.fc = nn.Linear(64, 10)\n",
    "\n",
    "    def forward(self, x):\n",
    "        out = F.relu(self.bn1(self.conv1(x)))\n",
    "        out = self.layer1(out)\n",
    "        out = self.layer2(out)\n",
    "        out = self.layer3(out)\n",
    "        out = self.avgpool(out)\n",
    "        out = torch.flatten(out, 1)\n",
    "        out = self.fc(out)\n",
    "\n",
    "        return out"
   ]
  },
  {
   "cell_type": "markdown",
   "metadata": {},
   "source": [
    "# Training & Testing Functions"
   ]
  },
  {
   "cell_type": "code",
   "execution_count": 7,
   "metadata": {},
   "outputs": [],
   "source": [
    "train_losses = []\n",
    "test_accuracies = []"
   ]
  },
  {
   "cell_type": "code",
   "execution_count": null,
   "metadata": {},
   "outputs": [],
   "source": [
    "def train(model, device, train_loader, optimizer, criterion, epoch):\n",
    "    model.train()\n",
    "    running_loss = 0\n",
    "    for batch_idx, (data, target) in enumerate(train_loader):\n",
    "        data, target = data.to(device), target.to(device)\n",
    "\n",
    "        optimizer.zero_grad()\n",
    "        output = model(data)\n",
    "        loss = criterion(output, target)\n",
    "\n",
    "        loss.backward()\n",
    "        optimizer.step()\n",
    "\n",
    "        running_loss += loss.item()\n",
    "\n",
    "        if batch_idx % 100 == 0:\n",
    "            print(\n",
    "                f\"Train Epoch: {epoch} [{batch_idx * len(data)}/{len(train_loader.dataset)}\\tLoss: {loss.item():.6f}\"\n",
    "            )\n",
    "\n",
    "    avg_loss = running_loss / len(train_loader)\n",
    "    train_losses.append(avg_loss)"
   ]
  },
  {
   "cell_type": "code",
   "execution_count": null,
   "metadata": {},
   "outputs": [],
   "source": [
    "def test(model, device, test_loader, criterion):\n",
    "    model.eval()\n",
    "    test_loss = 0\n",
    "    correct = 0\n",
    "\n",
    "    with torch.no_grad():\n",
    "        for data, target in test_loader:\n",
    "            data, target = data.to(device), target.to(device)\n",
    "            output = model(data)\n",
    "            test_loss += criterion(output, target).item()\n",
    "            pred = output.argmax(dim=1, keepdim=True)\n",
    "            correct += pred.eq(target.view_as(pred)).sum().item()\n",
    "\n",
    "    test_loss /= len(test_loader.dataset)\n",
    "    accuracy = 100.0 * correct / len(test_loader.dataset)\n",
    "    test_accuracies.append(accuracy)\n",
    "\n",
    "    print(\n",
    "        f\"\\nTest set: Average loss: {test_loss:.4f}, Accuracy: {correct}/{len(test_loader.dataset)} ({accuracy:.2f}%)\\n\"\n",
    "    )"
   ]
  },
  {
   "cell_type": "code",
   "execution_count": 10,
   "metadata": {},
   "outputs": [
    {
     "name": "stdout",
     "output_type": "stream",
     "text": [
      "Train Epoch: 1 [0/60000\tLoss: 2.373567\n",
      "Train Epoch: 1 [6400/60000\tLoss: 0.674502\n",
      "Train Epoch: 1 [12800/60000\tLoss: 0.332137\n",
      "Train Epoch: 1 [19200/60000\tLoss: 0.099404\n",
      "Train Epoch: 1 [25600/60000\tLoss: 0.064545\n",
      "Train Epoch: 1 [32000/60000\tLoss: 0.097434\n",
      "Train Epoch: 1 [38400/60000\tLoss: 0.111015\n",
      "Train Epoch: 1 [44800/60000\tLoss: 0.064754\n",
      "Train Epoch: 1 [51200/60000\tLoss: 0.117620\n",
      "Train Epoch: 1 [57600/60000\tLoss: 0.113601\n",
      "\n",
      "Test set: Average loss: 0.0001, Accuracy: 9584/10000 (95.84%)\n",
      "\n",
      "Train Epoch: 2 [0/60000\tLoss: 0.099644\n",
      "Train Epoch: 2 [6400/60000\tLoss: 0.053664\n",
      "Train Epoch: 2 [12800/60000\tLoss: 0.033107\n",
      "Train Epoch: 2 [19200/60000\tLoss: 0.030053\n",
      "Train Epoch: 2 [25600/60000\tLoss: 0.017019\n",
      "Train Epoch: 2 [32000/60000\tLoss: 0.014436\n",
      "Train Epoch: 2 [38400/60000\tLoss: 0.131935\n",
      "Train Epoch: 2 [44800/60000\tLoss: 0.020872\n",
      "Train Epoch: 2 [51200/60000\tLoss: 0.029394\n",
      "Train Epoch: 2 [57600/60000\tLoss: 0.088458\n",
      "\n",
      "Test set: Average loss: 0.0000, Accuracy: 9865/10000 (98.65%)\n",
      "\n",
      "Train Epoch: 3 [0/60000\tLoss: 0.085414\n",
      "Train Epoch: 3 [6400/60000\tLoss: 0.074001\n",
      "Train Epoch: 3 [12800/60000\tLoss: 0.008853\n",
      "Train Epoch: 3 [19200/60000\tLoss: 0.050474\n",
      "Train Epoch: 3 [25600/60000\tLoss: 0.007687\n",
      "Train Epoch: 3 [32000/60000\tLoss: 0.020598\n",
      "Train Epoch: 3 [38400/60000\tLoss: 0.011565\n",
      "Train Epoch: 3 [44800/60000\tLoss: 0.036884\n",
      "Train Epoch: 3 [51200/60000\tLoss: 0.048371\n",
      "Train Epoch: 3 [57600/60000\tLoss: 0.016554\n",
      "\n",
      "Test set: Average loss: 0.0001, Accuracy: 9818/10000 (98.18%)\n",
      "\n",
      "Train Epoch: 4 [0/60000\tLoss: 0.004572\n",
      "Train Epoch: 4 [6400/60000\tLoss: 0.051636\n",
      "Train Epoch: 4 [12800/60000\tLoss: 0.029404\n",
      "Train Epoch: 4 [19200/60000\tLoss: 0.018484\n",
      "Train Epoch: 4 [25600/60000\tLoss: 0.012707\n",
      "Train Epoch: 4 [32000/60000\tLoss: 0.022444\n",
      "Train Epoch: 4 [38400/60000\tLoss: 0.006877\n",
      "Train Epoch: 4 [44800/60000\tLoss: 0.053493\n",
      "Train Epoch: 4 [51200/60000\tLoss: 0.017408\n",
      "Train Epoch: 4 [57600/60000\tLoss: 0.002948\n",
      "\n",
      "Test set: Average loss: 0.0001, Accuracy: 9837/10000 (98.37%)\n",
      "\n",
      "Train Epoch: 5 [0/60000\tLoss: 0.188219\n",
      "Train Epoch: 5 [6400/60000\tLoss: 0.002380\n",
      "Train Epoch: 5 [12800/60000\tLoss: 0.017477\n",
      "Train Epoch: 5 [19200/60000\tLoss: 0.099627\n",
      "Train Epoch: 5 [25600/60000\tLoss: 0.008937\n",
      "Train Epoch: 5 [32000/60000\tLoss: 0.077343\n",
      "Train Epoch: 5 [38400/60000\tLoss: 0.016463\n",
      "Train Epoch: 5 [44800/60000\tLoss: 0.091387\n",
      "Train Epoch: 5 [51200/60000\tLoss: 0.012449\n",
      "Train Epoch: 5 [57600/60000\tLoss: 0.055756\n",
      "\n",
      "Test set: Average loss: 0.0000, Accuracy: 9907/10000 (99.07%)\n",
      "\n"
     ]
    }
   ],
   "source": [
    "# --- Run Training ---\n",
    "device = torch.device(\"cuda\" if torch.cuda.is_available() else \"cpu\")\n",
    "model = ResNetMNIST().to(device)\n",
    "optimizer = optim.Adam(model.parameters(), lr=0.001)\n",
    "criterion = nn.CrossEntropyLoss()\n",
    "\n",
    "for epoch in range(1, 6):\n",
    "    train(model, device, train_loader, optimizer, criterion, epoch)\n",
    "    test(model, device, test_loader, criterion)"
   ]
  },
  {
   "cell_type": "markdown",
   "metadata": {},
   "source": [
    "## Results"
   ]
  },
  {
   "cell_type": "code",
   "execution_count": null,
   "metadata": {},
   "outputs": [
    {
     "data": {
      "image/png": "[encoded data removed]",
      "text/plain": [
       "<Figure size 640x480 with 1 Axes>"
      ]
     },
     "metadata": {},
     "output_type": "display_data"
    },
    {
     "data": {
      "image/png": "[encoded data removed]",
      "text/plain": [
       "<Figure size 640x480 with 1 Axes>"
      ]
     },
     "metadata": {},
     "output_type": "display_data"
    }
   ],
   "source": [
    "# --- Plot Training Loss and Test Accuracy ---\n",
    "epochs = range(1, len(train_losses) + 1)\n",
    "\n",
    "plt.figure()\n",
    "plt.plot(epochs, train_losses, label=\"Training Loss\")\n",
    "plt.xlabel(\"Epoch\")\n",
    "plt.ylabel(\"Loss\")\n",
    "plt.title(\"Training Loss Over Epochs\")\n",
    "plt.legend()\n",
    "plt.grid(True)\n",
    "plt.show()\n",
    "\n",
    "plt.figure()\n",
    "plt.plot(epochs, test_accuracies, label=\"Test Accuracy\")\n",
    "plt.xlabel(\"Epoch\")\n",
    "plt.ylabel(\"Accuracy (%)\")\n",
    "plt.title(\"Test Accuracy Over Epochs\")\n",
    "plt.legend()\n",
    "plt.grid(True)\n",
    "plt.show()"
   ]
  },
  {
   "cell_type": "markdown",
   "metadata": {},
   "source": [
    "# End of Documents"
   ]
  }
 ],
 "metadata": {
  "kernelspec": {
   "display_name": "Python 3",
   "language": "python",
   "name": "python3"
  },
  "language_info": {
   "codemirror_mode": {
    "name": "ipython",
    "version": 3
   },
   "file_extension": ".py",
   "mimetype": "text/x-python",
   "name": "python",
   "nbconvert_exporter": "python",
   "pygments_lexer": "ipython3",
   "version": "3.11.11"
  }
 },
 "nbformat": 4,
 "nbformat_minor": 2
}
