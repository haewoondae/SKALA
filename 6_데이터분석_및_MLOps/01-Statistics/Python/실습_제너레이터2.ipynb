{
 "cells": [
  {
   "cell_type": "code",
   "execution_count": 7,
   "id": "db21c718",
   "metadata": {},
   "outputs": [
    {
     "name": "stdout",
     "output_type": "stream",
     "text": [
      "제너레이터 총합: 166666166667000000\n",
      "제너레이터 메모리 사용량: 208 bytes\n",
      "제너레이터 실행 시간: 0.04089784622192383 seconds\n"
     ]
    }
   ],
   "source": [
    "import sys\n",
    "import time\n",
    "\n",
    "# 아래 조건을 만족하는 제너레이터 함수 even_square_gen(n)을 작성- 0 이상 n 미만의 정수 중 짝수만 제곱해서 하나씩 생성 (yield 활용)\n",
    "def even_square_gen(n):                        # 요구사항 만족하는 함수 정의\n",
    "    for i in range(n):                         # 0 이상 n 미만의 정수 중\n",
    "        if i % 2 == 0:                         # 짝수인 경우\n",
    "            yield i ** 2                       # 짝수의 제곱을 생성\n",
    "\n",
    "start_time_gen2 = time.time()                  # 제너레이터 시작 시간 측정\n",
    "gen2 = even_square_gen(1000000)                # 제너레이터 객체 생성\n",
    "sum_gen2 = sum(gen2)                           # 제너레이터를 사용하여 총합 계산\n",
    "end_time_gen2 = time.time()                    # 제너레이터 종료 시간 측정\n",
    "total_time_gen2 = end_time_gen2 - start_time_gen2   # 제너레이터 실행 시간 계산\n",
    "\n",
    "print(f\"제너레이터 총합: {sum_gen2}\")              # 제너레이터 총합 출력\n",
    "\n",
    "print('제너레이터 메모리 사용량:', sys.getsizeof(even_square_gen(1000000)), 'bytes')      # 제너레이터 메모리 사용량 출력\n",
    "\n",
    "print(f\"제너레이터 실행 시간: {total_time_gen2} seconds\")                # 제너레이터 실행 시간 출력\n"
   ]
  },
  {
   "cell_type": "code",
   "execution_count": 8,
   "id": "3b30e807",
   "metadata": {},
   "outputs": [
    {
     "name": "stdout",
     "output_type": "stream",
     "text": [
      "리스트 총합: 166666166667000000\n",
      "리스트 메모리 사용량: 4167352 bytes\n",
      "리스트 실행 시간: 0.048568010330200195 seconds\n"
     ]
    }
   ],
   "source": [
    "# 리스트 사용시의 결과 (list comprehension)\n",
    "\n",
    "start_time_list = time.time()                                      # 리스트 시작 시간 측정\n",
    "even_square_list = [i ** 2 for i in range(1000000) if i % 2 == 0]  # list comprehension을 사용하여 짝수의 제곱 리스트 생성\n",
    "sum_list = sum(even_square_list)                                   # 리스트의 총합 계산\n",
    "end_time_list = time.time()                                        # 리스트 종료 시간 측정\n",
    "total_time_list = end_time_list - start_time_list                  # 리스트 실행 시간 계산\n",
    "\n",
    "print(f\"리스트 총합: {sum_list}\")                                     # 리스트 총합 출력\n",
    "\n",
    "print('리스트 메모리 사용량:', sys.getsizeof(even_square_list),'bytes') # 리스트 메모리 사용량 출력\n",
    "\n",
    "print(f\"리스트 실행 시간: {total_time_list} seconds\")                # 리스트 실행 시간 출력\n"
   ]
  },
  {
   "cell_type": "code",
   "execution_count": null,
   "id": "a34c67b5",
   "metadata": {},
   "outputs": [
    {
     "name": "stdout",
     "output_type": "stream",
     "text": [
      "두 방식의 메모리 사용량 차이: 4167144 bytes\n",
      "두 방식의 실행 시간 차이: 0.007670164108276367 seconds\n"
     ]
    }
   ],
   "source": [
    "# 3) 두 방법의 메모리 사용 차이를 sys.getsizeof()로 확인.\n",
    "print('두 방식의 메모리 사용량 차이:', sys.getsizeof(even_square_list)-sys.getsizeof(even_square_gen(1000000)), 'bytes') # 메모리 차이 출력\n",
    "print('두 방식의 실행 시간 차이:', total_time_list - total_time_gen2, 'seconds')                                        # 실행 시간 차이 출력\n"
   ]
  }
 ],
 "metadata": {
  "kernelspec": {
   "display_name": "Python 3",
   "language": "python",
   "name": "python3"
  },
  "language_info": {
   "codemirror_mode": {
    "name": "ipython",
    "version": 3
   },
   "file_extension": ".py",
   "mimetype": "text/x-python",
   "name": "python",
   "nbconvert_exporter": "python",
   "pygments_lexer": "ipython3",
   "version": "3.11.9"
  }
 },
 "nbformat": 4,
 "nbformat_minor": 5
}
