{
 "cells": [
  {
   "cell_type": "code",
   "execution_count": null,
   "id": "db21c718",
   "metadata": {},
   "outputs": [
    {
     "name": "stdout",
     "output_type": "stream",
     "text": [
      "[0, 1, 2, 3, 4, 5, 6, 7, 8, 9]\n",
      "[999990, 999991, 999992, 999993, 999994, 999995, 999996, 999997, 999998, 999999]\n",
      "499999500000\n",
      "리스트 메모리 사용량: 8448728 bytes\n"
     ]
    }
   ],
   "source": [
    "import sys\n",
    "\n",
    "# 1) 0부터 999,999까지의 정수를 담는 리스트를 생성하고 총합 구하기.\n",
    "num_list = []                                               # 숫자 리스트 생성\n",
    "for i in range(1000000):                                    # 0부터 999999까지의 숫자\n",
    "    num_list.append(i)                                      # 리스트에 숫자 추가\n",
    "\n",
    "print(num_list[:10])                                        # 처음 10개 요소 출력\n",
    "print(num_list[-10:])                                       # 마지막 10개 요소 출력\n",
    "print(sum(num_list))                                        # 총합 출력\n",
    "\n",
    "print(f\"리스트 메모리 사용량: {sys.getsizeof(num_list)} bytes\")  # 리스트 메모리 사용량\n"
   ]
  },
  {
   "cell_type": "code",
   "execution_count": 16,
   "id": "3b30e807",
   "metadata": {},
   "outputs": [
    {
     "name": "stdout",
     "output_type": "stream",
     "text": [
      "[0, 1, 2, 3, 4, 5, 6, 7, 8, 9]\n",
      "[]\n",
      "제너레이터 총합: 49999995000000\n",
      "제너레이터 메모리 사용량: 208 bytes\n"
     ]
    }
   ],
   "source": [
    "# 2) 같은 결과를 제너레이터 함수로 구현.\n",
    "def num_generator(n=10000000):      # 기본값을 10000000으로 설정\n",
    "    for i in range(n):              # 0부터 n-1까지의 숫자 생성\n",
    "        yield i                     # 제너레이터로 숫자 반환 (return과 달리 중단 상태를 저장하고 다음 호출 시 이어서 실행)\n",
    "\n",
    "gen_list = num_generator()\n",
    "\n",
    "print(list(gen_list)[:10])         # print(gen_list[:10]) 은 오류 발생 - 제너레이터는 한 번만 순회 가능\n",
    "print(list(gen_list)[-10:])        # 마지막 10개 요소 출력이 되지 않고 빈 리스트 반환 - 두번째 호출 시 제너레이터가 이미 소진됨\n",
    "\n",
    "# 제너레이터를 다시 생성\n",
    "gen_list = num_generator()\n",
    "\n",
    "sum_gen_list = sum(gen_list)       # 제너레이터의 총합 계산\n",
    "print(f\"제너레이터 총합: {sum_gen_list}\")  # 제너레이터의 총합 출력\n",
    "\n",
    "print(f\"제너레이터 메모리 사용량: {sys.getsizeof(gen_list)} bytes\")  # 제너레이터 메모리 사용량"
   ]
  },
  {
   "cell_type": "code",
   "execution_count": null,
   "id": "a34c67b5",
   "metadata": {},
   "outputs": [
    {
     "name": "stdout",
     "output_type": "stream",
     "text": [
      "두 방식의 메모리 사용량 비교: 8448520 bytes\n"
     ]
    }
   ],
   "source": [
    "# 3) 두 방법의 메모리 사용 차이를 sys.getsizeof()로 확인.\n",
    "print('두 방식의 메모리 사용량 비교:', sys.getsizeof(num_list)-sys.getsizeof(gen_list), 'bytes') # 차이 출력"
   ]
  }
 ],
 "metadata": {
  "kernelspec": {
   "display_name": "Python 3",
   "language": "python",
   "name": "python3"
  },
  "language_info": {
   "codemirror_mode": {
    "name": "ipython",
    "version": 3
   },
   "file_extension": ".py",
   "mimetype": "text/x-python",
   "name": "python",
   "nbconvert_exporter": "python",
   "pygments_lexer": "ipython3",
   "version": "3.11.9"
  }
 },
 "nbformat": 4,
 "nbformat_minor": 5
}
