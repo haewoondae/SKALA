{
 "cells": [
  {
   "cell_type": "code",
   "execution_count": null,
   "id": "5c1364c6",
   "metadata": {},
   "outputs": [
    {
     "data": {
      "text/plain": [
       "dict"
      ]
     },
     "execution_count": 2,
     "metadata": {},
     "output_type": "execute_result"
    }
   ],
   "source": [
    "employees = [\n",
    "  {\"name\": \"Alice\", \"department\": \"Engineering\", \"age\": 30, \"salary\": 85000},\n",
    "  {\"name\": \"Bob\", \"department\": \"Marketing\", \"age\": 25, \"salary\": 60000},\n",
    "  {\"name\": \"Charlie\", \"department\": \"Engineering\", \"age\": 35, \"salary\": 95000},\n",
    "  {\"name\": \"David\", \"department\": \"HR\", \"age\": 45, \"salary\": 70000},\n",
    "  {\"name\": \"Eve\", \"department\": \"Engineering\", \"age\": 28, \"salary\": 78000},\n",
    "]\n",
    "\n",
    "type(employees[0])\n"
   ]
  },
  {
   "cell_type": "code",
   "execution_count": null,
   "id": "3ac4ce9c",
   "metadata": {},
   "outputs": [
    {
     "name": "stdout",
     "output_type": "stream",
     "text": [
      "['Alice', 'Charlie']\n"
     ]
    }
   ],
   "source": [
    "# 1) 부서가 \"Engineering\"이고 salary >= 80000인 직원들의 이름만 리스트로 출력하세요.\n",
    "\n",
    "employees_condition1 = []                                                        # 조건에 맞는 직원 이름 저장 리스트\n",
    "for emp in employees:\n",
    "    if emp[\"department\"] == \"Engineering\" and emp[\"salary\"] >= 80000:         # 조건 검사\n",
    "        employees_condition1.append(emp[\"name\"])                               # 이름 추가\n",
    "\n",
    "print(employees_condition1)                                                      # 결과 출력"
   ]
  },
  {
   "cell_type": "code",
   "execution_count": null,
   "id": "2140365a",
   "metadata": {},
   "outputs": [
    {
     "name": "stdout",
     "output_type": "stream",
     "text": [
      "[('Alice', 'Engineering'), ('Charlie', 'Engineering'), ('David', 'HR')]\n"
     ]
    }
   ],
   "source": [
    "# 2) 30세 이상인 직원의 이름과 부서를 튜플 (name, department) 형태로 리스트로 출력하세요.\n",
    "employees_condition2 = []                                                        # 조건에 맞는 (이름, 부서) 저장 리스트\n",
    "\n",
    "for emp in employees:\n",
    "    if emp[\"age\"] >= 30:                                                        # 조건 검사\n",
    "        employees_condition2.append((emp['name'], emp['department']))            # 튜플 추가\n",
    "        \n",
    "print(employees_condition2)                                                      # 결과 출력"
   ]
  },
  {
   "cell_type": "code",
   "execution_count": null,
   "id": "5f338e5d",
   "metadata": {},
   "outputs": [
    {
     "name": "stdout",
     "output_type": "stream",
     "text": [
      "[('Alice', 'Engineering'), ('Charlie', 'Engineering'), ('David', 'HR')]\n"
     ]
    }
   ],
   "source": [
    "# 3) 급여 기준으로 직원 리스트를 salary 내림차순으로 정렬하고, 상위 3명의 이름과 급여를 출력하세요.\n",
    "employees_sorted = sorted(employees, key=lambda x:x['salary'], reverse=True)      # 급여 내림차순 정렬\n",
    "\n",
    "print(employees_sorted)                                                          # 정렬된 전체 리스트 출력\n",
    "\n",
    "for i in range(3):                                                               # 상위 3명 출력\n",
    "    print(employees_sorted[i]['name'], employees_sorted[i]['salary'])            # 이름과 급여 출력"
   ]
  },
  {
   "cell_type": "code",
   "execution_count": null,
   "id": "432c93f6",
   "metadata": {},
   "outputs": [
    {
     "name": "stdout",
     "output_type": "stream",
     "text": [
      "[{'name': 'Charlie', 'department': 'Engineering', 'age': 35, 'salary': 95000}, {'name': 'Alice', 'department': 'Engineering', 'age': 30, 'salary': 85000}, {'name': 'Eve', 'department': 'Engineering', 'age': 28, 'salary': 78000}, {'name': 'David', 'department': 'HR', 'age': 45, 'salary': 70000}, {'name': 'Bob', 'department': 'Marketing', 'age': 25, 'salary': 60000}]\n",
      "Charlie 95000\n",
      "Alice 85000\n",
      "Eve 78000\n"
     ]
    }
   ],
   "source": [
    "# 4) 모든 부서별 평균 급여를 출력하는 코드를 작성해보세요\n",
    "\n",
    "total_dep_salary = {}                                               # 부서별 총 급여 및 직원 수\n",
    "\n",
    "for emp in employees:\n",
    "    dep = emp['department']\n",
    "    if dep not in total_dep_salary:                                 # 부서가 처음 등장하면 기본값 설정\n",
    "        total_dep_salary[dep] = {'total_salary': 0, 'count': 0}\n",
    "    total_dep_salary[dep]['total_salary'] += emp['salary']          # 부서별 총 급여 합산\n",
    "    total_dep_salary[dep]['count'] += 1                             # 부서별 직원 수 카운트\n",
    "\n",
    "for dep, data in total_dep_salary.items():\n",
    "    avg_salary = data['total_salary'] / data['count']               # 부서별 평균 급여 계산\n",
    "    print(f\"부서: {dep}, 평균 급여: {avg_salary}\")\n"
   ]
  }
 ],
 "metadata": {
  "kernelspec": {
   "display_name": "Python 3",
   "language": "python",
   "name": "python3"
  },
  "language_info": {
   "codemirror_mode": {
    "name": "ipython",
    "version": 3
   },
   "file_extension": ".py",
   "mimetype": "text/x-python",
   "name": "python",
   "nbconvert_exporter": "python",
   "pygments_lexer": "ipython3",
   "version": "3.11.9"
  }
 },
 "nbformat": 4,
 "nbformat_minor": 5
}
