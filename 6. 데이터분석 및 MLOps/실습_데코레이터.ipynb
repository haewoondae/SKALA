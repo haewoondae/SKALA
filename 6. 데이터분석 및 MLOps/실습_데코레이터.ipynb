{
 "cells": [
  {
   "cell_type": "code",
   "execution_count": 7,
   "id": "e7580512",
   "metadata": {},
   "outputs": [
    {
     "name": "stdout",
     "output_type": "stream",
     "text": [
      "실행 시간: 1.5051초\n",
      "함수 결과: 완료\n"
     ]
    }
   ],
   "source": [
    "import time\n",
    "\n",
    "# 데코레이터 함수 구현\n",
    "def measure_time(func):\n",
    "    def wrapper(*args, **kwargs):\n",
    "        start_time = time.time()\n",
    "        result = func(*args, **kwargs)\n",
    "        end_time = time.time()\n",
    "        execution_time = end_time - start_time\n",
    "        print(f'실행 시간: {execution_time:.4f}초')\n",
    "        return result\n",
    "    return wrapper\n",
    "\n",
    "\n",
    "# 테스트용 함수\n",
    "@measure_time\n",
    "def slow_function():\n",
    "    time.sleep(1.5) \n",
    "    return \"완료\"\n",
    "\n",
    "# 실행\n",
    "result = slow_function()\n",
    "print(\"함수 결과:\", result)"
   ]
  },
  {
   "cell_type": "code",
   "execution_count": null,
   "id": "f4e4a8bb",
   "metadata": {},
   "outputs": [],
   "source": []
  },
  {
   "cell_type": "code",
   "execution_count": null,
   "id": "8f97ee76",
   "metadata": {},
   "outputs": [],
   "source": []
  }
 ],
 "metadata": {
  "kernelspec": {
   "display_name": "Python 3",
   "language": "python",
   "name": "python3"
  },
  "language_info": {
   "codemirror_mode": {
    "name": "ipython",
    "version": 3
   },
   "file_extension": ".py",
   "mimetype": "text/x-python",
   "name": "python",
   "nbconvert_exporter": "python",
   "pygments_lexer": "ipython3",
   "version": "3.11.9"
  }
 },
 "nbformat": 4,
 "nbformat_minor": 5
}
