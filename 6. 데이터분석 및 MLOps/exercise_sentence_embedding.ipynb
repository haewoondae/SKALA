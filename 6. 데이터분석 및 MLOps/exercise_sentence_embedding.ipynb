{
 "cells": [
  {
   "cell_type": "code",
   "execution_count": null,
   "id": "1c432487",
   "metadata": {},
   "outputs": [],
   "source": [
    "from sentence_transformers import SentenceTransformer                      # 문장 임베딩 생성을 위한 Transformer 모델\n",
    "import psycopg2                                                        # PostgreSQL 데이터베이스 연결 라이브러리\n",
    "from pgvector.psycopg2 import register_vector                          # pgvector 확장을 위한 벡터 타입 등록\n",
    "\n",
    "# DB 접속 정보 (본인 환경에 맞게 수정)\n",
    "DB_NAME = \"postgres\"                                                   # 데이터베이스 이름\n",
    "DB_USER = \"postgres\"                                                   # 데이터베이스 사용자명\n",
    "DB_PASSWORD = \"0430\"                                                   # 데이터베이스 비밀번호\n",
    "DB_HOST = \"localhost\"                                                  # 데이터베이스 호스트 주소\n",
    "\n",
    "# DB 연결\n",
    "conn = psycopg2.connect(dbname=\"postgres\", user=\"postgres\", password=\"0430\", host=\"localhost\")  # PostgreSQL 연결 객체 생성\n",
    "cur = conn.cursor()                                                    # 쿼리 실행을 위한 커서 객체 생성\n",
    "\n",
    "# pgvector 타입 등록\n",
    "register_vector(conn)                                                  # PostgreSQL에서 vector 타입 사용 가능하도록 등록"
   ]
  },
  {
   "cell_type": "code",
   "execution_count": null,
   "id": "2fbdb628",
   "metadata": {},
   "outputs": [],
   "source": [
    "# 모델 로드\n",
    "model = SentenceTransformer('sentence-transformers/paraphrase-MiniLM-L6-v2')  # 384차원 임베딩을 생성하는 다국어 모델 로드\n",
    "\n",
    "# 리뷰 데이터\n",
    "reviews = [                                                            # 테스트용 샘플 리뷰 데이터 리스트\n",
    "    \"배송이 빠르고 제품도 좋아요.\",                                        # 긍정적 배송/품질 리뷰\n",
    "    \"품질이 기대 이상입니다!\",                                           # 품질 만족 리뷰\n",
    "    \"생각보다 배송이 오래 걸렸어요.\",                                      # 배송 지연 불만 리뷰\n",
    "    \"배송은 느렸지만 포장은 안전했어요.\",                                   # 배송/포장 혼합 평가 리뷰\n",
    "    \"아주 만족스러운 제품입니다.\"                                         # 전반적 만족 리뷰\n",
    "]\n",
    "\n",
    "# 리뷰 임베딩 생성\n",
    "embeddings = model.encode(reviews)                                     # 리뷰 텍스트를 384차원 벡터로 변환 (numpy array 반환)"
   ]
  },
  {
   "cell_type": "code",
   "execution_count": null,
   "id": "3c783177",
   "metadata": {},
   "outputs": [],
   "source": [
    "cur.execute(\"CREATE EXTENSION IF NOT EXISTS vector;\")                 # pgvector 확장 생성 (벡터 연산을 위한 PostgreSQL 확장)\n",
    "conn.commit()                                                          # 변경사항을 데이터베이스에 반영\n",
    "\n",
    "cur.execute(\"\"\"                                                        \n",
    "CREATE TABLE IF NOT EXISTS review_vectors (\n",
    "    id SERIAL PRIMARY KEY,                                             \n",
    "    review TEXT,                                                       \n",
    "    embedding VECTOR(384)                                              \n",
    ");\n",
    "\"\"\")\n",
    "conn.commit()                                                          # 테이블 생성 쿼리 실행 결과 커밋"
   ]
  },
  {
   "cell_type": "code",
   "execution_count": null,
   "id": "50cfe73a",
   "metadata": {},
   "outputs": [],
   "source": [
    "insert_sql = \"INSERT INTO review_vectors (review, embedding) VALUES (%s, %s)\"  # 리뷰와 임베딩을 테이블에 삽입하는 SQL 쿼리\n",
    "for review, embedding in zip(reviews, embeddings):                     # 리뷰 텍스트와 해당 임베딩을 순회\n",
    "    cur.execute(insert_sql, (review, embedding.tolist()))             # numpy array를 list로 변환하여 DB에 저장\n",
    "conn.commit()                                                          # 모든 데이터 삽입 작업을 데이터베이스에 최종 반영"
   ]
  },
  {
   "cell_type": "code",
   "execution_count": null,
   "id": "e67b6616",
   "metadata": {},
   "outputs": [],
   "source": [
    "# 모델 로딩\n",
    "model = SentenceTransformer('sentence-transformers/paraphrase-MiniLM-L6-v2')  # 동일한 모델을 다시 로드 (일관성 유지)\n",
    "\n",
    "reviews = [                                                            # 추가 데이터 삽입용 리뷰 리스트 (중복 데이터)\n",
    "    \"배송이 빠르고 제품도 좋아요.\",                                        # 긍정적 배송/품질 리뷰\n",
    "    \"품질이 기대 이상입니다!\",                                           # 품질 만족 리뷰  \n",
    "    \"생각보다 배송이 오래 걸렸어요.\",                                      # 배송 지연 불만 리뷰\n",
    "    \"배송은 느렸지만 포장은 안전했어요.\",                                   # 배송/포장 혼합 평가 리뷰\n",
    "    \"아주 만족스러운 제품입니다.\"                                         # 전반적 만족 리뷰\n",
    "]\n",
    "\n",
    "insert_sql = \"INSERT INTO review_vectors (review, embedding) VALUES (%s, %s)\"  # 데이터 삽입 SQL 쿼리 정의\n",
    "for review in reviews:                                                 # 각 리뷰에 대해 개별적으로 처리\n",
    "    embedding = model.encode(review).tolist()                          # 리뷰를 실시간으로 임베딩하고 list로 변환\n",
    "    cur.execute(insert_sql, (review, embedding))                       # 리뷰와 임베딩을 데이터베이스에 삽입\n",
    "conn.commit()                                                          # 모든 삽입 작업을 데이터베이스에 반영"
   ]
  },
  {
   "cell_type": "code",
   "execution_count": 6,
   "id": "681ce278",
   "metadata": {},
   "outputs": [],
   "source": [
    "from pgvector import Vector\n",
    "\n",
    "query_text = \"배송이 느렸어요\"\n",
    "query_vec = Vector(model.encode(query_text).tolist())\n",
    "\n",
    "select_sql =  \"\"\"\n",
    "    SELECT review, embedding, (1 - (embedding <=> %s::vector)) AS similarity\n",
    "    FROM review_vectors\n",
    "    ORDER BY similarity DESC\n",
    "    LIMIT 3;\n",
    "\"\"\"\n",
    "\n",
    "cur.execute(select_sql, (query_vec,))\n",
    "results = cur.fetchall()\n"
   ]
  },
  {
   "cell_type": "code",
   "execution_count": 7,
   "id": "2874d57b",
   "metadata": {},
   "outputs": [],
   "source": [
    "cur.close()\n",
    "conn.close()\n"
   ]
  },
  {
   "cell_type": "code",
   "execution_count": 8,
   "id": "b6ead2a4",
   "metadata": {},
   "outputs": [
    {
     "name": "stdout",
     "output_type": "stream",
     "text": [
      "쿼리: 배송이 느렸어요\n",
      "유사한 리뷰:\n",
      "--------------------------------------------------\n",
      "리뷰                                                 | 유사도       \n",
      "--------------------------------------------------\n",
      "내구성이 약해 쉽게 부서졌습니다.                                 | 0.9417\n",
      "사이즈가 맞지 않아 반품했습니다.                                 | 0.9356\n",
      "배송 상태가 엉망이었습니다.                                    | 0.9301\n"
     ]
    }
   ],
   "source": [
    "# 결과 확인\n",
    "print(\"쿼리:\", query_text)\n",
    "print(\"유사한 리뷰:\")\n",
    "print(\"-\" * 50)\n",
    "print(f\"{'리뷰':<50} | {'유사도':<10}\")\n",
    "print(\"-\" * 50)\n",
    "print(\"\\n\".join(f\"{review[:50]:<50} | {similarity:.4f}\" for review, _, similarity in results))  \n"
   ]
  }
 ],
 "metadata": {
  "kernelspec": {
   "display_name": "Python 3",
   "language": "python",
   "name": "python3"
  },
  "language_info": {
   "codemirror_mode": {
    "name": "ipython",
    "version": 3
   },
   "file_extension": ".py",
   "mimetype": "text/x-python",
   "name": "python",
   "nbconvert_exporter": "python",
   "pygments_lexer": "ipython3",
   "version": "3.11.9"
  }
 },
 "nbformat": 4,
 "nbformat_minor": 5
}
